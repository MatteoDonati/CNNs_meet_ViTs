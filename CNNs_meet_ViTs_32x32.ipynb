{
  "nbformat": 4,
  "nbformat_minor": 0,
  "metadata": {
    "colab": {
      "provenance": [],
      "collapsed_sections": [
        "BFVvggVfZuN1",
        "rk5IqtHwZyfV",
        "bpKz7V32su2f",
        "34JWWDLFPwJi",
        "Z3tA4hXcRwt6",
        "GBo9AEepRzjQ",
        "I_el6fkXlEEm",
        "I6gNoTUjPqvL",
        "ClULEfjlPu56",
        "Fkjn8hY6P0tX",
        "Xen_6qHLP4NB",
        "YcLP1vBnmayl",
        "d5MU-6pmrYiq",
        "PHqUD8h6Gzb8"
      ]
    },
    "kernelspec": {
      "name": "python3",
      "display_name": "Python 3"
    },
    "language_info": {
      "name": "python"
    },
    "accelerator": "GPU",
    "gpuClass": "standard",
    "widgets": {
      "application/vnd.jupyter.widget-state+json": {
        "5575d5994d944a6db3cd92cc7bb15df0": {
          "model_module": "@jupyter-widgets/controls",
          "model_name": "HBoxModel",
          "model_module_version": "1.5.0",
          "state": {
            "_dom_classes": [],
            "_model_module": "@jupyter-widgets/controls",
            "_model_module_version": "1.5.0",
            "_model_name": "HBoxModel",
            "_view_count": null,
            "_view_module": "@jupyter-widgets/controls",
            "_view_module_version": "1.5.0",
            "_view_name": "HBoxView",
            "box_style": "",
            "children": [
              "IPY_MODEL_199f6d0e7f1a496db95b10152dbf122f",
              "IPY_MODEL_463ede9797e14f0e88b1339d33e6f862",
              "IPY_MODEL_ea7b436211954c1da782a97d56052b02"
            ],
            "layout": "IPY_MODEL_0e820e7c9f93496f8ec26b93b22b6e49"
          }
        },
        "199f6d0e7f1a496db95b10152dbf122f": {
          "model_module": "@jupyter-widgets/controls",
          "model_name": "HTMLModel",
          "model_module_version": "1.5.0",
          "state": {
            "_dom_classes": [],
            "_model_module": "@jupyter-widgets/controls",
            "_model_module_version": "1.5.0",
            "_model_name": "HTMLModel",
            "_view_count": null,
            "_view_module": "@jupyter-widgets/controls",
            "_view_module_version": "1.5.0",
            "_view_name": "HTMLView",
            "description": "",
            "description_tooltip": null,
            "layout": "IPY_MODEL_1bb770d74f8a4b19aabb0a81c5c1a473",
            "placeholder": "​",
            "style": "IPY_MODEL_881efb32a51a4ad4b4e29ea55564b3d5",
            "value": "100%"
          }
        },
        "463ede9797e14f0e88b1339d33e6f862": {
          "model_module": "@jupyter-widgets/controls",
          "model_name": "FloatProgressModel",
          "model_module_version": "1.5.0",
          "state": {
            "_dom_classes": [],
            "_model_module": "@jupyter-widgets/controls",
            "_model_module_version": "1.5.0",
            "_model_name": "FloatProgressModel",
            "_view_count": null,
            "_view_module": "@jupyter-widgets/controls",
            "_view_module_version": "1.5.0",
            "_view_name": "ProgressView",
            "bar_style": "success",
            "description": "",
            "description_tooltip": null,
            "layout": "IPY_MODEL_378a67a6cebc48b9b9bccd5a73a83f7f",
            "max": 170498071,
            "min": 0,
            "orientation": "horizontal",
            "style": "IPY_MODEL_2a6b84435c154b98b3e86c8b1baf75c3",
            "value": 170498071
          }
        },
        "ea7b436211954c1da782a97d56052b02": {
          "model_module": "@jupyter-widgets/controls",
          "model_name": "HTMLModel",
          "model_module_version": "1.5.0",
          "state": {
            "_dom_classes": [],
            "_model_module": "@jupyter-widgets/controls",
            "_model_module_version": "1.5.0",
            "_model_name": "HTMLModel",
            "_view_count": null,
            "_view_module": "@jupyter-widgets/controls",
            "_view_module_version": "1.5.0",
            "_view_name": "HTMLView",
            "description": "",
            "description_tooltip": null,
            "layout": "IPY_MODEL_4cc6bd76204b449ba09ccf838270e797",
            "placeholder": "​",
            "style": "IPY_MODEL_dae692fe16c84dba8ef9ff8ce9f705c5",
            "value": " 170498071/170498071 [00:03&lt;00:00, 54262285.77it/s]"
          }
        },
        "0e820e7c9f93496f8ec26b93b22b6e49": {
          "model_module": "@jupyter-widgets/base",
          "model_name": "LayoutModel",
          "model_module_version": "1.2.0",
          "state": {
            "_model_module": "@jupyter-widgets/base",
            "_model_module_version": "1.2.0",
            "_model_name": "LayoutModel",
            "_view_count": null,
            "_view_module": "@jupyter-widgets/base",
            "_view_module_version": "1.2.0",
            "_view_name": "LayoutView",
            "align_content": null,
            "align_items": null,
            "align_self": null,
            "border": null,
            "bottom": null,
            "display": null,
            "flex": null,
            "flex_flow": null,
            "grid_area": null,
            "grid_auto_columns": null,
            "grid_auto_flow": null,
            "grid_auto_rows": null,
            "grid_column": null,
            "grid_gap": null,
            "grid_row": null,
            "grid_template_areas": null,
            "grid_template_columns": null,
            "grid_template_rows": null,
            "height": null,
            "justify_content": null,
            "justify_items": null,
            "left": null,
            "margin": null,
            "max_height": null,
            "max_width": null,
            "min_height": null,
            "min_width": null,
            "object_fit": null,
            "object_position": null,
            "order": null,
            "overflow": null,
            "overflow_x": null,
            "overflow_y": null,
            "padding": null,
            "right": null,
            "top": null,
            "visibility": null,
            "width": null
          }
        },
        "1bb770d74f8a4b19aabb0a81c5c1a473": {
          "model_module": "@jupyter-widgets/base",
          "model_name": "LayoutModel",
          "model_module_version": "1.2.0",
          "state": {
            "_model_module": "@jupyter-widgets/base",
            "_model_module_version": "1.2.0",
            "_model_name": "LayoutModel",
            "_view_count": null,
            "_view_module": "@jupyter-widgets/base",
            "_view_module_version": "1.2.0",
            "_view_name": "LayoutView",
            "align_content": null,
            "align_items": null,
            "align_self": null,
            "border": null,
            "bottom": null,
            "display": null,
            "flex": null,
            "flex_flow": null,
            "grid_area": null,
            "grid_auto_columns": null,
            "grid_auto_flow": null,
            "grid_auto_rows": null,
            "grid_column": null,
            "grid_gap": null,
            "grid_row": null,
            "grid_template_areas": null,
            "grid_template_columns": null,
            "grid_template_rows": null,
            "height": null,
            "justify_content": null,
            "justify_items": null,
            "left": null,
            "margin": null,
            "max_height": null,
            "max_width": null,
            "min_height": null,
            "min_width": null,
            "object_fit": null,
            "object_position": null,
            "order": null,
            "overflow": null,
            "overflow_x": null,
            "overflow_y": null,
            "padding": null,
            "right": null,
            "top": null,
            "visibility": null,
            "width": null
          }
        },
        "881efb32a51a4ad4b4e29ea55564b3d5": {
          "model_module": "@jupyter-widgets/controls",
          "model_name": "DescriptionStyleModel",
          "model_module_version": "1.5.0",
          "state": {
            "_model_module": "@jupyter-widgets/controls",
            "_model_module_version": "1.5.0",
            "_model_name": "DescriptionStyleModel",
            "_view_count": null,
            "_view_module": "@jupyter-widgets/base",
            "_view_module_version": "1.2.0",
            "_view_name": "StyleView",
            "description_width": ""
          }
        },
        "378a67a6cebc48b9b9bccd5a73a83f7f": {
          "model_module": "@jupyter-widgets/base",
          "model_name": "LayoutModel",
          "model_module_version": "1.2.0",
          "state": {
            "_model_module": "@jupyter-widgets/base",
            "_model_module_version": "1.2.0",
            "_model_name": "LayoutModel",
            "_view_count": null,
            "_view_module": "@jupyter-widgets/base",
            "_view_module_version": "1.2.0",
            "_view_name": "LayoutView",
            "align_content": null,
            "align_items": null,
            "align_self": null,
            "border": null,
            "bottom": null,
            "display": null,
            "flex": null,
            "flex_flow": null,
            "grid_area": null,
            "grid_auto_columns": null,
            "grid_auto_flow": null,
            "grid_auto_rows": null,
            "grid_column": null,
            "grid_gap": null,
            "grid_row": null,
            "grid_template_areas": null,
            "grid_template_columns": null,
            "grid_template_rows": null,
            "height": null,
            "justify_content": null,
            "justify_items": null,
            "left": null,
            "margin": null,
            "max_height": null,
            "max_width": null,
            "min_height": null,
            "min_width": null,
            "object_fit": null,
            "object_position": null,
            "order": null,
            "overflow": null,
            "overflow_x": null,
            "overflow_y": null,
            "padding": null,
            "right": null,
            "top": null,
            "visibility": null,
            "width": null
          }
        },
        "2a6b84435c154b98b3e86c8b1baf75c3": {
          "model_module": "@jupyter-widgets/controls",
          "model_name": "ProgressStyleModel",
          "model_module_version": "1.5.0",
          "state": {
            "_model_module": "@jupyter-widgets/controls",
            "_model_module_version": "1.5.0",
            "_model_name": "ProgressStyleModel",
            "_view_count": null,
            "_view_module": "@jupyter-widgets/base",
            "_view_module_version": "1.2.0",
            "_view_name": "StyleView",
            "bar_color": null,
            "description_width": ""
          }
        },
        "4cc6bd76204b449ba09ccf838270e797": {
          "model_module": "@jupyter-widgets/base",
          "model_name": "LayoutModel",
          "model_module_version": "1.2.0",
          "state": {
            "_model_module": "@jupyter-widgets/base",
            "_model_module_version": "1.2.0",
            "_model_name": "LayoutModel",
            "_view_count": null,
            "_view_module": "@jupyter-widgets/base",
            "_view_module_version": "1.2.0",
            "_view_name": "LayoutView",
            "align_content": null,
            "align_items": null,
            "align_self": null,
            "border": null,
            "bottom": null,
            "display": null,
            "flex": null,
            "flex_flow": null,
            "grid_area": null,
            "grid_auto_columns": null,
            "grid_auto_flow": null,
            "grid_auto_rows": null,
            "grid_column": null,
            "grid_gap": null,
            "grid_row": null,
            "grid_template_areas": null,
            "grid_template_columns": null,
            "grid_template_rows": null,
            "height": null,
            "justify_content": null,
            "justify_items": null,
            "left": null,
            "margin": null,
            "max_height": null,
            "max_width": null,
            "min_height": null,
            "min_width": null,
            "object_fit": null,
            "object_position": null,
            "order": null,
            "overflow": null,
            "overflow_x": null,
            "overflow_y": null,
            "padding": null,
            "right": null,
            "top": null,
            "visibility": null,
            "width": null
          }
        },
        "dae692fe16c84dba8ef9ff8ce9f705c5": {
          "model_module": "@jupyter-widgets/controls",
          "model_name": "DescriptionStyleModel",
          "model_module_version": "1.5.0",
          "state": {
            "_model_module": "@jupyter-widgets/controls",
            "_model_module_version": "1.5.0",
            "_model_name": "DescriptionStyleModel",
            "_view_count": null,
            "_view_module": "@jupyter-widgets/base",
            "_view_module_version": "1.2.0",
            "_view_name": "StyleView",
            "description_width": ""
          }
        }
      }
    }
  },
  "cells": [
    {
      "cell_type": "markdown",
      "source": [
        "<center>\n",
        "    <h1> Machine Learning for Computer Vision</h1>\n",
        "    <h2> Project Work (2/2) </h2>\n",
        "    <a href=\"mailto:matteo.donati10@studio.unibo.it\">Matteo Donati</a> (ID: 0001032227)\n",
        "</center>\n",
        "\n",
        "<br>"
      ],
      "metadata": {
        "id": "hgXhyNHqFtSo"
      }
    },
    {
      "cell_type": "markdown",
      "source": [
        "## Libraries"
      ],
      "metadata": {
        "id": "BFVvggVfZuN1"
      }
    },
    {
      "cell_type": "code",
      "source": [
        "!pip install -U \"git+https://github.com/facebookresearch/fvcore\""
      ],
      "metadata": {
        "id": "3_nDIeMzeLdV",
        "colab": {
          "base_uri": "https://localhost:8080/"
        },
        "outputId": "964058e4-0bf3-47ae-f3b0-eb49ccb300a5"
      },
      "execution_count": 1,
      "outputs": [
        {
          "output_type": "stream",
          "name": "stdout",
          "text": [
            "Looking in indexes: https://pypi.org/simple, https://us-python.pkg.dev/colab-wheels/public/simple/\n",
            "Collecting git+https://github.com/facebookresearch/fvcore\n",
            "  Cloning https://github.com/facebookresearch/fvcore to /tmp/pip-req-build-tfynlf9a\n",
            "  Running command git clone --filter=blob:none --quiet https://github.com/facebookresearch/fvcore /tmp/pip-req-build-tfynlf9a\n",
            "  Resolved https://github.com/facebookresearch/fvcore to commit 3120dd1af6a60528460e61eab42c94926c6ebbe5\n",
            "  Preparing metadata (setup.py) ... \u001b[?25l\u001b[?25hdone\n",
            "Requirement already satisfied: numpy in /usr/local/lib/python3.8/dist-packages (from fvcore==0.1.6) (1.21.6)\n",
            "Collecting yacs>=0.1.6\n",
            "  Downloading yacs-0.1.8-py3-none-any.whl (14 kB)\n",
            "Requirement already satisfied: pyyaml>=5.1 in /usr/local/lib/python3.8/dist-packages (from fvcore==0.1.6) (6.0)\n",
            "Requirement already satisfied: tqdm in /usr/local/lib/python3.8/dist-packages (from fvcore==0.1.6) (4.64.1)\n",
            "Requirement already satisfied: termcolor>=1.1 in /usr/local/lib/python3.8/dist-packages (from fvcore==0.1.6) (2.2.0)\n",
            "Requirement already satisfied: Pillow in /usr/local/lib/python3.8/dist-packages (from fvcore==0.1.6) (7.1.2)\n",
            "Requirement already satisfied: tabulate in /usr/local/lib/python3.8/dist-packages (from fvcore==0.1.6) (0.8.10)\n",
            "Collecting iopath>=0.1.7\n",
            "  Downloading iopath-0.1.10.tar.gz (42 kB)\n",
            "\u001b[2K     \u001b[90m━━━━━━━━━━━━━━━━━━━━━━━━━━━━━━━━━━━━━━━━\u001b[0m \u001b[32m42.2/42.2 KB\u001b[0m \u001b[31m2.5 MB/s\u001b[0m eta \u001b[36m0:00:00\u001b[0m\n",
            "\u001b[?25h  Preparing metadata (setup.py) ... \u001b[?25l\u001b[?25hdone\n",
            "Requirement already satisfied: typing_extensions in /usr/local/lib/python3.8/dist-packages (from iopath>=0.1.7->fvcore==0.1.6) (4.4.0)\n",
            "Collecting portalocker\n",
            "  Downloading portalocker-2.7.0-py2.py3-none-any.whl (15 kB)\n",
            "Building wheels for collected packages: fvcore, iopath\n",
            "  Building wheel for fvcore (setup.py) ... \u001b[?25l\u001b[?25hdone\n",
            "  Created wheel for fvcore: filename=fvcore-0.1.6-py3-none-any.whl size=65424 sha256=1a43bfdaace91b8cc3fa8055a5d6a7dc9ad58a6b0f978c5dc3fdcecd79ce6d74\n",
            "  Stored in directory: /tmp/pip-ephem-wheel-cache-laagn9i4/wheels/51/52/07/e1a7fde1786c36d1e4ca408afe8979cfffa255c078f3725d45\n",
            "  Building wheel for iopath (setup.py) ... \u001b[?25l\u001b[?25hdone\n",
            "  Created wheel for iopath: filename=iopath-0.1.10-py3-none-any.whl size=31547 sha256=b7e0a534cfdee70a25b2e163a46e82ce8a2a1f2ee3da099289c72c4821ba7ea2\n",
            "  Stored in directory: /root/.cache/pip/wheels/89/3e/24/0f349c0b2eeb6965903035f3b00dbb5c9bea437b4a2f18d82c\n",
            "Successfully built fvcore iopath\n",
            "Installing collected packages: yacs, portalocker, iopath, fvcore\n",
            "Successfully installed fvcore-0.1.6 iopath-0.1.10 portalocker-2.7.0 yacs-0.1.8\n"
          ]
        }
      ]
    },
    {
      "cell_type": "code",
      "source": [
        "!git clone https://github.com/akamaster/pytorch_resnet_cifar10 && mv pytorch_resnet_cifar10/resnet.py .\n",
        "\n",
        "# Read the resnet.py file\n",
        "with open(\"resnet.py\", \"r\") as file :\n",
        "  f = file.read()\n",
        "\n",
        "# Replace \"out = F.avg_pool2d(out, out.size()[3])\" with \"out = F.avg_pool2d(out, int(out.size()[3]))\".\n",
        "f = f.replace(\"out = F.avg_pool2d(out, out.size()[3])\", \"out = F.avg_pool2d(out, int(out.size()[3]))\")\n",
        "\n",
        "# Write the resnet.py file.\n",
        "with open(\"resnet.py\", \"w\") as file:\n",
        "  file.write(f)"
      ],
      "metadata": {
        "colab": {
          "base_uri": "https://localhost:8080/"
        },
        "id": "Ge8BK_-aSlot",
        "outputId": "8dd310eb-9b54-4b2b-db40-03eacb295205"
      },
      "execution_count": 2,
      "outputs": [
        {
          "output_type": "stream",
          "name": "stdout",
          "text": [
            "Cloning into 'pytorch_resnet_cifar10'...\n",
            "remote: Enumerating objects: 91, done.\u001b[K\n",
            "remote: Total 91 (delta 0), reused 0 (delta 0), pack-reused 91\u001b[K\n",
            "Unpacking objects: 100% (91/91), 84.32 MiB | 11.32 MiB/s, done.\n",
            "Updating files: 100% (12/12), done.\n"
          ]
        }
      ]
    },
    {
      "cell_type": "code",
      "source": [
        "import numpy as np\n",
        "import random\n",
        "import torch\n",
        "import torch.nn as nn\n",
        "from torchvision import transforms as T\n",
        "from CMT import ReducedStem, PatchEmbedding, LPU, MHSA, LMHSA, IRFFN, CMTBlock, ReducedCMT\n",
        "from utilities import get_cifar10, create_data_loaders, get_flops, get_training_objects, train, test, read_output_files, plot_validation, plot_accuracy_vs_flops\n",
        "from resnet import ResNet, BasicBlock\n",
        "import multiprocessing as mp\n",
        "from matplotlib import pyplot as plt\n",
        "import pickle\n",
        "from sklearn.metrics import classification_report"
      ],
      "metadata": {
        "id": "SA3HZYkVZrxV"
      },
      "execution_count": 3,
      "outputs": []
    },
    {
      "cell_type": "code",
      "source": [
        "def set_reproducibility(seed):\n",
        "  random.seed(seed)\n",
        "  np.random.seed(seed)\n",
        "  torch.manual_seed(seed)\n",
        "\n",
        "set_reproducibility(0)"
      ],
      "metadata": {
        "id": "Gx8K3KIcgJMI"
      },
      "execution_count": 4,
      "outputs": []
    },
    {
      "cell_type": "markdown",
      "source": [
        "## Data Loading and Preprocessing"
      ],
      "metadata": {
        "id": "rk5IqtHwZyfV"
      }
    },
    {
      "cell_type": "code",
      "source": [
        "# Training transformations.\n",
        "train_transform = T.Compose([\n",
        "    T.RandomCrop(32, padding = 4),\n",
        "    T.RandomHorizontalFlip(),\n",
        "    T.RandomRotation(10),\n",
        "    T.Resize(32),\n",
        "    T.ToTensor()\n",
        "])\n",
        "\n",
        "# Test transformations.\n",
        "test_transform = T.Compose([\n",
        "    T.Resize(32),\n",
        "    T.ToTensor()\n",
        "])\n",
        "\n",
        "# Creating data loaders.\n",
        "train_loader, val_loader, test_loader = create_data_loaders(\n",
        "    train_transform,\n",
        "    test_transform,\n",
        "    img_size = 32,\n",
        "    batch_size = 32,\n",
        "    num_workers = mp.cpu_count()\n",
        ")"
      ],
      "metadata": {
        "colab": {
          "base_uri": "https://localhost:8080/",
          "referenced_widgets": [
            "5575d5994d944a6db3cd92cc7bb15df0",
            "199f6d0e7f1a496db95b10152dbf122f",
            "463ede9797e14f0e88b1339d33e6f862",
            "ea7b436211954c1da782a97d56052b02",
            "0e820e7c9f93496f8ec26b93b22b6e49",
            "1bb770d74f8a4b19aabb0a81c5c1a473",
            "881efb32a51a4ad4b4e29ea55564b3d5",
            "378a67a6cebc48b9b9bccd5a73a83f7f",
            "2a6b84435c154b98b3e86c8b1baf75c3",
            "4cc6bd76204b449ba09ccf838270e797",
            "dae692fe16c84dba8ef9ff8ce9f705c5"
          ]
        },
        "id": "vlIY6UbuTCRO",
        "outputId": "7d660aa0-958b-4638-ac2a-b508428227c9"
      },
      "execution_count": null,
      "outputs": [
        {
          "output_type": "stream",
          "name": "stdout",
          "text": [
            "Downloading https://www.cs.toronto.edu/~kriz/cifar-10-python.tar.gz to CIFAR10/cifar-10-python.tar.gz\n"
          ]
        },
        {
          "output_type": "display_data",
          "data": {
            "text/plain": [
              "  0%|          | 0/170498071 [00:00<?, ?it/s]"
            ],
            "application/vnd.jupyter.widget-view+json": {
              "version_major": 2,
              "version_minor": 0,
              "model_id": "5575d5994d944a6db3cd92cc7bb15df0"
            }
          },
          "metadata": {}
        },
        {
          "output_type": "stream",
          "name": "stdout",
          "text": [
            "Extracting CIFAR10/cifar-10-python.tar.gz to CIFAR10\n",
            "Files already downloaded and verified\n"
          ]
        }
      ]
    },
    {
      "cell_type": "markdown",
      "source": [
        "## Models Definition and Training"
      ],
      "metadata": {
        "id": "bpKz7V32su2f"
      }
    },
    {
      "cell_type": "code",
      "source": [
        "# Choosing between GPU and CPU.\n",
        "device = torch.device(\"cuda\" if torch.cuda.is_available() else \"cpu\")"
      ],
      "metadata": {
        "id": "oaT-QCAapgdk"
      },
      "execution_count": null,
      "outputs": []
    },
    {
      "cell_type": "code",
      "source": [
        "print(ReducedStem.__doc__)"
      ],
      "metadata": {
        "id": "hFcn577LtN2b",
        "colab": {
          "base_uri": "https://localhost:8080/"
        },
        "outputId": "a4393532-ec2c-4496-d228-1fc4114d278a"
      },
      "execution_count": null,
      "outputs": [
        {
          "output_type": "stream",
          "name": "stdout",
          "text": [
            "\n",
            "  The stem block of the reduced CMT architecture:\n",
            "\t\n",
            "   - 3 × 3, 16 convolution.\n",
            "\t \n",
            "  The single layer is followed by a batch norm layer and GELU activation.\n",
            "\t\n"
          ]
        }
      ]
    },
    {
      "cell_type": "code",
      "source": [
        "print(PatchEmbedding.__doc__)"
      ],
      "metadata": {
        "colab": {
          "base_uri": "https://localhost:8080/"
        },
        "id": "BTaSSKcqnNHq",
        "outputId": "78470e79-e62b-47cd-a9be-75ed7fcc7107"
      },
      "execution_count": null,
      "outputs": [
        {
          "output_type": "stream",
          "name": "stdout",
          "text": [
            "\n",
            "  The patch embedding block of the CMT architecture:\n",
            "\t\n",
            "   - 2 × 2, stride 2 convolution.\n",
            "\t \n",
            "  The single layer is followed by layer norm.\n",
            "\t\n"
          ]
        }
      ]
    },
    {
      "cell_type": "code",
      "source": [
        "print(LPU.__doc__)"
      ],
      "metadata": {
        "colab": {
          "base_uri": "https://localhost:8080/"
        },
        "id": "yjVLTjlGnPRq",
        "outputId": "1ea97b23-2079-44a3-9ea6-d0e32a62d803"
      },
      "execution_count": null,
      "outputs": [
        {
          "output_type": "stream",
          "name": "stdout",
          "text": [
            "\n",
            "  The patch embedding block of the CMT architecture:\n",
            "\t\n",
            "   - 3 × 3, depthwise convolution.\n",
            "\t \n",
            "  The LPU also adds a residual connection to compute LPU(X) = DWConv(X) + X.\n",
            "\t\n"
          ]
        }
      ]
    },
    {
      "cell_type": "code",
      "source": [
        "print(MHSA.__doc__)"
      ],
      "metadata": {
        "colab": {
          "base_uri": "https://localhost:8080/"
        },
        "id": "ir4k80lNnUGf",
        "outputId": "e33e6a0a-6b49-4369-aa25-a9505c3a4830"
      },
      "execution_count": null,
      "outputs": [
        {
          "output_type": "stream",
          "name": "stdout",
          "text": [
            "\n",
            "  The standard multi-head self-attention module.\n",
            "  \n"
          ]
        }
      ]
    },
    {
      "cell_type": "code",
      "source": [
        "print(LMHSA.__doc__)"
      ],
      "metadata": {
        "colab": {
          "base_uri": "https://localhost:8080/"
        },
        "id": "zNVbQDcOnVwt",
        "outputId": "3b124591-1708-4cfc-b7a1-15e05a510dd0"
      },
      "execution_count": null,
      "outputs": [
        {
          "output_type": "stream",
          "name": "stdout",
          "text": [
            "\n",
            "  The lightweight multi-head self-attention module.\n",
            "  \n"
          ]
        }
      ]
    },
    {
      "cell_type": "code",
      "source": [
        "print(IRFFN.__doc__)"
      ],
      "metadata": {
        "colab": {
          "base_uri": "https://localhost:8080/"
        },
        "id": "GHw1Heb-nXsI",
        "outputId": "f5066761-c646-4117-f104-bc02272522e1"
      },
      "execution_count": null,
      "outputs": [
        {
          "output_type": "stream",
          "name": "stdout",
          "text": [
            "\n",
            "  The IRFFN block of the CMT architecture:\n",
            "\t\n",
            "   - 1 × 1, Cout = Cin * R convolution.\n",
            "   - 3 × 3, Cout = Cin depthwise convolution.\n",
            "   - 1 × 1, Cout = Cin / R convolution.\n",
            "\t \n",
            "  The input of the IRFFN is layer normalized, and each layer is followed \n",
            "  by a batch norm layer and GELU activation. Moreover, The IRFFN module \n",
            "  also adds a residual connection to compute IRFFN(X) = Conv(F(Conv(X))),\n",
            "  F(X) = DWConv(X) + X.\n",
            "  \n"
          ]
        }
      ]
    },
    {
      "cell_type": "code",
      "source": [
        "print(CMTBlock.__doc__)"
      ],
      "metadata": {
        "colab": {
          "base_uri": "https://localhost:8080/"
        },
        "id": "-WwYfgr1nZjJ",
        "outputId": "3a075fe2-142d-434e-a548-912b580a2e86"
      },
      "execution_count": null,
      "outputs": [
        {
          "output_type": "stream",
          "name": "stdout",
          "text": [
            "\n",
            "  The CMT block of the CMT architecture:\n",
            "\t\n",
            "   - LPU block.\n",
            "   - Eventual (L)MHSA block.\n",
            "   - IRFFN.\n",
            "  \n"
          ]
        }
      ]
    },
    {
      "cell_type": "code",
      "source": [
        "print(ReducedCMT.__doc__)"
      ],
      "metadata": {
        "colab": {
          "base_uri": "https://localhost:8080/"
        },
        "id": "KFXVUZzDndRY",
        "outputId": "e3a1d15b-df9e-4d0a-813c-45295250a6ec"
      },
      "execution_count": null,
      "outputs": [
        {
          "output_type": "stream",
          "name": "stdout",
          "text": [
            "\n",
            "  The reduced CMT architecture:\n",
            "\t\n",
            "   - The reduced stem block.\n",
            "   - Three stages composed of the same number of CMT blocks and patch embedding layers.\n",
            "   - Global average pooling.\n",
            "   - 1 × 1, 256 convolution.\n",
            "   - Classification head.\n",
            "  \n"
          ]
        }
      ]
    },
    {
      "cell_type": "markdown",
      "source": [
        "### Lightweight MHSA model ($m_1$)"
      ],
      "metadata": {
        "id": "34JWWDLFPwJi"
      }
    },
    {
      "cell_type": "code",
      "source": [
        "# Defining the reduced model that uses LMHSA.\n",
        "m_1 = ReducedCMT(\n",
        "  in_channels = 3,\n",
        "  stem_channels = 16,\n",
        "  channels = [46, 92, 184],\n",
        "  block_layers = [2, 2, 2],\n",
        "  k = [4, 2, 1],\n",
        "  heads = [1, 2, 4],\n",
        "  R = 3.6,\n",
        "  input_size = 32,\n",
        "  classes = 10,\n",
        "  attention_type = \"light\")\n",
        "\n",
        "# Printing number of parameters.\n",
        "print(f\"m_1 has {sum(p.numel() for p in m_1.parameters())} parameters.\")"
      ],
      "metadata": {
        "id": "tPLbr-DpPT1n",
        "colab": {
          "base_uri": "https://localhost:8080/"
        },
        "outputId": "d8066d17-e1bd-49a8-a73b-08d7002fadc4"
      },
      "execution_count": null,
      "outputs": [
        {
          "output_type": "stream",
          "name": "stdout",
          "text": [
            "m_1 has 1196448 parameters.\n"
          ]
        }
      ]
    },
    {
      "cell_type": "code",
      "source": [
        "# Computing and printing number of FLOPs.\n",
        "get_flops(m_1, (1, 3, 32, 32))"
      ],
      "metadata": {
        "id": "hPu_06fMPT1o",
        "colab": {
          "base_uri": "https://localhost:8080/"
        },
        "outputId": "a998793d-c07e-48b3-cb8e-8bcaa914500a"
      },
      "execution_count": null,
      "outputs": [
        {
          "output_type": "stream",
          "name": "stdout",
          "text": [
            "ReducedCMT(\n",
            "  #params: 1.2M, #flops: 41.41M\n",
            "  (stem): ReducedStem(\n",
            "    #params: 0.48K, #flops: 0.52M\n",
            "    (conv): Conv2d(\n",
            "      3, 16, kernel_size=(3, 3), stride=(1, 1), padding=(1, 1)\n",
            "      #params: 0.45K, #flops: 0.44M\n",
            "    )\n",
            "    (bn): BatchNorm2d(\n",
            "      16, eps=1e-05, momentum=0.1, affine=True, track_running_stats=True\n",
            "      #params: 32, #flops: 81.92K\n",
            "    )\n",
            "    (gelu): GELU(approximate='none')\n",
            "  )\n",
            "  (pe1): PatchEmbedding(\n",
            "    #params: 2.99K, #flops: 0.8M\n",
            "    (conv): Conv2d(\n",
            "      16, 46, kernel_size=(2, 2), stride=(2, 2)\n",
            "      #params: 2.99K, #flops: 0.75M\n",
            "    )\n",
            "  )\n",
            "  (pe2): PatchEmbedding(\n",
            "    #params: 17.02K, #flops: 1.11M\n",
            "    (conv): Conv2d(\n",
            "      46, 92, kernel_size=(2, 2), stride=(2, 2)\n",
            "      #params: 17.02K, #flops: 1.08M\n",
            "    )\n",
            "  )\n",
            "  (pe3): PatchEmbedding(\n",
            "    #params: 67.9K, #flops: 1.1M\n",
            "    (conv): Conv2d(\n",
            "      92, 184, kernel_size=(2, 2), stride=(2, 2)\n",
            "      #params: 67.9K, #flops: 1.08M\n",
            "    )\n",
            "  )\n",
            "  (stage1): Sequential(\n",
            "    #params: 63.56K, #flops: 13M\n",
            "    (0): CMTBlock(\n",
            "      #params: 31.78K, #flops: 6.5M\n",
            "      (lpu): LPU(\n",
            "        #params: 0.46K, #flops: 0.11M\n",
            "        (dwconv): Conv2d(\n",
            "          46, 46, kernel_size=(3, 3), stride=(1, 1), padding=(1, 1), groups=46\n",
            "          #params: 0.46K, #flops: 0.11M\n",
            "        )\n",
            "      )\n",
            "      (mhsa): LMHSA(\n",
            "        #params: 13.53K, #flops: 1.6M\n",
            "        (dwconv): Conv2d(\n",
            "          46, 46, kernel_size=(4, 4), stride=(4, 4), groups=46\n",
            "          #params: 0.78K, #flops: 23.55K\n",
            "        )\n",
            "        (fc_q): Linear(\n",
            "          in_features=46, out_features=46, bias=True\n",
            "          #params: 2.16K, #flops: 0.54M\n",
            "        )\n",
            "        (fc_k): Linear(\n",
            "          in_features=46, out_features=46, bias=True\n",
            "          #params: 2.16K, #flops: 33.86K\n",
            "        )\n",
            "        (fc_v): Linear(\n",
            "          in_features=46, out_features=46, bias=True\n",
            "          #params: 2.16K, #flops: 33.86K\n",
            "        )\n",
            "        (fc_o): Linear(\n",
            "          in_features=46, out_features=46, bias=True\n",
            "          #params: 2.16K, #flops: 0.54M\n",
            "        )\n",
            "      )\n",
            "      (irffn): IRFFN(\n",
            "        #params: 17.79K, #flops: 4.79M\n",
            "        (conv1): Conv2d(\n",
            "          46, 165, kernel_size=(1, 1), stride=(1, 1)\n",
            "          #params: 7.75K, #flops: 1.94M\n",
            "        )\n",
            "        (bn1): BatchNorm2d(\n",
            "          165, eps=1e-05, momentum=0.1, affine=True, track_running_stats=True\n",
            "          #params: 0.33K, #flops: 0.21M\n",
            "        )\n",
            "        (dwconv): Conv2d(\n",
            "          165, 165, kernel_size=(3, 3), stride=(1, 1), padding=(1, 1), groups=165\n",
            "          #params: 1.65K, #flops: 0.38M\n",
            "        )\n",
            "        (bn2): BatchNorm2d(\n",
            "          165, eps=1e-05, momentum=0.1, affine=True, track_running_stats=True\n",
            "          #params: 0.33K, #flops: 0.21M\n",
            "        )\n",
            "        (conv2): Conv2d(\n",
            "          165, 46, kernel_size=(1, 1), stride=(1, 1)\n",
            "          #params: 7.64K, #flops: 1.94M\n",
            "        )\n",
            "        (bn3): BatchNorm2d(\n",
            "          46, eps=1e-05, momentum=0.1, affine=True, track_running_stats=True\n",
            "          #params: 92, #flops: 58.88K\n",
            "        )\n",
            "        (gelu): GELU(approximate='none')\n",
            "      )\n",
            "    )\n",
            "    (1): CMTBlock(\n",
            "      #params: 31.78K, #flops: 6.5M\n",
            "      (lpu): LPU(\n",
            "        #params: 0.46K, #flops: 0.11M\n",
            "        (dwconv): Conv2d(\n",
            "          46, 46, kernel_size=(3, 3), stride=(1, 1), padding=(1, 1), groups=46\n",
            "          #params: 0.46K, #flops: 0.11M\n",
            "        )\n",
            "      )\n",
            "      (mhsa): LMHSA(\n",
            "        #params: 13.53K, #flops: 1.6M\n",
            "        (dwconv): Conv2d(\n",
            "          46, 46, kernel_size=(4, 4), stride=(4, 4), groups=46\n",
            "          #params: 0.78K, #flops: 23.55K\n",
            "        )\n",
            "        (fc_q): Linear(\n",
            "          in_features=46, out_features=46, bias=True\n",
            "          #params: 2.16K, #flops: 0.54M\n",
            "        )\n",
            "        (fc_k): Linear(\n",
            "          in_features=46, out_features=46, bias=True\n",
            "          #params: 2.16K, #flops: 33.86K\n",
            "        )\n",
            "        (fc_v): Linear(\n",
            "          in_features=46, out_features=46, bias=True\n",
            "          #params: 2.16K, #flops: 33.86K\n",
            "        )\n",
            "        (fc_o): Linear(\n",
            "          in_features=46, out_features=46, bias=True\n",
            "          #params: 2.16K, #flops: 0.54M\n",
            "        )\n",
            "      )\n",
            "      (irffn): IRFFN(\n",
            "        #params: 17.79K, #flops: 4.79M\n",
            "        (conv1): Conv2d(\n",
            "          46, 165, kernel_size=(1, 1), stride=(1, 1)\n",
            "          #params: 7.75K, #flops: 1.94M\n",
            "        )\n",
            "        (bn1): BatchNorm2d(\n",
            "          165, eps=1e-05, momentum=0.1, affine=True, track_running_stats=True\n",
            "          #params: 0.33K, #flops: 0.21M\n",
            "        )\n",
            "        (dwconv): Conv2d(\n",
            "          165, 165, kernel_size=(3, 3), stride=(1, 1), padding=(1, 1), groups=165\n",
            "          #params: 1.65K, #flops: 0.38M\n",
            "        )\n",
            "        (bn2): BatchNorm2d(\n",
            "          165, eps=1e-05, momentum=0.1, affine=True, track_running_stats=True\n",
            "          #params: 0.33K, #flops: 0.21M\n",
            "        )\n",
            "        (conv2): Conv2d(\n",
            "          165, 46, kernel_size=(1, 1), stride=(1, 1)\n",
            "          #params: 7.64K, #flops: 1.94M\n",
            "        )\n",
            "        (bn3): BatchNorm2d(\n",
            "          46, eps=1e-05, momentum=0.1, affine=True, track_running_stats=True\n",
            "          #params: 92, #flops: 58.88K\n",
            "        )\n",
            "        (gelu): GELU(approximate='none')\n",
            "      )\n",
            "    )\n",
            "  )\n",
            "  (stage2): Sequential(\n",
            "    #params: 0.21M, #flops: 11.97M\n",
            "    (0): CMTBlock(\n",
            "      #params: 0.1M, #flops: 5.98M\n",
            "      (lpu): LPU(\n",
            "        #params: 0.92K, #flops: 52.99K\n",
            "        (dwconv): Conv2d(\n",
            "          92, 92, kernel_size=(3, 3), stride=(1, 1), padding=(1, 1), groups=92\n",
            "          #params: 0.92K, #flops: 52.99K\n",
            "        )\n",
            "      )\n",
            "      (mhsa): LMHSA(\n",
            "        #params: 36.73K, #flops: 1.58M\n",
            "        (dwconv): Conv2d(\n",
            "          92, 92, kernel_size=(2, 2), stride=(2, 2), groups=92\n",
            "          #params: 0.46K, #flops: 11.78K\n",
            "        )\n",
            "        (fc_q): Linear(\n",
            "          in_features=92, out_features=92, bias=True\n",
            "          #params: 8.56K, #flops: 0.54M\n",
            "        )\n",
            "        (fc_k): Linear(\n",
            "          in_features=92, out_features=92, bias=True\n",
            "          #params: 8.56K, #flops: 0.14M\n",
            "        )\n",
            "        (fc_v): Linear(\n",
            "          in_features=92, out_features=92, bias=True\n",
            "          #params: 8.56K, #flops: 0.14M\n",
            "        )\n",
            "        (fc_o): Linear(\n",
            "          in_features=92, out_features=92, bias=True\n",
            "          #params: 8.56K, #flops: 0.54M\n",
            "        )\n",
            "      )\n",
            "      (irffn): IRFFN(\n",
            "        #params: 66.14K, #flops: 4.35M\n",
            "        (conv1): Conv2d(\n",
            "          92, 331, kernel_size=(1, 1), stride=(1, 1)\n",
            "          #params: 30.78K, #flops: 1.95M\n",
            "        )\n",
            "        (bn1): BatchNorm2d(\n",
            "          331, eps=1e-05, momentum=0.1, affine=True, track_running_stats=True\n",
            "          #params: 0.66K, #flops: 0.11M\n",
            "        )\n",
            "        (dwconv): Conv2d(\n",
            "          331, 331, kernel_size=(3, 3), stride=(1, 1), padding=(1, 1), groups=331\n",
            "          #params: 3.31K, #flops: 0.19M\n",
            "        )\n",
            "        (bn2): BatchNorm2d(\n",
            "          331, eps=1e-05, momentum=0.1, affine=True, track_running_stats=True\n",
            "          #params: 0.66K, #flops: 0.11M\n",
            "        )\n",
            "        (conv2): Conv2d(\n",
            "          331, 92, kernel_size=(1, 1), stride=(1, 1)\n",
            "          #params: 30.54K, #flops: 1.95M\n",
            "        )\n",
            "        (bn3): BatchNorm2d(\n",
            "          92, eps=1e-05, momentum=0.1, affine=True, track_running_stats=True\n",
            "          #params: 0.18K, #flops: 29.44K\n",
            "        )\n",
            "        (gelu): GELU(approximate='none')\n",
            "      )\n",
            "    )\n",
            "    (1): CMTBlock(\n",
            "      #params: 0.1M, #flops: 5.98M\n",
            "      (lpu): LPU(\n",
            "        #params: 0.92K, #flops: 52.99K\n",
            "        (dwconv): Conv2d(\n",
            "          92, 92, kernel_size=(3, 3), stride=(1, 1), padding=(1, 1), groups=92\n",
            "          #params: 0.92K, #flops: 52.99K\n",
            "        )\n",
            "      )\n",
            "      (mhsa): LMHSA(\n",
            "        #params: 36.73K, #flops: 1.58M\n",
            "        (dwconv): Conv2d(\n",
            "          92, 92, kernel_size=(2, 2), stride=(2, 2), groups=92\n",
            "          #params: 0.46K, #flops: 11.78K\n",
            "        )\n",
            "        (fc_q): Linear(\n",
            "          in_features=92, out_features=92, bias=True\n",
            "          #params: 8.56K, #flops: 0.54M\n",
            "        )\n",
            "        (fc_k): Linear(\n",
            "          in_features=92, out_features=92, bias=True\n",
            "          #params: 8.56K, #flops: 0.14M\n",
            "        )\n",
            "        (fc_v): Linear(\n",
            "          in_features=92, out_features=92, bias=True\n",
            "          #params: 8.56K, #flops: 0.14M\n",
            "        )\n",
            "        (fc_o): Linear(\n",
            "          in_features=92, out_features=92, bias=True\n",
            "          #params: 8.56K, #flops: 0.54M\n",
            "        )\n",
            "      )\n",
            "      (irffn): IRFFN(\n",
            "        #params: 66.14K, #flops: 4.35M\n",
            "        (conv1): Conv2d(\n",
            "          92, 331, kernel_size=(1, 1), stride=(1, 1)\n",
            "          #params: 30.78K, #flops: 1.95M\n",
            "        )\n",
            "        (bn1): BatchNorm2d(\n",
            "          331, eps=1e-05, momentum=0.1, affine=True, track_running_stats=True\n",
            "          #params: 0.66K, #flops: 0.11M\n",
            "        )\n",
            "        (dwconv): Conv2d(\n",
            "          331, 331, kernel_size=(3, 3), stride=(1, 1), padding=(1, 1), groups=331\n",
            "          #params: 3.31K, #flops: 0.19M\n",
            "        )\n",
            "        (bn2): BatchNorm2d(\n",
            "          331, eps=1e-05, momentum=0.1, affine=True, track_running_stats=True\n",
            "          #params: 0.66K, #flops: 0.11M\n",
            "        )\n",
            "        (conv2): Conv2d(\n",
            "          331, 92, kernel_size=(1, 1), stride=(1, 1)\n",
            "          #params: 30.54K, #flops: 1.95M\n",
            "        )\n",
            "        (bn3): BatchNorm2d(\n",
            "          92, eps=1e-05, momentum=0.1, affine=True, track_running_stats=True\n",
            "          #params: 0.18K, #flops: 29.44K\n",
            "        )\n",
            "        (gelu): GELU(approximate='none')\n",
            "      )\n",
            "    )\n",
            "  )\n",
            "  (stage3): Sequential(\n",
            "    #params: 0.79M, #flops: 12.86M\n",
            "    (0): CMTBlock(\n",
            "      #params: 0.39M, #flops: 6.43M\n",
            "      (lpu): LPU(\n",
            "        #params: 1.84K, #flops: 26.5K\n",
            "        (dwconv): Conv2d(\n",
            "          184, 184, kernel_size=(3, 3), stride=(1, 1), padding=(1, 1), groups=184\n",
            "          #params: 1.84K, #flops: 26.5K\n",
            "        )\n",
            "      )\n",
            "      (mhsa): LMHSA(\n",
            "        #params: 0.14M, #flops: 2.28M\n",
            "        (dwconv): Conv2d(\n",
            "          184, 184, kernel_size=(1, 1), stride=(1, 1), groups=184\n",
            "          #params: 0.37K, #flops: 5.89K\n",
            "        )\n",
            "        (fc_q): Linear(\n",
            "          in_features=184, out_features=184, bias=True\n",
            "          #params: 34.04K, #flops: 0.54M\n",
            "        )\n",
            "        (fc_k): Linear(\n",
            "          in_features=184, out_features=184, bias=True\n",
            "          #params: 34.04K, #flops: 0.54M\n",
            "        )\n",
            "        (fc_v): Linear(\n",
            "          in_features=184, out_features=184, bias=True\n",
            "          #params: 34.04K, #flops: 0.54M\n",
            "        )\n",
            "        (fc_o): Linear(\n",
            "          in_features=184, out_features=184, bias=True\n",
            "          #params: 34.04K, #flops: 0.54M\n",
            "        )\n",
            "      )\n",
            "      (irffn): IRFFN(\n",
            "        #params: 0.25M, #flops: 4.13M\n",
            "        (conv1): Conv2d(\n",
            "          184, 662, kernel_size=(1, 1), stride=(1, 1)\n",
            "          #params: 0.12M, #flops: 1.95M\n",
            "        )\n",
            "        (bn1): BatchNorm2d(\n",
            "          662, eps=1e-05, momentum=0.1, affine=True, track_running_stats=True\n",
            "          #params: 1.32K, #flops: 52.96K\n",
            "        )\n",
            "        (dwconv): Conv2d(\n",
            "          662, 662, kernel_size=(3, 3), stride=(1, 1), padding=(1, 1), groups=662\n",
            "          #params: 6.62K, #flops: 95.33K\n",
            "        )\n",
            "        (bn2): BatchNorm2d(\n",
            "          662, eps=1e-05, momentum=0.1, affine=True, track_running_stats=True\n",
            "          #params: 1.32K, #flops: 52.96K\n",
            "        )\n",
            "        (conv2): Conv2d(\n",
            "          662, 184, kernel_size=(1, 1), stride=(1, 1)\n",
            "          #params: 0.12M, #flops: 1.95M\n",
            "        )\n",
            "        (bn3): BatchNorm2d(\n",
            "          184, eps=1e-05, momentum=0.1, affine=True, track_running_stats=True\n",
            "          #params: 0.37K, #flops: 14.72K\n",
            "        )\n",
            "        (gelu): GELU(approximate='none')\n",
            "      )\n",
            "    )\n",
            "    (1): CMTBlock(\n",
            "      #params: 0.39M, #flops: 6.43M\n",
            "      (lpu): LPU(\n",
            "        #params: 1.84K, #flops: 26.5K\n",
            "        (dwconv): Conv2d(\n",
            "          184, 184, kernel_size=(3, 3), stride=(1, 1), padding=(1, 1), groups=184\n",
            "          #params: 1.84K, #flops: 26.5K\n",
            "        )\n",
            "      )\n",
            "      (mhsa): LMHSA(\n",
            "        #params: 0.14M, #flops: 2.28M\n",
            "        (dwconv): Conv2d(\n",
            "          184, 184, kernel_size=(1, 1), stride=(1, 1), groups=184\n",
            "          #params: 0.37K, #flops: 5.89K\n",
            "        )\n",
            "        (fc_q): Linear(\n",
            "          in_features=184, out_features=184, bias=True\n",
            "          #params: 34.04K, #flops: 0.54M\n",
            "        )\n",
            "        (fc_k): Linear(\n",
            "          in_features=184, out_features=184, bias=True\n",
            "          #params: 34.04K, #flops: 0.54M\n",
            "        )\n",
            "        (fc_v): Linear(\n",
            "          in_features=184, out_features=184, bias=True\n",
            "          #params: 34.04K, #flops: 0.54M\n",
            "        )\n",
            "        (fc_o): Linear(\n",
            "          in_features=184, out_features=184, bias=True\n",
            "          #params: 34.04K, #flops: 0.54M\n",
            "        )\n",
            "      )\n",
            "      (irffn): IRFFN(\n",
            "        #params: 0.25M, #flops: 4.13M\n",
            "        (conv1): Conv2d(\n",
            "          184, 662, kernel_size=(1, 1), stride=(1, 1)\n",
            "          #params: 0.12M, #flops: 1.95M\n",
            "        )\n",
            "        (bn1): BatchNorm2d(\n",
            "          662, eps=1e-05, momentum=0.1, affine=True, track_running_stats=True\n",
            "          #params: 1.32K, #flops: 52.96K\n",
            "        )\n",
            "        (dwconv): Conv2d(\n",
            "          662, 662, kernel_size=(3, 3), stride=(1, 1), padding=(1, 1), groups=662\n",
            "          #params: 6.62K, #flops: 95.33K\n",
            "        )\n",
            "        (bn2): BatchNorm2d(\n",
            "          662, eps=1e-05, momentum=0.1, affine=True, track_running_stats=True\n",
            "          #params: 1.32K, #flops: 52.96K\n",
            "        )\n",
            "        (conv2): Conv2d(\n",
            "          662, 184, kernel_size=(1, 1), stride=(1, 1)\n",
            "          #params: 0.12M, #flops: 1.95M\n",
            "        )\n",
            "        (bn3): BatchNorm2d(\n",
            "          184, eps=1e-05, momentum=0.1, affine=True, track_running_stats=True\n",
            "          #params: 0.37K, #flops: 14.72K\n",
            "        )\n",
            "        (gelu): GELU(approximate='none')\n",
            "      )\n",
            "    )\n",
            "  )\n",
            "  (avg_pool): AdaptiveAvgPool2d(\n",
            "    output_size=1\n",
            "    #params: 0, #flops: 2.94K\n",
            "  )\n",
            "  (projection): Sequential(\n",
            "    #params: 47.36K, #flops: 47.1K\n",
            "    (0): Conv2d(\n",
            "      184, 256, kernel_size=(1, 1), stride=(1, 1)\n",
            "      #params: 47.36K, #flops: 47.1K\n",
            "    )\n",
            "    (1): ReLU(inplace=True)\n",
            "  )\n",
            "  (classifier): Linear(\n",
            "    in_features=256, out_features=10, bias=True\n",
            "    #params: 2.57K, #flops: 2.56K\n",
            "  )\n",
            ")\n"
          ]
        }
      ]
    },
    {
      "cell_type": "code",
      "source": [
        "# Loading model to device.\n",
        "m_1.to(device)"
      ],
      "metadata": {
        "id": "BJ8LJMnlPT1o",
        "colab": {
          "base_uri": "https://localhost:8080/"
        },
        "outputId": "cf3b8150-2b8a-4440-f68a-3af8d4904912"
      },
      "execution_count": null,
      "outputs": [
        {
          "output_type": "execute_result",
          "data": {
            "text/plain": [
              "ReducedCMT(\n",
              "  (stem): ReducedStem(\n",
              "    (conv): Conv2d(3, 16, kernel_size=(3, 3), stride=(1, 1), padding=(1, 1))\n",
              "    (bn): BatchNorm2d(16, eps=1e-05, momentum=0.1, affine=True, track_running_stats=True)\n",
              "    (gelu): GELU(approximate='none')\n",
              "  )\n",
              "  (pe1): PatchEmbedding(\n",
              "    (conv): Conv2d(16, 46, kernel_size=(2, 2), stride=(2, 2))\n",
              "  )\n",
              "  (pe2): PatchEmbedding(\n",
              "    (conv): Conv2d(46, 92, kernel_size=(2, 2), stride=(2, 2))\n",
              "  )\n",
              "  (pe3): PatchEmbedding(\n",
              "    (conv): Conv2d(92, 184, kernel_size=(2, 2), stride=(2, 2))\n",
              "  )\n",
              "  (stage1): Sequential(\n",
              "    (0): CMTBlock(\n",
              "      (lpu): LPU(\n",
              "        (dwconv): Conv2d(46, 46, kernel_size=(3, 3), stride=(1, 1), padding=(1, 1), groups=46)\n",
              "      )\n",
              "      (mhsa): LMHSA(\n",
              "        (dwconv): Conv2d(46, 46, kernel_size=(4, 4), stride=(4, 4), groups=46)\n",
              "        (fc_q): Linear(in_features=46, out_features=46, bias=True)\n",
              "        (fc_k): Linear(in_features=46, out_features=46, bias=True)\n",
              "        (fc_v): Linear(in_features=46, out_features=46, bias=True)\n",
              "        (fc_o): Linear(in_features=46, out_features=46, bias=True)\n",
              "      )\n",
              "      (irffn): IRFFN(\n",
              "        (conv1): Conv2d(46, 165, kernel_size=(1, 1), stride=(1, 1))\n",
              "        (bn1): BatchNorm2d(165, eps=1e-05, momentum=0.1, affine=True, track_running_stats=True)\n",
              "        (dwconv): Conv2d(165, 165, kernel_size=(3, 3), stride=(1, 1), padding=(1, 1), groups=165)\n",
              "        (bn2): BatchNorm2d(165, eps=1e-05, momentum=0.1, affine=True, track_running_stats=True)\n",
              "        (conv2): Conv2d(165, 46, kernel_size=(1, 1), stride=(1, 1))\n",
              "        (bn3): BatchNorm2d(46, eps=1e-05, momentum=0.1, affine=True, track_running_stats=True)\n",
              "        (gelu): GELU(approximate='none')\n",
              "      )\n",
              "    )\n",
              "    (1): CMTBlock(\n",
              "      (lpu): LPU(\n",
              "        (dwconv): Conv2d(46, 46, kernel_size=(3, 3), stride=(1, 1), padding=(1, 1), groups=46)\n",
              "      )\n",
              "      (mhsa): LMHSA(\n",
              "        (dwconv): Conv2d(46, 46, kernel_size=(4, 4), stride=(4, 4), groups=46)\n",
              "        (fc_q): Linear(in_features=46, out_features=46, bias=True)\n",
              "        (fc_k): Linear(in_features=46, out_features=46, bias=True)\n",
              "        (fc_v): Linear(in_features=46, out_features=46, bias=True)\n",
              "        (fc_o): Linear(in_features=46, out_features=46, bias=True)\n",
              "      )\n",
              "      (irffn): IRFFN(\n",
              "        (conv1): Conv2d(46, 165, kernel_size=(1, 1), stride=(1, 1))\n",
              "        (bn1): BatchNorm2d(165, eps=1e-05, momentum=0.1, affine=True, track_running_stats=True)\n",
              "        (dwconv): Conv2d(165, 165, kernel_size=(3, 3), stride=(1, 1), padding=(1, 1), groups=165)\n",
              "        (bn2): BatchNorm2d(165, eps=1e-05, momentum=0.1, affine=True, track_running_stats=True)\n",
              "        (conv2): Conv2d(165, 46, kernel_size=(1, 1), stride=(1, 1))\n",
              "        (bn3): BatchNorm2d(46, eps=1e-05, momentum=0.1, affine=True, track_running_stats=True)\n",
              "        (gelu): GELU(approximate='none')\n",
              "      )\n",
              "    )\n",
              "  )\n",
              "  (stage2): Sequential(\n",
              "    (0): CMTBlock(\n",
              "      (lpu): LPU(\n",
              "        (dwconv): Conv2d(92, 92, kernel_size=(3, 3), stride=(1, 1), padding=(1, 1), groups=92)\n",
              "      )\n",
              "      (mhsa): LMHSA(\n",
              "        (dwconv): Conv2d(92, 92, kernel_size=(2, 2), stride=(2, 2), groups=92)\n",
              "        (fc_q): Linear(in_features=92, out_features=92, bias=True)\n",
              "        (fc_k): Linear(in_features=92, out_features=92, bias=True)\n",
              "        (fc_v): Linear(in_features=92, out_features=92, bias=True)\n",
              "        (fc_o): Linear(in_features=92, out_features=92, bias=True)\n",
              "      )\n",
              "      (irffn): IRFFN(\n",
              "        (conv1): Conv2d(92, 331, kernel_size=(1, 1), stride=(1, 1))\n",
              "        (bn1): BatchNorm2d(331, eps=1e-05, momentum=0.1, affine=True, track_running_stats=True)\n",
              "        (dwconv): Conv2d(331, 331, kernel_size=(3, 3), stride=(1, 1), padding=(1, 1), groups=331)\n",
              "        (bn2): BatchNorm2d(331, eps=1e-05, momentum=0.1, affine=True, track_running_stats=True)\n",
              "        (conv2): Conv2d(331, 92, kernel_size=(1, 1), stride=(1, 1))\n",
              "        (bn3): BatchNorm2d(92, eps=1e-05, momentum=0.1, affine=True, track_running_stats=True)\n",
              "        (gelu): GELU(approximate='none')\n",
              "      )\n",
              "    )\n",
              "    (1): CMTBlock(\n",
              "      (lpu): LPU(\n",
              "        (dwconv): Conv2d(92, 92, kernel_size=(3, 3), stride=(1, 1), padding=(1, 1), groups=92)\n",
              "      )\n",
              "      (mhsa): LMHSA(\n",
              "        (dwconv): Conv2d(92, 92, kernel_size=(2, 2), stride=(2, 2), groups=92)\n",
              "        (fc_q): Linear(in_features=92, out_features=92, bias=True)\n",
              "        (fc_k): Linear(in_features=92, out_features=92, bias=True)\n",
              "        (fc_v): Linear(in_features=92, out_features=92, bias=True)\n",
              "        (fc_o): Linear(in_features=92, out_features=92, bias=True)\n",
              "      )\n",
              "      (irffn): IRFFN(\n",
              "        (conv1): Conv2d(92, 331, kernel_size=(1, 1), stride=(1, 1))\n",
              "        (bn1): BatchNorm2d(331, eps=1e-05, momentum=0.1, affine=True, track_running_stats=True)\n",
              "        (dwconv): Conv2d(331, 331, kernel_size=(3, 3), stride=(1, 1), padding=(1, 1), groups=331)\n",
              "        (bn2): BatchNorm2d(331, eps=1e-05, momentum=0.1, affine=True, track_running_stats=True)\n",
              "        (conv2): Conv2d(331, 92, kernel_size=(1, 1), stride=(1, 1))\n",
              "        (bn3): BatchNorm2d(92, eps=1e-05, momentum=0.1, affine=True, track_running_stats=True)\n",
              "        (gelu): GELU(approximate='none')\n",
              "      )\n",
              "    )\n",
              "  )\n",
              "  (stage3): Sequential(\n",
              "    (0): CMTBlock(\n",
              "      (lpu): LPU(\n",
              "        (dwconv): Conv2d(184, 184, kernel_size=(3, 3), stride=(1, 1), padding=(1, 1), groups=184)\n",
              "      )\n",
              "      (mhsa): LMHSA(\n",
              "        (dwconv): Conv2d(184, 184, kernel_size=(1, 1), stride=(1, 1), groups=184)\n",
              "        (fc_q): Linear(in_features=184, out_features=184, bias=True)\n",
              "        (fc_k): Linear(in_features=184, out_features=184, bias=True)\n",
              "        (fc_v): Linear(in_features=184, out_features=184, bias=True)\n",
              "        (fc_o): Linear(in_features=184, out_features=184, bias=True)\n",
              "      )\n",
              "      (irffn): IRFFN(\n",
              "        (conv1): Conv2d(184, 662, kernel_size=(1, 1), stride=(1, 1))\n",
              "        (bn1): BatchNorm2d(662, eps=1e-05, momentum=0.1, affine=True, track_running_stats=True)\n",
              "        (dwconv): Conv2d(662, 662, kernel_size=(3, 3), stride=(1, 1), padding=(1, 1), groups=662)\n",
              "        (bn2): BatchNorm2d(662, eps=1e-05, momentum=0.1, affine=True, track_running_stats=True)\n",
              "        (conv2): Conv2d(662, 184, kernel_size=(1, 1), stride=(1, 1))\n",
              "        (bn3): BatchNorm2d(184, eps=1e-05, momentum=0.1, affine=True, track_running_stats=True)\n",
              "        (gelu): GELU(approximate='none')\n",
              "      )\n",
              "    )\n",
              "    (1): CMTBlock(\n",
              "      (lpu): LPU(\n",
              "        (dwconv): Conv2d(184, 184, kernel_size=(3, 3), stride=(1, 1), padding=(1, 1), groups=184)\n",
              "      )\n",
              "      (mhsa): LMHSA(\n",
              "        (dwconv): Conv2d(184, 184, kernel_size=(1, 1), stride=(1, 1), groups=184)\n",
              "        (fc_q): Linear(in_features=184, out_features=184, bias=True)\n",
              "        (fc_k): Linear(in_features=184, out_features=184, bias=True)\n",
              "        (fc_v): Linear(in_features=184, out_features=184, bias=True)\n",
              "        (fc_o): Linear(in_features=184, out_features=184, bias=True)\n",
              "      )\n",
              "      (irffn): IRFFN(\n",
              "        (conv1): Conv2d(184, 662, kernel_size=(1, 1), stride=(1, 1))\n",
              "        (bn1): BatchNorm2d(662, eps=1e-05, momentum=0.1, affine=True, track_running_stats=True)\n",
              "        (dwconv): Conv2d(662, 662, kernel_size=(3, 3), stride=(1, 1), padding=(1, 1), groups=662)\n",
              "        (bn2): BatchNorm2d(662, eps=1e-05, momentum=0.1, affine=True, track_running_stats=True)\n",
              "        (conv2): Conv2d(662, 184, kernel_size=(1, 1), stride=(1, 1))\n",
              "        (bn3): BatchNorm2d(184, eps=1e-05, momentum=0.1, affine=True, track_running_stats=True)\n",
              "        (gelu): GELU(approximate='none')\n",
              "      )\n",
              "    )\n",
              "  )\n",
              "  (avg_pool): AdaptiveAvgPool2d(output_size=1)\n",
              "  (projection): Sequential(\n",
              "    (0): Conv2d(184, 256, kernel_size=(1, 1), stride=(1, 1))\n",
              "    (1): ReLU(inplace=True)\n",
              "  )\n",
              "  (classifier): Linear(in_features=256, out_features=10, bias=True)\n",
              ")"
            ]
          },
          "metadata": {},
          "execution_count": 9
        }
      ]
    },
    {
      "cell_type": "code",
      "source": [
        "# Defining training recipe.\n",
        "EPOCHS, loss_fn, optimizer, scheduler = get_training_objects(m_1)"
      ],
      "metadata": {
        "id": "2HtvXwMxPT1p"
      },
      "execution_count": null,
      "outputs": []
    },
    {
      "cell_type": "code",
      "source": [
        "# Training.\n",
        "history = train(m_1, optimizer, scheduler, loss_fn, train_loader, val_loader, EPOCHS, device)\n",
        "\n",
        "# Creating a checkpoint.\n",
        "checkpoint = {\n",
        "  \"model\": m_1.state_dict(),\n",
        "  \"optimizer\": optimizer.state_dict(),\n",
        "  \"scheduler\": scheduler.state_dict()\n",
        "}\n",
        "\n",
        "# Saving the model.\n",
        "torch.save(checkpoint, \"checkpoint1_32x32.pt\")\n",
        "\n",
        "# Saving history.\n",
        "with open(\"m_1_history_32x32.pkl\", \"wb\") as f:\n",
        "  pickle.dump(history, f)"
      ],
      "metadata": {
        "id": "mZjwO8EnPT1p",
        "colab": {
          "base_uri": "https://localhost:8080/"
        },
        "outputId": "107b2493-3245-47d6-bb61-7999e6e5c24c"
      },
      "execution_count": null,
      "outputs": [
        {
          "output_type": "stream",
          "name": "stdout",
          "text": [
            "Epoch  1/25:\n"
          ]
        },
        {
          "output_type": "stream",
          "name": "stderr",
          "text": [
            "Training: 100%|██████████| 1250/1250 [01:16<00:00, 16.40it/s]\n",
            "Validation: 100%|██████████| 313/313 [00:06<00:00, 46.81it/s]\n"
          ]
        },
        {
          "output_type": "stream",
          "name": "stdout",
          "text": [
            "train_loss: 1.6344, train_accuracy: 0.3999, val_loss: 1.3950, val_accuracy: 0.4886, lr: 6.0000e-05\n",
            "\n",
            "Epoch  2/25:\n"
          ]
        },
        {
          "output_type": "stream",
          "name": "stderr",
          "text": [
            "Training: 100%|██████████| 1250/1250 [01:12<00:00, 17.23it/s]\n",
            "Validation: 100%|██████████| 313/313 [00:07<00:00, 39.18it/s]\n"
          ]
        },
        {
          "output_type": "stream",
          "name": "stdout",
          "text": [
            "train_loss: 1.3294, train_accuracy: 0.5185, val_loss: 1.2430, val_accuracy: 0.5536, lr: 5.9763e-05\n",
            "\n",
            "Epoch  3/25:\n"
          ]
        },
        {
          "output_type": "stream",
          "name": "stderr",
          "text": [
            "Training: 100%|██████████| 1250/1250 [01:08<00:00, 18.13it/s]\n",
            "Validation: 100%|██████████| 313/313 [00:06<00:00, 47.56it/s]\n"
          ]
        },
        {
          "output_type": "stream",
          "name": "stdout",
          "text": [
            "train_loss: 1.2041, train_accuracy: 0.5695, val_loss: 1.1382, val_accuracy: 0.5961, lr: 5.9057e-05\n",
            "\n",
            "Epoch  4/25:\n"
          ]
        },
        {
          "output_type": "stream",
          "name": "stderr",
          "text": [
            "Training: 100%|██████████| 1250/1250 [01:08<00:00, 18.21it/s]\n",
            "Validation: 100%|██████████| 313/313 [00:06<00:00, 48.46it/s]\n"
          ]
        },
        {
          "output_type": "stream",
          "name": "stdout",
          "text": [
            "train_loss: 1.1077, train_accuracy: 0.6041, val_loss: 1.0612, val_accuracy: 0.6212, lr: 5.7893e-05\n",
            "\n",
            "Epoch  5/25:\n"
          ]
        },
        {
          "output_type": "stream",
          "name": "stderr",
          "text": [
            "Training: 100%|██████████| 1250/1250 [01:06<00:00, 18.75it/s]\n",
            "Validation: 100%|██████████| 313/313 [00:06<00:00, 47.28it/s]\n"
          ]
        },
        {
          "output_type": "stream",
          "name": "stdout",
          "text": [
            "train_loss: 1.0361, train_accuracy: 0.6316, val_loss: 1.0164, val_accuracy: 0.6438, lr: 5.6289e-05\n",
            "\n",
            "Epoch  6/25:\n"
          ]
        },
        {
          "output_type": "stream",
          "name": "stderr",
          "text": [
            "Training: 100%|██████████| 1250/1250 [01:08<00:00, 18.25it/s]\n",
            "Validation: 100%|██████████| 313/313 [00:06<00:00, 47.64it/s]\n"
          ]
        },
        {
          "output_type": "stream",
          "name": "stdout",
          "text": [
            "train_loss: 0.9781, train_accuracy: 0.6531, val_loss: 0.9585, val_accuracy: 0.6634, lr: 5.4271e-05\n",
            "\n",
            "Epoch  7/25:\n"
          ]
        },
        {
          "output_type": "stream",
          "name": "stderr",
          "text": [
            "Training: 100%|██████████| 1250/1250 [01:07<00:00, 18.52it/s]\n",
            "Validation: 100%|██████████| 313/313 [00:06<00:00, 48.20it/s]\n"
          ]
        },
        {
          "output_type": "stream",
          "name": "stdout",
          "text": [
            "train_loss: 0.9354, train_accuracy: 0.6687, val_loss: 0.9194, val_accuracy: 0.6723, lr: 5.1869e-05\n",
            "\n",
            "Epoch  8/25:\n"
          ]
        },
        {
          "output_type": "stream",
          "name": "stderr",
          "text": [
            "Training: 100%|██████████| 1250/1250 [01:06<00:00, 18.77it/s]\n",
            "Validation: 100%|██████████| 313/313 [00:06<00:00, 47.79it/s]\n"
          ]
        },
        {
          "output_type": "stream",
          "name": "stdout",
          "text": [
            "train_loss: 0.8953, train_accuracy: 0.6822, val_loss: 0.8934, val_accuracy: 0.6897, lr: 4.9123e-05\n",
            "\n",
            "Epoch  9/25:\n"
          ]
        },
        {
          "output_type": "stream",
          "name": "stderr",
          "text": [
            "Training: 100%|██████████| 1250/1250 [01:07<00:00, 18.46it/s]\n",
            "Validation: 100%|██████████| 313/313 [00:06<00:00, 47.32it/s]\n"
          ]
        },
        {
          "output_type": "stream",
          "name": "stdout",
          "text": [
            "train_loss: 0.8569, train_accuracy: 0.6956, val_loss: 0.8687, val_accuracy: 0.6966, lr: 4.6075e-05\n",
            "\n",
            "Epoch 10/25:\n"
          ]
        },
        {
          "output_type": "stream",
          "name": "stderr",
          "text": [
            "Training: 100%|██████████| 1250/1250 [01:07<00:00, 18.62it/s]\n",
            "Validation: 100%|██████████| 313/313 [00:06<00:00, 47.08it/s]\n"
          ]
        },
        {
          "output_type": "stream",
          "name": "stdout",
          "text": [
            "train_loss: 0.8240, train_accuracy: 0.7071, val_loss: 0.8515, val_accuracy: 0.7028, lr: 4.2773e-05\n",
            "\n",
            "Epoch 11/25:\n"
          ]
        },
        {
          "output_type": "stream",
          "name": "stderr",
          "text": [
            "Training: 100%|██████████| 1250/1250 [01:08<00:00, 18.35it/s]\n",
            "Validation: 100%|██████████| 313/313 [00:06<00:00, 48.31it/s]\n"
          ]
        },
        {
          "output_type": "stream",
          "name": "stdout",
          "text": [
            "train_loss: 0.8020, train_accuracy: 0.7170, val_loss: 0.8319, val_accuracy: 0.7079, lr: 3.9271e-05\n",
            "\n",
            "Epoch 12/25:\n"
          ]
        },
        {
          "output_type": "stream",
          "name": "stderr",
          "text": [
            "Training: 100%|██████████| 1250/1250 [01:06<00:00, 18.69it/s]\n",
            "Validation: 100%|██████████| 313/313 [00:06<00:00, 47.41it/s]\n"
          ]
        },
        {
          "output_type": "stream",
          "name": "stdout",
          "text": [
            "train_loss: 0.7780, train_accuracy: 0.7264, val_loss: 0.8083, val_accuracy: 0.7197, lr: 3.5621e-05\n",
            "\n",
            "Epoch 13/25:\n"
          ]
        },
        {
          "output_type": "stream",
          "name": "stderr",
          "text": [
            "Training: 100%|██████████| 1250/1250 [01:06<00:00, 18.73it/s]\n",
            "Validation: 100%|██████████| 313/313 [00:06<00:00, 48.13it/s]\n"
          ]
        },
        {
          "output_type": "stream",
          "name": "stdout",
          "text": [
            "train_loss: 0.7542, train_accuracy: 0.7338, val_loss: 0.7942, val_accuracy: 0.7243, lr: 3.1884e-05\n",
            "\n",
            "Epoch 14/25:\n"
          ]
        },
        {
          "output_type": "stream",
          "name": "stderr",
          "text": [
            "Training: 100%|██████████| 1250/1250 [01:07<00:00, 18.48it/s]\n",
            "Validation: 100%|██████████| 313/313 [00:06<00:00, 47.65it/s]\n"
          ]
        },
        {
          "output_type": "stream",
          "name": "stdout",
          "text": [
            "train_loss: 0.7345, train_accuracy: 0.7415, val_loss: 0.7820, val_accuracy: 0.7236, lr: 2.8116e-05\n",
            "\n",
            "Epoch 15/25:\n"
          ]
        },
        {
          "output_type": "stream",
          "name": "stderr",
          "text": [
            "Training: 100%|██████████| 1250/1250 [01:06<00:00, 18.85it/s]\n",
            "Validation: 100%|██████████| 313/313 [00:06<00:00, 47.09it/s]\n"
          ]
        },
        {
          "output_type": "stream",
          "name": "stdout",
          "text": [
            "train_loss: 0.7169, train_accuracy: 0.7485, val_loss: 0.7710, val_accuracy: 0.7323, lr: 2.4379e-05\n",
            "\n",
            "Epoch 16/25:\n"
          ]
        },
        {
          "output_type": "stream",
          "name": "stderr",
          "text": [
            "Training: 100%|██████████| 1250/1250 [01:05<00:00, 19.06it/s]\n",
            "Validation: 100%|██████████| 313/313 [00:06<00:00, 49.03it/s]\n"
          ]
        },
        {
          "output_type": "stream",
          "name": "stdout",
          "text": [
            "train_loss: 0.6976, train_accuracy: 0.7550, val_loss: 0.7630, val_accuracy: 0.7324, lr: 2.0729e-05\n",
            "\n",
            "Epoch 17/25:\n"
          ]
        },
        {
          "output_type": "stream",
          "name": "stderr",
          "text": [
            "Training: 100%|██████████| 1250/1250 [01:06<00:00, 18.92it/s]\n",
            "Validation: 100%|██████████| 313/313 [00:06<00:00, 48.22it/s]\n"
          ]
        },
        {
          "output_type": "stream",
          "name": "stdout",
          "text": [
            "train_loss: 0.6875, train_accuracy: 0.7610, val_loss: 0.7418, val_accuracy: 0.7408, lr: 1.7227e-05\n",
            "\n",
            "Epoch 18/25:\n"
          ]
        },
        {
          "output_type": "stream",
          "name": "stderr",
          "text": [
            "Training: 100%|██████████| 1250/1250 [01:05<00:00, 19.16it/s]\n",
            "Validation: 100%|██████████| 313/313 [00:06<00:00, 48.76it/s]\n"
          ]
        },
        {
          "output_type": "stream",
          "name": "stdout",
          "text": [
            "train_loss: 0.6729, train_accuracy: 0.7631, val_loss: 0.7447, val_accuracy: 0.7427, lr: 1.3925e-05\n",
            "\n",
            "Epoch 19/25:\n"
          ]
        },
        {
          "output_type": "stream",
          "name": "stderr",
          "text": [
            "Training: 100%|██████████| 1250/1250 [01:06<00:00, 18.89it/s]\n",
            "Validation: 100%|██████████| 313/313 [00:06<00:00, 48.61it/s]\n"
          ]
        },
        {
          "output_type": "stream",
          "name": "stdout",
          "text": [
            "train_loss: 0.6669, train_accuracy: 0.7663, val_loss: 0.7418, val_accuracy: 0.7404, lr: 1.0877e-05\n",
            "\n",
            "Epoch 20/25:\n"
          ]
        },
        {
          "output_type": "stream",
          "name": "stderr",
          "text": [
            "Training: 100%|██████████| 1250/1250 [01:05<00:00, 19.13it/s]\n",
            "Validation: 100%|██████████| 313/313 [00:06<00:00, 48.62it/s]\n"
          ]
        },
        {
          "output_type": "stream",
          "name": "stdout",
          "text": [
            "train_loss: 0.6531, train_accuracy: 0.7682, val_loss: 0.7278, val_accuracy: 0.7466, lr: 8.1309e-06\n",
            "\n",
            "Epoch 21/25:\n"
          ]
        },
        {
          "output_type": "stream",
          "name": "stderr",
          "text": [
            "Training: 100%|██████████| 1250/1250 [01:04<00:00, 19.27it/s]\n",
            "Validation: 100%|██████████| 313/313 [00:06<00:00, 49.34it/s]\n"
          ]
        },
        {
          "output_type": "stream",
          "name": "stdout",
          "text": [
            "train_loss: 0.6485, train_accuracy: 0.7722, val_loss: 0.7308, val_accuracy: 0.7476, lr: 5.7295e-06\n",
            "\n",
            "Epoch 22/25:\n"
          ]
        },
        {
          "output_type": "stream",
          "name": "stderr",
          "text": [
            "Training: 100%|██████████| 1250/1250 [01:05<00:00, 18.98it/s]\n",
            "Validation: 100%|██████████| 313/313 [00:06<00:00, 49.65it/s]\n"
          ]
        },
        {
          "output_type": "stream",
          "name": "stdout",
          "text": [
            "train_loss: 0.6429, train_accuracy: 0.7761, val_loss: 0.7207, val_accuracy: 0.7483, lr: 3.7108e-06\n",
            "\n",
            "Epoch 23/25:\n"
          ]
        },
        {
          "output_type": "stream",
          "name": "stderr",
          "text": [
            "Training: 100%|██████████| 1250/1250 [01:05<00:00, 19.19it/s]\n",
            "Validation: 100%|██████████| 313/313 [00:06<00:00, 48.20it/s]\n"
          ]
        },
        {
          "output_type": "stream",
          "name": "stdout",
          "text": [
            "train_loss: 0.6424, train_accuracy: 0.7732, val_loss: 0.7213, val_accuracy: 0.7461, lr: 2.1067e-06\n",
            "\n",
            "Epoch 24/25:\n"
          ]
        },
        {
          "output_type": "stream",
          "name": "stderr",
          "text": [
            "Training: 100%|██████████| 1250/1250 [01:04<00:00, 19.28it/s]\n",
            "Validation: 100%|██████████| 313/313 [00:07<00:00, 42.76it/s]\n"
          ]
        },
        {
          "output_type": "stream",
          "name": "stdout",
          "text": [
            "train_loss: 0.6363, train_accuracy: 0.7762, val_loss: 0.7238, val_accuracy: 0.7482, lr: 9.4251e-07\n",
            "\n",
            "Epoch 25/25:\n"
          ]
        },
        {
          "output_type": "stream",
          "name": "stderr",
          "text": [
            "Training: 100%|██████████| 1250/1250 [01:04<00:00, 19.43it/s]\n",
            "Validation: 100%|██████████| 313/313 [00:06<00:00, 48.65it/s]\n"
          ]
        },
        {
          "output_type": "stream",
          "name": "stdout",
          "text": [
            "\n",
            "train_loss: 0.6407, train_accuracy: 0.7741, val_loss: 0.7230, val_accuracy: 0.7475, lr: 2.3656e-07\n"
          ]
        }
      ]
    },
    {
      "cell_type": "markdown",
      "source": [
        "### Standard MHSA model ($m_2$)"
      ],
      "metadata": {
        "id": "Z3tA4hXcRwt6"
      }
    },
    {
      "cell_type": "code",
      "source": [
        "# Defining the reduced model that uses MHSA.\n",
        "m_2 = ReducedCMT(\n",
        "  in_channels = 3,\n",
        "  stem_channels = 16,\n",
        "  channels = [46, 92, 184],\n",
        "  block_layers = [2, 2, 2],\n",
        "  k = [4, 2, 1],\n",
        "  heads = [1, 2, 4],\n",
        "  R = 3.6,\n",
        "  input_size = 32,\n",
        "  classes = 10,\n",
        "  attention_type = \"standard\")\n",
        "\n",
        "# Printing number of parameters.\n",
        "print(f\"m_2 has {sum(p.numel() for p in m_2.parameters())} parameters.\")"
      ],
      "metadata": {
        "id": "1ChGjE7QlNEJ",
        "colab": {
          "base_uri": "https://localhost:8080/"
        },
        "outputId": "587dd2b4-0360-4699-a5e9-2473bc2d9d3f"
      },
      "execution_count": null,
      "outputs": [
        {
          "output_type": "stream",
          "name": "stdout",
          "text": [
            "m_2 has 1178892 parameters.\n"
          ]
        }
      ]
    },
    {
      "cell_type": "code",
      "source": [
        "# Computing and printing number of FLOPs.\n",
        "get_flops(m_2, (1, 3, 32, 32))"
      ],
      "metadata": {
        "id": "vzG4tPj8lNEM",
        "colab": {
          "base_uri": "https://localhost:8080/"
        },
        "outputId": "6c619a77-d72c-461c-e224-4f333f698efc"
      },
      "execution_count": null,
      "outputs": [
        {
          "output_type": "stream",
          "name": "stdout",
          "text": [
            "ReducedCMT(\n",
            "  #params: 1.18M, #flops: 57.42M\n",
            "  (stem): ReducedStem(\n",
            "    #params: 0.48K, #flops: 0.52M\n",
            "    (conv): Conv2d(\n",
            "      3, 16, kernel_size=(3, 3), stride=(1, 1), padding=(1, 1)\n",
            "      #params: 0.45K, #flops: 0.44M\n",
            "    )\n",
            "    (bn): BatchNorm2d(\n",
            "      16, eps=1e-05, momentum=0.1, affine=True, track_running_stats=True\n",
            "      #params: 32, #flops: 81.92K\n",
            "    )\n",
            "    (gelu): GELU(approximate='none')\n",
            "  )\n",
            "  (pe1): PatchEmbedding(\n",
            "    #params: 2.99K, #flops: 0.8M\n",
            "    (conv): Conv2d(\n",
            "      16, 46, kernel_size=(2, 2), stride=(2, 2)\n",
            "      #params: 2.99K, #flops: 0.75M\n",
            "    )\n",
            "  )\n",
            "  (pe2): PatchEmbedding(\n",
            "    #params: 17.02K, #flops: 1.11M\n",
            "    (conv): Conv2d(\n",
            "      46, 92, kernel_size=(2, 2), stride=(2, 2)\n",
            "      #params: 17.02K, #flops: 1.08M\n",
            "    )\n",
            "  )\n",
            "  (pe3): PatchEmbedding(\n",
            "    #params: 67.9K, #flops: 1.1M\n",
            "    (conv): Conv2d(\n",
            "      92, 184, kernel_size=(2, 2), stride=(2, 2)\n",
            "      #params: 67.9K, #flops: 1.08M\n",
            "    )\n",
            "  )\n",
            "  (stage1): Sequential(\n",
            "    #params: 53.8K, #flops: 26.29M\n",
            "    (0): CMTBlock(\n",
            "      #params: 26.9K, #flops: 13.14M\n",
            "      (lpu): LPU(\n",
            "        #params: 0.46K, #flops: 0.11M\n",
            "        (dwconv): Conv2d(\n",
            "          46, 46, kernel_size=(3, 3), stride=(1, 1), padding=(1, 1), groups=46\n",
            "          #params: 0.46K, #flops: 0.11M\n",
            "        )\n",
            "      )\n",
            "      (mhsa): MHSA(\n",
            "        #params: 8.65K, #flops: 8.24M\n",
            "        (fc_q): Linear(\n",
            "          in_features=46, out_features=46, bias=True\n",
            "          #params: 2.16K, #flops: 0.54M\n",
            "        )\n",
            "        (fc_k): Linear(\n",
            "          in_features=46, out_features=46, bias=True\n",
            "          #params: 2.16K, #flops: 0.54M\n",
            "        )\n",
            "        (fc_v): Linear(\n",
            "          in_features=46, out_features=46, bias=True\n",
            "          #params: 2.16K, #flops: 0.54M\n",
            "        )\n",
            "        (fc_o): Linear(\n",
            "          in_features=46, out_features=46, bias=True\n",
            "          #params: 2.16K, #flops: 0.54M\n",
            "        )\n",
            "      )\n",
            "      (irffn): IRFFN(\n",
            "        #params: 17.79K, #flops: 4.79M\n",
            "        (conv1): Conv2d(\n",
            "          46, 165, kernel_size=(1, 1), stride=(1, 1)\n",
            "          #params: 7.75K, #flops: 1.94M\n",
            "        )\n",
            "        (bn1): BatchNorm2d(\n",
            "          165, eps=1e-05, momentum=0.1, affine=True, track_running_stats=True\n",
            "          #params: 0.33K, #flops: 0.21M\n",
            "        )\n",
            "        (dwconv): Conv2d(\n",
            "          165, 165, kernel_size=(3, 3), stride=(1, 1), padding=(1, 1), groups=165\n",
            "          #params: 1.65K, #flops: 0.38M\n",
            "        )\n",
            "        (bn2): BatchNorm2d(\n",
            "          165, eps=1e-05, momentum=0.1, affine=True, track_running_stats=True\n",
            "          #params: 0.33K, #flops: 0.21M\n",
            "        )\n",
            "        (conv2): Conv2d(\n",
            "          165, 46, kernel_size=(1, 1), stride=(1, 1)\n",
            "          #params: 7.64K, #flops: 1.94M\n",
            "        )\n",
            "        (bn3): BatchNorm2d(\n",
            "          46, eps=1e-05, momentum=0.1, affine=True, track_running_stats=True\n",
            "          #params: 92, #flops: 58.88K\n",
            "        )\n",
            "        (gelu): GELU(approximate='none')\n",
            "      )\n",
            "    )\n",
            "    (1): CMTBlock(\n",
            "      #params: 26.9K, #flops: 13.14M\n",
            "      (lpu): LPU(\n",
            "        #params: 0.46K, #flops: 0.11M\n",
            "        (dwconv): Conv2d(\n",
            "          46, 46, kernel_size=(3, 3), stride=(1, 1), padding=(1, 1), groups=46\n",
            "          #params: 0.46K, #flops: 0.11M\n",
            "        )\n",
            "      )\n",
            "      (mhsa): MHSA(\n",
            "        #params: 8.65K, #flops: 8.24M\n",
            "        (fc_q): Linear(\n",
            "          in_features=46, out_features=46, bias=True\n",
            "          #params: 2.16K, #flops: 0.54M\n",
            "        )\n",
            "        (fc_k): Linear(\n",
            "          in_features=46, out_features=46, bias=True\n",
            "          #params: 2.16K, #flops: 0.54M\n",
            "        )\n",
            "        (fc_v): Linear(\n",
            "          in_features=46, out_features=46, bias=True\n",
            "          #params: 2.16K, #flops: 0.54M\n",
            "        )\n",
            "        (fc_o): Linear(\n",
            "          in_features=46, out_features=46, bias=True\n",
            "          #params: 2.16K, #flops: 0.54M\n",
            "        )\n",
            "      )\n",
            "      (irffn): IRFFN(\n",
            "        #params: 17.79K, #flops: 4.79M\n",
            "        (conv1): Conv2d(\n",
            "          46, 165, kernel_size=(1, 1), stride=(1, 1)\n",
            "          #params: 7.75K, #flops: 1.94M\n",
            "        )\n",
            "        (bn1): BatchNorm2d(\n",
            "          165, eps=1e-05, momentum=0.1, affine=True, track_running_stats=True\n",
            "          #params: 0.33K, #flops: 0.21M\n",
            "        )\n",
            "        (dwconv): Conv2d(\n",
            "          165, 165, kernel_size=(3, 3), stride=(1, 1), padding=(1, 1), groups=165\n",
            "          #params: 1.65K, #flops: 0.38M\n",
            "        )\n",
            "        (bn2): BatchNorm2d(\n",
            "          165, eps=1e-05, momentum=0.1, affine=True, track_running_stats=True\n",
            "          #params: 0.33K, #flops: 0.21M\n",
            "        )\n",
            "        (conv2): Conv2d(\n",
            "          165, 46, kernel_size=(1, 1), stride=(1, 1)\n",
            "          #params: 7.64K, #flops: 1.94M\n",
            "        )\n",
            "        (bn3): BatchNorm2d(\n",
            "          46, eps=1e-05, momentum=0.1, affine=True, track_running_stats=True\n",
            "          #params: 92, #flops: 58.88K\n",
            "        )\n",
            "        (gelu): GELU(approximate='none')\n",
            "      )\n",
            "    )\n",
            "  )\n",
            "  (stage2): Sequential(\n",
            "    #params: 0.2M, #flops: 14.7M\n",
            "    (0): CMTBlock(\n",
            "      #params: 0.1M, #flops: 7.35M\n",
            "      (lpu): LPU(\n",
            "        #params: 0.92K, #flops: 52.99K\n",
            "        (dwconv): Conv2d(\n",
            "          92, 92, kernel_size=(3, 3), stride=(1, 1), padding=(1, 1), groups=92\n",
            "          #params: 0.92K, #flops: 52.99K\n",
            "        )\n",
            "      )\n",
            "      (mhsa): MHSA(\n",
            "        #params: 34.22K, #flops: 2.94M\n",
            "        (fc_q): Linear(\n",
            "          in_features=92, out_features=92, bias=True\n",
            "          #params: 8.56K, #flops: 0.54M\n",
            "        )\n",
            "        (fc_k): Linear(\n",
            "          in_features=92, out_features=92, bias=True\n",
            "          #params: 8.56K, #flops: 0.54M\n",
            "        )\n",
            "        (fc_v): Linear(\n",
            "          in_features=92, out_features=92, bias=True\n",
            "          #params: 8.56K, #flops: 0.54M\n",
            "        )\n",
            "        (fc_o): Linear(\n",
            "          in_features=92, out_features=92, bias=True\n",
            "          #params: 8.56K, #flops: 0.54M\n",
            "        )\n",
            "      )\n",
            "      (irffn): IRFFN(\n",
            "        #params: 66.14K, #flops: 4.35M\n",
            "        (conv1): Conv2d(\n",
            "          92, 331, kernel_size=(1, 1), stride=(1, 1)\n",
            "          #params: 30.78K, #flops: 1.95M\n",
            "        )\n",
            "        (bn1): BatchNorm2d(\n",
            "          331, eps=1e-05, momentum=0.1, affine=True, track_running_stats=True\n",
            "          #params: 0.66K, #flops: 0.11M\n",
            "        )\n",
            "        (dwconv): Conv2d(\n",
            "          331, 331, kernel_size=(3, 3), stride=(1, 1), padding=(1, 1), groups=331\n",
            "          #params: 3.31K, #flops: 0.19M\n",
            "        )\n",
            "        (bn2): BatchNorm2d(\n",
            "          331, eps=1e-05, momentum=0.1, affine=True, track_running_stats=True\n",
            "          #params: 0.66K, #flops: 0.11M\n",
            "        )\n",
            "        (conv2): Conv2d(\n",
            "          331, 92, kernel_size=(1, 1), stride=(1, 1)\n",
            "          #params: 30.54K, #flops: 1.95M\n",
            "        )\n",
            "        (bn3): BatchNorm2d(\n",
            "          92, eps=1e-05, momentum=0.1, affine=True, track_running_stats=True\n",
            "          #params: 0.18K, #flops: 29.44K\n",
            "        )\n",
            "        (gelu): GELU(approximate='none')\n",
            "      )\n",
            "    )\n",
            "    (1): CMTBlock(\n",
            "      #params: 0.1M, #flops: 7.35M\n",
            "      (lpu): LPU(\n",
            "        #params: 0.92K, #flops: 52.99K\n",
            "        (dwconv): Conv2d(\n",
            "          92, 92, kernel_size=(3, 3), stride=(1, 1), padding=(1, 1), groups=92\n",
            "          #params: 0.92K, #flops: 52.99K\n",
            "        )\n",
            "      )\n",
            "      (mhsa): MHSA(\n",
            "        #params: 34.22K, #flops: 2.94M\n",
            "        (fc_q): Linear(\n",
            "          in_features=92, out_features=92, bias=True\n",
            "          #params: 8.56K, #flops: 0.54M\n",
            "        )\n",
            "        (fc_k): Linear(\n",
            "          in_features=92, out_features=92, bias=True\n",
            "          #params: 8.56K, #flops: 0.54M\n",
            "        )\n",
            "        (fc_v): Linear(\n",
            "          in_features=92, out_features=92, bias=True\n",
            "          #params: 8.56K, #flops: 0.54M\n",
            "        )\n",
            "        (fc_o): Linear(\n",
            "          in_features=92, out_features=92, bias=True\n",
            "          #params: 8.56K, #flops: 0.54M\n",
            "        )\n",
            "      )\n",
            "      (irffn): IRFFN(\n",
            "        #params: 66.14K, #flops: 4.35M\n",
            "        (conv1): Conv2d(\n",
            "          92, 331, kernel_size=(1, 1), stride=(1, 1)\n",
            "          #params: 30.78K, #flops: 1.95M\n",
            "        )\n",
            "        (bn1): BatchNorm2d(\n",
            "          331, eps=1e-05, momentum=0.1, affine=True, track_running_stats=True\n",
            "          #params: 0.66K, #flops: 0.11M\n",
            "        )\n",
            "        (dwconv): Conv2d(\n",
            "          331, 331, kernel_size=(3, 3), stride=(1, 1), padding=(1, 1), groups=331\n",
            "          #params: 3.31K, #flops: 0.19M\n",
            "        )\n",
            "        (bn2): BatchNorm2d(\n",
            "          331, eps=1e-05, momentum=0.1, affine=True, track_running_stats=True\n",
            "          #params: 0.66K, #flops: 0.11M\n",
            "        )\n",
            "        (conv2): Conv2d(\n",
            "          331, 92, kernel_size=(1, 1), stride=(1, 1)\n",
            "          #params: 30.54K, #flops: 1.95M\n",
            "        )\n",
            "        (bn3): BatchNorm2d(\n",
            "          92, eps=1e-05, momentum=0.1, affine=True, track_running_stats=True\n",
            "          #params: 0.18K, #flops: 29.44K\n",
            "        )\n",
            "        (gelu): GELU(approximate='none')\n",
            "      )\n",
            "    )\n",
            "  )\n",
            "  (stage3): Sequential(\n",
            "    #params: 0.78M, #flops: 12.85M\n",
            "    (0): CMTBlock(\n",
            "      #params: 0.39M, #flops: 6.42M\n",
            "      (lpu): LPU(\n",
            "        #params: 1.84K, #flops: 26.5K\n",
            "        (dwconv): Conv2d(\n",
            "          184, 184, kernel_size=(3, 3), stride=(1, 1), padding=(1, 1), groups=184\n",
            "          #params: 1.84K, #flops: 26.5K\n",
            "        )\n",
            "      )\n",
            "      (mhsa): MHSA(\n",
            "        #params: 0.14M, #flops: 2.27M\n",
            "        (fc_q): Linear(\n",
            "          in_features=184, out_features=184, bias=True\n",
            "          #params: 34.04K, #flops: 0.54M\n",
            "        )\n",
            "        (fc_k): Linear(\n",
            "          in_features=184, out_features=184, bias=True\n",
            "          #params: 34.04K, #flops: 0.54M\n",
            "        )\n",
            "        (fc_v): Linear(\n",
            "          in_features=184, out_features=184, bias=True\n",
            "          #params: 34.04K, #flops: 0.54M\n",
            "        )\n",
            "        (fc_o): Linear(\n",
            "          in_features=184, out_features=184, bias=True\n",
            "          #params: 34.04K, #flops: 0.54M\n",
            "        )\n",
            "      )\n",
            "      (irffn): IRFFN(\n",
            "        #params: 0.25M, #flops: 4.13M\n",
            "        (conv1): Conv2d(\n",
            "          184, 662, kernel_size=(1, 1), stride=(1, 1)\n",
            "          #params: 0.12M, #flops: 1.95M\n",
            "        )\n",
            "        (bn1): BatchNorm2d(\n",
            "          662, eps=1e-05, momentum=0.1, affine=True, track_running_stats=True\n",
            "          #params: 1.32K, #flops: 52.96K\n",
            "        )\n",
            "        (dwconv): Conv2d(\n",
            "          662, 662, kernel_size=(3, 3), stride=(1, 1), padding=(1, 1), groups=662\n",
            "          #params: 6.62K, #flops: 95.33K\n",
            "        )\n",
            "        (bn2): BatchNorm2d(\n",
            "          662, eps=1e-05, momentum=0.1, affine=True, track_running_stats=True\n",
            "          #params: 1.32K, #flops: 52.96K\n",
            "        )\n",
            "        (conv2): Conv2d(\n",
            "          662, 184, kernel_size=(1, 1), stride=(1, 1)\n",
            "          #params: 0.12M, #flops: 1.95M\n",
            "        )\n",
            "        (bn3): BatchNorm2d(\n",
            "          184, eps=1e-05, momentum=0.1, affine=True, track_running_stats=True\n",
            "          #params: 0.37K, #flops: 14.72K\n",
            "        )\n",
            "        (gelu): GELU(approximate='none')\n",
            "      )\n",
            "    )\n",
            "    (1): CMTBlock(\n",
            "      #params: 0.39M, #flops: 6.42M\n",
            "      (lpu): LPU(\n",
            "        #params: 1.84K, #flops: 26.5K\n",
            "        (dwconv): Conv2d(\n",
            "          184, 184, kernel_size=(3, 3), stride=(1, 1), padding=(1, 1), groups=184\n",
            "          #params: 1.84K, #flops: 26.5K\n",
            "        )\n",
            "      )\n",
            "      (mhsa): MHSA(\n",
            "        #params: 0.14M, #flops: 2.27M\n",
            "        (fc_q): Linear(\n",
            "          in_features=184, out_features=184, bias=True\n",
            "          #params: 34.04K, #flops: 0.54M\n",
            "        )\n",
            "        (fc_k): Linear(\n",
            "          in_features=184, out_features=184, bias=True\n",
            "          #params: 34.04K, #flops: 0.54M\n",
            "        )\n",
            "        (fc_v): Linear(\n",
            "          in_features=184, out_features=184, bias=True\n",
            "          #params: 34.04K, #flops: 0.54M\n",
            "        )\n",
            "        (fc_o): Linear(\n",
            "          in_features=184, out_features=184, bias=True\n",
            "          #params: 34.04K, #flops: 0.54M\n",
            "        )\n",
            "      )\n",
            "      (irffn): IRFFN(\n",
            "        #params: 0.25M, #flops: 4.13M\n",
            "        (conv1): Conv2d(\n",
            "          184, 662, kernel_size=(1, 1), stride=(1, 1)\n",
            "          #params: 0.12M, #flops: 1.95M\n",
            "        )\n",
            "        (bn1): BatchNorm2d(\n",
            "          662, eps=1e-05, momentum=0.1, affine=True, track_running_stats=True\n",
            "          #params: 1.32K, #flops: 52.96K\n",
            "        )\n",
            "        (dwconv): Conv2d(\n",
            "          662, 662, kernel_size=(3, 3), stride=(1, 1), padding=(1, 1), groups=662\n",
            "          #params: 6.62K, #flops: 95.33K\n",
            "        )\n",
            "        (bn2): BatchNorm2d(\n",
            "          662, eps=1e-05, momentum=0.1, affine=True, track_running_stats=True\n",
            "          #params: 1.32K, #flops: 52.96K\n",
            "        )\n",
            "        (conv2): Conv2d(\n",
            "          662, 184, kernel_size=(1, 1), stride=(1, 1)\n",
            "          #params: 0.12M, #flops: 1.95M\n",
            "        )\n",
            "        (bn3): BatchNorm2d(\n",
            "          184, eps=1e-05, momentum=0.1, affine=True, track_running_stats=True\n",
            "          #params: 0.37K, #flops: 14.72K\n",
            "        )\n",
            "        (gelu): GELU(approximate='none')\n",
            "      )\n",
            "    )\n",
            "  )\n",
            "  (avg_pool): AdaptiveAvgPool2d(\n",
            "    output_size=1\n",
            "    #params: 0, #flops: 2.94K\n",
            "  )\n",
            "  (projection): Sequential(\n",
            "    #params: 47.36K, #flops: 47.1K\n",
            "    (0): Conv2d(\n",
            "      184, 256, kernel_size=(1, 1), stride=(1, 1)\n",
            "      #params: 47.36K, #flops: 47.1K\n",
            "    )\n",
            "    (1): ReLU(inplace=True)\n",
            "  )\n",
            "  (classifier): Linear(\n",
            "    in_features=256, out_features=10, bias=True\n",
            "    #params: 2.57K, #flops: 2.56K\n",
            "  )\n",
            ")\n"
          ]
        }
      ]
    },
    {
      "cell_type": "code",
      "source": [
        "# Loading model to device.\n",
        "m_2.to(device)"
      ],
      "metadata": {
        "id": "amOVYO-ilNEN",
        "colab": {
          "base_uri": "https://localhost:8080/"
        },
        "outputId": "334f8c60-2d07-4e7e-e89f-03b26e783e14"
      },
      "execution_count": null,
      "outputs": [
        {
          "output_type": "execute_result",
          "data": {
            "text/plain": [
              "ReducedCMT(\n",
              "  (stem): ReducedStem(\n",
              "    (conv): Conv2d(3, 16, kernel_size=(3, 3), stride=(1, 1), padding=(1, 1))\n",
              "    (bn): BatchNorm2d(16, eps=1e-05, momentum=0.1, affine=True, track_running_stats=True)\n",
              "    (gelu): GELU(approximate='none')\n",
              "  )\n",
              "  (pe1): PatchEmbedding(\n",
              "    (conv): Conv2d(16, 46, kernel_size=(2, 2), stride=(2, 2))\n",
              "  )\n",
              "  (pe2): PatchEmbedding(\n",
              "    (conv): Conv2d(46, 92, kernel_size=(2, 2), stride=(2, 2))\n",
              "  )\n",
              "  (pe3): PatchEmbedding(\n",
              "    (conv): Conv2d(92, 184, kernel_size=(2, 2), stride=(2, 2))\n",
              "  )\n",
              "  (stage1): Sequential(\n",
              "    (0): CMTBlock(\n",
              "      (lpu): LPU(\n",
              "        (dwconv): Conv2d(46, 46, kernel_size=(3, 3), stride=(1, 1), padding=(1, 1), groups=46)\n",
              "      )\n",
              "      (mhsa): MHSA(\n",
              "        (fc_q): Linear(in_features=46, out_features=46, bias=True)\n",
              "        (fc_k): Linear(in_features=46, out_features=46, bias=True)\n",
              "        (fc_v): Linear(in_features=46, out_features=46, bias=True)\n",
              "        (fc_o): Linear(in_features=46, out_features=46, bias=True)\n",
              "      )\n",
              "      (irffn): IRFFN(\n",
              "        (conv1): Conv2d(46, 165, kernel_size=(1, 1), stride=(1, 1))\n",
              "        (bn1): BatchNorm2d(165, eps=1e-05, momentum=0.1, affine=True, track_running_stats=True)\n",
              "        (dwconv): Conv2d(165, 165, kernel_size=(3, 3), stride=(1, 1), padding=(1, 1), groups=165)\n",
              "        (bn2): BatchNorm2d(165, eps=1e-05, momentum=0.1, affine=True, track_running_stats=True)\n",
              "        (conv2): Conv2d(165, 46, kernel_size=(1, 1), stride=(1, 1))\n",
              "        (bn3): BatchNorm2d(46, eps=1e-05, momentum=0.1, affine=True, track_running_stats=True)\n",
              "        (gelu): GELU(approximate='none')\n",
              "      )\n",
              "    )\n",
              "    (1): CMTBlock(\n",
              "      (lpu): LPU(\n",
              "        (dwconv): Conv2d(46, 46, kernel_size=(3, 3), stride=(1, 1), padding=(1, 1), groups=46)\n",
              "      )\n",
              "      (mhsa): MHSA(\n",
              "        (fc_q): Linear(in_features=46, out_features=46, bias=True)\n",
              "        (fc_k): Linear(in_features=46, out_features=46, bias=True)\n",
              "        (fc_v): Linear(in_features=46, out_features=46, bias=True)\n",
              "        (fc_o): Linear(in_features=46, out_features=46, bias=True)\n",
              "      )\n",
              "      (irffn): IRFFN(\n",
              "        (conv1): Conv2d(46, 165, kernel_size=(1, 1), stride=(1, 1))\n",
              "        (bn1): BatchNorm2d(165, eps=1e-05, momentum=0.1, affine=True, track_running_stats=True)\n",
              "        (dwconv): Conv2d(165, 165, kernel_size=(3, 3), stride=(1, 1), padding=(1, 1), groups=165)\n",
              "        (bn2): BatchNorm2d(165, eps=1e-05, momentum=0.1, affine=True, track_running_stats=True)\n",
              "        (conv2): Conv2d(165, 46, kernel_size=(1, 1), stride=(1, 1))\n",
              "        (bn3): BatchNorm2d(46, eps=1e-05, momentum=0.1, affine=True, track_running_stats=True)\n",
              "        (gelu): GELU(approximate='none')\n",
              "      )\n",
              "    )\n",
              "  )\n",
              "  (stage2): Sequential(\n",
              "    (0): CMTBlock(\n",
              "      (lpu): LPU(\n",
              "        (dwconv): Conv2d(92, 92, kernel_size=(3, 3), stride=(1, 1), padding=(1, 1), groups=92)\n",
              "      )\n",
              "      (mhsa): MHSA(\n",
              "        (fc_q): Linear(in_features=92, out_features=92, bias=True)\n",
              "        (fc_k): Linear(in_features=92, out_features=92, bias=True)\n",
              "        (fc_v): Linear(in_features=92, out_features=92, bias=True)\n",
              "        (fc_o): Linear(in_features=92, out_features=92, bias=True)\n",
              "      )\n",
              "      (irffn): IRFFN(\n",
              "        (conv1): Conv2d(92, 331, kernel_size=(1, 1), stride=(1, 1))\n",
              "        (bn1): BatchNorm2d(331, eps=1e-05, momentum=0.1, affine=True, track_running_stats=True)\n",
              "        (dwconv): Conv2d(331, 331, kernel_size=(3, 3), stride=(1, 1), padding=(1, 1), groups=331)\n",
              "        (bn2): BatchNorm2d(331, eps=1e-05, momentum=0.1, affine=True, track_running_stats=True)\n",
              "        (conv2): Conv2d(331, 92, kernel_size=(1, 1), stride=(1, 1))\n",
              "        (bn3): BatchNorm2d(92, eps=1e-05, momentum=0.1, affine=True, track_running_stats=True)\n",
              "        (gelu): GELU(approximate='none')\n",
              "      )\n",
              "    )\n",
              "    (1): CMTBlock(\n",
              "      (lpu): LPU(\n",
              "        (dwconv): Conv2d(92, 92, kernel_size=(3, 3), stride=(1, 1), padding=(1, 1), groups=92)\n",
              "      )\n",
              "      (mhsa): MHSA(\n",
              "        (fc_q): Linear(in_features=92, out_features=92, bias=True)\n",
              "        (fc_k): Linear(in_features=92, out_features=92, bias=True)\n",
              "        (fc_v): Linear(in_features=92, out_features=92, bias=True)\n",
              "        (fc_o): Linear(in_features=92, out_features=92, bias=True)\n",
              "      )\n",
              "      (irffn): IRFFN(\n",
              "        (conv1): Conv2d(92, 331, kernel_size=(1, 1), stride=(1, 1))\n",
              "        (bn1): BatchNorm2d(331, eps=1e-05, momentum=0.1, affine=True, track_running_stats=True)\n",
              "        (dwconv): Conv2d(331, 331, kernel_size=(3, 3), stride=(1, 1), padding=(1, 1), groups=331)\n",
              "        (bn2): BatchNorm2d(331, eps=1e-05, momentum=0.1, affine=True, track_running_stats=True)\n",
              "        (conv2): Conv2d(331, 92, kernel_size=(1, 1), stride=(1, 1))\n",
              "        (bn3): BatchNorm2d(92, eps=1e-05, momentum=0.1, affine=True, track_running_stats=True)\n",
              "        (gelu): GELU(approximate='none')\n",
              "      )\n",
              "    )\n",
              "  )\n",
              "  (stage3): Sequential(\n",
              "    (0): CMTBlock(\n",
              "      (lpu): LPU(\n",
              "        (dwconv): Conv2d(184, 184, kernel_size=(3, 3), stride=(1, 1), padding=(1, 1), groups=184)\n",
              "      )\n",
              "      (mhsa): MHSA(\n",
              "        (fc_q): Linear(in_features=184, out_features=184, bias=True)\n",
              "        (fc_k): Linear(in_features=184, out_features=184, bias=True)\n",
              "        (fc_v): Linear(in_features=184, out_features=184, bias=True)\n",
              "        (fc_o): Linear(in_features=184, out_features=184, bias=True)\n",
              "      )\n",
              "      (irffn): IRFFN(\n",
              "        (conv1): Conv2d(184, 662, kernel_size=(1, 1), stride=(1, 1))\n",
              "        (bn1): BatchNorm2d(662, eps=1e-05, momentum=0.1, affine=True, track_running_stats=True)\n",
              "        (dwconv): Conv2d(662, 662, kernel_size=(3, 3), stride=(1, 1), padding=(1, 1), groups=662)\n",
              "        (bn2): BatchNorm2d(662, eps=1e-05, momentum=0.1, affine=True, track_running_stats=True)\n",
              "        (conv2): Conv2d(662, 184, kernel_size=(1, 1), stride=(1, 1))\n",
              "        (bn3): BatchNorm2d(184, eps=1e-05, momentum=0.1, affine=True, track_running_stats=True)\n",
              "        (gelu): GELU(approximate='none')\n",
              "      )\n",
              "    )\n",
              "    (1): CMTBlock(\n",
              "      (lpu): LPU(\n",
              "        (dwconv): Conv2d(184, 184, kernel_size=(3, 3), stride=(1, 1), padding=(1, 1), groups=184)\n",
              "      )\n",
              "      (mhsa): MHSA(\n",
              "        (fc_q): Linear(in_features=184, out_features=184, bias=True)\n",
              "        (fc_k): Linear(in_features=184, out_features=184, bias=True)\n",
              "        (fc_v): Linear(in_features=184, out_features=184, bias=True)\n",
              "        (fc_o): Linear(in_features=184, out_features=184, bias=True)\n",
              "      )\n",
              "      (irffn): IRFFN(\n",
              "        (conv1): Conv2d(184, 662, kernel_size=(1, 1), stride=(1, 1))\n",
              "        (bn1): BatchNorm2d(662, eps=1e-05, momentum=0.1, affine=True, track_running_stats=True)\n",
              "        (dwconv): Conv2d(662, 662, kernel_size=(3, 3), stride=(1, 1), padding=(1, 1), groups=662)\n",
              "        (bn2): BatchNorm2d(662, eps=1e-05, momentum=0.1, affine=True, track_running_stats=True)\n",
              "        (conv2): Conv2d(662, 184, kernel_size=(1, 1), stride=(1, 1))\n",
              "        (bn3): BatchNorm2d(184, eps=1e-05, momentum=0.1, affine=True, track_running_stats=True)\n",
              "        (gelu): GELU(approximate='none')\n",
              "      )\n",
              "    )\n",
              "  )\n",
              "  (avg_pool): AdaptiveAvgPool2d(output_size=1)\n",
              "  (projection): Sequential(\n",
              "    (0): Conv2d(184, 256, kernel_size=(1, 1), stride=(1, 1))\n",
              "    (1): ReLU(inplace=True)\n",
              "  )\n",
              "  (classifier): Linear(in_features=256, out_features=10, bias=True)\n",
              ")"
            ]
          },
          "metadata": {},
          "execution_count": 9
        }
      ]
    },
    {
      "cell_type": "code",
      "source": [
        "# Defining training recipe.\n",
        "EPOCHS, loss_fn, optimizer, scheduler = get_training_objects(m_2)"
      ],
      "metadata": {
        "id": "4WNoiNRYlNEO"
      },
      "execution_count": null,
      "outputs": []
    },
    {
      "cell_type": "code",
      "source": [
        "# Training.\n",
        "history = train(m_2, optimizer, scheduler, loss_fn, train_loader, val_loader, EPOCHS, device)\n",
        "\n",
        "# Creating a checkpoint.\n",
        "checkpoint = {\n",
        "  \"model\": m_2.state_dict(),\n",
        "  \"optimizer\": optimizer.state_dict(),\n",
        "  \"scheduler\": scheduler.state_dict()\n",
        "}\n",
        "\n",
        "# Saving the model.\n",
        "torch.save(checkpoint, \"checkpoint2_32x32.pt\")\n",
        "\n",
        "# Saving history.\n",
        "with open(\"m_2_history_32x32.pkl\", \"wb\") as f:\n",
        "  pickle.dump(history, f)"
      ],
      "metadata": {
        "id": "mKaDEQ9ylNEO",
        "colab": {
          "base_uri": "https://localhost:8080/"
        },
        "outputId": "2e0c7cd7-ee13-48fe-862a-67b1b79244de"
      },
      "execution_count": null,
      "outputs": [
        {
          "output_type": "stream",
          "name": "stdout",
          "text": [
            "Epoch  1/25:\n"
          ]
        },
        {
          "output_type": "stream",
          "name": "stderr",
          "text": [
            "Training: 100%|██████████| 1250/1250 [01:09<00:00, 17.99it/s]\n",
            "Validation: 100%|██████████| 313/313 [00:06<00:00, 51.75it/s]\n"
          ]
        },
        {
          "output_type": "stream",
          "name": "stdout",
          "text": [
            "train_loss: 1.6567, train_accuracy: 0.3852, val_loss: 1.4215, val_accuracy: 0.4754, lr: 6.0000e-05\n",
            "\n",
            "Epoch  2/25:\n"
          ]
        },
        {
          "output_type": "stream",
          "name": "stderr",
          "text": [
            "Training: 100%|██████████| 1250/1250 [00:59<00:00, 21.12it/s]\n",
            "Validation: 100%|██████████| 313/313 [00:06<00:00, 52.03it/s]\n"
          ]
        },
        {
          "output_type": "stream",
          "name": "stdout",
          "text": [
            "train_loss: 1.3433, train_accuracy: 0.5134, val_loss: 1.2642, val_accuracy: 0.5388, lr: 5.9763e-05\n",
            "\n",
            "Epoch  3/25:\n"
          ]
        },
        {
          "output_type": "stream",
          "name": "stderr",
          "text": [
            "Training: 100%|██████████| 1250/1250 [00:58<00:00, 21.27it/s]\n",
            "Validation: 100%|██████████| 313/313 [00:06<00:00, 51.33it/s]\n"
          ]
        },
        {
          "output_type": "stream",
          "name": "stdout",
          "text": [
            "train_loss: 1.2155, train_accuracy: 0.5630, val_loss: 1.1543, val_accuracy: 0.5856, lr: 5.9057e-05\n",
            "\n",
            "Epoch  4/25:\n"
          ]
        },
        {
          "output_type": "stream",
          "name": "stderr",
          "text": [
            "Training: 100%|██████████| 1250/1250 [00:58<00:00, 21.21it/s]\n",
            "Validation: 100%|██████████| 313/313 [00:06<00:00, 50.52it/s]\n"
          ]
        },
        {
          "output_type": "stream",
          "name": "stdout",
          "text": [
            "train_loss: 1.1255, train_accuracy: 0.5974, val_loss: 1.0799, val_accuracy: 0.6180, lr: 5.7893e-05\n",
            "\n",
            "Epoch  5/25:\n"
          ]
        },
        {
          "output_type": "stream",
          "name": "stderr",
          "text": [
            "Training: 100%|██████████| 1250/1250 [00:59<00:00, 21.16it/s]\n",
            "Validation: 100%|██████████| 313/313 [00:06<00:00, 50.80it/s]\n"
          ]
        },
        {
          "output_type": "stream",
          "name": "stdout",
          "text": [
            "train_loss: 1.0511, train_accuracy: 0.6278, val_loss: 1.0187, val_accuracy: 0.6397, lr: 5.6289e-05\n",
            "\n",
            "Epoch  6/25:\n"
          ]
        },
        {
          "output_type": "stream",
          "name": "stderr",
          "text": [
            "Training: 100%|██████████| 1250/1250 [00:58<00:00, 21.19it/s]\n",
            "Validation: 100%|██████████| 313/313 [00:06<00:00, 51.80it/s]\n"
          ]
        },
        {
          "output_type": "stream",
          "name": "stdout",
          "text": [
            "train_loss: 0.9964, train_accuracy: 0.6455, val_loss: 0.9902, val_accuracy: 0.6484, lr: 5.4271e-05\n",
            "\n",
            "Epoch  7/25:\n"
          ]
        },
        {
          "output_type": "stream",
          "name": "stderr",
          "text": [
            "Training: 100%|██████████| 1250/1250 [00:59<00:00, 21.11it/s]\n",
            "Validation: 100%|██████████| 313/313 [00:06<00:00, 51.21it/s]\n"
          ]
        },
        {
          "output_type": "stream",
          "name": "stdout",
          "text": [
            "train_loss: 0.9507, train_accuracy: 0.6641, val_loss: 0.9265, val_accuracy: 0.6698, lr: 5.1869e-05\n",
            "\n",
            "Epoch  8/25:\n"
          ]
        },
        {
          "output_type": "stream",
          "name": "stderr",
          "text": [
            "Training: 100%|██████████| 1250/1250 [00:59<00:00, 21.06it/s]\n",
            "Validation: 100%|██████████| 313/313 [00:06<00:00, 51.30it/s]\n"
          ]
        },
        {
          "output_type": "stream",
          "name": "stdout",
          "text": [
            "train_loss: 0.9040, train_accuracy: 0.6797, val_loss: 0.9006, val_accuracy: 0.6829, lr: 4.9123e-05\n",
            "\n",
            "Epoch  9/25:\n"
          ]
        },
        {
          "output_type": "stream",
          "name": "stderr",
          "text": [
            "Training: 100%|██████████| 1250/1250 [00:59<00:00, 21.00it/s]\n",
            "Validation: 100%|██████████| 313/313 [00:06<00:00, 50.83it/s]\n"
          ]
        },
        {
          "output_type": "stream",
          "name": "stdout",
          "text": [
            "train_loss: 0.8690, train_accuracy: 0.6906, val_loss: 0.8774, val_accuracy: 0.6932, lr: 4.6075e-05\n",
            "\n",
            "Epoch 10/25:\n"
          ]
        },
        {
          "output_type": "stream",
          "name": "stderr",
          "text": [
            "Training: 100%|██████████| 1250/1250 [00:59<00:00, 21.03it/s]\n",
            "Validation: 100%|██████████| 313/313 [00:06<00:00, 50.45it/s]\n"
          ]
        },
        {
          "output_type": "stream",
          "name": "stdout",
          "text": [
            "train_loss: 0.8339, train_accuracy: 0.7054, val_loss: 0.8546, val_accuracy: 0.7023, lr: 4.2773e-05\n",
            "\n",
            "Epoch 11/25:\n"
          ]
        },
        {
          "output_type": "stream",
          "name": "stderr",
          "text": [
            "Training: 100%|██████████| 1250/1250 [00:58<00:00, 21.20it/s]\n",
            "Validation: 100%|██████████| 313/313 [00:05<00:00, 52.26it/s]\n"
          ]
        },
        {
          "output_type": "stream",
          "name": "stdout",
          "text": [
            "train_loss: 0.8085, train_accuracy: 0.7137, val_loss: 0.8375, val_accuracy: 0.7065, lr: 3.9271e-05\n",
            "\n",
            "Epoch 12/25:\n"
          ]
        },
        {
          "output_type": "stream",
          "name": "stderr",
          "text": [
            "Training: 100%|██████████| 1250/1250 [00:58<00:00, 21.44it/s]\n",
            "Validation: 100%|██████████| 313/313 [00:06<00:00, 52.10it/s]\n"
          ]
        },
        {
          "output_type": "stream",
          "name": "stdout",
          "text": [
            "train_loss: 0.7804, train_accuracy: 0.7234, val_loss: 0.8171, val_accuracy: 0.7161, lr: 3.5621e-05\n",
            "\n",
            "Epoch 13/25:\n"
          ]
        },
        {
          "output_type": "stream",
          "name": "stderr",
          "text": [
            "Training: 100%|██████████| 1250/1250 [00:58<00:00, 21.44it/s]\n",
            "Validation: 100%|██████████| 313/313 [00:05<00:00, 52.19it/s]\n"
          ]
        },
        {
          "output_type": "stream",
          "name": "stdout",
          "text": [
            "train_loss: 0.7541, train_accuracy: 0.7348, val_loss: 0.8074, val_accuracy: 0.7142, lr: 3.1884e-05\n",
            "\n",
            "Epoch 14/25:\n"
          ]
        },
        {
          "output_type": "stream",
          "name": "stderr",
          "text": [
            "Training: 100%|██████████| 1250/1250 [00:58<00:00, 21.42it/s]\n",
            "Validation: 100%|██████████| 313/313 [00:06<00:00, 51.80it/s]\n"
          ]
        },
        {
          "output_type": "stream",
          "name": "stdout",
          "text": [
            "train_loss: 0.7369, train_accuracy: 0.7395, val_loss: 0.7807, val_accuracy: 0.7285, lr: 2.8116e-05\n",
            "\n",
            "Epoch 15/25:\n"
          ]
        },
        {
          "output_type": "stream",
          "name": "stderr",
          "text": [
            "Training: 100%|██████████| 1250/1250 [00:58<00:00, 21.31it/s]\n",
            "Validation: 100%|██████████| 313/313 [00:05<00:00, 52.57it/s]\n"
          ]
        },
        {
          "output_type": "stream",
          "name": "stdout",
          "text": [
            "train_loss: 0.7163, train_accuracy: 0.7466, val_loss: 0.7700, val_accuracy: 0.7339, lr: 2.4379e-05\n",
            "\n",
            "Epoch 16/25:\n"
          ]
        },
        {
          "output_type": "stream",
          "name": "stderr",
          "text": [
            "Training: 100%|██████████| 1250/1250 [00:58<00:00, 21.53it/s]\n",
            "Validation: 100%|██████████| 313/313 [00:05<00:00, 52.70it/s]\n"
          ]
        },
        {
          "output_type": "stream",
          "name": "stdout",
          "text": [
            "train_loss: 0.6991, train_accuracy: 0.7529, val_loss: 0.7654, val_accuracy: 0.7322, lr: 2.0729e-05\n",
            "\n",
            "Epoch 17/25:\n"
          ]
        },
        {
          "output_type": "stream",
          "name": "stderr",
          "text": [
            "Training: 100%|██████████| 1250/1250 [00:58<00:00, 21.55it/s]\n",
            "Validation: 100%|██████████| 313/313 [00:05<00:00, 52.17it/s]\n"
          ]
        },
        {
          "output_type": "stream",
          "name": "stdout",
          "text": [
            "train_loss: 0.6888, train_accuracy: 0.7566, val_loss: 0.7455, val_accuracy: 0.7388, lr: 1.7227e-05\n",
            "\n",
            "Epoch 18/25:\n"
          ]
        },
        {
          "output_type": "stream",
          "name": "stderr",
          "text": [
            "Training: 100%|██████████| 1250/1250 [00:58<00:00, 21.39it/s]\n",
            "Validation: 100%|██████████| 313/313 [00:06<00:00, 51.74it/s]\n"
          ]
        },
        {
          "output_type": "stream",
          "name": "stdout",
          "text": [
            "train_loss: 0.6731, train_accuracy: 0.7645, val_loss: 0.7462, val_accuracy: 0.7389, lr: 1.3925e-05\n",
            "\n",
            "Epoch 19/25:\n"
          ]
        },
        {
          "output_type": "stream",
          "name": "stderr",
          "text": [
            "Training: 100%|██████████| 1250/1250 [00:58<00:00, 21.41it/s]\n",
            "Validation: 100%|██████████| 313/313 [00:06<00:00, 52.15it/s]\n"
          ]
        },
        {
          "output_type": "stream",
          "name": "stdout",
          "text": [
            "train_loss: 0.6659, train_accuracy: 0.7633, val_loss: 0.7376, val_accuracy: 0.7398, lr: 1.0877e-05\n",
            "\n",
            "Epoch 20/25:\n"
          ]
        },
        {
          "output_type": "stream",
          "name": "stderr",
          "text": [
            "Training: 100%|██████████| 1250/1250 [00:58<00:00, 21.47it/s]\n",
            "Validation: 100%|██████████| 313/313 [00:06<00:00, 50.74it/s]\n"
          ]
        },
        {
          "output_type": "stream",
          "name": "stdout",
          "text": [
            "train_loss: 0.6523, train_accuracy: 0.7699, val_loss: 0.7346, val_accuracy: 0.7454, lr: 8.1309e-06\n",
            "\n",
            "Epoch 21/25:\n"
          ]
        },
        {
          "output_type": "stream",
          "name": "stderr",
          "text": [
            "Training: 100%|██████████| 1250/1250 [00:58<00:00, 21.36it/s]\n",
            "Validation: 100%|██████████| 313/313 [00:06<00:00, 51.91it/s]\n"
          ]
        },
        {
          "output_type": "stream",
          "name": "stdout",
          "text": [
            "train_loss: 0.6486, train_accuracy: 0.7707, val_loss: 0.7317, val_accuracy: 0.7447, lr: 5.7295e-06\n",
            "\n",
            "Epoch 22/25:\n"
          ]
        },
        {
          "output_type": "stream",
          "name": "stderr",
          "text": [
            "Training: 100%|██████████| 1250/1250 [00:58<00:00, 21.26it/s]\n",
            "Validation: 100%|██████████| 313/313 [00:06<00:00, 51.55it/s]\n"
          ]
        },
        {
          "output_type": "stream",
          "name": "stdout",
          "text": [
            "train_loss: 0.6432, train_accuracy: 0.7741, val_loss: 0.7263, val_accuracy: 0.7472, lr: 3.7108e-06\n",
            "\n",
            "Epoch 23/25:\n"
          ]
        },
        {
          "output_type": "stream",
          "name": "stderr",
          "text": [
            "Training: 100%|██████████| 1250/1250 [00:58<00:00, 21.41it/s]\n",
            "Validation: 100%|██████████| 313/313 [00:06<00:00, 51.16it/s]\n"
          ]
        },
        {
          "output_type": "stream",
          "name": "stdout",
          "text": [
            "train_loss: 0.6388, train_accuracy: 0.7751, val_loss: 0.7236, val_accuracy: 0.7491, lr: 2.1067e-06\n",
            "\n",
            "Epoch 24/25:\n"
          ]
        },
        {
          "output_type": "stream",
          "name": "stderr",
          "text": [
            "Training: 100%|██████████| 1250/1250 [00:58<00:00, 21.25it/s]\n",
            "Validation: 100%|██████████| 313/313 [00:06<00:00, 51.69it/s]\n"
          ]
        },
        {
          "output_type": "stream",
          "name": "stdout",
          "text": [
            "train_loss: 0.6404, train_accuracy: 0.7756, val_loss: 0.7167, val_accuracy: 0.7490, lr: 9.4251e-07\n",
            "\n",
            "Epoch 25/25:\n"
          ]
        },
        {
          "output_type": "stream",
          "name": "stderr",
          "text": [
            "Training: 100%|██████████| 1250/1250 [00:58<00:00, 21.39it/s]\n",
            "Validation: 100%|██████████| 313/313 [00:05<00:00, 52.24it/s]"
          ]
        },
        {
          "output_type": "stream",
          "name": "stdout",
          "text": [
            "\n",
            "train_loss: 0.6382, train_accuracy: 0.7745, val_loss: 0.7105, val_accuracy: 0.7521, lr: 2.3656e-07\n"
          ]
        },
        {
          "output_type": "stream",
          "name": "stderr",
          "text": [
            "\n"
          ]
        }
      ]
    },
    {
      "cell_type": "markdown",
      "source": [
        "### No attention model ($m_3$)"
      ],
      "metadata": {
        "id": "GBo9AEepRzjQ"
      }
    },
    {
      "cell_type": "code",
      "source": [
        "# Defining the reduced model that uses no attention.\n",
        "m_3 = ReducedCMT(\n",
        "  in_channels = 3,\n",
        "  stem_channels = 16,\n",
        "  channels = [46, 92, 184],\n",
        "  block_layers = [2, 2, 2],\n",
        "  k = [4, 2, 1],\n",
        "  heads = [1, 2, 4],\n",
        "  R = 3.6,\n",
        "  input_size = 32,\n",
        "  classes = 10,\n",
        "  attention_type = None)\n",
        "\n",
        "# Printing number of parameters.\n",
        "print(f\"m_3 has {sum(p.numel() for p in m_3.parameters())} parameters.\")"
      ],
      "metadata": {
        "id": "70xmi9GClcrD",
        "colab": {
          "base_uri": "https://localhost:8080/"
        },
        "outputId": "c094a26f-7271-47e9-f34a-581c9e3b84f3"
      },
      "execution_count": null,
      "outputs": [
        {
          "output_type": "stream",
          "name": "stdout",
          "text": [
            "m_3 has 820828 parameters.\n"
          ]
        }
      ]
    },
    {
      "cell_type": "code",
      "source": [
        "# Computing and printing number of FLOPs.\n",
        "get_flops(m_3, (1, 3, 32, 32))"
      ],
      "metadata": {
        "id": "nV8j2o_6lcrF",
        "colab": {
          "base_uri": "https://localhost:8080/"
        },
        "outputId": "a9ef76f8-4aa8-4fb5-985a-51ed10c065bc"
      },
      "execution_count": null,
      "outputs": [
        {
          "output_type": "stream",
          "name": "stdout",
          "text": [
            "ReducedCMT(\n",
            "  #params: 0.82M, #flops: 30.5M\n",
            "  (stem): ReducedStem(\n",
            "    #params: 0.48K, #flops: 0.52M\n",
            "    (conv): Conv2d(\n",
            "      3, 16, kernel_size=(3, 3), stride=(1, 1), padding=(1, 1)\n",
            "      #params: 0.45K, #flops: 0.44M\n",
            "    )\n",
            "    (bn): BatchNorm2d(\n",
            "      16, eps=1e-05, momentum=0.1, affine=True, track_running_stats=True\n",
            "      #params: 32, #flops: 81.92K\n",
            "    )\n",
            "    (gelu): GELU(approximate='none')\n",
            "  )\n",
            "  (pe1): PatchEmbedding(\n",
            "    #params: 2.99K, #flops: 0.8M\n",
            "    (conv): Conv2d(\n",
            "      16, 46, kernel_size=(2, 2), stride=(2, 2)\n",
            "      #params: 2.99K, #flops: 0.75M\n",
            "    )\n",
            "  )\n",
            "  (pe2): PatchEmbedding(\n",
            "    #params: 17.02K, #flops: 1.11M\n",
            "    (conv): Conv2d(\n",
            "      46, 92, kernel_size=(2, 2), stride=(2, 2)\n",
            "      #params: 17.02K, #flops: 1.08M\n",
            "    )\n",
            "  )\n",
            "  (pe3): PatchEmbedding(\n",
            "    #params: 67.9K, #flops: 1.1M\n",
            "    (conv): Conv2d(\n",
            "      92, 184, kernel_size=(2, 2), stride=(2, 2)\n",
            "      #params: 67.9K, #flops: 1.08M\n",
            "    )\n",
            "  )\n",
            "  (stage1): Sequential(\n",
            "    #params: 36.51K, #flops: 9.8M\n",
            "    (0): CMTBlock(\n",
            "      #params: 18.25K, #flops: 4.9M\n",
            "      (lpu): LPU(\n",
            "        #params: 0.46K, #flops: 0.11M\n",
            "        (dwconv): Conv2d(\n",
            "          46, 46, kernel_size=(3, 3), stride=(1, 1), padding=(1, 1), groups=46\n",
            "          #params: 0.46K, #flops: 0.11M\n",
            "        )\n",
            "      )\n",
            "      (irffn): IRFFN(\n",
            "        #params: 17.79K, #flops: 4.79M\n",
            "        (conv1): Conv2d(\n",
            "          46, 165, kernel_size=(1, 1), stride=(1, 1)\n",
            "          #params: 7.75K, #flops: 1.94M\n",
            "        )\n",
            "        (bn1): BatchNorm2d(\n",
            "          165, eps=1e-05, momentum=0.1, affine=True, track_running_stats=True\n",
            "          #params: 0.33K, #flops: 0.21M\n",
            "        )\n",
            "        (dwconv): Conv2d(\n",
            "          165, 165, kernel_size=(3, 3), stride=(1, 1), padding=(1, 1), groups=165\n",
            "          #params: 1.65K, #flops: 0.38M\n",
            "        )\n",
            "        (bn2): BatchNorm2d(\n",
            "          165, eps=1e-05, momentum=0.1, affine=True, track_running_stats=True\n",
            "          #params: 0.33K, #flops: 0.21M\n",
            "        )\n",
            "        (conv2): Conv2d(\n",
            "          165, 46, kernel_size=(1, 1), stride=(1, 1)\n",
            "          #params: 7.64K, #flops: 1.94M\n",
            "        )\n",
            "        (bn3): BatchNorm2d(\n",
            "          46, eps=1e-05, momentum=0.1, affine=True, track_running_stats=True\n",
            "          #params: 92, #flops: 58.88K\n",
            "        )\n",
            "        (gelu): GELU(approximate='none')\n",
            "      )\n",
            "    )\n",
            "    (1): CMTBlock(\n",
            "      #params: 18.25K, #flops: 4.9M\n",
            "      (lpu): LPU(\n",
            "        #params: 0.46K, #flops: 0.11M\n",
            "        (dwconv): Conv2d(\n",
            "          46, 46, kernel_size=(3, 3), stride=(1, 1), padding=(1, 1), groups=46\n",
            "          #params: 0.46K, #flops: 0.11M\n",
            "        )\n",
            "      )\n",
            "      (irffn): IRFFN(\n",
            "        #params: 17.79K, #flops: 4.79M\n",
            "        (conv1): Conv2d(\n",
            "          46, 165, kernel_size=(1, 1), stride=(1, 1)\n",
            "          #params: 7.75K, #flops: 1.94M\n",
            "        )\n",
            "        (bn1): BatchNorm2d(\n",
            "          165, eps=1e-05, momentum=0.1, affine=True, track_running_stats=True\n",
            "          #params: 0.33K, #flops: 0.21M\n",
            "        )\n",
            "        (dwconv): Conv2d(\n",
            "          165, 165, kernel_size=(3, 3), stride=(1, 1), padding=(1, 1), groups=165\n",
            "          #params: 1.65K, #flops: 0.38M\n",
            "        )\n",
            "        (bn2): BatchNorm2d(\n",
            "          165, eps=1e-05, momentum=0.1, affine=True, track_running_stats=True\n",
            "          #params: 0.33K, #flops: 0.21M\n",
            "        )\n",
            "        (conv2): Conv2d(\n",
            "          165, 46, kernel_size=(1, 1), stride=(1, 1)\n",
            "          #params: 7.64K, #flops: 1.94M\n",
            "        )\n",
            "        (bn3): BatchNorm2d(\n",
            "          46, eps=1e-05, momentum=0.1, affine=True, track_running_stats=True\n",
            "          #params: 92, #flops: 58.88K\n",
            "        )\n",
            "        (gelu): GELU(approximate='none')\n",
            "      )\n",
            "    )\n",
            "  )\n",
            "  (stage2): Sequential(\n",
            "    #params: 0.13M, #flops: 8.81M\n",
            "    (0): CMTBlock(\n",
            "      #params: 67.06K, #flops: 4.41M\n",
            "      (lpu): LPU(\n",
            "        #params: 0.92K, #flops: 52.99K\n",
            "        (dwconv): Conv2d(\n",
            "          92, 92, kernel_size=(3, 3), stride=(1, 1), padding=(1, 1), groups=92\n",
            "          #params: 0.92K, #flops: 52.99K\n",
            "        )\n",
            "      )\n",
            "      (irffn): IRFFN(\n",
            "        #params: 66.14K, #flops: 4.35M\n",
            "        (conv1): Conv2d(\n",
            "          92, 331, kernel_size=(1, 1), stride=(1, 1)\n",
            "          #params: 30.78K, #flops: 1.95M\n",
            "        )\n",
            "        (bn1): BatchNorm2d(\n",
            "          331, eps=1e-05, momentum=0.1, affine=True, track_running_stats=True\n",
            "          #params: 0.66K, #flops: 0.11M\n",
            "        )\n",
            "        (dwconv): Conv2d(\n",
            "          331, 331, kernel_size=(3, 3), stride=(1, 1), padding=(1, 1), groups=331\n",
            "          #params: 3.31K, #flops: 0.19M\n",
            "        )\n",
            "        (bn2): BatchNorm2d(\n",
            "          331, eps=1e-05, momentum=0.1, affine=True, track_running_stats=True\n",
            "          #params: 0.66K, #flops: 0.11M\n",
            "        )\n",
            "        (conv2): Conv2d(\n",
            "          331, 92, kernel_size=(1, 1), stride=(1, 1)\n",
            "          #params: 30.54K, #flops: 1.95M\n",
            "        )\n",
            "        (bn3): BatchNorm2d(\n",
            "          92, eps=1e-05, momentum=0.1, affine=True, track_running_stats=True\n",
            "          #params: 0.18K, #flops: 29.44K\n",
            "        )\n",
            "        (gelu): GELU(approximate='none')\n",
            "      )\n",
            "    )\n",
            "    (1): CMTBlock(\n",
            "      #params: 67.06K, #flops: 4.41M\n",
            "      (lpu): LPU(\n",
            "        #params: 0.92K, #flops: 52.99K\n",
            "        (dwconv): Conv2d(\n",
            "          92, 92, kernel_size=(3, 3), stride=(1, 1), padding=(1, 1), groups=92\n",
            "          #params: 0.92K, #flops: 52.99K\n",
            "        )\n",
            "      )\n",
            "      (irffn): IRFFN(\n",
            "        #params: 66.14K, #flops: 4.35M\n",
            "        (conv1): Conv2d(\n",
            "          92, 331, kernel_size=(1, 1), stride=(1, 1)\n",
            "          #params: 30.78K, #flops: 1.95M\n",
            "        )\n",
            "        (bn1): BatchNorm2d(\n",
            "          331, eps=1e-05, momentum=0.1, affine=True, track_running_stats=True\n",
            "          #params: 0.66K, #flops: 0.11M\n",
            "        )\n",
            "        (dwconv): Conv2d(\n",
            "          331, 331, kernel_size=(3, 3), stride=(1, 1), padding=(1, 1), groups=331\n",
            "          #params: 3.31K, #flops: 0.19M\n",
            "        )\n",
            "        (bn2): BatchNorm2d(\n",
            "          331, eps=1e-05, momentum=0.1, affine=True, track_running_stats=True\n",
            "          #params: 0.66K, #flops: 0.11M\n",
            "        )\n",
            "        (conv2): Conv2d(\n",
            "          331, 92, kernel_size=(1, 1), stride=(1, 1)\n",
            "          #params: 30.54K, #flops: 1.95M\n",
            "        )\n",
            "        (bn3): BatchNorm2d(\n",
            "          92, eps=1e-05, momentum=0.1, affine=True, track_running_stats=True\n",
            "          #params: 0.18K, #flops: 29.44K\n",
            "        )\n",
            "        (gelu): GELU(approximate='none')\n",
            "      )\n",
            "    )\n",
            "  )\n",
            "  (stage3): Sequential(\n",
            "    #params: 0.51M, #flops: 8.3M\n",
            "    (0): CMTBlock(\n",
            "      #params: 0.26M, #flops: 4.15M\n",
            "      (lpu): LPU(\n",
            "        #params: 1.84K, #flops: 26.5K\n",
            "        (dwconv): Conv2d(\n",
            "          184, 184, kernel_size=(3, 3), stride=(1, 1), padding=(1, 1), groups=184\n",
            "          #params: 1.84K, #flops: 26.5K\n",
            "        )\n",
            "      )\n",
            "      (irffn): IRFFN(\n",
            "        #params: 0.25M, #flops: 4.13M\n",
            "        (conv1): Conv2d(\n",
            "          184, 662, kernel_size=(1, 1), stride=(1, 1)\n",
            "          #params: 0.12M, #flops: 1.95M\n",
            "        )\n",
            "        (bn1): BatchNorm2d(\n",
            "          662, eps=1e-05, momentum=0.1, affine=True, track_running_stats=True\n",
            "          #params: 1.32K, #flops: 52.96K\n",
            "        )\n",
            "        (dwconv): Conv2d(\n",
            "          662, 662, kernel_size=(3, 3), stride=(1, 1), padding=(1, 1), groups=662\n",
            "          #params: 6.62K, #flops: 95.33K\n",
            "        )\n",
            "        (bn2): BatchNorm2d(\n",
            "          662, eps=1e-05, momentum=0.1, affine=True, track_running_stats=True\n",
            "          #params: 1.32K, #flops: 52.96K\n",
            "        )\n",
            "        (conv2): Conv2d(\n",
            "          662, 184, kernel_size=(1, 1), stride=(1, 1)\n",
            "          #params: 0.12M, #flops: 1.95M\n",
            "        )\n",
            "        (bn3): BatchNorm2d(\n",
            "          184, eps=1e-05, momentum=0.1, affine=True, track_running_stats=True\n",
            "          #params: 0.37K, #flops: 14.72K\n",
            "        )\n",
            "        (gelu): GELU(approximate='none')\n",
            "      )\n",
            "    )\n",
            "    (1): CMTBlock(\n",
            "      #params: 0.26M, #flops: 4.15M\n",
            "      (lpu): LPU(\n",
            "        #params: 1.84K, #flops: 26.5K\n",
            "        (dwconv): Conv2d(\n",
            "          184, 184, kernel_size=(3, 3), stride=(1, 1), padding=(1, 1), groups=184\n",
            "          #params: 1.84K, #flops: 26.5K\n",
            "        )\n",
            "      )\n",
            "      (irffn): IRFFN(\n",
            "        #params: 0.25M, #flops: 4.13M\n",
            "        (conv1): Conv2d(\n",
            "          184, 662, kernel_size=(1, 1), stride=(1, 1)\n",
            "          #params: 0.12M, #flops: 1.95M\n",
            "        )\n",
            "        (bn1): BatchNorm2d(\n",
            "          662, eps=1e-05, momentum=0.1, affine=True, track_running_stats=True\n",
            "          #params: 1.32K, #flops: 52.96K\n",
            "        )\n",
            "        (dwconv): Conv2d(\n",
            "          662, 662, kernel_size=(3, 3), stride=(1, 1), padding=(1, 1), groups=662\n",
            "          #params: 6.62K, #flops: 95.33K\n",
            "        )\n",
            "        (bn2): BatchNorm2d(\n",
            "          662, eps=1e-05, momentum=0.1, affine=True, track_running_stats=True\n",
            "          #params: 1.32K, #flops: 52.96K\n",
            "        )\n",
            "        (conv2): Conv2d(\n",
            "          662, 184, kernel_size=(1, 1), stride=(1, 1)\n",
            "          #params: 0.12M, #flops: 1.95M\n",
            "        )\n",
            "        (bn3): BatchNorm2d(\n",
            "          184, eps=1e-05, momentum=0.1, affine=True, track_running_stats=True\n",
            "          #params: 0.37K, #flops: 14.72K\n",
            "        )\n",
            "        (gelu): GELU(approximate='none')\n",
            "      )\n",
            "    )\n",
            "  )\n",
            "  (avg_pool): AdaptiveAvgPool2d(\n",
            "    output_size=1\n",
            "    #params: 0, #flops: 2.94K\n",
            "  )\n",
            "  (projection): Sequential(\n",
            "    #params: 47.36K, #flops: 47.1K\n",
            "    (0): Conv2d(\n",
            "      184, 256, kernel_size=(1, 1), stride=(1, 1)\n",
            "      #params: 47.36K, #flops: 47.1K\n",
            "    )\n",
            "    (1): ReLU(inplace=True)\n",
            "  )\n",
            "  (classifier): Linear(\n",
            "    in_features=256, out_features=10, bias=True\n",
            "    #params: 2.57K, #flops: 2.56K\n",
            "  )\n",
            ")\n"
          ]
        }
      ]
    },
    {
      "cell_type": "code",
      "source": [
        "# Loading model to device.\n",
        "m_3.to(device)"
      ],
      "metadata": {
        "id": "eXM-2KZ-lcrG",
        "colab": {
          "base_uri": "https://localhost:8080/"
        },
        "outputId": "7d8523c9-a2cf-4c16-aab5-c8806789d7ff"
      },
      "execution_count": null,
      "outputs": [
        {
          "output_type": "execute_result",
          "data": {
            "text/plain": [
              "ReducedCMT(\n",
              "  (stem): ReducedStem(\n",
              "    (conv): Conv2d(3, 16, kernel_size=(3, 3), stride=(1, 1), padding=(1, 1))\n",
              "    (bn): BatchNorm2d(16, eps=1e-05, momentum=0.1, affine=True, track_running_stats=True)\n",
              "    (gelu): GELU(approximate='none')\n",
              "  )\n",
              "  (pe1): PatchEmbedding(\n",
              "    (conv): Conv2d(16, 46, kernel_size=(2, 2), stride=(2, 2))\n",
              "  )\n",
              "  (pe2): PatchEmbedding(\n",
              "    (conv): Conv2d(46, 92, kernel_size=(2, 2), stride=(2, 2))\n",
              "  )\n",
              "  (pe3): PatchEmbedding(\n",
              "    (conv): Conv2d(92, 184, kernel_size=(2, 2), stride=(2, 2))\n",
              "  )\n",
              "  (stage1): Sequential(\n",
              "    (0): CMTBlock(\n",
              "      (lpu): LPU(\n",
              "        (dwconv): Conv2d(46, 46, kernel_size=(3, 3), stride=(1, 1), padding=(1, 1), groups=46)\n",
              "      )\n",
              "      (irffn): IRFFN(\n",
              "        (conv1): Conv2d(46, 165, kernel_size=(1, 1), stride=(1, 1))\n",
              "        (bn1): BatchNorm2d(165, eps=1e-05, momentum=0.1, affine=True, track_running_stats=True)\n",
              "        (dwconv): Conv2d(165, 165, kernel_size=(3, 3), stride=(1, 1), padding=(1, 1), groups=165)\n",
              "        (bn2): BatchNorm2d(165, eps=1e-05, momentum=0.1, affine=True, track_running_stats=True)\n",
              "        (conv2): Conv2d(165, 46, kernel_size=(1, 1), stride=(1, 1))\n",
              "        (bn3): BatchNorm2d(46, eps=1e-05, momentum=0.1, affine=True, track_running_stats=True)\n",
              "        (gelu): GELU(approximate='none')\n",
              "      )\n",
              "    )\n",
              "    (1): CMTBlock(\n",
              "      (lpu): LPU(\n",
              "        (dwconv): Conv2d(46, 46, kernel_size=(3, 3), stride=(1, 1), padding=(1, 1), groups=46)\n",
              "      )\n",
              "      (irffn): IRFFN(\n",
              "        (conv1): Conv2d(46, 165, kernel_size=(1, 1), stride=(1, 1))\n",
              "        (bn1): BatchNorm2d(165, eps=1e-05, momentum=0.1, affine=True, track_running_stats=True)\n",
              "        (dwconv): Conv2d(165, 165, kernel_size=(3, 3), stride=(1, 1), padding=(1, 1), groups=165)\n",
              "        (bn2): BatchNorm2d(165, eps=1e-05, momentum=0.1, affine=True, track_running_stats=True)\n",
              "        (conv2): Conv2d(165, 46, kernel_size=(1, 1), stride=(1, 1))\n",
              "        (bn3): BatchNorm2d(46, eps=1e-05, momentum=0.1, affine=True, track_running_stats=True)\n",
              "        (gelu): GELU(approximate='none')\n",
              "      )\n",
              "    )\n",
              "  )\n",
              "  (stage2): Sequential(\n",
              "    (0): CMTBlock(\n",
              "      (lpu): LPU(\n",
              "        (dwconv): Conv2d(92, 92, kernel_size=(3, 3), stride=(1, 1), padding=(1, 1), groups=92)\n",
              "      )\n",
              "      (irffn): IRFFN(\n",
              "        (conv1): Conv2d(92, 331, kernel_size=(1, 1), stride=(1, 1))\n",
              "        (bn1): BatchNorm2d(331, eps=1e-05, momentum=0.1, affine=True, track_running_stats=True)\n",
              "        (dwconv): Conv2d(331, 331, kernel_size=(3, 3), stride=(1, 1), padding=(1, 1), groups=331)\n",
              "        (bn2): BatchNorm2d(331, eps=1e-05, momentum=0.1, affine=True, track_running_stats=True)\n",
              "        (conv2): Conv2d(331, 92, kernel_size=(1, 1), stride=(1, 1))\n",
              "        (bn3): BatchNorm2d(92, eps=1e-05, momentum=0.1, affine=True, track_running_stats=True)\n",
              "        (gelu): GELU(approximate='none')\n",
              "      )\n",
              "    )\n",
              "    (1): CMTBlock(\n",
              "      (lpu): LPU(\n",
              "        (dwconv): Conv2d(92, 92, kernel_size=(3, 3), stride=(1, 1), padding=(1, 1), groups=92)\n",
              "      )\n",
              "      (irffn): IRFFN(\n",
              "        (conv1): Conv2d(92, 331, kernel_size=(1, 1), stride=(1, 1))\n",
              "        (bn1): BatchNorm2d(331, eps=1e-05, momentum=0.1, affine=True, track_running_stats=True)\n",
              "        (dwconv): Conv2d(331, 331, kernel_size=(3, 3), stride=(1, 1), padding=(1, 1), groups=331)\n",
              "        (bn2): BatchNorm2d(331, eps=1e-05, momentum=0.1, affine=True, track_running_stats=True)\n",
              "        (conv2): Conv2d(331, 92, kernel_size=(1, 1), stride=(1, 1))\n",
              "        (bn3): BatchNorm2d(92, eps=1e-05, momentum=0.1, affine=True, track_running_stats=True)\n",
              "        (gelu): GELU(approximate='none')\n",
              "      )\n",
              "    )\n",
              "  )\n",
              "  (stage3): Sequential(\n",
              "    (0): CMTBlock(\n",
              "      (lpu): LPU(\n",
              "        (dwconv): Conv2d(184, 184, kernel_size=(3, 3), stride=(1, 1), padding=(1, 1), groups=184)\n",
              "      )\n",
              "      (irffn): IRFFN(\n",
              "        (conv1): Conv2d(184, 662, kernel_size=(1, 1), stride=(1, 1))\n",
              "        (bn1): BatchNorm2d(662, eps=1e-05, momentum=0.1, affine=True, track_running_stats=True)\n",
              "        (dwconv): Conv2d(662, 662, kernel_size=(3, 3), stride=(1, 1), padding=(1, 1), groups=662)\n",
              "        (bn2): BatchNorm2d(662, eps=1e-05, momentum=0.1, affine=True, track_running_stats=True)\n",
              "        (conv2): Conv2d(662, 184, kernel_size=(1, 1), stride=(1, 1))\n",
              "        (bn3): BatchNorm2d(184, eps=1e-05, momentum=0.1, affine=True, track_running_stats=True)\n",
              "        (gelu): GELU(approximate='none')\n",
              "      )\n",
              "    )\n",
              "    (1): CMTBlock(\n",
              "      (lpu): LPU(\n",
              "        (dwconv): Conv2d(184, 184, kernel_size=(3, 3), stride=(1, 1), padding=(1, 1), groups=184)\n",
              "      )\n",
              "      (irffn): IRFFN(\n",
              "        (conv1): Conv2d(184, 662, kernel_size=(1, 1), stride=(1, 1))\n",
              "        (bn1): BatchNorm2d(662, eps=1e-05, momentum=0.1, affine=True, track_running_stats=True)\n",
              "        (dwconv): Conv2d(662, 662, kernel_size=(3, 3), stride=(1, 1), padding=(1, 1), groups=662)\n",
              "        (bn2): BatchNorm2d(662, eps=1e-05, momentum=0.1, affine=True, track_running_stats=True)\n",
              "        (conv2): Conv2d(662, 184, kernel_size=(1, 1), stride=(1, 1))\n",
              "        (bn3): BatchNorm2d(184, eps=1e-05, momentum=0.1, affine=True, track_running_stats=True)\n",
              "        (gelu): GELU(approximate='none')\n",
              "      )\n",
              "    )\n",
              "  )\n",
              "  (avg_pool): AdaptiveAvgPool2d(output_size=1)\n",
              "  (projection): Sequential(\n",
              "    (0): Conv2d(184, 256, kernel_size=(1, 1), stride=(1, 1))\n",
              "    (1): ReLU(inplace=True)\n",
              "  )\n",
              "  (classifier): Linear(in_features=256, out_features=10, bias=True)\n",
              ")"
            ]
          },
          "metadata": {},
          "execution_count": 9
        }
      ]
    },
    {
      "cell_type": "code",
      "source": [
        "# Defining training recipe.\n",
        "EPOCHS, loss_fn, optimizer, scheduler = get_training_objects(m_3)"
      ],
      "metadata": {
        "id": "m5qNjnkrlcrG"
      },
      "execution_count": null,
      "outputs": []
    },
    {
      "cell_type": "code",
      "source": [
        "# Training.\n",
        "history = train(m_3, optimizer, scheduler, loss_fn, train_loader, val_loader, EPOCHS, device)\n",
        "\n",
        "# Creating a checkpoint.\n",
        "checkpoint = {\n",
        "  \"model\": m_3.state_dict(),\n",
        "  \"optimizer\": optimizer.state_dict(),\n",
        "  \"scheduler\": scheduler.state_dict()\n",
        "}\n",
        "\n",
        "# Saving the model.\n",
        "torch.save(checkpoint, \"checkpoint3_32x32.pt\")\n",
        "\n",
        "# Saving history.\n",
        "with open(\"m_3_history_32x32.pkl\", \"wb\") as f:\n",
        "  pickle.dump(history, f)"
      ],
      "metadata": {
        "id": "myRQIr7VlcrH",
        "colab": {
          "base_uri": "https://localhost:8080/"
        },
        "outputId": "d3ba1cb2-1f02-4d98-80ee-53d2df07b686"
      },
      "execution_count": null,
      "outputs": [
        {
          "output_type": "stream",
          "name": "stdout",
          "text": [
            "Epoch  1/25:\n"
          ]
        },
        {
          "output_type": "stream",
          "name": "stderr",
          "text": [
            "Training: 100%|██████████| 1250/1250 [00:46<00:00, 27.05it/s]\n",
            "Validation: 100%|██████████| 313/313 [00:04<00:00, 66.52it/s]\n"
          ]
        },
        {
          "output_type": "stream",
          "name": "stdout",
          "text": [
            "train_loss: 1.6562, train_accuracy: 0.3898, val_loss: 1.3978, val_accuracy: 0.4931, lr: 6.0000e-05\n",
            "\n",
            "Epoch  2/25:\n"
          ]
        },
        {
          "output_type": "stream",
          "name": "stderr",
          "text": [
            "Training: 100%|██████████| 1250/1250 [00:39<00:00, 31.56it/s]\n",
            "Validation: 100%|██████████| 313/313 [00:04<00:00, 65.19it/s]\n"
          ]
        },
        {
          "output_type": "stream",
          "name": "stdout",
          "text": [
            "train_loss: 1.3306, train_accuracy: 0.5168, val_loss: 1.2244, val_accuracy: 0.5557, lr: 5.9763e-05\n",
            "\n",
            "Epoch  3/25:\n"
          ]
        },
        {
          "output_type": "stream",
          "name": "stderr",
          "text": [
            "Training: 100%|██████████| 1250/1250 [00:40<00:00, 30.67it/s]\n",
            "Validation: 100%|██████████| 313/313 [00:04<00:00, 65.97it/s]\n"
          ]
        },
        {
          "output_type": "stream",
          "name": "stdout",
          "text": [
            "train_loss: 1.1951, train_accuracy: 0.5719, val_loss: 1.1369, val_accuracy: 0.5894, lr: 5.9057e-05\n",
            "\n",
            "Epoch  4/25:\n"
          ]
        },
        {
          "output_type": "stream",
          "name": "stderr",
          "text": [
            "Training: 100%|██████████| 1250/1250 [00:39<00:00, 31.53it/s]\n",
            "Validation: 100%|██████████| 313/313 [00:04<00:00, 65.46it/s]\n"
          ]
        },
        {
          "output_type": "stream",
          "name": "stdout",
          "text": [
            "train_loss: 1.0930, train_accuracy: 0.6093, val_loss: 1.0552, val_accuracy: 0.6273, lr: 5.7893e-05\n",
            "\n",
            "Epoch  5/25:\n"
          ]
        },
        {
          "output_type": "stream",
          "name": "stderr",
          "text": [
            "Training: 100%|██████████| 1250/1250 [00:40<00:00, 30.96it/s]\n",
            "Validation: 100%|██████████| 313/313 [00:04<00:00, 64.51it/s]\n"
          ]
        },
        {
          "output_type": "stream",
          "name": "stdout",
          "text": [
            "train_loss: 1.0270, train_accuracy: 0.6354, val_loss: 1.0007, val_accuracy: 0.6503, lr: 5.6289e-05\n",
            "\n",
            "Epoch  6/25:\n"
          ]
        },
        {
          "output_type": "stream",
          "name": "stderr",
          "text": [
            "Training: 100%|██████████| 1250/1250 [00:40<00:00, 30.98it/s]\n",
            "Validation: 100%|██████████| 313/313 [00:04<00:00, 66.52it/s]\n"
          ]
        },
        {
          "output_type": "stream",
          "name": "stdout",
          "text": [
            "train_loss: 0.9733, train_accuracy: 0.6520, val_loss: 0.9569, val_accuracy: 0.6577, lr: 5.4271e-05\n",
            "\n",
            "Epoch  7/25:\n"
          ]
        },
        {
          "output_type": "stream",
          "name": "stderr",
          "text": [
            "Training: 100%|██████████| 1250/1250 [00:40<00:00, 30.82it/s]\n",
            "Validation: 100%|██████████| 313/313 [00:04<00:00, 65.49it/s]\n"
          ]
        },
        {
          "output_type": "stream",
          "name": "stdout",
          "text": [
            "train_loss: 0.9309, train_accuracy: 0.6703, val_loss: 0.9280, val_accuracy: 0.6705, lr: 5.1869e-05\n",
            "\n",
            "Epoch  8/25:\n"
          ]
        },
        {
          "output_type": "stream",
          "name": "stderr",
          "text": [
            "Training: 100%|██████████| 1250/1250 [00:40<00:00, 30.90it/s]\n",
            "Validation: 100%|██████████| 313/313 [00:04<00:00, 65.38it/s]\n"
          ]
        },
        {
          "output_type": "stream",
          "name": "stdout",
          "text": [
            "train_loss: 0.8891, train_accuracy: 0.6858, val_loss: 0.8763, val_accuracy: 0.6893, lr: 4.9123e-05\n",
            "\n",
            "Epoch  9/25:\n"
          ]
        },
        {
          "output_type": "stream",
          "name": "stderr",
          "text": [
            "Training: 100%|██████████| 1250/1250 [00:39<00:00, 31.42it/s]\n",
            "Validation: 100%|██████████| 313/313 [00:04<00:00, 65.31it/s]\n"
          ]
        },
        {
          "output_type": "stream",
          "name": "stdout",
          "text": [
            "train_loss: 0.8600, train_accuracy: 0.6962, val_loss: 0.8568, val_accuracy: 0.6989, lr: 4.6075e-05\n",
            "\n",
            "Epoch 10/25:\n"
          ]
        },
        {
          "output_type": "stream",
          "name": "stderr",
          "text": [
            "Training: 100%|██████████| 1250/1250 [00:40<00:00, 31.12it/s]\n",
            "Validation: 100%|██████████| 313/313 [00:04<00:00, 66.59it/s]\n"
          ]
        },
        {
          "output_type": "stream",
          "name": "stdout",
          "text": [
            "train_loss: 0.8203, train_accuracy: 0.7100, val_loss: 0.8342, val_accuracy: 0.7019, lr: 4.2773e-05\n",
            "\n",
            "Epoch 11/25:\n"
          ]
        },
        {
          "output_type": "stream",
          "name": "stderr",
          "text": [
            "Training: 100%|██████████| 1250/1250 [00:40<00:00, 31.03it/s]\n",
            "Validation: 100%|██████████| 313/313 [00:04<00:00, 64.46it/s]\n"
          ]
        },
        {
          "output_type": "stream",
          "name": "stdout",
          "text": [
            "train_loss: 0.7844, train_accuracy: 0.7240, val_loss: 0.8093, val_accuracy: 0.7167, lr: 3.9271e-05\n",
            "\n",
            "Epoch 12/25:\n"
          ]
        },
        {
          "output_type": "stream",
          "name": "stderr",
          "text": [
            "Training: 100%|██████████| 1250/1250 [00:39<00:00, 31.33it/s]\n",
            "Validation: 100%|██████████| 313/313 [00:04<00:00, 65.72it/s]\n"
          ]
        },
        {
          "output_type": "stream",
          "name": "stdout",
          "text": [
            "train_loss: 0.7644, train_accuracy: 0.7304, val_loss: 0.7921, val_accuracy: 0.7236, lr: 3.5621e-05\n",
            "\n",
            "Epoch 13/25:\n"
          ]
        },
        {
          "output_type": "stream",
          "name": "stderr",
          "text": [
            "Training: 100%|██████████| 1250/1250 [00:39<00:00, 31.61it/s]\n",
            "Validation: 100%|██████████| 313/313 [00:04<00:00, 66.27it/s]\n"
          ]
        },
        {
          "output_type": "stream",
          "name": "stdout",
          "text": [
            "train_loss: 0.7443, train_accuracy: 0.7373, val_loss: 0.7757, val_accuracy: 0.7272, lr: 3.1884e-05\n",
            "\n",
            "Epoch 14/25:\n"
          ]
        },
        {
          "output_type": "stream",
          "name": "stderr",
          "text": [
            "Training: 100%|██████████| 1250/1250 [00:39<00:00, 31.82it/s]\n",
            "Validation: 100%|██████████| 313/313 [00:04<00:00, 66.46it/s]\n"
          ]
        },
        {
          "output_type": "stream",
          "name": "stdout",
          "text": [
            "train_loss: 0.7219, train_accuracy: 0.7472, val_loss: 0.7628, val_accuracy: 0.7343, lr: 2.8116e-05\n",
            "\n",
            "Epoch 15/25:\n"
          ]
        },
        {
          "output_type": "stream",
          "name": "stderr",
          "text": [
            "Training: 100%|██████████| 1250/1250 [00:39<00:00, 31.56it/s]\n",
            "Validation: 100%|██████████| 313/313 [00:04<00:00, 65.74it/s]\n"
          ]
        },
        {
          "output_type": "stream",
          "name": "stdout",
          "text": [
            "train_loss: 0.7062, train_accuracy: 0.7513, val_loss: 0.7513, val_accuracy: 0.7368, lr: 2.4379e-05\n",
            "\n",
            "Epoch 16/25:\n"
          ]
        },
        {
          "output_type": "stream",
          "name": "stderr",
          "text": [
            "Training: 100%|██████████| 1250/1250 [00:40<00:00, 30.98it/s]\n",
            "Validation: 100%|██████████| 313/313 [00:04<00:00, 67.55it/s]\n"
          ]
        },
        {
          "output_type": "stream",
          "name": "stdout",
          "text": [
            "train_loss: 0.6919, train_accuracy: 0.7571, val_loss: 0.7415, val_accuracy: 0.7410, lr: 2.0729e-05\n",
            "\n",
            "Epoch 17/25:\n"
          ]
        },
        {
          "output_type": "stream",
          "name": "stderr",
          "text": [
            "Training: 100%|██████████| 1250/1250 [00:39<00:00, 31.46it/s]\n",
            "Validation: 100%|██████████| 313/313 [00:04<00:00, 66.66it/s]\n"
          ]
        },
        {
          "output_type": "stream",
          "name": "stdout",
          "text": [
            "train_loss: 0.6715, train_accuracy: 0.7654, val_loss: 0.7325, val_accuracy: 0.7472, lr: 1.7227e-05\n",
            "\n",
            "Epoch 18/25:\n"
          ]
        },
        {
          "output_type": "stream",
          "name": "stderr",
          "text": [
            "Training: 100%|██████████| 1250/1250 [00:39<00:00, 31.57it/s]\n",
            "Validation: 100%|██████████| 313/313 [00:04<00:00, 65.14it/s]\n"
          ]
        },
        {
          "output_type": "stream",
          "name": "stdout",
          "text": [
            "train_loss: 0.6582, train_accuracy: 0.7672, val_loss: 0.7167, val_accuracy: 0.7470, lr: 1.3925e-05\n",
            "\n",
            "Epoch 19/25:\n"
          ]
        },
        {
          "output_type": "stream",
          "name": "stderr",
          "text": [
            "Training: 100%|██████████| 1250/1250 [00:39<00:00, 31.67it/s]\n",
            "Validation: 100%|██████████| 313/313 [00:04<00:00, 65.21it/s]\n"
          ]
        },
        {
          "output_type": "stream",
          "name": "stdout",
          "text": [
            "train_loss: 0.6511, train_accuracy: 0.7716, val_loss: 0.7246, val_accuracy: 0.7486, lr: 1.0877e-05\n",
            "\n",
            "Epoch 20/25:\n"
          ]
        },
        {
          "output_type": "stream",
          "name": "stderr",
          "text": [
            "Training: 100%|██████████| 1250/1250 [00:40<00:00, 30.82it/s]\n",
            "Validation: 100%|██████████| 313/313 [00:04<00:00, 66.33it/s]\n"
          ]
        },
        {
          "output_type": "stream",
          "name": "stdout",
          "text": [
            "train_loss: 0.6493, train_accuracy: 0.7736, val_loss: 0.7162, val_accuracy: 0.7564, lr: 8.1309e-06\n",
            "\n",
            "Epoch 21/25:\n"
          ]
        },
        {
          "output_type": "stream",
          "name": "stderr",
          "text": [
            "Training: 100%|██████████| 1250/1250 [00:39<00:00, 31.58it/s]\n",
            "Validation: 100%|██████████| 313/313 [00:04<00:00, 66.12it/s]\n"
          ]
        },
        {
          "output_type": "stream",
          "name": "stdout",
          "text": [
            "train_loss: 0.6425, train_accuracy: 0.7752, val_loss: 0.7065, val_accuracy: 0.7498, lr: 5.7295e-06\n",
            "\n",
            "Epoch 22/25:\n"
          ]
        },
        {
          "output_type": "stream",
          "name": "stderr",
          "text": [
            "Training: 100%|██████████| 1250/1250 [00:39<00:00, 31.53it/s]\n",
            "Validation: 100%|██████████| 313/313 [00:04<00:00, 65.30it/s]\n"
          ]
        },
        {
          "output_type": "stream",
          "name": "stdout",
          "text": [
            "train_loss: 0.6317, train_accuracy: 0.7794, val_loss: 0.7079, val_accuracy: 0.7522, lr: 3.7108e-06\n",
            "\n",
            "Epoch 23/25:\n"
          ]
        },
        {
          "output_type": "stream",
          "name": "stderr",
          "text": [
            "Training: 100%|██████████| 1250/1250 [00:39<00:00, 31.74it/s]\n",
            "Validation: 100%|██████████| 313/313 [00:04<00:00, 66.02it/s]\n"
          ]
        },
        {
          "output_type": "stream",
          "name": "stdout",
          "text": [
            "train_loss: 0.6298, train_accuracy: 0.7779, val_loss: 0.7077, val_accuracy: 0.7506, lr: 2.1067e-06\n",
            "\n",
            "Epoch 24/25:\n"
          ]
        },
        {
          "output_type": "stream",
          "name": "stderr",
          "text": [
            "Training: 100%|██████████| 1250/1250 [00:40<00:00, 31.22it/s]\n",
            "Validation: 100%|██████████| 313/313 [00:04<00:00, 66.42it/s]\n"
          ]
        },
        {
          "output_type": "stream",
          "name": "stdout",
          "text": [
            "train_loss: 0.6307, train_accuracy: 0.7796, val_loss: 0.6982, val_accuracy: 0.7534, lr: 9.4251e-07\n",
            "\n",
            "Epoch 25/25:\n"
          ]
        },
        {
          "output_type": "stream",
          "name": "stderr",
          "text": [
            "Training: 100%|██████████| 1250/1250 [00:39<00:00, 31.81it/s]\n",
            "Validation: 100%|██████████| 313/313 [00:04<00:00, 66.80it/s]\n"
          ]
        },
        {
          "output_type": "stream",
          "name": "stdout",
          "text": [
            "\n",
            "train_loss: 0.6239, train_accuracy: 0.7819, val_loss: 0.7025, val_accuracy: 0.7512, lr: 2.3656e-07\n"
          ]
        }
      ]
    },
    {
      "cell_type": "markdown",
      "source": [
        "### ResNet-110 ($m_4$)"
      ],
      "metadata": {
        "id": "I_el6fkXlEEm"
      }
    },
    {
      "cell_type": "code",
      "source": [
        "# Defining the ResNet-758 model ((n = 18) * 6 + 2 = 110 trainable layers). \n",
        "m_4 = ResNet(BasicBlock, [18, 18, 18])\n",
        "\n",
        "# Printing number of parameters.\n",
        "print(f\"m_4 has {sum(p.numel() for p in m_4.parameters())} parameters.\")"
      ],
      "metadata": {
        "id": "Y-7IjX8MlsK_",
        "colab": {
          "base_uri": "https://localhost:8080/"
        },
        "outputId": "4d3d315e-a81a-43b8-9eea-3268cb538973"
      },
      "execution_count": null,
      "outputs": [
        {
          "output_type": "stream",
          "name": "stdout",
          "text": [
            "m_4 has 1727962 parameters.\n"
          ]
        }
      ]
    },
    {
      "cell_type": "code",
      "source": [
        "# Computing and printing number of FLOPs.\n",
        "get_flops(m_4, (1, 3, 32, 32))"
      ],
      "metadata": {
        "id": "tOargdp1lsLB",
        "colab": {
          "base_uri": "https://localhost:8080/"
        },
        "outputId": "7ffb231c-9a89-48b0-c0cb-80704922911e"
      },
      "execution_count": null,
      "outputs": [
        {
          "output_type": "stream",
          "name": "stdout",
          "text": [
            "N/A indicates a possibly missing statistic due to how the module was called. Missing values are still included in the parent's total.\n",
            "ResNet(\n",
            "  #params: 1.73M, #flops: 0.26G\n",
            "  (conv1): Conv2d(\n",
            "    3, 16, kernel_size=(3, 3), stride=(1, 1), padding=(1, 1), bias=False\n",
            "    #params: 0.43K, #flops: 0.44M\n",
            "  )\n",
            "  (bn1): BatchNorm2d(\n",
            "    16, eps=1e-05, momentum=0.1, affine=True, track_running_stats=True\n",
            "    #params: 32, #flops: 81.92K\n",
            "  )\n",
            "  (layer1): Sequential(\n",
            "    #params: 84.1K, #flops: 87.88M\n",
            "    (0): BasicBlock(\n",
            "      #params: 4.67K, #flops: 4.88M\n",
            "      (conv1): Conv2d(\n",
            "        16, 16, kernel_size=(3, 3), stride=(1, 1), padding=(1, 1), bias=False\n",
            "        #params: 2.3K, #flops: 2.36M\n",
            "      )\n",
            "      (bn1): BatchNorm2d(\n",
            "        16, eps=1e-05, momentum=0.1, affine=True, track_running_stats=True\n",
            "        #params: 32, #flops: 81.92K\n",
            "      )\n",
            "      (conv2): Conv2d(\n",
            "        16, 16, kernel_size=(3, 3), stride=(1, 1), padding=(1, 1), bias=False\n",
            "        #params: 2.3K, #flops: 2.36M\n",
            "      )\n",
            "      (bn2): BatchNorm2d(\n",
            "        16, eps=1e-05, momentum=0.1, affine=True, track_running_stats=True\n",
            "        #params: 32, #flops: 81.92K\n",
            "      )\n",
            "      (shortcut): Sequential(#params: 0, #flops: N/A)\n",
            "    )\n",
            "    (1): BasicBlock(\n",
            "      #params: 4.67K, #flops: 4.88M\n",
            "      (conv1): Conv2d(\n",
            "        16, 16, kernel_size=(3, 3), stride=(1, 1), padding=(1, 1), bias=False\n",
            "        #params: 2.3K, #flops: 2.36M\n",
            "      )\n",
            "      (bn1): BatchNorm2d(\n",
            "        16, eps=1e-05, momentum=0.1, affine=True, track_running_stats=True\n",
            "        #params: 32, #flops: 81.92K\n",
            "      )\n",
            "      (conv2): Conv2d(\n",
            "        16, 16, kernel_size=(3, 3), stride=(1, 1), padding=(1, 1), bias=False\n",
            "        #params: 2.3K, #flops: 2.36M\n",
            "      )\n",
            "      (bn2): BatchNorm2d(\n",
            "        16, eps=1e-05, momentum=0.1, affine=True, track_running_stats=True\n",
            "        #params: 32, #flops: 81.92K\n",
            "      )\n",
            "      (shortcut): Sequential(#params: 0, #flops: N/A)\n",
            "    )\n",
            "    (2): BasicBlock(\n",
            "      #params: 4.67K, #flops: 4.88M\n",
            "      (conv1): Conv2d(\n",
            "        16, 16, kernel_size=(3, 3), stride=(1, 1), padding=(1, 1), bias=False\n",
            "        #params: 2.3K, #flops: 2.36M\n",
            "      )\n",
            "      (bn1): BatchNorm2d(\n",
            "        16, eps=1e-05, momentum=0.1, affine=True, track_running_stats=True\n",
            "        #params: 32, #flops: 81.92K\n",
            "      )\n",
            "      (conv2): Conv2d(\n",
            "        16, 16, kernel_size=(3, 3), stride=(1, 1), padding=(1, 1), bias=False\n",
            "        #params: 2.3K, #flops: 2.36M\n",
            "      )\n",
            "      (bn2): BatchNorm2d(\n",
            "        16, eps=1e-05, momentum=0.1, affine=True, track_running_stats=True\n",
            "        #params: 32, #flops: 81.92K\n",
            "      )\n",
            "      (shortcut): Sequential(#params: 0, #flops: N/A)\n",
            "    )\n",
            "    (3): BasicBlock(\n",
            "      #params: 4.67K, #flops: 4.88M\n",
            "      (conv1): Conv2d(\n",
            "        16, 16, kernel_size=(3, 3), stride=(1, 1), padding=(1, 1), bias=False\n",
            "        #params: 2.3K, #flops: 2.36M\n",
            "      )\n",
            "      (bn1): BatchNorm2d(\n",
            "        16, eps=1e-05, momentum=0.1, affine=True, track_running_stats=True\n",
            "        #params: 32, #flops: 81.92K\n",
            "      )\n",
            "      (conv2): Conv2d(\n",
            "        16, 16, kernel_size=(3, 3), stride=(1, 1), padding=(1, 1), bias=False\n",
            "        #params: 2.3K, #flops: 2.36M\n",
            "      )\n",
            "      (bn2): BatchNorm2d(\n",
            "        16, eps=1e-05, momentum=0.1, affine=True, track_running_stats=True\n",
            "        #params: 32, #flops: 81.92K\n",
            "      )\n",
            "      (shortcut): Sequential(#params: 0, #flops: N/A)\n",
            "    )\n",
            "    (4): BasicBlock(\n",
            "      #params: 4.67K, #flops: 4.88M\n",
            "      (conv1): Conv2d(\n",
            "        16, 16, kernel_size=(3, 3), stride=(1, 1), padding=(1, 1), bias=False\n",
            "        #params: 2.3K, #flops: 2.36M\n",
            "      )\n",
            "      (bn1): BatchNorm2d(\n",
            "        16, eps=1e-05, momentum=0.1, affine=True, track_running_stats=True\n",
            "        #params: 32, #flops: 81.92K\n",
            "      )\n",
            "      (conv2): Conv2d(\n",
            "        16, 16, kernel_size=(3, 3), stride=(1, 1), padding=(1, 1), bias=False\n",
            "        #params: 2.3K, #flops: 2.36M\n",
            "      )\n",
            "      (bn2): BatchNorm2d(\n",
            "        16, eps=1e-05, momentum=0.1, affine=True, track_running_stats=True\n",
            "        #params: 32, #flops: 81.92K\n",
            "      )\n",
            "      (shortcut): Sequential(#params: 0, #flops: N/A)\n",
            "    )\n",
            "    (5): BasicBlock(\n",
            "      #params: 4.67K, #flops: 4.88M\n",
            "      (conv1): Conv2d(\n",
            "        16, 16, kernel_size=(3, 3), stride=(1, 1), padding=(1, 1), bias=False\n",
            "        #params: 2.3K, #flops: 2.36M\n",
            "      )\n",
            "      (bn1): BatchNorm2d(\n",
            "        16, eps=1e-05, momentum=0.1, affine=True, track_running_stats=True\n",
            "        #params: 32, #flops: 81.92K\n",
            "      )\n",
            "      (conv2): Conv2d(\n",
            "        16, 16, kernel_size=(3, 3), stride=(1, 1), padding=(1, 1), bias=False\n",
            "        #params: 2.3K, #flops: 2.36M\n",
            "      )\n",
            "      (bn2): BatchNorm2d(\n",
            "        16, eps=1e-05, momentum=0.1, affine=True, track_running_stats=True\n",
            "        #params: 32, #flops: 81.92K\n",
            "      )\n",
            "      (shortcut): Sequential(#params: 0, #flops: N/A)\n",
            "    )\n",
            "    (6): BasicBlock(\n",
            "      #params: 4.67K, #flops: 4.88M\n",
            "      (conv1): Conv2d(\n",
            "        16, 16, kernel_size=(3, 3), stride=(1, 1), padding=(1, 1), bias=False\n",
            "        #params: 2.3K, #flops: 2.36M\n",
            "      )\n",
            "      (bn1): BatchNorm2d(\n",
            "        16, eps=1e-05, momentum=0.1, affine=True, track_running_stats=True\n",
            "        #params: 32, #flops: 81.92K\n",
            "      )\n",
            "      (conv2): Conv2d(\n",
            "        16, 16, kernel_size=(3, 3), stride=(1, 1), padding=(1, 1), bias=False\n",
            "        #params: 2.3K, #flops: 2.36M\n",
            "      )\n",
            "      (bn2): BatchNorm2d(\n",
            "        16, eps=1e-05, momentum=0.1, affine=True, track_running_stats=True\n",
            "        #params: 32, #flops: 81.92K\n",
            "      )\n",
            "      (shortcut): Sequential(#params: 0, #flops: N/A)\n",
            "    )\n",
            "    (7): BasicBlock(\n",
            "      #params: 4.67K, #flops: 4.88M\n",
            "      (conv1): Conv2d(\n",
            "        16, 16, kernel_size=(3, 3), stride=(1, 1), padding=(1, 1), bias=False\n",
            "        #params: 2.3K, #flops: 2.36M\n",
            "      )\n",
            "      (bn1): BatchNorm2d(\n",
            "        16, eps=1e-05, momentum=0.1, affine=True, track_running_stats=True\n",
            "        #params: 32, #flops: 81.92K\n",
            "      )\n",
            "      (conv2): Conv2d(\n",
            "        16, 16, kernel_size=(3, 3), stride=(1, 1), padding=(1, 1), bias=False\n",
            "        #params: 2.3K, #flops: 2.36M\n",
            "      )\n",
            "      (bn2): BatchNorm2d(\n",
            "        16, eps=1e-05, momentum=0.1, affine=True, track_running_stats=True\n",
            "        #params: 32, #flops: 81.92K\n",
            "      )\n",
            "      (shortcut): Sequential(#params: 0, #flops: N/A)\n",
            "    )\n",
            "    (8): BasicBlock(\n",
            "      #params: 4.67K, #flops: 4.88M\n",
            "      (conv1): Conv2d(\n",
            "        16, 16, kernel_size=(3, 3), stride=(1, 1), padding=(1, 1), bias=False\n",
            "        #params: 2.3K, #flops: 2.36M\n",
            "      )\n",
            "      (bn1): BatchNorm2d(\n",
            "        16, eps=1e-05, momentum=0.1, affine=True, track_running_stats=True\n",
            "        #params: 32, #flops: 81.92K\n",
            "      )\n",
            "      (conv2): Conv2d(\n",
            "        16, 16, kernel_size=(3, 3), stride=(1, 1), padding=(1, 1), bias=False\n",
            "        #params: 2.3K, #flops: 2.36M\n",
            "      )\n",
            "      (bn2): BatchNorm2d(\n",
            "        16, eps=1e-05, momentum=0.1, affine=True, track_running_stats=True\n",
            "        #params: 32, #flops: 81.92K\n",
            "      )\n",
            "      (shortcut): Sequential(#params: 0, #flops: N/A)\n",
            "    )\n",
            "    (9): BasicBlock(\n",
            "      #params: 4.67K, #flops: 4.88M\n",
            "      (conv1): Conv2d(\n",
            "        16, 16, kernel_size=(3, 3), stride=(1, 1), padding=(1, 1), bias=False\n",
            "        #params: 2.3K, #flops: 2.36M\n",
            "      )\n",
            "      (bn1): BatchNorm2d(\n",
            "        16, eps=1e-05, momentum=0.1, affine=True, track_running_stats=True\n",
            "        #params: 32, #flops: 81.92K\n",
            "      )\n",
            "      (conv2): Conv2d(\n",
            "        16, 16, kernel_size=(3, 3), stride=(1, 1), padding=(1, 1), bias=False\n",
            "        #params: 2.3K, #flops: 2.36M\n",
            "      )\n",
            "      (bn2): BatchNorm2d(\n",
            "        16, eps=1e-05, momentum=0.1, affine=True, track_running_stats=True\n",
            "        #params: 32, #flops: 81.92K\n",
            "      )\n",
            "      (shortcut): Sequential(#params: 0, #flops: N/A)\n",
            "    )\n",
            "    (10): BasicBlock(\n",
            "      #params: 4.67K, #flops: 4.88M\n",
            "      (conv1): Conv2d(\n",
            "        16, 16, kernel_size=(3, 3), stride=(1, 1), padding=(1, 1), bias=False\n",
            "        #params: 2.3K, #flops: 2.36M\n",
            "      )\n",
            "      (bn1): BatchNorm2d(\n",
            "        16, eps=1e-05, momentum=0.1, affine=True, track_running_stats=True\n",
            "        #params: 32, #flops: 81.92K\n",
            "      )\n",
            "      (conv2): Conv2d(\n",
            "        16, 16, kernel_size=(3, 3), stride=(1, 1), padding=(1, 1), bias=False\n",
            "        #params: 2.3K, #flops: 2.36M\n",
            "      )\n",
            "      (bn2): BatchNorm2d(\n",
            "        16, eps=1e-05, momentum=0.1, affine=True, track_running_stats=True\n",
            "        #params: 32, #flops: 81.92K\n",
            "      )\n",
            "      (shortcut): Sequential(#params: 0, #flops: N/A)\n",
            "    )\n",
            "    (11): BasicBlock(\n",
            "      #params: 4.67K, #flops: 4.88M\n",
            "      (conv1): Conv2d(\n",
            "        16, 16, kernel_size=(3, 3), stride=(1, 1), padding=(1, 1), bias=False\n",
            "        #params: 2.3K, #flops: 2.36M\n",
            "      )\n",
            "      (bn1): BatchNorm2d(\n",
            "        16, eps=1e-05, momentum=0.1, affine=True, track_running_stats=True\n",
            "        #params: 32, #flops: 81.92K\n",
            "      )\n",
            "      (conv2): Conv2d(\n",
            "        16, 16, kernel_size=(3, 3), stride=(1, 1), padding=(1, 1), bias=False\n",
            "        #params: 2.3K, #flops: 2.36M\n",
            "      )\n",
            "      (bn2): BatchNorm2d(\n",
            "        16, eps=1e-05, momentum=0.1, affine=True, track_running_stats=True\n",
            "        #params: 32, #flops: 81.92K\n",
            "      )\n",
            "      (shortcut): Sequential(#params: 0, #flops: N/A)\n",
            "    )\n",
            "    (12): BasicBlock(\n",
            "      #params: 4.67K, #flops: 4.88M\n",
            "      (conv1): Conv2d(\n",
            "        16, 16, kernel_size=(3, 3), stride=(1, 1), padding=(1, 1), bias=False\n",
            "        #params: 2.3K, #flops: 2.36M\n",
            "      )\n",
            "      (bn1): BatchNorm2d(\n",
            "        16, eps=1e-05, momentum=0.1, affine=True, track_running_stats=True\n",
            "        #params: 32, #flops: 81.92K\n",
            "      )\n",
            "      (conv2): Conv2d(\n",
            "        16, 16, kernel_size=(3, 3), stride=(1, 1), padding=(1, 1), bias=False\n",
            "        #params: 2.3K, #flops: 2.36M\n",
            "      )\n",
            "      (bn2): BatchNorm2d(\n",
            "        16, eps=1e-05, momentum=0.1, affine=True, track_running_stats=True\n",
            "        #params: 32, #flops: 81.92K\n",
            "      )\n",
            "      (shortcut): Sequential(#params: 0, #flops: N/A)\n",
            "    )\n",
            "    (13): BasicBlock(\n",
            "      #params: 4.67K, #flops: 4.88M\n",
            "      (conv1): Conv2d(\n",
            "        16, 16, kernel_size=(3, 3), stride=(1, 1), padding=(1, 1), bias=False\n",
            "        #params: 2.3K, #flops: 2.36M\n",
            "      )\n",
            "      (bn1): BatchNorm2d(\n",
            "        16, eps=1e-05, momentum=0.1, affine=True, track_running_stats=True\n",
            "        #params: 32, #flops: 81.92K\n",
            "      )\n",
            "      (conv2): Conv2d(\n",
            "        16, 16, kernel_size=(3, 3), stride=(1, 1), padding=(1, 1), bias=False\n",
            "        #params: 2.3K, #flops: 2.36M\n",
            "      )\n",
            "      (bn2): BatchNorm2d(\n",
            "        16, eps=1e-05, momentum=0.1, affine=True, track_running_stats=True\n",
            "        #params: 32, #flops: 81.92K\n",
            "      )\n",
            "      (shortcut): Sequential(#params: 0, #flops: N/A)\n",
            "    )\n",
            "    (14): BasicBlock(\n",
            "      #params: 4.67K, #flops: 4.88M\n",
            "      (conv1): Conv2d(\n",
            "        16, 16, kernel_size=(3, 3), stride=(1, 1), padding=(1, 1), bias=False\n",
            "        #params: 2.3K, #flops: 2.36M\n",
            "      )\n",
            "      (bn1): BatchNorm2d(\n",
            "        16, eps=1e-05, momentum=0.1, affine=True, track_running_stats=True\n",
            "        #params: 32, #flops: 81.92K\n",
            "      )\n",
            "      (conv2): Conv2d(\n",
            "        16, 16, kernel_size=(3, 3), stride=(1, 1), padding=(1, 1), bias=False\n",
            "        #params: 2.3K, #flops: 2.36M\n",
            "      )\n",
            "      (bn2): BatchNorm2d(\n",
            "        16, eps=1e-05, momentum=0.1, affine=True, track_running_stats=True\n",
            "        #params: 32, #flops: 81.92K\n",
            "      )\n",
            "      (shortcut): Sequential(#params: 0, #flops: N/A)\n",
            "    )\n",
            "    (15): BasicBlock(\n",
            "      #params: 4.67K, #flops: 4.88M\n",
            "      (conv1): Conv2d(\n",
            "        16, 16, kernel_size=(3, 3), stride=(1, 1), padding=(1, 1), bias=False\n",
            "        #params: 2.3K, #flops: 2.36M\n",
            "      )\n",
            "      (bn1): BatchNorm2d(\n",
            "        16, eps=1e-05, momentum=0.1, affine=True, track_running_stats=True\n",
            "        #params: 32, #flops: 81.92K\n",
            "      )\n",
            "      (conv2): Conv2d(\n",
            "        16, 16, kernel_size=(3, 3), stride=(1, 1), padding=(1, 1), bias=False\n",
            "        #params: 2.3K, #flops: 2.36M\n",
            "      )\n",
            "      (bn2): BatchNorm2d(\n",
            "        16, eps=1e-05, momentum=0.1, affine=True, track_running_stats=True\n",
            "        #params: 32, #flops: 81.92K\n",
            "      )\n",
            "      (shortcut): Sequential(#params: 0, #flops: N/A)\n",
            "    )\n",
            "    (16): BasicBlock(\n",
            "      #params: 4.67K, #flops: 4.88M\n",
            "      (conv1): Conv2d(\n",
            "        16, 16, kernel_size=(3, 3), stride=(1, 1), padding=(1, 1), bias=False\n",
            "        #params: 2.3K, #flops: 2.36M\n",
            "      )\n",
            "      (bn1): BatchNorm2d(\n",
            "        16, eps=1e-05, momentum=0.1, affine=True, track_running_stats=True\n",
            "        #params: 32, #flops: 81.92K\n",
            "      )\n",
            "      (conv2): Conv2d(\n",
            "        16, 16, kernel_size=(3, 3), stride=(1, 1), padding=(1, 1), bias=False\n",
            "        #params: 2.3K, #flops: 2.36M\n",
            "      )\n",
            "      (bn2): BatchNorm2d(\n",
            "        16, eps=1e-05, momentum=0.1, affine=True, track_running_stats=True\n",
            "        #params: 32, #flops: 81.92K\n",
            "      )\n",
            "      (shortcut): Sequential(#params: 0, #flops: N/A)\n",
            "    )\n",
            "    (17): BasicBlock(\n",
            "      #params: 4.67K, #flops: 4.88M\n",
            "      (conv1): Conv2d(\n",
            "        16, 16, kernel_size=(3, 3), stride=(1, 1), padding=(1, 1), bias=False\n",
            "        #params: 2.3K, #flops: 2.36M\n",
            "      )\n",
            "      (bn1): BatchNorm2d(\n",
            "        16, eps=1e-05, momentum=0.1, affine=True, track_running_stats=True\n",
            "        #params: 32, #flops: 81.92K\n",
            "      )\n",
            "      (conv2): Conv2d(\n",
            "        16, 16, kernel_size=(3, 3), stride=(1, 1), padding=(1, 1), bias=False\n",
            "        #params: 2.3K, #flops: 2.36M\n",
            "      )\n",
            "      (bn2): BatchNorm2d(\n",
            "        16, eps=1e-05, momentum=0.1, affine=True, track_running_stats=True\n",
            "        #params: 32, #flops: 81.92K\n",
            "      )\n",
            "      (shortcut): Sequential(#params: 0, #flops: N/A)\n",
            "    )\n",
            "  )\n",
            "  (layer2): Sequential(\n",
            "    #params: 0.33M, #flops: 85.23M\n",
            "    (0): BasicBlock(\n",
            "      #params: 13.95K, #flops: 3.62M\n",
            "      (conv1): Conv2d(\n",
            "        16, 32, kernel_size=(3, 3), stride=(2, 2), padding=(1, 1), bias=False\n",
            "        #params: 4.61K, #flops: 1.18M\n",
            "      )\n",
            "      (bn1): BatchNorm2d(\n",
            "        32, eps=1e-05, momentum=0.1, affine=True, track_running_stats=True\n",
            "        #params: 64, #flops: 40.96K\n",
            "      )\n",
            "      (conv2): Conv2d(\n",
            "        32, 32, kernel_size=(3, 3), stride=(1, 1), padding=(1, 1), bias=False\n",
            "        #params: 9.22K, #flops: 2.36M\n",
            "      )\n",
            "      (bn2): BatchNorm2d(\n",
            "        32, eps=1e-05, momentum=0.1, affine=True, track_running_stats=True\n",
            "        #params: 64, #flops: 40.96K\n",
            "      )\n",
            "      (shortcut): LambdaLayer()\n",
            "    )\n",
            "    (1): BasicBlock(\n",
            "      #params: 18.56K, #flops: 4.8M\n",
            "      (conv1): Conv2d(\n",
            "        32, 32, kernel_size=(3, 3), stride=(1, 1), padding=(1, 1), bias=False\n",
            "        #params: 9.22K, #flops: 2.36M\n",
            "      )\n",
            "      (bn1): BatchNorm2d(\n",
            "        32, eps=1e-05, momentum=0.1, affine=True, track_running_stats=True\n",
            "        #params: 64, #flops: 40.96K\n",
            "      )\n",
            "      (conv2): Conv2d(\n",
            "        32, 32, kernel_size=(3, 3), stride=(1, 1), padding=(1, 1), bias=False\n",
            "        #params: 9.22K, #flops: 2.36M\n",
            "      )\n",
            "      (bn2): BatchNorm2d(\n",
            "        32, eps=1e-05, momentum=0.1, affine=True, track_running_stats=True\n",
            "        #params: 64, #flops: 40.96K\n",
            "      )\n",
            "      (shortcut): Sequential(#params: 0, #flops: N/A)\n",
            "    )\n",
            "    (2): BasicBlock(\n",
            "      #params: 18.56K, #flops: 4.8M\n",
            "      (conv1): Conv2d(\n",
            "        32, 32, kernel_size=(3, 3), stride=(1, 1), padding=(1, 1), bias=False\n",
            "        #params: 9.22K, #flops: 2.36M\n",
            "      )\n",
            "      (bn1): BatchNorm2d(\n",
            "        32, eps=1e-05, momentum=0.1, affine=True, track_running_stats=True\n",
            "        #params: 64, #flops: 40.96K\n",
            "      )\n",
            "      (conv2): Conv2d(\n",
            "        32, 32, kernel_size=(3, 3), stride=(1, 1), padding=(1, 1), bias=False\n",
            "        #params: 9.22K, #flops: 2.36M\n",
            "      )\n",
            "      (bn2): BatchNorm2d(\n",
            "        32, eps=1e-05, momentum=0.1, affine=True, track_running_stats=True\n",
            "        #params: 64, #flops: 40.96K\n",
            "      )\n",
            "      (shortcut): Sequential(#params: 0, #flops: N/A)\n",
            "    )\n",
            "    (3): BasicBlock(\n",
            "      #params: 18.56K, #flops: 4.8M\n",
            "      (conv1): Conv2d(\n",
            "        32, 32, kernel_size=(3, 3), stride=(1, 1), padding=(1, 1), bias=False\n",
            "        #params: 9.22K, #flops: 2.36M\n",
            "      )\n",
            "      (bn1): BatchNorm2d(\n",
            "        32, eps=1e-05, momentum=0.1, affine=True, track_running_stats=True\n",
            "        #params: 64, #flops: 40.96K\n",
            "      )\n",
            "      (conv2): Conv2d(\n",
            "        32, 32, kernel_size=(3, 3), stride=(1, 1), padding=(1, 1), bias=False\n",
            "        #params: 9.22K, #flops: 2.36M\n",
            "      )\n",
            "      (bn2): BatchNorm2d(\n",
            "        32, eps=1e-05, momentum=0.1, affine=True, track_running_stats=True\n",
            "        #params: 64, #flops: 40.96K\n",
            "      )\n",
            "      (shortcut): Sequential(#params: 0, #flops: N/A)\n",
            "    )\n",
            "    (4): BasicBlock(\n",
            "      #params: 18.56K, #flops: 4.8M\n",
            "      (conv1): Conv2d(\n",
            "        32, 32, kernel_size=(3, 3), stride=(1, 1), padding=(1, 1), bias=False\n",
            "        #params: 9.22K, #flops: 2.36M\n",
            "      )\n",
            "      (bn1): BatchNorm2d(\n",
            "        32, eps=1e-05, momentum=0.1, affine=True, track_running_stats=True\n",
            "        #params: 64, #flops: 40.96K\n",
            "      )\n",
            "      (conv2): Conv2d(\n",
            "        32, 32, kernel_size=(3, 3), stride=(1, 1), padding=(1, 1), bias=False\n",
            "        #params: 9.22K, #flops: 2.36M\n",
            "      )\n",
            "      (bn2): BatchNorm2d(\n",
            "        32, eps=1e-05, momentum=0.1, affine=True, track_running_stats=True\n",
            "        #params: 64, #flops: 40.96K\n",
            "      )\n",
            "      (shortcut): Sequential(#params: 0, #flops: N/A)\n",
            "    )\n",
            "    (5): BasicBlock(\n",
            "      #params: 18.56K, #flops: 4.8M\n",
            "      (conv1): Conv2d(\n",
            "        32, 32, kernel_size=(3, 3), stride=(1, 1), padding=(1, 1), bias=False\n",
            "        #params: 9.22K, #flops: 2.36M\n",
            "      )\n",
            "      (bn1): BatchNorm2d(\n",
            "        32, eps=1e-05, momentum=0.1, affine=True, track_running_stats=True\n",
            "        #params: 64, #flops: 40.96K\n",
            "      )\n",
            "      (conv2): Conv2d(\n",
            "        32, 32, kernel_size=(3, 3), stride=(1, 1), padding=(1, 1), bias=False\n",
            "        #params: 9.22K, #flops: 2.36M\n",
            "      )\n",
            "      (bn2): BatchNorm2d(\n",
            "        32, eps=1e-05, momentum=0.1, affine=True, track_running_stats=True\n",
            "        #params: 64, #flops: 40.96K\n",
            "      )\n",
            "      (shortcut): Sequential(#params: 0, #flops: N/A)\n",
            "    )\n",
            "    (6): BasicBlock(\n",
            "      #params: 18.56K, #flops: 4.8M\n",
            "      (conv1): Conv2d(\n",
            "        32, 32, kernel_size=(3, 3), stride=(1, 1), padding=(1, 1), bias=False\n",
            "        #params: 9.22K, #flops: 2.36M\n",
            "      )\n",
            "      (bn1): BatchNorm2d(\n",
            "        32, eps=1e-05, momentum=0.1, affine=True, track_running_stats=True\n",
            "        #params: 64, #flops: 40.96K\n",
            "      )\n",
            "      (conv2): Conv2d(\n",
            "        32, 32, kernel_size=(3, 3), stride=(1, 1), padding=(1, 1), bias=False\n",
            "        #params: 9.22K, #flops: 2.36M\n",
            "      )\n",
            "      (bn2): BatchNorm2d(\n",
            "        32, eps=1e-05, momentum=0.1, affine=True, track_running_stats=True\n",
            "        #params: 64, #flops: 40.96K\n",
            "      )\n",
            "      (shortcut): Sequential(#params: 0, #flops: N/A)\n",
            "    )\n",
            "    (7): BasicBlock(\n",
            "      #params: 18.56K, #flops: 4.8M\n",
            "      (conv1): Conv2d(\n",
            "        32, 32, kernel_size=(3, 3), stride=(1, 1), padding=(1, 1), bias=False\n",
            "        #params: 9.22K, #flops: 2.36M\n",
            "      )\n",
            "      (bn1): BatchNorm2d(\n",
            "        32, eps=1e-05, momentum=0.1, affine=True, track_running_stats=True\n",
            "        #params: 64, #flops: 40.96K\n",
            "      )\n",
            "      (conv2): Conv2d(\n",
            "        32, 32, kernel_size=(3, 3), stride=(1, 1), padding=(1, 1), bias=False\n",
            "        #params: 9.22K, #flops: 2.36M\n",
            "      )\n",
            "      (bn2): BatchNorm2d(\n",
            "        32, eps=1e-05, momentum=0.1, affine=True, track_running_stats=True\n",
            "        #params: 64, #flops: 40.96K\n",
            "      )\n",
            "      (shortcut): Sequential(#params: 0, #flops: N/A)\n",
            "    )\n",
            "    (8): BasicBlock(\n",
            "      #params: 18.56K, #flops: 4.8M\n",
            "      (conv1): Conv2d(\n",
            "        32, 32, kernel_size=(3, 3), stride=(1, 1), padding=(1, 1), bias=False\n",
            "        #params: 9.22K, #flops: 2.36M\n",
            "      )\n",
            "      (bn1): BatchNorm2d(\n",
            "        32, eps=1e-05, momentum=0.1, affine=True, track_running_stats=True\n",
            "        #params: 64, #flops: 40.96K\n",
            "      )\n",
            "      (conv2): Conv2d(\n",
            "        32, 32, kernel_size=(3, 3), stride=(1, 1), padding=(1, 1), bias=False\n",
            "        #params: 9.22K, #flops: 2.36M\n",
            "      )\n",
            "      (bn2): BatchNorm2d(\n",
            "        32, eps=1e-05, momentum=0.1, affine=True, track_running_stats=True\n",
            "        #params: 64, #flops: 40.96K\n",
            "      )\n",
            "      (shortcut): Sequential(#params: 0, #flops: N/A)\n",
            "    )\n",
            "    (9): BasicBlock(\n",
            "      #params: 18.56K, #flops: 4.8M\n",
            "      (conv1): Conv2d(\n",
            "        32, 32, kernel_size=(3, 3), stride=(1, 1), padding=(1, 1), bias=False\n",
            "        #params: 9.22K, #flops: 2.36M\n",
            "      )\n",
            "      (bn1): BatchNorm2d(\n",
            "        32, eps=1e-05, momentum=0.1, affine=True, track_running_stats=True\n",
            "        #params: 64, #flops: 40.96K\n",
            "      )\n",
            "      (conv2): Conv2d(\n",
            "        32, 32, kernel_size=(3, 3), stride=(1, 1), padding=(1, 1), bias=False\n",
            "        #params: 9.22K, #flops: 2.36M\n",
            "      )\n",
            "      (bn2): BatchNorm2d(\n",
            "        32, eps=1e-05, momentum=0.1, affine=True, track_running_stats=True\n",
            "        #params: 64, #flops: 40.96K\n",
            "      )\n",
            "      (shortcut): Sequential(#params: 0, #flops: N/A)\n",
            "    )\n",
            "    (10): BasicBlock(\n",
            "      #params: 18.56K, #flops: 4.8M\n",
            "      (conv1): Conv2d(\n",
            "        32, 32, kernel_size=(3, 3), stride=(1, 1), padding=(1, 1), bias=False\n",
            "        #params: 9.22K, #flops: 2.36M\n",
            "      )\n",
            "      (bn1): BatchNorm2d(\n",
            "        32, eps=1e-05, momentum=0.1, affine=True, track_running_stats=True\n",
            "        #params: 64, #flops: 40.96K\n",
            "      )\n",
            "      (conv2): Conv2d(\n",
            "        32, 32, kernel_size=(3, 3), stride=(1, 1), padding=(1, 1), bias=False\n",
            "        #params: 9.22K, #flops: 2.36M\n",
            "      )\n",
            "      (bn2): BatchNorm2d(\n",
            "        32, eps=1e-05, momentum=0.1, affine=True, track_running_stats=True\n",
            "        #params: 64, #flops: 40.96K\n",
            "      )\n",
            "      (shortcut): Sequential(#params: 0, #flops: N/A)\n",
            "    )\n",
            "    (11): BasicBlock(\n",
            "      #params: 18.56K, #flops: 4.8M\n",
            "      (conv1): Conv2d(\n",
            "        32, 32, kernel_size=(3, 3), stride=(1, 1), padding=(1, 1), bias=False\n",
            "        #params: 9.22K, #flops: 2.36M\n",
            "      )\n",
            "      (bn1): BatchNorm2d(\n",
            "        32, eps=1e-05, momentum=0.1, affine=True, track_running_stats=True\n",
            "        #params: 64, #flops: 40.96K\n",
            "      )\n",
            "      (conv2): Conv2d(\n",
            "        32, 32, kernel_size=(3, 3), stride=(1, 1), padding=(1, 1), bias=False\n",
            "        #params: 9.22K, #flops: 2.36M\n",
            "      )\n",
            "      (bn2): BatchNorm2d(\n",
            "        32, eps=1e-05, momentum=0.1, affine=True, track_running_stats=True\n",
            "        #params: 64, #flops: 40.96K\n",
            "      )\n",
            "      (shortcut): Sequential(#params: 0, #flops: N/A)\n",
            "    )\n",
            "    (12): BasicBlock(\n",
            "      #params: 18.56K, #flops: 4.8M\n",
            "      (conv1): Conv2d(\n",
            "        32, 32, kernel_size=(3, 3), stride=(1, 1), padding=(1, 1), bias=False\n",
            "        #params: 9.22K, #flops: 2.36M\n",
            "      )\n",
            "      (bn1): BatchNorm2d(\n",
            "        32, eps=1e-05, momentum=0.1, affine=True, track_running_stats=True\n",
            "        #params: 64, #flops: 40.96K\n",
            "      )\n",
            "      (conv2): Conv2d(\n",
            "        32, 32, kernel_size=(3, 3), stride=(1, 1), padding=(1, 1), bias=False\n",
            "        #params: 9.22K, #flops: 2.36M\n",
            "      )\n",
            "      (bn2): BatchNorm2d(\n",
            "        32, eps=1e-05, momentum=0.1, affine=True, track_running_stats=True\n",
            "        #params: 64, #flops: 40.96K\n",
            "      )\n",
            "      (shortcut): Sequential(#params: 0, #flops: N/A)\n",
            "    )\n",
            "    (13): BasicBlock(\n",
            "      #params: 18.56K, #flops: 4.8M\n",
            "      (conv1): Conv2d(\n",
            "        32, 32, kernel_size=(3, 3), stride=(1, 1), padding=(1, 1), bias=False\n",
            "        #params: 9.22K, #flops: 2.36M\n",
            "      )\n",
            "      (bn1): BatchNorm2d(\n",
            "        32, eps=1e-05, momentum=0.1, affine=True, track_running_stats=True\n",
            "        #params: 64, #flops: 40.96K\n",
            "      )\n",
            "      (conv2): Conv2d(\n",
            "        32, 32, kernel_size=(3, 3), stride=(1, 1), padding=(1, 1), bias=False\n",
            "        #params: 9.22K, #flops: 2.36M\n",
            "      )\n",
            "      (bn2): BatchNorm2d(\n",
            "        32, eps=1e-05, momentum=0.1, affine=True, track_running_stats=True\n",
            "        #params: 64, #flops: 40.96K\n",
            "      )\n",
            "      (shortcut): Sequential(#params: 0, #flops: N/A)\n",
            "    )\n",
            "    (14): BasicBlock(\n",
            "      #params: 18.56K, #flops: 4.8M\n",
            "      (conv1): Conv2d(\n",
            "        32, 32, kernel_size=(3, 3), stride=(1, 1), padding=(1, 1), bias=False\n",
            "        #params: 9.22K, #flops: 2.36M\n",
            "      )\n",
            "      (bn1): BatchNorm2d(\n",
            "        32, eps=1e-05, momentum=0.1, affine=True, track_running_stats=True\n",
            "        #params: 64, #flops: 40.96K\n",
            "      )\n",
            "      (conv2): Conv2d(\n",
            "        32, 32, kernel_size=(3, 3), stride=(1, 1), padding=(1, 1), bias=False\n",
            "        #params: 9.22K, #flops: 2.36M\n",
            "      )\n",
            "      (bn2): BatchNorm2d(\n",
            "        32, eps=1e-05, momentum=0.1, affine=True, track_running_stats=True\n",
            "        #params: 64, #flops: 40.96K\n",
            "      )\n",
            "      (shortcut): Sequential(#params: 0, #flops: N/A)\n",
            "    )\n",
            "    (15): BasicBlock(\n",
            "      #params: 18.56K, #flops: 4.8M\n",
            "      (conv1): Conv2d(\n",
            "        32, 32, kernel_size=(3, 3), stride=(1, 1), padding=(1, 1), bias=False\n",
            "        #params: 9.22K, #flops: 2.36M\n",
            "      )\n",
            "      (bn1): BatchNorm2d(\n",
            "        32, eps=1e-05, momentum=0.1, affine=True, track_running_stats=True\n",
            "        #params: 64, #flops: 40.96K\n",
            "      )\n",
            "      (conv2): Conv2d(\n",
            "        32, 32, kernel_size=(3, 3), stride=(1, 1), padding=(1, 1), bias=False\n",
            "        #params: 9.22K, #flops: 2.36M\n",
            "      )\n",
            "      (bn2): BatchNorm2d(\n",
            "        32, eps=1e-05, momentum=0.1, affine=True, track_running_stats=True\n",
            "        #params: 64, #flops: 40.96K\n",
            "      )\n",
            "      (shortcut): Sequential(#params: 0, #flops: N/A)\n",
            "    )\n",
            "    (16): BasicBlock(\n",
            "      #params: 18.56K, #flops: 4.8M\n",
            "      (conv1): Conv2d(\n",
            "        32, 32, kernel_size=(3, 3), stride=(1, 1), padding=(1, 1), bias=False\n",
            "        #params: 9.22K, #flops: 2.36M\n",
            "      )\n",
            "      (bn1): BatchNorm2d(\n",
            "        32, eps=1e-05, momentum=0.1, affine=True, track_running_stats=True\n",
            "        #params: 64, #flops: 40.96K\n",
            "      )\n",
            "      (conv2): Conv2d(\n",
            "        32, 32, kernel_size=(3, 3), stride=(1, 1), padding=(1, 1), bias=False\n",
            "        #params: 9.22K, #flops: 2.36M\n",
            "      )\n",
            "      (bn2): BatchNorm2d(\n",
            "        32, eps=1e-05, momentum=0.1, affine=True, track_running_stats=True\n",
            "        #params: 64, #flops: 40.96K\n",
            "      )\n",
            "      (shortcut): Sequential(#params: 0, #flops: N/A)\n",
            "    )\n",
            "    (17): BasicBlock(\n",
            "      #params: 18.56K, #flops: 4.8M\n",
            "      (conv1): Conv2d(\n",
            "        32, 32, kernel_size=(3, 3), stride=(1, 1), padding=(1, 1), bias=False\n",
            "        #params: 9.22K, #flops: 2.36M\n",
            "      )\n",
            "      (bn1): BatchNorm2d(\n",
            "        32, eps=1e-05, momentum=0.1, affine=True, track_running_stats=True\n",
            "        #params: 64, #flops: 40.96K\n",
            "      )\n",
            "      (conv2): Conv2d(\n",
            "        32, 32, kernel_size=(3, 3), stride=(1, 1), padding=(1, 1), bias=False\n",
            "        #params: 9.22K, #flops: 2.36M\n",
            "      )\n",
            "      (bn2): BatchNorm2d(\n",
            "        32, eps=1e-05, momentum=0.1, affine=True, track_running_stats=True\n",
            "        #params: 64, #flops: 40.96K\n",
            "      )\n",
            "      (shortcut): Sequential(#params: 0, #flops: N/A)\n",
            "    )\n",
            "  )\n",
            "  (layer3): Sequential(\n",
            "    #params: 1.31M, #flops: 84.49M\n",
            "    (0): BasicBlock(\n",
            "      #params: 55.55K, #flops: 3.58M\n",
            "      (conv1): Conv2d(\n",
            "        32, 64, kernel_size=(3, 3), stride=(2, 2), padding=(1, 1), bias=False\n",
            "        #params: 18.43K, #flops: 1.18M\n",
            "      )\n",
            "      (bn1): BatchNorm2d(\n",
            "        64, eps=1e-05, momentum=0.1, affine=True, track_running_stats=True\n",
            "        #params: 0.13K, #flops: 20.48K\n",
            "      )\n",
            "      (conv2): Conv2d(\n",
            "        64, 64, kernel_size=(3, 3), stride=(1, 1), padding=(1, 1), bias=False\n",
            "        #params: 36.86K, #flops: 2.36M\n",
            "      )\n",
            "      (bn2): BatchNorm2d(\n",
            "        64, eps=1e-05, momentum=0.1, affine=True, track_running_stats=True\n",
            "        #params: 0.13K, #flops: 20.48K\n",
            "      )\n",
            "      (shortcut): LambdaLayer()\n",
            "    )\n",
            "    (1): BasicBlock(\n",
            "      #params: 73.98K, #flops: 4.76M\n",
            "      (conv1): Conv2d(\n",
            "        64, 64, kernel_size=(3, 3), stride=(1, 1), padding=(1, 1), bias=False\n",
            "        #params: 36.86K, #flops: 2.36M\n",
            "      )\n",
            "      (bn1): BatchNorm2d(\n",
            "        64, eps=1e-05, momentum=0.1, affine=True, track_running_stats=True\n",
            "        #params: 0.13K, #flops: 20.48K\n",
            "      )\n",
            "      (conv2): Conv2d(\n",
            "        64, 64, kernel_size=(3, 3), stride=(1, 1), padding=(1, 1), bias=False\n",
            "        #params: 36.86K, #flops: 2.36M\n",
            "      )\n",
            "      (bn2): BatchNorm2d(\n",
            "        64, eps=1e-05, momentum=0.1, affine=True, track_running_stats=True\n",
            "        #params: 0.13K, #flops: 20.48K\n",
            "      )\n",
            "      (shortcut): Sequential(#params: 0, #flops: N/A)\n",
            "    )\n",
            "    (2): BasicBlock(\n",
            "      #params: 73.98K, #flops: 4.76M\n",
            "      (conv1): Conv2d(\n",
            "        64, 64, kernel_size=(3, 3), stride=(1, 1), padding=(1, 1), bias=False\n",
            "        #params: 36.86K, #flops: 2.36M\n",
            "      )\n",
            "      (bn1): BatchNorm2d(\n",
            "        64, eps=1e-05, momentum=0.1, affine=True, track_running_stats=True\n",
            "        #params: 0.13K, #flops: 20.48K\n",
            "      )\n",
            "      (conv2): Conv2d(\n",
            "        64, 64, kernel_size=(3, 3), stride=(1, 1), padding=(1, 1), bias=False\n",
            "        #params: 36.86K, #flops: 2.36M\n",
            "      )\n",
            "      (bn2): BatchNorm2d(\n",
            "        64, eps=1e-05, momentum=0.1, affine=True, track_running_stats=True\n",
            "        #params: 0.13K, #flops: 20.48K\n",
            "      )\n",
            "      (shortcut): Sequential(#params: 0, #flops: N/A)\n",
            "    )\n",
            "    (3): BasicBlock(\n",
            "      #params: 73.98K, #flops: 4.76M\n",
            "      (conv1): Conv2d(\n",
            "        64, 64, kernel_size=(3, 3), stride=(1, 1), padding=(1, 1), bias=False\n",
            "        #params: 36.86K, #flops: 2.36M\n",
            "      )\n",
            "      (bn1): BatchNorm2d(\n",
            "        64, eps=1e-05, momentum=0.1, affine=True, track_running_stats=True\n",
            "        #params: 0.13K, #flops: 20.48K\n",
            "      )\n",
            "      (conv2): Conv2d(\n",
            "        64, 64, kernel_size=(3, 3), stride=(1, 1), padding=(1, 1), bias=False\n",
            "        #params: 36.86K, #flops: 2.36M\n",
            "      )\n",
            "      (bn2): BatchNorm2d(\n",
            "        64, eps=1e-05, momentum=0.1, affine=True, track_running_stats=True\n",
            "        #params: 0.13K, #flops: 20.48K\n",
            "      )\n",
            "      (shortcut): Sequential(#params: 0, #flops: N/A)\n",
            "    )\n",
            "    (4): BasicBlock(\n",
            "      #params: 73.98K, #flops: 4.76M\n",
            "      (conv1): Conv2d(\n",
            "        64, 64, kernel_size=(3, 3), stride=(1, 1), padding=(1, 1), bias=False\n",
            "        #params: 36.86K, #flops: 2.36M\n",
            "      )\n",
            "      (bn1): BatchNorm2d(\n",
            "        64, eps=1e-05, momentum=0.1, affine=True, track_running_stats=True\n",
            "        #params: 0.13K, #flops: 20.48K\n",
            "      )\n",
            "      (conv2): Conv2d(\n",
            "        64, 64, kernel_size=(3, 3), stride=(1, 1), padding=(1, 1), bias=False\n",
            "        #params: 36.86K, #flops: 2.36M\n",
            "      )\n",
            "      (bn2): BatchNorm2d(\n",
            "        64, eps=1e-05, momentum=0.1, affine=True, track_running_stats=True\n",
            "        #params: 0.13K, #flops: 20.48K\n",
            "      )\n",
            "      (shortcut): Sequential(#params: 0, #flops: N/A)\n",
            "    )\n",
            "    (5): BasicBlock(\n",
            "      #params: 73.98K, #flops: 4.76M\n",
            "      (conv1): Conv2d(\n",
            "        64, 64, kernel_size=(3, 3), stride=(1, 1), padding=(1, 1), bias=False\n",
            "        #params: 36.86K, #flops: 2.36M\n",
            "      )\n",
            "      (bn1): BatchNorm2d(\n",
            "        64, eps=1e-05, momentum=0.1, affine=True, track_running_stats=True\n",
            "        #params: 0.13K, #flops: 20.48K\n",
            "      )\n",
            "      (conv2): Conv2d(\n",
            "        64, 64, kernel_size=(3, 3), stride=(1, 1), padding=(1, 1), bias=False\n",
            "        #params: 36.86K, #flops: 2.36M\n",
            "      )\n",
            "      (bn2): BatchNorm2d(\n",
            "        64, eps=1e-05, momentum=0.1, affine=True, track_running_stats=True\n",
            "        #params: 0.13K, #flops: 20.48K\n",
            "      )\n",
            "      (shortcut): Sequential(#params: 0, #flops: N/A)\n",
            "    )\n",
            "    (6): BasicBlock(\n",
            "      #params: 73.98K, #flops: 4.76M\n",
            "      (conv1): Conv2d(\n",
            "        64, 64, kernel_size=(3, 3), stride=(1, 1), padding=(1, 1), bias=False\n",
            "        #params: 36.86K, #flops: 2.36M\n",
            "      )\n",
            "      (bn1): BatchNorm2d(\n",
            "        64, eps=1e-05, momentum=0.1, affine=True, track_running_stats=True\n",
            "        #params: 0.13K, #flops: 20.48K\n",
            "      )\n",
            "      (conv2): Conv2d(\n",
            "        64, 64, kernel_size=(3, 3), stride=(1, 1), padding=(1, 1), bias=False\n",
            "        #params: 36.86K, #flops: 2.36M\n",
            "      )\n",
            "      (bn2): BatchNorm2d(\n",
            "        64, eps=1e-05, momentum=0.1, affine=True, track_running_stats=True\n",
            "        #params: 0.13K, #flops: 20.48K\n",
            "      )\n",
            "      (shortcut): Sequential(#params: 0, #flops: N/A)\n",
            "    )\n",
            "    (7): BasicBlock(\n",
            "      #params: 73.98K, #flops: 4.76M\n",
            "      (conv1): Conv2d(\n",
            "        64, 64, kernel_size=(3, 3), stride=(1, 1), padding=(1, 1), bias=False\n",
            "        #params: 36.86K, #flops: 2.36M\n",
            "      )\n",
            "      (bn1): BatchNorm2d(\n",
            "        64, eps=1e-05, momentum=0.1, affine=True, track_running_stats=True\n",
            "        #params: 0.13K, #flops: 20.48K\n",
            "      )\n",
            "      (conv2): Conv2d(\n",
            "        64, 64, kernel_size=(3, 3), stride=(1, 1), padding=(1, 1), bias=False\n",
            "        #params: 36.86K, #flops: 2.36M\n",
            "      )\n",
            "      (bn2): BatchNorm2d(\n",
            "        64, eps=1e-05, momentum=0.1, affine=True, track_running_stats=True\n",
            "        #params: 0.13K, #flops: 20.48K\n",
            "      )\n",
            "      (shortcut): Sequential(#params: 0, #flops: N/A)\n",
            "    )\n",
            "    (8): BasicBlock(\n",
            "      #params: 73.98K, #flops: 4.76M\n",
            "      (conv1): Conv2d(\n",
            "        64, 64, kernel_size=(3, 3), stride=(1, 1), padding=(1, 1), bias=False\n",
            "        #params: 36.86K, #flops: 2.36M\n",
            "      )\n",
            "      (bn1): BatchNorm2d(\n",
            "        64, eps=1e-05, momentum=0.1, affine=True, track_running_stats=True\n",
            "        #params: 0.13K, #flops: 20.48K\n",
            "      )\n",
            "      (conv2): Conv2d(\n",
            "        64, 64, kernel_size=(3, 3), stride=(1, 1), padding=(1, 1), bias=False\n",
            "        #params: 36.86K, #flops: 2.36M\n",
            "      )\n",
            "      (bn2): BatchNorm2d(\n",
            "        64, eps=1e-05, momentum=0.1, affine=True, track_running_stats=True\n",
            "        #params: 0.13K, #flops: 20.48K\n",
            "      )\n",
            "      (shortcut): Sequential(#params: 0, #flops: N/A)\n",
            "    )\n",
            "    (9): BasicBlock(\n",
            "      #params: 73.98K, #flops: 4.76M\n",
            "      (conv1): Conv2d(\n",
            "        64, 64, kernel_size=(3, 3), stride=(1, 1), padding=(1, 1), bias=False\n",
            "        #params: 36.86K, #flops: 2.36M\n",
            "      )\n",
            "      (bn1): BatchNorm2d(\n",
            "        64, eps=1e-05, momentum=0.1, affine=True, track_running_stats=True\n",
            "        #params: 0.13K, #flops: 20.48K\n",
            "      )\n",
            "      (conv2): Conv2d(\n",
            "        64, 64, kernel_size=(3, 3), stride=(1, 1), padding=(1, 1), bias=False\n",
            "        #params: 36.86K, #flops: 2.36M\n",
            "      )\n",
            "      (bn2): BatchNorm2d(\n",
            "        64, eps=1e-05, momentum=0.1, affine=True, track_running_stats=True\n",
            "        #params: 0.13K, #flops: 20.48K\n",
            "      )\n",
            "      (shortcut): Sequential(#params: 0, #flops: N/A)\n",
            "    )\n",
            "    (10): BasicBlock(\n",
            "      #params: 73.98K, #flops: 4.76M\n",
            "      (conv1): Conv2d(\n",
            "        64, 64, kernel_size=(3, 3), stride=(1, 1), padding=(1, 1), bias=False\n",
            "        #params: 36.86K, #flops: 2.36M\n",
            "      )\n",
            "      (bn1): BatchNorm2d(\n",
            "        64, eps=1e-05, momentum=0.1, affine=True, track_running_stats=True\n",
            "        #params: 0.13K, #flops: 20.48K\n",
            "      )\n",
            "      (conv2): Conv2d(\n",
            "        64, 64, kernel_size=(3, 3), stride=(1, 1), padding=(1, 1), bias=False\n",
            "        #params: 36.86K, #flops: 2.36M\n",
            "      )\n",
            "      (bn2): BatchNorm2d(\n",
            "        64, eps=1e-05, momentum=0.1, affine=True, track_running_stats=True\n",
            "        #params: 0.13K, #flops: 20.48K\n",
            "      )\n",
            "      (shortcut): Sequential(#params: 0, #flops: N/A)\n",
            "    )\n",
            "    (11): BasicBlock(\n",
            "      #params: 73.98K, #flops: 4.76M\n",
            "      (conv1): Conv2d(\n",
            "        64, 64, kernel_size=(3, 3), stride=(1, 1), padding=(1, 1), bias=False\n",
            "        #params: 36.86K, #flops: 2.36M\n",
            "      )\n",
            "      (bn1): BatchNorm2d(\n",
            "        64, eps=1e-05, momentum=0.1, affine=True, track_running_stats=True\n",
            "        #params: 0.13K, #flops: 20.48K\n",
            "      )\n",
            "      (conv2): Conv2d(\n",
            "        64, 64, kernel_size=(3, 3), stride=(1, 1), padding=(1, 1), bias=False\n",
            "        #params: 36.86K, #flops: 2.36M\n",
            "      )\n",
            "      (bn2): BatchNorm2d(\n",
            "        64, eps=1e-05, momentum=0.1, affine=True, track_running_stats=True\n",
            "        #params: 0.13K, #flops: 20.48K\n",
            "      )\n",
            "      (shortcut): Sequential(#params: 0, #flops: N/A)\n",
            "    )\n",
            "    (12): BasicBlock(\n",
            "      #params: 73.98K, #flops: 4.76M\n",
            "      (conv1): Conv2d(\n",
            "        64, 64, kernel_size=(3, 3), stride=(1, 1), padding=(1, 1), bias=False\n",
            "        #params: 36.86K, #flops: 2.36M\n",
            "      )\n",
            "      (bn1): BatchNorm2d(\n",
            "        64, eps=1e-05, momentum=0.1, affine=True, track_running_stats=True\n",
            "        #params: 0.13K, #flops: 20.48K\n",
            "      )\n",
            "      (conv2): Conv2d(\n",
            "        64, 64, kernel_size=(3, 3), stride=(1, 1), padding=(1, 1), bias=False\n",
            "        #params: 36.86K, #flops: 2.36M\n",
            "      )\n",
            "      (bn2): BatchNorm2d(\n",
            "        64, eps=1e-05, momentum=0.1, affine=True, track_running_stats=True\n",
            "        #params: 0.13K, #flops: 20.48K\n",
            "      )\n",
            "      (shortcut): Sequential(#params: 0, #flops: N/A)\n",
            "    )\n",
            "    (13): BasicBlock(\n",
            "      #params: 73.98K, #flops: 4.76M\n",
            "      (conv1): Conv2d(\n",
            "        64, 64, kernel_size=(3, 3), stride=(1, 1), padding=(1, 1), bias=False\n",
            "        #params: 36.86K, #flops: 2.36M\n",
            "      )\n",
            "      (bn1): BatchNorm2d(\n",
            "        64, eps=1e-05, momentum=0.1, affine=True, track_running_stats=True\n",
            "        #params: 0.13K, #flops: 20.48K\n",
            "      )\n",
            "      (conv2): Conv2d(\n",
            "        64, 64, kernel_size=(3, 3), stride=(1, 1), padding=(1, 1), bias=False\n",
            "        #params: 36.86K, #flops: 2.36M\n",
            "      )\n",
            "      (bn2): BatchNorm2d(\n",
            "        64, eps=1e-05, momentum=0.1, affine=True, track_running_stats=True\n",
            "        #params: 0.13K, #flops: 20.48K\n",
            "      )\n",
            "      (shortcut): Sequential(#params: 0, #flops: N/A)\n",
            "    )\n",
            "    (14): BasicBlock(\n",
            "      #params: 73.98K, #flops: 4.76M\n",
            "      (conv1): Conv2d(\n",
            "        64, 64, kernel_size=(3, 3), stride=(1, 1), padding=(1, 1), bias=False\n",
            "        #params: 36.86K, #flops: 2.36M\n",
            "      )\n",
            "      (bn1): BatchNorm2d(\n",
            "        64, eps=1e-05, momentum=0.1, affine=True, track_running_stats=True\n",
            "        #params: 0.13K, #flops: 20.48K\n",
            "      )\n",
            "      (conv2): Conv2d(\n",
            "        64, 64, kernel_size=(3, 3), stride=(1, 1), padding=(1, 1), bias=False\n",
            "        #params: 36.86K, #flops: 2.36M\n",
            "      )\n",
            "      (bn2): BatchNorm2d(\n",
            "        64, eps=1e-05, momentum=0.1, affine=True, track_running_stats=True\n",
            "        #params: 0.13K, #flops: 20.48K\n",
            "      )\n",
            "      (shortcut): Sequential(#params: 0, #flops: N/A)\n",
            "    )\n",
            "    (15): BasicBlock(\n",
            "      #params: 73.98K, #flops: 4.76M\n",
            "      (conv1): Conv2d(\n",
            "        64, 64, kernel_size=(3, 3), stride=(1, 1), padding=(1, 1), bias=False\n",
            "        #params: 36.86K, #flops: 2.36M\n",
            "      )\n",
            "      (bn1): BatchNorm2d(\n",
            "        64, eps=1e-05, momentum=0.1, affine=True, track_running_stats=True\n",
            "        #params: 0.13K, #flops: 20.48K\n",
            "      )\n",
            "      (conv2): Conv2d(\n",
            "        64, 64, kernel_size=(3, 3), stride=(1, 1), padding=(1, 1), bias=False\n",
            "        #params: 36.86K, #flops: 2.36M\n",
            "      )\n",
            "      (bn2): BatchNorm2d(\n",
            "        64, eps=1e-05, momentum=0.1, affine=True, track_running_stats=True\n",
            "        #params: 0.13K, #flops: 20.48K\n",
            "      )\n",
            "      (shortcut): Sequential(#params: 0, #flops: N/A)\n",
            "    )\n",
            "    (16): BasicBlock(\n",
            "      #params: 73.98K, #flops: 4.76M\n",
            "      (conv1): Conv2d(\n",
            "        64, 64, kernel_size=(3, 3), stride=(1, 1), padding=(1, 1), bias=False\n",
            "        #params: 36.86K, #flops: 2.36M\n",
            "      )\n",
            "      (bn1): BatchNorm2d(\n",
            "        64, eps=1e-05, momentum=0.1, affine=True, track_running_stats=True\n",
            "        #params: 0.13K, #flops: 20.48K\n",
            "      )\n",
            "      (conv2): Conv2d(\n",
            "        64, 64, kernel_size=(3, 3), stride=(1, 1), padding=(1, 1), bias=False\n",
            "        #params: 36.86K, #flops: 2.36M\n",
            "      )\n",
            "      (bn2): BatchNorm2d(\n",
            "        64, eps=1e-05, momentum=0.1, affine=True, track_running_stats=True\n",
            "        #params: 0.13K, #flops: 20.48K\n",
            "      )\n",
            "      (shortcut): Sequential(#params: 0, #flops: N/A)\n",
            "    )\n",
            "    (17): BasicBlock(\n",
            "      #params: 73.98K, #flops: 4.76M\n",
            "      (conv1): Conv2d(\n",
            "        64, 64, kernel_size=(3, 3), stride=(1, 1), padding=(1, 1), bias=False\n",
            "        #params: 36.86K, #flops: 2.36M\n",
            "      )\n",
            "      (bn1): BatchNorm2d(\n",
            "        64, eps=1e-05, momentum=0.1, affine=True, track_running_stats=True\n",
            "        #params: 0.13K, #flops: 20.48K\n",
            "      )\n",
            "      (conv2): Conv2d(\n",
            "        64, 64, kernel_size=(3, 3), stride=(1, 1), padding=(1, 1), bias=False\n",
            "        #params: 36.86K, #flops: 2.36M\n",
            "      )\n",
            "      (bn2): BatchNorm2d(\n",
            "        64, eps=1e-05, momentum=0.1, affine=True, track_running_stats=True\n",
            "        #params: 0.13K, #flops: 20.48K\n",
            "      )\n",
            "      (shortcut): Sequential(#params: 0, #flops: N/A)\n",
            "    )\n",
            "  )\n",
            "  (linear): Linear(\n",
            "    in_features=64, out_features=10, bias=True\n",
            "    #params: 0.65K, #flops: 0.64K\n",
            "  )\n",
            ")\n"
          ]
        }
      ]
    },
    {
      "cell_type": "code",
      "source": [
        "# Loading model to device.\n",
        "m_4.to(device)"
      ],
      "metadata": {
        "id": "NDfSNzDUlsLB",
        "colab": {
          "base_uri": "https://localhost:8080/"
        },
        "outputId": "c7e0bc18-1406-4919-b4e5-7dd02f33f8de"
      },
      "execution_count": null,
      "outputs": [
        {
          "output_type": "execute_result",
          "data": {
            "text/plain": [
              "ResNet(\n",
              "  (conv1): Conv2d(3, 16, kernel_size=(3, 3), stride=(1, 1), padding=(1, 1), bias=False)\n",
              "  (bn1): BatchNorm2d(16, eps=1e-05, momentum=0.1, affine=True, track_running_stats=True)\n",
              "  (layer1): Sequential(\n",
              "    (0): BasicBlock(\n",
              "      (conv1): Conv2d(16, 16, kernel_size=(3, 3), stride=(1, 1), padding=(1, 1), bias=False)\n",
              "      (bn1): BatchNorm2d(16, eps=1e-05, momentum=0.1, affine=True, track_running_stats=True)\n",
              "      (conv2): Conv2d(16, 16, kernel_size=(3, 3), stride=(1, 1), padding=(1, 1), bias=False)\n",
              "      (bn2): BatchNorm2d(16, eps=1e-05, momentum=0.1, affine=True, track_running_stats=True)\n",
              "      (shortcut): Sequential()\n",
              "    )\n",
              "    (1): BasicBlock(\n",
              "      (conv1): Conv2d(16, 16, kernel_size=(3, 3), stride=(1, 1), padding=(1, 1), bias=False)\n",
              "      (bn1): BatchNorm2d(16, eps=1e-05, momentum=0.1, affine=True, track_running_stats=True)\n",
              "      (conv2): Conv2d(16, 16, kernel_size=(3, 3), stride=(1, 1), padding=(1, 1), bias=False)\n",
              "      (bn2): BatchNorm2d(16, eps=1e-05, momentum=0.1, affine=True, track_running_stats=True)\n",
              "      (shortcut): Sequential()\n",
              "    )\n",
              "    (2): BasicBlock(\n",
              "      (conv1): Conv2d(16, 16, kernel_size=(3, 3), stride=(1, 1), padding=(1, 1), bias=False)\n",
              "      (bn1): BatchNorm2d(16, eps=1e-05, momentum=0.1, affine=True, track_running_stats=True)\n",
              "      (conv2): Conv2d(16, 16, kernel_size=(3, 3), stride=(1, 1), padding=(1, 1), bias=False)\n",
              "      (bn2): BatchNorm2d(16, eps=1e-05, momentum=0.1, affine=True, track_running_stats=True)\n",
              "      (shortcut): Sequential()\n",
              "    )\n",
              "    (3): BasicBlock(\n",
              "      (conv1): Conv2d(16, 16, kernel_size=(3, 3), stride=(1, 1), padding=(1, 1), bias=False)\n",
              "      (bn1): BatchNorm2d(16, eps=1e-05, momentum=0.1, affine=True, track_running_stats=True)\n",
              "      (conv2): Conv2d(16, 16, kernel_size=(3, 3), stride=(1, 1), padding=(1, 1), bias=False)\n",
              "      (bn2): BatchNorm2d(16, eps=1e-05, momentum=0.1, affine=True, track_running_stats=True)\n",
              "      (shortcut): Sequential()\n",
              "    )\n",
              "    (4): BasicBlock(\n",
              "      (conv1): Conv2d(16, 16, kernel_size=(3, 3), stride=(1, 1), padding=(1, 1), bias=False)\n",
              "      (bn1): BatchNorm2d(16, eps=1e-05, momentum=0.1, affine=True, track_running_stats=True)\n",
              "      (conv2): Conv2d(16, 16, kernel_size=(3, 3), stride=(1, 1), padding=(1, 1), bias=False)\n",
              "      (bn2): BatchNorm2d(16, eps=1e-05, momentum=0.1, affine=True, track_running_stats=True)\n",
              "      (shortcut): Sequential()\n",
              "    )\n",
              "    (5): BasicBlock(\n",
              "      (conv1): Conv2d(16, 16, kernel_size=(3, 3), stride=(1, 1), padding=(1, 1), bias=False)\n",
              "      (bn1): BatchNorm2d(16, eps=1e-05, momentum=0.1, affine=True, track_running_stats=True)\n",
              "      (conv2): Conv2d(16, 16, kernel_size=(3, 3), stride=(1, 1), padding=(1, 1), bias=False)\n",
              "      (bn2): BatchNorm2d(16, eps=1e-05, momentum=0.1, affine=True, track_running_stats=True)\n",
              "      (shortcut): Sequential()\n",
              "    )\n",
              "    (6): BasicBlock(\n",
              "      (conv1): Conv2d(16, 16, kernel_size=(3, 3), stride=(1, 1), padding=(1, 1), bias=False)\n",
              "      (bn1): BatchNorm2d(16, eps=1e-05, momentum=0.1, affine=True, track_running_stats=True)\n",
              "      (conv2): Conv2d(16, 16, kernel_size=(3, 3), stride=(1, 1), padding=(1, 1), bias=False)\n",
              "      (bn2): BatchNorm2d(16, eps=1e-05, momentum=0.1, affine=True, track_running_stats=True)\n",
              "      (shortcut): Sequential()\n",
              "    )\n",
              "    (7): BasicBlock(\n",
              "      (conv1): Conv2d(16, 16, kernel_size=(3, 3), stride=(1, 1), padding=(1, 1), bias=False)\n",
              "      (bn1): BatchNorm2d(16, eps=1e-05, momentum=0.1, affine=True, track_running_stats=True)\n",
              "      (conv2): Conv2d(16, 16, kernel_size=(3, 3), stride=(1, 1), padding=(1, 1), bias=False)\n",
              "      (bn2): BatchNorm2d(16, eps=1e-05, momentum=0.1, affine=True, track_running_stats=True)\n",
              "      (shortcut): Sequential()\n",
              "    )\n",
              "    (8): BasicBlock(\n",
              "      (conv1): Conv2d(16, 16, kernel_size=(3, 3), stride=(1, 1), padding=(1, 1), bias=False)\n",
              "      (bn1): BatchNorm2d(16, eps=1e-05, momentum=0.1, affine=True, track_running_stats=True)\n",
              "      (conv2): Conv2d(16, 16, kernel_size=(3, 3), stride=(1, 1), padding=(1, 1), bias=False)\n",
              "      (bn2): BatchNorm2d(16, eps=1e-05, momentum=0.1, affine=True, track_running_stats=True)\n",
              "      (shortcut): Sequential()\n",
              "    )\n",
              "    (9): BasicBlock(\n",
              "      (conv1): Conv2d(16, 16, kernel_size=(3, 3), stride=(1, 1), padding=(1, 1), bias=False)\n",
              "      (bn1): BatchNorm2d(16, eps=1e-05, momentum=0.1, affine=True, track_running_stats=True)\n",
              "      (conv2): Conv2d(16, 16, kernel_size=(3, 3), stride=(1, 1), padding=(1, 1), bias=False)\n",
              "      (bn2): BatchNorm2d(16, eps=1e-05, momentum=0.1, affine=True, track_running_stats=True)\n",
              "      (shortcut): Sequential()\n",
              "    )\n",
              "    (10): BasicBlock(\n",
              "      (conv1): Conv2d(16, 16, kernel_size=(3, 3), stride=(1, 1), padding=(1, 1), bias=False)\n",
              "      (bn1): BatchNorm2d(16, eps=1e-05, momentum=0.1, affine=True, track_running_stats=True)\n",
              "      (conv2): Conv2d(16, 16, kernel_size=(3, 3), stride=(1, 1), padding=(1, 1), bias=False)\n",
              "      (bn2): BatchNorm2d(16, eps=1e-05, momentum=0.1, affine=True, track_running_stats=True)\n",
              "      (shortcut): Sequential()\n",
              "    )\n",
              "    (11): BasicBlock(\n",
              "      (conv1): Conv2d(16, 16, kernel_size=(3, 3), stride=(1, 1), padding=(1, 1), bias=False)\n",
              "      (bn1): BatchNorm2d(16, eps=1e-05, momentum=0.1, affine=True, track_running_stats=True)\n",
              "      (conv2): Conv2d(16, 16, kernel_size=(3, 3), stride=(1, 1), padding=(1, 1), bias=False)\n",
              "      (bn2): BatchNorm2d(16, eps=1e-05, momentum=0.1, affine=True, track_running_stats=True)\n",
              "      (shortcut): Sequential()\n",
              "    )\n",
              "    (12): BasicBlock(\n",
              "      (conv1): Conv2d(16, 16, kernel_size=(3, 3), stride=(1, 1), padding=(1, 1), bias=False)\n",
              "      (bn1): BatchNorm2d(16, eps=1e-05, momentum=0.1, affine=True, track_running_stats=True)\n",
              "      (conv2): Conv2d(16, 16, kernel_size=(3, 3), stride=(1, 1), padding=(1, 1), bias=False)\n",
              "      (bn2): BatchNorm2d(16, eps=1e-05, momentum=0.1, affine=True, track_running_stats=True)\n",
              "      (shortcut): Sequential()\n",
              "    )\n",
              "    (13): BasicBlock(\n",
              "      (conv1): Conv2d(16, 16, kernel_size=(3, 3), stride=(1, 1), padding=(1, 1), bias=False)\n",
              "      (bn1): BatchNorm2d(16, eps=1e-05, momentum=0.1, affine=True, track_running_stats=True)\n",
              "      (conv2): Conv2d(16, 16, kernel_size=(3, 3), stride=(1, 1), padding=(1, 1), bias=False)\n",
              "      (bn2): BatchNorm2d(16, eps=1e-05, momentum=0.1, affine=True, track_running_stats=True)\n",
              "      (shortcut): Sequential()\n",
              "    )\n",
              "    (14): BasicBlock(\n",
              "      (conv1): Conv2d(16, 16, kernel_size=(3, 3), stride=(1, 1), padding=(1, 1), bias=False)\n",
              "      (bn1): BatchNorm2d(16, eps=1e-05, momentum=0.1, affine=True, track_running_stats=True)\n",
              "      (conv2): Conv2d(16, 16, kernel_size=(3, 3), stride=(1, 1), padding=(1, 1), bias=False)\n",
              "      (bn2): BatchNorm2d(16, eps=1e-05, momentum=0.1, affine=True, track_running_stats=True)\n",
              "      (shortcut): Sequential()\n",
              "    )\n",
              "    (15): BasicBlock(\n",
              "      (conv1): Conv2d(16, 16, kernel_size=(3, 3), stride=(1, 1), padding=(1, 1), bias=False)\n",
              "      (bn1): BatchNorm2d(16, eps=1e-05, momentum=0.1, affine=True, track_running_stats=True)\n",
              "      (conv2): Conv2d(16, 16, kernel_size=(3, 3), stride=(1, 1), padding=(1, 1), bias=False)\n",
              "      (bn2): BatchNorm2d(16, eps=1e-05, momentum=0.1, affine=True, track_running_stats=True)\n",
              "      (shortcut): Sequential()\n",
              "    )\n",
              "    (16): BasicBlock(\n",
              "      (conv1): Conv2d(16, 16, kernel_size=(3, 3), stride=(1, 1), padding=(1, 1), bias=False)\n",
              "      (bn1): BatchNorm2d(16, eps=1e-05, momentum=0.1, affine=True, track_running_stats=True)\n",
              "      (conv2): Conv2d(16, 16, kernel_size=(3, 3), stride=(1, 1), padding=(1, 1), bias=False)\n",
              "      (bn2): BatchNorm2d(16, eps=1e-05, momentum=0.1, affine=True, track_running_stats=True)\n",
              "      (shortcut): Sequential()\n",
              "    )\n",
              "    (17): BasicBlock(\n",
              "      (conv1): Conv2d(16, 16, kernel_size=(3, 3), stride=(1, 1), padding=(1, 1), bias=False)\n",
              "      (bn1): BatchNorm2d(16, eps=1e-05, momentum=0.1, affine=True, track_running_stats=True)\n",
              "      (conv2): Conv2d(16, 16, kernel_size=(3, 3), stride=(1, 1), padding=(1, 1), bias=False)\n",
              "      (bn2): BatchNorm2d(16, eps=1e-05, momentum=0.1, affine=True, track_running_stats=True)\n",
              "      (shortcut): Sequential()\n",
              "    )\n",
              "  )\n",
              "  (layer2): Sequential(\n",
              "    (0): BasicBlock(\n",
              "      (conv1): Conv2d(16, 32, kernel_size=(3, 3), stride=(2, 2), padding=(1, 1), bias=False)\n",
              "      (bn1): BatchNorm2d(32, eps=1e-05, momentum=0.1, affine=True, track_running_stats=True)\n",
              "      (conv2): Conv2d(32, 32, kernel_size=(3, 3), stride=(1, 1), padding=(1, 1), bias=False)\n",
              "      (bn2): BatchNorm2d(32, eps=1e-05, momentum=0.1, affine=True, track_running_stats=True)\n",
              "      (shortcut): LambdaLayer()\n",
              "    )\n",
              "    (1): BasicBlock(\n",
              "      (conv1): Conv2d(32, 32, kernel_size=(3, 3), stride=(1, 1), padding=(1, 1), bias=False)\n",
              "      (bn1): BatchNorm2d(32, eps=1e-05, momentum=0.1, affine=True, track_running_stats=True)\n",
              "      (conv2): Conv2d(32, 32, kernel_size=(3, 3), stride=(1, 1), padding=(1, 1), bias=False)\n",
              "      (bn2): BatchNorm2d(32, eps=1e-05, momentum=0.1, affine=True, track_running_stats=True)\n",
              "      (shortcut): Sequential()\n",
              "    )\n",
              "    (2): BasicBlock(\n",
              "      (conv1): Conv2d(32, 32, kernel_size=(3, 3), stride=(1, 1), padding=(1, 1), bias=False)\n",
              "      (bn1): BatchNorm2d(32, eps=1e-05, momentum=0.1, affine=True, track_running_stats=True)\n",
              "      (conv2): Conv2d(32, 32, kernel_size=(3, 3), stride=(1, 1), padding=(1, 1), bias=False)\n",
              "      (bn2): BatchNorm2d(32, eps=1e-05, momentum=0.1, affine=True, track_running_stats=True)\n",
              "      (shortcut): Sequential()\n",
              "    )\n",
              "    (3): BasicBlock(\n",
              "      (conv1): Conv2d(32, 32, kernel_size=(3, 3), stride=(1, 1), padding=(1, 1), bias=False)\n",
              "      (bn1): BatchNorm2d(32, eps=1e-05, momentum=0.1, affine=True, track_running_stats=True)\n",
              "      (conv2): Conv2d(32, 32, kernel_size=(3, 3), stride=(1, 1), padding=(1, 1), bias=False)\n",
              "      (bn2): BatchNorm2d(32, eps=1e-05, momentum=0.1, affine=True, track_running_stats=True)\n",
              "      (shortcut): Sequential()\n",
              "    )\n",
              "    (4): BasicBlock(\n",
              "      (conv1): Conv2d(32, 32, kernel_size=(3, 3), stride=(1, 1), padding=(1, 1), bias=False)\n",
              "      (bn1): BatchNorm2d(32, eps=1e-05, momentum=0.1, affine=True, track_running_stats=True)\n",
              "      (conv2): Conv2d(32, 32, kernel_size=(3, 3), stride=(1, 1), padding=(1, 1), bias=False)\n",
              "      (bn2): BatchNorm2d(32, eps=1e-05, momentum=0.1, affine=True, track_running_stats=True)\n",
              "      (shortcut): Sequential()\n",
              "    )\n",
              "    (5): BasicBlock(\n",
              "      (conv1): Conv2d(32, 32, kernel_size=(3, 3), stride=(1, 1), padding=(1, 1), bias=False)\n",
              "      (bn1): BatchNorm2d(32, eps=1e-05, momentum=0.1, affine=True, track_running_stats=True)\n",
              "      (conv2): Conv2d(32, 32, kernel_size=(3, 3), stride=(1, 1), padding=(1, 1), bias=False)\n",
              "      (bn2): BatchNorm2d(32, eps=1e-05, momentum=0.1, affine=True, track_running_stats=True)\n",
              "      (shortcut): Sequential()\n",
              "    )\n",
              "    (6): BasicBlock(\n",
              "      (conv1): Conv2d(32, 32, kernel_size=(3, 3), stride=(1, 1), padding=(1, 1), bias=False)\n",
              "      (bn1): BatchNorm2d(32, eps=1e-05, momentum=0.1, affine=True, track_running_stats=True)\n",
              "      (conv2): Conv2d(32, 32, kernel_size=(3, 3), stride=(1, 1), padding=(1, 1), bias=False)\n",
              "      (bn2): BatchNorm2d(32, eps=1e-05, momentum=0.1, affine=True, track_running_stats=True)\n",
              "      (shortcut): Sequential()\n",
              "    )\n",
              "    (7): BasicBlock(\n",
              "      (conv1): Conv2d(32, 32, kernel_size=(3, 3), stride=(1, 1), padding=(1, 1), bias=False)\n",
              "      (bn1): BatchNorm2d(32, eps=1e-05, momentum=0.1, affine=True, track_running_stats=True)\n",
              "      (conv2): Conv2d(32, 32, kernel_size=(3, 3), stride=(1, 1), padding=(1, 1), bias=False)\n",
              "      (bn2): BatchNorm2d(32, eps=1e-05, momentum=0.1, affine=True, track_running_stats=True)\n",
              "      (shortcut): Sequential()\n",
              "    )\n",
              "    (8): BasicBlock(\n",
              "      (conv1): Conv2d(32, 32, kernel_size=(3, 3), stride=(1, 1), padding=(1, 1), bias=False)\n",
              "      (bn1): BatchNorm2d(32, eps=1e-05, momentum=0.1, affine=True, track_running_stats=True)\n",
              "      (conv2): Conv2d(32, 32, kernel_size=(3, 3), stride=(1, 1), padding=(1, 1), bias=False)\n",
              "      (bn2): BatchNorm2d(32, eps=1e-05, momentum=0.1, affine=True, track_running_stats=True)\n",
              "      (shortcut): Sequential()\n",
              "    )\n",
              "    (9): BasicBlock(\n",
              "      (conv1): Conv2d(32, 32, kernel_size=(3, 3), stride=(1, 1), padding=(1, 1), bias=False)\n",
              "      (bn1): BatchNorm2d(32, eps=1e-05, momentum=0.1, affine=True, track_running_stats=True)\n",
              "      (conv2): Conv2d(32, 32, kernel_size=(3, 3), stride=(1, 1), padding=(1, 1), bias=False)\n",
              "      (bn2): BatchNorm2d(32, eps=1e-05, momentum=0.1, affine=True, track_running_stats=True)\n",
              "      (shortcut): Sequential()\n",
              "    )\n",
              "    (10): BasicBlock(\n",
              "      (conv1): Conv2d(32, 32, kernel_size=(3, 3), stride=(1, 1), padding=(1, 1), bias=False)\n",
              "      (bn1): BatchNorm2d(32, eps=1e-05, momentum=0.1, affine=True, track_running_stats=True)\n",
              "      (conv2): Conv2d(32, 32, kernel_size=(3, 3), stride=(1, 1), padding=(1, 1), bias=False)\n",
              "      (bn2): BatchNorm2d(32, eps=1e-05, momentum=0.1, affine=True, track_running_stats=True)\n",
              "      (shortcut): Sequential()\n",
              "    )\n",
              "    (11): BasicBlock(\n",
              "      (conv1): Conv2d(32, 32, kernel_size=(3, 3), stride=(1, 1), padding=(1, 1), bias=False)\n",
              "      (bn1): BatchNorm2d(32, eps=1e-05, momentum=0.1, affine=True, track_running_stats=True)\n",
              "      (conv2): Conv2d(32, 32, kernel_size=(3, 3), stride=(1, 1), padding=(1, 1), bias=False)\n",
              "      (bn2): BatchNorm2d(32, eps=1e-05, momentum=0.1, affine=True, track_running_stats=True)\n",
              "      (shortcut): Sequential()\n",
              "    )\n",
              "    (12): BasicBlock(\n",
              "      (conv1): Conv2d(32, 32, kernel_size=(3, 3), stride=(1, 1), padding=(1, 1), bias=False)\n",
              "      (bn1): BatchNorm2d(32, eps=1e-05, momentum=0.1, affine=True, track_running_stats=True)\n",
              "      (conv2): Conv2d(32, 32, kernel_size=(3, 3), stride=(1, 1), padding=(1, 1), bias=False)\n",
              "      (bn2): BatchNorm2d(32, eps=1e-05, momentum=0.1, affine=True, track_running_stats=True)\n",
              "      (shortcut): Sequential()\n",
              "    )\n",
              "    (13): BasicBlock(\n",
              "      (conv1): Conv2d(32, 32, kernel_size=(3, 3), stride=(1, 1), padding=(1, 1), bias=False)\n",
              "      (bn1): BatchNorm2d(32, eps=1e-05, momentum=0.1, affine=True, track_running_stats=True)\n",
              "      (conv2): Conv2d(32, 32, kernel_size=(3, 3), stride=(1, 1), padding=(1, 1), bias=False)\n",
              "      (bn2): BatchNorm2d(32, eps=1e-05, momentum=0.1, affine=True, track_running_stats=True)\n",
              "      (shortcut): Sequential()\n",
              "    )\n",
              "    (14): BasicBlock(\n",
              "      (conv1): Conv2d(32, 32, kernel_size=(3, 3), stride=(1, 1), padding=(1, 1), bias=False)\n",
              "      (bn1): BatchNorm2d(32, eps=1e-05, momentum=0.1, affine=True, track_running_stats=True)\n",
              "      (conv2): Conv2d(32, 32, kernel_size=(3, 3), stride=(1, 1), padding=(1, 1), bias=False)\n",
              "      (bn2): BatchNorm2d(32, eps=1e-05, momentum=0.1, affine=True, track_running_stats=True)\n",
              "      (shortcut): Sequential()\n",
              "    )\n",
              "    (15): BasicBlock(\n",
              "      (conv1): Conv2d(32, 32, kernel_size=(3, 3), stride=(1, 1), padding=(1, 1), bias=False)\n",
              "      (bn1): BatchNorm2d(32, eps=1e-05, momentum=0.1, affine=True, track_running_stats=True)\n",
              "      (conv2): Conv2d(32, 32, kernel_size=(3, 3), stride=(1, 1), padding=(1, 1), bias=False)\n",
              "      (bn2): BatchNorm2d(32, eps=1e-05, momentum=0.1, affine=True, track_running_stats=True)\n",
              "      (shortcut): Sequential()\n",
              "    )\n",
              "    (16): BasicBlock(\n",
              "      (conv1): Conv2d(32, 32, kernel_size=(3, 3), stride=(1, 1), padding=(1, 1), bias=False)\n",
              "      (bn1): BatchNorm2d(32, eps=1e-05, momentum=0.1, affine=True, track_running_stats=True)\n",
              "      (conv2): Conv2d(32, 32, kernel_size=(3, 3), stride=(1, 1), padding=(1, 1), bias=False)\n",
              "      (bn2): BatchNorm2d(32, eps=1e-05, momentum=0.1, affine=True, track_running_stats=True)\n",
              "      (shortcut): Sequential()\n",
              "    )\n",
              "    (17): BasicBlock(\n",
              "      (conv1): Conv2d(32, 32, kernel_size=(3, 3), stride=(1, 1), padding=(1, 1), bias=False)\n",
              "      (bn1): BatchNorm2d(32, eps=1e-05, momentum=0.1, affine=True, track_running_stats=True)\n",
              "      (conv2): Conv2d(32, 32, kernel_size=(3, 3), stride=(1, 1), padding=(1, 1), bias=False)\n",
              "      (bn2): BatchNorm2d(32, eps=1e-05, momentum=0.1, affine=True, track_running_stats=True)\n",
              "      (shortcut): Sequential()\n",
              "    )\n",
              "  )\n",
              "  (layer3): Sequential(\n",
              "    (0): BasicBlock(\n",
              "      (conv1): Conv2d(32, 64, kernel_size=(3, 3), stride=(2, 2), padding=(1, 1), bias=False)\n",
              "      (bn1): BatchNorm2d(64, eps=1e-05, momentum=0.1, affine=True, track_running_stats=True)\n",
              "      (conv2): Conv2d(64, 64, kernel_size=(3, 3), stride=(1, 1), padding=(1, 1), bias=False)\n",
              "      (bn2): BatchNorm2d(64, eps=1e-05, momentum=0.1, affine=True, track_running_stats=True)\n",
              "      (shortcut): LambdaLayer()\n",
              "    )\n",
              "    (1): BasicBlock(\n",
              "      (conv1): Conv2d(64, 64, kernel_size=(3, 3), stride=(1, 1), padding=(1, 1), bias=False)\n",
              "      (bn1): BatchNorm2d(64, eps=1e-05, momentum=0.1, affine=True, track_running_stats=True)\n",
              "      (conv2): Conv2d(64, 64, kernel_size=(3, 3), stride=(1, 1), padding=(1, 1), bias=False)\n",
              "      (bn2): BatchNorm2d(64, eps=1e-05, momentum=0.1, affine=True, track_running_stats=True)\n",
              "      (shortcut): Sequential()\n",
              "    )\n",
              "    (2): BasicBlock(\n",
              "      (conv1): Conv2d(64, 64, kernel_size=(3, 3), stride=(1, 1), padding=(1, 1), bias=False)\n",
              "      (bn1): BatchNorm2d(64, eps=1e-05, momentum=0.1, affine=True, track_running_stats=True)\n",
              "      (conv2): Conv2d(64, 64, kernel_size=(3, 3), stride=(1, 1), padding=(1, 1), bias=False)\n",
              "      (bn2): BatchNorm2d(64, eps=1e-05, momentum=0.1, affine=True, track_running_stats=True)\n",
              "      (shortcut): Sequential()\n",
              "    )\n",
              "    (3): BasicBlock(\n",
              "      (conv1): Conv2d(64, 64, kernel_size=(3, 3), stride=(1, 1), padding=(1, 1), bias=False)\n",
              "      (bn1): BatchNorm2d(64, eps=1e-05, momentum=0.1, affine=True, track_running_stats=True)\n",
              "      (conv2): Conv2d(64, 64, kernel_size=(3, 3), stride=(1, 1), padding=(1, 1), bias=False)\n",
              "      (bn2): BatchNorm2d(64, eps=1e-05, momentum=0.1, affine=True, track_running_stats=True)\n",
              "      (shortcut): Sequential()\n",
              "    )\n",
              "    (4): BasicBlock(\n",
              "      (conv1): Conv2d(64, 64, kernel_size=(3, 3), stride=(1, 1), padding=(1, 1), bias=False)\n",
              "      (bn1): BatchNorm2d(64, eps=1e-05, momentum=0.1, affine=True, track_running_stats=True)\n",
              "      (conv2): Conv2d(64, 64, kernel_size=(3, 3), stride=(1, 1), padding=(1, 1), bias=False)\n",
              "      (bn2): BatchNorm2d(64, eps=1e-05, momentum=0.1, affine=True, track_running_stats=True)\n",
              "      (shortcut): Sequential()\n",
              "    )\n",
              "    (5): BasicBlock(\n",
              "      (conv1): Conv2d(64, 64, kernel_size=(3, 3), stride=(1, 1), padding=(1, 1), bias=False)\n",
              "      (bn1): BatchNorm2d(64, eps=1e-05, momentum=0.1, affine=True, track_running_stats=True)\n",
              "      (conv2): Conv2d(64, 64, kernel_size=(3, 3), stride=(1, 1), padding=(1, 1), bias=False)\n",
              "      (bn2): BatchNorm2d(64, eps=1e-05, momentum=0.1, affine=True, track_running_stats=True)\n",
              "      (shortcut): Sequential()\n",
              "    )\n",
              "    (6): BasicBlock(\n",
              "      (conv1): Conv2d(64, 64, kernel_size=(3, 3), stride=(1, 1), padding=(1, 1), bias=False)\n",
              "      (bn1): BatchNorm2d(64, eps=1e-05, momentum=0.1, affine=True, track_running_stats=True)\n",
              "      (conv2): Conv2d(64, 64, kernel_size=(3, 3), stride=(1, 1), padding=(1, 1), bias=False)\n",
              "      (bn2): BatchNorm2d(64, eps=1e-05, momentum=0.1, affine=True, track_running_stats=True)\n",
              "      (shortcut): Sequential()\n",
              "    )\n",
              "    (7): BasicBlock(\n",
              "      (conv1): Conv2d(64, 64, kernel_size=(3, 3), stride=(1, 1), padding=(1, 1), bias=False)\n",
              "      (bn1): BatchNorm2d(64, eps=1e-05, momentum=0.1, affine=True, track_running_stats=True)\n",
              "      (conv2): Conv2d(64, 64, kernel_size=(3, 3), stride=(1, 1), padding=(1, 1), bias=False)\n",
              "      (bn2): BatchNorm2d(64, eps=1e-05, momentum=0.1, affine=True, track_running_stats=True)\n",
              "      (shortcut): Sequential()\n",
              "    )\n",
              "    (8): BasicBlock(\n",
              "      (conv1): Conv2d(64, 64, kernel_size=(3, 3), stride=(1, 1), padding=(1, 1), bias=False)\n",
              "      (bn1): BatchNorm2d(64, eps=1e-05, momentum=0.1, affine=True, track_running_stats=True)\n",
              "      (conv2): Conv2d(64, 64, kernel_size=(3, 3), stride=(1, 1), padding=(1, 1), bias=False)\n",
              "      (bn2): BatchNorm2d(64, eps=1e-05, momentum=0.1, affine=True, track_running_stats=True)\n",
              "      (shortcut): Sequential()\n",
              "    )\n",
              "    (9): BasicBlock(\n",
              "      (conv1): Conv2d(64, 64, kernel_size=(3, 3), stride=(1, 1), padding=(1, 1), bias=False)\n",
              "      (bn1): BatchNorm2d(64, eps=1e-05, momentum=0.1, affine=True, track_running_stats=True)\n",
              "      (conv2): Conv2d(64, 64, kernel_size=(3, 3), stride=(1, 1), padding=(1, 1), bias=False)\n",
              "      (bn2): BatchNorm2d(64, eps=1e-05, momentum=0.1, affine=True, track_running_stats=True)\n",
              "      (shortcut): Sequential()\n",
              "    )\n",
              "    (10): BasicBlock(\n",
              "      (conv1): Conv2d(64, 64, kernel_size=(3, 3), stride=(1, 1), padding=(1, 1), bias=False)\n",
              "      (bn1): BatchNorm2d(64, eps=1e-05, momentum=0.1, affine=True, track_running_stats=True)\n",
              "      (conv2): Conv2d(64, 64, kernel_size=(3, 3), stride=(1, 1), padding=(1, 1), bias=False)\n",
              "      (bn2): BatchNorm2d(64, eps=1e-05, momentum=0.1, affine=True, track_running_stats=True)\n",
              "      (shortcut): Sequential()\n",
              "    )\n",
              "    (11): BasicBlock(\n",
              "      (conv1): Conv2d(64, 64, kernel_size=(3, 3), stride=(1, 1), padding=(1, 1), bias=False)\n",
              "      (bn1): BatchNorm2d(64, eps=1e-05, momentum=0.1, affine=True, track_running_stats=True)\n",
              "      (conv2): Conv2d(64, 64, kernel_size=(3, 3), stride=(1, 1), padding=(1, 1), bias=False)\n",
              "      (bn2): BatchNorm2d(64, eps=1e-05, momentum=0.1, affine=True, track_running_stats=True)\n",
              "      (shortcut): Sequential()\n",
              "    )\n",
              "    (12): BasicBlock(\n",
              "      (conv1): Conv2d(64, 64, kernel_size=(3, 3), stride=(1, 1), padding=(1, 1), bias=False)\n",
              "      (bn1): BatchNorm2d(64, eps=1e-05, momentum=0.1, affine=True, track_running_stats=True)\n",
              "      (conv2): Conv2d(64, 64, kernel_size=(3, 3), stride=(1, 1), padding=(1, 1), bias=False)\n",
              "      (bn2): BatchNorm2d(64, eps=1e-05, momentum=0.1, affine=True, track_running_stats=True)\n",
              "      (shortcut): Sequential()\n",
              "    )\n",
              "    (13): BasicBlock(\n",
              "      (conv1): Conv2d(64, 64, kernel_size=(3, 3), stride=(1, 1), padding=(1, 1), bias=False)\n",
              "      (bn1): BatchNorm2d(64, eps=1e-05, momentum=0.1, affine=True, track_running_stats=True)\n",
              "      (conv2): Conv2d(64, 64, kernel_size=(3, 3), stride=(1, 1), padding=(1, 1), bias=False)\n",
              "      (bn2): BatchNorm2d(64, eps=1e-05, momentum=0.1, affine=True, track_running_stats=True)\n",
              "      (shortcut): Sequential()\n",
              "    )\n",
              "    (14): BasicBlock(\n",
              "      (conv1): Conv2d(64, 64, kernel_size=(3, 3), stride=(1, 1), padding=(1, 1), bias=False)\n",
              "      (bn1): BatchNorm2d(64, eps=1e-05, momentum=0.1, affine=True, track_running_stats=True)\n",
              "      (conv2): Conv2d(64, 64, kernel_size=(3, 3), stride=(1, 1), padding=(1, 1), bias=False)\n",
              "      (bn2): BatchNorm2d(64, eps=1e-05, momentum=0.1, affine=True, track_running_stats=True)\n",
              "      (shortcut): Sequential()\n",
              "    )\n",
              "    (15): BasicBlock(\n",
              "      (conv1): Conv2d(64, 64, kernel_size=(3, 3), stride=(1, 1), padding=(1, 1), bias=False)\n",
              "      (bn1): BatchNorm2d(64, eps=1e-05, momentum=0.1, affine=True, track_running_stats=True)\n",
              "      (conv2): Conv2d(64, 64, kernel_size=(3, 3), stride=(1, 1), padding=(1, 1), bias=False)\n",
              "      (bn2): BatchNorm2d(64, eps=1e-05, momentum=0.1, affine=True, track_running_stats=True)\n",
              "      (shortcut): Sequential()\n",
              "    )\n",
              "    (16): BasicBlock(\n",
              "      (conv1): Conv2d(64, 64, kernel_size=(3, 3), stride=(1, 1), padding=(1, 1), bias=False)\n",
              "      (bn1): BatchNorm2d(64, eps=1e-05, momentum=0.1, affine=True, track_running_stats=True)\n",
              "      (conv2): Conv2d(64, 64, kernel_size=(3, 3), stride=(1, 1), padding=(1, 1), bias=False)\n",
              "      (bn2): BatchNorm2d(64, eps=1e-05, momentum=0.1, affine=True, track_running_stats=True)\n",
              "      (shortcut): Sequential()\n",
              "    )\n",
              "    (17): BasicBlock(\n",
              "      (conv1): Conv2d(64, 64, kernel_size=(3, 3), stride=(1, 1), padding=(1, 1), bias=False)\n",
              "      (bn1): BatchNorm2d(64, eps=1e-05, momentum=0.1, affine=True, track_running_stats=True)\n",
              "      (conv2): Conv2d(64, 64, kernel_size=(3, 3), stride=(1, 1), padding=(1, 1), bias=False)\n",
              "      (bn2): BatchNorm2d(64, eps=1e-05, momentum=0.1, affine=True, track_running_stats=True)\n",
              "      (shortcut): Sequential()\n",
              "    )\n",
              "  )\n",
              "  (linear): Linear(in_features=64, out_features=10, bias=True)\n",
              ")"
            ]
          },
          "metadata": {},
          "execution_count": 9
        }
      ]
    },
    {
      "cell_type": "code",
      "source": [
        "# Defining training recipe.\n",
        "EPOCHS, loss_fn, optimizer, scheduler = get_training_objects(m_4)"
      ],
      "metadata": {
        "id": "FI9--3JwlsLC"
      },
      "execution_count": null,
      "outputs": []
    },
    {
      "cell_type": "code",
      "source": [
        "# Training.\n",
        "history = train(m_4, optimizer, scheduler, loss_fn, train_loader, val_loader, EPOCHS, device)\n",
        "\n",
        "# Creating a checkpoint.\n",
        "checkpoint = {\n",
        "  \"model\": m_4.state_dict(),\n",
        "  \"optimizer\": optimizer.state_dict(),\n",
        "  \"scheduler\": scheduler.state_dict()\n",
        "}\n",
        "\n",
        "# Saving the model.\n",
        "torch.save(checkpoint, \"checkpoint4_32x32.pt\")\n",
        "\n",
        "# Saving history.\n",
        "with open(\"m_4_history_32x32.pkl\", \"wb\") as f:\n",
        "  pickle.dump(history, f)"
      ],
      "metadata": {
        "id": "thvTFmoQlsLD",
        "colab": {
          "base_uri": "https://localhost:8080/"
        },
        "outputId": "c5832f5b-39f5-4f93-b881-ba15f2fc4c1d"
      },
      "execution_count": null,
      "outputs": [
        {
          "output_type": "stream",
          "name": "stdout",
          "text": [
            "Epoch  1/25:\n"
          ]
        },
        {
          "output_type": "stream",
          "name": "stderr",
          "text": [
            "Training: 100%|██████████| 1250/1250 [02:04<00:00, 10.06it/s]\n",
            "Validation: 100%|██████████| 313/313 [00:09<00:00, 34.72it/s]\n"
          ]
        },
        {
          "output_type": "stream",
          "name": "stdout",
          "text": [
            "train_loss: 2.1759, train_accuracy: 0.2693, val_loss: 1.8090, val_accuracy: 0.3323, lr: 6.0000e-05\n",
            "\n",
            "Epoch  2/25:\n"
          ]
        },
        {
          "output_type": "stream",
          "name": "stderr",
          "text": [
            "Training: 100%|██████████| 1250/1250 [01:57<00:00, 10.62it/s]\n",
            "Validation: 100%|██████████| 313/313 [00:09<00:00, 34.61it/s]\n"
          ]
        },
        {
          "output_type": "stream",
          "name": "stdout",
          "text": [
            "train_loss: 1.6783, train_accuracy: 0.3805, val_loss: 1.6240, val_accuracy: 0.4065, lr: 5.9763e-05\n",
            "\n",
            "Epoch  3/25:\n"
          ]
        },
        {
          "output_type": "stream",
          "name": "stderr",
          "text": [
            "Training: 100%|██████████| 1250/1250 [01:58<00:00, 10.55it/s]\n",
            "Validation: 100%|██████████| 313/313 [00:09<00:00, 34.05it/s]\n"
          ]
        },
        {
          "output_type": "stream",
          "name": "stdout",
          "text": [
            "train_loss: 1.5419, train_accuracy: 0.4310, val_loss: 1.4834, val_accuracy: 0.4515, lr: 5.9057e-05\n",
            "\n",
            "Epoch  4/25:\n"
          ]
        },
        {
          "output_type": "stream",
          "name": "stderr",
          "text": [
            "Training: 100%|██████████| 1250/1250 [01:57<00:00, 10.67it/s]\n",
            "Validation: 100%|██████████| 313/313 [00:08<00:00, 34.79it/s]\n"
          ]
        },
        {
          "output_type": "stream",
          "name": "stdout",
          "text": [
            "train_loss: 1.4464, train_accuracy: 0.4739, val_loss: 1.3897, val_accuracy: 0.4941, lr: 5.7893e-05\n",
            "\n",
            "Epoch  5/25:\n"
          ]
        },
        {
          "output_type": "stream",
          "name": "stderr",
          "text": [
            "Training: 100%|██████████| 1250/1250 [01:58<00:00, 10.54it/s]\n",
            "Validation: 100%|██████████| 313/313 [00:09<00:00, 34.01it/s]\n"
          ]
        },
        {
          "output_type": "stream",
          "name": "stdout",
          "text": [
            "train_loss: 1.3771, train_accuracy: 0.5032, val_loss: 1.3371, val_accuracy: 0.5133, lr: 5.6289e-05\n",
            "\n",
            "Epoch  6/25:\n"
          ]
        },
        {
          "output_type": "stream",
          "name": "stderr",
          "text": [
            "Training: 100%|██████████| 1250/1250 [01:58<00:00, 10.55it/s]\n",
            "Validation: 100%|██████████| 313/313 [00:09<00:00, 34.27it/s]\n"
          ]
        },
        {
          "output_type": "stream",
          "name": "stdout",
          "text": [
            "train_loss: 1.3113, train_accuracy: 0.5243, val_loss: 1.2989, val_accuracy: 0.5333, lr: 5.4271e-05\n",
            "\n",
            "Epoch  7/25:\n"
          ]
        },
        {
          "output_type": "stream",
          "name": "stderr",
          "text": [
            "Training: 100%|██████████| 1250/1250 [01:56<00:00, 10.73it/s]\n",
            "Validation: 100%|██████████| 313/313 [00:09<00:00, 34.54it/s]\n"
          ]
        },
        {
          "output_type": "stream",
          "name": "stdout",
          "text": [
            "train_loss: 1.2487, train_accuracy: 0.5507, val_loss: 1.2447, val_accuracy: 0.5504, lr: 5.1869e-05\n",
            "\n",
            "Epoch  8/25:\n"
          ]
        },
        {
          "output_type": "stream",
          "name": "stderr",
          "text": [
            "Training: 100%|██████████| 1250/1250 [01:58<00:00, 10.58it/s]\n",
            "Validation: 100%|██████████| 313/313 [00:09<00:00, 34.29it/s]\n"
          ]
        },
        {
          "output_type": "stream",
          "name": "stdout",
          "text": [
            "train_loss: 1.1975, train_accuracy: 0.5684, val_loss: 1.1950, val_accuracy: 0.5752, lr: 4.9123e-05\n",
            "\n",
            "Epoch  9/25:\n"
          ]
        },
        {
          "output_type": "stream",
          "name": "stderr",
          "text": [
            "Training: 100%|██████████| 1250/1250 [01:57<00:00, 10.66it/s]\n",
            "Validation: 100%|██████████| 313/313 [00:09<00:00, 34.49it/s]\n"
          ]
        },
        {
          "output_type": "stream",
          "name": "stdout",
          "text": [
            "train_loss: 1.1554, train_accuracy: 0.5884, val_loss: 1.1580, val_accuracy: 0.5901, lr: 4.6075e-05\n",
            "\n",
            "Epoch 10/25:\n"
          ]
        },
        {
          "output_type": "stream",
          "name": "stderr",
          "text": [
            "Training: 100%|██████████| 1250/1250 [01:56<00:00, 10.70it/s]\n",
            "Validation: 100%|██████████| 313/313 [00:09<00:00, 34.46it/s]\n"
          ]
        },
        {
          "output_type": "stream",
          "name": "stdout",
          "text": [
            "train_loss: 1.1156, train_accuracy: 0.6029, val_loss: 1.0997, val_accuracy: 0.6092, lr: 4.2773e-05\n",
            "\n",
            "Epoch 11/25:\n"
          ]
        },
        {
          "output_type": "stream",
          "name": "stderr",
          "text": [
            "Training: 100%|██████████| 1250/1250 [01:57<00:00, 10.62it/s]\n",
            "Validation: 100%|██████████| 313/313 [00:09<00:00, 34.50it/s]\n"
          ]
        },
        {
          "output_type": "stream",
          "name": "stdout",
          "text": [
            "train_loss: 1.0735, train_accuracy: 0.6188, val_loss: 1.1047, val_accuracy: 0.6097, lr: 3.9271e-05\n",
            "\n",
            "Epoch 12/25:\n"
          ]
        },
        {
          "output_type": "stream",
          "name": "stderr",
          "text": [
            "Training: 100%|██████████| 1250/1250 [01:56<00:00, 10.73it/s]\n",
            "Validation: 100%|██████████| 313/313 [00:09<00:00, 33.65it/s]\n"
          ]
        },
        {
          "output_type": "stream",
          "name": "stdout",
          "text": [
            "train_loss: 1.0418, train_accuracy: 0.6309, val_loss: 1.0533, val_accuracy: 0.6271, lr: 3.5621e-05\n",
            "\n",
            "Epoch 13/25:\n"
          ]
        },
        {
          "output_type": "stream",
          "name": "stderr",
          "text": [
            "Training: 100%|██████████| 1250/1250 [01:58<00:00, 10.57it/s]\n",
            "Validation: 100%|██████████| 313/313 [00:09<00:00, 34.16it/s]\n"
          ]
        },
        {
          "output_type": "stream",
          "name": "stdout",
          "text": [
            "train_loss: 1.0031, train_accuracy: 0.6434, val_loss: 1.0336, val_accuracy: 0.6360, lr: 3.1884e-05\n",
            "\n",
            "Epoch 14/25:\n"
          ]
        },
        {
          "output_type": "stream",
          "name": "stderr",
          "text": [
            "Training: 100%|██████████| 1250/1250 [01:56<00:00, 10.69it/s]\n",
            "Validation: 100%|██████████| 313/313 [00:09<00:00, 34.57it/s]\n"
          ]
        },
        {
          "output_type": "stream",
          "name": "stdout",
          "text": [
            "train_loss: 0.9825, train_accuracy: 0.6510, val_loss: 1.0089, val_accuracy: 0.6391, lr: 2.8116e-05\n",
            "\n",
            "Epoch 15/25:\n"
          ]
        },
        {
          "output_type": "stream",
          "name": "stderr",
          "text": [
            "Training: 100%|██████████| 1250/1250 [01:56<00:00, 10.71it/s]\n",
            "Validation: 100%|██████████| 313/313 [00:08<00:00, 34.85it/s]\n"
          ]
        },
        {
          "output_type": "stream",
          "name": "stdout",
          "text": [
            "train_loss: 0.9596, train_accuracy: 0.6607, val_loss: 0.9825, val_accuracy: 0.6583, lr: 2.4379e-05\n",
            "\n",
            "Epoch 16/25:\n"
          ]
        },
        {
          "output_type": "stream",
          "name": "stderr",
          "text": [
            "Training: 100%|██████████| 1250/1250 [01:56<00:00, 10.76it/s]\n",
            "Validation: 100%|██████████| 313/313 [00:08<00:00, 34.78it/s]\n"
          ]
        },
        {
          "output_type": "stream",
          "name": "stdout",
          "text": [
            "train_loss: 0.9406, train_accuracy: 0.6665, val_loss: 0.9782, val_accuracy: 0.6579, lr: 2.0729e-05\n",
            "\n",
            "Epoch 17/25:\n"
          ]
        },
        {
          "output_type": "stream",
          "name": "stderr",
          "text": [
            "Training: 100%|██████████| 1250/1250 [01:56<00:00, 10.72it/s]\n",
            "Validation: 100%|██████████| 313/313 [00:08<00:00, 35.09it/s]\n"
          ]
        },
        {
          "output_type": "stream",
          "name": "stdout",
          "text": [
            "train_loss: 0.9185, train_accuracy: 0.6758, val_loss: 0.9602, val_accuracy: 0.6642, lr: 1.7227e-05\n",
            "\n",
            "Epoch 18/25:\n"
          ]
        },
        {
          "output_type": "stream",
          "name": "stderr",
          "text": [
            "Training: 100%|██████████| 1250/1250 [01:55<00:00, 10.80it/s]\n",
            "Validation: 100%|██████████| 313/313 [00:09<00:00, 32.25it/s]\n"
          ]
        },
        {
          "output_type": "stream",
          "name": "stdout",
          "text": [
            "train_loss: 0.9100, train_accuracy: 0.6776, val_loss: 0.9389, val_accuracy: 0.6732, lr: 1.3925e-05\n",
            "\n",
            "Epoch 19/25:\n"
          ]
        },
        {
          "output_type": "stream",
          "name": "stderr",
          "text": [
            "Training: 100%|██████████| 1250/1250 [01:55<00:00, 10.80it/s]\n",
            "Validation: 100%|██████████| 313/313 [00:08<00:00, 35.26it/s]\n"
          ]
        },
        {
          "output_type": "stream",
          "name": "stdout",
          "text": [
            "train_loss: 0.8964, train_accuracy: 0.6853, val_loss: 0.9394, val_accuracy: 0.6692, lr: 1.0877e-05\n",
            "\n",
            "Epoch 20/25:\n"
          ]
        },
        {
          "output_type": "stream",
          "name": "stderr",
          "text": [
            "Training: 100%|██████████| 1250/1250 [01:56<00:00, 10.76it/s]\n",
            "Validation: 100%|██████████| 313/313 [00:08<00:00, 34.84it/s]\n"
          ]
        },
        {
          "output_type": "stream",
          "name": "stdout",
          "text": [
            "train_loss: 0.8850, train_accuracy: 0.6871, val_loss: 0.9415, val_accuracy: 0.6724, lr: 8.1309e-06\n",
            "\n",
            "Epoch 21/25:\n"
          ]
        },
        {
          "output_type": "stream",
          "name": "stderr",
          "text": [
            "Training: 100%|██████████| 1250/1250 [01:56<00:00, 10.78it/s]\n",
            "Validation: 100%|██████████| 313/313 [00:09<00:00, 34.73it/s]\n"
          ]
        },
        {
          "output_type": "stream",
          "name": "stdout",
          "text": [
            "train_loss: 0.8807, train_accuracy: 0.6886, val_loss: 0.9172, val_accuracy: 0.6775, lr: 5.7295e-06\n",
            "\n",
            "Epoch 22/25:\n"
          ]
        },
        {
          "output_type": "stream",
          "name": "stderr",
          "text": [
            "Training: 100%|██████████| 1250/1250 [01:56<00:00, 10.76it/s]\n",
            "Validation: 100%|██████████| 313/313 [00:08<00:00, 35.11it/s]\n"
          ]
        },
        {
          "output_type": "stream",
          "name": "stdout",
          "text": [
            "train_loss: 0.8758, train_accuracy: 0.6909, val_loss: 0.9191, val_accuracy: 0.6789, lr: 3.7108e-06\n",
            "\n",
            "Epoch 23/25:\n"
          ]
        },
        {
          "output_type": "stream",
          "name": "stderr",
          "text": [
            "Training: 100%|██████████| 1250/1250 [01:56<00:00, 10.75it/s]\n",
            "Validation: 100%|██████████| 313/313 [00:09<00:00, 34.72it/s]\n"
          ]
        },
        {
          "output_type": "stream",
          "name": "stdout",
          "text": [
            "train_loss: 0.8648, train_accuracy: 0.6929, val_loss: 0.9222, val_accuracy: 0.6805, lr: 2.1067e-06\n",
            "\n",
            "Epoch 24/25:\n"
          ]
        },
        {
          "output_type": "stream",
          "name": "stderr",
          "text": [
            "Training: 100%|██████████| 1250/1250 [01:55<00:00, 10.83it/s]\n",
            "Validation: 100%|██████████| 313/313 [00:08<00:00, 34.95it/s]\n"
          ]
        },
        {
          "output_type": "stream",
          "name": "stdout",
          "text": [
            "train_loss: 0.8623, train_accuracy: 0.6957, val_loss: 0.9264, val_accuracy: 0.6737, lr: 9.4251e-07\n",
            "\n",
            "Epoch 25/25:\n"
          ]
        },
        {
          "output_type": "stream",
          "name": "stderr",
          "text": [
            "Training: 100%|██████████| 1250/1250 [01:55<00:00, 10.80it/s]\n",
            "Validation: 100%|██████████| 313/313 [00:08<00:00, 35.06it/s]\n"
          ]
        },
        {
          "output_type": "stream",
          "name": "stdout",
          "text": [
            "\n",
            "train_loss: 0.8595, train_accuracy: 0.6964, val_loss: 0.9220, val_accuracy: 0.6798, lr: 2.3656e-07\n"
          ]
        }
      ]
    },
    {
      "cell_type": "markdown",
      "source": [
        "## Models Testing"
      ],
      "metadata": {
        "id": "I6gNoTUjPqvL"
      }
    },
    {
      "cell_type": "markdown",
      "source": [
        "### Lightweight MHSA model ($m_1$)"
      ],
      "metadata": {
        "id": "ClULEfjlPu56"
      }
    },
    {
      "cell_type": "code",
      "source": [
        "# Testing the model.\n",
        "y_pred, y_true = test(m_1, test_loader)\n",
        "\n",
        "# Computing and saving accuracy.\n",
        "np.save(\"m_1_accuracy_32x32.npy\", sum(1 for pred, true in zip(y_pred, y_true) if pred == true) / len(y_true))"
      ],
      "metadata": {
        "id": "aWH1tTgmZkb2",
        "colab": {
          "base_uri": "https://localhost:8080/"
        },
        "outputId": "ae58a455-79f2-45ee-927b-ddb1b8fd5a92"
      },
      "execution_count": null,
      "outputs": [
        {
          "output_type": "stream",
          "name": "stderr",
          "text": [
            "Testing: 100%|██████████| 313/313 [00:05<00:00, 60.32it/s]\n"
          ]
        }
      ]
    },
    {
      "cell_type": "code",
      "source": [
        "# Classification report.\n",
        "print(classification_report(y_true, y_pred))"
      ],
      "metadata": {
        "id": "HR6-pAzAZkb3",
        "colab": {
          "base_uri": "https://localhost:8080/"
        },
        "outputId": "a5f1df2f-1052-423e-9943-4f71e19a3cde"
      },
      "execution_count": null,
      "outputs": [
        {
          "output_type": "stream",
          "name": "stdout",
          "text": [
            "              precision    recall  f1-score   support\n",
            "\n",
            "           0       0.78      0.78      0.78      1000\n",
            "           1       0.87      0.86      0.87      1000\n",
            "           2       0.72      0.67      0.69      1000\n",
            "           3       0.59      0.59      0.59      1000\n",
            "           4       0.73      0.76      0.74      1000\n",
            "           5       0.69      0.64      0.66      1000\n",
            "           6       0.77      0.86      0.81      1000\n",
            "           7       0.83      0.80      0.82      1000\n",
            "           8       0.86      0.88      0.87      1000\n",
            "           9       0.82      0.86      0.84      1000\n",
            "\n",
            "    accuracy                           0.77     10000\n",
            "   macro avg       0.77      0.77      0.77     10000\n",
            "weighted avg       0.77      0.77      0.77     10000\n",
            "\n"
          ]
        }
      ]
    },
    {
      "cell_type": "markdown",
      "source": [
        "### Standard MHSA model ($m_2$)"
      ],
      "metadata": {
        "id": "Fkjn8hY6P0tX"
      }
    },
    {
      "cell_type": "code",
      "source": [
        "# Testing the model.\n",
        "y_pred, y_true = test(m_2, test_loader)\n",
        "\n",
        "# Computing and saving accuracy.\n",
        "np.save(\"m_2_accuracy_32x32.npy\", sum(1 for pred, true in zip(y_pred, y_true) if pred == true) / len(y_true))"
      ],
      "metadata": {
        "id": "jlAb2hMwmYk7",
        "colab": {
          "base_uri": "https://localhost:8080/"
        },
        "outputId": "bab36ffd-58d5-4e73-d949-c6dc95f11974"
      },
      "execution_count": null,
      "outputs": [
        {
          "output_type": "stream",
          "name": "stderr",
          "text": [
            "Testing: 100%|██████████| 313/313 [00:04<00:00, 69.45it/s]\n"
          ]
        }
      ]
    },
    {
      "cell_type": "code",
      "source": [
        "# Classification report.\n",
        "print(classification_report(y_true, y_pred))"
      ],
      "metadata": {
        "id": "53xP04YjmYk-",
        "colab": {
          "base_uri": "https://localhost:8080/"
        },
        "outputId": "8bc60139-893c-41c6-bf28-675e010d7a13"
      },
      "execution_count": null,
      "outputs": [
        {
          "output_type": "stream",
          "name": "stdout",
          "text": [
            "              precision    recall  f1-score   support\n",
            "\n",
            "           0       0.76      0.80      0.78      1000\n",
            "           1       0.86      0.87      0.87      1000\n",
            "           2       0.75      0.65      0.70      1000\n",
            "           3       0.59      0.60      0.59      1000\n",
            "           4       0.72      0.77      0.74      1000\n",
            "           5       0.68      0.64      0.66      1000\n",
            "           6       0.80      0.84      0.82      1000\n",
            "           7       0.84      0.80      0.82      1000\n",
            "           8       0.86      0.87      0.86      1000\n",
            "           9       0.81      0.85      0.83      1000\n",
            "\n",
            "    accuracy                           0.77     10000\n",
            "   macro avg       0.77      0.77      0.77     10000\n",
            "weighted avg       0.77      0.77      0.77     10000\n",
            "\n"
          ]
        }
      ]
    },
    {
      "cell_type": "markdown",
      "source": [
        "### No attention model ($m_3$) "
      ],
      "metadata": {
        "id": "Xen_6qHLP4NB"
      }
    },
    {
      "cell_type": "code",
      "source": [
        "# Testing the model.\n",
        "y_pred, y_true = test(m_3, test_loader)\n",
        "\n",
        "# Computing and saving accuracy.\n",
        "np.save(\"m_3_accuracy_32x32.npy\", sum(1 for pred, true in zip(y_pred, y_true) if pred == true) / len(y_true))"
      ],
      "metadata": {
        "id": "axIwohynmc2J",
        "colab": {
          "base_uri": "https://localhost:8080/"
        },
        "outputId": "6bf43b3d-0567-40b5-804d-7120ece6a7df"
      },
      "execution_count": null,
      "outputs": [
        {
          "output_type": "stream",
          "name": "stderr",
          "text": [
            "Testing: 100%|██████████| 313/313 [00:03<00:00, 98.52it/s] \n"
          ]
        }
      ]
    },
    {
      "cell_type": "code",
      "source": [
        "# Classification report.\n",
        "print(classification_report(y_true, y_pred))"
      ],
      "metadata": {
        "id": "MIX2lj7tmc2L",
        "colab": {
          "base_uri": "https://localhost:8080/"
        },
        "outputId": "56639fae-99e8-4dcb-8bbf-c689206b1d5b"
      },
      "execution_count": null,
      "outputs": [
        {
          "output_type": "stream",
          "name": "stdout",
          "text": [
            "              precision    recall  f1-score   support\n",
            "\n",
            "           0       0.75      0.85      0.80      1000\n",
            "           1       0.86      0.88      0.87      1000\n",
            "           2       0.71      0.69      0.70      1000\n",
            "           3       0.62      0.55      0.58      1000\n",
            "           4       0.77      0.75      0.76      1000\n",
            "           5       0.69      0.67      0.68      1000\n",
            "           6       0.78      0.84      0.81      1000\n",
            "           7       0.84      0.82      0.83      1000\n",
            "           8       0.90      0.87      0.88      1000\n",
            "           9       0.85      0.86      0.85      1000\n",
            "\n",
            "    accuracy                           0.78     10000\n",
            "   macro avg       0.78      0.78      0.78     10000\n",
            "weighted avg       0.78      0.78      0.78     10000\n",
            "\n"
          ]
        }
      ]
    },
    {
      "cell_type": "markdown",
      "source": [
        "### ResNet-110 ($m_4$)"
      ],
      "metadata": {
        "id": "YcLP1vBnmayl"
      }
    },
    {
      "cell_type": "code",
      "source": [
        "# Testing the model.\n",
        "y_pred, y_true = test(m_4, test_loader, device)\n",
        "\n",
        "# Computing and saving accuracy.\n",
        "np.save(\"m_4_accuracy_32x32.npy\", sum(1 for pred, true in zip(y_pred, y_true) if pred == true) / len(y_true))"
      ],
      "metadata": {
        "colab": {
          "base_uri": "https://localhost:8080/"
        },
        "outputId": "301ec6d0-aa38-4442-a191-7e3fc9e3d8a2",
        "id": "5K7sRlQumgEp"
      },
      "execution_count": null,
      "outputs": [
        {
          "output_type": "stream",
          "name": "stderr",
          "text": [
            "Testing: 100%|██████████| 313/313 [00:07<00:00, 42.91it/s]\n"
          ]
        }
      ]
    },
    {
      "cell_type": "code",
      "source": [
        "# Classification report.\n",
        "print(classification_report(y_true, y_pred))"
      ],
      "metadata": {
        "colab": {
          "base_uri": "https://localhost:8080/"
        },
        "outputId": "f77fcdac-b62a-49a4-eb67-bde4abfea0f9",
        "id": "RF-uS34TmgEr"
      },
      "execution_count": null,
      "outputs": [
        {
          "output_type": "stream",
          "name": "stdout",
          "text": [
            "              precision    recall  f1-score   support\n",
            "\n",
            "           0       0.73      0.72      0.73      1000\n",
            "           1       0.85      0.83      0.84      1000\n",
            "           2       0.60      0.58      0.59      1000\n",
            "           3       0.56      0.47      0.51      1000\n",
            "           4       0.65      0.65      0.65      1000\n",
            "           5       0.57      0.64      0.60      1000\n",
            "           6       0.74      0.80      0.76      1000\n",
            "           7       0.74      0.74      0.74      1000\n",
            "           8       0.81      0.84      0.82      1000\n",
            "           9       0.79      0.79      0.79      1000\n",
            "\n",
            "    accuracy                           0.71     10000\n",
            "   macro avg       0.70      0.71      0.70     10000\n",
            "weighted avg       0.70      0.71      0.70     10000\n",
            "\n"
          ]
        }
      ]
    },
    {
      "cell_type": "markdown",
      "source": [
        "## Results"
      ],
      "metadata": {
        "id": "d5MU-6pmrYiq"
      }
    },
    {
      "cell_type": "code",
      "source": [
        "# Names.\n",
        "m_names = [\"m_1\", \"m_2\", \"m_3\", \"m_4\"]\n",
        "\n",
        "# FLOPs. These values are taken from the cells above.\n",
        "flops = {\n",
        "    \"m_1\": 41.41e6,\n",
        "    \"m_2\": 57.42e6,\n",
        "    \"m_3\": 30.5e6,\n",
        "    \"m_4\": 0.26e9\n",
        "}\n",
        "\n",
        "# Reading output files.\n",
        "histories, test_acc = read_output_files(m_names, resolution = \"32x32\")"
      ],
      "metadata": {
        "id": "1GKybTX2asuE"
      },
      "execution_count": 6,
      "outputs": []
    },
    {
      "cell_type": "code",
      "source": [
        "# Plotting validation loss and accuracy.\n",
        "plot_validation(m_names, histories, [24, 25.1, 0.68, 0.75], [24, 25.1, 0.74, 0.76])"
      ],
      "metadata": {
        "id": "-mvbgfKDavgX",
        "colab": {
          "base_uri": "https://localhost:8080/",
          "height": 279
        },
        "outputId": "04d29dc6-0fa0-4a32-f8e8-44dcb979ccbe"
      },
      "execution_count": 13,
      "outputs": [
        {
          "output_type": "display_data",
          "data": {
            "text/plain": [
              "<Figure size 1008x288 with 4 Axes>"
            ],
            "image/png": "[encoded data removed]"
          },
          "metadata": {
            "needs_background": "light"
          }
        }
      ]
    },
    {
      "cell_type": "code",
      "source": [
        "# Plotting test accuracy vs. FLOPs.\n",
        "plot_accuracy_vs_flops(m_names, flops, test_acc)"
      ],
      "metadata": {
        "id": "EWyOQZ3iw8Hb",
        "colab": {
          "base_uri": "https://localhost:8080/",
          "height": 280
        },
        "outputId": "a1754da2-a431-42cd-a2cc-1347da76ca1c"
      },
      "execution_count": 7,
      "outputs": [
        {
          "output_type": "display_data",
          "data": {
            "text/plain": [
              "<Figure size 442.8x288 with 1 Axes>"
            ],
            "image/png": "[encoded data removed]"
          },
          "metadata": {
            "needs_background": "light"
          }
        }
      ]
    },
    {
      "cell_type": "markdown",
      "source": [
        "## References <a name=\"references\"></a>"
      ],
      "metadata": {
        "id": "PHqUD8h6Gzb8"
      }
    },
    {
      "cell_type": "markdown",
      "source": [
        "1. Jianyuan Guo, Kai Han, Han Wu, Chang Xu, Yehui Tang, Chunjing Xu and Yunhe Wang. CMT: Convolutional Neural Networks Meet Vision Transformers, 2021. [https://arxiv.org/abs/2107.06263](https://arxiv.org/abs/2107.06263).\n",
        "\n",
        "2. Kaiming He, Xiangyu Zhang, Shaoqing Ren, Jian Sun. Deep Residual Learning for Image Recognition, 2015. [https://arxiv.org/abs/1512.03385](https://arxiv.org/abs/1512.03385).\n",
        "\n",
        "3. Yerlan Idelbayev. Proper ResNet Implementation for CIFAR10/CIFAR100 in PyTorch. [https://github.com/akamaster/pytorch_resnet_cifar10](https://github.com/akamaster/pytorch_resnet_cifar10)."
      ],
      "metadata": {
        "id": "mVKK69jfHAuM"
      }
    }
  ]
}