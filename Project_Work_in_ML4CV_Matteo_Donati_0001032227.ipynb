{
  "nbformat": 4,
  "nbformat_minor": 0,
  "metadata": {
    "colab": {
      "provenance": [],
      "collapsed_sections": [
        "PHqUD8h6Gzb8"
      ]
    },
    "kernelspec": {
      "name": "python3",
      "display_name": "Python 3"
    },
    "language_info": {
      "name": "python"
    }
  },
  "cells": [
    {
      "cell_type": "markdown",
      "source": [
        "<center>\n",
        "    <h1> Machine Learning for Computer Vision</h1>\n",
        "    <h2> Project Work </h2>\n",
        "</center>\n",
        "\n",
        "<br>\n",
        "\n",
        "**Student**: Matteo Donati <br>\n",
        "**Student ID**: 0001032227 <br>\n",
        "**E-mail**: <a href=\"mailto:matteo.donati10@studio.unibo.it\">matteo.donati10@studio.unibo.it</a>\n",
        "\n",
        "<br>"
      ],
      "metadata": {
        "id": "hgXhyNHqFtSo"
      }
    },
    {
      "cell_type": "markdown",
      "source": [
        "This is an unofficial implementation of the paper by Guo et al., (2021)<sup>[[1]](#references)</sup>."
      ],
      "metadata": {
        "id": "mXVx3Q1PGpAb"
      }
    },
    {
      "cell_type": "markdown",
      "source": [
        "## References <a name=\"references\"></a>"
      ],
      "metadata": {
        "id": "PHqUD8h6Gzb8"
      }
    },
    {
      "cell_type": "markdown",
      "source": [
        "1. Jianyuan Guo, Kai Han, Han Wu, Chang Xu, Yehui Tang, Chunjing Xu and Yunhe Wang. CMT: Convolutional Neural Networks Meet Vision Transformers, 2021. [https://arxiv.org/abs/2107.06263](https://arxiv.org/abs/2107.06263)."
      ],
      "metadata": {
        "id": "mVKK69jfHAuM"
      }
    }
  ]
}