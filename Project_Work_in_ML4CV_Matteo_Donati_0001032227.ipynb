{
  "nbformat": 4,
  "nbformat_minor": 0,
  "metadata": {
    "colab": {
      "provenance": [],
      "collapsed_sections": [
        "BFVvggVfZuN1",
        "rk5IqtHwZyfV",
        "bpKz7V32su2f",
        "axkF_Bd1F_eM",
        "34JWWDLFPwJi",
        "Z3tA4hXcRwt6",
        "GBo9AEepRzjQ",
        "I_el6fkXlEEm",
        "I6gNoTUjPqvL",
        "ClULEfjlPu56",
        "Fkjn8hY6P0tX",
        "Xen_6qHLP4NB",
        "YcLP1vBnmayl",
        "d5MU-6pmrYiq",
        "PHqUD8h6Gzb8"
      ]
    },
    "kernelspec": {
      "name": "python3",
      "display_name": "Python 3"
    },
    "language_info": {
      "name": "python"
    },
    "gpuClass": "standard",
    "accelerator": "GPU",
    "widgets": {
      "application/vnd.jupyter.widget-state+json": {
        "1afa76ea4c3e431981738d90472e0369": {
          "model_module": "@jupyter-widgets/controls",
          "model_name": "HBoxModel",
          "model_module_version": "1.5.0",
          "state": {
            "_dom_classes": [],
            "_model_module": "@jupyter-widgets/controls",
            "_model_module_version": "1.5.0",
            "_model_name": "HBoxModel",
            "_view_count": null,
            "_view_module": "@jupyter-widgets/controls",
            "_view_module_version": "1.5.0",
            "_view_name": "HBoxView",
            "box_style": "",
            "children": [
              "IPY_MODEL_e702a7042290485fbfaa13d13d4041c3",
              "IPY_MODEL_2441722acb6a4174ae917f620073e535",
              "IPY_MODEL_83e75ed187ba4fa0b9280b007be80de7"
            ],
            "layout": "IPY_MODEL_c8c30c58aba846daa80d5b6a1dd867e7"
          }
        },
        "e702a7042290485fbfaa13d13d4041c3": {
          "model_module": "@jupyter-widgets/controls",
          "model_name": "HTMLModel",
          "model_module_version": "1.5.0",
          "state": {
            "_dom_classes": [],
            "_model_module": "@jupyter-widgets/controls",
            "_model_module_version": "1.5.0",
            "_model_name": "HTMLModel",
            "_view_count": null,
            "_view_module": "@jupyter-widgets/controls",
            "_view_module_version": "1.5.0",
            "_view_name": "HTMLView",
            "description": "",
            "description_tooltip": null,
            "layout": "IPY_MODEL_608ec41b1905432b909a4ae0606742ed",
            "placeholder": "​",
            "style": "IPY_MODEL_8d03e6d190884ed8ba27f42562384ed6",
            "value": "100%"
          }
        },
        "2441722acb6a4174ae917f620073e535": {
          "model_module": "@jupyter-widgets/controls",
          "model_name": "FloatProgressModel",
          "model_module_version": "1.5.0",
          "state": {
            "_dom_classes": [],
            "_model_module": "@jupyter-widgets/controls",
            "_model_module_version": "1.5.0",
            "_model_name": "FloatProgressModel",
            "_view_count": null,
            "_view_module": "@jupyter-widgets/controls",
            "_view_module_version": "1.5.0",
            "_view_name": "ProgressView",
            "bar_style": "success",
            "description": "",
            "description_tooltip": null,
            "layout": "IPY_MODEL_271213c24c9c4ff491e715666f9c10a5",
            "max": 170498071,
            "min": 0,
            "orientation": "horizontal",
            "style": "IPY_MODEL_6e188e8d38e141f3948a015a0469c504",
            "value": 170498071
          }
        },
        "83e75ed187ba4fa0b9280b007be80de7": {
          "model_module": "@jupyter-widgets/controls",
          "model_name": "HTMLModel",
          "model_module_version": "1.5.0",
          "state": {
            "_dom_classes": [],
            "_model_module": "@jupyter-widgets/controls",
            "_model_module_version": "1.5.0",
            "_model_name": "HTMLModel",
            "_view_count": null,
            "_view_module": "@jupyter-widgets/controls",
            "_view_module_version": "1.5.0",
            "_view_name": "HTMLView",
            "description": "",
            "description_tooltip": null,
            "layout": "IPY_MODEL_7b520ef6ec4e4af7ada77960684d6207",
            "placeholder": "​",
            "style": "IPY_MODEL_7b2d7944741a470e8f680767057c7208",
            "value": " 170498071/170498071 [00:03&lt;00:00, 53978045.42it/s]"
          }
        },
        "c8c30c58aba846daa80d5b6a1dd867e7": {
          "model_module": "@jupyter-widgets/base",
          "model_name": "LayoutModel",
          "model_module_version": "1.2.0",
          "state": {
            "_model_module": "@jupyter-widgets/base",
            "_model_module_version": "1.2.0",
            "_model_name": "LayoutModel",
            "_view_count": null,
            "_view_module": "@jupyter-widgets/base",
            "_view_module_version": "1.2.0",
            "_view_name": "LayoutView",
            "align_content": null,
            "align_items": null,
            "align_self": null,
            "border": null,
            "bottom": null,
            "display": null,
            "flex": null,
            "flex_flow": null,
            "grid_area": null,
            "grid_auto_columns": null,
            "grid_auto_flow": null,
            "grid_auto_rows": null,
            "grid_column": null,
            "grid_gap": null,
            "grid_row": null,
            "grid_template_areas": null,
            "grid_template_columns": null,
            "grid_template_rows": null,
            "height": null,
            "justify_content": null,
            "justify_items": null,
            "left": null,
            "margin": null,
            "max_height": null,
            "max_width": null,
            "min_height": null,
            "min_width": null,
            "object_fit": null,
            "object_position": null,
            "order": null,
            "overflow": null,
            "overflow_x": null,
            "overflow_y": null,
            "padding": null,
            "right": null,
            "top": null,
            "visibility": null,
            "width": null
          }
        },
        "608ec41b1905432b909a4ae0606742ed": {
          "model_module": "@jupyter-widgets/base",
          "model_name": "LayoutModel",
          "model_module_version": "1.2.0",
          "state": {
            "_model_module": "@jupyter-widgets/base",
            "_model_module_version": "1.2.0",
            "_model_name": "LayoutModel",
            "_view_count": null,
            "_view_module": "@jupyter-widgets/base",
            "_view_module_version": "1.2.0",
            "_view_name": "LayoutView",
            "align_content": null,
            "align_items": null,
            "align_self": null,
            "border": null,
            "bottom": null,
            "display": null,
            "flex": null,
            "flex_flow": null,
            "grid_area": null,
            "grid_auto_columns": null,
            "grid_auto_flow": null,
            "grid_auto_rows": null,
            "grid_column": null,
            "grid_gap": null,
            "grid_row": null,
            "grid_template_areas": null,
            "grid_template_columns": null,
            "grid_template_rows": null,
            "height": null,
            "justify_content": null,
            "justify_items": null,
            "left": null,
            "margin": null,
            "max_height": null,
            "max_width": null,
            "min_height": null,
            "min_width": null,
            "object_fit": null,
            "object_position": null,
            "order": null,
            "overflow": null,
            "overflow_x": null,
            "overflow_y": null,
            "padding": null,
            "right": null,
            "top": null,
            "visibility": null,
            "width": null
          }
        },
        "8d03e6d190884ed8ba27f42562384ed6": {
          "model_module": "@jupyter-widgets/controls",
          "model_name": "DescriptionStyleModel",
          "model_module_version": "1.5.0",
          "state": {
            "_model_module": "@jupyter-widgets/controls",
            "_model_module_version": "1.5.0",
            "_model_name": "DescriptionStyleModel",
            "_view_count": null,
            "_view_module": "@jupyter-widgets/base",
            "_view_module_version": "1.2.0",
            "_view_name": "StyleView",
            "description_width": ""
          }
        },
        "271213c24c9c4ff491e715666f9c10a5": {
          "model_module": "@jupyter-widgets/base",
          "model_name": "LayoutModel",
          "model_module_version": "1.2.0",
          "state": {
            "_model_module": "@jupyter-widgets/base",
            "_model_module_version": "1.2.0",
            "_model_name": "LayoutModel",
            "_view_count": null,
            "_view_module": "@jupyter-widgets/base",
            "_view_module_version": "1.2.0",
            "_view_name": "LayoutView",
            "align_content": null,
            "align_items": null,
            "align_self": null,
            "border": null,
            "bottom": null,
            "display": null,
            "flex": null,
            "flex_flow": null,
            "grid_area": null,
            "grid_auto_columns": null,
            "grid_auto_flow": null,
            "grid_auto_rows": null,
            "grid_column": null,
            "grid_gap": null,
            "grid_row": null,
            "grid_template_areas": null,
            "grid_template_columns": null,
            "grid_template_rows": null,
            "height": null,
            "justify_content": null,
            "justify_items": null,
            "left": null,
            "margin": null,
            "max_height": null,
            "max_width": null,
            "min_height": null,
            "min_width": null,
            "object_fit": null,
            "object_position": null,
            "order": null,
            "overflow": null,
            "overflow_x": null,
            "overflow_y": null,
            "padding": null,
            "right": null,
            "top": null,
            "visibility": null,
            "width": null
          }
        },
        "6e188e8d38e141f3948a015a0469c504": {
          "model_module": "@jupyter-widgets/controls",
          "model_name": "ProgressStyleModel",
          "model_module_version": "1.5.0",
          "state": {
            "_model_module": "@jupyter-widgets/controls",
            "_model_module_version": "1.5.0",
            "_model_name": "ProgressStyleModel",
            "_view_count": null,
            "_view_module": "@jupyter-widgets/base",
            "_view_module_version": "1.2.0",
            "_view_name": "StyleView",
            "bar_color": null,
            "description_width": ""
          }
        },
        "7b520ef6ec4e4af7ada77960684d6207": {
          "model_module": "@jupyter-widgets/base",
          "model_name": "LayoutModel",
          "model_module_version": "1.2.0",
          "state": {
            "_model_module": "@jupyter-widgets/base",
            "_model_module_version": "1.2.0",
            "_model_name": "LayoutModel",
            "_view_count": null,
            "_view_module": "@jupyter-widgets/base",
            "_view_module_version": "1.2.0",
            "_view_name": "LayoutView",
            "align_content": null,
            "align_items": null,
            "align_self": null,
            "border": null,
            "bottom": null,
            "display": null,
            "flex": null,
            "flex_flow": null,
            "grid_area": null,
            "grid_auto_columns": null,
            "grid_auto_flow": null,
            "grid_auto_rows": null,
            "grid_column": null,
            "grid_gap": null,
            "grid_row": null,
            "grid_template_areas": null,
            "grid_template_columns": null,
            "grid_template_rows": null,
            "height": null,
            "justify_content": null,
            "justify_items": null,
            "left": null,
            "margin": null,
            "max_height": null,
            "max_width": null,
            "min_height": null,
            "min_width": null,
            "object_fit": null,
            "object_position": null,
            "order": null,
            "overflow": null,
            "overflow_x": null,
            "overflow_y": null,
            "padding": null,
            "right": null,
            "top": null,
            "visibility": null,
            "width": null
          }
        },
        "7b2d7944741a470e8f680767057c7208": {
          "model_module": "@jupyter-widgets/controls",
          "model_name": "DescriptionStyleModel",
          "model_module_version": "1.5.0",
          "state": {
            "_model_module": "@jupyter-widgets/controls",
            "_model_module_version": "1.5.0",
            "_model_name": "DescriptionStyleModel",
            "_view_count": null,
            "_view_module": "@jupyter-widgets/base",
            "_view_module_version": "1.2.0",
            "_view_name": "StyleView",
            "description_width": ""
          }
        }
      }
    }
  },
  "cells": [
    {
      "cell_type": "markdown",
      "source": [
        "<center>\n",
        "    <h1> Machine Learning for Computer Vision</h1>\n",
        "    <h2> Project Work </h2>\n",
        "    <a href=\"mailto:matteo.donati10@studio.unibo.it\">Matteo Donati</a> (ID: 0001032227)\n",
        "</center>\n",
        "\n",
        "<br>"
      ],
      "metadata": {
        "id": "hgXhyNHqFtSo"
      }
    },
    {
      "cell_type": "markdown",
      "source": [
        "The paper by Guo et al. (2021)<sup>[[1]](#references)</sup> proposes the novel CMT architecture for visual recognition. This architecture tries to bring the advantage of transformers to capture long-range dependencies, and of CNNs to extract local information. Indeed, the authors of such paper state that the main problems of transformer-based models, when compared to CNNs, are related to: \n",
        "\n",
        "- the creation of image patches. This practice ignores the fundamental difference between sequence-based NLP tasks and image-based vision tasks, resulting in a non-optimal extraction of local information;\n",
        "\n",
        "- the fact that transformers do not exploit multi-scale and low resolution features due to the fixed patch size. This fact could pose a big challenge to dense prediction tasks such as detection and segmentation.\n",
        "\n",
        "The following table shows all the possible CMT versions:\n",
        "\n",
        "<br>\n",
        "\n",
        "<center>\n",
        "  <table>\n",
        "    <tr>\n",
        "      <td>Version</td>\n",
        "      <td><center>Input resolution</center></td>\n",
        "      <td><center># Parameters</center></td>\n",
        "      <td><center># FLOPs</center></td>\n",
        "    </tr>\n",
        "    <tr>\n",
        "      <td>CMT-Ti</td>\n",
        "      <td><center>160 &times 160</center></td>\n",
        "      <td><center>9.49M</center></td>\n",
        "      <td><center>0.64B</center></td>\n",
        "    </tr>\n",
        "    <tr>\n",
        "      <td>CMT-XS</td>\n",
        "      <td><center>192 &times 192</center></td>\n",
        "      <td><center>15.24M</center></td>\n",
        "      <td><center>1.54B</center></td>\n",
        "    </tr>\n",
        "    <tr>\n",
        "      <td>CMT-S</td>\n",
        "      <td><center>224 &times 224</center></td>\n",
        "      <td><center>25.14M</center></td>\n",
        "      <td><center>4.04B</center></td>\n",
        "    </tr>\n",
        "    <tr>\n",
        "      <td>CMT-B</td>\n",
        "      <td><center>256 &times 256</center></td>\n",
        "      <td><center>45.72M</center></td>\n",
        "      <td><center>9.33B</center></td>\n",
        "    </tr>\n",
        "  </table>\n",
        "  Table 1: CMT versions\n",
        "</center>\n",
        "\n",
        "<br>\n",
        "\n",
        "Each version of CMT is composed of:\n",
        "\n",
        "- a stem block, used for fine-grained feature extraction and to reduce the dimensionality of the input image;\n",
        "\n",
        "- multiple stacks of CMT blocks that apply lightweight multi-head self-attention by first enhancing local information by means of depthwise convolutions. In particular, there exist one stack of CMT blocks for each possible stage (i.e. scale). In order to produce the hierarchical representation, a patch embedding layer consisting of a convolution and a layer normalization is applied before each stage;\n",
        "\n",
        "- a global average pooling layer and a classification head.\n",
        "\n",
        "This notebook proposes a non-official implementation of the CMT-Ti architecture and studies the capabilities of such architecture by modifying the lightweight attention mechanism used by CMT. Lastly, it compares the computed results with the ones obtained by training, from scratch, a similar network in terms of total number of parameters (namely, ResNet-18)."
      ],
      "metadata": {
        "id": "mXVx3Q1PGpAb"
      }
    },
    {
      "cell_type": "markdown",
      "source": [
        "## Libraries"
      ],
      "metadata": {
        "id": "BFVvggVfZuN1"
      }
    },
    {
      "cell_type": "markdown",
      "source": [
        "The following cells install and import all useful libraries. In particular, the FLOPs count is implemented using the [Flop Counter for PyTorch Models](https://github.com/facebookresearch/fvcore/blob/main/docs/flop_count.md) by Meta Research."
      ],
      "metadata": {
        "id": "7U-Oj3474wyv"
      }
    },
    {
      "cell_type": "code",
      "source": [
        "!pip install -U \"git+https://github.com/facebookresearch/fvcore\""
      ],
      "metadata": {
        "id": "3_nDIeMzeLdV",
        "colab": {
          "base_uri": "https://localhost:8080/"
        },
        "outputId": "4d1a9646-5d39-4073-aa90-ab123f7369a8"
      },
      "execution_count": null,
      "outputs": [
        {
          "output_type": "stream",
          "name": "stdout",
          "text": [
            "Looking in indexes: https://pypi.org/simple, https://us-python.pkg.dev/colab-wheels/public/simple/\n",
            "Collecting git+https://github.com/facebookresearch/fvcore\n",
            "  Cloning https://github.com/facebookresearch/fvcore to /tmp/pip-req-build-gqzf8ews\n",
            "  Running command git clone --filter=blob:none --quiet https://github.com/facebookresearch/fvcore /tmp/pip-req-build-gqzf8ews\n",
            "  Resolved https://github.com/facebookresearch/fvcore to commit fd5043ff8b2e6790f5bd7c9632695c68986cc658\n",
            "  Preparing metadata (setup.py) ... \u001b[?25l\u001b[?25hdone\n",
            "Requirement already satisfied: numpy in /usr/local/lib/python3.8/dist-packages (from fvcore==0.1.5) (1.21.6)\n",
            "Collecting yacs>=0.1.6\n",
            "  Downloading yacs-0.1.8-py3-none-any.whl (14 kB)\n",
            "Requirement already satisfied: pyyaml>=5.1 in /usr/local/lib/python3.8/dist-packages (from fvcore==0.1.5) (6.0)\n",
            "Requirement already satisfied: tqdm in /usr/local/lib/python3.8/dist-packages (from fvcore==0.1.5) (4.64.1)\n",
            "Requirement already satisfied: termcolor>=1.1 in /usr/local/lib/python3.8/dist-packages (from fvcore==0.1.5) (2.2.0)\n",
            "Requirement already satisfied: Pillow in /usr/local/lib/python3.8/dist-packages (from fvcore==0.1.5) (7.1.2)\n",
            "Requirement already satisfied: tabulate in /usr/local/lib/python3.8/dist-packages (from fvcore==0.1.5) (0.8.10)\n",
            "Collecting iopath>=0.1.7\n",
            "  Downloading iopath-0.1.10.tar.gz (42 kB)\n",
            "\u001b[2K     \u001b[90m━━━━━━━━━━━━━━━━━━━━━━━━━━━━━━━━━━━━━━━━\u001b[0m \u001b[32m42.2/42.2 KB\u001b[0m \u001b[31m3.7 MB/s\u001b[0m eta \u001b[36m0:00:00\u001b[0m\n",
            "\u001b[?25h  Preparing metadata (setup.py) ... \u001b[?25l\u001b[?25hdone\n",
            "Requirement already satisfied: typing_extensions in /usr/local/lib/python3.8/dist-packages (from iopath>=0.1.7->fvcore==0.1.5) (4.4.0)\n",
            "Collecting portalocker\n",
            "  Downloading portalocker-2.6.0-py2.py3-none-any.whl (15 kB)\n",
            "Building wheels for collected packages: fvcore, iopath\n",
            "  Building wheel for fvcore (setup.py) ... \u001b[?25l\u001b[?25hdone\n",
            "  Created wheel for fvcore: filename=fvcore-0.1.5-py3-none-any.whl size=65314 sha256=afa4a9883bc9a374b632e88fb24c20fb6e6d83bcebedcc160d2ae7b312f90ed5\n",
            "  Stored in directory: /tmp/pip-ephem-wheel-cache-w3xs7bgh/wheels/51/52/07/e1a7fde1786c36d1e4ca408afe8979cfffa255c078f3725d45\n",
            "  Building wheel for iopath (setup.py) ... \u001b[?25l\u001b[?25hdone\n",
            "  Created wheel for iopath: filename=iopath-0.1.10-py3-none-any.whl size=31547 sha256=fd31eab8fa3dd74328b81cc9562fc85bd74702929ed4170c3e2d1c730a1bea44\n",
            "  Stored in directory: /root/.cache/pip/wheels/89/3e/24/0f349c0b2eeb6965903035f3b00dbb5c9bea437b4a2f18d82c\n",
            "Successfully built fvcore iopath\n",
            "Installing collected packages: yacs, portalocker, iopath, fvcore\n",
            "Successfully installed fvcore-0.1.5 iopath-0.1.10 portalocker-2.6.0 yacs-0.1.8\n"
          ]
        }
      ]
    },
    {
      "cell_type": "code",
      "source": [
        "import numpy as np\n",
        "import random\n",
        "import torch\n",
        "import torch.nn as nn\n",
        "import torchvision\n",
        "from torchvision import datasets\n",
        "from torchvision import transforms as T\n",
        "import multiprocessing as mp\n",
        "from matplotlib import pyplot as plt\n",
        "from fvcore.nn import FlopCountAnalysis, flop_count_str\n",
        "import pickle\n",
        "from tqdm import tqdm\n",
        "from sklearn.metrics import classification_report"
      ],
      "metadata": {
        "id": "SA3HZYkVZrxV"
      },
      "execution_count": null,
      "outputs": []
    },
    {
      "cell_type": "markdown",
      "source": [
        "The `set_producibility` sets the a specific random seed so as to obtain reproducible results. Each model has been trained by first setting the random seed to `0`."
      ],
      "metadata": {
        "id": "3_OsW2Bk5VYH"
      }
    },
    {
      "cell_type": "code",
      "source": [
        "def set_reproducibility(seed):\n",
        "  random.seed(seed)\n",
        "  np.random.seed(seed)\n",
        "  torch.manual_seed(seed)\n",
        "\n",
        "set_reproducibility(0)"
      ],
      "metadata": {
        "id": "Gx8K3KIcgJMI"
      },
      "execution_count": null,
      "outputs": []
    },
    {
      "cell_type": "markdown",
      "source": [
        "## Data Loading and Preprocessing"
      ],
      "metadata": {
        "id": "rk5IqtHwZyfV"
      }
    },
    {
      "cell_type": "markdown",
      "source": [
        "The following `get_cifar10` and `create_data_loaders` functions download the CIFAR-10 dataset and create proper `DataLoader` objects that can be used to train and test the different models."
      ],
      "metadata": {
        "id": "uyFnThEk-r33"
      }
    },
    {
      "cell_type": "code",
      "source": [
        "# Retrieves the CIFAR10 dataset.\n",
        "def get_cifar10(train_transform = None, test_transform = None):\n",
        "\n",
        "  # Downloading the training set.\n",
        "  train_dataset =  datasets.CIFAR10(\n",
        "    root = \"CIFAR10\",\n",
        "    train = True,\n",
        "    transform = train_transform,\n",
        "    download = True\n",
        "  )\n",
        "\n",
        "  # Downloading the test set.\n",
        "  test_dataset = datasets.CIFAR10(\n",
        "    root = \"CIFAR10\",\n",
        "    train = False,\n",
        "    transform = test_transform,\n",
        "    download = True\n",
        "  )\n",
        "\n",
        "  # Returning the two sets.\n",
        "  return train_dataset, test_dataset\n",
        "\n",
        "# Fuction that creates train, validation and test data loaders.\n",
        "def create_data_loaders(train_transform, \n",
        "                        test_transform, \n",
        "                        img_size = 224, \n",
        "                        split = (0.8, 0.2), \n",
        "                        batch_size = 32, \n",
        "                        num_workers = 1):\n",
        "\n",
        "  # Retrieving CIFAR10.\n",
        "  train_dataset, test_dataset = get_cifar10(train_transform, test_transform)\n",
        "\n",
        "  # Splitting train_dataset to create a validation set.\n",
        "  train_dataset, val_dataset = torch.utils.data.random_split(train_dataset, \n",
        "                                                             (int(len(train_dataset) * split[0]), \n",
        "                                                              int(len(train_dataset) * split[1])))\n",
        "\n",
        "  # Train data loader.\n",
        "  train_loader = torch.utils.data.DataLoader(\n",
        "    train_dataset,\n",
        "    batch_size = batch_size,\n",
        "    shuffle = True,\n",
        "    num_workers = num_workers,\n",
        "    pin_memory = True,\n",
        "    drop_last = True,\n",
        "    sampler = None\n",
        "  )\n",
        "\n",
        "  # Validation data loader.\n",
        "  val_loader = torch.utils.data.DataLoader(\n",
        "    val_dataset,\n",
        "    batch_size = batch_size,\n",
        "    shuffle = False,\n",
        "    num_workers = num_workers,\n",
        "    pin_memory = True,\n",
        "    drop_last = False,\n",
        "    sampler = None\n",
        "  )\n",
        "\n",
        "  # Test data loader.\n",
        "  test_loader = torch.utils.data.DataLoader(\n",
        "    test_dataset,\n",
        "    batch_size = batch_size,\n",
        "    shuffle = False,\n",
        "    num_workers = num_workers,\n",
        "    pin_memory = True,\n",
        "    drop_last = False,\n",
        "    sampler = None\n",
        "  )\n",
        "\n",
        "  # Returning the three data loaders.\n",
        "  return train_loader, val_loader, test_loader"
      ],
      "metadata": {
        "id": "sTkFIuugZxtD"
      },
      "execution_count": null,
      "outputs": []
    },
    {
      "cell_type": "markdown",
      "source": [
        "The training `DataLoader` object include different transformations that are used to augment the training dataset. In particular, the set of transformations include random crops, random flips and random rotations. Each split of the original dataset has been divided using a batch size of $32$.\n",
        "\n",
        "In order to use both CMT-Ti ($160 \\times 160$ input resolution) and ResNet-18 ($224 \\times 224$ input resolution) with $32 \\times 32$ images, all CIFAR-10 images have been transformed into $224 \\times 224$ images using bilinear interpolation. The original paper by Guo et al. (2021)<sup>[[1]](#references)</sup> states that CIFAR-10 images have been upsampled to the input resolution of the CMT architecture, but does not specify how to upsample them.\n",
        "\n",
        "Lastly, the channels of all images are normalized using `[0.491, 0.482, 0.447]` and `[0.247, 0.243, 0.262]` ([Correct Normalization Values for CIFAR-10](https://github.com/kuangliu/pytorch-cifar/issues/19)) as means and standard deviations of the three channels."
      ],
      "metadata": {
        "id": "UvJjDBAu_IjX"
      }
    },
    {
      "cell_type": "code",
      "source": [
        "# Training transformations.\n",
        "train_transform = T.Compose([\n",
        "    T.RandomCrop(32, padding = 4),\n",
        "    T.RandomHorizontalFlip(),\n",
        "    T.RandomRotation(10),\n",
        "    T.Resize(224),\n",
        "    T.ToTensor(),\n",
        "    T.Normalize(mean = [0.491, 0.482, 0.447], std = [0.247, 0.243, 0.262])\n",
        "])\n",
        "\n",
        "# Test transformations.\n",
        "test_transform = T.Compose([\n",
        "    T.Resize(224),\n",
        "    T.ToTensor(),\n",
        "    T.Normalize(mean = [0.491, 0.482, 0.447], std = [0.247, 0.243, 0.262])\n",
        "])\n",
        "\n",
        "# Creating data loaders.\n",
        "train_loader, val_loader, test_loader = create_data_loaders(\n",
        "    train_transform,\n",
        "    test_transform,\n",
        "    img_size = 224,\n",
        "    batch_size = 32,\n",
        "    num_workers = mp.cpu_count()\n",
        ")"
      ],
      "metadata": {
        "id": "2-yP8OHGhPuE",
        "colab": {
          "base_uri": "https://localhost:8080/",
          "referenced_widgets": [
            "1afa76ea4c3e431981738d90472e0369",
            "e702a7042290485fbfaa13d13d4041c3",
            "2441722acb6a4174ae917f620073e535",
            "83e75ed187ba4fa0b9280b007be80de7",
            "c8c30c58aba846daa80d5b6a1dd867e7",
            "608ec41b1905432b909a4ae0606742ed",
            "8d03e6d190884ed8ba27f42562384ed6",
            "271213c24c9c4ff491e715666f9c10a5",
            "6e188e8d38e141f3948a015a0469c504",
            "7b520ef6ec4e4af7ada77960684d6207",
            "7b2d7944741a470e8f680767057c7208"
          ]
        },
        "outputId": "76883940-ad60-49e3-e8fc-1582f7512373"
      },
      "execution_count": null,
      "outputs": [
        {
          "output_type": "stream",
          "name": "stdout",
          "text": [
            "Downloading https://www.cs.toronto.edu/~kriz/cifar-10-python.tar.gz to CIFAR10/cifar-10-python.tar.gz\n"
          ]
        },
        {
          "output_type": "display_data",
          "data": {
            "text/plain": [
              "  0%|          | 0/170498071 [00:00<?, ?it/s]"
            ],
            "application/vnd.jupyter.widget-view+json": {
              "version_major": 2,
              "version_minor": 0,
              "model_id": "1afa76ea4c3e431981738d90472e0369"
            }
          },
          "metadata": {}
        },
        {
          "output_type": "stream",
          "name": "stdout",
          "text": [
            "Extracting CIFAR10/cifar-10-python.tar.gz to CIFAR10\n",
            "Files already downloaded and verified\n"
          ]
        }
      ]
    },
    {
      "cell_type": "markdown",
      "source": [
        "## Models Definition and Training"
      ],
      "metadata": {
        "id": "bpKz7V32su2f"
      }
    },
    {
      "cell_type": "markdown",
      "source": [
        "This section includes all utility classes and functions used to define and train the CMT and ResNet-18 models. In particular, the four models have been named as follows:\n",
        "\n",
        "<br>\n",
        "\n",
        "<center>\n",
        "  <table>\n",
        "    <tr>\n",
        "      <td><center>Name</center></td>\n",
        "      <td><center>Architecture</center></td>\n",
        "      <td>Characteristics</td>\n",
        "    </tr>\n",
        "    <tr>\n",
        "      <td><center><i>m</i><sub>1</sub></center></td>\n",
        "      <td><center>CMT</center></td>\n",
        "      <td>CMT-Ti with lightweight multi-head self-attention</td>\n",
        "    </tr>\n",
        "    <tr>\n",
        "      <td><center><i>m</i><sub>2</sub></center></td>\n",
        "      <td><center>CMT</center></td>\n",
        "      <td>CMT-Ti with standard multi-head self-attention</td>\n",
        "    </tr>\n",
        "    <tr>\n",
        "      <td><center><i>m</i><sub>3</sub></center></td>\n",
        "      <td><center>CMT</center></td>\n",
        "      <td>CMT-Ti without multi-head self-attention</td>\n",
        "    </tr>\n",
        "    <tr>\n",
        "      <td><center><i>m</i><sub>4</sub></center></td>\n",
        "      <td><center>ResNet</center></td>\n",
        "      <td>ResNet-18</td>\n",
        "    </tr>\n",
        "  </table>\n",
        "  Table 2: Models\n",
        "</center>\n",
        "\n",
        "<br>\n",
        "\n",
        "The design of the original CMT architecture is the following:\n",
        "\n",
        "<center>\n",
        "  <br>\n",
        "  <a href=\"https://ibb.co/4mxVkns\"><img src=\"https://i.ibb.co/znw4dT8/CMT.png\" alt=\"CMT\" border=\"0\"></a><br>\n",
        "  Figure 1: CMT-S\n",
        "  <br>\n",
        "</center>\n",
        "\n",
        "Differently from what is shown in figure 1, CMT-Ti has a different number of CMT blocks for each stage.\n",
        "\n",
        "Before training each model, the number of parameters and FLOPs are computed and printed. Regarding training, the four models are trained using the same training procedure. This procedure is defined by the following hyperparameters:\n",
        "\n",
        "- a number of epochs equal to $25$;\n",
        "- the cross-entropy loss function;\n",
        "- the AdamW optimizer with weight decay of $1e$$-5$;\n",
        "- an initial learning rate of $6e$$-5$;\n",
        "- a cosine annealing learning rate schedule."
      ],
      "metadata": {
        "id": "2I1_xOUN0zXH"
      }
    },
    {
      "cell_type": "markdown",
      "source": [
        "### Utilities"
      ],
      "metadata": {
        "id": "axkF_Bd1F_eM"
      }
    },
    {
      "cell_type": "code",
      "source": [
        "# Choosing between GPU and CPU.\n",
        "device = torch.device(\"cuda\" if torch.cuda.is_available() else \"cpu\")"
      ],
      "metadata": {
        "id": "oaT-QCAapgdk"
      },
      "execution_count": null,
      "outputs": []
    },
    {
      "cell_type": "markdown",
      "source": [
        "The stem block of CMT performs fine-grained feature extraction on the generic input image. In particular, this block is composed of:\n",
        "\n",
        "- a $3 \\times 3$ convolutional layer with $16$ kernels and stride $2$, followed by GELU activation and batch-normalization;\n",
        "\n",
        "- two $3 \\times 3$ convolutional layers with $16$ kernels, both followed by GELU activation and batch-normalization."
      ],
      "metadata": {
        "id": "-qZ4-HEz5BSr"
      }
    },
    {
      "cell_type": "code",
      "source": [
        "# Stem module of the CMT architecture.\n",
        "class Stem(nn.Module):\n",
        "    \n",
        "  # Constructor.\n",
        "  def __init__(self, in_channels, out_channels):\n",
        "\n",
        "    super().__init__()\n",
        "\n",
        "    # Conv 3 x 3, stride 2.\n",
        "    self.conv1 = nn.Conv2d(in_channels, out_channels, kernel_size = 3, stride = 2, padding = 1)\n",
        "    self.bn1 = nn.BatchNorm2d(out_channels)\n",
        "\n",
        "    # Conv 3 x 3. \n",
        "    self.conv2 = nn.Conv2d(out_channels, out_channels, kernel_size = 3, stride = 1, padding = 1)\n",
        "    self.bn2 = nn.BatchNorm2d(out_channels)\n",
        "\n",
        "    # Conv 3 x 3.\n",
        "    self.conv3 = nn.Conv2d(out_channels, out_channels, kernel_size = 3, stride = 1, padding = 1)\n",
        "    self.bn3 = nn.BatchNorm2d(out_channels)\n",
        "\n",
        "    # GELU activation.\n",
        "    self.gelu = nn.GELU()\n",
        "\n",
        "  # Forward pass.\n",
        "  def forward(self, x):\n",
        "    x = self.conv1(x)\n",
        "    x = self.gelu(x)\n",
        "    x = self.bn1(x)\n",
        "    x = self.conv2(x)\n",
        "    x = self.gelu(x)\n",
        "    x = self.bn2(x)\n",
        "    x = self.conv3(x)\n",
        "    x = self.gelu(x)\n",
        "    y = self.bn3(x)\n",
        "    return y"
      ],
      "metadata": {
        "id": "bAsbc7UBsoy3"
      },
      "execution_count": null,
      "outputs": []
    },
    {
      "cell_type": "markdown",
      "source": [
        "The patch embedding layer of CMT is able to produce hierarchical representations (namely, feature maps at different scales) by means of:\n",
        "\n",
        "- a $2 \\times 2$ convolutional layer that uses a number of kernels $C_{out} \\in \\{46, 92, 184, 368\\}$, depending on the stage at which is applied, and stride $2$;\n",
        "\n",
        "- layer normalization."
      ],
      "metadata": {
        "id": "FCU5eHCJybpx"
      }
    },
    {
      "cell_type": "code",
      "source": [
        "# Patch embedding module of the CMT architecture.\n",
        "class PatchEmbedding(nn.Module):\n",
        "\n",
        "  # Constructor.\n",
        "  def __init__(self, in_channels, out_channels):\n",
        "\n",
        "    super().__init__()\n",
        "\n",
        "    # Conv 2 x 2, stride 2.\n",
        "    self.conv = nn.Conv2d(in_channels, out_channels, kernel_size = 2, stride = 2, padding = 0)\n",
        "\n",
        "  # Forward pass.\n",
        "  def forward(self, x):\n",
        "    x = self.conv(x)\n",
        "    _, c, h, w = x.size()\n",
        "    y = torch.nn.functional.layer_norm(x, (c, h, w))\n",
        "    return y"
      ],
      "metadata": {
        "id": "7BVXE1Jw0HoY"
      },
      "execution_count": null,
      "outputs": []
    },
    {
      "cell_type": "markdown",
      "source": [
        "As stated by the authors of the original paper, vision transformers ignore the local relation and the structure information inside each patch. The main goal of the local perception unit ($\\text{LPU}$) is to extract local information from the input signal. This block is implemented as\n",
        "\n",
        "\\begin{equation}\n",
        "  \\text{LPU}(\\mathbf{X}) = \\text{DWConv}(\\mathbf{X}) + \\mathbf{X}\n",
        "\\end{equation}\n",
        "\n",
        "where $\\text{DWConv}(\\cdot)$ denotes depthwise convolution (i.e. grouped convolution). In particular, depthwise convolution is implemented by a $3 \\times 3$ convolutional layer that uses a number of kernels $C_{out} \\in \\{46, 92, 184, 368\\}$, depending on the stage at which is applied, and $G = C_{in}$."
      ],
      "metadata": {
        "id": "kmLbFqaJ0gAD"
      }
    },
    {
      "cell_type": "code",
      "source": [
        "# Local Perception Unit: LPU(X) = DWConv(X) + X.\n",
        "class LPU(nn.Module):\n",
        "\n",
        "  # Constructor.\n",
        "  def __init__(self, in_channels, out_channels):\n",
        "\n",
        "    super().__init__()\n",
        "\n",
        "    # Depthwise convolution.\n",
        "    self.dwconv = nn.Conv2d(in_channels, out_channels, kernel_size = 3, stride = 1, padding = 1, groups = in_channels)\n",
        "\n",
        "  # Forward pass.\n",
        "  def forward(self, x):\n",
        "    y = self.dwconv(x) + x\n",
        "    return y"
      ],
      "metadata": {
        "id": "OFDPglv5iNZ1"
      },
      "execution_count": null,
      "outputs": []
    },
    {
      "cell_type": "markdown",
      "source": [
        "Given an input tensor $\\mathbf{X} \\in \\mathbb{R}^{n \\times d}$ where $n = H \\times W$, the standard self-attention module computes the queries $\\mathbf{Q} \\in \\mathbb{R}^{n \\times d_k}$, the keys $\\mathbf{K} \\in \\mathbb{R}^{n \\times d_k}$ and the values $\\mathbf{V} \\in \\mathbb{R}^{n \\times d_v}$ using three different dense layers ($W^Q$, $W^K$, $W^V$) so as to produce three different linear projections of $\\mathbf{X}$. The output of the self-attention module is computed as:\n",
        "\n",
        "\\begin{equation}\n",
        "  \\text{Attention}(\\mathbf{Q}, \\mathbf{K}, \\mathbf{V}) = \\text{Softmax} \\left( \\frac{\\mathbf{Q} \\mathbf{K}^T}{\\sqrt{d_k}} \\right) \\mathbf{V}\n",
        "\\end{equation}\n",
        "\n",
        "Moreover, the multi-head self-attention module ($\\text{MHSA}$) is defined by $h$ different heads, where each head $head_i$ applies the self-attention operation described above. The output of the multi-head self-attention module is computed as:\n",
        "\n",
        "\\begin{equation}\n",
        "  \\text{MultiHead}(\\mathbf{Q}, \\mathbf{K}, \\mathbf{V}) = \\text{Concat}(head_1, \\dots, head_h) W^O\n",
        "\\end{equation}\n",
        "\n",
        "where $W^O$ is implemented through a final dense layer."
      ],
      "metadata": {
        "id": "fpBdSfvw3HMe"
      }
    },
    {
      "cell_type": "code",
      "source": [
        "# Standard Multi-Head-Self-Attention.\n",
        "class MHSA(nn.Module):\n",
        "    \n",
        "  # Constructor.\n",
        "  def __init__(self, d, d_k, d_v, heads):\n",
        "\n",
        "    super().__init__()\n",
        "\n",
        "    # Projection matrices.\n",
        "    self.fc_q = nn.Linear(d, heads * d_k)\n",
        "    self.fc_k = nn.Linear(d, heads * d_k)\n",
        "    self.fc_v = nn.Linear(d, heads * d_v)\n",
        "    self.fc_o = nn.Linear(heads * d_k, d)\n",
        "\n",
        "    self.d = d\n",
        "    self.d_k = d_k\n",
        "    self.d_v = d_v\n",
        "    self.heads = heads\n",
        "    \n",
        "  # Forward pass.\n",
        "  def forward(self, x):\n",
        "\n",
        "    # Extracting shape from input signal.\n",
        "    b, c, h, w = x.shape\n",
        "\n",
        "    # Reshaping and permuting x. Final shape is (b, h * w, c).\n",
        "    x_reshape = x.view(b, c, h * w).permute(0, 2, 1)\n",
        "\n",
        "    # Layer norm.\n",
        "    x_reshape = torch.nn.functional.layer_norm(x_reshape, (b, h * w, c))\n",
        "\n",
        "    # Getting queries by applying the fc_q linear projection.\n",
        "    q = self.fc_q(x_reshape)\n",
        "\n",
        "    # Reshaping and permuting the queries. Final shape is (b, heads, n = h * w, d_k). \n",
        "    q = q.view(b, h * w, self.heads, self.d_k).permute(0, 2, 1, 3).contiguous()\n",
        "\n",
        "    # Projecting through fc_k.\n",
        "    k = self.fc_k(x_reshape)\n",
        "\n",
        "    # Reshaping and permuting the keys. Final shape is (b, heads, h * w, d_k).\n",
        "    k = k.view(b, h * w, self.heads, self.d_k).permute(0, 2, 1, 3).contiguous()\n",
        "\n",
        "    # Projecting through fc_v.\n",
        "    v = self.fc_v(x_reshape)\n",
        "\n",
        "    # Reshaping and permuting the keys. Final shape is (b, heads, h * w, d_v).\n",
        "    v = v.view(b, h * w, self.heads, self.d_v).permute(0, 2, 1, 3).contiguous()\n",
        "\n",
        "    # Computing softmax((Q K^T) / sqrt(d_k)).\n",
        "    attention = torch.einsum(\"... i d, ... j d -> ... i j\", q, k) * (self.d_k ** -0.5)\n",
        "    attention = torch.softmax(attention, dim = -1)\n",
        "\n",
        "    # Applying attention scores to values by taking the dot product.\n",
        "    tmp = torch.matmul(attention, v).permute(0, 2, 1, 3)\n",
        "\n",
        "    # Permuting the result. Final shape is (b, n = h * w, heads, d_v).\n",
        "    tmp = tmp.contiguous().view(b, h * w, self.heads * self.d_v)\n",
        "\n",
        "    # Projecting using fc_o and reshaping. Final shape is (b, c, h, w).\n",
        "    tmp = self.fc_o(tmp).view(b, self.d, h, w)\n",
        "\n",
        "    # Returning tmp + x (skip connection).\n",
        "    return tmp + x"
      ],
      "metadata": {
        "id": "Hdl8rdu8lb-A"
      },
      "execution_count": null,
      "outputs": []
    },
    {
      "cell_type": "markdown",
      "source": [
        "To reduce the computational complexity of the standard multi-head self-attention module, the lightweight version of the self-attention operation is defined as follows:\n",
        "\n",
        "\\begin{equation}\n",
        "  \\text{LightAttention}(\\mathbf{Q}, \\mathbf{K}, \\mathbf{V}) = \\text{Softmax} \\left( \\frac{\\mathbf{Q} \\mathbf{K}'^T}{\\sqrt{d_k}} + \\mathbf{B} \\right) \\mathbf{V'}\n",
        "\\end{equation}\n",
        "\n",
        "where $K' \\in \\mathbb{R}^{\\frac{n}{k^2} \\times d_k}$ and $V' \\in \\mathbb{R}^{\\frac{n}{k^2} \\times d_v}$ are computed from $K$ and $V$ by means of $k \\times k$ depthwise convolutions with stride $k$. This allows one to reduce the spatial resolution of keys and values before applying the self-attention operation. In addition to this, a relative position bias $\\mathbf{B} \\in \\mathbb{R}^{n \\times \\frac{n}{k^2}}$ is added to each lightweight self-attention module. \n",
        "\n",
        "Lastly, as in the case of $\\text{MHSA}$, the lightweight multi-head self-attention module ($\\text{LMHSA}$) is defined by $h$ different heads, whose outputs are concatenated and passed through a final dense layer."
      ],
      "metadata": {
        "id": "VXck0fK83IAU"
      }
    },
    {
      "cell_type": "code",
      "source": [
        "# Lightweight Multi-Head-Self-Attention.\n",
        "class LMHSA(nn.Module):\n",
        "    \n",
        "  # Constructor.\n",
        "  def __init__(self, input_size, d, d_k, d_v, stride, heads):\n",
        "\n",
        "    super().__init__()\n",
        "\n",
        "    # Depthwise convolutions.\n",
        "    self.dwconv = nn.Conv2d(d, d, kernel_size = stride, stride = stride, groups = d)\n",
        "\n",
        "    # Projection matrices.\n",
        "    self.fc_q = nn.Linear(d, heads * d_k)\n",
        "    self.fc_k = nn.Linear(d, heads * d_k)\n",
        "    self.fc_v = nn.Linear(d, heads * d_v)\n",
        "    self.fc_o = nn.Linear(heads * d_k, d)\n",
        "\n",
        "    self.d = d\n",
        "    self.d_k = d_k\n",
        "    self.d_v = d_v\n",
        "    self.heads = heads\n",
        "\n",
        "    # Relative position bias to each self-attention module. Shape is n x n/k^2, where n = h * w.\n",
        "    self.B = nn.Parameter(torch.randn(1, self.heads, input_size ** 2, (input_size // stride) ** 2), requires_grad = True)\n",
        "    \n",
        "  # Forward pass.\n",
        "  def forward(self, x):\n",
        "\n",
        "    # Extracting shape from input signal.\n",
        "    b, c, h, w = x.shape\n",
        "\n",
        "    # Reshaping and permuting x. Final shape is (b, h * w, c).\n",
        "    x_reshape = x.view(b, c, h * w).permute(0, 2, 1)\n",
        "\n",
        "    # Layer norm.\n",
        "    x_reshape = torch.nn.functional.layer_norm(x_reshape, (b, h * w, c))\n",
        "\n",
        "    # Getting queries by applying the fc_q linear projection.\n",
        "    q = self.fc_q(x_reshape)\n",
        "\n",
        "    # Reshaping and permuting the queries. Final shape is (b, heads, n = h * w, d_k). \n",
        "    q = q.view(b, h * w, self.heads, self.d_k).permute(0, 2, 1, 3).contiguous()\n",
        "\n",
        "    # Applying depthwise conv to x.\n",
        "    k = self.dwconv(x)\n",
        "\n",
        "    # Extracting shape of keys.\n",
        "    k_b, k_c, k_h, k_w = k.shape\n",
        "\n",
        "    # Reshaping and permuting keys. Final shape is (k_b, k_h * k_w, k_c).\n",
        "    k = k.view(k_b, k_c, k_h * k_w).permute(0, 2, 1).contiguous()\n",
        "\n",
        "    # Projecting through fc_k.\n",
        "    k = self.fc_k(k)\n",
        "\n",
        "    # Reshaping and permuting the keys. Final shape is (k_b, heads, k_h * k_w, d_k).\n",
        "    k = k.view(k_b, k_h * k_w, self.heads, self.d_k).permute(0, 2, 1, 3).contiguous()\n",
        "\n",
        "    # Applying depthwise conv to x.\n",
        "    v = self.dwconv(x)\n",
        "\n",
        "    # Extracting shape of values.\n",
        "    v_b, v_c, v_h, v_w = v.shape\n",
        "\n",
        "    # Reshaping and permuting values. Final shape is (v_b, v_h * v_w, v_c).\n",
        "    v = v.view(v_b, v_c, v_h * v_w).permute(0, 2, 1).contiguous()\n",
        "\n",
        "    # Projecting through fc_v.\n",
        "    v = self.fc_v(v)\n",
        "\n",
        "    # Reshaping and permuting the keys. Final shape is (v_b, heads, v_h * v_w, d_v).\n",
        "    v = v.view(v_b, v_h * v_w, self.heads, self.d_v).permute(0, 2, 1, 3).contiguous()\n",
        "\n",
        "    # Computing softmax((Q K'^T) / sqrt(d_k) + B).\n",
        "    attention = torch.einsum(\"... i d, ... j d -> ... i j\", q, k) * (self.d_k ** -0.5)\n",
        "    attention = attention + self.B\n",
        "    attention = torch.softmax(attention, dim = -1)\n",
        "\n",
        "    # Applying attention scores to values by taking the dot product.\n",
        "    tmp = torch.matmul(attention, v).permute(0, 2, 1, 3)\n",
        "\n",
        "    # Permuting the result. Final shape is (b, n = h * w, heads, d_v).\n",
        "    tmp = tmp.contiguous().view(b, h * w, self.heads * self.d_v)\n",
        "\n",
        "    # Projecting using fc_o and reshaping. Final shape is (b, c, h, w).\n",
        "    tmp = self.fc_o(tmp).view(b, self.d, h, w)\n",
        "\n",
        "    # Returning tmp + x (skip connection).\n",
        "    return tmp + x"
      ],
      "metadata": {
        "id": "mwVBiJHhlUY0"
      },
      "execution_count": null,
      "outputs": []
    },
    {
      "cell_type": "markdown",
      "source": [
        "The inverted residual feed-forward network ($\\text{IRFFN}$) of CMT appears similar to an inverted residual block consisting of an expansion layer, followed by a depthwise convolution and a compression layer. This block is implemented as\n",
        "\n",
        "\\begin{align}\n",
        "  \\text{IRFFN}(\\mathbf{X}) &= \\text{Conv}(\\mathcal{F}(\\text{Conv}(\\mathbf{X}))), \\\\\n",
        "  \\mathcal{F}(\\mathbf{X}) &= \\text{DWConv}(\\mathbf{X}) + \\mathbf{X}\n",
        "\\end{align}\n",
        "\n",
        "where the activation layer is omitted. In particular, this block uses a reduction factor $R = 3.6$. Moreover:\n",
        "\n",
        "- the exapension layer uses $1 \\times 1$ convolutional layers with a number of kernels $C_{out} = C_{in} \\cdot R$;\n",
        "\n",
        "- the depthwise convolutional layer uses $3 \\times 3$ kernels, with $C_{out} = C_{in}$, and $G = C_{in}$;\n",
        "\n",
        "- the reduction layer uses $1 \\times 1$ convolutional layers with a number of kernels $C_{out} = C_{in} \\cdot \\frac{1}{R}$.\n",
        "\n",
        "Lastly, each layer is followed by GELU activation and batch-normalization."
      ],
      "metadata": {
        "id": "AY_MMg3l3XtN"
      }
    },
    {
      "cell_type": "code",
      "source": [
        "# Inverted Residual Feed-forward Network: IRFFN(X) = Conv(F(Conv(X))), F(X) = DWConv(X) + X.\n",
        "class IRFFN(nn.Module):\n",
        "\n",
        "  # Constructor.\n",
        "  def __init__(self, in_channels, R):\n",
        "\n",
        "    super().__init__()\n",
        "\n",
        "    # Number of channels after expansion.\n",
        "    out_channels = int(in_channels * R)\n",
        "\n",
        "    # Conv 1 x 1.\n",
        "    self.conv1 = nn.Conv2d(in_channels, out_channels, kernel_size = 1)\n",
        "    self.bn1 = nn.BatchNorm2d(out_channels)\n",
        "\n",
        "    # Depthwise convolution.\n",
        "    self.dwconv = nn.Conv2d(out_channels, out_channels, kernel_size = 3, stride = 1, padding = 1, groups = out_channels)\n",
        "    self.bn2 = nn.BatchNorm2d(out_channels)\n",
        "\n",
        "    # Conv 1 x 1.\n",
        "    self.conv2 = nn.Conv2d(out_channels, in_channels, kernel_size = 1)\n",
        "    self.bn3 = nn.BatchNorm2d(in_channels)\n",
        "\n",
        "    # GELU activation.\n",
        "    self.gelu = nn.GELU()\n",
        "\n",
        "  # Forward pass.\n",
        "  def forward(self, x):\n",
        "    tmp = self.conv1(x)\n",
        "    tmp = self.bn1(tmp)\n",
        "    tmp = self.gelu(tmp)\n",
        "    tmp = self.dwconv(tmp)\n",
        "    tmp = self.bn2(tmp)\n",
        "    tmp = self.gelu(tmp)\n",
        "    tmp = self.conv2(tmp)\n",
        "    tmp = self.bn3(tmp)\n",
        "    y = x + tmp\n",
        "    return y"
      ],
      "metadata": {
        "id": "WQRfI_lQlYoa"
      },
      "execution_count": null,
      "outputs": []
    },
    {
      "cell_type": "markdown",
      "source": [
        "The CMT block is a composition of the $\\text{LPU}$, $\\text{(L)MHSA}$ and $\\text{IRFFN}$ layers. In this implementation, the `CMTBlock` class is defined in such a way to consider either lightweight multi-head self-attention, standard lightweight multi-head self-attention, or no attention at all."
      ],
      "metadata": {
        "id": "84sIPbODCDkM"
      }
    },
    {
      "cell_type": "code",
      "source": [
        "# CMT block of the CMT architecture.\n",
        "class CMTBlock(nn.Module):\n",
        "\n",
        "  # Constructor.\n",
        "  def __init__(self, input_size, k, d_k, d_v, heads, R, channels, attention_type):\n",
        "\n",
        "    super().__init__()\n",
        "\n",
        "    # Local Perception Unit.\n",
        "    self.lpu = LPU(channels, channels)\n",
        "\n",
        "    # Lightweight MHSA.\n",
        "    if attention_type == \"light\":\n",
        "      self.mhsa = LMHSA(input_size, channels, d_k, d_v, k, heads)\n",
        "    \n",
        "    # Standard MHSA.\n",
        "    elif attention_type == \"standard\":\n",
        "      self.mhsa = MHSA(channels, d_k, d_v, heads)\n",
        "    \n",
        "    # No attention.\n",
        "    else:\n",
        "      self.mhsa = None\n",
        "\n",
        "    # Inverted Residual FFN.\n",
        "    self.irffn = IRFFN(channels, R)\n",
        "\n",
        "  # Forward pass.\n",
        "  def forward(self, x):\n",
        "    x = self.lpu(x)\n",
        "    if self.mhsa != None: \n",
        "      x = self.mhsa(x)\n",
        "    y = self.irffn(x)\n",
        "    return y"
      ],
      "metadata": {
        "id": "sGf0VE9hhtVh"
      },
      "execution_count": null,
      "outputs": []
    },
    {
      "cell_type": "markdown",
      "source": [
        "Lastly, the CMT network is implemented by means of the following `CMT` class. This class creates and composes the stem, the patch embedding, and CMT blocks, while also adding the global average pooling, the projection, and the final classification head. In particular:\n",
        "\n",
        "- the projection layer is a $1 \\times 1$ convolutional layer that uses $C_{out} = 1280$ kernels.\n",
        "\n",
        "- the final classifier is a fully connected layer with $10$ output neurons."
      ],
      "metadata": {
        "id": "ueJbT4h82VLF"
      }
    },
    {
      "cell_type": "code",
      "source": [
        "# CMT architecture.\n",
        "class CMT(nn.Module):\n",
        "\n",
        "  # Constructor.\n",
        "  def __init__(self, in_channels, stem_channels, channels, block_layers, k, heads, R, input_size, classes, attention_type):\n",
        "\n",
        "    super(CMT, self).__init__()\n",
        "\n",
        "    # Stem layer\n",
        "    self.stem = Stem(in_channels, stem_channels)\n",
        "\n",
        "    # Patch Aggregation Layer\n",
        "    self.pe1 = PatchEmbedding(stem_channels, channels[0])\n",
        "    self.pe2 = PatchEmbedding(channels[0], channels[1])\n",
        "    self.pe3 = PatchEmbedding(channels[1], channels[2])\n",
        "    self.pe4 = PatchEmbedding(channels[2], channels[3])\n",
        "\n",
        "    # Stages.\n",
        "    stage1 = [CMTBlock(input_size // 4, k[0], channels[0], channels[0], heads[0], R, channels[0], attention_type) for _ in range(block_layers[0])]\n",
        "    stage2 = [CMTBlock(input_size // 8, k[1], channels[1] // 2, channels[1] // 2, heads[1], R, channels[1], attention_type) for _ in range(block_layers[1])]\n",
        "    stage3 = [CMTBlock(input_size // 16, k[2], channels[2] // 4, channels[2] // 4, heads[2], R, channels[2], attention_type) for _ in range(block_layers[2])]\n",
        "    stage4 = [CMTBlock(input_size // 32, k[3], channels[3] // 8, channels[3] // 8, heads[3], R, channels[3], attention_type) for _ in range(block_layers[3])]\n",
        "\n",
        "    self.stage1 = nn.Sequential(*stage1)\n",
        "    self.stage2 = nn.Sequential(*stage2)\n",
        "    self.stage3 = nn.Sequential(*stage3)\n",
        "    self.stage4 = nn.Sequential(*stage4)\n",
        "\n",
        "    # Global average pooling.\n",
        "    self.avg_pool = nn.AdaptiveAvgPool2d(1)\n",
        "\n",
        "    # Projection layer.\n",
        "    self.projection = nn.Sequential(\n",
        "      nn.Conv2d(channels[3], 1280, kernel_size = 1),\n",
        "      nn.ReLU(inplace = True),\n",
        "    )\n",
        "\n",
        "    # Classifier.\n",
        "    self.classifier = nn.Linear(1280, classes)\n",
        "\n",
        "  # Forward pass.\n",
        "  def forward(self, x):\n",
        "    x = self.stem(x)\n",
        "    x = self.pe1(x)\n",
        "    x = self.stage1(x)\n",
        "    x = self.pe2(x)\n",
        "    x = self.stage2(x)\n",
        "    x = self.pe3(x)\n",
        "    x = self.stage3(x)\n",
        "    x = self.pe4(x)\n",
        "    x = self.stage4(x)\n",
        "    x = self.avg_pool(x)\n",
        "    x = self.projection(x)\n",
        "    x = torch.flatten(x, 1)\n",
        "    y = self.classifier(x)\n",
        "    return y"
      ],
      "metadata": {
        "id": "yJrsQh-9nZYH"
      },
      "execution_count": null,
      "outputs": []
    },
    {
      "cell_type": "markdown",
      "source": [
        "Lastly, the `train` function is defined. This function trains a given model and returns back the training history of such model."
      ],
      "metadata": {
        "id": "JWtIitY_6dFZ"
      }
    },
    {
      "cell_type": "code",
      "source": [
        "# Trains the model.\n",
        "def train(model, optimizer, scheduler, loss_fn, train_loader, val_loader, epochs, device = \"cuda\", history = None):\n",
        "\n",
        "  # Metrics.\n",
        "  if history == None: \n",
        "    history = {\"train_loss\": [], \"train_accuracy\": [], \"val_loss\": [], \"val_accuracy\": [], \"lr\": []}\n",
        "\n",
        "  # Iterating over epochs.\n",
        "  for epoch in range(epochs):\n",
        "\n",
        "    print(\"Epoch %2d/%2d:\" % (epoch + 1, epochs))\n",
        "\n",
        "    # Training.\n",
        "    model.train()\n",
        "\n",
        "    # Metrics\n",
        "    train_loss = 0.0\n",
        "    num_train_correct = 0\n",
        "    num_train_examples = 0\n",
        "\n",
        "    # Iterating over mini-batches.\n",
        "    for batch in tqdm(train_loader, desc = \"Training\", position = 0):\n",
        "\n",
        "      # Gradient reset.\n",
        "      optimizer.zero_grad()\n",
        "\n",
        "      # Moving x and y to GPU.\n",
        "      x = batch[0].to(device)\n",
        "      y = batch[1].to(device)\n",
        "\n",
        "      # Predictions.\n",
        "      yhat = model(x)\n",
        "\n",
        "      # Loss.\n",
        "      loss = loss_fn(yhat, y)\n",
        "\n",
        "      # Computing the gradient.\n",
        "      loss.backward()\n",
        "\n",
        "      # Updating the parameters.\n",
        "      optimizer.step()\n",
        "\n",
        "      # Updating the metrics.\n",
        "      train_loss += loss.item() * x.shape[0]\n",
        "      num_train_correct += (torch.argmax(yhat, 1) == y).sum().item()\n",
        "      num_train_examples += x.shape[0]\n",
        "\n",
        "    # Computing the epoch's metrics.\n",
        "    train_accuracy = num_train_correct / num_train_examples\n",
        "    train_loss = train_loss / len(train_loader.dataset)\n",
        "\n",
        "    # Saving learning rate.\n",
        "    lr = scheduler.get_last_lr()[0]\n",
        "\n",
        "    # Updating the learning rate.\n",
        "    scheduler.step()\n",
        "\n",
        "    # Validation.\n",
        "    model.eval()\n",
        "\n",
        "    # Metrics.\n",
        "    val_loss = 0.0\n",
        "    num_val_correct = 0\n",
        "    num_val_examples = 0\n",
        "\n",
        "    with torch.no_grad():\n",
        "\n",
        "      # Iterating over mini-batches.\n",
        "      for batch in tqdm(val_loader, desc = \"Validation\", position = 0):\n",
        "\n",
        "        # Moving x and y to GPU.\n",
        "        x = batch[0].to(device)\n",
        "        y = batch[1].to(device)\n",
        "\n",
        "        # Predictions.\n",
        "        yhat = model(x)\n",
        "\n",
        "        # Loss.\n",
        "        loss = loss_fn(yhat, y)\n",
        "\n",
        "        # Updating the metrics.\n",
        "        val_loss += loss.item() * x.shape[0]\n",
        "        num_val_correct += (torch.argmax(yhat, 1) == y).sum().item()\n",
        "        num_val_examples += y.shape[0]\n",
        "\n",
        "      # Computing the epoch's metrics.\n",
        "      val_accuracy = num_val_correct / num_val_examples\n",
        "      val_loss = val_loss / len(val_loader.dataset)\n",
        "\n",
        "    print(\"{}train_loss: {:.4f}, train_accuracy: {:.4f}, val_loss: {:.4f}, val_accuracy: {:.4f}, lr: {:.4e}{}\".format(\"\\n\" if epoch == epochs - 1 else \"\",\n",
        "                                                                                                                      train_loss, \n",
        "                                                                                                                      train_accuracy, \n",
        "                                                                                                                      val_loss, \n",
        "                                                                                                                      val_accuracy,\n",
        "                                                                                                                      lr,\n",
        "                                                                                                                      \"\\n\" if epoch != epochs - 1 else \"\"))\n",
        "\n",
        "    # Appending the epoch's metrics to history lists.\n",
        "    history[\"train_loss\"].append(train_loss)\n",
        "    history[\"val_loss\"].append(val_loss)\n",
        "    history[\"train_accuracy\"].append(train_accuracy)\n",
        "    history[\"val_accuracy\"].append(val_accuracy)\n",
        "    history[\"lr\"].append(lr)\n",
        "\n",
        "  # Returning history.\n",
        "  return history"
      ],
      "metadata": {
        "id": "EE9m-lzNr66m"
      },
      "execution_count": null,
      "outputs": []
    },
    {
      "cell_type": "code",
      "source": [
        "# Loads a checkpoint.\n",
        "def load_checkpoint(path, model, optimizer, scheduler):\n",
        "\n",
        "  # Loading checkpoint.\n",
        "  checkpoint = torch.load(path)\n",
        "  model.load_state_dict(checkpoint[\"model\"])\n",
        "  optimizer.load_state_dict(checkpoint[\"optimizer\"])\n",
        "  scheduler.load_state_dict(checkpoint[\"scheduler\"])\n",
        "\n",
        "  # Returning checkpoint entries.\n",
        "  return model, optimizer, scheduler"
      ],
      "metadata": {
        "id": "m303-E_FSBZO"
      },
      "execution_count": null,
      "outputs": []
    },
    {
      "cell_type": "markdown",
      "source": [
        "### Lightweight MHSA model ($m_1$)"
      ],
      "metadata": {
        "id": "34JWWDLFPwJi"
      }
    },
    {
      "cell_type": "markdown",
      "source": [
        "The $m_1$ models is defined by the following parameters:\n",
        "\n",
        "- `in_channels`, the number of input channels;\n",
        "- `stem_channels`, the number of channels used by the `Stem` module;\n",
        "- `channels`, the number of channels used by `PatchEmbedding` and `LPU` modules;\n",
        "- `block_layers`, the number of CMT blocks for each stage;\n",
        "- `k`, the size and stride of the depthwise convolutaional layer used by the `LMHSA` module;\n",
        "- `heads`, the number of heads used by the `LMHSA` module;\n",
        "- `R`, the reduction ratio used by the `IRFFN` module;\n",
        "- `input_size`, the resolution of the input image;\n",
        "- `classes`, the total number of classes;\n",
        "- `attention_type`, the type of attention mechanism to use."
      ],
      "metadata": {
        "id": "-LuS4LrPWILd"
      }
    },
    {
      "cell_type": "code",
      "source": [
        "# Defining the model that uses LMHSA.\n",
        "m_1 = CMT(\n",
        "  in_channels = 3,\n",
        "  stem_channels = 16,\n",
        "  channels = [46, 92, 184, 368],\n",
        "  block_layers = [2, 2, 10, 2],\n",
        "  k = [8, 4, 2, 1],\n",
        "  heads = [1, 2, 4, 8],\n",
        "  R = 3.6,\n",
        "  input_size = 224,\n",
        "  classes = 10,\n",
        "  attention_type = \"light\")\n",
        "\n",
        "# Printing number of parameters.\n",
        "print(f\"m_1 has {sum(p.numel() for p in m_1.parameters())} parameters.\")"
      ],
      "metadata": {
        "id": "STqrfOj30eTH",
        "colab": {
          "base_uri": "https://localhost:8080/"
        },
        "outputId": "19c46e2f-8e7a-459b-b735-2fd470600837"
      },
      "execution_count": null,
      "outputs": [
        {
          "output_type": "stream",
          "name": "stdout",
          "text": [
            "m_1 has 9014696 parameters.\n"
          ]
        }
      ]
    },
    {
      "cell_type": "markdown",
      "source": [
        "The number of parameters and FLOPs of $m_1$ are different from the ones shown in table 1. This is due to $m_1$ being trained on input images of resolution $224 \\times 224$ instead of $160 \\times 160$, and to the number of neurons used in the final classifier. In particular, in the case of $m_1$ the number of parameters is equal to $9.01\\text{M}$ and the number of FLOPs is equal to $1.31\\text{B}$."
      ],
      "metadata": {
        "id": "zo3xsokpbQ_r"
      }
    },
    {
      "cell_type": "code",
      "source": [
        "# Computing number of FLOPs.\n",
        "flops = FlopCountAnalysis(m_1, (torch.randn((1, 3, 224, 224)),))\n",
        "\n",
        "# Printing number of FLOPs per layer.\n",
        "print(flop_count_str(flops))"
      ],
      "metadata": {
        "colab": {
          "base_uri": "https://localhost:8080/"
        },
        "id": "wXF8d1A9iTsC",
        "outputId": "8127dc53-2ab7-45cd-86bf-461c69e78310"
      },
      "execution_count": null,
      "outputs": [
        {
          "output_type": "stream",
          "name": "stdout",
          "text": [
            "CMT(\n",
            "  #params: 9.01M, #flops: 1.31G\n",
            "  (stem): Stem(\n",
            "    #params: 5.18K, #flops: 66.23M\n",
            "    (conv1): Conv2d(\n",
            "      3, 16, kernel_size=(3, 3), stride=(2, 2), padding=(1, 1)\n",
            "      #params: 0.45K, #flops: 5.42M\n",
            "    )\n",
            "    (bn1): BatchNorm2d(\n",
            "      16, eps=1e-05, momentum=0.1, affine=True, track_running_stats=True\n",
            "      #params: 32, #flops: 1M\n",
            "    )\n",
            "    (conv2): Conv2d(\n",
            "      16, 16, kernel_size=(3, 3), stride=(1, 1), padding=(1, 1)\n",
            "      #params: 2.32K, #flops: 28.9M\n",
            "    )\n",
            "    (bn2): BatchNorm2d(\n",
            "      16, eps=1e-05, momentum=0.1, affine=True, track_running_stats=True\n",
            "      #params: 32, #flops: 1M\n",
            "    )\n",
            "    (conv3): Conv2d(\n",
            "      16, 16, kernel_size=(3, 3), stride=(1, 1), padding=(1, 1)\n",
            "      #params: 2.32K, #flops: 28.9M\n",
            "    )\n",
            "    (bn3): BatchNorm2d(\n",
            "      16, eps=1e-05, momentum=0.1, affine=True, track_running_stats=True\n",
            "      #params: 32, #flops: 1M\n",
            "    )\n",
            "    (gelu): GELU(approximate='none')\n",
            "  )\n",
            "  (pe1): PatchEmbedding(\n",
            "    #params: 2.99K, #flops: 9.81M\n",
            "    (conv): Conv2d(\n",
            "      16, 46, kernel_size=(2, 2), stride=(2, 2)\n",
            "      #params: 2.99K, #flops: 9.23M\n",
            "    )\n",
            "  )\n",
            "  (pe2): PatchEmbedding(\n",
            "    #params: 17.02K, #flops: 13.56M\n",
            "    (conv): Conv2d(\n",
            "      46, 92, kernel_size=(2, 2), stride=(2, 2)\n",
            "      #params: 17.02K, #flops: 13.27M\n",
            "    )\n",
            "  )\n",
            "  (pe3): PatchEmbedding(\n",
            "    #params: 67.9K, #flops: 13.42M\n",
            "    (conv): Conv2d(\n",
            "      92, 184, kernel_size=(2, 2), stride=(2, 2)\n",
            "      #params: 67.9K, #flops: 13.27M\n",
            "    )\n",
            "  )\n",
            "  (pe4): PatchEmbedding(\n",
            "    #params: 0.27M, #flops: 13.34M\n",
            "    (conv): Conv2d(\n",
            "      184, 368, kernel_size=(2, 2), stride=(2, 2)\n",
            "      #params: 0.27M, #flops: 13.27M\n",
            "    )\n",
            "  )\n",
            "  (stage1): Sequential(\n",
            "    #params: 0.37M, #flops: 0.18G\n",
            "    (0): CMTBlock(\n",
            "      #params: 0.18M, #flops: 87.94M\n",
            "      (lpu): LPU(\n",
            "        #params: 0.46K, #flops: 1.3M\n",
            "        (dwconv): Conv2d(\n",
            "          46, 46, kernel_size=(3, 3), stride=(1, 1), padding=(1, 1), groups=46\n",
            "          #params: 0.46K, #flops: 1.3M\n",
            "        )\n",
            "      )\n",
            "      (mhsa): LMHSA(\n",
            "        #params: 0.17M, #flops: 28.48M\n",
            "        (dwconv): Conv2d(\n",
            "          46, 46, kernel_size=(8, 8), stride=(8, 8), groups=46\n",
            "          #params: 2.99K, #flops: 0.29M\n",
            "        )\n",
            "        (fc_q): Linear(\n",
            "          in_features=46, out_features=46, bias=True\n",
            "          #params: 2.16K, #flops: 6.64M\n",
            "        )\n",
            "        (fc_k): Linear(\n",
            "          in_features=46, out_features=46, bias=True\n",
            "          #params: 2.16K, #flops: 0.1M\n",
            "        )\n",
            "        (fc_v): Linear(\n",
            "          in_features=46, out_features=46, bias=True\n",
            "          #params: 2.16K, #flops: 0.1M\n",
            "        )\n",
            "        (fc_o): Linear(\n",
            "          in_features=46, out_features=46, bias=True\n",
            "          #params: 2.16K, #flops: 6.64M\n",
            "        )\n",
            "      )\n",
            "      (irffn): IRFFN(\n",
            "        #params: 17.79K, #flops: 58.16M\n",
            "        (conv1): Conv2d(\n",
            "          46, 165, kernel_size=(1, 1), stride=(1, 1)\n",
            "          #params: 7.75K, #flops: 23.8M\n",
            "        )\n",
            "        (bn1): BatchNorm2d(\n",
            "          165, eps=1e-05, momentum=0.1, affine=True, track_running_stats=True\n",
            "          #params: 0.33K, #flops: 2.59M\n",
            "        )\n",
            "        (dwconv): Conv2d(\n",
            "          165, 165, kernel_size=(3, 3), stride=(1, 1), padding=(1, 1), groups=165\n",
            "          #params: 1.65K, #flops: 4.66M\n",
            "        )\n",
            "        (bn2): BatchNorm2d(\n",
            "          165, eps=1e-05, momentum=0.1, affine=True, track_running_stats=True\n",
            "          #params: 0.33K, #flops: 2.59M\n",
            "        )\n",
            "        (conv2): Conv2d(\n",
            "          165, 46, kernel_size=(1, 1), stride=(1, 1)\n",
            "          #params: 7.64K, #flops: 23.8M\n",
            "        )\n",
            "        (bn3): BatchNorm2d(\n",
            "          46, eps=1e-05, momentum=0.1, affine=True, track_running_stats=True\n",
            "          #params: 92, #flops: 0.72M\n",
            "        )\n",
            "        (gelu): GELU(approximate='none')\n",
            "      )\n",
            "    )\n",
            "    (1): CMTBlock(\n",
            "      #params: 0.18M, #flops: 87.94M\n",
            "      (lpu): LPU(\n",
            "        #params: 0.46K, #flops: 1.3M\n",
            "        (dwconv): Conv2d(\n",
            "          46, 46, kernel_size=(3, 3), stride=(1, 1), padding=(1, 1), groups=46\n",
            "          #params: 0.46K, #flops: 1.3M\n",
            "        )\n",
            "      )\n",
            "      (mhsa): LMHSA(\n",
            "        #params: 0.17M, #flops: 28.48M\n",
            "        (dwconv): Conv2d(\n",
            "          46, 46, kernel_size=(8, 8), stride=(8, 8), groups=46\n",
            "          #params: 2.99K, #flops: 0.29M\n",
            "        )\n",
            "        (fc_q): Linear(\n",
            "          in_features=46, out_features=46, bias=True\n",
            "          #params: 2.16K, #flops: 6.64M\n",
            "        )\n",
            "        (fc_k): Linear(\n",
            "          in_features=46, out_features=46, bias=True\n",
            "          #params: 2.16K, #flops: 0.1M\n",
            "        )\n",
            "        (fc_v): Linear(\n",
            "          in_features=46, out_features=46, bias=True\n",
            "          #params: 2.16K, #flops: 0.1M\n",
            "        )\n",
            "        (fc_o): Linear(\n",
            "          in_features=46, out_features=46, bias=True\n",
            "          #params: 2.16K, #flops: 6.64M\n",
            "        )\n",
            "      )\n",
            "      (irffn): IRFFN(\n",
            "        #params: 17.79K, #flops: 58.16M\n",
            "        (conv1): Conv2d(\n",
            "          46, 165, kernel_size=(1, 1), stride=(1, 1)\n",
            "          #params: 7.75K, #flops: 23.8M\n",
            "        )\n",
            "        (bn1): BatchNorm2d(\n",
            "          165, eps=1e-05, momentum=0.1, affine=True, track_running_stats=True\n",
            "          #params: 0.33K, #flops: 2.59M\n",
            "        )\n",
            "        (dwconv): Conv2d(\n",
            "          165, 165, kernel_size=(3, 3), stride=(1, 1), padding=(1, 1), groups=165\n",
            "          #params: 1.65K, #flops: 4.66M\n",
            "        )\n",
            "        (bn2): BatchNorm2d(\n",
            "          165, eps=1e-05, momentum=0.1, affine=True, track_running_stats=True\n",
            "          #params: 0.33K, #flops: 2.59M\n",
            "        )\n",
            "        (conv2): Conv2d(\n",
            "          165, 46, kernel_size=(1, 1), stride=(1, 1)\n",
            "          #params: 7.64K, #flops: 23.8M\n",
            "        )\n",
            "        (bn3): BatchNorm2d(\n",
            "          46, eps=1e-05, momentum=0.1, affine=True, track_running_stats=True\n",
            "          #params: 92, #flops: 0.72M\n",
            "        )\n",
            "        (gelu): GELU(approximate='none')\n",
            "      )\n",
            "    )\n",
            "  )\n",
            "  (stage2): Sequential(\n",
            "    #params: 0.36M, #flops: 0.15G\n",
            "    (0): CMTBlock(\n",
            "      #params: 0.18M, #flops: 75.29M\n",
            "      (lpu): LPU(\n",
            "        #params: 0.92K, #flops: 0.65M\n",
            "        (dwconv): Conv2d(\n",
            "          92, 92, kernel_size=(3, 3), stride=(1, 1), padding=(1, 1), groups=92\n",
            "          #params: 0.92K, #flops: 0.65M\n",
            "        )\n",
            "      )\n",
            "      (mhsa): LMHSA(\n",
            "        #params: 0.11M, #flops: 21.6M\n",
            "        (dwconv): Conv2d(\n",
            "          92, 92, kernel_size=(4, 4), stride=(4, 4), groups=92\n",
            "          #params: 1.56K, #flops: 0.14M\n",
            "        )\n",
            "        (fc_q): Linear(\n",
            "          in_features=92, out_features=92, bias=True\n",
            "          #params: 8.56K, #flops: 6.64M\n",
            "        )\n",
            "        (fc_k): Linear(\n",
            "          in_features=92, out_features=92, bias=True\n",
            "          #params: 8.56K, #flops: 0.41M\n",
            "        )\n",
            "        (fc_v): Linear(\n",
            "          in_features=92, out_features=92, bias=True\n",
            "          #params: 8.56K, #flops: 0.41M\n",
            "        )\n",
            "        (fc_o): Linear(\n",
            "          in_features=92, out_features=92, bias=True\n",
            "          #params: 8.56K, #flops: 6.64M\n",
            "        )\n",
            "      )\n",
            "      (irffn): IRFFN(\n",
            "        #params: 66.14K, #flops: 53.04M\n",
            "        (conv1): Conv2d(\n",
            "          92, 331, kernel_size=(1, 1), stride=(1, 1)\n",
            "          #params: 30.78K, #flops: 23.87M\n",
            "        )\n",
            "        (bn1): BatchNorm2d(\n",
            "          331, eps=1e-05, momentum=0.1, affine=True, track_running_stats=True\n",
            "          #params: 0.66K, #flops: 1.3M\n",
            "        )\n",
            "        (dwconv): Conv2d(\n",
            "          331, 331, kernel_size=(3, 3), stride=(1, 1), padding=(1, 1), groups=331\n",
            "          #params: 3.31K, #flops: 2.34M\n",
            "        )\n",
            "        (bn2): BatchNorm2d(\n",
            "          331, eps=1e-05, momentum=0.1, affine=True, track_running_stats=True\n",
            "          #params: 0.66K, #flops: 1.3M\n",
            "        )\n",
            "        (conv2): Conv2d(\n",
            "          331, 92, kernel_size=(1, 1), stride=(1, 1)\n",
            "          #params: 30.54K, #flops: 23.87M\n",
            "        )\n",
            "        (bn3): BatchNorm2d(\n",
            "          92, eps=1e-05, momentum=0.1, affine=True, track_running_stats=True\n",
            "          #params: 0.18K, #flops: 0.36M\n",
            "        )\n",
            "        (gelu): GELU(approximate='none')\n",
            "      )\n",
            "    )\n",
            "    (1): CMTBlock(\n",
            "      #params: 0.18M, #flops: 75.29M\n",
            "      (lpu): LPU(\n",
            "        #params: 0.92K, #flops: 0.65M\n",
            "        (dwconv): Conv2d(\n",
            "          92, 92, kernel_size=(3, 3), stride=(1, 1), padding=(1, 1), groups=92\n",
            "          #params: 0.92K, #flops: 0.65M\n",
            "        )\n",
            "      )\n",
            "      (mhsa): LMHSA(\n",
            "        #params: 0.11M, #flops: 21.6M\n",
            "        (dwconv): Conv2d(\n",
            "          92, 92, kernel_size=(4, 4), stride=(4, 4), groups=92\n",
            "          #params: 1.56K, #flops: 0.14M\n",
            "        )\n",
            "        (fc_q): Linear(\n",
            "          in_features=92, out_features=92, bias=True\n",
            "          #params: 8.56K, #flops: 6.64M\n",
            "        )\n",
            "        (fc_k): Linear(\n",
            "          in_features=92, out_features=92, bias=True\n",
            "          #params: 8.56K, #flops: 0.41M\n",
            "        )\n",
            "        (fc_v): Linear(\n",
            "          in_features=92, out_features=92, bias=True\n",
            "          #params: 8.56K, #flops: 0.41M\n",
            "        )\n",
            "        (fc_o): Linear(\n",
            "          in_features=92, out_features=92, bias=True\n",
            "          #params: 8.56K, #flops: 6.64M\n",
            "        )\n",
            "      )\n",
            "      (irffn): IRFFN(\n",
            "        #params: 66.14K, #flops: 53.04M\n",
            "        (conv1): Conv2d(\n",
            "          92, 331, kernel_size=(1, 1), stride=(1, 1)\n",
            "          #params: 30.78K, #flops: 23.87M\n",
            "        )\n",
            "        (bn1): BatchNorm2d(\n",
            "          331, eps=1e-05, momentum=0.1, affine=True, track_running_stats=True\n",
            "          #params: 0.66K, #flops: 1.3M\n",
            "        )\n",
            "        (dwconv): Conv2d(\n",
            "          331, 331, kernel_size=(3, 3), stride=(1, 1), padding=(1, 1), groups=331\n",
            "          #params: 3.31K, #flops: 2.34M\n",
            "        )\n",
            "        (bn2): BatchNorm2d(\n",
            "          331, eps=1e-05, momentum=0.1, affine=True, track_running_stats=True\n",
            "          #params: 0.66K, #flops: 1.3M\n",
            "        )\n",
            "        (conv2): Conv2d(\n",
            "          331, 92, kernel_size=(1, 1), stride=(1, 1)\n",
            "          #params: 30.54K, #flops: 23.87M\n",
            "        )\n",
            "        (bn3): BatchNorm2d(\n",
            "          92, eps=1e-05, momentum=0.1, affine=True, track_running_stats=True\n",
            "          #params: 0.18K, #flops: 0.36M\n",
            "        )\n",
            "        (gelu): GELU(approximate='none')\n",
            "      )\n",
            "    )\n",
            "  )\n",
            "  (stage3): Sequential(\n",
            "    #params: 4.31M, #flops: 0.71G\n",
            "    (0): CMTBlock(\n",
            "      #params: 0.43M, #flops: 71.06M\n",
            "      (lpu): LPU(\n",
            "        #params: 1.84K, #flops: 0.32M\n",
            "        (dwconv): Conv2d(\n",
            "          184, 184, kernel_size=(3, 3), stride=(1, 1), padding=(1, 1), groups=184\n",
            "          #params: 1.84K, #flops: 0.32M\n",
            "        )\n",
            "      )\n",
            "      (mhsa): LMHSA(\n",
            "        #params: 0.18M, #flops: 20.34M\n",
            "        (dwconv): Conv2d(\n",
            "          184, 184, kernel_size=(2, 2), stride=(2, 2), groups=184\n",
            "          #params: 0.92K, #flops: 72.13K\n",
            "        )\n",
            "        (fc_q): Linear(\n",
            "          in_features=184, out_features=184, bias=True\n",
            "          #params: 34.04K, #flops: 6.64M\n",
            "        )\n",
            "        (fc_k): Linear(\n",
            "          in_features=184, out_features=184, bias=True\n",
            "          #params: 34.04K, #flops: 1.66M\n",
            "        )\n",
            "        (fc_v): Linear(\n",
            "          in_features=184, out_features=184, bias=True\n",
            "          #params: 34.04K, #flops: 1.66M\n",
            "        )\n",
            "        (fc_o): Linear(\n",
            "          in_features=184, out_features=184, bias=True\n",
            "          #params: 34.04K, #flops: 6.64M\n",
            "        )\n",
            "      )\n",
            "      (irffn): IRFFN(\n",
            "        #params: 0.25M, #flops: 50.39M\n",
            "        (conv1): Conv2d(\n",
            "          184, 662, kernel_size=(1, 1), stride=(1, 1)\n",
            "          #params: 0.12M, #flops: 23.87M\n",
            "        )\n",
            "        (bn1): BatchNorm2d(\n",
            "          662, eps=1e-05, momentum=0.1, affine=True, track_running_stats=True\n",
            "          #params: 1.32K, #flops: 0.65M\n",
            "        )\n",
            "        (dwconv): Conv2d(\n",
            "          662, 662, kernel_size=(3, 3), stride=(1, 1), padding=(1, 1), groups=662\n",
            "          #params: 6.62K, #flops: 1.17M\n",
            "        )\n",
            "        (bn2): BatchNorm2d(\n",
            "          662, eps=1e-05, momentum=0.1, affine=True, track_running_stats=True\n",
            "          #params: 1.32K, #flops: 0.65M\n",
            "        )\n",
            "        (conv2): Conv2d(\n",
            "          662, 184, kernel_size=(1, 1), stride=(1, 1)\n",
            "          #params: 0.12M, #flops: 23.87M\n",
            "        )\n",
            "        (bn3): BatchNorm2d(\n",
            "          184, eps=1e-05, momentum=0.1, affine=True, track_running_stats=True\n",
            "          #params: 0.37K, #flops: 0.18M\n",
            "        )\n",
            "        (gelu): GELU(approximate='none')\n",
            "      )\n",
            "    )\n",
            "    (1): CMTBlock(\n",
            "      #params: 0.43M, #flops: 71.06M\n",
            "      (lpu): LPU(\n",
            "        #params: 1.84K, #flops: 0.32M\n",
            "        (dwconv): Conv2d(\n",
            "          184, 184, kernel_size=(3, 3), stride=(1, 1), padding=(1, 1), groups=184\n",
            "          #params: 1.84K, #flops: 0.32M\n",
            "        )\n",
            "      )\n",
            "      (mhsa): LMHSA(\n",
            "        #params: 0.18M, #flops: 20.34M\n",
            "        (dwconv): Conv2d(\n",
            "          184, 184, kernel_size=(2, 2), stride=(2, 2), groups=184\n",
            "          #params: 0.92K, #flops: 72.13K\n",
            "        )\n",
            "        (fc_q): Linear(\n",
            "          in_features=184, out_features=184, bias=True\n",
            "          #params: 34.04K, #flops: 6.64M\n",
            "        )\n",
            "        (fc_k): Linear(\n",
            "          in_features=184, out_features=184, bias=True\n",
            "          #params: 34.04K, #flops: 1.66M\n",
            "        )\n",
            "        (fc_v): Linear(\n",
            "          in_features=184, out_features=184, bias=True\n",
            "          #params: 34.04K, #flops: 1.66M\n",
            "        )\n",
            "        (fc_o): Linear(\n",
            "          in_features=184, out_features=184, bias=True\n",
            "          #params: 34.04K, #flops: 6.64M\n",
            "        )\n",
            "      )\n",
            "      (irffn): IRFFN(\n",
            "        #params: 0.25M, #flops: 50.39M\n",
            "        (conv1): Conv2d(\n",
            "          184, 662, kernel_size=(1, 1), stride=(1, 1)\n",
            "          #params: 0.12M, #flops: 23.87M\n",
            "        )\n",
            "        (bn1): BatchNorm2d(\n",
            "          662, eps=1e-05, momentum=0.1, affine=True, track_running_stats=True\n",
            "          #params: 1.32K, #flops: 0.65M\n",
            "        )\n",
            "        (dwconv): Conv2d(\n",
            "          662, 662, kernel_size=(3, 3), stride=(1, 1), padding=(1, 1), groups=662\n",
            "          #params: 6.62K, #flops: 1.17M\n",
            "        )\n",
            "        (bn2): BatchNorm2d(\n",
            "          662, eps=1e-05, momentum=0.1, affine=True, track_running_stats=True\n",
            "          #params: 1.32K, #flops: 0.65M\n",
            "        )\n",
            "        (conv2): Conv2d(\n",
            "          662, 184, kernel_size=(1, 1), stride=(1, 1)\n",
            "          #params: 0.12M, #flops: 23.87M\n",
            "        )\n",
            "        (bn3): BatchNorm2d(\n",
            "          184, eps=1e-05, momentum=0.1, affine=True, track_running_stats=True\n",
            "          #params: 0.37K, #flops: 0.18M\n",
            "        )\n",
            "        (gelu): GELU(approximate='none')\n",
            "      )\n",
            "    )\n",
            "    (2): CMTBlock(\n",
            "      #params: 0.43M, #flops: 71.06M\n",
            "      (lpu): LPU(\n",
            "        #params: 1.84K, #flops: 0.32M\n",
            "        (dwconv): Conv2d(\n",
            "          184, 184, kernel_size=(3, 3), stride=(1, 1), padding=(1, 1), groups=184\n",
            "          #params: 1.84K, #flops: 0.32M\n",
            "        )\n",
            "      )\n",
            "      (mhsa): LMHSA(\n",
            "        #params: 0.18M, #flops: 20.34M\n",
            "        (dwconv): Conv2d(\n",
            "          184, 184, kernel_size=(2, 2), stride=(2, 2), groups=184\n",
            "          #params: 0.92K, #flops: 72.13K\n",
            "        )\n",
            "        (fc_q): Linear(\n",
            "          in_features=184, out_features=184, bias=True\n",
            "          #params: 34.04K, #flops: 6.64M\n",
            "        )\n",
            "        (fc_k): Linear(\n",
            "          in_features=184, out_features=184, bias=True\n",
            "          #params: 34.04K, #flops: 1.66M\n",
            "        )\n",
            "        (fc_v): Linear(\n",
            "          in_features=184, out_features=184, bias=True\n",
            "          #params: 34.04K, #flops: 1.66M\n",
            "        )\n",
            "        (fc_o): Linear(\n",
            "          in_features=184, out_features=184, bias=True\n",
            "          #params: 34.04K, #flops: 6.64M\n",
            "        )\n",
            "      )\n",
            "      (irffn): IRFFN(\n",
            "        #params: 0.25M, #flops: 50.39M\n",
            "        (conv1): Conv2d(\n",
            "          184, 662, kernel_size=(1, 1), stride=(1, 1)\n",
            "          #params: 0.12M, #flops: 23.87M\n",
            "        )\n",
            "        (bn1): BatchNorm2d(\n",
            "          662, eps=1e-05, momentum=0.1, affine=True, track_running_stats=True\n",
            "          #params: 1.32K, #flops: 0.65M\n",
            "        )\n",
            "        (dwconv): Conv2d(\n",
            "          662, 662, kernel_size=(3, 3), stride=(1, 1), padding=(1, 1), groups=662\n",
            "          #params: 6.62K, #flops: 1.17M\n",
            "        )\n",
            "        (bn2): BatchNorm2d(\n",
            "          662, eps=1e-05, momentum=0.1, affine=True, track_running_stats=True\n",
            "          #params: 1.32K, #flops: 0.65M\n",
            "        )\n",
            "        (conv2): Conv2d(\n",
            "          662, 184, kernel_size=(1, 1), stride=(1, 1)\n",
            "          #params: 0.12M, #flops: 23.87M\n",
            "        )\n",
            "        (bn3): BatchNorm2d(\n",
            "          184, eps=1e-05, momentum=0.1, affine=True, track_running_stats=True\n",
            "          #params: 0.37K, #flops: 0.18M\n",
            "        )\n",
            "        (gelu): GELU(approximate='none')\n",
            "      )\n",
            "    )\n",
            "    (3): CMTBlock(\n",
            "      #params: 0.43M, #flops: 71.06M\n",
            "      (lpu): LPU(\n",
            "        #params: 1.84K, #flops: 0.32M\n",
            "        (dwconv): Conv2d(\n",
            "          184, 184, kernel_size=(3, 3), stride=(1, 1), padding=(1, 1), groups=184\n",
            "          #params: 1.84K, #flops: 0.32M\n",
            "        )\n",
            "      )\n",
            "      (mhsa): LMHSA(\n",
            "        #params: 0.18M, #flops: 20.34M\n",
            "        (dwconv): Conv2d(\n",
            "          184, 184, kernel_size=(2, 2), stride=(2, 2), groups=184\n",
            "          #params: 0.92K, #flops: 72.13K\n",
            "        )\n",
            "        (fc_q): Linear(\n",
            "          in_features=184, out_features=184, bias=True\n",
            "          #params: 34.04K, #flops: 6.64M\n",
            "        )\n",
            "        (fc_k): Linear(\n",
            "          in_features=184, out_features=184, bias=True\n",
            "          #params: 34.04K, #flops: 1.66M\n",
            "        )\n",
            "        (fc_v): Linear(\n",
            "          in_features=184, out_features=184, bias=True\n",
            "          #params: 34.04K, #flops: 1.66M\n",
            "        )\n",
            "        (fc_o): Linear(\n",
            "          in_features=184, out_features=184, bias=True\n",
            "          #params: 34.04K, #flops: 6.64M\n",
            "        )\n",
            "      )\n",
            "      (irffn): IRFFN(\n",
            "        #params: 0.25M, #flops: 50.39M\n",
            "        (conv1): Conv2d(\n",
            "          184, 662, kernel_size=(1, 1), stride=(1, 1)\n",
            "          #params: 0.12M, #flops: 23.87M\n",
            "        )\n",
            "        (bn1): BatchNorm2d(\n",
            "          662, eps=1e-05, momentum=0.1, affine=True, track_running_stats=True\n",
            "          #params: 1.32K, #flops: 0.65M\n",
            "        )\n",
            "        (dwconv): Conv2d(\n",
            "          662, 662, kernel_size=(3, 3), stride=(1, 1), padding=(1, 1), groups=662\n",
            "          #params: 6.62K, #flops: 1.17M\n",
            "        )\n",
            "        (bn2): BatchNorm2d(\n",
            "          662, eps=1e-05, momentum=0.1, affine=True, track_running_stats=True\n",
            "          #params: 1.32K, #flops: 0.65M\n",
            "        )\n",
            "        (conv2): Conv2d(\n",
            "          662, 184, kernel_size=(1, 1), stride=(1, 1)\n",
            "          #params: 0.12M, #flops: 23.87M\n",
            "        )\n",
            "        (bn3): BatchNorm2d(\n",
            "          184, eps=1e-05, momentum=0.1, affine=True, track_running_stats=True\n",
            "          #params: 0.37K, #flops: 0.18M\n",
            "        )\n",
            "        (gelu): GELU(approximate='none')\n",
            "      )\n",
            "    )\n",
            "    (4): CMTBlock(\n",
            "      #params: 0.43M, #flops: 71.06M\n",
            "      (lpu): LPU(\n",
            "        #params: 1.84K, #flops: 0.32M\n",
            "        (dwconv): Conv2d(\n",
            "          184, 184, kernel_size=(3, 3), stride=(1, 1), padding=(1, 1), groups=184\n",
            "          #params: 1.84K, #flops: 0.32M\n",
            "        )\n",
            "      )\n",
            "      (mhsa): LMHSA(\n",
            "        #params: 0.18M, #flops: 20.34M\n",
            "        (dwconv): Conv2d(\n",
            "          184, 184, kernel_size=(2, 2), stride=(2, 2), groups=184\n",
            "          #params: 0.92K, #flops: 72.13K\n",
            "        )\n",
            "        (fc_q): Linear(\n",
            "          in_features=184, out_features=184, bias=True\n",
            "          #params: 34.04K, #flops: 6.64M\n",
            "        )\n",
            "        (fc_k): Linear(\n",
            "          in_features=184, out_features=184, bias=True\n",
            "          #params: 34.04K, #flops: 1.66M\n",
            "        )\n",
            "        (fc_v): Linear(\n",
            "          in_features=184, out_features=184, bias=True\n",
            "          #params: 34.04K, #flops: 1.66M\n",
            "        )\n",
            "        (fc_o): Linear(\n",
            "          in_features=184, out_features=184, bias=True\n",
            "          #params: 34.04K, #flops: 6.64M\n",
            "        )\n",
            "      )\n",
            "      (irffn): IRFFN(\n",
            "        #params: 0.25M, #flops: 50.39M\n",
            "        (conv1): Conv2d(\n",
            "          184, 662, kernel_size=(1, 1), stride=(1, 1)\n",
            "          #params: 0.12M, #flops: 23.87M\n",
            "        )\n",
            "        (bn1): BatchNorm2d(\n",
            "          662, eps=1e-05, momentum=0.1, affine=True, track_running_stats=True\n",
            "          #params: 1.32K, #flops: 0.65M\n",
            "        )\n",
            "        (dwconv): Conv2d(\n",
            "          662, 662, kernel_size=(3, 3), stride=(1, 1), padding=(1, 1), groups=662\n",
            "          #params: 6.62K, #flops: 1.17M\n",
            "        )\n",
            "        (bn2): BatchNorm2d(\n",
            "          662, eps=1e-05, momentum=0.1, affine=True, track_running_stats=True\n",
            "          #params: 1.32K, #flops: 0.65M\n",
            "        )\n",
            "        (conv2): Conv2d(\n",
            "          662, 184, kernel_size=(1, 1), stride=(1, 1)\n",
            "          #params: 0.12M, #flops: 23.87M\n",
            "        )\n",
            "        (bn3): BatchNorm2d(\n",
            "          184, eps=1e-05, momentum=0.1, affine=True, track_running_stats=True\n",
            "          #params: 0.37K, #flops: 0.18M\n",
            "        )\n",
            "        (gelu): GELU(approximate='none')\n",
            "      )\n",
            "    )\n",
            "    (5): CMTBlock(\n",
            "      #params: 0.43M, #flops: 71.06M\n",
            "      (lpu): LPU(\n",
            "        #params: 1.84K, #flops: 0.32M\n",
            "        (dwconv): Conv2d(\n",
            "          184, 184, kernel_size=(3, 3), stride=(1, 1), padding=(1, 1), groups=184\n",
            "          #params: 1.84K, #flops: 0.32M\n",
            "        )\n",
            "      )\n",
            "      (mhsa): LMHSA(\n",
            "        #params: 0.18M, #flops: 20.34M\n",
            "        (dwconv): Conv2d(\n",
            "          184, 184, kernel_size=(2, 2), stride=(2, 2), groups=184\n",
            "          #params: 0.92K, #flops: 72.13K\n",
            "        )\n",
            "        (fc_q): Linear(\n",
            "          in_features=184, out_features=184, bias=True\n",
            "          #params: 34.04K, #flops: 6.64M\n",
            "        )\n",
            "        (fc_k): Linear(\n",
            "          in_features=184, out_features=184, bias=True\n",
            "          #params: 34.04K, #flops: 1.66M\n",
            "        )\n",
            "        (fc_v): Linear(\n",
            "          in_features=184, out_features=184, bias=True\n",
            "          #params: 34.04K, #flops: 1.66M\n",
            "        )\n",
            "        (fc_o): Linear(\n",
            "          in_features=184, out_features=184, bias=True\n",
            "          #params: 34.04K, #flops: 6.64M\n",
            "        )\n",
            "      )\n",
            "      (irffn): IRFFN(\n",
            "        #params: 0.25M, #flops: 50.39M\n",
            "        (conv1): Conv2d(\n",
            "          184, 662, kernel_size=(1, 1), stride=(1, 1)\n",
            "          #params: 0.12M, #flops: 23.87M\n",
            "        )\n",
            "        (bn1): BatchNorm2d(\n",
            "          662, eps=1e-05, momentum=0.1, affine=True, track_running_stats=True\n",
            "          #params: 1.32K, #flops: 0.65M\n",
            "        )\n",
            "        (dwconv): Conv2d(\n",
            "          662, 662, kernel_size=(3, 3), stride=(1, 1), padding=(1, 1), groups=662\n",
            "          #params: 6.62K, #flops: 1.17M\n",
            "        )\n",
            "        (bn2): BatchNorm2d(\n",
            "          662, eps=1e-05, momentum=0.1, affine=True, track_running_stats=True\n",
            "          #params: 1.32K, #flops: 0.65M\n",
            "        )\n",
            "        (conv2): Conv2d(\n",
            "          662, 184, kernel_size=(1, 1), stride=(1, 1)\n",
            "          #params: 0.12M, #flops: 23.87M\n",
            "        )\n",
            "        (bn3): BatchNorm2d(\n",
            "          184, eps=1e-05, momentum=0.1, affine=True, track_running_stats=True\n",
            "          #params: 0.37K, #flops: 0.18M\n",
            "        )\n",
            "        (gelu): GELU(approximate='none')\n",
            "      )\n",
            "    )\n",
            "    (6): CMTBlock(\n",
            "      #params: 0.43M, #flops: 71.06M\n",
            "      (lpu): LPU(\n",
            "        #params: 1.84K, #flops: 0.32M\n",
            "        (dwconv): Conv2d(\n",
            "          184, 184, kernel_size=(3, 3), stride=(1, 1), padding=(1, 1), groups=184\n",
            "          #params: 1.84K, #flops: 0.32M\n",
            "        )\n",
            "      )\n",
            "      (mhsa): LMHSA(\n",
            "        #params: 0.18M, #flops: 20.34M\n",
            "        (dwconv): Conv2d(\n",
            "          184, 184, kernel_size=(2, 2), stride=(2, 2), groups=184\n",
            "          #params: 0.92K, #flops: 72.13K\n",
            "        )\n",
            "        (fc_q): Linear(\n",
            "          in_features=184, out_features=184, bias=True\n",
            "          #params: 34.04K, #flops: 6.64M\n",
            "        )\n",
            "        (fc_k): Linear(\n",
            "          in_features=184, out_features=184, bias=True\n",
            "          #params: 34.04K, #flops: 1.66M\n",
            "        )\n",
            "        (fc_v): Linear(\n",
            "          in_features=184, out_features=184, bias=True\n",
            "          #params: 34.04K, #flops: 1.66M\n",
            "        )\n",
            "        (fc_o): Linear(\n",
            "          in_features=184, out_features=184, bias=True\n",
            "          #params: 34.04K, #flops: 6.64M\n",
            "        )\n",
            "      )\n",
            "      (irffn): IRFFN(\n",
            "        #params: 0.25M, #flops: 50.39M\n",
            "        (conv1): Conv2d(\n",
            "          184, 662, kernel_size=(1, 1), stride=(1, 1)\n",
            "          #params: 0.12M, #flops: 23.87M\n",
            "        )\n",
            "        (bn1): BatchNorm2d(\n",
            "          662, eps=1e-05, momentum=0.1, affine=True, track_running_stats=True\n",
            "          #params: 1.32K, #flops: 0.65M\n",
            "        )\n",
            "        (dwconv): Conv2d(\n",
            "          662, 662, kernel_size=(3, 3), stride=(1, 1), padding=(1, 1), groups=662\n",
            "          #params: 6.62K, #flops: 1.17M\n",
            "        )\n",
            "        (bn2): BatchNorm2d(\n",
            "          662, eps=1e-05, momentum=0.1, affine=True, track_running_stats=True\n",
            "          #params: 1.32K, #flops: 0.65M\n",
            "        )\n",
            "        (conv2): Conv2d(\n",
            "          662, 184, kernel_size=(1, 1), stride=(1, 1)\n",
            "          #params: 0.12M, #flops: 23.87M\n",
            "        )\n",
            "        (bn3): BatchNorm2d(\n",
            "          184, eps=1e-05, momentum=0.1, affine=True, track_running_stats=True\n",
            "          #params: 0.37K, #flops: 0.18M\n",
            "        )\n",
            "        (gelu): GELU(approximate='none')\n",
            "      )\n",
            "    )\n",
            "    (7): CMTBlock(\n",
            "      #params: 0.43M, #flops: 71.06M\n",
            "      (lpu): LPU(\n",
            "        #params: 1.84K, #flops: 0.32M\n",
            "        (dwconv): Conv2d(\n",
            "          184, 184, kernel_size=(3, 3), stride=(1, 1), padding=(1, 1), groups=184\n",
            "          #params: 1.84K, #flops: 0.32M\n",
            "        )\n",
            "      )\n",
            "      (mhsa): LMHSA(\n",
            "        #params: 0.18M, #flops: 20.34M\n",
            "        (dwconv): Conv2d(\n",
            "          184, 184, kernel_size=(2, 2), stride=(2, 2), groups=184\n",
            "          #params: 0.92K, #flops: 72.13K\n",
            "        )\n",
            "        (fc_q): Linear(\n",
            "          in_features=184, out_features=184, bias=True\n",
            "          #params: 34.04K, #flops: 6.64M\n",
            "        )\n",
            "        (fc_k): Linear(\n",
            "          in_features=184, out_features=184, bias=True\n",
            "          #params: 34.04K, #flops: 1.66M\n",
            "        )\n",
            "        (fc_v): Linear(\n",
            "          in_features=184, out_features=184, bias=True\n",
            "          #params: 34.04K, #flops: 1.66M\n",
            "        )\n",
            "        (fc_o): Linear(\n",
            "          in_features=184, out_features=184, bias=True\n",
            "          #params: 34.04K, #flops: 6.64M\n",
            "        )\n",
            "      )\n",
            "      (irffn): IRFFN(\n",
            "        #params: 0.25M, #flops: 50.39M\n",
            "        (conv1): Conv2d(\n",
            "          184, 662, kernel_size=(1, 1), stride=(1, 1)\n",
            "          #params: 0.12M, #flops: 23.87M\n",
            "        )\n",
            "        (bn1): BatchNorm2d(\n",
            "          662, eps=1e-05, momentum=0.1, affine=True, track_running_stats=True\n",
            "          #params: 1.32K, #flops: 0.65M\n",
            "        )\n",
            "        (dwconv): Conv2d(\n",
            "          662, 662, kernel_size=(3, 3), stride=(1, 1), padding=(1, 1), groups=662\n",
            "          #params: 6.62K, #flops: 1.17M\n",
            "        )\n",
            "        (bn2): BatchNorm2d(\n",
            "          662, eps=1e-05, momentum=0.1, affine=True, track_running_stats=True\n",
            "          #params: 1.32K, #flops: 0.65M\n",
            "        )\n",
            "        (conv2): Conv2d(\n",
            "          662, 184, kernel_size=(1, 1), stride=(1, 1)\n",
            "          #params: 0.12M, #flops: 23.87M\n",
            "        )\n",
            "        (bn3): BatchNorm2d(\n",
            "          184, eps=1e-05, momentum=0.1, affine=True, track_running_stats=True\n",
            "          #params: 0.37K, #flops: 0.18M\n",
            "        )\n",
            "        (gelu): GELU(approximate='none')\n",
            "      )\n",
            "    )\n",
            "    (8): CMTBlock(\n",
            "      #params: 0.43M, #flops: 71.06M\n",
            "      (lpu): LPU(\n",
            "        #params: 1.84K, #flops: 0.32M\n",
            "        (dwconv): Conv2d(\n",
            "          184, 184, kernel_size=(3, 3), stride=(1, 1), padding=(1, 1), groups=184\n",
            "          #params: 1.84K, #flops: 0.32M\n",
            "        )\n",
            "      )\n",
            "      (mhsa): LMHSA(\n",
            "        #params: 0.18M, #flops: 20.34M\n",
            "        (dwconv): Conv2d(\n",
            "          184, 184, kernel_size=(2, 2), stride=(2, 2), groups=184\n",
            "          #params: 0.92K, #flops: 72.13K\n",
            "        )\n",
            "        (fc_q): Linear(\n",
            "          in_features=184, out_features=184, bias=True\n",
            "          #params: 34.04K, #flops: 6.64M\n",
            "        )\n",
            "        (fc_k): Linear(\n",
            "          in_features=184, out_features=184, bias=True\n",
            "          #params: 34.04K, #flops: 1.66M\n",
            "        )\n",
            "        (fc_v): Linear(\n",
            "          in_features=184, out_features=184, bias=True\n",
            "          #params: 34.04K, #flops: 1.66M\n",
            "        )\n",
            "        (fc_o): Linear(\n",
            "          in_features=184, out_features=184, bias=True\n",
            "          #params: 34.04K, #flops: 6.64M\n",
            "        )\n",
            "      )\n",
            "      (irffn): IRFFN(\n",
            "        #params: 0.25M, #flops: 50.39M\n",
            "        (conv1): Conv2d(\n",
            "          184, 662, kernel_size=(1, 1), stride=(1, 1)\n",
            "          #params: 0.12M, #flops: 23.87M\n",
            "        )\n",
            "        (bn1): BatchNorm2d(\n",
            "          662, eps=1e-05, momentum=0.1, affine=True, track_running_stats=True\n",
            "          #params: 1.32K, #flops: 0.65M\n",
            "        )\n",
            "        (dwconv): Conv2d(\n",
            "          662, 662, kernel_size=(3, 3), stride=(1, 1), padding=(1, 1), groups=662\n",
            "          #params: 6.62K, #flops: 1.17M\n",
            "        )\n",
            "        (bn2): BatchNorm2d(\n",
            "          662, eps=1e-05, momentum=0.1, affine=True, track_running_stats=True\n",
            "          #params: 1.32K, #flops: 0.65M\n",
            "        )\n",
            "        (conv2): Conv2d(\n",
            "          662, 184, kernel_size=(1, 1), stride=(1, 1)\n",
            "          #params: 0.12M, #flops: 23.87M\n",
            "        )\n",
            "        (bn3): BatchNorm2d(\n",
            "          184, eps=1e-05, momentum=0.1, affine=True, track_running_stats=True\n",
            "          #params: 0.37K, #flops: 0.18M\n",
            "        )\n",
            "        (gelu): GELU(approximate='none')\n",
            "      )\n",
            "    )\n",
            "    (9): CMTBlock(\n",
            "      #params: 0.43M, #flops: 71.06M\n",
            "      (lpu): LPU(\n",
            "        #params: 1.84K, #flops: 0.32M\n",
            "        (dwconv): Conv2d(\n",
            "          184, 184, kernel_size=(3, 3), stride=(1, 1), padding=(1, 1), groups=184\n",
            "          #params: 1.84K, #flops: 0.32M\n",
            "        )\n",
            "      )\n",
            "      (mhsa): LMHSA(\n",
            "        #params: 0.18M, #flops: 20.34M\n",
            "        (dwconv): Conv2d(\n",
            "          184, 184, kernel_size=(2, 2), stride=(2, 2), groups=184\n",
            "          #params: 0.92K, #flops: 72.13K\n",
            "        )\n",
            "        (fc_q): Linear(\n",
            "          in_features=184, out_features=184, bias=True\n",
            "          #params: 34.04K, #flops: 6.64M\n",
            "        )\n",
            "        (fc_k): Linear(\n",
            "          in_features=184, out_features=184, bias=True\n",
            "          #params: 34.04K, #flops: 1.66M\n",
            "        )\n",
            "        (fc_v): Linear(\n",
            "          in_features=184, out_features=184, bias=True\n",
            "          #params: 34.04K, #flops: 1.66M\n",
            "        )\n",
            "        (fc_o): Linear(\n",
            "          in_features=184, out_features=184, bias=True\n",
            "          #params: 34.04K, #flops: 6.64M\n",
            "        )\n",
            "      )\n",
            "      (irffn): IRFFN(\n",
            "        #params: 0.25M, #flops: 50.39M\n",
            "        (conv1): Conv2d(\n",
            "          184, 662, kernel_size=(1, 1), stride=(1, 1)\n",
            "          #params: 0.12M, #flops: 23.87M\n",
            "        )\n",
            "        (bn1): BatchNorm2d(\n",
            "          662, eps=1e-05, momentum=0.1, affine=True, track_running_stats=True\n",
            "          #params: 1.32K, #flops: 0.65M\n",
            "        )\n",
            "        (dwconv): Conv2d(\n",
            "          662, 662, kernel_size=(3, 3), stride=(1, 1), padding=(1, 1), groups=662\n",
            "          #params: 6.62K, #flops: 1.17M\n",
            "        )\n",
            "        (bn2): BatchNorm2d(\n",
            "          662, eps=1e-05, momentum=0.1, affine=True, track_running_stats=True\n",
            "          #params: 1.32K, #flops: 0.65M\n",
            "        )\n",
            "        (conv2): Conv2d(\n",
            "          662, 184, kernel_size=(1, 1), stride=(1, 1)\n",
            "          #params: 0.12M, #flops: 23.87M\n",
            "        )\n",
            "        (bn3): BatchNorm2d(\n",
            "          184, eps=1e-05, momentum=0.1, affine=True, track_running_stats=True\n",
            "          #params: 0.37K, #flops: 0.18M\n",
            "        )\n",
            "        (gelu): GELU(approximate='none')\n",
            "      )\n",
            "    )\n",
            "  )\n",
            "  (stage4): Sequential(\n",
            "    #params: 3.12M, #flops: 0.16G\n",
            "    (0): CMTBlock(\n",
            "      #params: 1.56M, #flops: 77.65M\n",
            "      (lpu): LPU(\n",
            "        #params: 3.68K, #flops: 0.16M\n",
            "        (dwconv): Conv2d(\n",
            "          368, 368, kernel_size=(3, 3), stride=(1, 1), padding=(1, 1), groups=368\n",
            "          #params: 3.68K, #flops: 0.16M\n",
            "        )\n",
            "      )\n",
            "      (mhsa): LMHSA(\n",
            "        #params: 0.56M, #flops: 28.42M\n",
            "        (dwconv): Conv2d(\n",
            "          368, 368, kernel_size=(1, 1), stride=(1, 1), groups=368\n",
            "          #params: 0.74K, #flops: 36.06K\n",
            "        )\n",
            "        (fc_q): Linear(\n",
            "          in_features=368, out_features=368, bias=True\n",
            "          #params: 0.14M, #flops: 6.64M\n",
            "        )\n",
            "        (fc_k): Linear(\n",
            "          in_features=368, out_features=368, bias=True\n",
            "          #params: 0.14M, #flops: 6.64M\n",
            "        )\n",
            "        (fc_v): Linear(\n",
            "          in_features=368, out_features=368, bias=True\n",
            "          #params: 0.14M, #flops: 6.64M\n",
            "        )\n",
            "        (fc_o): Linear(\n",
            "          in_features=368, out_features=368, bias=True\n",
            "          #params: 0.14M, #flops: 6.64M\n",
            "        )\n",
            "      )\n",
            "      (irffn): IRFFN(\n",
            "        #params: 1M, #flops: 49.07M\n",
            "        (conv1): Conv2d(\n",
            "          368, 1324, kernel_size=(1, 1), stride=(1, 1)\n",
            "          #params: 0.49M, #flops: 23.87M\n",
            "        )\n",
            "        (bn1): BatchNorm2d(\n",
            "          1324, eps=1e-05, momentum=0.1, affine=True, track_running_stats=True\n",
            "          #params: 2.65K, #flops: 0.32M\n",
            "        )\n",
            "        (dwconv): Conv2d(\n",
            "          1324, 1324, kernel_size=(3, 3), stride=(1, 1), padding=(1, 1), groups=1324\n",
            "          #params: 13.24K, #flops: 0.58M\n",
            "        )\n",
            "        (bn2): BatchNorm2d(\n",
            "          1324, eps=1e-05, momentum=0.1, affine=True, track_running_stats=True\n",
            "          #params: 2.65K, #flops: 0.32M\n",
            "        )\n",
            "        (conv2): Conv2d(\n",
            "          1324, 368, kernel_size=(1, 1), stride=(1, 1)\n",
            "          #params: 0.49M, #flops: 23.87M\n",
            "        )\n",
            "        (bn3): BatchNorm2d(\n",
            "          368, eps=1e-05, momentum=0.1, affine=True, track_running_stats=True\n",
            "          #params: 0.74K, #flops: 90.16K\n",
            "        )\n",
            "        (gelu): GELU(approximate='none')\n",
            "      )\n",
            "    )\n",
            "    (1): CMTBlock(\n",
            "      #params: 1.56M, #flops: 77.65M\n",
            "      (lpu): LPU(\n",
            "        #params: 3.68K, #flops: 0.16M\n",
            "        (dwconv): Conv2d(\n",
            "          368, 368, kernel_size=(3, 3), stride=(1, 1), padding=(1, 1), groups=368\n",
            "          #params: 3.68K, #flops: 0.16M\n",
            "        )\n",
            "      )\n",
            "      (mhsa): LMHSA(\n",
            "        #params: 0.56M, #flops: 28.42M\n",
            "        (dwconv): Conv2d(\n",
            "          368, 368, kernel_size=(1, 1), stride=(1, 1), groups=368\n",
            "          #params: 0.74K, #flops: 36.06K\n",
            "        )\n",
            "        (fc_q): Linear(\n",
            "          in_features=368, out_features=368, bias=True\n",
            "          #params: 0.14M, #flops: 6.64M\n",
            "        )\n",
            "        (fc_k): Linear(\n",
            "          in_features=368, out_features=368, bias=True\n",
            "          #params: 0.14M, #flops: 6.64M\n",
            "        )\n",
            "        (fc_v): Linear(\n",
            "          in_features=368, out_features=368, bias=True\n",
            "          #params: 0.14M, #flops: 6.64M\n",
            "        )\n",
            "        (fc_o): Linear(\n",
            "          in_features=368, out_features=368, bias=True\n",
            "          #params: 0.14M, #flops: 6.64M\n",
            "        )\n",
            "      )\n",
            "      (irffn): IRFFN(\n",
            "        #params: 1M, #flops: 49.07M\n",
            "        (conv1): Conv2d(\n",
            "          368, 1324, kernel_size=(1, 1), stride=(1, 1)\n",
            "          #params: 0.49M, #flops: 23.87M\n",
            "        )\n",
            "        (bn1): BatchNorm2d(\n",
            "          1324, eps=1e-05, momentum=0.1, affine=True, track_running_stats=True\n",
            "          #params: 2.65K, #flops: 0.32M\n",
            "        )\n",
            "        (dwconv): Conv2d(\n",
            "          1324, 1324, kernel_size=(3, 3), stride=(1, 1), padding=(1, 1), groups=1324\n",
            "          #params: 13.24K, #flops: 0.58M\n",
            "        )\n",
            "        (bn2): BatchNorm2d(\n",
            "          1324, eps=1e-05, momentum=0.1, affine=True, track_running_stats=True\n",
            "          #params: 2.65K, #flops: 0.32M\n",
            "        )\n",
            "        (conv2): Conv2d(\n",
            "          1324, 368, kernel_size=(1, 1), stride=(1, 1)\n",
            "          #params: 0.49M, #flops: 23.87M\n",
            "        )\n",
            "        (bn3): BatchNorm2d(\n",
            "          368, eps=1e-05, momentum=0.1, affine=True, track_running_stats=True\n",
            "          #params: 0.74K, #flops: 90.16K\n",
            "        )\n",
            "        (gelu): GELU(approximate='none')\n",
            "      )\n",
            "    )\n",
            "  )\n",
            "  (avg_pool): AdaptiveAvgPool2d(\n",
            "    output_size=1\n",
            "    #params: 0, #flops: 18.03K\n",
            "  )\n",
            "  (projection): Sequential(\n",
            "    #params: 0.47M, #flops: 0.47M\n",
            "    (0): Conv2d(\n",
            "      368, 1280, kernel_size=(1, 1), stride=(1, 1)\n",
            "      #params: 0.47M, #flops: 0.47M\n",
            "    )\n",
            "    (1): ReLU(inplace=True)\n",
            "  )\n",
            "  (classifier): Linear(\n",
            "    in_features=1280, out_features=10, bias=True\n",
            "    #params: 12.81K, #flops: 12.8K\n",
            "  )\n",
            ")\n"
          ]
        }
      ]
    },
    {
      "cell_type": "code",
      "source": [
        "# Loading model to device.\n",
        "m_1.to(device)"
      ],
      "metadata": {
        "id": "5JqbvDNn1caw",
        "colab": {
          "base_uri": "https://localhost:8080/"
        },
        "outputId": "8bbcdf6b-9743-4ebb-a421-bd23d5368184"
      },
      "execution_count": null,
      "outputs": [
        {
          "output_type": "execute_result",
          "data": {
            "text/plain": [
              "CMT(\n",
              "  (stem): Stem(\n",
              "    (conv1): Conv2d(3, 16, kernel_size=(3, 3), stride=(2, 2), padding=(1, 1))\n",
              "    (bn1): BatchNorm2d(16, eps=1e-05, momentum=0.1, affine=True, track_running_stats=True)\n",
              "    (conv2): Conv2d(16, 16, kernel_size=(3, 3), stride=(1, 1), padding=(1, 1))\n",
              "    (bn2): BatchNorm2d(16, eps=1e-05, momentum=0.1, affine=True, track_running_stats=True)\n",
              "    (conv3): Conv2d(16, 16, kernel_size=(3, 3), stride=(1, 1), padding=(1, 1))\n",
              "    (bn3): BatchNorm2d(16, eps=1e-05, momentum=0.1, affine=True, track_running_stats=True)\n",
              "    (gelu): GELU(approximate='none')\n",
              "  )\n",
              "  (pe1): PatchEmbedding(\n",
              "    (conv): Conv2d(16, 46, kernel_size=(2, 2), stride=(2, 2))\n",
              "  )\n",
              "  (pe2): PatchEmbedding(\n",
              "    (conv): Conv2d(46, 92, kernel_size=(2, 2), stride=(2, 2))\n",
              "  )\n",
              "  (pe3): PatchEmbedding(\n",
              "    (conv): Conv2d(92, 184, kernel_size=(2, 2), stride=(2, 2))\n",
              "  )\n",
              "  (pe4): PatchEmbedding(\n",
              "    (conv): Conv2d(184, 368, kernel_size=(2, 2), stride=(2, 2))\n",
              "  )\n",
              "  (stage1): Sequential(\n",
              "    (0): CMTBlock(\n",
              "      (lpu): LPU(\n",
              "        (dwconv): Conv2d(46, 46, kernel_size=(3, 3), stride=(1, 1), padding=(1, 1), groups=46)\n",
              "      )\n",
              "      (mhsa): LMHSA(\n",
              "        (dwconv): Conv2d(46, 46, kernel_size=(8, 8), stride=(8, 8), groups=46)\n",
              "        (fc_q): Linear(in_features=46, out_features=46, bias=True)\n",
              "        (fc_k): Linear(in_features=46, out_features=46, bias=True)\n",
              "        (fc_v): Linear(in_features=46, out_features=46, bias=True)\n",
              "        (fc_o): Linear(in_features=46, out_features=46, bias=True)\n",
              "      )\n",
              "      (irffn): IRFFN(\n",
              "        (conv1): Conv2d(46, 165, kernel_size=(1, 1), stride=(1, 1))\n",
              "        (bn1): BatchNorm2d(165, eps=1e-05, momentum=0.1, affine=True, track_running_stats=True)\n",
              "        (dwconv): Conv2d(165, 165, kernel_size=(3, 3), stride=(1, 1), padding=(1, 1), groups=165)\n",
              "        (bn2): BatchNorm2d(165, eps=1e-05, momentum=0.1, affine=True, track_running_stats=True)\n",
              "        (conv2): Conv2d(165, 46, kernel_size=(1, 1), stride=(1, 1))\n",
              "        (bn3): BatchNorm2d(46, eps=1e-05, momentum=0.1, affine=True, track_running_stats=True)\n",
              "        (gelu): GELU(approximate='none')\n",
              "      )\n",
              "    )\n",
              "    (1): CMTBlock(\n",
              "      (lpu): LPU(\n",
              "        (dwconv): Conv2d(46, 46, kernel_size=(3, 3), stride=(1, 1), padding=(1, 1), groups=46)\n",
              "      )\n",
              "      (mhsa): LMHSA(\n",
              "        (dwconv): Conv2d(46, 46, kernel_size=(8, 8), stride=(8, 8), groups=46)\n",
              "        (fc_q): Linear(in_features=46, out_features=46, bias=True)\n",
              "        (fc_k): Linear(in_features=46, out_features=46, bias=True)\n",
              "        (fc_v): Linear(in_features=46, out_features=46, bias=True)\n",
              "        (fc_o): Linear(in_features=46, out_features=46, bias=True)\n",
              "      )\n",
              "      (irffn): IRFFN(\n",
              "        (conv1): Conv2d(46, 165, kernel_size=(1, 1), stride=(1, 1))\n",
              "        (bn1): BatchNorm2d(165, eps=1e-05, momentum=0.1, affine=True, track_running_stats=True)\n",
              "        (dwconv): Conv2d(165, 165, kernel_size=(3, 3), stride=(1, 1), padding=(1, 1), groups=165)\n",
              "        (bn2): BatchNorm2d(165, eps=1e-05, momentum=0.1, affine=True, track_running_stats=True)\n",
              "        (conv2): Conv2d(165, 46, kernel_size=(1, 1), stride=(1, 1))\n",
              "        (bn3): BatchNorm2d(46, eps=1e-05, momentum=0.1, affine=True, track_running_stats=True)\n",
              "        (gelu): GELU(approximate='none')\n",
              "      )\n",
              "    )\n",
              "  )\n",
              "  (stage2): Sequential(\n",
              "    (0): CMTBlock(\n",
              "      (lpu): LPU(\n",
              "        (dwconv): Conv2d(92, 92, kernel_size=(3, 3), stride=(1, 1), padding=(1, 1), groups=92)\n",
              "      )\n",
              "      (mhsa): LMHSA(\n",
              "        (dwconv): Conv2d(92, 92, kernel_size=(4, 4), stride=(4, 4), groups=92)\n",
              "        (fc_q): Linear(in_features=92, out_features=92, bias=True)\n",
              "        (fc_k): Linear(in_features=92, out_features=92, bias=True)\n",
              "        (fc_v): Linear(in_features=92, out_features=92, bias=True)\n",
              "        (fc_o): Linear(in_features=92, out_features=92, bias=True)\n",
              "      )\n",
              "      (irffn): IRFFN(\n",
              "        (conv1): Conv2d(92, 331, kernel_size=(1, 1), stride=(1, 1))\n",
              "        (bn1): BatchNorm2d(331, eps=1e-05, momentum=0.1, affine=True, track_running_stats=True)\n",
              "        (dwconv): Conv2d(331, 331, kernel_size=(3, 3), stride=(1, 1), padding=(1, 1), groups=331)\n",
              "        (bn2): BatchNorm2d(331, eps=1e-05, momentum=0.1, affine=True, track_running_stats=True)\n",
              "        (conv2): Conv2d(331, 92, kernel_size=(1, 1), stride=(1, 1))\n",
              "        (bn3): BatchNorm2d(92, eps=1e-05, momentum=0.1, affine=True, track_running_stats=True)\n",
              "        (gelu): GELU(approximate='none')\n",
              "      )\n",
              "    )\n",
              "    (1): CMTBlock(\n",
              "      (lpu): LPU(\n",
              "        (dwconv): Conv2d(92, 92, kernel_size=(3, 3), stride=(1, 1), padding=(1, 1), groups=92)\n",
              "      )\n",
              "      (mhsa): LMHSA(\n",
              "        (dwconv): Conv2d(92, 92, kernel_size=(4, 4), stride=(4, 4), groups=92)\n",
              "        (fc_q): Linear(in_features=92, out_features=92, bias=True)\n",
              "        (fc_k): Linear(in_features=92, out_features=92, bias=True)\n",
              "        (fc_v): Linear(in_features=92, out_features=92, bias=True)\n",
              "        (fc_o): Linear(in_features=92, out_features=92, bias=True)\n",
              "      )\n",
              "      (irffn): IRFFN(\n",
              "        (conv1): Conv2d(92, 331, kernel_size=(1, 1), stride=(1, 1))\n",
              "        (bn1): BatchNorm2d(331, eps=1e-05, momentum=0.1, affine=True, track_running_stats=True)\n",
              "        (dwconv): Conv2d(331, 331, kernel_size=(3, 3), stride=(1, 1), padding=(1, 1), groups=331)\n",
              "        (bn2): BatchNorm2d(331, eps=1e-05, momentum=0.1, affine=True, track_running_stats=True)\n",
              "        (conv2): Conv2d(331, 92, kernel_size=(1, 1), stride=(1, 1))\n",
              "        (bn3): BatchNorm2d(92, eps=1e-05, momentum=0.1, affine=True, track_running_stats=True)\n",
              "        (gelu): GELU(approximate='none')\n",
              "      )\n",
              "    )\n",
              "  )\n",
              "  (stage3): Sequential(\n",
              "    (0): CMTBlock(\n",
              "      (lpu): LPU(\n",
              "        (dwconv): Conv2d(184, 184, kernel_size=(3, 3), stride=(1, 1), padding=(1, 1), groups=184)\n",
              "      )\n",
              "      (mhsa): LMHSA(\n",
              "        (dwconv): Conv2d(184, 184, kernel_size=(2, 2), stride=(2, 2), groups=184)\n",
              "        (fc_q): Linear(in_features=184, out_features=184, bias=True)\n",
              "        (fc_k): Linear(in_features=184, out_features=184, bias=True)\n",
              "        (fc_v): Linear(in_features=184, out_features=184, bias=True)\n",
              "        (fc_o): Linear(in_features=184, out_features=184, bias=True)\n",
              "      )\n",
              "      (irffn): IRFFN(\n",
              "        (conv1): Conv2d(184, 662, kernel_size=(1, 1), stride=(1, 1))\n",
              "        (bn1): BatchNorm2d(662, eps=1e-05, momentum=0.1, affine=True, track_running_stats=True)\n",
              "        (dwconv): Conv2d(662, 662, kernel_size=(3, 3), stride=(1, 1), padding=(1, 1), groups=662)\n",
              "        (bn2): BatchNorm2d(662, eps=1e-05, momentum=0.1, affine=True, track_running_stats=True)\n",
              "        (conv2): Conv2d(662, 184, kernel_size=(1, 1), stride=(1, 1))\n",
              "        (bn3): BatchNorm2d(184, eps=1e-05, momentum=0.1, affine=True, track_running_stats=True)\n",
              "        (gelu): GELU(approximate='none')\n",
              "      )\n",
              "    )\n",
              "    (1): CMTBlock(\n",
              "      (lpu): LPU(\n",
              "        (dwconv): Conv2d(184, 184, kernel_size=(3, 3), stride=(1, 1), padding=(1, 1), groups=184)\n",
              "      )\n",
              "      (mhsa): LMHSA(\n",
              "        (dwconv): Conv2d(184, 184, kernel_size=(2, 2), stride=(2, 2), groups=184)\n",
              "        (fc_q): Linear(in_features=184, out_features=184, bias=True)\n",
              "        (fc_k): Linear(in_features=184, out_features=184, bias=True)\n",
              "        (fc_v): Linear(in_features=184, out_features=184, bias=True)\n",
              "        (fc_o): Linear(in_features=184, out_features=184, bias=True)\n",
              "      )\n",
              "      (irffn): IRFFN(\n",
              "        (conv1): Conv2d(184, 662, kernel_size=(1, 1), stride=(1, 1))\n",
              "        (bn1): BatchNorm2d(662, eps=1e-05, momentum=0.1, affine=True, track_running_stats=True)\n",
              "        (dwconv): Conv2d(662, 662, kernel_size=(3, 3), stride=(1, 1), padding=(1, 1), groups=662)\n",
              "        (bn2): BatchNorm2d(662, eps=1e-05, momentum=0.1, affine=True, track_running_stats=True)\n",
              "        (conv2): Conv2d(662, 184, kernel_size=(1, 1), stride=(1, 1))\n",
              "        (bn3): BatchNorm2d(184, eps=1e-05, momentum=0.1, affine=True, track_running_stats=True)\n",
              "        (gelu): GELU(approximate='none')\n",
              "      )\n",
              "    )\n",
              "    (2): CMTBlock(\n",
              "      (lpu): LPU(\n",
              "        (dwconv): Conv2d(184, 184, kernel_size=(3, 3), stride=(1, 1), padding=(1, 1), groups=184)\n",
              "      )\n",
              "      (mhsa): LMHSA(\n",
              "        (dwconv): Conv2d(184, 184, kernel_size=(2, 2), stride=(2, 2), groups=184)\n",
              "        (fc_q): Linear(in_features=184, out_features=184, bias=True)\n",
              "        (fc_k): Linear(in_features=184, out_features=184, bias=True)\n",
              "        (fc_v): Linear(in_features=184, out_features=184, bias=True)\n",
              "        (fc_o): Linear(in_features=184, out_features=184, bias=True)\n",
              "      )\n",
              "      (irffn): IRFFN(\n",
              "        (conv1): Conv2d(184, 662, kernel_size=(1, 1), stride=(1, 1))\n",
              "        (bn1): BatchNorm2d(662, eps=1e-05, momentum=0.1, affine=True, track_running_stats=True)\n",
              "        (dwconv): Conv2d(662, 662, kernel_size=(3, 3), stride=(1, 1), padding=(1, 1), groups=662)\n",
              "        (bn2): BatchNorm2d(662, eps=1e-05, momentum=0.1, affine=True, track_running_stats=True)\n",
              "        (conv2): Conv2d(662, 184, kernel_size=(1, 1), stride=(1, 1))\n",
              "        (bn3): BatchNorm2d(184, eps=1e-05, momentum=0.1, affine=True, track_running_stats=True)\n",
              "        (gelu): GELU(approximate='none')\n",
              "      )\n",
              "    )\n",
              "    (3): CMTBlock(\n",
              "      (lpu): LPU(\n",
              "        (dwconv): Conv2d(184, 184, kernel_size=(3, 3), stride=(1, 1), padding=(1, 1), groups=184)\n",
              "      )\n",
              "      (mhsa): LMHSA(\n",
              "        (dwconv): Conv2d(184, 184, kernel_size=(2, 2), stride=(2, 2), groups=184)\n",
              "        (fc_q): Linear(in_features=184, out_features=184, bias=True)\n",
              "        (fc_k): Linear(in_features=184, out_features=184, bias=True)\n",
              "        (fc_v): Linear(in_features=184, out_features=184, bias=True)\n",
              "        (fc_o): Linear(in_features=184, out_features=184, bias=True)\n",
              "      )\n",
              "      (irffn): IRFFN(\n",
              "        (conv1): Conv2d(184, 662, kernel_size=(1, 1), stride=(1, 1))\n",
              "        (bn1): BatchNorm2d(662, eps=1e-05, momentum=0.1, affine=True, track_running_stats=True)\n",
              "        (dwconv): Conv2d(662, 662, kernel_size=(3, 3), stride=(1, 1), padding=(1, 1), groups=662)\n",
              "        (bn2): BatchNorm2d(662, eps=1e-05, momentum=0.1, affine=True, track_running_stats=True)\n",
              "        (conv2): Conv2d(662, 184, kernel_size=(1, 1), stride=(1, 1))\n",
              "        (bn3): BatchNorm2d(184, eps=1e-05, momentum=0.1, affine=True, track_running_stats=True)\n",
              "        (gelu): GELU(approximate='none')\n",
              "      )\n",
              "    )\n",
              "    (4): CMTBlock(\n",
              "      (lpu): LPU(\n",
              "        (dwconv): Conv2d(184, 184, kernel_size=(3, 3), stride=(1, 1), padding=(1, 1), groups=184)\n",
              "      )\n",
              "      (mhsa): LMHSA(\n",
              "        (dwconv): Conv2d(184, 184, kernel_size=(2, 2), stride=(2, 2), groups=184)\n",
              "        (fc_q): Linear(in_features=184, out_features=184, bias=True)\n",
              "        (fc_k): Linear(in_features=184, out_features=184, bias=True)\n",
              "        (fc_v): Linear(in_features=184, out_features=184, bias=True)\n",
              "        (fc_o): Linear(in_features=184, out_features=184, bias=True)\n",
              "      )\n",
              "      (irffn): IRFFN(\n",
              "        (conv1): Conv2d(184, 662, kernel_size=(1, 1), stride=(1, 1))\n",
              "        (bn1): BatchNorm2d(662, eps=1e-05, momentum=0.1, affine=True, track_running_stats=True)\n",
              "        (dwconv): Conv2d(662, 662, kernel_size=(3, 3), stride=(1, 1), padding=(1, 1), groups=662)\n",
              "        (bn2): BatchNorm2d(662, eps=1e-05, momentum=0.1, affine=True, track_running_stats=True)\n",
              "        (conv2): Conv2d(662, 184, kernel_size=(1, 1), stride=(1, 1))\n",
              "        (bn3): BatchNorm2d(184, eps=1e-05, momentum=0.1, affine=True, track_running_stats=True)\n",
              "        (gelu): GELU(approximate='none')\n",
              "      )\n",
              "    )\n",
              "    (5): CMTBlock(\n",
              "      (lpu): LPU(\n",
              "        (dwconv): Conv2d(184, 184, kernel_size=(3, 3), stride=(1, 1), padding=(1, 1), groups=184)\n",
              "      )\n",
              "      (mhsa): LMHSA(\n",
              "        (dwconv): Conv2d(184, 184, kernel_size=(2, 2), stride=(2, 2), groups=184)\n",
              "        (fc_q): Linear(in_features=184, out_features=184, bias=True)\n",
              "        (fc_k): Linear(in_features=184, out_features=184, bias=True)\n",
              "        (fc_v): Linear(in_features=184, out_features=184, bias=True)\n",
              "        (fc_o): Linear(in_features=184, out_features=184, bias=True)\n",
              "      )\n",
              "      (irffn): IRFFN(\n",
              "        (conv1): Conv2d(184, 662, kernel_size=(1, 1), stride=(1, 1))\n",
              "        (bn1): BatchNorm2d(662, eps=1e-05, momentum=0.1, affine=True, track_running_stats=True)\n",
              "        (dwconv): Conv2d(662, 662, kernel_size=(3, 3), stride=(1, 1), padding=(1, 1), groups=662)\n",
              "        (bn2): BatchNorm2d(662, eps=1e-05, momentum=0.1, affine=True, track_running_stats=True)\n",
              "        (conv2): Conv2d(662, 184, kernel_size=(1, 1), stride=(1, 1))\n",
              "        (bn3): BatchNorm2d(184, eps=1e-05, momentum=0.1, affine=True, track_running_stats=True)\n",
              "        (gelu): GELU(approximate='none')\n",
              "      )\n",
              "    )\n",
              "    (6): CMTBlock(\n",
              "      (lpu): LPU(\n",
              "        (dwconv): Conv2d(184, 184, kernel_size=(3, 3), stride=(1, 1), padding=(1, 1), groups=184)\n",
              "      )\n",
              "      (mhsa): LMHSA(\n",
              "        (dwconv): Conv2d(184, 184, kernel_size=(2, 2), stride=(2, 2), groups=184)\n",
              "        (fc_q): Linear(in_features=184, out_features=184, bias=True)\n",
              "        (fc_k): Linear(in_features=184, out_features=184, bias=True)\n",
              "        (fc_v): Linear(in_features=184, out_features=184, bias=True)\n",
              "        (fc_o): Linear(in_features=184, out_features=184, bias=True)\n",
              "      )\n",
              "      (irffn): IRFFN(\n",
              "        (conv1): Conv2d(184, 662, kernel_size=(1, 1), stride=(1, 1))\n",
              "        (bn1): BatchNorm2d(662, eps=1e-05, momentum=0.1, affine=True, track_running_stats=True)\n",
              "        (dwconv): Conv2d(662, 662, kernel_size=(3, 3), stride=(1, 1), padding=(1, 1), groups=662)\n",
              "        (bn2): BatchNorm2d(662, eps=1e-05, momentum=0.1, affine=True, track_running_stats=True)\n",
              "        (conv2): Conv2d(662, 184, kernel_size=(1, 1), stride=(1, 1))\n",
              "        (bn3): BatchNorm2d(184, eps=1e-05, momentum=0.1, affine=True, track_running_stats=True)\n",
              "        (gelu): GELU(approximate='none')\n",
              "      )\n",
              "    )\n",
              "    (7): CMTBlock(\n",
              "      (lpu): LPU(\n",
              "        (dwconv): Conv2d(184, 184, kernel_size=(3, 3), stride=(1, 1), padding=(1, 1), groups=184)\n",
              "      )\n",
              "      (mhsa): LMHSA(\n",
              "        (dwconv): Conv2d(184, 184, kernel_size=(2, 2), stride=(2, 2), groups=184)\n",
              "        (fc_q): Linear(in_features=184, out_features=184, bias=True)\n",
              "        (fc_k): Linear(in_features=184, out_features=184, bias=True)\n",
              "        (fc_v): Linear(in_features=184, out_features=184, bias=True)\n",
              "        (fc_o): Linear(in_features=184, out_features=184, bias=True)\n",
              "      )\n",
              "      (irffn): IRFFN(\n",
              "        (conv1): Conv2d(184, 662, kernel_size=(1, 1), stride=(1, 1))\n",
              "        (bn1): BatchNorm2d(662, eps=1e-05, momentum=0.1, affine=True, track_running_stats=True)\n",
              "        (dwconv): Conv2d(662, 662, kernel_size=(3, 3), stride=(1, 1), padding=(1, 1), groups=662)\n",
              "        (bn2): BatchNorm2d(662, eps=1e-05, momentum=0.1, affine=True, track_running_stats=True)\n",
              "        (conv2): Conv2d(662, 184, kernel_size=(1, 1), stride=(1, 1))\n",
              "        (bn3): BatchNorm2d(184, eps=1e-05, momentum=0.1, affine=True, track_running_stats=True)\n",
              "        (gelu): GELU(approximate='none')\n",
              "      )\n",
              "    )\n",
              "    (8): CMTBlock(\n",
              "      (lpu): LPU(\n",
              "        (dwconv): Conv2d(184, 184, kernel_size=(3, 3), stride=(1, 1), padding=(1, 1), groups=184)\n",
              "      )\n",
              "      (mhsa): LMHSA(\n",
              "        (dwconv): Conv2d(184, 184, kernel_size=(2, 2), stride=(2, 2), groups=184)\n",
              "        (fc_q): Linear(in_features=184, out_features=184, bias=True)\n",
              "        (fc_k): Linear(in_features=184, out_features=184, bias=True)\n",
              "        (fc_v): Linear(in_features=184, out_features=184, bias=True)\n",
              "        (fc_o): Linear(in_features=184, out_features=184, bias=True)\n",
              "      )\n",
              "      (irffn): IRFFN(\n",
              "        (conv1): Conv2d(184, 662, kernel_size=(1, 1), stride=(1, 1))\n",
              "        (bn1): BatchNorm2d(662, eps=1e-05, momentum=0.1, affine=True, track_running_stats=True)\n",
              "        (dwconv): Conv2d(662, 662, kernel_size=(3, 3), stride=(1, 1), padding=(1, 1), groups=662)\n",
              "        (bn2): BatchNorm2d(662, eps=1e-05, momentum=0.1, affine=True, track_running_stats=True)\n",
              "        (conv2): Conv2d(662, 184, kernel_size=(1, 1), stride=(1, 1))\n",
              "        (bn3): BatchNorm2d(184, eps=1e-05, momentum=0.1, affine=True, track_running_stats=True)\n",
              "        (gelu): GELU(approximate='none')\n",
              "      )\n",
              "    )\n",
              "    (9): CMTBlock(\n",
              "      (lpu): LPU(\n",
              "        (dwconv): Conv2d(184, 184, kernel_size=(3, 3), stride=(1, 1), padding=(1, 1), groups=184)\n",
              "      )\n",
              "      (mhsa): LMHSA(\n",
              "        (dwconv): Conv2d(184, 184, kernel_size=(2, 2), stride=(2, 2), groups=184)\n",
              "        (fc_q): Linear(in_features=184, out_features=184, bias=True)\n",
              "        (fc_k): Linear(in_features=184, out_features=184, bias=True)\n",
              "        (fc_v): Linear(in_features=184, out_features=184, bias=True)\n",
              "        (fc_o): Linear(in_features=184, out_features=184, bias=True)\n",
              "      )\n",
              "      (irffn): IRFFN(\n",
              "        (conv1): Conv2d(184, 662, kernel_size=(1, 1), stride=(1, 1))\n",
              "        (bn1): BatchNorm2d(662, eps=1e-05, momentum=0.1, affine=True, track_running_stats=True)\n",
              "        (dwconv): Conv2d(662, 662, kernel_size=(3, 3), stride=(1, 1), padding=(1, 1), groups=662)\n",
              "        (bn2): BatchNorm2d(662, eps=1e-05, momentum=0.1, affine=True, track_running_stats=True)\n",
              "        (conv2): Conv2d(662, 184, kernel_size=(1, 1), stride=(1, 1))\n",
              "        (bn3): BatchNorm2d(184, eps=1e-05, momentum=0.1, affine=True, track_running_stats=True)\n",
              "        (gelu): GELU(approximate='none')\n",
              "      )\n",
              "    )\n",
              "  )\n",
              "  (stage4): Sequential(\n",
              "    (0): CMTBlock(\n",
              "      (lpu): LPU(\n",
              "        (dwconv): Conv2d(368, 368, kernel_size=(3, 3), stride=(1, 1), padding=(1, 1), groups=368)\n",
              "      )\n",
              "      (mhsa): LMHSA(\n",
              "        (dwconv): Conv2d(368, 368, kernel_size=(1, 1), stride=(1, 1), groups=368)\n",
              "        (fc_q): Linear(in_features=368, out_features=368, bias=True)\n",
              "        (fc_k): Linear(in_features=368, out_features=368, bias=True)\n",
              "        (fc_v): Linear(in_features=368, out_features=368, bias=True)\n",
              "        (fc_o): Linear(in_features=368, out_features=368, bias=True)\n",
              "      )\n",
              "      (irffn): IRFFN(\n",
              "        (conv1): Conv2d(368, 1324, kernel_size=(1, 1), stride=(1, 1))\n",
              "        (bn1): BatchNorm2d(1324, eps=1e-05, momentum=0.1, affine=True, track_running_stats=True)\n",
              "        (dwconv): Conv2d(1324, 1324, kernel_size=(3, 3), stride=(1, 1), padding=(1, 1), groups=1324)\n",
              "        (bn2): BatchNorm2d(1324, eps=1e-05, momentum=0.1, affine=True, track_running_stats=True)\n",
              "        (conv2): Conv2d(1324, 368, kernel_size=(1, 1), stride=(1, 1))\n",
              "        (bn3): BatchNorm2d(368, eps=1e-05, momentum=0.1, affine=True, track_running_stats=True)\n",
              "        (gelu): GELU(approximate='none')\n",
              "      )\n",
              "    )\n",
              "    (1): CMTBlock(\n",
              "      (lpu): LPU(\n",
              "        (dwconv): Conv2d(368, 368, kernel_size=(3, 3), stride=(1, 1), padding=(1, 1), groups=368)\n",
              "      )\n",
              "      (mhsa): LMHSA(\n",
              "        (dwconv): Conv2d(368, 368, kernel_size=(1, 1), stride=(1, 1), groups=368)\n",
              "        (fc_q): Linear(in_features=368, out_features=368, bias=True)\n",
              "        (fc_k): Linear(in_features=368, out_features=368, bias=True)\n",
              "        (fc_v): Linear(in_features=368, out_features=368, bias=True)\n",
              "        (fc_o): Linear(in_features=368, out_features=368, bias=True)\n",
              "      )\n",
              "      (irffn): IRFFN(\n",
              "        (conv1): Conv2d(368, 1324, kernel_size=(1, 1), stride=(1, 1))\n",
              "        (bn1): BatchNorm2d(1324, eps=1e-05, momentum=0.1, affine=True, track_running_stats=True)\n",
              "        (dwconv): Conv2d(1324, 1324, kernel_size=(3, 3), stride=(1, 1), padding=(1, 1), groups=1324)\n",
              "        (bn2): BatchNorm2d(1324, eps=1e-05, momentum=0.1, affine=True, track_running_stats=True)\n",
              "        (conv2): Conv2d(1324, 368, kernel_size=(1, 1), stride=(1, 1))\n",
              "        (bn3): BatchNorm2d(368, eps=1e-05, momentum=0.1, affine=True, track_running_stats=True)\n",
              "        (gelu): GELU(approximate='none')\n",
              "      )\n",
              "    )\n",
              "  )\n",
              "  (avg_pool): AdaptiveAvgPool2d(output_size=1)\n",
              "  (projection): Sequential(\n",
              "    (0): Conv2d(368, 1280, kernel_size=(1, 1), stride=(1, 1))\n",
              "    (1): ReLU(inplace=True)\n",
              "  )\n",
              "  (classifier): Linear(in_features=1280, out_features=10, bias=True)\n",
              ")"
            ]
          },
          "metadata": {},
          "execution_count": 19
        }
      ]
    },
    {
      "cell_type": "markdown",
      "source": [
        "The training procedure is defined by the following parameters and objects:\n",
        "\n",
        "- `EPOCHS`, the total number of epochs;\n",
        "- `LR`, the initial learning rate;\n",
        "- `WD`, the amount of weight decay to apply;\n",
        "- `loss_fn`, the loss function to use;\n",
        "- `optimizer`, the optimizer to use;\n",
        "- `scheduler`, the scheduler to use."
      ],
      "metadata": {
        "id": "BWFnVVWWbtom"
      }
    },
    {
      "cell_type": "code",
      "source": [
        "# Epochs.\n",
        "EPOCHS = 25\n",
        "\n",
        "# Initial learning rate.\n",
        "LR = 6e-5\n",
        "\n",
        "# Weight decay.\n",
        "WD = 1e-5\n",
        "\n",
        "# Loss function.\n",
        "loss_fn = nn.CrossEntropyLoss()\n",
        "\n",
        "# Optimizer.\n",
        "optimizer = torch.optim.AdamW(m_1.parameters(), lr = LR, weight_decay = WD)\n",
        "\n",
        "# Scheduler.\n",
        "scheduler = torch.optim.lr_scheduler.CosineAnnealingLR(optimizer, EPOCHS)"
      ],
      "metadata": {
        "id": "30WHWDVvx5Th"
      },
      "execution_count": null,
      "outputs": []
    },
    {
      "cell_type": "markdown",
      "source": [
        "The network is trained and validated on, respectively, the training and validation sets."
      ],
      "metadata": {
        "id": "k82vCjd1cQ0B"
      }
    },
    {
      "cell_type": "code",
      "source": [
        "# Training.\n",
        "history = train(m_1, optimizer, scheduler, loss_fn, train_loader, val_loader, EPOCHS, device)\n",
        "\n",
        "# Creating a checkpoint.\n",
        "checkpoint = {\n",
        "  \"model\": m_1.state_dict(),\n",
        "  \"optimizer\": optimizer.state_dict(),\n",
        "  \"scheduler\": scheduler.state_dict()\n",
        "}\n",
        "\n",
        "# Saving the model.\n",
        "torch.save(checkpoint, \"checkpoint1.pt\")\n",
        "\n",
        "# Saving history.\n",
        "with open(\"m_1_history.pkl\", \"wb\") as f:\n",
        "  pickle.dump(history, f)"
      ],
      "metadata": {
        "id": "nIOi_J2Ot4Oh",
        "colab": {
          "base_uri": "https://localhost:8080/"
        },
        "outputId": "70866f44-0efb-423c-ade5-0485986f2497"
      },
      "execution_count": null,
      "outputs": [
        {
          "output_type": "stream",
          "name": "stdout",
          "text": [
            "Epoch  1/25:\n"
          ]
        },
        {
          "output_type": "stream",
          "name": "stderr",
          "text": [
            "Training: 100%|██████████| 1250/1250 [08:42<00:00,  2.39it/s]\n",
            "Validation: 100%|██████████| 313/313 [00:36<00:00,  8.66it/s]\n"
          ]
        },
        {
          "output_type": "stream",
          "name": "stdout",
          "text": [
            "train_loss: 1.4515, train_accuracy: 0.4688, val_loss: 1.1542, val_accuracy: 0.5838, lr: 6.0000e-05\n",
            "\n",
            "Epoch  2/25:\n"
          ]
        },
        {
          "output_type": "stream",
          "name": "stderr",
          "text": [
            "Training: 100%|██████████| 1250/1250 [08:37<00:00,  2.42it/s]\n",
            "Validation: 100%|██████████| 313/313 [00:36<00:00,  8.66it/s]\n"
          ]
        },
        {
          "output_type": "stream",
          "name": "stdout",
          "text": [
            "train_loss: 1.0376, train_accuracy: 0.6309, val_loss: 0.9275, val_accuracy: 0.6715, lr: 5.9763e-05\n",
            "\n",
            "Epoch  3/25:\n"
          ]
        },
        {
          "output_type": "stream",
          "name": "stderr",
          "text": [
            "Training: 100%|██████████| 1250/1250 [08:37<00:00,  2.42it/s]\n",
            "Validation: 100%|██████████| 313/313 [00:36<00:00,  8.64it/s]\n"
          ]
        },
        {
          "output_type": "stream",
          "name": "stdout",
          "text": [
            "train_loss: 0.8631, train_accuracy: 0.6942, val_loss: 0.7936, val_accuracy: 0.7194, lr: 5.9057e-05\n",
            "\n",
            "Epoch  4/25:\n"
          ]
        },
        {
          "output_type": "stream",
          "name": "stderr",
          "text": [
            "Training: 100%|██████████| 1250/1250 [08:37<00:00,  2.42it/s]\n",
            "Validation: 100%|██████████| 313/313 [00:36<00:00,  8.65it/s]\n"
          ]
        },
        {
          "output_type": "stream",
          "name": "stdout",
          "text": [
            "train_loss: 0.7377, train_accuracy: 0.7417, val_loss: 0.7036, val_accuracy: 0.7554, lr: 5.7893e-05\n",
            "\n",
            "Epoch  5/25:\n"
          ]
        },
        {
          "output_type": "stream",
          "name": "stderr",
          "text": [
            "Training: 100%|██████████| 1250/1250 [08:39<00:00,  2.41it/s]\n",
            "Validation: 100%|██████████| 313/313 [00:36<00:00,  8.65it/s]\n"
          ]
        },
        {
          "output_type": "stream",
          "name": "stdout",
          "text": [
            "train_loss: 0.6417, train_accuracy: 0.7767, val_loss: 0.6473, val_accuracy: 0.7782, lr: 5.6289e-05\n",
            "\n",
            "Epoch  6/25:\n"
          ]
        },
        {
          "output_type": "stream",
          "name": "stderr",
          "text": [
            "Training: 100%|██████████| 1250/1250 [08:38<00:00,  2.41it/s]\n",
            "Validation: 100%|██████████| 313/313 [00:36<00:00,  8.65it/s]\n"
          ]
        },
        {
          "output_type": "stream",
          "name": "stdout",
          "text": [
            "train_loss: 0.5791, train_accuracy: 0.7991, val_loss: 0.6013, val_accuracy: 0.7889, lr: 5.4271e-05\n",
            "\n",
            "Epoch  7/25:\n"
          ]
        },
        {
          "output_type": "stream",
          "name": "stderr",
          "text": [
            "Training: 100%|██████████| 1250/1250 [08:37<00:00,  2.42it/s]\n",
            "Validation: 100%|██████████| 313/313 [00:36<00:00,  8.66it/s]\n"
          ]
        },
        {
          "output_type": "stream",
          "name": "stdout",
          "text": [
            "train_loss: 0.5228, train_accuracy: 0.8179, val_loss: 0.5615, val_accuracy: 0.8057, lr: 5.1869e-05\n",
            "\n",
            "Epoch  8/25:\n"
          ]
        },
        {
          "output_type": "stream",
          "name": "stderr",
          "text": [
            "Training: 100%|██████████| 1250/1250 [08:38<00:00,  2.41it/s]\n",
            "Validation: 100%|██████████| 313/313 [00:36<00:00,  8.57it/s]\n"
          ]
        },
        {
          "output_type": "stream",
          "name": "stdout",
          "text": [
            "train_loss: 0.4731, train_accuracy: 0.8344, val_loss: 0.5351, val_accuracy: 0.8160, lr: 4.9123e-05\n",
            "\n",
            "Epoch  9/25:\n"
          ]
        },
        {
          "output_type": "stream",
          "name": "stderr",
          "text": [
            "Training: 100%|██████████| 1250/1250 [08:38<00:00,  2.41it/s]\n",
            "Validation: 100%|██████████| 313/313 [00:36<00:00,  8.65it/s]\n"
          ]
        },
        {
          "output_type": "stream",
          "name": "stdout",
          "text": [
            "train_loss: 0.4419, train_accuracy: 0.8462, val_loss: 0.4994, val_accuracy: 0.8280, lr: 4.6075e-05\n",
            "\n",
            "Epoch 10/25:\n"
          ]
        },
        {
          "output_type": "stream",
          "name": "stderr",
          "text": [
            "Training: 100%|██████████| 1250/1250 [08:38<00:00,  2.41it/s]\n",
            "Validation: 100%|██████████| 313/313 [00:36<00:00,  8.63it/s]\n"
          ]
        },
        {
          "output_type": "stream",
          "name": "stdout",
          "text": [
            "train_loss: 0.3999, train_accuracy: 0.8595, val_loss: 0.4820, val_accuracy: 0.8350, lr: 4.2773e-05\n",
            "\n",
            "Epoch 11/25:\n"
          ]
        },
        {
          "output_type": "stream",
          "name": "stderr",
          "text": [
            "Training: 100%|██████████| 1250/1250 [08:37<00:00,  2.42it/s]\n",
            "Validation: 100%|██████████| 313/313 [00:36<00:00,  8.57it/s]\n"
          ]
        },
        {
          "output_type": "stream",
          "name": "stdout",
          "text": [
            "train_loss: 0.3712, train_accuracy: 0.8706, val_loss: 0.4877, val_accuracy: 0.8309, lr: 3.9271e-05\n",
            "\n",
            "Epoch 12/25:\n"
          ]
        },
        {
          "output_type": "stream",
          "name": "stderr",
          "text": [
            "Training: 100%|██████████| 1250/1250 [08:37<00:00,  2.42it/s]\n",
            "Validation: 100%|██████████| 313/313 [00:36<00:00,  8.64it/s]\n"
          ]
        },
        {
          "output_type": "stream",
          "name": "stdout",
          "text": [
            "train_loss: 0.3380, train_accuracy: 0.8829, val_loss: 0.4560, val_accuracy: 0.8423, lr: 3.5621e-05\n",
            "\n",
            "Epoch 13/25:\n"
          ]
        },
        {
          "output_type": "stream",
          "name": "stderr",
          "text": [
            "Training: 100%|██████████| 1250/1250 [08:37<00:00,  2.42it/s]\n",
            "Validation: 100%|██████████| 313/313 [00:36<00:00,  8.59it/s]\n"
          ]
        },
        {
          "output_type": "stream",
          "name": "stdout",
          "text": [
            "train_loss: 0.3091, train_accuracy: 0.8931, val_loss: 0.4518, val_accuracy: 0.8464, lr: 3.1884e-05\n",
            "\n",
            "Epoch 14/25:\n"
          ]
        },
        {
          "output_type": "stream",
          "name": "stderr",
          "text": [
            "Training: 100%|██████████| 1250/1250 [08:37<00:00,  2.42it/s]\n",
            "Validation: 100%|██████████| 313/313 [00:36<00:00,  8.64it/s]\n"
          ]
        },
        {
          "output_type": "stream",
          "name": "stdout",
          "text": [
            "train_loss: 0.2885, train_accuracy: 0.8992, val_loss: 0.4382, val_accuracy: 0.8529, lr: 2.8116e-05\n",
            "\n",
            "Epoch 15/25:\n"
          ]
        },
        {
          "output_type": "stream",
          "name": "stderr",
          "text": [
            "Training: 100%|██████████| 1250/1250 [08:36<00:00,  2.42it/s]\n",
            "Validation: 100%|██████████| 313/313 [00:36<00:00,  8.65it/s]\n"
          ]
        },
        {
          "output_type": "stream",
          "name": "stdout",
          "text": [
            "train_loss: 0.2623, train_accuracy: 0.9079, val_loss: 0.4370, val_accuracy: 0.8551, lr: 2.4379e-05\n",
            "\n",
            "Epoch 16/25:\n"
          ]
        },
        {
          "output_type": "stream",
          "name": "stderr",
          "text": [
            "Training: 100%|██████████| 1250/1250 [08:38<00:00,  2.41it/s]\n",
            "Validation: 100%|██████████| 313/313 [00:36<00:00,  8.65it/s]\n"
          ]
        },
        {
          "output_type": "stream",
          "name": "stdout",
          "text": [
            "train_loss: 0.2391, train_accuracy: 0.9169, val_loss: 0.4273, val_accuracy: 0.8592, lr: 2.0729e-05\n",
            "\n",
            "Epoch 17/25:\n"
          ]
        },
        {
          "output_type": "stream",
          "name": "stderr",
          "text": [
            "Training: 100%|██████████| 1250/1250 [08:37<00:00,  2.42it/s]\n",
            "Validation: 100%|██████████| 313/313 [00:36<00:00,  8.54it/s]\n"
          ]
        },
        {
          "output_type": "stream",
          "name": "stdout",
          "text": [
            "train_loss: 0.2244, train_accuracy: 0.9221, val_loss: 0.4191, val_accuracy: 0.8650, lr: 1.7227e-05\n",
            "\n",
            "Epoch 18/25:\n"
          ]
        },
        {
          "output_type": "stream",
          "name": "stderr",
          "text": [
            "Training: 100%|██████████| 1250/1250 [08:37<00:00,  2.42it/s]\n",
            "Validation: 100%|██████████| 313/313 [00:36<00:00,  8.64it/s]\n"
          ]
        },
        {
          "output_type": "stream",
          "name": "stdout",
          "text": [
            "train_loss: 0.2112, train_accuracy: 0.9274, val_loss: 0.4243, val_accuracy: 0.8606, lr: 1.3925e-05\n",
            "\n",
            "Epoch 19/25:\n"
          ]
        },
        {
          "output_type": "stream",
          "name": "stderr",
          "text": [
            "Training: 100%|██████████| 1250/1250 [08:37<00:00,  2.41it/s]\n",
            "Validation: 100%|██████████| 313/313 [00:36<00:00,  8.65it/s]\n"
          ]
        },
        {
          "output_type": "stream",
          "name": "stdout",
          "text": [
            "train_loss: 0.1922, train_accuracy: 0.9327, val_loss: 0.4147, val_accuracy: 0.8643, lr: 1.0877e-05\n",
            "\n",
            "Epoch 20/25:\n"
          ]
        },
        {
          "output_type": "stream",
          "name": "stderr",
          "text": [
            "Training: 100%|██████████| 1250/1250 [08:37<00:00,  2.42it/s]\n",
            "Validation: 100%|██████████| 313/313 [00:36<00:00,  8.57it/s]\n"
          ]
        },
        {
          "output_type": "stream",
          "name": "stdout",
          "text": [
            "train_loss: 0.1859, train_accuracy: 0.9361, val_loss: 0.4148, val_accuracy: 0.8673, lr: 8.1309e-06\n",
            "\n",
            "Epoch 21/25:\n"
          ]
        },
        {
          "output_type": "stream",
          "name": "stderr",
          "text": [
            "Training: 100%|██████████| 1250/1250 [08:38<00:00,  2.41it/s]\n",
            "Validation: 100%|██████████| 313/313 [00:36<00:00,  8.61it/s]\n"
          ]
        },
        {
          "output_type": "stream",
          "name": "stdout",
          "text": [
            "train_loss: 0.1757, train_accuracy: 0.9388, val_loss: 0.3977, val_accuracy: 0.8719, lr: 5.7295e-06\n",
            "\n",
            "Epoch 22/25:\n"
          ]
        },
        {
          "output_type": "stream",
          "name": "stderr",
          "text": [
            "Training: 100%|██████████| 1250/1250 [08:38<00:00,  2.41it/s]\n",
            "Validation: 100%|██████████| 313/313 [00:36<00:00,  8.65it/s]\n"
          ]
        },
        {
          "output_type": "stream",
          "name": "stdout",
          "text": [
            "train_loss: 0.1641, train_accuracy: 0.9436, val_loss: 0.3936, val_accuracy: 0.8737, lr: 3.7108e-06\n",
            "\n",
            "Epoch 23/25:\n"
          ]
        },
        {
          "output_type": "stream",
          "name": "stderr",
          "text": [
            "Training: 100%|██████████| 1250/1250 [08:38<00:00,  2.41it/s]\n",
            "Validation: 100%|██████████| 313/313 [00:36<00:00,  8.64it/s]\n"
          ]
        },
        {
          "output_type": "stream",
          "name": "stdout",
          "text": [
            "train_loss: 0.1607, train_accuracy: 0.9447, val_loss: 0.4077, val_accuracy: 0.8685, lr: 2.1067e-06\n",
            "\n",
            "Epoch 24/25:\n"
          ]
        },
        {
          "output_type": "stream",
          "name": "stderr",
          "text": [
            "Training: 100%|██████████| 1250/1250 [08:38<00:00,  2.41it/s]\n",
            "Validation: 100%|██████████| 313/313 [00:36<00:00,  8.61it/s]\n"
          ]
        },
        {
          "output_type": "stream",
          "name": "stdout",
          "text": [
            "train_loss: 0.1605, train_accuracy: 0.9447, val_loss: 0.3986, val_accuracy: 0.8729, lr: 9.4251e-07\n",
            "\n",
            "Epoch 25/25:\n"
          ]
        },
        {
          "output_type": "stream",
          "name": "stderr",
          "text": [
            "Training: 100%|██████████| 1250/1250 [08:38<00:00,  2.41it/s]\n",
            "Validation: 100%|██████████| 313/313 [00:36<00:00,  8.66it/s]\n"
          ]
        },
        {
          "output_type": "stream",
          "name": "stdout",
          "text": [
            "\n",
            "train_loss: 0.1560, train_accuracy: 0.9467, val_loss: 0.3914, val_accuracy: 0.8730, lr: 2.3656e-07\n"
          ]
        }
      ]
    },
    {
      "cell_type": "markdown",
      "source": [
        "### Standard MHSA model ($m_2$)"
      ],
      "metadata": {
        "id": "Z3tA4hXcRwt6"
      }
    },
    {
      "cell_type": "markdown",
      "source": [
        "Differently from $m_1$, the $m_2$ model implements CMT-Ti but uses standard multi-head self-attention (namely, the `MHSA` module) instead of the lightweight version of it."
      ],
      "metadata": {
        "id": "09UIt7dbcjEa"
      }
    },
    {
      "cell_type": "code",
      "source": [
        "# Defining the model that uses standard MHSA.\n",
        "m_2 = CMT(\n",
        "  in_channels = 3,\n",
        "  stem_channels = 16,\n",
        "  channels = [46, 92, 184, 368],\n",
        "  block_layers = [2, 2, 10, 2],\n",
        "  k = [8, 4, 2, 1],\n",
        "  heads = [1, 2, 4, 8],\n",
        "  R = 3.6,\n",
        "  input_size = 224,\n",
        "  classes = 10,\n",
        "  attention_type = \"standard\")\n",
        "\n",
        "# Printing number of parameters.\n",
        "print(f\"m_2 has {sum(p.numel() for p in m_2.parameters())} parameters.\")"
      ],
      "metadata": {
        "id": "us44rHYmDawu",
        "colab": {
          "base_uri": "https://localhost:8080/"
        },
        "outputId": "4e846171-b556-4b57-fb3b-2453cb3c3992"
      },
      "execution_count": null,
      "outputs": [
        {
          "output_type": "stream",
          "name": "stdout",
          "text": [
            "m_2 has 8111348 parameters.\n"
          ]
        }
      ]
    },
    {
      "cell_type": "markdown",
      "source": [
        "By looking at the results printed by the following cell, it is possible to notice how this model implies a number of FLOPs that is almost three times as big as the number of FLOPs used by $m_1$, mainly due to the complexity of the `MHSA` module. In particular, $m_2$ has $8.11\\text{M}$ parameters and $3.56\\text{B}$ FLOPs."
      ],
      "metadata": {
        "id": "xX_2G2Ewqbef"
      }
    },
    {
      "cell_type": "code",
      "source": [
        "# Computing number of FLOPs.\n",
        "flops = FlopCountAnalysis(m_2, (torch.randn((1, 3, 224, 224)),))\n",
        "\n",
        "# Printing number of FLOPs per layer.\n",
        "print(flop_count_str(flops))"
      ],
      "metadata": {
        "colab": {
          "base_uri": "https://localhost:8080/"
        },
        "id": "lt6nY16oe2tn",
        "outputId": "d97c081c-51b1-4972-de57-5eb0373b307c"
      },
      "execution_count": null,
      "outputs": [
        {
          "output_type": "stream",
          "name": "stdout",
          "text": [
            "CMT(\n",
            "  #params: 8.11M, #flops: 3.56G\n",
            "  (stem): Stem(\n",
            "    #params: 5.18K, #flops: 66.23M\n",
            "    (conv1): Conv2d(\n",
            "      3, 16, kernel_size=(3, 3), stride=(2, 2), padding=(1, 1)\n",
            "      #params: 0.45K, #flops: 5.42M\n",
            "    )\n",
            "    (bn1): BatchNorm2d(\n",
            "      16, eps=1e-05, momentum=0.1, affine=True, track_running_stats=True\n",
            "      #params: 32, #flops: 1M\n",
            "    )\n",
            "    (conv2): Conv2d(\n",
            "      16, 16, kernel_size=(3, 3), stride=(1, 1), padding=(1, 1)\n",
            "      #params: 2.32K, #flops: 28.9M\n",
            "    )\n",
            "    (bn2): BatchNorm2d(\n",
            "      16, eps=1e-05, momentum=0.1, affine=True, track_running_stats=True\n",
            "      #params: 32, #flops: 1M\n",
            "    )\n",
            "    (conv3): Conv2d(\n",
            "      16, 16, kernel_size=(3, 3), stride=(1, 1), padding=(1, 1)\n",
            "      #params: 2.32K, #flops: 28.9M\n",
            "    )\n",
            "    (bn3): BatchNorm2d(\n",
            "      16, eps=1e-05, momentum=0.1, affine=True, track_running_stats=True\n",
            "      #params: 32, #flops: 1M\n",
            "    )\n",
            "    (gelu): GELU(approximate='none')\n",
            "  )\n",
            "  (pe1): PatchEmbedding(\n",
            "    #params: 2.99K, #flops: 9.81M\n",
            "    (conv): Conv2d(\n",
            "      16, 46, kernel_size=(2, 2), stride=(2, 2)\n",
            "      #params: 2.99K, #flops: 9.23M\n",
            "    )\n",
            "  )\n",
            "  (pe2): PatchEmbedding(\n",
            "    #params: 17.02K, #flops: 13.56M\n",
            "    (conv): Conv2d(\n",
            "      46, 92, kernel_size=(2, 2), stride=(2, 2)\n",
            "      #params: 17.02K, #flops: 13.27M\n",
            "    )\n",
            "  )\n",
            "  (pe3): PatchEmbedding(\n",
            "    #params: 67.9K, #flops: 13.42M\n",
            "    (conv): Conv2d(\n",
            "      92, 184, kernel_size=(2, 2), stride=(2, 2)\n",
            "      #params: 67.9K, #flops: 13.27M\n",
            "    )\n",
            "  )\n",
            "  (pe4): PatchEmbedding(\n",
            "    #params: 0.27M, #flops: 13.34M\n",
            "    (conv): Conv2d(\n",
            "      184, 368, kernel_size=(2, 2), stride=(2, 2)\n",
            "      #params: 0.27M, #flops: 13.27M\n",
            "    )\n",
            "  )\n",
            "  (stage1): Sequential(\n",
            "    #params: 53.8K, #flops: 1.98G\n",
            "    (0): CMTBlock(\n",
            "      #params: 26.9K, #flops: 0.99G\n",
            "      (lpu): LPU(\n",
            "        #params: 0.46K, #flops: 1.3M\n",
            "        (dwconv): Conv2d(\n",
            "          46, 46, kernel_size=(3, 3), stride=(1, 1), padding=(1, 1), groups=46\n",
            "          #params: 0.46K, #flops: 1.3M\n",
            "        )\n",
            "      )\n",
            "      (mhsa): MHSA(\n",
            "        #params: 8.65K, #flops: 0.93G\n",
            "        (fc_q): Linear(\n",
            "          in_features=46, out_features=46, bias=True\n",
            "          #params: 2.16K, #flops: 6.64M\n",
            "        )\n",
            "        (fc_k): Linear(\n",
            "          in_features=46, out_features=46, bias=True\n",
            "          #params: 2.16K, #flops: 6.64M\n",
            "        )\n",
            "        (fc_v): Linear(\n",
            "          in_features=46, out_features=46, bias=True\n",
            "          #params: 2.16K, #flops: 6.64M\n",
            "        )\n",
            "        (fc_o): Linear(\n",
            "          in_features=46, out_features=46, bias=True\n",
            "          #params: 2.16K, #flops: 6.64M\n",
            "        )\n",
            "      )\n",
            "      (irffn): IRFFN(\n",
            "        #params: 17.79K, #flops: 58.16M\n",
            "        (conv1): Conv2d(\n",
            "          46, 165, kernel_size=(1, 1), stride=(1, 1)\n",
            "          #params: 7.75K, #flops: 23.8M\n",
            "        )\n",
            "        (bn1): BatchNorm2d(\n",
            "          165, eps=1e-05, momentum=0.1, affine=True, track_running_stats=True\n",
            "          #params: 0.33K, #flops: 2.59M\n",
            "        )\n",
            "        (dwconv): Conv2d(\n",
            "          165, 165, kernel_size=(3, 3), stride=(1, 1), padding=(1, 1), groups=165\n",
            "          #params: 1.65K, #flops: 4.66M\n",
            "        )\n",
            "        (bn2): BatchNorm2d(\n",
            "          165, eps=1e-05, momentum=0.1, affine=True, track_running_stats=True\n",
            "          #params: 0.33K, #flops: 2.59M\n",
            "        )\n",
            "        (conv2): Conv2d(\n",
            "          165, 46, kernel_size=(1, 1), stride=(1, 1)\n",
            "          #params: 7.64K, #flops: 23.8M\n",
            "        )\n",
            "        (bn3): BatchNorm2d(\n",
            "          46, eps=1e-05, momentum=0.1, affine=True, track_running_stats=True\n",
            "          #params: 92, #flops: 0.72M\n",
            "        )\n",
            "        (gelu): GELU(approximate='none')\n",
            "      )\n",
            "    )\n",
            "    (1): CMTBlock(\n",
            "      #params: 26.9K, #flops: 0.99G\n",
            "      (lpu): LPU(\n",
            "        #params: 0.46K, #flops: 1.3M\n",
            "        (dwconv): Conv2d(\n",
            "          46, 46, kernel_size=(3, 3), stride=(1, 1), padding=(1, 1), groups=46\n",
            "          #params: 0.46K, #flops: 1.3M\n",
            "        )\n",
            "      )\n",
            "      (mhsa): MHSA(\n",
            "        #params: 8.65K, #flops: 0.93G\n",
            "        (fc_q): Linear(\n",
            "          in_features=46, out_features=46, bias=True\n",
            "          #params: 2.16K, #flops: 6.64M\n",
            "        )\n",
            "        (fc_k): Linear(\n",
            "          in_features=46, out_features=46, bias=True\n",
            "          #params: 2.16K, #flops: 6.64M\n",
            "        )\n",
            "        (fc_v): Linear(\n",
            "          in_features=46, out_features=46, bias=True\n",
            "          #params: 2.16K, #flops: 6.64M\n",
            "        )\n",
            "        (fc_o): Linear(\n",
            "          in_features=46, out_features=46, bias=True\n",
            "          #params: 2.16K, #flops: 6.64M\n",
            "        )\n",
            "      )\n",
            "      (irffn): IRFFN(\n",
            "        #params: 17.79K, #flops: 58.16M\n",
            "        (conv1): Conv2d(\n",
            "          46, 165, kernel_size=(1, 1), stride=(1, 1)\n",
            "          #params: 7.75K, #flops: 23.8M\n",
            "        )\n",
            "        (bn1): BatchNorm2d(\n",
            "          165, eps=1e-05, momentum=0.1, affine=True, track_running_stats=True\n",
            "          #params: 0.33K, #flops: 2.59M\n",
            "        )\n",
            "        (dwconv): Conv2d(\n",
            "          165, 165, kernel_size=(3, 3), stride=(1, 1), padding=(1, 1), groups=165\n",
            "          #params: 1.65K, #flops: 4.66M\n",
            "        )\n",
            "        (bn2): BatchNorm2d(\n",
            "          165, eps=1e-05, momentum=0.1, affine=True, track_running_stats=True\n",
            "          #params: 0.33K, #flops: 2.59M\n",
            "        )\n",
            "        (conv2): Conv2d(\n",
            "          165, 46, kernel_size=(1, 1), stride=(1, 1)\n",
            "          #params: 7.64K, #flops: 23.8M\n",
            "        )\n",
            "        (bn3): BatchNorm2d(\n",
            "          46, eps=1e-05, momentum=0.1, affine=True, track_running_stats=True\n",
            "          #params: 92, #flops: 0.72M\n",
            "        )\n",
            "        (gelu): GELU(approximate='none')\n",
            "      )\n",
            "    )\n",
            "  )\n",
            "  (stage2): Sequential(\n",
            "    #params: 0.2M, #flops: 0.39G\n",
            "    (0): CMTBlock(\n",
            "      #params: 0.1M, #flops: 0.19G\n",
            "      (lpu): LPU(\n",
            "        #params: 0.92K, #flops: 0.65M\n",
            "        (dwconv): Conv2d(\n",
            "          92, 92, kernel_size=(3, 3), stride=(1, 1), padding=(1, 1), groups=92\n",
            "          #params: 0.92K, #flops: 0.65M\n",
            "        )\n",
            "      )\n",
            "      (mhsa): MHSA(\n",
            "        #params: 34.22K, #flops: 0.14G\n",
            "        (fc_q): Linear(\n",
            "          in_features=92, out_features=92, bias=True\n",
            "          #params: 8.56K, #flops: 6.64M\n",
            "        )\n",
            "        (fc_k): Linear(\n",
            "          in_features=92, out_features=92, bias=True\n",
            "          #params: 8.56K, #flops: 6.64M\n",
            "        )\n",
            "        (fc_v): Linear(\n",
            "          in_features=92, out_features=92, bias=True\n",
            "          #params: 8.56K, #flops: 6.64M\n",
            "        )\n",
            "        (fc_o): Linear(\n",
            "          in_features=92, out_features=92, bias=True\n",
            "          #params: 8.56K, #flops: 6.64M\n",
            "        )\n",
            "      )\n",
            "      (irffn): IRFFN(\n",
            "        #params: 66.14K, #flops: 53.04M\n",
            "        (conv1): Conv2d(\n",
            "          92, 331, kernel_size=(1, 1), stride=(1, 1)\n",
            "          #params: 30.78K, #flops: 23.87M\n",
            "        )\n",
            "        (bn1): BatchNorm2d(\n",
            "          331, eps=1e-05, momentum=0.1, affine=True, track_running_stats=True\n",
            "          #params: 0.66K, #flops: 1.3M\n",
            "        )\n",
            "        (dwconv): Conv2d(\n",
            "          331, 331, kernel_size=(3, 3), stride=(1, 1), padding=(1, 1), groups=331\n",
            "          #params: 3.31K, #flops: 2.34M\n",
            "        )\n",
            "        (bn2): BatchNorm2d(\n",
            "          331, eps=1e-05, momentum=0.1, affine=True, track_running_stats=True\n",
            "          #params: 0.66K, #flops: 1.3M\n",
            "        )\n",
            "        (conv2): Conv2d(\n",
            "          331, 92, kernel_size=(1, 1), stride=(1, 1)\n",
            "          #params: 30.54K, #flops: 23.87M\n",
            "        )\n",
            "        (bn3): BatchNorm2d(\n",
            "          92, eps=1e-05, momentum=0.1, affine=True, track_running_stats=True\n",
            "          #params: 0.18K, #flops: 0.36M\n",
            "        )\n",
            "        (gelu): GELU(approximate='none')\n",
            "      )\n",
            "    )\n",
            "    (1): CMTBlock(\n",
            "      #params: 0.1M, #flops: 0.19G\n",
            "      (lpu): LPU(\n",
            "        #params: 0.92K, #flops: 0.65M\n",
            "        (dwconv): Conv2d(\n",
            "          92, 92, kernel_size=(3, 3), stride=(1, 1), padding=(1, 1), groups=92\n",
            "          #params: 0.92K, #flops: 0.65M\n",
            "        )\n",
            "      )\n",
            "      (mhsa): MHSA(\n",
            "        #params: 34.22K, #flops: 0.14G\n",
            "        (fc_q): Linear(\n",
            "          in_features=92, out_features=92, bias=True\n",
            "          #params: 8.56K, #flops: 6.64M\n",
            "        )\n",
            "        (fc_k): Linear(\n",
            "          in_features=92, out_features=92, bias=True\n",
            "          #params: 8.56K, #flops: 6.64M\n",
            "        )\n",
            "        (fc_v): Linear(\n",
            "          in_features=92, out_features=92, bias=True\n",
            "          #params: 8.56K, #flops: 6.64M\n",
            "        )\n",
            "        (fc_o): Linear(\n",
            "          in_features=92, out_features=92, bias=True\n",
            "          #params: 8.56K, #flops: 6.64M\n",
            "        )\n",
            "      )\n",
            "      (irffn): IRFFN(\n",
            "        #params: 66.14K, #flops: 53.04M\n",
            "        (conv1): Conv2d(\n",
            "          92, 331, kernel_size=(1, 1), stride=(1, 1)\n",
            "          #params: 30.78K, #flops: 23.87M\n",
            "        )\n",
            "        (bn1): BatchNorm2d(\n",
            "          331, eps=1e-05, momentum=0.1, affine=True, track_running_stats=True\n",
            "          #params: 0.66K, #flops: 1.3M\n",
            "        )\n",
            "        (dwconv): Conv2d(\n",
            "          331, 331, kernel_size=(3, 3), stride=(1, 1), padding=(1, 1), groups=331\n",
            "          #params: 3.31K, #flops: 2.34M\n",
            "        )\n",
            "        (bn2): BatchNorm2d(\n",
            "          331, eps=1e-05, momentum=0.1, affine=True, track_running_stats=True\n",
            "          #params: 0.66K, #flops: 1.3M\n",
            "        )\n",
            "        (conv2): Conv2d(\n",
            "          331, 92, kernel_size=(1, 1), stride=(1, 1)\n",
            "          #params: 30.54K, #flops: 23.87M\n",
            "        )\n",
            "        (bn3): BatchNorm2d(\n",
            "          92, eps=1e-05, momentum=0.1, affine=True, track_running_stats=True\n",
            "          #params: 0.18K, #flops: 0.36M\n",
            "        )\n",
            "        (gelu): GELU(approximate='none')\n",
            "      )\n",
            "    )\n",
            "  )\n",
            "  (stage3): Sequential(\n",
            "    #params: 3.92M, #flops: 0.92G\n",
            "    (0): CMTBlock(\n",
            "      #params: 0.39M, #flops: 91.54M\n",
            "      (lpu): LPU(\n",
            "        #params: 1.84K, #flops: 0.32M\n",
            "        (dwconv): Conv2d(\n",
            "          184, 184, kernel_size=(3, 3), stride=(1, 1), padding=(1, 1), groups=184\n",
            "          #params: 1.84K, #flops: 0.32M\n",
            "        )\n",
            "      )\n",
            "      (mhsa): MHSA(\n",
            "        #params: 0.14M, #flops: 40.83M\n",
            "        (fc_q): Linear(\n",
            "          in_features=184, out_features=184, bias=True\n",
            "          #params: 34.04K, #flops: 6.64M\n",
            "        )\n",
            "        (fc_k): Linear(\n",
            "          in_features=184, out_features=184, bias=True\n",
            "          #params: 34.04K, #flops: 6.64M\n",
            "        )\n",
            "        (fc_v): Linear(\n",
            "          in_features=184, out_features=184, bias=True\n",
            "          #params: 34.04K, #flops: 6.64M\n",
            "        )\n",
            "        (fc_o): Linear(\n",
            "          in_features=184, out_features=184, bias=True\n",
            "          #params: 34.04K, #flops: 6.64M\n",
            "        )\n",
            "      )\n",
            "      (irffn): IRFFN(\n",
            "        #params: 0.25M, #flops: 50.39M\n",
            "        (conv1): Conv2d(\n",
            "          184, 662, kernel_size=(1, 1), stride=(1, 1)\n",
            "          #params: 0.12M, #flops: 23.87M\n",
            "        )\n",
            "        (bn1): BatchNorm2d(\n",
            "          662, eps=1e-05, momentum=0.1, affine=True, track_running_stats=True\n",
            "          #params: 1.32K, #flops: 0.65M\n",
            "        )\n",
            "        (dwconv): Conv2d(\n",
            "          662, 662, kernel_size=(3, 3), stride=(1, 1), padding=(1, 1), groups=662\n",
            "          #params: 6.62K, #flops: 1.17M\n",
            "        )\n",
            "        (bn2): BatchNorm2d(\n",
            "          662, eps=1e-05, momentum=0.1, affine=True, track_running_stats=True\n",
            "          #params: 1.32K, #flops: 0.65M\n",
            "        )\n",
            "        (conv2): Conv2d(\n",
            "          662, 184, kernel_size=(1, 1), stride=(1, 1)\n",
            "          #params: 0.12M, #flops: 23.87M\n",
            "        )\n",
            "        (bn3): BatchNorm2d(\n",
            "          184, eps=1e-05, momentum=0.1, affine=True, track_running_stats=True\n",
            "          #params: 0.37K, #flops: 0.18M\n",
            "        )\n",
            "        (gelu): GELU(approximate='none')\n",
            "      )\n",
            "    )\n",
            "    (1): CMTBlock(\n",
            "      #params: 0.39M, #flops: 91.54M\n",
            "      (lpu): LPU(\n",
            "        #params: 1.84K, #flops: 0.32M\n",
            "        (dwconv): Conv2d(\n",
            "          184, 184, kernel_size=(3, 3), stride=(1, 1), padding=(1, 1), groups=184\n",
            "          #params: 1.84K, #flops: 0.32M\n",
            "        )\n",
            "      )\n",
            "      (mhsa): MHSA(\n",
            "        #params: 0.14M, #flops: 40.83M\n",
            "        (fc_q): Linear(\n",
            "          in_features=184, out_features=184, bias=True\n",
            "          #params: 34.04K, #flops: 6.64M\n",
            "        )\n",
            "        (fc_k): Linear(\n",
            "          in_features=184, out_features=184, bias=True\n",
            "          #params: 34.04K, #flops: 6.64M\n",
            "        )\n",
            "        (fc_v): Linear(\n",
            "          in_features=184, out_features=184, bias=True\n",
            "          #params: 34.04K, #flops: 6.64M\n",
            "        )\n",
            "        (fc_o): Linear(\n",
            "          in_features=184, out_features=184, bias=True\n",
            "          #params: 34.04K, #flops: 6.64M\n",
            "        )\n",
            "      )\n",
            "      (irffn): IRFFN(\n",
            "        #params: 0.25M, #flops: 50.39M\n",
            "        (conv1): Conv2d(\n",
            "          184, 662, kernel_size=(1, 1), stride=(1, 1)\n",
            "          #params: 0.12M, #flops: 23.87M\n",
            "        )\n",
            "        (bn1): BatchNorm2d(\n",
            "          662, eps=1e-05, momentum=0.1, affine=True, track_running_stats=True\n",
            "          #params: 1.32K, #flops: 0.65M\n",
            "        )\n",
            "        (dwconv): Conv2d(\n",
            "          662, 662, kernel_size=(3, 3), stride=(1, 1), padding=(1, 1), groups=662\n",
            "          #params: 6.62K, #flops: 1.17M\n",
            "        )\n",
            "        (bn2): BatchNorm2d(\n",
            "          662, eps=1e-05, momentum=0.1, affine=True, track_running_stats=True\n",
            "          #params: 1.32K, #flops: 0.65M\n",
            "        )\n",
            "        (conv2): Conv2d(\n",
            "          662, 184, kernel_size=(1, 1), stride=(1, 1)\n",
            "          #params: 0.12M, #flops: 23.87M\n",
            "        )\n",
            "        (bn3): BatchNorm2d(\n",
            "          184, eps=1e-05, momentum=0.1, affine=True, track_running_stats=True\n",
            "          #params: 0.37K, #flops: 0.18M\n",
            "        )\n",
            "        (gelu): GELU(approximate='none')\n",
            "      )\n",
            "    )\n",
            "    (2): CMTBlock(\n",
            "      #params: 0.39M, #flops: 91.54M\n",
            "      (lpu): LPU(\n",
            "        #params: 1.84K, #flops: 0.32M\n",
            "        (dwconv): Conv2d(\n",
            "          184, 184, kernel_size=(3, 3), stride=(1, 1), padding=(1, 1), groups=184\n",
            "          #params: 1.84K, #flops: 0.32M\n",
            "        )\n",
            "      )\n",
            "      (mhsa): MHSA(\n",
            "        #params: 0.14M, #flops: 40.83M\n",
            "        (fc_q): Linear(\n",
            "          in_features=184, out_features=184, bias=True\n",
            "          #params: 34.04K, #flops: 6.64M\n",
            "        )\n",
            "        (fc_k): Linear(\n",
            "          in_features=184, out_features=184, bias=True\n",
            "          #params: 34.04K, #flops: 6.64M\n",
            "        )\n",
            "        (fc_v): Linear(\n",
            "          in_features=184, out_features=184, bias=True\n",
            "          #params: 34.04K, #flops: 6.64M\n",
            "        )\n",
            "        (fc_o): Linear(\n",
            "          in_features=184, out_features=184, bias=True\n",
            "          #params: 34.04K, #flops: 6.64M\n",
            "        )\n",
            "      )\n",
            "      (irffn): IRFFN(\n",
            "        #params: 0.25M, #flops: 50.39M\n",
            "        (conv1): Conv2d(\n",
            "          184, 662, kernel_size=(1, 1), stride=(1, 1)\n",
            "          #params: 0.12M, #flops: 23.87M\n",
            "        )\n",
            "        (bn1): BatchNorm2d(\n",
            "          662, eps=1e-05, momentum=0.1, affine=True, track_running_stats=True\n",
            "          #params: 1.32K, #flops: 0.65M\n",
            "        )\n",
            "        (dwconv): Conv2d(\n",
            "          662, 662, kernel_size=(3, 3), stride=(1, 1), padding=(1, 1), groups=662\n",
            "          #params: 6.62K, #flops: 1.17M\n",
            "        )\n",
            "        (bn2): BatchNorm2d(\n",
            "          662, eps=1e-05, momentum=0.1, affine=True, track_running_stats=True\n",
            "          #params: 1.32K, #flops: 0.65M\n",
            "        )\n",
            "        (conv2): Conv2d(\n",
            "          662, 184, kernel_size=(1, 1), stride=(1, 1)\n",
            "          #params: 0.12M, #flops: 23.87M\n",
            "        )\n",
            "        (bn3): BatchNorm2d(\n",
            "          184, eps=1e-05, momentum=0.1, affine=True, track_running_stats=True\n",
            "          #params: 0.37K, #flops: 0.18M\n",
            "        )\n",
            "        (gelu): GELU(approximate='none')\n",
            "      )\n",
            "    )\n",
            "    (3): CMTBlock(\n",
            "      #params: 0.39M, #flops: 91.54M\n",
            "      (lpu): LPU(\n",
            "        #params: 1.84K, #flops: 0.32M\n",
            "        (dwconv): Conv2d(\n",
            "          184, 184, kernel_size=(3, 3), stride=(1, 1), padding=(1, 1), groups=184\n",
            "          #params: 1.84K, #flops: 0.32M\n",
            "        )\n",
            "      )\n",
            "      (mhsa): MHSA(\n",
            "        #params: 0.14M, #flops: 40.83M\n",
            "        (fc_q): Linear(\n",
            "          in_features=184, out_features=184, bias=True\n",
            "          #params: 34.04K, #flops: 6.64M\n",
            "        )\n",
            "        (fc_k): Linear(\n",
            "          in_features=184, out_features=184, bias=True\n",
            "          #params: 34.04K, #flops: 6.64M\n",
            "        )\n",
            "        (fc_v): Linear(\n",
            "          in_features=184, out_features=184, bias=True\n",
            "          #params: 34.04K, #flops: 6.64M\n",
            "        )\n",
            "        (fc_o): Linear(\n",
            "          in_features=184, out_features=184, bias=True\n",
            "          #params: 34.04K, #flops: 6.64M\n",
            "        )\n",
            "      )\n",
            "      (irffn): IRFFN(\n",
            "        #params: 0.25M, #flops: 50.39M\n",
            "        (conv1): Conv2d(\n",
            "          184, 662, kernel_size=(1, 1), stride=(1, 1)\n",
            "          #params: 0.12M, #flops: 23.87M\n",
            "        )\n",
            "        (bn1): BatchNorm2d(\n",
            "          662, eps=1e-05, momentum=0.1, affine=True, track_running_stats=True\n",
            "          #params: 1.32K, #flops: 0.65M\n",
            "        )\n",
            "        (dwconv): Conv2d(\n",
            "          662, 662, kernel_size=(3, 3), stride=(1, 1), padding=(1, 1), groups=662\n",
            "          #params: 6.62K, #flops: 1.17M\n",
            "        )\n",
            "        (bn2): BatchNorm2d(\n",
            "          662, eps=1e-05, momentum=0.1, affine=True, track_running_stats=True\n",
            "          #params: 1.32K, #flops: 0.65M\n",
            "        )\n",
            "        (conv2): Conv2d(\n",
            "          662, 184, kernel_size=(1, 1), stride=(1, 1)\n",
            "          #params: 0.12M, #flops: 23.87M\n",
            "        )\n",
            "        (bn3): BatchNorm2d(\n",
            "          184, eps=1e-05, momentum=0.1, affine=True, track_running_stats=True\n",
            "          #params: 0.37K, #flops: 0.18M\n",
            "        )\n",
            "        (gelu): GELU(approximate='none')\n",
            "      )\n",
            "    )\n",
            "    (4): CMTBlock(\n",
            "      #params: 0.39M, #flops: 91.54M\n",
            "      (lpu): LPU(\n",
            "        #params: 1.84K, #flops: 0.32M\n",
            "        (dwconv): Conv2d(\n",
            "          184, 184, kernel_size=(3, 3), stride=(1, 1), padding=(1, 1), groups=184\n",
            "          #params: 1.84K, #flops: 0.32M\n",
            "        )\n",
            "      )\n",
            "      (mhsa): MHSA(\n",
            "        #params: 0.14M, #flops: 40.83M\n",
            "        (fc_q): Linear(\n",
            "          in_features=184, out_features=184, bias=True\n",
            "          #params: 34.04K, #flops: 6.64M\n",
            "        )\n",
            "        (fc_k): Linear(\n",
            "          in_features=184, out_features=184, bias=True\n",
            "          #params: 34.04K, #flops: 6.64M\n",
            "        )\n",
            "        (fc_v): Linear(\n",
            "          in_features=184, out_features=184, bias=True\n",
            "          #params: 34.04K, #flops: 6.64M\n",
            "        )\n",
            "        (fc_o): Linear(\n",
            "          in_features=184, out_features=184, bias=True\n",
            "          #params: 34.04K, #flops: 6.64M\n",
            "        )\n",
            "      )\n",
            "      (irffn): IRFFN(\n",
            "        #params: 0.25M, #flops: 50.39M\n",
            "        (conv1): Conv2d(\n",
            "          184, 662, kernel_size=(1, 1), stride=(1, 1)\n",
            "          #params: 0.12M, #flops: 23.87M\n",
            "        )\n",
            "        (bn1): BatchNorm2d(\n",
            "          662, eps=1e-05, momentum=0.1, affine=True, track_running_stats=True\n",
            "          #params: 1.32K, #flops: 0.65M\n",
            "        )\n",
            "        (dwconv): Conv2d(\n",
            "          662, 662, kernel_size=(3, 3), stride=(1, 1), padding=(1, 1), groups=662\n",
            "          #params: 6.62K, #flops: 1.17M\n",
            "        )\n",
            "        (bn2): BatchNorm2d(\n",
            "          662, eps=1e-05, momentum=0.1, affine=True, track_running_stats=True\n",
            "          #params: 1.32K, #flops: 0.65M\n",
            "        )\n",
            "        (conv2): Conv2d(\n",
            "          662, 184, kernel_size=(1, 1), stride=(1, 1)\n",
            "          #params: 0.12M, #flops: 23.87M\n",
            "        )\n",
            "        (bn3): BatchNorm2d(\n",
            "          184, eps=1e-05, momentum=0.1, affine=True, track_running_stats=True\n",
            "          #params: 0.37K, #flops: 0.18M\n",
            "        )\n",
            "        (gelu): GELU(approximate='none')\n",
            "      )\n",
            "    )\n",
            "    (5): CMTBlock(\n",
            "      #params: 0.39M, #flops: 91.54M\n",
            "      (lpu): LPU(\n",
            "        #params: 1.84K, #flops: 0.32M\n",
            "        (dwconv): Conv2d(\n",
            "          184, 184, kernel_size=(3, 3), stride=(1, 1), padding=(1, 1), groups=184\n",
            "          #params: 1.84K, #flops: 0.32M\n",
            "        )\n",
            "      )\n",
            "      (mhsa): MHSA(\n",
            "        #params: 0.14M, #flops: 40.83M\n",
            "        (fc_q): Linear(\n",
            "          in_features=184, out_features=184, bias=True\n",
            "          #params: 34.04K, #flops: 6.64M\n",
            "        )\n",
            "        (fc_k): Linear(\n",
            "          in_features=184, out_features=184, bias=True\n",
            "          #params: 34.04K, #flops: 6.64M\n",
            "        )\n",
            "        (fc_v): Linear(\n",
            "          in_features=184, out_features=184, bias=True\n",
            "          #params: 34.04K, #flops: 6.64M\n",
            "        )\n",
            "        (fc_o): Linear(\n",
            "          in_features=184, out_features=184, bias=True\n",
            "          #params: 34.04K, #flops: 6.64M\n",
            "        )\n",
            "      )\n",
            "      (irffn): IRFFN(\n",
            "        #params: 0.25M, #flops: 50.39M\n",
            "        (conv1): Conv2d(\n",
            "          184, 662, kernel_size=(1, 1), stride=(1, 1)\n",
            "          #params: 0.12M, #flops: 23.87M\n",
            "        )\n",
            "        (bn1): BatchNorm2d(\n",
            "          662, eps=1e-05, momentum=0.1, affine=True, track_running_stats=True\n",
            "          #params: 1.32K, #flops: 0.65M\n",
            "        )\n",
            "        (dwconv): Conv2d(\n",
            "          662, 662, kernel_size=(3, 3), stride=(1, 1), padding=(1, 1), groups=662\n",
            "          #params: 6.62K, #flops: 1.17M\n",
            "        )\n",
            "        (bn2): BatchNorm2d(\n",
            "          662, eps=1e-05, momentum=0.1, affine=True, track_running_stats=True\n",
            "          #params: 1.32K, #flops: 0.65M\n",
            "        )\n",
            "        (conv2): Conv2d(\n",
            "          662, 184, kernel_size=(1, 1), stride=(1, 1)\n",
            "          #params: 0.12M, #flops: 23.87M\n",
            "        )\n",
            "        (bn3): BatchNorm2d(\n",
            "          184, eps=1e-05, momentum=0.1, affine=True, track_running_stats=True\n",
            "          #params: 0.37K, #flops: 0.18M\n",
            "        )\n",
            "        (gelu): GELU(approximate='none')\n",
            "      )\n",
            "    )\n",
            "    (6): CMTBlock(\n",
            "      #params: 0.39M, #flops: 91.54M\n",
            "      (lpu): LPU(\n",
            "        #params: 1.84K, #flops: 0.32M\n",
            "        (dwconv): Conv2d(\n",
            "          184, 184, kernel_size=(3, 3), stride=(1, 1), padding=(1, 1), groups=184\n",
            "          #params: 1.84K, #flops: 0.32M\n",
            "        )\n",
            "      )\n",
            "      (mhsa): MHSA(\n",
            "        #params: 0.14M, #flops: 40.83M\n",
            "        (fc_q): Linear(\n",
            "          in_features=184, out_features=184, bias=True\n",
            "          #params: 34.04K, #flops: 6.64M\n",
            "        )\n",
            "        (fc_k): Linear(\n",
            "          in_features=184, out_features=184, bias=True\n",
            "          #params: 34.04K, #flops: 6.64M\n",
            "        )\n",
            "        (fc_v): Linear(\n",
            "          in_features=184, out_features=184, bias=True\n",
            "          #params: 34.04K, #flops: 6.64M\n",
            "        )\n",
            "        (fc_o): Linear(\n",
            "          in_features=184, out_features=184, bias=True\n",
            "          #params: 34.04K, #flops: 6.64M\n",
            "        )\n",
            "      )\n",
            "      (irffn): IRFFN(\n",
            "        #params: 0.25M, #flops: 50.39M\n",
            "        (conv1): Conv2d(\n",
            "          184, 662, kernel_size=(1, 1), stride=(1, 1)\n",
            "          #params: 0.12M, #flops: 23.87M\n",
            "        )\n",
            "        (bn1): BatchNorm2d(\n",
            "          662, eps=1e-05, momentum=0.1, affine=True, track_running_stats=True\n",
            "          #params: 1.32K, #flops: 0.65M\n",
            "        )\n",
            "        (dwconv): Conv2d(\n",
            "          662, 662, kernel_size=(3, 3), stride=(1, 1), padding=(1, 1), groups=662\n",
            "          #params: 6.62K, #flops: 1.17M\n",
            "        )\n",
            "        (bn2): BatchNorm2d(\n",
            "          662, eps=1e-05, momentum=0.1, affine=True, track_running_stats=True\n",
            "          #params: 1.32K, #flops: 0.65M\n",
            "        )\n",
            "        (conv2): Conv2d(\n",
            "          662, 184, kernel_size=(1, 1), stride=(1, 1)\n",
            "          #params: 0.12M, #flops: 23.87M\n",
            "        )\n",
            "        (bn3): BatchNorm2d(\n",
            "          184, eps=1e-05, momentum=0.1, affine=True, track_running_stats=True\n",
            "          #params: 0.37K, #flops: 0.18M\n",
            "        )\n",
            "        (gelu): GELU(approximate='none')\n",
            "      )\n",
            "    )\n",
            "    (7): CMTBlock(\n",
            "      #params: 0.39M, #flops: 91.54M\n",
            "      (lpu): LPU(\n",
            "        #params: 1.84K, #flops: 0.32M\n",
            "        (dwconv): Conv2d(\n",
            "          184, 184, kernel_size=(3, 3), stride=(1, 1), padding=(1, 1), groups=184\n",
            "          #params: 1.84K, #flops: 0.32M\n",
            "        )\n",
            "      )\n",
            "      (mhsa): MHSA(\n",
            "        #params: 0.14M, #flops: 40.83M\n",
            "        (fc_q): Linear(\n",
            "          in_features=184, out_features=184, bias=True\n",
            "          #params: 34.04K, #flops: 6.64M\n",
            "        )\n",
            "        (fc_k): Linear(\n",
            "          in_features=184, out_features=184, bias=True\n",
            "          #params: 34.04K, #flops: 6.64M\n",
            "        )\n",
            "        (fc_v): Linear(\n",
            "          in_features=184, out_features=184, bias=True\n",
            "          #params: 34.04K, #flops: 6.64M\n",
            "        )\n",
            "        (fc_o): Linear(\n",
            "          in_features=184, out_features=184, bias=True\n",
            "          #params: 34.04K, #flops: 6.64M\n",
            "        )\n",
            "      )\n",
            "      (irffn): IRFFN(\n",
            "        #params: 0.25M, #flops: 50.39M\n",
            "        (conv1): Conv2d(\n",
            "          184, 662, kernel_size=(1, 1), stride=(1, 1)\n",
            "          #params: 0.12M, #flops: 23.87M\n",
            "        )\n",
            "        (bn1): BatchNorm2d(\n",
            "          662, eps=1e-05, momentum=0.1, affine=True, track_running_stats=True\n",
            "          #params: 1.32K, #flops: 0.65M\n",
            "        )\n",
            "        (dwconv): Conv2d(\n",
            "          662, 662, kernel_size=(3, 3), stride=(1, 1), padding=(1, 1), groups=662\n",
            "          #params: 6.62K, #flops: 1.17M\n",
            "        )\n",
            "        (bn2): BatchNorm2d(\n",
            "          662, eps=1e-05, momentum=0.1, affine=True, track_running_stats=True\n",
            "          #params: 1.32K, #flops: 0.65M\n",
            "        )\n",
            "        (conv2): Conv2d(\n",
            "          662, 184, kernel_size=(1, 1), stride=(1, 1)\n",
            "          #params: 0.12M, #flops: 23.87M\n",
            "        )\n",
            "        (bn3): BatchNorm2d(\n",
            "          184, eps=1e-05, momentum=0.1, affine=True, track_running_stats=True\n",
            "          #params: 0.37K, #flops: 0.18M\n",
            "        )\n",
            "        (gelu): GELU(approximate='none')\n",
            "      )\n",
            "    )\n",
            "    (8): CMTBlock(\n",
            "      #params: 0.39M, #flops: 91.54M\n",
            "      (lpu): LPU(\n",
            "        #params: 1.84K, #flops: 0.32M\n",
            "        (dwconv): Conv2d(\n",
            "          184, 184, kernel_size=(3, 3), stride=(1, 1), padding=(1, 1), groups=184\n",
            "          #params: 1.84K, #flops: 0.32M\n",
            "        )\n",
            "      )\n",
            "      (mhsa): MHSA(\n",
            "        #params: 0.14M, #flops: 40.83M\n",
            "        (fc_q): Linear(\n",
            "          in_features=184, out_features=184, bias=True\n",
            "          #params: 34.04K, #flops: 6.64M\n",
            "        )\n",
            "        (fc_k): Linear(\n",
            "          in_features=184, out_features=184, bias=True\n",
            "          #params: 34.04K, #flops: 6.64M\n",
            "        )\n",
            "        (fc_v): Linear(\n",
            "          in_features=184, out_features=184, bias=True\n",
            "          #params: 34.04K, #flops: 6.64M\n",
            "        )\n",
            "        (fc_o): Linear(\n",
            "          in_features=184, out_features=184, bias=True\n",
            "          #params: 34.04K, #flops: 6.64M\n",
            "        )\n",
            "      )\n",
            "      (irffn): IRFFN(\n",
            "        #params: 0.25M, #flops: 50.39M\n",
            "        (conv1): Conv2d(\n",
            "          184, 662, kernel_size=(1, 1), stride=(1, 1)\n",
            "          #params: 0.12M, #flops: 23.87M\n",
            "        )\n",
            "        (bn1): BatchNorm2d(\n",
            "          662, eps=1e-05, momentum=0.1, affine=True, track_running_stats=True\n",
            "          #params: 1.32K, #flops: 0.65M\n",
            "        )\n",
            "        (dwconv): Conv2d(\n",
            "          662, 662, kernel_size=(3, 3), stride=(1, 1), padding=(1, 1), groups=662\n",
            "          #params: 6.62K, #flops: 1.17M\n",
            "        )\n",
            "        (bn2): BatchNorm2d(\n",
            "          662, eps=1e-05, momentum=0.1, affine=True, track_running_stats=True\n",
            "          #params: 1.32K, #flops: 0.65M\n",
            "        )\n",
            "        (conv2): Conv2d(\n",
            "          662, 184, kernel_size=(1, 1), stride=(1, 1)\n",
            "          #params: 0.12M, #flops: 23.87M\n",
            "        )\n",
            "        (bn3): BatchNorm2d(\n",
            "          184, eps=1e-05, momentum=0.1, affine=True, track_running_stats=True\n",
            "          #params: 0.37K, #flops: 0.18M\n",
            "        )\n",
            "        (gelu): GELU(approximate='none')\n",
            "      )\n",
            "    )\n",
            "    (9): CMTBlock(\n",
            "      #params: 0.39M, #flops: 91.54M\n",
            "      (lpu): LPU(\n",
            "        #params: 1.84K, #flops: 0.32M\n",
            "        (dwconv): Conv2d(\n",
            "          184, 184, kernel_size=(3, 3), stride=(1, 1), padding=(1, 1), groups=184\n",
            "          #params: 1.84K, #flops: 0.32M\n",
            "        )\n",
            "      )\n",
            "      (mhsa): MHSA(\n",
            "        #params: 0.14M, #flops: 40.83M\n",
            "        (fc_q): Linear(\n",
            "          in_features=184, out_features=184, bias=True\n",
            "          #params: 34.04K, #flops: 6.64M\n",
            "        )\n",
            "        (fc_k): Linear(\n",
            "          in_features=184, out_features=184, bias=True\n",
            "          #params: 34.04K, #flops: 6.64M\n",
            "        )\n",
            "        (fc_v): Linear(\n",
            "          in_features=184, out_features=184, bias=True\n",
            "          #params: 34.04K, #flops: 6.64M\n",
            "        )\n",
            "        (fc_o): Linear(\n",
            "          in_features=184, out_features=184, bias=True\n",
            "          #params: 34.04K, #flops: 6.64M\n",
            "        )\n",
            "      )\n",
            "      (irffn): IRFFN(\n",
            "        #params: 0.25M, #flops: 50.39M\n",
            "        (conv1): Conv2d(\n",
            "          184, 662, kernel_size=(1, 1), stride=(1, 1)\n",
            "          #params: 0.12M, #flops: 23.87M\n",
            "        )\n",
            "        (bn1): BatchNorm2d(\n",
            "          662, eps=1e-05, momentum=0.1, affine=True, track_running_stats=True\n",
            "          #params: 1.32K, #flops: 0.65M\n",
            "        )\n",
            "        (dwconv): Conv2d(\n",
            "          662, 662, kernel_size=(3, 3), stride=(1, 1), padding=(1, 1), groups=662\n",
            "          #params: 6.62K, #flops: 1.17M\n",
            "        )\n",
            "        (bn2): BatchNorm2d(\n",
            "          662, eps=1e-05, momentum=0.1, affine=True, track_running_stats=True\n",
            "          #params: 1.32K, #flops: 0.65M\n",
            "        )\n",
            "        (conv2): Conv2d(\n",
            "          662, 184, kernel_size=(1, 1), stride=(1, 1)\n",
            "          #params: 0.12M, #flops: 23.87M\n",
            "        )\n",
            "        (bn3): BatchNorm2d(\n",
            "          184, eps=1e-05, momentum=0.1, affine=True, track_running_stats=True\n",
            "          #params: 0.37K, #flops: 0.18M\n",
            "        )\n",
            "        (gelu): GELU(approximate='none')\n",
            "      )\n",
            "    )\n",
            "  )\n",
            "  (stage4): Sequential(\n",
            "    #params: 3.08M, #flops: 0.16G\n",
            "    (0): CMTBlock(\n",
            "      #params: 1.54M, #flops: 77.62M\n",
            "      (lpu): LPU(\n",
            "        #params: 3.68K, #flops: 0.16M\n",
            "        (dwconv): Conv2d(\n",
            "          368, 368, kernel_size=(3, 3), stride=(1, 1), padding=(1, 1), groups=368\n",
            "          #params: 3.68K, #flops: 0.16M\n",
            "        )\n",
            "      )\n",
            "      (mhsa): MHSA(\n",
            "        #params: 0.54M, #flops: 28.38M\n",
            "        (fc_q): Linear(\n",
            "          in_features=368, out_features=368, bias=True\n",
            "          #params: 0.14M, #flops: 6.64M\n",
            "        )\n",
            "        (fc_k): Linear(\n",
            "          in_features=368, out_features=368, bias=True\n",
            "          #params: 0.14M, #flops: 6.64M\n",
            "        )\n",
            "        (fc_v): Linear(\n",
            "          in_features=368, out_features=368, bias=True\n",
            "          #params: 0.14M, #flops: 6.64M\n",
            "        )\n",
            "        (fc_o): Linear(\n",
            "          in_features=368, out_features=368, bias=True\n",
            "          #params: 0.14M, #flops: 6.64M\n",
            "        )\n",
            "      )\n",
            "      (irffn): IRFFN(\n",
            "        #params: 1M, #flops: 49.07M\n",
            "        (conv1): Conv2d(\n",
            "          368, 1324, kernel_size=(1, 1), stride=(1, 1)\n",
            "          #params: 0.49M, #flops: 23.87M\n",
            "        )\n",
            "        (bn1): BatchNorm2d(\n",
            "          1324, eps=1e-05, momentum=0.1, affine=True, track_running_stats=True\n",
            "          #params: 2.65K, #flops: 0.32M\n",
            "        )\n",
            "        (dwconv): Conv2d(\n",
            "          1324, 1324, kernel_size=(3, 3), stride=(1, 1), padding=(1, 1), groups=1324\n",
            "          #params: 13.24K, #flops: 0.58M\n",
            "        )\n",
            "        (bn2): BatchNorm2d(\n",
            "          1324, eps=1e-05, momentum=0.1, affine=True, track_running_stats=True\n",
            "          #params: 2.65K, #flops: 0.32M\n",
            "        )\n",
            "        (conv2): Conv2d(\n",
            "          1324, 368, kernel_size=(1, 1), stride=(1, 1)\n",
            "          #params: 0.49M, #flops: 23.87M\n",
            "        )\n",
            "        (bn3): BatchNorm2d(\n",
            "          368, eps=1e-05, momentum=0.1, affine=True, track_running_stats=True\n",
            "          #params: 0.74K, #flops: 90.16K\n",
            "        )\n",
            "        (gelu): GELU(approximate='none')\n",
            "      )\n",
            "    )\n",
            "    (1): CMTBlock(\n",
            "      #params: 1.54M, #flops: 77.62M\n",
            "      (lpu): LPU(\n",
            "        #params: 3.68K, #flops: 0.16M\n",
            "        (dwconv): Conv2d(\n",
            "          368, 368, kernel_size=(3, 3), stride=(1, 1), padding=(1, 1), groups=368\n",
            "          #params: 3.68K, #flops: 0.16M\n",
            "        )\n",
            "      )\n",
            "      (mhsa): MHSA(\n",
            "        #params: 0.54M, #flops: 28.38M\n",
            "        (fc_q): Linear(\n",
            "          in_features=368, out_features=368, bias=True\n",
            "          #params: 0.14M, #flops: 6.64M\n",
            "        )\n",
            "        (fc_k): Linear(\n",
            "          in_features=368, out_features=368, bias=True\n",
            "          #params: 0.14M, #flops: 6.64M\n",
            "        )\n",
            "        (fc_v): Linear(\n",
            "          in_features=368, out_features=368, bias=True\n",
            "          #params: 0.14M, #flops: 6.64M\n",
            "        )\n",
            "        (fc_o): Linear(\n",
            "          in_features=368, out_features=368, bias=True\n",
            "          #params: 0.14M, #flops: 6.64M\n",
            "        )\n",
            "      )\n",
            "      (irffn): IRFFN(\n",
            "        #params: 1M, #flops: 49.07M\n",
            "        (conv1): Conv2d(\n",
            "          368, 1324, kernel_size=(1, 1), stride=(1, 1)\n",
            "          #params: 0.49M, #flops: 23.87M\n",
            "        )\n",
            "        (bn1): BatchNorm2d(\n",
            "          1324, eps=1e-05, momentum=0.1, affine=True, track_running_stats=True\n",
            "          #params: 2.65K, #flops: 0.32M\n",
            "        )\n",
            "        (dwconv): Conv2d(\n",
            "          1324, 1324, kernel_size=(3, 3), stride=(1, 1), padding=(1, 1), groups=1324\n",
            "          #params: 13.24K, #flops: 0.58M\n",
            "        )\n",
            "        (bn2): BatchNorm2d(\n",
            "          1324, eps=1e-05, momentum=0.1, affine=True, track_running_stats=True\n",
            "          #params: 2.65K, #flops: 0.32M\n",
            "        )\n",
            "        (conv2): Conv2d(\n",
            "          1324, 368, kernel_size=(1, 1), stride=(1, 1)\n",
            "          #params: 0.49M, #flops: 23.87M\n",
            "        )\n",
            "        (bn3): BatchNorm2d(\n",
            "          368, eps=1e-05, momentum=0.1, affine=True, track_running_stats=True\n",
            "          #params: 0.74K, #flops: 90.16K\n",
            "        )\n",
            "        (gelu): GELU(approximate='none')\n",
            "      )\n",
            "    )\n",
            "  )\n",
            "  (avg_pool): AdaptiveAvgPool2d(\n",
            "    output_size=1\n",
            "    #params: 0, #flops: 18.03K\n",
            "  )\n",
            "  (projection): Sequential(\n",
            "    #params: 0.47M, #flops: 0.47M\n",
            "    (0): Conv2d(\n",
            "      368, 1280, kernel_size=(1, 1), stride=(1, 1)\n",
            "      #params: 0.47M, #flops: 0.47M\n",
            "    )\n",
            "    (1): ReLU(inplace=True)\n",
            "  )\n",
            "  (classifier): Linear(\n",
            "    in_features=1280, out_features=10, bias=True\n",
            "    #params: 12.81K, #flops: 12.8K\n",
            "  )\n",
            ")\n"
          ]
        }
      ]
    },
    {
      "cell_type": "code",
      "source": [
        "# Loading model to device.\n",
        "m_2.to(device)"
      ],
      "metadata": {
        "id": "jcLwrTCwDkT1",
        "colab": {
          "base_uri": "https://localhost:8080/"
        },
        "outputId": "952065c8-0096-484b-89de-845e1adf9861"
      },
      "execution_count": null,
      "outputs": [
        {
          "output_type": "execute_result",
          "data": {
            "text/plain": [
              "CMT(\n",
              "  (stem): Stem(\n",
              "    (conv1): Conv2d(3, 16, kernel_size=(3, 3), stride=(2, 2), padding=(1, 1))\n",
              "    (bn1): BatchNorm2d(16, eps=1e-05, momentum=0.1, affine=True, track_running_stats=True)\n",
              "    (conv2): Conv2d(16, 16, kernel_size=(3, 3), stride=(1, 1), padding=(1, 1))\n",
              "    (bn2): BatchNorm2d(16, eps=1e-05, momentum=0.1, affine=True, track_running_stats=True)\n",
              "    (conv3): Conv2d(16, 16, kernel_size=(3, 3), stride=(1, 1), padding=(1, 1))\n",
              "    (bn3): BatchNorm2d(16, eps=1e-05, momentum=0.1, affine=True, track_running_stats=True)\n",
              "    (gelu): GELU(approximate='none')\n",
              "  )\n",
              "  (pe1): PatchEmbedding(\n",
              "    (conv): Conv2d(16, 46, kernel_size=(2, 2), stride=(2, 2))\n",
              "  )\n",
              "  (pe2): PatchEmbedding(\n",
              "    (conv): Conv2d(46, 92, kernel_size=(2, 2), stride=(2, 2))\n",
              "  )\n",
              "  (pe3): PatchEmbedding(\n",
              "    (conv): Conv2d(92, 184, kernel_size=(2, 2), stride=(2, 2))\n",
              "  )\n",
              "  (pe4): PatchEmbedding(\n",
              "    (conv): Conv2d(184, 368, kernel_size=(2, 2), stride=(2, 2))\n",
              "  )\n",
              "  (stage1): Sequential(\n",
              "    (0): CMTBlock(\n",
              "      (lpu): LPU(\n",
              "        (dwconv): Conv2d(46, 46, kernel_size=(3, 3), stride=(1, 1), padding=(1, 1), groups=46)\n",
              "      )\n",
              "      (mhsa): MHSA(\n",
              "        (fc_q): Linear(in_features=46, out_features=46, bias=True)\n",
              "        (fc_k): Linear(in_features=46, out_features=46, bias=True)\n",
              "        (fc_v): Linear(in_features=46, out_features=46, bias=True)\n",
              "        (fc_o): Linear(in_features=46, out_features=46, bias=True)\n",
              "      )\n",
              "      (irffn): IRFFN(\n",
              "        (conv1): Conv2d(46, 165, kernel_size=(1, 1), stride=(1, 1))\n",
              "        (bn1): BatchNorm2d(165, eps=1e-05, momentum=0.1, affine=True, track_running_stats=True)\n",
              "        (dwconv): Conv2d(165, 165, kernel_size=(3, 3), stride=(1, 1), padding=(1, 1), groups=165)\n",
              "        (bn2): BatchNorm2d(165, eps=1e-05, momentum=0.1, affine=True, track_running_stats=True)\n",
              "        (conv2): Conv2d(165, 46, kernel_size=(1, 1), stride=(1, 1))\n",
              "        (bn3): BatchNorm2d(46, eps=1e-05, momentum=0.1, affine=True, track_running_stats=True)\n",
              "        (gelu): GELU(approximate='none')\n",
              "      )\n",
              "    )\n",
              "    (1): CMTBlock(\n",
              "      (lpu): LPU(\n",
              "        (dwconv): Conv2d(46, 46, kernel_size=(3, 3), stride=(1, 1), padding=(1, 1), groups=46)\n",
              "      )\n",
              "      (mhsa): MHSA(\n",
              "        (fc_q): Linear(in_features=46, out_features=46, bias=True)\n",
              "        (fc_k): Linear(in_features=46, out_features=46, bias=True)\n",
              "        (fc_v): Linear(in_features=46, out_features=46, bias=True)\n",
              "        (fc_o): Linear(in_features=46, out_features=46, bias=True)\n",
              "      )\n",
              "      (irffn): IRFFN(\n",
              "        (conv1): Conv2d(46, 165, kernel_size=(1, 1), stride=(1, 1))\n",
              "        (bn1): BatchNorm2d(165, eps=1e-05, momentum=0.1, affine=True, track_running_stats=True)\n",
              "        (dwconv): Conv2d(165, 165, kernel_size=(3, 3), stride=(1, 1), padding=(1, 1), groups=165)\n",
              "        (bn2): BatchNorm2d(165, eps=1e-05, momentum=0.1, affine=True, track_running_stats=True)\n",
              "        (conv2): Conv2d(165, 46, kernel_size=(1, 1), stride=(1, 1))\n",
              "        (bn3): BatchNorm2d(46, eps=1e-05, momentum=0.1, affine=True, track_running_stats=True)\n",
              "        (gelu): GELU(approximate='none')\n",
              "      )\n",
              "    )\n",
              "  )\n",
              "  (stage2): Sequential(\n",
              "    (0): CMTBlock(\n",
              "      (lpu): LPU(\n",
              "        (dwconv): Conv2d(92, 92, kernel_size=(3, 3), stride=(1, 1), padding=(1, 1), groups=92)\n",
              "      )\n",
              "      (mhsa): MHSA(\n",
              "        (fc_q): Linear(in_features=92, out_features=92, bias=True)\n",
              "        (fc_k): Linear(in_features=92, out_features=92, bias=True)\n",
              "        (fc_v): Linear(in_features=92, out_features=92, bias=True)\n",
              "        (fc_o): Linear(in_features=92, out_features=92, bias=True)\n",
              "      )\n",
              "      (irffn): IRFFN(\n",
              "        (conv1): Conv2d(92, 331, kernel_size=(1, 1), stride=(1, 1))\n",
              "        (bn1): BatchNorm2d(331, eps=1e-05, momentum=0.1, affine=True, track_running_stats=True)\n",
              "        (dwconv): Conv2d(331, 331, kernel_size=(3, 3), stride=(1, 1), padding=(1, 1), groups=331)\n",
              "        (bn2): BatchNorm2d(331, eps=1e-05, momentum=0.1, affine=True, track_running_stats=True)\n",
              "        (conv2): Conv2d(331, 92, kernel_size=(1, 1), stride=(1, 1))\n",
              "        (bn3): BatchNorm2d(92, eps=1e-05, momentum=0.1, affine=True, track_running_stats=True)\n",
              "        (gelu): GELU(approximate='none')\n",
              "      )\n",
              "    )\n",
              "    (1): CMTBlock(\n",
              "      (lpu): LPU(\n",
              "        (dwconv): Conv2d(92, 92, kernel_size=(3, 3), stride=(1, 1), padding=(1, 1), groups=92)\n",
              "      )\n",
              "      (mhsa): MHSA(\n",
              "        (fc_q): Linear(in_features=92, out_features=92, bias=True)\n",
              "        (fc_k): Linear(in_features=92, out_features=92, bias=True)\n",
              "        (fc_v): Linear(in_features=92, out_features=92, bias=True)\n",
              "        (fc_o): Linear(in_features=92, out_features=92, bias=True)\n",
              "      )\n",
              "      (irffn): IRFFN(\n",
              "        (conv1): Conv2d(92, 331, kernel_size=(1, 1), stride=(1, 1))\n",
              "        (bn1): BatchNorm2d(331, eps=1e-05, momentum=0.1, affine=True, track_running_stats=True)\n",
              "        (dwconv): Conv2d(331, 331, kernel_size=(3, 3), stride=(1, 1), padding=(1, 1), groups=331)\n",
              "        (bn2): BatchNorm2d(331, eps=1e-05, momentum=0.1, affine=True, track_running_stats=True)\n",
              "        (conv2): Conv2d(331, 92, kernel_size=(1, 1), stride=(1, 1))\n",
              "        (bn3): BatchNorm2d(92, eps=1e-05, momentum=0.1, affine=True, track_running_stats=True)\n",
              "        (gelu): GELU(approximate='none')\n",
              "      )\n",
              "    )\n",
              "  )\n",
              "  (stage3): Sequential(\n",
              "    (0): CMTBlock(\n",
              "      (lpu): LPU(\n",
              "        (dwconv): Conv2d(184, 184, kernel_size=(3, 3), stride=(1, 1), padding=(1, 1), groups=184)\n",
              "      )\n",
              "      (mhsa): MHSA(\n",
              "        (fc_q): Linear(in_features=184, out_features=184, bias=True)\n",
              "        (fc_k): Linear(in_features=184, out_features=184, bias=True)\n",
              "        (fc_v): Linear(in_features=184, out_features=184, bias=True)\n",
              "        (fc_o): Linear(in_features=184, out_features=184, bias=True)\n",
              "      )\n",
              "      (irffn): IRFFN(\n",
              "        (conv1): Conv2d(184, 662, kernel_size=(1, 1), stride=(1, 1))\n",
              "        (bn1): BatchNorm2d(662, eps=1e-05, momentum=0.1, affine=True, track_running_stats=True)\n",
              "        (dwconv): Conv2d(662, 662, kernel_size=(3, 3), stride=(1, 1), padding=(1, 1), groups=662)\n",
              "        (bn2): BatchNorm2d(662, eps=1e-05, momentum=0.1, affine=True, track_running_stats=True)\n",
              "        (conv2): Conv2d(662, 184, kernel_size=(1, 1), stride=(1, 1))\n",
              "        (bn3): BatchNorm2d(184, eps=1e-05, momentum=0.1, affine=True, track_running_stats=True)\n",
              "        (gelu): GELU(approximate='none')\n",
              "      )\n",
              "    )\n",
              "    (1): CMTBlock(\n",
              "      (lpu): LPU(\n",
              "        (dwconv): Conv2d(184, 184, kernel_size=(3, 3), stride=(1, 1), padding=(1, 1), groups=184)\n",
              "      )\n",
              "      (mhsa): MHSA(\n",
              "        (fc_q): Linear(in_features=184, out_features=184, bias=True)\n",
              "        (fc_k): Linear(in_features=184, out_features=184, bias=True)\n",
              "        (fc_v): Linear(in_features=184, out_features=184, bias=True)\n",
              "        (fc_o): Linear(in_features=184, out_features=184, bias=True)\n",
              "      )\n",
              "      (irffn): IRFFN(\n",
              "        (conv1): Conv2d(184, 662, kernel_size=(1, 1), stride=(1, 1))\n",
              "        (bn1): BatchNorm2d(662, eps=1e-05, momentum=0.1, affine=True, track_running_stats=True)\n",
              "        (dwconv): Conv2d(662, 662, kernel_size=(3, 3), stride=(1, 1), padding=(1, 1), groups=662)\n",
              "        (bn2): BatchNorm2d(662, eps=1e-05, momentum=0.1, affine=True, track_running_stats=True)\n",
              "        (conv2): Conv2d(662, 184, kernel_size=(1, 1), stride=(1, 1))\n",
              "        (bn3): BatchNorm2d(184, eps=1e-05, momentum=0.1, affine=True, track_running_stats=True)\n",
              "        (gelu): GELU(approximate='none')\n",
              "      )\n",
              "    )\n",
              "    (2): CMTBlock(\n",
              "      (lpu): LPU(\n",
              "        (dwconv): Conv2d(184, 184, kernel_size=(3, 3), stride=(1, 1), padding=(1, 1), groups=184)\n",
              "      )\n",
              "      (mhsa): MHSA(\n",
              "        (fc_q): Linear(in_features=184, out_features=184, bias=True)\n",
              "        (fc_k): Linear(in_features=184, out_features=184, bias=True)\n",
              "        (fc_v): Linear(in_features=184, out_features=184, bias=True)\n",
              "        (fc_o): Linear(in_features=184, out_features=184, bias=True)\n",
              "      )\n",
              "      (irffn): IRFFN(\n",
              "        (conv1): Conv2d(184, 662, kernel_size=(1, 1), stride=(1, 1))\n",
              "        (bn1): BatchNorm2d(662, eps=1e-05, momentum=0.1, affine=True, track_running_stats=True)\n",
              "        (dwconv): Conv2d(662, 662, kernel_size=(3, 3), stride=(1, 1), padding=(1, 1), groups=662)\n",
              "        (bn2): BatchNorm2d(662, eps=1e-05, momentum=0.1, affine=True, track_running_stats=True)\n",
              "        (conv2): Conv2d(662, 184, kernel_size=(1, 1), stride=(1, 1))\n",
              "        (bn3): BatchNorm2d(184, eps=1e-05, momentum=0.1, affine=True, track_running_stats=True)\n",
              "        (gelu): GELU(approximate='none')\n",
              "      )\n",
              "    )\n",
              "    (3): CMTBlock(\n",
              "      (lpu): LPU(\n",
              "        (dwconv): Conv2d(184, 184, kernel_size=(3, 3), stride=(1, 1), padding=(1, 1), groups=184)\n",
              "      )\n",
              "      (mhsa): MHSA(\n",
              "        (fc_q): Linear(in_features=184, out_features=184, bias=True)\n",
              "        (fc_k): Linear(in_features=184, out_features=184, bias=True)\n",
              "        (fc_v): Linear(in_features=184, out_features=184, bias=True)\n",
              "        (fc_o): Linear(in_features=184, out_features=184, bias=True)\n",
              "      )\n",
              "      (irffn): IRFFN(\n",
              "        (conv1): Conv2d(184, 662, kernel_size=(1, 1), stride=(1, 1))\n",
              "        (bn1): BatchNorm2d(662, eps=1e-05, momentum=0.1, affine=True, track_running_stats=True)\n",
              "        (dwconv): Conv2d(662, 662, kernel_size=(3, 3), stride=(1, 1), padding=(1, 1), groups=662)\n",
              "        (bn2): BatchNorm2d(662, eps=1e-05, momentum=0.1, affine=True, track_running_stats=True)\n",
              "        (conv2): Conv2d(662, 184, kernel_size=(1, 1), stride=(1, 1))\n",
              "        (bn3): BatchNorm2d(184, eps=1e-05, momentum=0.1, affine=True, track_running_stats=True)\n",
              "        (gelu): GELU(approximate='none')\n",
              "      )\n",
              "    )\n",
              "    (4): CMTBlock(\n",
              "      (lpu): LPU(\n",
              "        (dwconv): Conv2d(184, 184, kernel_size=(3, 3), stride=(1, 1), padding=(1, 1), groups=184)\n",
              "      )\n",
              "      (mhsa): MHSA(\n",
              "        (fc_q): Linear(in_features=184, out_features=184, bias=True)\n",
              "        (fc_k): Linear(in_features=184, out_features=184, bias=True)\n",
              "        (fc_v): Linear(in_features=184, out_features=184, bias=True)\n",
              "        (fc_o): Linear(in_features=184, out_features=184, bias=True)\n",
              "      )\n",
              "      (irffn): IRFFN(\n",
              "        (conv1): Conv2d(184, 662, kernel_size=(1, 1), stride=(1, 1))\n",
              "        (bn1): BatchNorm2d(662, eps=1e-05, momentum=0.1, affine=True, track_running_stats=True)\n",
              "        (dwconv): Conv2d(662, 662, kernel_size=(3, 3), stride=(1, 1), padding=(1, 1), groups=662)\n",
              "        (bn2): BatchNorm2d(662, eps=1e-05, momentum=0.1, affine=True, track_running_stats=True)\n",
              "        (conv2): Conv2d(662, 184, kernel_size=(1, 1), stride=(1, 1))\n",
              "        (bn3): BatchNorm2d(184, eps=1e-05, momentum=0.1, affine=True, track_running_stats=True)\n",
              "        (gelu): GELU(approximate='none')\n",
              "      )\n",
              "    )\n",
              "    (5): CMTBlock(\n",
              "      (lpu): LPU(\n",
              "        (dwconv): Conv2d(184, 184, kernel_size=(3, 3), stride=(1, 1), padding=(1, 1), groups=184)\n",
              "      )\n",
              "      (mhsa): MHSA(\n",
              "        (fc_q): Linear(in_features=184, out_features=184, bias=True)\n",
              "        (fc_k): Linear(in_features=184, out_features=184, bias=True)\n",
              "        (fc_v): Linear(in_features=184, out_features=184, bias=True)\n",
              "        (fc_o): Linear(in_features=184, out_features=184, bias=True)\n",
              "      )\n",
              "      (irffn): IRFFN(\n",
              "        (conv1): Conv2d(184, 662, kernel_size=(1, 1), stride=(1, 1))\n",
              "        (bn1): BatchNorm2d(662, eps=1e-05, momentum=0.1, affine=True, track_running_stats=True)\n",
              "        (dwconv): Conv2d(662, 662, kernel_size=(3, 3), stride=(1, 1), padding=(1, 1), groups=662)\n",
              "        (bn2): BatchNorm2d(662, eps=1e-05, momentum=0.1, affine=True, track_running_stats=True)\n",
              "        (conv2): Conv2d(662, 184, kernel_size=(1, 1), stride=(1, 1))\n",
              "        (bn3): BatchNorm2d(184, eps=1e-05, momentum=0.1, affine=True, track_running_stats=True)\n",
              "        (gelu): GELU(approximate='none')\n",
              "      )\n",
              "    )\n",
              "    (6): CMTBlock(\n",
              "      (lpu): LPU(\n",
              "        (dwconv): Conv2d(184, 184, kernel_size=(3, 3), stride=(1, 1), padding=(1, 1), groups=184)\n",
              "      )\n",
              "      (mhsa): MHSA(\n",
              "        (fc_q): Linear(in_features=184, out_features=184, bias=True)\n",
              "        (fc_k): Linear(in_features=184, out_features=184, bias=True)\n",
              "        (fc_v): Linear(in_features=184, out_features=184, bias=True)\n",
              "        (fc_o): Linear(in_features=184, out_features=184, bias=True)\n",
              "      )\n",
              "      (irffn): IRFFN(\n",
              "        (conv1): Conv2d(184, 662, kernel_size=(1, 1), stride=(1, 1))\n",
              "        (bn1): BatchNorm2d(662, eps=1e-05, momentum=0.1, affine=True, track_running_stats=True)\n",
              "        (dwconv): Conv2d(662, 662, kernel_size=(3, 3), stride=(1, 1), padding=(1, 1), groups=662)\n",
              "        (bn2): BatchNorm2d(662, eps=1e-05, momentum=0.1, affine=True, track_running_stats=True)\n",
              "        (conv2): Conv2d(662, 184, kernel_size=(1, 1), stride=(1, 1))\n",
              "        (bn3): BatchNorm2d(184, eps=1e-05, momentum=0.1, affine=True, track_running_stats=True)\n",
              "        (gelu): GELU(approximate='none')\n",
              "      )\n",
              "    )\n",
              "    (7): CMTBlock(\n",
              "      (lpu): LPU(\n",
              "        (dwconv): Conv2d(184, 184, kernel_size=(3, 3), stride=(1, 1), padding=(1, 1), groups=184)\n",
              "      )\n",
              "      (mhsa): MHSA(\n",
              "        (fc_q): Linear(in_features=184, out_features=184, bias=True)\n",
              "        (fc_k): Linear(in_features=184, out_features=184, bias=True)\n",
              "        (fc_v): Linear(in_features=184, out_features=184, bias=True)\n",
              "        (fc_o): Linear(in_features=184, out_features=184, bias=True)\n",
              "      )\n",
              "      (irffn): IRFFN(\n",
              "        (conv1): Conv2d(184, 662, kernel_size=(1, 1), stride=(1, 1))\n",
              "        (bn1): BatchNorm2d(662, eps=1e-05, momentum=0.1, affine=True, track_running_stats=True)\n",
              "        (dwconv): Conv2d(662, 662, kernel_size=(3, 3), stride=(1, 1), padding=(1, 1), groups=662)\n",
              "        (bn2): BatchNorm2d(662, eps=1e-05, momentum=0.1, affine=True, track_running_stats=True)\n",
              "        (conv2): Conv2d(662, 184, kernel_size=(1, 1), stride=(1, 1))\n",
              "        (bn3): BatchNorm2d(184, eps=1e-05, momentum=0.1, affine=True, track_running_stats=True)\n",
              "        (gelu): GELU(approximate='none')\n",
              "      )\n",
              "    )\n",
              "    (8): CMTBlock(\n",
              "      (lpu): LPU(\n",
              "        (dwconv): Conv2d(184, 184, kernel_size=(3, 3), stride=(1, 1), padding=(1, 1), groups=184)\n",
              "      )\n",
              "      (mhsa): MHSA(\n",
              "        (fc_q): Linear(in_features=184, out_features=184, bias=True)\n",
              "        (fc_k): Linear(in_features=184, out_features=184, bias=True)\n",
              "        (fc_v): Linear(in_features=184, out_features=184, bias=True)\n",
              "        (fc_o): Linear(in_features=184, out_features=184, bias=True)\n",
              "      )\n",
              "      (irffn): IRFFN(\n",
              "        (conv1): Conv2d(184, 662, kernel_size=(1, 1), stride=(1, 1))\n",
              "        (bn1): BatchNorm2d(662, eps=1e-05, momentum=0.1, affine=True, track_running_stats=True)\n",
              "        (dwconv): Conv2d(662, 662, kernel_size=(3, 3), stride=(1, 1), padding=(1, 1), groups=662)\n",
              "        (bn2): BatchNorm2d(662, eps=1e-05, momentum=0.1, affine=True, track_running_stats=True)\n",
              "        (conv2): Conv2d(662, 184, kernel_size=(1, 1), stride=(1, 1))\n",
              "        (bn3): BatchNorm2d(184, eps=1e-05, momentum=0.1, affine=True, track_running_stats=True)\n",
              "        (gelu): GELU(approximate='none')\n",
              "      )\n",
              "    )\n",
              "    (9): CMTBlock(\n",
              "      (lpu): LPU(\n",
              "        (dwconv): Conv2d(184, 184, kernel_size=(3, 3), stride=(1, 1), padding=(1, 1), groups=184)\n",
              "      )\n",
              "      (mhsa): MHSA(\n",
              "        (fc_q): Linear(in_features=184, out_features=184, bias=True)\n",
              "        (fc_k): Linear(in_features=184, out_features=184, bias=True)\n",
              "        (fc_v): Linear(in_features=184, out_features=184, bias=True)\n",
              "        (fc_o): Linear(in_features=184, out_features=184, bias=True)\n",
              "      )\n",
              "      (irffn): IRFFN(\n",
              "        (conv1): Conv2d(184, 662, kernel_size=(1, 1), stride=(1, 1))\n",
              "        (bn1): BatchNorm2d(662, eps=1e-05, momentum=0.1, affine=True, track_running_stats=True)\n",
              "        (dwconv): Conv2d(662, 662, kernel_size=(3, 3), stride=(1, 1), padding=(1, 1), groups=662)\n",
              "        (bn2): BatchNorm2d(662, eps=1e-05, momentum=0.1, affine=True, track_running_stats=True)\n",
              "        (conv2): Conv2d(662, 184, kernel_size=(1, 1), stride=(1, 1))\n",
              "        (bn3): BatchNorm2d(184, eps=1e-05, momentum=0.1, affine=True, track_running_stats=True)\n",
              "        (gelu): GELU(approximate='none')\n",
              "      )\n",
              "    )\n",
              "  )\n",
              "  (stage4): Sequential(\n",
              "    (0): CMTBlock(\n",
              "      (lpu): LPU(\n",
              "        (dwconv): Conv2d(368, 368, kernel_size=(3, 3), stride=(1, 1), padding=(1, 1), groups=368)\n",
              "      )\n",
              "      (mhsa): MHSA(\n",
              "        (fc_q): Linear(in_features=368, out_features=368, bias=True)\n",
              "        (fc_k): Linear(in_features=368, out_features=368, bias=True)\n",
              "        (fc_v): Linear(in_features=368, out_features=368, bias=True)\n",
              "        (fc_o): Linear(in_features=368, out_features=368, bias=True)\n",
              "      )\n",
              "      (irffn): IRFFN(\n",
              "        (conv1): Conv2d(368, 1324, kernel_size=(1, 1), stride=(1, 1))\n",
              "        (bn1): BatchNorm2d(1324, eps=1e-05, momentum=0.1, affine=True, track_running_stats=True)\n",
              "        (dwconv): Conv2d(1324, 1324, kernel_size=(3, 3), stride=(1, 1), padding=(1, 1), groups=1324)\n",
              "        (bn2): BatchNorm2d(1324, eps=1e-05, momentum=0.1, affine=True, track_running_stats=True)\n",
              "        (conv2): Conv2d(1324, 368, kernel_size=(1, 1), stride=(1, 1))\n",
              "        (bn3): BatchNorm2d(368, eps=1e-05, momentum=0.1, affine=True, track_running_stats=True)\n",
              "        (gelu): GELU(approximate='none')\n",
              "      )\n",
              "    )\n",
              "    (1): CMTBlock(\n",
              "      (lpu): LPU(\n",
              "        (dwconv): Conv2d(368, 368, kernel_size=(3, 3), stride=(1, 1), padding=(1, 1), groups=368)\n",
              "      )\n",
              "      (mhsa): MHSA(\n",
              "        (fc_q): Linear(in_features=368, out_features=368, bias=True)\n",
              "        (fc_k): Linear(in_features=368, out_features=368, bias=True)\n",
              "        (fc_v): Linear(in_features=368, out_features=368, bias=True)\n",
              "        (fc_o): Linear(in_features=368, out_features=368, bias=True)\n",
              "      )\n",
              "      (irffn): IRFFN(\n",
              "        (conv1): Conv2d(368, 1324, kernel_size=(1, 1), stride=(1, 1))\n",
              "        (bn1): BatchNorm2d(1324, eps=1e-05, momentum=0.1, affine=True, track_running_stats=True)\n",
              "        (dwconv): Conv2d(1324, 1324, kernel_size=(3, 3), stride=(1, 1), padding=(1, 1), groups=1324)\n",
              "        (bn2): BatchNorm2d(1324, eps=1e-05, momentum=0.1, affine=True, track_running_stats=True)\n",
              "        (conv2): Conv2d(1324, 368, kernel_size=(1, 1), stride=(1, 1))\n",
              "        (bn3): BatchNorm2d(368, eps=1e-05, momentum=0.1, affine=True, track_running_stats=True)\n",
              "        (gelu): GELU(approximate='none')\n",
              "      )\n",
              "    )\n",
              "  )\n",
              "  (avg_pool): AdaptiveAvgPool2d(output_size=1)\n",
              "  (projection): Sequential(\n",
              "    (0): Conv2d(368, 1280, kernel_size=(1, 1), stride=(1, 1))\n",
              "    (1): ReLU(inplace=True)\n",
              "  )\n",
              "  (classifier): Linear(in_features=1280, out_features=10, bias=True)\n",
              ")"
            ]
          },
          "metadata": {},
          "execution_count": 19
        }
      ]
    },
    {
      "cell_type": "markdown",
      "source": [
        "The model is trained using the same training procedure used for all other models."
      ],
      "metadata": {
        "id": "aoo_8cR8rZme"
      }
    },
    {
      "cell_type": "code",
      "source": [
        "# Epochs.\n",
        "EPOCHS = 25\n",
        "\n",
        "# Initial learning rate.\n",
        "LR = 6e-5\n",
        "\n",
        "# Weight decay.\n",
        "WD = 1e-5\n",
        "\n",
        "# Loss function.\n",
        "loss_fn = nn.CrossEntropyLoss()\n",
        "\n",
        "# Optimizer.\n",
        "optimizer = torch.optim.AdamW(m_2.parameters(), lr = LR, weight_decay = WD)\n",
        "\n",
        "# Scheduler.\n",
        "scheduler = torch.optim.lr_scheduler.CosineAnnealingLR(optimizer, EPOCHS)"
      ],
      "metadata": {
        "id": "BbK1Lme4DoTR"
      },
      "execution_count": null,
      "outputs": []
    },
    {
      "cell_type": "code",
      "source": [
        "# Training.\n",
        "history = train(m_2, optimizer, scheduler, loss_fn, train_loader, val_loader, EPOCHS, device)\n",
        "\n",
        "# Creating a checkpoint.\n",
        "checkpoint = {\n",
        "  \"model\": m_2.state_dict(),\n",
        "  \"optimizer\": optimizer.state_dict(),\n",
        "  \"scheduler\": scheduler.state_dict()\n",
        "}\n",
        "\n",
        "# Saving the model.\n",
        "torch.save(checkpoint, \"checkpoint2.pt\")\n",
        "\n",
        "# Saving history.\n",
        "with open(\"m_2_history.pkl\", \"wb\") as f:\n",
        "  pickle.dump(history, f)"
      ],
      "metadata": {
        "id": "PqQui1oRDr8U",
        "colab": {
          "base_uri": "https://localhost:8080/"
        },
        "outputId": "b14c2d8f-f360-43c1-b6db-86885ecebcdb"
      },
      "execution_count": null,
      "outputs": [
        {
          "output_type": "stream",
          "name": "stdout",
          "text": [
            "Epoch  1/25:\n"
          ]
        },
        {
          "output_type": "stream",
          "name": "stderr",
          "text": [
            "Training: 100%|██████████| 1250/1250 [14:58<00:00,  1.39it/s]\n",
            "Validation: 100%|██████████| 313/313 [01:13<00:00,  4.26it/s]\n"
          ]
        },
        {
          "output_type": "stream",
          "name": "stdout",
          "text": [
            "train_loss: 1.4698, train_accuracy: 0.4577, val_loss: 1.1914, val_accuracy: 0.5605, lr: 6.0000e-05\n",
            "\n",
            "Epoch  2/25:\n"
          ]
        },
        {
          "output_type": "stream",
          "name": "stderr",
          "text": [
            "Training: 100%|██████████| 1250/1250 [14:52<00:00,  1.40it/s]\n",
            "Validation: 100%|██████████| 313/313 [01:13<00:00,  4.26it/s]\n"
          ]
        },
        {
          "output_type": "stream",
          "name": "stdout",
          "text": [
            "train_loss: 1.0384, train_accuracy: 0.6288, val_loss: 0.9096, val_accuracy: 0.6788, lr: 5.9763e-05\n",
            "\n",
            "Epoch  3/25:\n"
          ]
        },
        {
          "output_type": "stream",
          "name": "stderr",
          "text": [
            "Training: 100%|██████████| 1250/1250 [14:51<00:00,  1.40it/s]\n",
            "Validation: 100%|██████████| 313/313 [01:13<00:00,  4.27it/s]\n"
          ]
        },
        {
          "output_type": "stream",
          "name": "stdout",
          "text": [
            "train_loss: 0.8447, train_accuracy: 0.6993, val_loss: 0.7750, val_accuracy: 0.7283, lr: 5.9057e-05\n",
            "\n",
            "Epoch  4/25:\n"
          ]
        },
        {
          "output_type": "stream",
          "name": "stderr",
          "text": [
            "Training: 100%|██████████| 1250/1250 [14:53<00:00,  1.40it/s]\n",
            "Validation: 100%|██████████| 313/313 [01:13<00:00,  4.25it/s]\n"
          ]
        },
        {
          "output_type": "stream",
          "name": "stdout",
          "text": [
            "train_loss: 0.7127, train_accuracy: 0.7507, val_loss: 0.6865, val_accuracy: 0.7583, lr: 5.7893e-05\n",
            "\n",
            "Epoch  5/25:\n"
          ]
        },
        {
          "output_type": "stream",
          "name": "stderr",
          "text": [
            "Training: 100%|██████████| 1250/1250 [14:51<00:00,  1.40it/s]\n",
            "Validation: 100%|██████████| 313/313 [01:13<00:00,  4.25it/s]\n"
          ]
        },
        {
          "output_type": "stream",
          "name": "stdout",
          "text": [
            "train_loss: 0.6122, train_accuracy: 0.7859, val_loss: 0.6247, val_accuracy: 0.7834, lr: 5.6289e-05\n",
            "\n",
            "Epoch  6/25:\n"
          ]
        },
        {
          "output_type": "stream",
          "name": "stderr",
          "text": [
            "Training: 100%|██████████| 1250/1250 [14:52<00:00,  1.40it/s]\n",
            "Validation: 100%|██████████| 313/313 [01:13<00:00,  4.26it/s]\n"
          ]
        },
        {
          "output_type": "stream",
          "name": "stdout",
          "text": [
            "train_loss: 0.5547, train_accuracy: 0.8081, val_loss: 0.5725, val_accuracy: 0.8007, lr: 5.4271e-05\n",
            "\n",
            "Epoch  7/25:\n"
          ]
        },
        {
          "output_type": "stream",
          "name": "stderr",
          "text": [
            "Training: 100%|██████████| 1250/1250 [14:51<00:00,  1.40it/s]\n",
            "Validation: 100%|██████████| 313/313 [01:13<00:00,  4.27it/s]\n"
          ]
        },
        {
          "output_type": "stream",
          "name": "stdout",
          "text": [
            "train_loss: 0.4960, train_accuracy: 0.8262, val_loss: 0.5358, val_accuracy: 0.8134, lr: 5.1869e-05\n",
            "\n",
            "Epoch  8/25:\n"
          ]
        },
        {
          "output_type": "stream",
          "name": "stderr",
          "text": [
            "Training: 100%|██████████| 1250/1250 [14:51<00:00,  1.40it/s]\n",
            "Validation: 100%|██████████| 313/313 [01:13<00:00,  4.24it/s]\n"
          ]
        },
        {
          "output_type": "stream",
          "name": "stdout",
          "text": [
            "train_loss: 0.4524, train_accuracy: 0.8428, val_loss: 0.5153, val_accuracy: 0.8235, lr: 4.9123e-05\n",
            "\n",
            "Epoch  9/25:\n"
          ]
        },
        {
          "output_type": "stream",
          "name": "stderr",
          "text": [
            "Training: 100%|██████████| 1250/1250 [14:51<00:00,  1.40it/s]\n",
            "Validation: 100%|██████████| 313/313 [01:13<00:00,  4.25it/s]\n"
          ]
        },
        {
          "output_type": "stream",
          "name": "stdout",
          "text": [
            "train_loss: 0.4140, train_accuracy: 0.8559, val_loss: 0.4927, val_accuracy: 0.8293, lr: 4.6075e-05\n",
            "\n",
            "Epoch 10/25:\n"
          ]
        },
        {
          "output_type": "stream",
          "name": "stderr",
          "text": [
            "Training: 100%|██████████| 1250/1250 [14:52<00:00,  1.40it/s]\n",
            "Validation: 100%|██████████| 313/313 [01:13<00:00,  4.26it/s]\n"
          ]
        },
        {
          "output_type": "stream",
          "name": "stdout",
          "text": [
            "train_loss: 0.3759, train_accuracy: 0.8675, val_loss: 0.4773, val_accuracy: 0.8371, lr: 4.2773e-05\n",
            "\n",
            "Epoch 11/25:\n"
          ]
        },
        {
          "output_type": "stream",
          "name": "stderr",
          "text": [
            "Training: 100%|██████████| 1250/1250 [14:51<00:00,  1.40it/s]\n",
            "Validation: 100%|██████████| 313/313 [01:13<00:00,  4.25it/s]\n"
          ]
        },
        {
          "output_type": "stream",
          "name": "stdout",
          "text": [
            "train_loss: 0.3442, train_accuracy: 0.8802, val_loss: 0.4665, val_accuracy: 0.8433, lr: 3.9271e-05\n",
            "\n",
            "Epoch 12/25:\n"
          ]
        },
        {
          "output_type": "stream",
          "name": "stderr",
          "text": [
            "Training: 100%|██████████| 1250/1250 [14:52<00:00,  1.40it/s]\n",
            "Validation: 100%|██████████| 313/313 [01:13<00:00,  4.27it/s]\n"
          ]
        },
        {
          "output_type": "stream",
          "name": "stdout",
          "text": [
            "train_loss: 0.3132, train_accuracy: 0.8900, val_loss: 0.4459, val_accuracy: 0.8488, lr: 3.5621e-05\n",
            "\n",
            "Epoch 13/25:\n"
          ]
        },
        {
          "output_type": "stream",
          "name": "stderr",
          "text": [
            "Training: 100%|██████████| 1250/1250 [14:52<00:00,  1.40it/s]\n",
            "Validation: 100%|██████████| 313/313 [01:13<00:00,  4.27it/s]\n"
          ]
        },
        {
          "output_type": "stream",
          "name": "stdout",
          "text": [
            "train_loss: 0.2870, train_accuracy: 0.8991, val_loss: 0.4370, val_accuracy: 0.8523, lr: 3.1884e-05\n",
            "\n",
            "Epoch 14/25:\n"
          ]
        },
        {
          "output_type": "stream",
          "name": "stderr",
          "text": [
            "Training: 100%|██████████| 1250/1250 [14:51<00:00,  1.40it/s]\n",
            "Validation: 100%|██████████| 313/313 [01:13<00:00,  4.26it/s]\n"
          ]
        },
        {
          "output_type": "stream",
          "name": "stdout",
          "text": [
            "train_loss: 0.2612, train_accuracy: 0.9086, val_loss: 0.4362, val_accuracy: 0.8573, lr: 2.8116e-05\n",
            "\n",
            "Epoch 15/25:\n"
          ]
        },
        {
          "output_type": "stream",
          "name": "stderr",
          "text": [
            "Training: 100%|██████████| 1250/1250 [14:52<00:00,  1.40it/s]\n",
            "Validation: 100%|██████████| 313/313 [01:13<00:00,  4.26it/s]\n"
          ]
        },
        {
          "output_type": "stream",
          "name": "stdout",
          "text": [
            "train_loss: 0.2389, train_accuracy: 0.9162, val_loss: 0.4353, val_accuracy: 0.8589, lr: 2.4379e-05\n",
            "\n",
            "Epoch 16/25:\n"
          ]
        },
        {
          "output_type": "stream",
          "name": "stderr",
          "text": [
            "Training: 100%|██████████| 1250/1250 [14:53<00:00,  1.40it/s]\n",
            "Validation: 100%|██████████| 313/313 [01:13<00:00,  4.26it/s]\n"
          ]
        },
        {
          "output_type": "stream",
          "name": "stdout",
          "text": [
            "train_loss: 0.2172, train_accuracy: 0.9240, val_loss: 0.4189, val_accuracy: 0.8643, lr: 2.0729e-05\n",
            "\n",
            "Epoch 17/25:\n"
          ]
        },
        {
          "output_type": "stream",
          "name": "stderr",
          "text": [
            "Training: 100%|██████████| 1250/1250 [14:52<00:00,  1.40it/s]\n",
            "Validation: 100%|██████████| 313/313 [01:13<00:00,  4.26it/s]\n"
          ]
        },
        {
          "output_type": "stream",
          "name": "stdout",
          "text": [
            "train_loss: 0.2019, train_accuracy: 0.9302, val_loss: 0.4093, val_accuracy: 0.8674, lr: 1.7227e-05\n",
            "\n",
            "Epoch 18/25:\n"
          ]
        },
        {
          "output_type": "stream",
          "name": "stderr",
          "text": [
            "Training: 100%|██████████| 1250/1250 [14:52<00:00,  1.40it/s]\n",
            "Validation: 100%|██████████| 313/313 [01:13<00:00,  4.25it/s]\n"
          ]
        },
        {
          "output_type": "stream",
          "name": "stdout",
          "text": [
            "train_loss: 0.1870, train_accuracy: 0.9342, val_loss: 0.4098, val_accuracy: 0.8690, lr: 1.3925e-05\n",
            "\n",
            "Epoch 19/25:\n"
          ]
        },
        {
          "output_type": "stream",
          "name": "stderr",
          "text": [
            "Training: 100%|██████████| 1250/1250 [14:52<00:00,  1.40it/s]\n",
            "Validation: 100%|██████████| 313/313 [01:13<00:00,  4.26it/s]\n"
          ]
        },
        {
          "output_type": "stream",
          "name": "stdout",
          "text": [
            "train_loss: 0.1694, train_accuracy: 0.9409, val_loss: 0.3982, val_accuracy: 0.8741, lr: 1.0877e-05\n",
            "\n",
            "Epoch 20/25:\n"
          ]
        },
        {
          "output_type": "stream",
          "name": "stderr",
          "text": [
            "Training: 100%|██████████| 1250/1250 [14:55<00:00,  1.40it/s]\n",
            "Validation: 100%|██████████| 313/313 [01:13<00:00,  4.26it/s]\n"
          ]
        },
        {
          "output_type": "stream",
          "name": "stdout",
          "text": [
            "train_loss: 0.1593, train_accuracy: 0.9459, val_loss: 0.3960, val_accuracy: 0.8761, lr: 8.1309e-06\n",
            "\n",
            "Epoch 21/25:\n"
          ]
        },
        {
          "output_type": "stream",
          "name": "stderr",
          "text": [
            "Training: 100%|██████████| 1250/1250 [14:52<00:00,  1.40it/s]\n",
            "Validation: 100%|██████████| 313/313 [01:13<00:00,  4.25it/s]\n"
          ]
        },
        {
          "output_type": "stream",
          "name": "stdout",
          "text": [
            "train_loss: 0.1511, train_accuracy: 0.9479, val_loss: 0.4026, val_accuracy: 0.8739, lr: 5.7295e-06\n",
            "\n",
            "Epoch 22/25:\n"
          ]
        },
        {
          "output_type": "stream",
          "name": "stderr",
          "text": [
            "Training: 100%|██████████| 1250/1250 [14:53<00:00,  1.40it/s]\n",
            "Validation: 100%|██████████| 313/313 [01:13<00:00,  4.26it/s]\n"
          ]
        },
        {
          "output_type": "stream",
          "name": "stdout",
          "text": [
            "train_loss: 0.1404, train_accuracy: 0.9520, val_loss: 0.3990, val_accuracy: 0.8785, lr: 3.7108e-06\n",
            "\n",
            "Epoch 23/25:\n"
          ]
        },
        {
          "output_type": "stream",
          "name": "stderr",
          "text": [
            "Training: 100%|██████████| 1250/1250 [15:01<00:00,  1.39it/s]\n",
            "Validation: 100%|██████████| 313/313 [01:13<00:00,  4.26it/s]\n"
          ]
        },
        {
          "output_type": "stream",
          "name": "stdout",
          "text": [
            "train_loss: 0.1345, train_accuracy: 0.9537, val_loss: 0.3991, val_accuracy: 0.8756, lr: 2.1067e-06\n",
            "\n",
            "Epoch 24/25:\n"
          ]
        },
        {
          "output_type": "stream",
          "name": "stderr",
          "text": [
            "Training: 100%|██████████| 1250/1250 [14:53<00:00,  1.40it/s]\n",
            "Validation: 100%|██████████| 313/313 [01:13<00:00,  4.27it/s]\n"
          ]
        },
        {
          "output_type": "stream",
          "name": "stdout",
          "text": [
            "train_loss: 0.1345, train_accuracy: 0.9542, val_loss: 0.3968, val_accuracy: 0.8770, lr: 9.4251e-07\n",
            "\n",
            "Epoch 25/25:\n"
          ]
        },
        {
          "output_type": "stream",
          "name": "stderr",
          "text": [
            "Training: 100%|██████████| 1250/1250 [14:52<00:00,  1.40it/s]\n",
            "Validation: 100%|██████████| 313/313 [01:13<00:00,  4.26it/s]\n"
          ]
        },
        {
          "output_type": "stream",
          "name": "stdout",
          "text": [
            "\n",
            "train_loss: 0.1331, train_accuracy: 0.9533, val_loss: 0.3960, val_accuracy: 0.8782, lr: 2.3656e-07\n"
          ]
        }
      ]
    },
    {
      "cell_type": "markdown",
      "source": [
        "### No attention model ($m_3$)"
      ],
      "metadata": {
        "id": "GBo9AEepRzjQ"
      }
    },
    {
      "cell_type": "markdown",
      "source": [
        "Differently from $m_1$ and $m_2$, the $m_3$ model implements CMT-Ti but does not use attention at all."
      ],
      "metadata": {
        "id": "4EASAE47ruon"
      }
    },
    {
      "cell_type": "code",
      "source": [
        "# Defining the model that does not use attention.\n",
        "m_3 = CMT(\n",
        "  in_channels = 3,\n",
        "  stem_channels = 16,\n",
        "  channels = [46, 92, 184, 368],\n",
        "  block_layers = [2, 2, 10, 2],\n",
        "  k = [8, 4, 2, 1],\n",
        "  heads = [1, 2, 4, 8],\n",
        "  R = 3.6,\n",
        "  input_size = 224,\n",
        "  classes = 10,\n",
        "  attention_type = None)\n",
        "\n",
        "# Printing number of parameters.\n",
        "print(f\"m_3 has {sum(p.numel() for p in m_3.parameters())} parameters.\")"
      ],
      "metadata": {
        "id": "wX__-lC4FNRL",
        "colab": {
          "base_uri": "https://localhost:8080/"
        },
        "outputId": "5562f69d-dcd5-4771-dff9-d00280a9dc99"
      },
      "execution_count": null,
      "outputs": [
        {
          "output_type": "stream",
          "name": "stdout",
          "text": [
            "m_3 has 5577668 parameters.\n"
          ]
        }
      ]
    },
    {
      "cell_type": "markdown",
      "source": [
        "By looking at the results printed by the following cell, it is possible to notice how this model implies a number of FLOPs that is slightly lower than the number of FLOPs used by $m_1$, but also a number of parameters that is almost half the number of paramters of $m_1$. This last difference is due to the lack of attention blocks. In particular, $m_3$ has $5.58\\text{M}$ parameters and $0.95\\text{B}$ FLOPs."
      ],
      "metadata": {
        "id": "2P3jk883r8x6"
      }
    },
    {
      "cell_type": "code",
      "source": [
        "# Computing number of FLOPs.\n",
        "flops = FlopCountAnalysis(m_3, (torch.randn((1, 3, 224, 224)),))\n",
        "\n",
        "# Printing number of FLOPs per layer.\n",
        "print(flop_count_str(flops))"
      ],
      "metadata": {
        "colab": {
          "base_uri": "https://localhost:8080/"
        },
        "id": "PMf71I1NihOo",
        "outputId": "df0931bd-0395-4f92-c138-e4d80407759f"
      },
      "execution_count": null,
      "outputs": [
        {
          "output_type": "stream",
          "name": "stdout",
          "text": [
            "CMT(\n",
            "  #params: 5.58M, #flops: 0.95G\n",
            "  (stem): Stem(\n",
            "    #params: 5.18K, #flops: 66.23M\n",
            "    (conv1): Conv2d(\n",
            "      3, 16, kernel_size=(3, 3), stride=(2, 2), padding=(1, 1)\n",
            "      #params: 0.45K, #flops: 5.42M\n",
            "    )\n",
            "    (bn1): BatchNorm2d(\n",
            "      16, eps=1e-05, momentum=0.1, affine=True, track_running_stats=True\n",
            "      #params: 32, #flops: 1M\n",
            "    )\n",
            "    (conv2): Conv2d(\n",
            "      16, 16, kernel_size=(3, 3), stride=(1, 1), padding=(1, 1)\n",
            "      #params: 2.32K, #flops: 28.9M\n",
            "    )\n",
            "    (bn2): BatchNorm2d(\n",
            "      16, eps=1e-05, momentum=0.1, affine=True, track_running_stats=True\n",
            "      #params: 32, #flops: 1M\n",
            "    )\n",
            "    (conv3): Conv2d(\n",
            "      16, 16, kernel_size=(3, 3), stride=(1, 1), padding=(1, 1)\n",
            "      #params: 2.32K, #flops: 28.9M\n",
            "    )\n",
            "    (bn3): BatchNorm2d(\n",
            "      16, eps=1e-05, momentum=0.1, affine=True, track_running_stats=True\n",
            "      #params: 32, #flops: 1M\n",
            "    )\n",
            "    (gelu): GELU(approximate='none')\n",
            "  )\n",
            "  (pe1): PatchEmbedding(\n",
            "    #params: 2.99K, #flops: 9.81M\n",
            "    (conv): Conv2d(\n",
            "      16, 46, kernel_size=(2, 2), stride=(2, 2)\n",
            "      #params: 2.99K, #flops: 9.23M\n",
            "    )\n",
            "  )\n",
            "  (pe2): PatchEmbedding(\n",
            "    #params: 17.02K, #flops: 13.56M\n",
            "    (conv): Conv2d(\n",
            "      46, 92, kernel_size=(2, 2), stride=(2, 2)\n",
            "      #params: 17.02K, #flops: 13.27M\n",
            "    )\n",
            "  )\n",
            "  (pe3): PatchEmbedding(\n",
            "    #params: 67.9K, #flops: 13.42M\n",
            "    (conv): Conv2d(\n",
            "      92, 184, kernel_size=(2, 2), stride=(2, 2)\n",
            "      #params: 67.9K, #flops: 13.27M\n",
            "    )\n",
            "  )\n",
            "  (pe4): PatchEmbedding(\n",
            "    #params: 0.27M, #flops: 13.34M\n",
            "    (conv): Conv2d(\n",
            "      184, 368, kernel_size=(2, 2), stride=(2, 2)\n",
            "      #params: 0.27M, #flops: 13.27M\n",
            "    )\n",
            "  )\n",
            "  (stage1): Sequential(\n",
            "    #params: 36.51K, #flops: 0.12G\n",
            "    (0): CMTBlock(\n",
            "      #params: 18.25K, #flops: 59.46M\n",
            "      (lpu): LPU(\n",
            "        #params: 0.46K, #flops: 1.3M\n",
            "        (dwconv): Conv2d(\n",
            "          46, 46, kernel_size=(3, 3), stride=(1, 1), padding=(1, 1), groups=46\n",
            "          #params: 0.46K, #flops: 1.3M\n",
            "        )\n",
            "      )\n",
            "      (irffn): IRFFN(\n",
            "        #params: 17.79K, #flops: 58.16M\n",
            "        (conv1): Conv2d(\n",
            "          46, 165, kernel_size=(1, 1), stride=(1, 1)\n",
            "          #params: 7.75K, #flops: 23.8M\n",
            "        )\n",
            "        (bn1): BatchNorm2d(\n",
            "          165, eps=1e-05, momentum=0.1, affine=True, track_running_stats=True\n",
            "          #params: 0.33K, #flops: 2.59M\n",
            "        )\n",
            "        (dwconv): Conv2d(\n",
            "          165, 165, kernel_size=(3, 3), stride=(1, 1), padding=(1, 1), groups=165\n",
            "          #params: 1.65K, #flops: 4.66M\n",
            "        )\n",
            "        (bn2): BatchNorm2d(\n",
            "          165, eps=1e-05, momentum=0.1, affine=True, track_running_stats=True\n",
            "          #params: 0.33K, #flops: 2.59M\n",
            "        )\n",
            "        (conv2): Conv2d(\n",
            "          165, 46, kernel_size=(1, 1), stride=(1, 1)\n",
            "          #params: 7.64K, #flops: 23.8M\n",
            "        )\n",
            "        (bn3): BatchNorm2d(\n",
            "          46, eps=1e-05, momentum=0.1, affine=True, track_running_stats=True\n",
            "          #params: 92, #flops: 0.72M\n",
            "        )\n",
            "        (gelu): GELU(approximate='none')\n",
            "      )\n",
            "    )\n",
            "    (1): CMTBlock(\n",
            "      #params: 18.25K, #flops: 59.46M\n",
            "      (lpu): LPU(\n",
            "        #params: 0.46K, #flops: 1.3M\n",
            "        (dwconv): Conv2d(\n",
            "          46, 46, kernel_size=(3, 3), stride=(1, 1), padding=(1, 1), groups=46\n",
            "          #params: 0.46K, #flops: 1.3M\n",
            "        )\n",
            "      )\n",
            "      (irffn): IRFFN(\n",
            "        #params: 17.79K, #flops: 58.16M\n",
            "        (conv1): Conv2d(\n",
            "          46, 165, kernel_size=(1, 1), stride=(1, 1)\n",
            "          #params: 7.75K, #flops: 23.8M\n",
            "        )\n",
            "        (bn1): BatchNorm2d(\n",
            "          165, eps=1e-05, momentum=0.1, affine=True, track_running_stats=True\n",
            "          #params: 0.33K, #flops: 2.59M\n",
            "        )\n",
            "        (dwconv): Conv2d(\n",
            "          165, 165, kernel_size=(3, 3), stride=(1, 1), padding=(1, 1), groups=165\n",
            "          #params: 1.65K, #flops: 4.66M\n",
            "        )\n",
            "        (bn2): BatchNorm2d(\n",
            "          165, eps=1e-05, momentum=0.1, affine=True, track_running_stats=True\n",
            "          #params: 0.33K, #flops: 2.59M\n",
            "        )\n",
            "        (conv2): Conv2d(\n",
            "          165, 46, kernel_size=(1, 1), stride=(1, 1)\n",
            "          #params: 7.64K, #flops: 23.8M\n",
            "        )\n",
            "        (bn3): BatchNorm2d(\n",
            "          46, eps=1e-05, momentum=0.1, affine=True, track_running_stats=True\n",
            "          #params: 92, #flops: 0.72M\n",
            "        )\n",
            "        (gelu): GELU(approximate='none')\n",
            "      )\n",
            "    )\n",
            "  )\n",
            "  (stage2): Sequential(\n",
            "    #params: 0.13M, #flops: 0.11G\n",
            "    (0): CMTBlock(\n",
            "      #params: 67.06K, #flops: 53.69M\n",
            "      (lpu): LPU(\n",
            "        #params: 0.92K, #flops: 0.65M\n",
            "        (dwconv): Conv2d(\n",
            "          92, 92, kernel_size=(3, 3), stride=(1, 1), padding=(1, 1), groups=92\n",
            "          #params: 0.92K, #flops: 0.65M\n",
            "        )\n",
            "      )\n",
            "      (irffn): IRFFN(\n",
            "        #params: 66.14K, #flops: 53.04M\n",
            "        (conv1): Conv2d(\n",
            "          92, 331, kernel_size=(1, 1), stride=(1, 1)\n",
            "          #params: 30.78K, #flops: 23.87M\n",
            "        )\n",
            "        (bn1): BatchNorm2d(\n",
            "          331, eps=1e-05, momentum=0.1, affine=True, track_running_stats=True\n",
            "          #params: 0.66K, #flops: 1.3M\n",
            "        )\n",
            "        (dwconv): Conv2d(\n",
            "          331, 331, kernel_size=(3, 3), stride=(1, 1), padding=(1, 1), groups=331\n",
            "          #params: 3.31K, #flops: 2.34M\n",
            "        )\n",
            "        (bn2): BatchNorm2d(\n",
            "          331, eps=1e-05, momentum=0.1, affine=True, track_running_stats=True\n",
            "          #params: 0.66K, #flops: 1.3M\n",
            "        )\n",
            "        (conv2): Conv2d(\n",
            "          331, 92, kernel_size=(1, 1), stride=(1, 1)\n",
            "          #params: 30.54K, #flops: 23.87M\n",
            "        )\n",
            "        (bn3): BatchNorm2d(\n",
            "          92, eps=1e-05, momentum=0.1, affine=True, track_running_stats=True\n",
            "          #params: 0.18K, #flops: 0.36M\n",
            "        )\n",
            "        (gelu): GELU(approximate='none')\n",
            "      )\n",
            "    )\n",
            "    (1): CMTBlock(\n",
            "      #params: 67.06K, #flops: 53.69M\n",
            "      (lpu): LPU(\n",
            "        #params: 0.92K, #flops: 0.65M\n",
            "        (dwconv): Conv2d(\n",
            "          92, 92, kernel_size=(3, 3), stride=(1, 1), padding=(1, 1), groups=92\n",
            "          #params: 0.92K, #flops: 0.65M\n",
            "        )\n",
            "      )\n",
            "      (irffn): IRFFN(\n",
            "        #params: 66.14K, #flops: 53.04M\n",
            "        (conv1): Conv2d(\n",
            "          92, 331, kernel_size=(1, 1), stride=(1, 1)\n",
            "          #params: 30.78K, #flops: 23.87M\n",
            "        )\n",
            "        (bn1): BatchNorm2d(\n",
            "          331, eps=1e-05, momentum=0.1, affine=True, track_running_stats=True\n",
            "          #params: 0.66K, #flops: 1.3M\n",
            "        )\n",
            "        (dwconv): Conv2d(\n",
            "          331, 331, kernel_size=(3, 3), stride=(1, 1), padding=(1, 1), groups=331\n",
            "          #params: 3.31K, #flops: 2.34M\n",
            "        )\n",
            "        (bn2): BatchNorm2d(\n",
            "          331, eps=1e-05, momentum=0.1, affine=True, track_running_stats=True\n",
            "          #params: 0.66K, #flops: 1.3M\n",
            "        )\n",
            "        (conv2): Conv2d(\n",
            "          331, 92, kernel_size=(1, 1), stride=(1, 1)\n",
            "          #params: 30.54K, #flops: 23.87M\n",
            "        )\n",
            "        (bn3): BatchNorm2d(\n",
            "          92, eps=1e-05, momentum=0.1, affine=True, track_running_stats=True\n",
            "          #params: 0.18K, #flops: 0.36M\n",
            "        )\n",
            "        (gelu): GELU(approximate='none')\n",
            "      )\n",
            "    )\n",
            "  )\n",
            "  (stage3): Sequential(\n",
            "    #params: 2.56M, #flops: 0.51G\n",
            "    (0): CMTBlock(\n",
            "      #params: 0.26M, #flops: 50.72M\n",
            "      (lpu): LPU(\n",
            "        #params: 1.84K, #flops: 0.32M\n",
            "        (dwconv): Conv2d(\n",
            "          184, 184, kernel_size=(3, 3), stride=(1, 1), padding=(1, 1), groups=184\n",
            "          #params: 1.84K, #flops: 0.32M\n",
            "        )\n",
            "      )\n",
            "      (irffn): IRFFN(\n",
            "        #params: 0.25M, #flops: 50.39M\n",
            "        (conv1): Conv2d(\n",
            "          184, 662, kernel_size=(1, 1), stride=(1, 1)\n",
            "          #params: 0.12M, #flops: 23.87M\n",
            "        )\n",
            "        (bn1): BatchNorm2d(\n",
            "          662, eps=1e-05, momentum=0.1, affine=True, track_running_stats=True\n",
            "          #params: 1.32K, #flops: 0.65M\n",
            "        )\n",
            "        (dwconv): Conv2d(\n",
            "          662, 662, kernel_size=(3, 3), stride=(1, 1), padding=(1, 1), groups=662\n",
            "          #params: 6.62K, #flops: 1.17M\n",
            "        )\n",
            "        (bn2): BatchNorm2d(\n",
            "          662, eps=1e-05, momentum=0.1, affine=True, track_running_stats=True\n",
            "          #params: 1.32K, #flops: 0.65M\n",
            "        )\n",
            "        (conv2): Conv2d(\n",
            "          662, 184, kernel_size=(1, 1), stride=(1, 1)\n",
            "          #params: 0.12M, #flops: 23.87M\n",
            "        )\n",
            "        (bn3): BatchNorm2d(\n",
            "          184, eps=1e-05, momentum=0.1, affine=True, track_running_stats=True\n",
            "          #params: 0.37K, #flops: 0.18M\n",
            "        )\n",
            "        (gelu): GELU(approximate='none')\n",
            "      )\n",
            "    )\n",
            "    (1): CMTBlock(\n",
            "      #params: 0.26M, #flops: 50.72M\n",
            "      (lpu): LPU(\n",
            "        #params: 1.84K, #flops: 0.32M\n",
            "        (dwconv): Conv2d(\n",
            "          184, 184, kernel_size=(3, 3), stride=(1, 1), padding=(1, 1), groups=184\n",
            "          #params: 1.84K, #flops: 0.32M\n",
            "        )\n",
            "      )\n",
            "      (irffn): IRFFN(\n",
            "        #params: 0.25M, #flops: 50.39M\n",
            "        (conv1): Conv2d(\n",
            "          184, 662, kernel_size=(1, 1), stride=(1, 1)\n",
            "          #params: 0.12M, #flops: 23.87M\n",
            "        )\n",
            "        (bn1): BatchNorm2d(\n",
            "          662, eps=1e-05, momentum=0.1, affine=True, track_running_stats=True\n",
            "          #params: 1.32K, #flops: 0.65M\n",
            "        )\n",
            "        (dwconv): Conv2d(\n",
            "          662, 662, kernel_size=(3, 3), stride=(1, 1), padding=(1, 1), groups=662\n",
            "          #params: 6.62K, #flops: 1.17M\n",
            "        )\n",
            "        (bn2): BatchNorm2d(\n",
            "          662, eps=1e-05, momentum=0.1, affine=True, track_running_stats=True\n",
            "          #params: 1.32K, #flops: 0.65M\n",
            "        )\n",
            "        (conv2): Conv2d(\n",
            "          662, 184, kernel_size=(1, 1), stride=(1, 1)\n",
            "          #params: 0.12M, #flops: 23.87M\n",
            "        )\n",
            "        (bn3): BatchNorm2d(\n",
            "          184, eps=1e-05, momentum=0.1, affine=True, track_running_stats=True\n",
            "          #params: 0.37K, #flops: 0.18M\n",
            "        )\n",
            "        (gelu): GELU(approximate='none')\n",
            "      )\n",
            "    )\n",
            "    (2): CMTBlock(\n",
            "      #params: 0.26M, #flops: 50.72M\n",
            "      (lpu): LPU(\n",
            "        #params: 1.84K, #flops: 0.32M\n",
            "        (dwconv): Conv2d(\n",
            "          184, 184, kernel_size=(3, 3), stride=(1, 1), padding=(1, 1), groups=184\n",
            "          #params: 1.84K, #flops: 0.32M\n",
            "        )\n",
            "      )\n",
            "      (irffn): IRFFN(\n",
            "        #params: 0.25M, #flops: 50.39M\n",
            "        (conv1): Conv2d(\n",
            "          184, 662, kernel_size=(1, 1), stride=(1, 1)\n",
            "          #params: 0.12M, #flops: 23.87M\n",
            "        )\n",
            "        (bn1): BatchNorm2d(\n",
            "          662, eps=1e-05, momentum=0.1, affine=True, track_running_stats=True\n",
            "          #params: 1.32K, #flops: 0.65M\n",
            "        )\n",
            "        (dwconv): Conv2d(\n",
            "          662, 662, kernel_size=(3, 3), stride=(1, 1), padding=(1, 1), groups=662\n",
            "          #params: 6.62K, #flops: 1.17M\n",
            "        )\n",
            "        (bn2): BatchNorm2d(\n",
            "          662, eps=1e-05, momentum=0.1, affine=True, track_running_stats=True\n",
            "          #params: 1.32K, #flops: 0.65M\n",
            "        )\n",
            "        (conv2): Conv2d(\n",
            "          662, 184, kernel_size=(1, 1), stride=(1, 1)\n",
            "          #params: 0.12M, #flops: 23.87M\n",
            "        )\n",
            "        (bn3): BatchNorm2d(\n",
            "          184, eps=1e-05, momentum=0.1, affine=True, track_running_stats=True\n",
            "          #params: 0.37K, #flops: 0.18M\n",
            "        )\n",
            "        (gelu): GELU(approximate='none')\n",
            "      )\n",
            "    )\n",
            "    (3): CMTBlock(\n",
            "      #params: 0.26M, #flops: 50.72M\n",
            "      (lpu): LPU(\n",
            "        #params: 1.84K, #flops: 0.32M\n",
            "        (dwconv): Conv2d(\n",
            "          184, 184, kernel_size=(3, 3), stride=(1, 1), padding=(1, 1), groups=184\n",
            "          #params: 1.84K, #flops: 0.32M\n",
            "        )\n",
            "      )\n",
            "      (irffn): IRFFN(\n",
            "        #params: 0.25M, #flops: 50.39M\n",
            "        (conv1): Conv2d(\n",
            "          184, 662, kernel_size=(1, 1), stride=(1, 1)\n",
            "          #params: 0.12M, #flops: 23.87M\n",
            "        )\n",
            "        (bn1): BatchNorm2d(\n",
            "          662, eps=1e-05, momentum=0.1, affine=True, track_running_stats=True\n",
            "          #params: 1.32K, #flops: 0.65M\n",
            "        )\n",
            "        (dwconv): Conv2d(\n",
            "          662, 662, kernel_size=(3, 3), stride=(1, 1), padding=(1, 1), groups=662\n",
            "          #params: 6.62K, #flops: 1.17M\n",
            "        )\n",
            "        (bn2): BatchNorm2d(\n",
            "          662, eps=1e-05, momentum=0.1, affine=True, track_running_stats=True\n",
            "          #params: 1.32K, #flops: 0.65M\n",
            "        )\n",
            "        (conv2): Conv2d(\n",
            "          662, 184, kernel_size=(1, 1), stride=(1, 1)\n",
            "          #params: 0.12M, #flops: 23.87M\n",
            "        )\n",
            "        (bn3): BatchNorm2d(\n",
            "          184, eps=1e-05, momentum=0.1, affine=True, track_running_stats=True\n",
            "          #params: 0.37K, #flops: 0.18M\n",
            "        )\n",
            "        (gelu): GELU(approximate='none')\n",
            "      )\n",
            "    )\n",
            "    (4): CMTBlock(\n",
            "      #params: 0.26M, #flops: 50.72M\n",
            "      (lpu): LPU(\n",
            "        #params: 1.84K, #flops: 0.32M\n",
            "        (dwconv): Conv2d(\n",
            "          184, 184, kernel_size=(3, 3), stride=(1, 1), padding=(1, 1), groups=184\n",
            "          #params: 1.84K, #flops: 0.32M\n",
            "        )\n",
            "      )\n",
            "      (irffn): IRFFN(\n",
            "        #params: 0.25M, #flops: 50.39M\n",
            "        (conv1): Conv2d(\n",
            "          184, 662, kernel_size=(1, 1), stride=(1, 1)\n",
            "          #params: 0.12M, #flops: 23.87M\n",
            "        )\n",
            "        (bn1): BatchNorm2d(\n",
            "          662, eps=1e-05, momentum=0.1, affine=True, track_running_stats=True\n",
            "          #params: 1.32K, #flops: 0.65M\n",
            "        )\n",
            "        (dwconv): Conv2d(\n",
            "          662, 662, kernel_size=(3, 3), stride=(1, 1), padding=(1, 1), groups=662\n",
            "          #params: 6.62K, #flops: 1.17M\n",
            "        )\n",
            "        (bn2): BatchNorm2d(\n",
            "          662, eps=1e-05, momentum=0.1, affine=True, track_running_stats=True\n",
            "          #params: 1.32K, #flops: 0.65M\n",
            "        )\n",
            "        (conv2): Conv2d(\n",
            "          662, 184, kernel_size=(1, 1), stride=(1, 1)\n",
            "          #params: 0.12M, #flops: 23.87M\n",
            "        )\n",
            "        (bn3): BatchNorm2d(\n",
            "          184, eps=1e-05, momentum=0.1, affine=True, track_running_stats=True\n",
            "          #params: 0.37K, #flops: 0.18M\n",
            "        )\n",
            "        (gelu): GELU(approximate='none')\n",
            "      )\n",
            "    )\n",
            "    (5): CMTBlock(\n",
            "      #params: 0.26M, #flops: 50.72M\n",
            "      (lpu): LPU(\n",
            "        #params: 1.84K, #flops: 0.32M\n",
            "        (dwconv): Conv2d(\n",
            "          184, 184, kernel_size=(3, 3), stride=(1, 1), padding=(1, 1), groups=184\n",
            "          #params: 1.84K, #flops: 0.32M\n",
            "        )\n",
            "      )\n",
            "      (irffn): IRFFN(\n",
            "        #params: 0.25M, #flops: 50.39M\n",
            "        (conv1): Conv2d(\n",
            "          184, 662, kernel_size=(1, 1), stride=(1, 1)\n",
            "          #params: 0.12M, #flops: 23.87M\n",
            "        )\n",
            "        (bn1): BatchNorm2d(\n",
            "          662, eps=1e-05, momentum=0.1, affine=True, track_running_stats=True\n",
            "          #params: 1.32K, #flops: 0.65M\n",
            "        )\n",
            "        (dwconv): Conv2d(\n",
            "          662, 662, kernel_size=(3, 3), stride=(1, 1), padding=(1, 1), groups=662\n",
            "          #params: 6.62K, #flops: 1.17M\n",
            "        )\n",
            "        (bn2): BatchNorm2d(\n",
            "          662, eps=1e-05, momentum=0.1, affine=True, track_running_stats=True\n",
            "          #params: 1.32K, #flops: 0.65M\n",
            "        )\n",
            "        (conv2): Conv2d(\n",
            "          662, 184, kernel_size=(1, 1), stride=(1, 1)\n",
            "          #params: 0.12M, #flops: 23.87M\n",
            "        )\n",
            "        (bn3): BatchNorm2d(\n",
            "          184, eps=1e-05, momentum=0.1, affine=True, track_running_stats=True\n",
            "          #params: 0.37K, #flops: 0.18M\n",
            "        )\n",
            "        (gelu): GELU(approximate='none')\n",
            "      )\n",
            "    )\n",
            "    (6): CMTBlock(\n",
            "      #params: 0.26M, #flops: 50.72M\n",
            "      (lpu): LPU(\n",
            "        #params: 1.84K, #flops: 0.32M\n",
            "        (dwconv): Conv2d(\n",
            "          184, 184, kernel_size=(3, 3), stride=(1, 1), padding=(1, 1), groups=184\n",
            "          #params: 1.84K, #flops: 0.32M\n",
            "        )\n",
            "      )\n",
            "      (irffn): IRFFN(\n",
            "        #params: 0.25M, #flops: 50.39M\n",
            "        (conv1): Conv2d(\n",
            "          184, 662, kernel_size=(1, 1), stride=(1, 1)\n",
            "          #params: 0.12M, #flops: 23.87M\n",
            "        )\n",
            "        (bn1): BatchNorm2d(\n",
            "          662, eps=1e-05, momentum=0.1, affine=True, track_running_stats=True\n",
            "          #params: 1.32K, #flops: 0.65M\n",
            "        )\n",
            "        (dwconv): Conv2d(\n",
            "          662, 662, kernel_size=(3, 3), stride=(1, 1), padding=(1, 1), groups=662\n",
            "          #params: 6.62K, #flops: 1.17M\n",
            "        )\n",
            "        (bn2): BatchNorm2d(\n",
            "          662, eps=1e-05, momentum=0.1, affine=True, track_running_stats=True\n",
            "          #params: 1.32K, #flops: 0.65M\n",
            "        )\n",
            "        (conv2): Conv2d(\n",
            "          662, 184, kernel_size=(1, 1), stride=(1, 1)\n",
            "          #params: 0.12M, #flops: 23.87M\n",
            "        )\n",
            "        (bn3): BatchNorm2d(\n",
            "          184, eps=1e-05, momentum=0.1, affine=True, track_running_stats=True\n",
            "          #params: 0.37K, #flops: 0.18M\n",
            "        )\n",
            "        (gelu): GELU(approximate='none')\n",
            "      )\n",
            "    )\n",
            "    (7): CMTBlock(\n",
            "      #params: 0.26M, #flops: 50.72M\n",
            "      (lpu): LPU(\n",
            "        #params: 1.84K, #flops: 0.32M\n",
            "        (dwconv): Conv2d(\n",
            "          184, 184, kernel_size=(3, 3), stride=(1, 1), padding=(1, 1), groups=184\n",
            "          #params: 1.84K, #flops: 0.32M\n",
            "        )\n",
            "      )\n",
            "      (irffn): IRFFN(\n",
            "        #params: 0.25M, #flops: 50.39M\n",
            "        (conv1): Conv2d(\n",
            "          184, 662, kernel_size=(1, 1), stride=(1, 1)\n",
            "          #params: 0.12M, #flops: 23.87M\n",
            "        )\n",
            "        (bn1): BatchNorm2d(\n",
            "          662, eps=1e-05, momentum=0.1, affine=True, track_running_stats=True\n",
            "          #params: 1.32K, #flops: 0.65M\n",
            "        )\n",
            "        (dwconv): Conv2d(\n",
            "          662, 662, kernel_size=(3, 3), stride=(1, 1), padding=(1, 1), groups=662\n",
            "          #params: 6.62K, #flops: 1.17M\n",
            "        )\n",
            "        (bn2): BatchNorm2d(\n",
            "          662, eps=1e-05, momentum=0.1, affine=True, track_running_stats=True\n",
            "          #params: 1.32K, #flops: 0.65M\n",
            "        )\n",
            "        (conv2): Conv2d(\n",
            "          662, 184, kernel_size=(1, 1), stride=(1, 1)\n",
            "          #params: 0.12M, #flops: 23.87M\n",
            "        )\n",
            "        (bn3): BatchNorm2d(\n",
            "          184, eps=1e-05, momentum=0.1, affine=True, track_running_stats=True\n",
            "          #params: 0.37K, #flops: 0.18M\n",
            "        )\n",
            "        (gelu): GELU(approximate='none')\n",
            "      )\n",
            "    )\n",
            "    (8): CMTBlock(\n",
            "      #params: 0.26M, #flops: 50.72M\n",
            "      (lpu): LPU(\n",
            "        #params: 1.84K, #flops: 0.32M\n",
            "        (dwconv): Conv2d(\n",
            "          184, 184, kernel_size=(3, 3), stride=(1, 1), padding=(1, 1), groups=184\n",
            "          #params: 1.84K, #flops: 0.32M\n",
            "        )\n",
            "      )\n",
            "      (irffn): IRFFN(\n",
            "        #params: 0.25M, #flops: 50.39M\n",
            "        (conv1): Conv2d(\n",
            "          184, 662, kernel_size=(1, 1), stride=(1, 1)\n",
            "          #params: 0.12M, #flops: 23.87M\n",
            "        )\n",
            "        (bn1): BatchNorm2d(\n",
            "          662, eps=1e-05, momentum=0.1, affine=True, track_running_stats=True\n",
            "          #params: 1.32K, #flops: 0.65M\n",
            "        )\n",
            "        (dwconv): Conv2d(\n",
            "          662, 662, kernel_size=(3, 3), stride=(1, 1), padding=(1, 1), groups=662\n",
            "          #params: 6.62K, #flops: 1.17M\n",
            "        )\n",
            "        (bn2): BatchNorm2d(\n",
            "          662, eps=1e-05, momentum=0.1, affine=True, track_running_stats=True\n",
            "          #params: 1.32K, #flops: 0.65M\n",
            "        )\n",
            "        (conv2): Conv2d(\n",
            "          662, 184, kernel_size=(1, 1), stride=(1, 1)\n",
            "          #params: 0.12M, #flops: 23.87M\n",
            "        )\n",
            "        (bn3): BatchNorm2d(\n",
            "          184, eps=1e-05, momentum=0.1, affine=True, track_running_stats=True\n",
            "          #params: 0.37K, #flops: 0.18M\n",
            "        )\n",
            "        (gelu): GELU(approximate='none')\n",
            "      )\n",
            "    )\n",
            "    (9): CMTBlock(\n",
            "      #params: 0.26M, #flops: 50.72M\n",
            "      (lpu): LPU(\n",
            "        #params: 1.84K, #flops: 0.32M\n",
            "        (dwconv): Conv2d(\n",
            "          184, 184, kernel_size=(3, 3), stride=(1, 1), padding=(1, 1), groups=184\n",
            "          #params: 1.84K, #flops: 0.32M\n",
            "        )\n",
            "      )\n",
            "      (irffn): IRFFN(\n",
            "        #params: 0.25M, #flops: 50.39M\n",
            "        (conv1): Conv2d(\n",
            "          184, 662, kernel_size=(1, 1), stride=(1, 1)\n",
            "          #params: 0.12M, #flops: 23.87M\n",
            "        )\n",
            "        (bn1): BatchNorm2d(\n",
            "          662, eps=1e-05, momentum=0.1, affine=True, track_running_stats=True\n",
            "          #params: 1.32K, #flops: 0.65M\n",
            "        )\n",
            "        (dwconv): Conv2d(\n",
            "          662, 662, kernel_size=(3, 3), stride=(1, 1), padding=(1, 1), groups=662\n",
            "          #params: 6.62K, #flops: 1.17M\n",
            "        )\n",
            "        (bn2): BatchNorm2d(\n",
            "          662, eps=1e-05, momentum=0.1, affine=True, track_running_stats=True\n",
            "          #params: 1.32K, #flops: 0.65M\n",
            "        )\n",
            "        (conv2): Conv2d(\n",
            "          662, 184, kernel_size=(1, 1), stride=(1, 1)\n",
            "          #params: 0.12M, #flops: 23.87M\n",
            "        )\n",
            "        (bn3): BatchNorm2d(\n",
            "          184, eps=1e-05, momentum=0.1, affine=True, track_running_stats=True\n",
            "          #params: 0.37K, #flops: 0.18M\n",
            "        )\n",
            "        (gelu): GELU(approximate='none')\n",
            "      )\n",
            "    )\n",
            "  )\n",
            "  (stage4): Sequential(\n",
            "    #params: 2M, #flops: 98.47M\n",
            "    (0): CMTBlock(\n",
            "      #params: 1M, #flops: 49.23M\n",
            "      (lpu): LPU(\n",
            "        #params: 3.68K, #flops: 0.16M\n",
            "        (dwconv): Conv2d(\n",
            "          368, 368, kernel_size=(3, 3), stride=(1, 1), padding=(1, 1), groups=368\n",
            "          #params: 3.68K, #flops: 0.16M\n",
            "        )\n",
            "      )\n",
            "      (irffn): IRFFN(\n",
            "        #params: 1M, #flops: 49.07M\n",
            "        (conv1): Conv2d(\n",
            "          368, 1324, kernel_size=(1, 1), stride=(1, 1)\n",
            "          #params: 0.49M, #flops: 23.87M\n",
            "        )\n",
            "        (bn1): BatchNorm2d(\n",
            "          1324, eps=1e-05, momentum=0.1, affine=True, track_running_stats=True\n",
            "          #params: 2.65K, #flops: 0.32M\n",
            "        )\n",
            "        (dwconv): Conv2d(\n",
            "          1324, 1324, kernel_size=(3, 3), stride=(1, 1), padding=(1, 1), groups=1324\n",
            "          #params: 13.24K, #flops: 0.58M\n",
            "        )\n",
            "        (bn2): BatchNorm2d(\n",
            "          1324, eps=1e-05, momentum=0.1, affine=True, track_running_stats=True\n",
            "          #params: 2.65K, #flops: 0.32M\n",
            "        )\n",
            "        (conv2): Conv2d(\n",
            "          1324, 368, kernel_size=(1, 1), stride=(1, 1)\n",
            "          #params: 0.49M, #flops: 23.87M\n",
            "        )\n",
            "        (bn3): BatchNorm2d(\n",
            "          368, eps=1e-05, momentum=0.1, affine=True, track_running_stats=True\n",
            "          #params: 0.74K, #flops: 90.16K\n",
            "        )\n",
            "        (gelu): GELU(approximate='none')\n",
            "      )\n",
            "    )\n",
            "    (1): CMTBlock(\n",
            "      #params: 1M, #flops: 49.23M\n",
            "      (lpu): LPU(\n",
            "        #params: 3.68K, #flops: 0.16M\n",
            "        (dwconv): Conv2d(\n",
            "          368, 368, kernel_size=(3, 3), stride=(1, 1), padding=(1, 1), groups=368\n",
            "          #params: 3.68K, #flops: 0.16M\n",
            "        )\n",
            "      )\n",
            "      (irffn): IRFFN(\n",
            "        #params: 1M, #flops: 49.07M\n",
            "        (conv1): Conv2d(\n",
            "          368, 1324, kernel_size=(1, 1), stride=(1, 1)\n",
            "          #params: 0.49M, #flops: 23.87M\n",
            "        )\n",
            "        (bn1): BatchNorm2d(\n",
            "          1324, eps=1e-05, momentum=0.1, affine=True, track_running_stats=True\n",
            "          #params: 2.65K, #flops: 0.32M\n",
            "        )\n",
            "        (dwconv): Conv2d(\n",
            "          1324, 1324, kernel_size=(3, 3), stride=(1, 1), padding=(1, 1), groups=1324\n",
            "          #params: 13.24K, #flops: 0.58M\n",
            "        )\n",
            "        (bn2): BatchNorm2d(\n",
            "          1324, eps=1e-05, momentum=0.1, affine=True, track_running_stats=True\n",
            "          #params: 2.65K, #flops: 0.32M\n",
            "        )\n",
            "        (conv2): Conv2d(\n",
            "          1324, 368, kernel_size=(1, 1), stride=(1, 1)\n",
            "          #params: 0.49M, #flops: 23.87M\n",
            "        )\n",
            "        (bn3): BatchNorm2d(\n",
            "          368, eps=1e-05, momentum=0.1, affine=True, track_running_stats=True\n",
            "          #params: 0.74K, #flops: 90.16K\n",
            "        )\n",
            "        (gelu): GELU(approximate='none')\n",
            "      )\n",
            "    )\n",
            "  )\n",
            "  (avg_pool): AdaptiveAvgPool2d(\n",
            "    output_size=1\n",
            "    #params: 0, #flops: 18.03K\n",
            "  )\n",
            "  (projection): Sequential(\n",
            "    #params: 0.47M, #flops: 0.47M\n",
            "    (0): Conv2d(\n",
            "      368, 1280, kernel_size=(1, 1), stride=(1, 1)\n",
            "      #params: 0.47M, #flops: 0.47M\n",
            "    )\n",
            "    (1): ReLU(inplace=True)\n",
            "  )\n",
            "  (classifier): Linear(\n",
            "    in_features=1280, out_features=10, bias=True\n",
            "    #params: 12.81K, #flops: 12.8K\n",
            "  )\n",
            ")\n"
          ]
        }
      ]
    },
    {
      "cell_type": "code",
      "source": [
        "# Loading model to device.\n",
        "m_3.to(device)"
      ],
      "metadata": {
        "id": "zCWwDnRHFbOt",
        "colab": {
          "base_uri": "https://localhost:8080/"
        },
        "outputId": "96cfe4c5-7737-4048-c107-fd06be903d99"
      },
      "execution_count": null,
      "outputs": [
        {
          "output_type": "execute_result",
          "data": {
            "text/plain": [
              "CMT(\n",
              "  (stem): Stem(\n",
              "    (conv1): Conv2d(3, 16, kernel_size=(3, 3), stride=(2, 2), padding=(1, 1))\n",
              "    (bn1): BatchNorm2d(16, eps=1e-05, momentum=0.1, affine=True, track_running_stats=True)\n",
              "    (conv2): Conv2d(16, 16, kernel_size=(3, 3), stride=(1, 1), padding=(1, 1))\n",
              "    (bn2): BatchNorm2d(16, eps=1e-05, momentum=0.1, affine=True, track_running_stats=True)\n",
              "    (conv3): Conv2d(16, 16, kernel_size=(3, 3), stride=(1, 1), padding=(1, 1))\n",
              "    (bn3): BatchNorm2d(16, eps=1e-05, momentum=0.1, affine=True, track_running_stats=True)\n",
              "    (gelu): GELU(approximate='none')\n",
              "  )\n",
              "  (pe1): PatchEmbedding(\n",
              "    (conv): Conv2d(16, 46, kernel_size=(2, 2), stride=(2, 2))\n",
              "  )\n",
              "  (pe2): PatchEmbedding(\n",
              "    (conv): Conv2d(46, 92, kernel_size=(2, 2), stride=(2, 2))\n",
              "  )\n",
              "  (pe3): PatchEmbedding(\n",
              "    (conv): Conv2d(92, 184, kernel_size=(2, 2), stride=(2, 2))\n",
              "  )\n",
              "  (pe4): PatchEmbedding(\n",
              "    (conv): Conv2d(184, 368, kernel_size=(2, 2), stride=(2, 2))\n",
              "  )\n",
              "  (stage1): Sequential(\n",
              "    (0): CMTBlock(\n",
              "      (lpu): LPU(\n",
              "        (dwconv): Conv2d(46, 46, kernel_size=(3, 3), stride=(1, 1), padding=(1, 1), groups=46)\n",
              "      )\n",
              "      (irffn): IRFFN(\n",
              "        (conv1): Conv2d(46, 165, kernel_size=(1, 1), stride=(1, 1))\n",
              "        (bn1): BatchNorm2d(165, eps=1e-05, momentum=0.1, affine=True, track_running_stats=True)\n",
              "        (dwconv): Conv2d(165, 165, kernel_size=(3, 3), stride=(1, 1), padding=(1, 1), groups=165)\n",
              "        (bn2): BatchNorm2d(165, eps=1e-05, momentum=0.1, affine=True, track_running_stats=True)\n",
              "        (conv2): Conv2d(165, 46, kernel_size=(1, 1), stride=(1, 1))\n",
              "        (bn3): BatchNorm2d(46, eps=1e-05, momentum=0.1, affine=True, track_running_stats=True)\n",
              "        (gelu): GELU(approximate='none')\n",
              "      )\n",
              "    )\n",
              "    (1): CMTBlock(\n",
              "      (lpu): LPU(\n",
              "        (dwconv): Conv2d(46, 46, kernel_size=(3, 3), stride=(1, 1), padding=(1, 1), groups=46)\n",
              "      )\n",
              "      (irffn): IRFFN(\n",
              "        (conv1): Conv2d(46, 165, kernel_size=(1, 1), stride=(1, 1))\n",
              "        (bn1): BatchNorm2d(165, eps=1e-05, momentum=0.1, affine=True, track_running_stats=True)\n",
              "        (dwconv): Conv2d(165, 165, kernel_size=(3, 3), stride=(1, 1), padding=(1, 1), groups=165)\n",
              "        (bn2): BatchNorm2d(165, eps=1e-05, momentum=0.1, affine=True, track_running_stats=True)\n",
              "        (conv2): Conv2d(165, 46, kernel_size=(1, 1), stride=(1, 1))\n",
              "        (bn3): BatchNorm2d(46, eps=1e-05, momentum=0.1, affine=True, track_running_stats=True)\n",
              "        (gelu): GELU(approximate='none')\n",
              "      )\n",
              "    )\n",
              "  )\n",
              "  (stage2): Sequential(\n",
              "    (0): CMTBlock(\n",
              "      (lpu): LPU(\n",
              "        (dwconv): Conv2d(92, 92, kernel_size=(3, 3), stride=(1, 1), padding=(1, 1), groups=92)\n",
              "      )\n",
              "      (irffn): IRFFN(\n",
              "        (conv1): Conv2d(92, 331, kernel_size=(1, 1), stride=(1, 1))\n",
              "        (bn1): BatchNorm2d(331, eps=1e-05, momentum=0.1, affine=True, track_running_stats=True)\n",
              "        (dwconv): Conv2d(331, 331, kernel_size=(3, 3), stride=(1, 1), padding=(1, 1), groups=331)\n",
              "        (bn2): BatchNorm2d(331, eps=1e-05, momentum=0.1, affine=True, track_running_stats=True)\n",
              "        (conv2): Conv2d(331, 92, kernel_size=(1, 1), stride=(1, 1))\n",
              "        (bn3): BatchNorm2d(92, eps=1e-05, momentum=0.1, affine=True, track_running_stats=True)\n",
              "        (gelu): GELU(approximate='none')\n",
              "      )\n",
              "    )\n",
              "    (1): CMTBlock(\n",
              "      (lpu): LPU(\n",
              "        (dwconv): Conv2d(92, 92, kernel_size=(3, 3), stride=(1, 1), padding=(1, 1), groups=92)\n",
              "      )\n",
              "      (irffn): IRFFN(\n",
              "        (conv1): Conv2d(92, 331, kernel_size=(1, 1), stride=(1, 1))\n",
              "        (bn1): BatchNorm2d(331, eps=1e-05, momentum=0.1, affine=True, track_running_stats=True)\n",
              "        (dwconv): Conv2d(331, 331, kernel_size=(3, 3), stride=(1, 1), padding=(1, 1), groups=331)\n",
              "        (bn2): BatchNorm2d(331, eps=1e-05, momentum=0.1, affine=True, track_running_stats=True)\n",
              "        (conv2): Conv2d(331, 92, kernel_size=(1, 1), stride=(1, 1))\n",
              "        (bn3): BatchNorm2d(92, eps=1e-05, momentum=0.1, affine=True, track_running_stats=True)\n",
              "        (gelu): GELU(approximate='none')\n",
              "      )\n",
              "    )\n",
              "  )\n",
              "  (stage3): Sequential(\n",
              "    (0): CMTBlock(\n",
              "      (lpu): LPU(\n",
              "        (dwconv): Conv2d(184, 184, kernel_size=(3, 3), stride=(1, 1), padding=(1, 1), groups=184)\n",
              "      )\n",
              "      (irffn): IRFFN(\n",
              "        (conv1): Conv2d(184, 662, kernel_size=(1, 1), stride=(1, 1))\n",
              "        (bn1): BatchNorm2d(662, eps=1e-05, momentum=0.1, affine=True, track_running_stats=True)\n",
              "        (dwconv): Conv2d(662, 662, kernel_size=(3, 3), stride=(1, 1), padding=(1, 1), groups=662)\n",
              "        (bn2): BatchNorm2d(662, eps=1e-05, momentum=0.1, affine=True, track_running_stats=True)\n",
              "        (conv2): Conv2d(662, 184, kernel_size=(1, 1), stride=(1, 1))\n",
              "        (bn3): BatchNorm2d(184, eps=1e-05, momentum=0.1, affine=True, track_running_stats=True)\n",
              "        (gelu): GELU(approximate='none')\n",
              "      )\n",
              "    )\n",
              "    (1): CMTBlock(\n",
              "      (lpu): LPU(\n",
              "        (dwconv): Conv2d(184, 184, kernel_size=(3, 3), stride=(1, 1), padding=(1, 1), groups=184)\n",
              "      )\n",
              "      (irffn): IRFFN(\n",
              "        (conv1): Conv2d(184, 662, kernel_size=(1, 1), stride=(1, 1))\n",
              "        (bn1): BatchNorm2d(662, eps=1e-05, momentum=0.1, affine=True, track_running_stats=True)\n",
              "        (dwconv): Conv2d(662, 662, kernel_size=(3, 3), stride=(1, 1), padding=(1, 1), groups=662)\n",
              "        (bn2): BatchNorm2d(662, eps=1e-05, momentum=0.1, affine=True, track_running_stats=True)\n",
              "        (conv2): Conv2d(662, 184, kernel_size=(1, 1), stride=(1, 1))\n",
              "        (bn3): BatchNorm2d(184, eps=1e-05, momentum=0.1, affine=True, track_running_stats=True)\n",
              "        (gelu): GELU(approximate='none')\n",
              "      )\n",
              "    )\n",
              "    (2): CMTBlock(\n",
              "      (lpu): LPU(\n",
              "        (dwconv): Conv2d(184, 184, kernel_size=(3, 3), stride=(1, 1), padding=(1, 1), groups=184)\n",
              "      )\n",
              "      (irffn): IRFFN(\n",
              "        (conv1): Conv2d(184, 662, kernel_size=(1, 1), stride=(1, 1))\n",
              "        (bn1): BatchNorm2d(662, eps=1e-05, momentum=0.1, affine=True, track_running_stats=True)\n",
              "        (dwconv): Conv2d(662, 662, kernel_size=(3, 3), stride=(1, 1), padding=(1, 1), groups=662)\n",
              "        (bn2): BatchNorm2d(662, eps=1e-05, momentum=0.1, affine=True, track_running_stats=True)\n",
              "        (conv2): Conv2d(662, 184, kernel_size=(1, 1), stride=(1, 1))\n",
              "        (bn3): BatchNorm2d(184, eps=1e-05, momentum=0.1, affine=True, track_running_stats=True)\n",
              "        (gelu): GELU(approximate='none')\n",
              "      )\n",
              "    )\n",
              "    (3): CMTBlock(\n",
              "      (lpu): LPU(\n",
              "        (dwconv): Conv2d(184, 184, kernel_size=(3, 3), stride=(1, 1), padding=(1, 1), groups=184)\n",
              "      )\n",
              "      (irffn): IRFFN(\n",
              "        (conv1): Conv2d(184, 662, kernel_size=(1, 1), stride=(1, 1))\n",
              "        (bn1): BatchNorm2d(662, eps=1e-05, momentum=0.1, affine=True, track_running_stats=True)\n",
              "        (dwconv): Conv2d(662, 662, kernel_size=(3, 3), stride=(1, 1), padding=(1, 1), groups=662)\n",
              "        (bn2): BatchNorm2d(662, eps=1e-05, momentum=0.1, affine=True, track_running_stats=True)\n",
              "        (conv2): Conv2d(662, 184, kernel_size=(1, 1), stride=(1, 1))\n",
              "        (bn3): BatchNorm2d(184, eps=1e-05, momentum=0.1, affine=True, track_running_stats=True)\n",
              "        (gelu): GELU(approximate='none')\n",
              "      )\n",
              "    )\n",
              "    (4): CMTBlock(\n",
              "      (lpu): LPU(\n",
              "        (dwconv): Conv2d(184, 184, kernel_size=(3, 3), stride=(1, 1), padding=(1, 1), groups=184)\n",
              "      )\n",
              "      (irffn): IRFFN(\n",
              "        (conv1): Conv2d(184, 662, kernel_size=(1, 1), stride=(1, 1))\n",
              "        (bn1): BatchNorm2d(662, eps=1e-05, momentum=0.1, affine=True, track_running_stats=True)\n",
              "        (dwconv): Conv2d(662, 662, kernel_size=(3, 3), stride=(1, 1), padding=(1, 1), groups=662)\n",
              "        (bn2): BatchNorm2d(662, eps=1e-05, momentum=0.1, affine=True, track_running_stats=True)\n",
              "        (conv2): Conv2d(662, 184, kernel_size=(1, 1), stride=(1, 1))\n",
              "        (bn3): BatchNorm2d(184, eps=1e-05, momentum=0.1, affine=True, track_running_stats=True)\n",
              "        (gelu): GELU(approximate='none')\n",
              "      )\n",
              "    )\n",
              "    (5): CMTBlock(\n",
              "      (lpu): LPU(\n",
              "        (dwconv): Conv2d(184, 184, kernel_size=(3, 3), stride=(1, 1), padding=(1, 1), groups=184)\n",
              "      )\n",
              "      (irffn): IRFFN(\n",
              "        (conv1): Conv2d(184, 662, kernel_size=(1, 1), stride=(1, 1))\n",
              "        (bn1): BatchNorm2d(662, eps=1e-05, momentum=0.1, affine=True, track_running_stats=True)\n",
              "        (dwconv): Conv2d(662, 662, kernel_size=(3, 3), stride=(1, 1), padding=(1, 1), groups=662)\n",
              "        (bn2): BatchNorm2d(662, eps=1e-05, momentum=0.1, affine=True, track_running_stats=True)\n",
              "        (conv2): Conv2d(662, 184, kernel_size=(1, 1), stride=(1, 1))\n",
              "        (bn3): BatchNorm2d(184, eps=1e-05, momentum=0.1, affine=True, track_running_stats=True)\n",
              "        (gelu): GELU(approximate='none')\n",
              "      )\n",
              "    )\n",
              "    (6): CMTBlock(\n",
              "      (lpu): LPU(\n",
              "        (dwconv): Conv2d(184, 184, kernel_size=(3, 3), stride=(1, 1), padding=(1, 1), groups=184)\n",
              "      )\n",
              "      (irffn): IRFFN(\n",
              "        (conv1): Conv2d(184, 662, kernel_size=(1, 1), stride=(1, 1))\n",
              "        (bn1): BatchNorm2d(662, eps=1e-05, momentum=0.1, affine=True, track_running_stats=True)\n",
              "        (dwconv): Conv2d(662, 662, kernel_size=(3, 3), stride=(1, 1), padding=(1, 1), groups=662)\n",
              "        (bn2): BatchNorm2d(662, eps=1e-05, momentum=0.1, affine=True, track_running_stats=True)\n",
              "        (conv2): Conv2d(662, 184, kernel_size=(1, 1), stride=(1, 1))\n",
              "        (bn3): BatchNorm2d(184, eps=1e-05, momentum=0.1, affine=True, track_running_stats=True)\n",
              "        (gelu): GELU(approximate='none')\n",
              "      )\n",
              "    )\n",
              "    (7): CMTBlock(\n",
              "      (lpu): LPU(\n",
              "        (dwconv): Conv2d(184, 184, kernel_size=(3, 3), stride=(1, 1), padding=(1, 1), groups=184)\n",
              "      )\n",
              "      (irffn): IRFFN(\n",
              "        (conv1): Conv2d(184, 662, kernel_size=(1, 1), stride=(1, 1))\n",
              "        (bn1): BatchNorm2d(662, eps=1e-05, momentum=0.1, affine=True, track_running_stats=True)\n",
              "        (dwconv): Conv2d(662, 662, kernel_size=(3, 3), stride=(1, 1), padding=(1, 1), groups=662)\n",
              "        (bn2): BatchNorm2d(662, eps=1e-05, momentum=0.1, affine=True, track_running_stats=True)\n",
              "        (conv2): Conv2d(662, 184, kernel_size=(1, 1), stride=(1, 1))\n",
              "        (bn3): BatchNorm2d(184, eps=1e-05, momentum=0.1, affine=True, track_running_stats=True)\n",
              "        (gelu): GELU(approximate='none')\n",
              "      )\n",
              "    )\n",
              "    (8): CMTBlock(\n",
              "      (lpu): LPU(\n",
              "        (dwconv): Conv2d(184, 184, kernel_size=(3, 3), stride=(1, 1), padding=(1, 1), groups=184)\n",
              "      )\n",
              "      (irffn): IRFFN(\n",
              "        (conv1): Conv2d(184, 662, kernel_size=(1, 1), stride=(1, 1))\n",
              "        (bn1): BatchNorm2d(662, eps=1e-05, momentum=0.1, affine=True, track_running_stats=True)\n",
              "        (dwconv): Conv2d(662, 662, kernel_size=(3, 3), stride=(1, 1), padding=(1, 1), groups=662)\n",
              "        (bn2): BatchNorm2d(662, eps=1e-05, momentum=0.1, affine=True, track_running_stats=True)\n",
              "        (conv2): Conv2d(662, 184, kernel_size=(1, 1), stride=(1, 1))\n",
              "        (bn3): BatchNorm2d(184, eps=1e-05, momentum=0.1, affine=True, track_running_stats=True)\n",
              "        (gelu): GELU(approximate='none')\n",
              "      )\n",
              "    )\n",
              "    (9): CMTBlock(\n",
              "      (lpu): LPU(\n",
              "        (dwconv): Conv2d(184, 184, kernel_size=(3, 3), stride=(1, 1), padding=(1, 1), groups=184)\n",
              "      )\n",
              "      (irffn): IRFFN(\n",
              "        (conv1): Conv2d(184, 662, kernel_size=(1, 1), stride=(1, 1))\n",
              "        (bn1): BatchNorm2d(662, eps=1e-05, momentum=0.1, affine=True, track_running_stats=True)\n",
              "        (dwconv): Conv2d(662, 662, kernel_size=(3, 3), stride=(1, 1), padding=(1, 1), groups=662)\n",
              "        (bn2): BatchNorm2d(662, eps=1e-05, momentum=0.1, affine=True, track_running_stats=True)\n",
              "        (conv2): Conv2d(662, 184, kernel_size=(1, 1), stride=(1, 1))\n",
              "        (bn3): BatchNorm2d(184, eps=1e-05, momentum=0.1, affine=True, track_running_stats=True)\n",
              "        (gelu): GELU(approximate='none')\n",
              "      )\n",
              "    )\n",
              "  )\n",
              "  (stage4): Sequential(\n",
              "    (0): CMTBlock(\n",
              "      (lpu): LPU(\n",
              "        (dwconv): Conv2d(368, 368, kernel_size=(3, 3), stride=(1, 1), padding=(1, 1), groups=368)\n",
              "      )\n",
              "      (irffn): IRFFN(\n",
              "        (conv1): Conv2d(368, 1324, kernel_size=(1, 1), stride=(1, 1))\n",
              "        (bn1): BatchNorm2d(1324, eps=1e-05, momentum=0.1, affine=True, track_running_stats=True)\n",
              "        (dwconv): Conv2d(1324, 1324, kernel_size=(3, 3), stride=(1, 1), padding=(1, 1), groups=1324)\n",
              "        (bn2): BatchNorm2d(1324, eps=1e-05, momentum=0.1, affine=True, track_running_stats=True)\n",
              "        (conv2): Conv2d(1324, 368, kernel_size=(1, 1), stride=(1, 1))\n",
              "        (bn3): BatchNorm2d(368, eps=1e-05, momentum=0.1, affine=True, track_running_stats=True)\n",
              "        (gelu): GELU(approximate='none')\n",
              "      )\n",
              "    )\n",
              "    (1): CMTBlock(\n",
              "      (lpu): LPU(\n",
              "        (dwconv): Conv2d(368, 368, kernel_size=(3, 3), stride=(1, 1), padding=(1, 1), groups=368)\n",
              "      )\n",
              "      (irffn): IRFFN(\n",
              "        (conv1): Conv2d(368, 1324, kernel_size=(1, 1), stride=(1, 1))\n",
              "        (bn1): BatchNorm2d(1324, eps=1e-05, momentum=0.1, affine=True, track_running_stats=True)\n",
              "        (dwconv): Conv2d(1324, 1324, kernel_size=(3, 3), stride=(1, 1), padding=(1, 1), groups=1324)\n",
              "        (bn2): BatchNorm2d(1324, eps=1e-05, momentum=0.1, affine=True, track_running_stats=True)\n",
              "        (conv2): Conv2d(1324, 368, kernel_size=(1, 1), stride=(1, 1))\n",
              "        (bn3): BatchNorm2d(368, eps=1e-05, momentum=0.1, affine=True, track_running_stats=True)\n",
              "        (gelu): GELU(approximate='none')\n",
              "      )\n",
              "    )\n",
              "  )\n",
              "  (avg_pool): AdaptiveAvgPool2d(output_size=1)\n",
              "  (projection): Sequential(\n",
              "    (0): Conv2d(368, 1280, kernel_size=(1, 1), stride=(1, 1))\n",
              "    (1): ReLU(inplace=True)\n",
              "  )\n",
              "  (classifier): Linear(in_features=1280, out_features=10, bias=True)\n",
              ")"
            ]
          },
          "metadata": {},
          "execution_count": 19
        }
      ]
    },
    {
      "cell_type": "markdown",
      "source": [
        "The model is trained using the same training procedure used for all other models."
      ],
      "metadata": {
        "id": "PPAjUQt4si4S"
      }
    },
    {
      "cell_type": "code",
      "source": [
        "# Epochs.\n",
        "EPOCHS = 25\n",
        "\n",
        "# Initial learning rate.\n",
        "LR = 6e-5\n",
        "\n",
        "# Weight decay.\n",
        "WD = 1e-5\n",
        "\n",
        "# Loss function.\n",
        "loss_fn = nn.CrossEntropyLoss()\n",
        "\n",
        "# Optimizer.\n",
        "optimizer = torch.optim.AdamW(m_3.parameters(), lr = LR, weight_decay = WD)\n",
        "\n",
        "# Scheduler.\n",
        "scheduler = torch.optim.lr_scheduler.CosineAnnealingLR(optimizer, EPOCHS)"
      ],
      "metadata": {
        "id": "4Y69ErWnFdzR"
      },
      "execution_count": null,
      "outputs": []
    },
    {
      "cell_type": "code",
      "source": [
        "# Training.\n",
        "history = train(m_3, optimizer, scheduler, loss_fn, train_loader, val_loader, EPOCHS, device)\n",
        "\n",
        "# Creating a checkpoint.\n",
        "checkpoint = {\n",
        "  \"model\": m_3.state_dict(),\n",
        "  \"optimizer\": optimizer.state_dict(),\n",
        "  \"scheduler\": scheduler.state_dict()\n",
        "}\n",
        "\n",
        "# Saving the model.\n",
        "torch.save(checkpoint, \"checkpoint3.pt\")\n",
        "\n",
        "# Saving history.\n",
        "with open(\"m_3_history.pkl\", \"wb\") as f:\n",
        "  pickle.dump(history, f)"
      ],
      "metadata": {
        "id": "GH9RWNLSFgHq",
        "colab": {
          "base_uri": "https://localhost:8080/"
        },
        "outputId": "1b280d05-20a0-4bd5-f181-c54da27e0155"
      },
      "execution_count": null,
      "outputs": [
        {
          "metadata": {
            "tags": null
          },
          "name": "stdout",
          "output_type": "stream",
          "text": [
            "Epoch  1/25:\n"
          ]
        },
        {
          "metadata": {
            "tags": null
          },
          "name": "stderr",
          "output_type": "stream",
          "text": [
            "Training: 100%|██████████| 1250/1250 [04:19<00:00,  4.82it/s]\n",
            "Validation: 100%|██████████| 313/313 [00:22<00:00, 13.90it/s]\n"
          ]
        },
        {
          "metadata": {
            "tags": null
          },
          "name": "stdout",
          "output_type": "stream",
          "text": [
            "train_loss: 1.4455, train_accuracy: 0.4697, val_loss: 1.1578, val_accuracy: 0.5822, lr: 6.0000e-05\n",
            "\n",
            "Epoch  2/25:\n"
          ]
        },
        {
          "metadata": {
            "tags": null
          },
          "name": "stderr",
          "output_type": "stream",
          "text": [
            "Training: 100%|██████████| 1250/1250 [04:18<00:00,  4.84it/s]\n",
            "Validation: 100%|██████████| 313/313 [00:22<00:00, 13.97it/s]\n"
          ]
        },
        {
          "metadata": {
            "tags": null
          },
          "name": "stdout",
          "output_type": "stream",
          "text": [
            "train_loss: 1.0345, train_accuracy: 0.6299, val_loss: 0.8865, val_accuracy: 0.6867, lr: 5.9763e-05\n",
            "\n",
            "Epoch  3/25:\n"
          ]
        },
        {
          "metadata": {
            "tags": null
          },
          "name": "stderr",
          "output_type": "stream",
          "text": [
            "Training: 100%|██████████| 1250/1250 [04:18<00:00,  4.84it/s]\n",
            "Validation: 100%|██████████| 313/313 [00:22<00:00, 14.11it/s]\n"
          ]
        },
        {
          "metadata": {
            "tags": null
          },
          "name": "stdout",
          "output_type": "stream",
          "text": [
            "train_loss: 0.8454, train_accuracy: 0.7043, val_loss: 0.7933, val_accuracy: 0.7216, lr: 5.9057e-05\n",
            "\n",
            "Epoch  4/25:\n"
          ]
        },
        {
          "metadata": {
            "tags": null
          },
          "name": "stderr",
          "output_type": "stream",
          "text": [
            "Training: 100%|██████████| 1250/1250 [04:17<00:00,  4.85it/s]\n",
            "Validation: 100%|██████████| 313/313 [00:22<00:00, 14.02it/s]\n"
          ]
        },
        {
          "metadata": {
            "tags": null
          },
          "name": "stdout",
          "output_type": "stream",
          "text": [
            "train_loss: 0.7174, train_accuracy: 0.7488, val_loss: 0.6873, val_accuracy: 0.7622, lr: 5.7893e-05\n",
            "\n",
            "Epoch  5/25:\n"
          ]
        },
        {
          "metadata": {
            "tags": null
          },
          "name": "stderr",
          "output_type": "stream",
          "text": [
            "Training: 100%|██████████| 1250/1250 [04:17<00:00,  4.85it/s]\n",
            "Validation: 100%|██████████| 313/313 [00:22<00:00, 13.95it/s]\n"
          ]
        },
        {
          "metadata": {
            "tags": null
          },
          "name": "stdout",
          "output_type": "stream",
          "text": [
            "train_loss: 0.6265, train_accuracy: 0.7802, val_loss: 0.6346, val_accuracy: 0.7755, lr: 5.6289e-05\n",
            "\n",
            "Epoch  6/25:\n"
          ]
        },
        {
          "metadata": {
            "tags": null
          },
          "name": "stderr",
          "output_type": "stream",
          "text": [
            "Training: 100%|██████████| 1250/1250 [04:18<00:00,  4.84it/s]\n",
            "Validation: 100%|██████████| 313/313 [00:22<00:00, 14.09it/s]\n"
          ]
        },
        {
          "metadata": {
            "tags": null
          },
          "name": "stdout",
          "output_type": "stream",
          "text": [
            "train_loss: 0.5575, train_accuracy: 0.8048, val_loss: 0.5747, val_accuracy: 0.7994, lr: 5.4271e-05\n",
            "\n",
            "Epoch  7/25:\n"
          ]
        },
        {
          "metadata": {
            "tags": null
          },
          "name": "stderr",
          "output_type": "stream",
          "text": [
            "Training: 100%|██████████| 1250/1250 [04:17<00:00,  4.85it/s]\n",
            "Validation: 100%|██████████| 313/313 [00:22<00:00, 14.07it/s]\n"
          ]
        },
        {
          "metadata": {
            "tags": null
          },
          "name": "stdout",
          "output_type": "stream",
          "text": [
            "train_loss: 0.5010, train_accuracy: 0.8254, val_loss: 0.5544, val_accuracy: 0.8106, lr: 5.1869e-05\n",
            "\n",
            "Epoch  8/25:\n"
          ]
        },
        {
          "metadata": {
            "tags": null
          },
          "name": "stderr",
          "output_type": "stream",
          "text": [
            "Training: 100%|██████████| 1250/1250 [04:17<00:00,  4.85it/s]\n",
            "Validation: 100%|██████████| 313/313 [00:22<00:00, 13.82it/s]\n"
          ]
        },
        {
          "metadata": {
            "tags": null
          },
          "name": "stdout",
          "output_type": "stream",
          "text": [
            "train_loss: 0.4543, train_accuracy: 0.8415, val_loss: 0.5243, val_accuracy: 0.8196, lr: 4.9123e-05\n",
            "\n",
            "Epoch  9/25:\n"
          ]
        },
        {
          "metadata": {
            "tags": null
          },
          "name": "stderr",
          "output_type": "stream",
          "text": [
            "Training: 100%|██████████| 1250/1250 [04:17<00:00,  4.85it/s]\n",
            "Validation: 100%|██████████| 313/313 [00:22<00:00, 13.86it/s]\n"
          ]
        },
        {
          "metadata": {
            "tags": null
          },
          "name": "stdout",
          "output_type": "stream",
          "text": [
            "train_loss: 0.4225, train_accuracy: 0.8514, val_loss: 0.4961, val_accuracy: 0.8307, lr: 4.6075e-05\n",
            "\n",
            "Epoch 10/25:\n"
          ]
        },
        {
          "metadata": {
            "tags": null
          },
          "name": "stderr",
          "output_type": "stream",
          "text": [
            "Training: 100%|██████████| 1250/1250 [04:18<00:00,  4.84it/s]\n",
            "Validation: 100%|██████████| 313/313 [00:25<00:00, 12.36it/s]\n"
          ]
        },
        {
          "metadata": {
            "tags": null
          },
          "name": "stdout",
          "output_type": "stream",
          "text": [
            "train_loss: 0.3794, train_accuracy: 0.8666, val_loss: 0.4683, val_accuracy: 0.8390, lr: 4.2773e-05\n",
            "\n",
            "Epoch 11/25:\n"
          ]
        },
        {
          "metadata": {
            "tags": null
          },
          "name": "stderr",
          "output_type": "stream",
          "text": [
            "Training: 100%|██████████| 1250/1250 [04:18<00:00,  4.84it/s]\n",
            "Validation: 100%|██████████| 313/313 [00:22<00:00, 13.73it/s]\n"
          ]
        },
        {
          "metadata": {
            "tags": null
          },
          "name": "stdout",
          "output_type": "stream",
          "text": [
            "train_loss: 0.3533, train_accuracy: 0.8777, val_loss: 0.4724, val_accuracy: 0.8383, lr: 3.9271e-05\n",
            "\n",
            "Epoch 12/25:\n"
          ]
        },
        {
          "metadata": {
            "tags": null
          },
          "name": "stderr",
          "output_type": "stream",
          "text": [
            "Training: 100%|██████████| 1250/1250 [04:18<00:00,  4.84it/s]\n",
            "Validation: 100%|██████████| 313/313 [00:22<00:00, 13.75it/s]\n"
          ]
        },
        {
          "metadata": {
            "tags": null
          },
          "name": "stdout",
          "output_type": "stream",
          "text": [
            "train_loss: 0.3220, train_accuracy: 0.8886, val_loss: 0.4399, val_accuracy: 0.8485, lr: 3.5621e-05\n",
            "\n",
            "Epoch 13/25:\n"
          ]
        },
        {
          "metadata": {
            "tags": null
          },
          "name": "stderr",
          "output_type": "stream",
          "text": [
            "Training: 100%|██████████| 1250/1250 [04:18<00:00,  4.83it/s]\n",
            "Validation: 100%|██████████| 313/313 [00:22<00:00, 13.82it/s]\n"
          ]
        },
        {
          "metadata": {
            "tags": null
          },
          "name": "stdout",
          "output_type": "stream",
          "text": [
            "train_loss: 0.2952, train_accuracy: 0.8983, val_loss: 0.4360, val_accuracy: 0.8555, lr: 3.1884e-05\n",
            "\n",
            "Epoch 14/25:\n"
          ]
        },
        {
          "metadata": {
            "tags": null
          },
          "name": "stderr",
          "output_type": "stream",
          "text": [
            "Training: 100%|██████████| 1250/1250 [04:18<00:00,  4.84it/s]\n",
            "Validation: 100%|██████████| 313/313 [00:22<00:00, 13.78it/s]\n"
          ]
        },
        {
          "metadata": {
            "tags": null
          },
          "name": "stdout",
          "output_type": "stream",
          "text": [
            "train_loss: 0.2689, train_accuracy: 0.9067, val_loss: 0.4268, val_accuracy: 0.8555, lr: 2.8116e-05\n",
            "\n",
            "Epoch 15/25:\n"
          ]
        },
        {
          "output_type": "stream",
          "name": "stderr",
          "text": [
            "Training: 100%|██████████| 1250/1250 [04:18<00:00,  4.83it/s]\n",
            "Validation: 100%|██████████| 313/313 [00:22<00:00, 13.77it/s]\n"
          ]
        },
        {
          "output_type": "stream",
          "name": "stdout",
          "text": [
            "train_loss: 0.2494, train_accuracy: 0.9115, val_loss: 0.4342, val_accuracy: 0.8593, lr: 2.4379e-05\n",
            "\n",
            "Epoch 16/25:\n"
          ]
        },
        {
          "output_type": "stream",
          "name": "stderr",
          "text": [
            "Training: 100%|██████████| 1250/1250 [04:18<00:00,  4.84it/s]\n",
            "Validation: 100%|██████████| 313/313 [00:22<00:00, 13.82it/s]\n"
          ]
        },
        {
          "output_type": "stream",
          "name": "stdout",
          "text": [
            "train_loss: 0.2282, train_accuracy: 0.9206, val_loss: 0.4103, val_accuracy: 0.8649, lr: 2.0729e-05\n",
            "\n",
            "Epoch 17/25:\n"
          ]
        },
        {
          "output_type": "stream",
          "name": "stderr",
          "text": [
            "Training: 100%|██████████| 1250/1250 [04:18<00:00,  4.83it/s]\n",
            "Validation: 100%|██████████| 313/313 [00:22<00:00, 13.72it/s]\n"
          ]
        },
        {
          "output_type": "stream",
          "name": "stdout",
          "text": [
            "train_loss: 0.2089, train_accuracy: 0.9265, val_loss: 0.4104, val_accuracy: 0.8653, lr: 1.7227e-05\n",
            "\n",
            "Epoch 18/25:\n"
          ]
        },
        {
          "output_type": "stream",
          "name": "stderr",
          "text": [
            "Training: 100%|██████████| 1250/1250 [04:18<00:00,  4.84it/s]\n",
            "Validation: 100%|██████████| 313/313 [00:22<00:00, 13.64it/s]\n"
          ]
        },
        {
          "output_type": "stream",
          "name": "stdout",
          "text": [
            "train_loss: 0.1928, train_accuracy: 0.9336, val_loss: 0.4156, val_accuracy: 0.8672, lr: 1.3925e-05\n",
            "\n",
            "Epoch 19/25:\n"
          ]
        },
        {
          "output_type": "stream",
          "name": "stderr",
          "text": [
            "Training: 100%|██████████| 1250/1250 [04:18<00:00,  4.84it/s]\n",
            "Validation: 100%|██████████| 313/313 [00:22<00:00, 13.88it/s]\n"
          ]
        },
        {
          "output_type": "stream",
          "name": "stdout",
          "text": [
            "train_loss: 0.1801, train_accuracy: 0.9369, val_loss: 0.3981, val_accuracy: 0.8664, lr: 1.0877e-05\n",
            "\n",
            "Epoch 20/25:\n"
          ]
        },
        {
          "output_type": "stream",
          "name": "stderr",
          "text": [
            "Training: 100%|██████████| 1250/1250 [04:18<00:00,  4.84it/s]\n",
            "Validation: 100%|██████████| 313/313 [00:22<00:00, 14.01it/s]\n"
          ]
        },
        {
          "output_type": "stream",
          "name": "stdout",
          "text": [
            "train_loss: 0.1709, train_accuracy: 0.9403, val_loss: 0.4011, val_accuracy: 0.8702, lr: 8.1309e-06\n",
            "\n",
            "Epoch 21/25:\n"
          ]
        },
        {
          "output_type": "stream",
          "name": "stderr",
          "text": [
            "Training: 100%|██████████| 1250/1250 [04:18<00:00,  4.84it/s]\n",
            "Validation: 100%|██████████| 313/313 [00:22<00:00, 13.89it/s]\n"
          ]
        },
        {
          "output_type": "stream",
          "name": "stdout",
          "text": [
            "train_loss: 0.1583, train_accuracy: 0.9453, val_loss: 0.4071, val_accuracy: 0.8720, lr: 5.7295e-06\n",
            "\n",
            "Epoch 22/25:\n"
          ]
        },
        {
          "output_type": "stream",
          "name": "stderr",
          "text": [
            "Training: 100%|██████████| 1250/1250 [04:18<00:00,  4.84it/s]\n",
            "Validation: 100%|██████████| 313/313 [00:22<00:00, 13.87it/s]\n"
          ]
        },
        {
          "output_type": "stream",
          "name": "stdout",
          "text": [
            "train_loss: 0.1492, train_accuracy: 0.9478, val_loss: 0.3964, val_accuracy: 0.8739, lr: 3.7108e-06\n",
            "\n",
            "Epoch 23/25:\n"
          ]
        },
        {
          "output_type": "stream",
          "name": "stderr",
          "text": [
            "Training: 100%|██████████| 1250/1250 [04:18<00:00,  4.84it/s]\n",
            "Validation: 100%|██████████| 313/313 [00:23<00:00, 13.34it/s]\n"
          ]
        },
        {
          "output_type": "stream",
          "name": "stdout",
          "text": [
            "train_loss: 0.1492, train_accuracy: 0.9481, val_loss: 0.3997, val_accuracy: 0.8753, lr: 2.1067e-06\n",
            "\n",
            "Epoch 24/25:\n"
          ]
        },
        {
          "output_type": "stream",
          "name": "stderr",
          "text": [
            "Training: 100%|██████████| 1250/1250 [04:18<00:00,  4.84it/s]\n",
            "Validation: 100%|██████████| 313/313 [00:23<00:00, 13.60it/s]\n"
          ]
        },
        {
          "output_type": "stream",
          "name": "stdout",
          "text": [
            "train_loss: 0.1419, train_accuracy: 0.9503, val_loss: 0.3954, val_accuracy: 0.8752, lr: 9.4251e-07\n",
            "\n",
            "Epoch 25/25:\n"
          ]
        },
        {
          "output_type": "stream",
          "name": "stderr",
          "text": [
            "Training: 100%|██████████| 1250/1250 [04:18<00:00,  4.84it/s]\n",
            "Validation: 100%|██████████| 313/313 [00:23<00:00, 13.51it/s]\n"
          ]
        },
        {
          "output_type": "stream",
          "name": "stdout",
          "text": [
            "\n",
            "train_loss: 0.1392, train_accuracy: 0.9524, val_loss: 0.3864, val_accuracy: 0.8779, lr: 2.3656e-07\n"
          ]
        }
      ]
    },
    {
      "cell_type": "markdown",
      "source": [
        "### ResNet-18 ($m_4$)"
      ],
      "metadata": {
        "id": "I_el6fkXlEEm"
      }
    },
    {
      "cell_type": "markdown",
      "source": [
        "The final $m_4$ model is ResNet-18. This model is directly downloaded from the PyTorch Hub, setting the `weights` attribute to `None` so as to train the network starting from scrath."
      ],
      "metadata": {
        "id": "FRJ7-egdsupo"
      }
    },
    {
      "cell_type": "code",
      "source": [
        "# Downloading ResNet-18.\n",
        "m_4 = torch.hub.load(\"pytorch/vision:v0.10.0\", \"resnet18\", weights = None)"
      ],
      "metadata": {
        "colab": {
          "base_uri": "https://localhost:8080/"
        },
        "id": "0sifqTLNlG_t",
        "outputId": "37ae79b5-342a-4eb6-d1bf-d24990b9efec"
      },
      "execution_count": null,
      "outputs": [
        {
          "output_type": "stream",
          "name": "stderr",
          "text": [
            "Downloading: \"https://github.com/pytorch/vision/zipball/v0.10.0\" to /root/.cache/torch/hub/v0.10.0.zip\n"
          ]
        }
      ]
    },
    {
      "cell_type": "code",
      "source": [
        "# Printing number of parameters.\n",
        "print(f\"m_4 has {sum(p.numel() for p in m_4.parameters())} parameters.\")"
      ],
      "metadata": {
        "colab": {
          "base_uri": "https://localhost:8080/"
        },
        "id": "jRdYOV78kSEa",
        "outputId": "58553920-8a1e-445e-e57f-e25649d0c3cd"
      },
      "execution_count": null,
      "outputs": [
        {
          "output_type": "stream",
          "name": "stdout",
          "text": [
            "m_4 has 11689512 parameters.\n"
          ]
        }
      ]
    },
    {
      "cell_type": "markdown",
      "source": [
        "From the results computed by the following cell, it is possible to notice how the total number of parameters is slightly bigger than the number of parameters of $m_1$. However, the number of FLOPs of ResNet-18 is approximately $1.5$ times higher than the number of FLOPs of $m_1$. In particular, this network shows a number of parameters equals to $11.69\\text{M}$, and a number of FLOPs equals to $1.83\\text{B}$."
      ],
      "metadata": {
        "id": "RPONYZGJtS-W"
      }
    },
    {
      "cell_type": "code",
      "source": [
        "# Computing number of FLOPs.\n",
        "flops = FlopCountAnalysis(m_4, (torch.randn((1, 3, 224, 224)),))\n",
        "\n",
        "# Printing number of FLOPs per layer.\n",
        "print(flop_count_str(flops))"
      ],
      "metadata": {
        "colab": {
          "base_uri": "https://localhost:8080/"
        },
        "id": "Pi2bpM-Gkxau",
        "outputId": "e69528b7-785c-4bcd-c3c6-9e642ac16abe"
      },
      "execution_count": null,
      "outputs": [
        {
          "output_type": "stream",
          "name": "stdout",
          "text": [
            "ResNet(\n",
            "  #params: 11.69M, #flops: 1.83G\n",
            "  (conv1): Conv2d(\n",
            "    3, 64, kernel_size=(7, 7), stride=(2, 2), padding=(3, 3), bias=False\n",
            "    #params: 9.41K, #flops: 0.12G\n",
            "  )\n",
            "  (bn1): BatchNorm2d(\n",
            "    64, eps=1e-05, momentum=0.1, affine=True, track_running_stats=True\n",
            "    #params: 0.13K, #flops: 4.01M\n",
            "  )\n",
            "  (relu): ReLU(inplace=True)\n",
            "  (maxpool): MaxPool2d(kernel_size=3, stride=2, padding=1, dilation=1, ceil_mode=False)\n",
            "  (layer1): Sequential(\n",
            "    #params: 0.15M, #flops: 0.47G\n",
            "    (0): BasicBlock(\n",
            "      #params: 73.98K, #flops: 0.23G\n",
            "      (conv1): Conv2d(\n",
            "        64, 64, kernel_size=(3, 3), stride=(1, 1), padding=(1, 1), bias=False\n",
            "        #params: 36.86K, #flops: 0.12G\n",
            "      )\n",
            "      (bn1): BatchNorm2d(\n",
            "        64, eps=1e-05, momentum=0.1, affine=True, track_running_stats=True\n",
            "        #params: 0.13K, #flops: 1M\n",
            "      )\n",
            "      (relu): ReLU(inplace=True)\n",
            "      (conv2): Conv2d(\n",
            "        64, 64, kernel_size=(3, 3), stride=(1, 1), padding=(1, 1), bias=False\n",
            "        #params: 36.86K, #flops: 0.12G\n",
            "      )\n",
            "      (bn2): BatchNorm2d(\n",
            "        64, eps=1e-05, momentum=0.1, affine=True, track_running_stats=True\n",
            "        #params: 0.13K, #flops: 1M\n",
            "      )\n",
            "    )\n",
            "    (1): BasicBlock(\n",
            "      #params: 73.98K, #flops: 0.23G\n",
            "      (conv1): Conv2d(\n",
            "        64, 64, kernel_size=(3, 3), stride=(1, 1), padding=(1, 1), bias=False\n",
            "        #params: 36.86K, #flops: 0.12G\n",
            "      )\n",
            "      (bn1): BatchNorm2d(\n",
            "        64, eps=1e-05, momentum=0.1, affine=True, track_running_stats=True\n",
            "        #params: 0.13K, #flops: 1M\n",
            "      )\n",
            "      (relu): ReLU(inplace=True)\n",
            "      (conv2): Conv2d(\n",
            "        64, 64, kernel_size=(3, 3), stride=(1, 1), padding=(1, 1), bias=False\n",
            "        #params: 36.86K, #flops: 0.12G\n",
            "      )\n",
            "      (bn2): BatchNorm2d(\n",
            "        64, eps=1e-05, momentum=0.1, affine=True, track_running_stats=True\n",
            "        #params: 0.13K, #flops: 1M\n",
            "      )\n",
            "    )\n",
            "  )\n",
            "  (layer2): Sequential(\n",
            "    #params: 0.53M, #flops: 0.41G\n",
            "    (0): BasicBlock(\n",
            "      #params: 0.23M, #flops: 0.18G\n",
            "      (conv1): Conv2d(\n",
            "        64, 128, kernel_size=(3, 3), stride=(2, 2), padding=(1, 1), bias=False\n",
            "        #params: 73.73K, #flops: 57.8M\n",
            "      )\n",
            "      (bn1): BatchNorm2d(\n",
            "        128, eps=1e-05, momentum=0.1, affine=True, track_running_stats=True\n",
            "        #params: 0.26K, #flops: 0.5M\n",
            "      )\n",
            "      (relu): ReLU(inplace=True)\n",
            "      (conv2): Conv2d(\n",
            "        128, 128, kernel_size=(3, 3), stride=(1, 1), padding=(1, 1), bias=False\n",
            "        #params: 0.15M, #flops: 0.12G\n",
            "      )\n",
            "      (bn2): BatchNorm2d(\n",
            "        128, eps=1e-05, momentum=0.1, affine=True, track_running_stats=True\n",
            "        #params: 0.26K, #flops: 0.5M\n",
            "      )\n",
            "      (downsample): Sequential(\n",
            "        #params: 8.45K, #flops: 6.92M\n",
            "        (0): Conv2d(\n",
            "          64, 128, kernel_size=(1, 1), stride=(2, 2), bias=False\n",
            "          #params: 8.19K, #flops: 6.42M\n",
            "        )\n",
            "        (1): BatchNorm2d(\n",
            "          128, eps=1e-05, momentum=0.1, affine=True, track_running_stats=True\n",
            "          #params: 0.26K, #flops: 0.5M\n",
            "        )\n",
            "      )\n",
            "    )\n",
            "    (1): BasicBlock(\n",
            "      #params: 0.3M, #flops: 0.23G\n",
            "      (conv1): Conv2d(\n",
            "        128, 128, kernel_size=(3, 3), stride=(1, 1), padding=(1, 1), bias=False\n",
            "        #params: 0.15M, #flops: 0.12G\n",
            "      )\n",
            "      (bn1): BatchNorm2d(\n",
            "        128, eps=1e-05, momentum=0.1, affine=True, track_running_stats=True\n",
            "        #params: 0.26K, #flops: 0.5M\n",
            "      )\n",
            "      (relu): ReLU(inplace=True)\n",
            "      (conv2): Conv2d(\n",
            "        128, 128, kernel_size=(3, 3), stride=(1, 1), padding=(1, 1), bias=False\n",
            "        #params: 0.15M, #flops: 0.12G\n",
            "      )\n",
            "      (bn2): BatchNorm2d(\n",
            "        128, eps=1e-05, momentum=0.1, affine=True, track_running_stats=True\n",
            "        #params: 0.26K, #flops: 0.5M\n",
            "      )\n",
            "    )\n",
            "  )\n",
            "  (layer3): Sequential(\n",
            "    #params: 2.1M, #flops: 0.41G\n",
            "    (0): BasicBlock(\n",
            "      #params: 0.92M, #flops: 0.18G\n",
            "      (conv1): Conv2d(\n",
            "        128, 256, kernel_size=(3, 3), stride=(2, 2), padding=(1, 1), bias=False\n",
            "        #params: 0.29M, #flops: 57.8M\n",
            "      )\n",
            "      (bn1): BatchNorm2d(\n",
            "        256, eps=1e-05, momentum=0.1, affine=True, track_running_stats=True\n",
            "        #params: 0.51K, #flops: 0.25M\n",
            "      )\n",
            "      (relu): ReLU(inplace=True)\n",
            "      (conv2): Conv2d(\n",
            "        256, 256, kernel_size=(3, 3), stride=(1, 1), padding=(1, 1), bias=False\n",
            "        #params: 0.59M, #flops: 0.12G\n",
            "      )\n",
            "      (bn2): BatchNorm2d(\n",
            "        256, eps=1e-05, momentum=0.1, affine=True, track_running_stats=True\n",
            "        #params: 0.51K, #flops: 0.25M\n",
            "      )\n",
            "      (downsample): Sequential(\n",
            "        #params: 33.28K, #flops: 6.67M\n",
            "        (0): Conv2d(\n",
            "          128, 256, kernel_size=(1, 1), stride=(2, 2), bias=False\n",
            "          #params: 32.77K, #flops: 6.42M\n",
            "        )\n",
            "        (1): BatchNorm2d(\n",
            "          256, eps=1e-05, momentum=0.1, affine=True, track_running_stats=True\n",
            "          #params: 0.51K, #flops: 0.25M\n",
            "        )\n",
            "      )\n",
            "    )\n",
            "    (1): BasicBlock(\n",
            "      #params: 1.18M, #flops: 0.23G\n",
            "      (conv1): Conv2d(\n",
            "        256, 256, kernel_size=(3, 3), stride=(1, 1), padding=(1, 1), bias=False\n",
            "        #params: 0.59M, #flops: 0.12G\n",
            "      )\n",
            "      (bn1): BatchNorm2d(\n",
            "        256, eps=1e-05, momentum=0.1, affine=True, track_running_stats=True\n",
            "        #params: 0.51K, #flops: 0.25M\n",
            "      )\n",
            "      (relu): ReLU(inplace=True)\n",
            "      (conv2): Conv2d(\n",
            "        256, 256, kernel_size=(3, 3), stride=(1, 1), padding=(1, 1), bias=False\n",
            "        #params: 0.59M, #flops: 0.12G\n",
            "      )\n",
            "      (bn2): BatchNorm2d(\n",
            "        256, eps=1e-05, momentum=0.1, affine=True, track_running_stats=True\n",
            "        #params: 0.51K, #flops: 0.25M\n",
            "      )\n",
            "    )\n",
            "  )\n",
            "  (layer4): Sequential(\n",
            "    #params: 8.39M, #flops: 0.41G\n",
            "    (0): BasicBlock(\n",
            "      #params: 3.67M, #flops: 0.18G\n",
            "      (conv1): Conv2d(\n",
            "        256, 512, kernel_size=(3, 3), stride=(2, 2), padding=(1, 1), bias=False\n",
            "        #params: 1.18M, #flops: 57.8M\n",
            "      )\n",
            "      (bn1): BatchNorm2d(\n",
            "        512, eps=1e-05, momentum=0.1, affine=True, track_running_stats=True\n",
            "        #params: 1.02K, #flops: 0.13M\n",
            "      )\n",
            "      (relu): ReLU(inplace=True)\n",
            "      (conv2): Conv2d(\n",
            "        512, 512, kernel_size=(3, 3), stride=(1, 1), padding=(1, 1), bias=False\n",
            "        #params: 2.36M, #flops: 0.12G\n",
            "      )\n",
            "      (bn2): BatchNorm2d(\n",
            "        512, eps=1e-05, momentum=0.1, affine=True, track_running_stats=True\n",
            "        #params: 1.02K, #flops: 0.13M\n",
            "      )\n",
            "      (downsample): Sequential(\n",
            "        #params: 0.13M, #flops: 6.55M\n",
            "        (0): Conv2d(\n",
            "          256, 512, kernel_size=(1, 1), stride=(2, 2), bias=False\n",
            "          #params: 0.13M, #flops: 6.42M\n",
            "        )\n",
            "        (1): BatchNorm2d(\n",
            "          512, eps=1e-05, momentum=0.1, affine=True, track_running_stats=True\n",
            "          #params: 1.02K, #flops: 0.13M\n",
            "        )\n",
            "      )\n",
            "    )\n",
            "    (1): BasicBlock(\n",
            "      #params: 4.72M, #flops: 0.23G\n",
            "      (conv1): Conv2d(\n",
            "        512, 512, kernel_size=(3, 3), stride=(1, 1), padding=(1, 1), bias=False\n",
            "        #params: 2.36M, #flops: 0.12G\n",
            "      )\n",
            "      (bn1): BatchNorm2d(\n",
            "        512, eps=1e-05, momentum=0.1, affine=True, track_running_stats=True\n",
            "        #params: 1.02K, #flops: 0.13M\n",
            "      )\n",
            "      (relu): ReLU(inplace=True)\n",
            "      (conv2): Conv2d(\n",
            "        512, 512, kernel_size=(3, 3), stride=(1, 1), padding=(1, 1), bias=False\n",
            "        #params: 2.36M, #flops: 0.12G\n",
            "      )\n",
            "      (bn2): BatchNorm2d(\n",
            "        512, eps=1e-05, momentum=0.1, affine=True, track_running_stats=True\n",
            "        #params: 1.02K, #flops: 0.13M\n",
            "      )\n",
            "    )\n",
            "  )\n",
            "  (avgpool): AdaptiveAvgPool2d(\n",
            "    output_size=(1, 1)\n",
            "    #params: 0, #flops: 25.09K\n",
            "  )\n",
            "  (fc): Linear(\n",
            "    in_features=512, out_features=1000, bias=True\n",
            "    #params: 0.51M, #flops: 0.51M\n",
            "  )\n",
            ")\n"
          ]
        }
      ]
    },
    {
      "cell_type": "code",
      "source": [
        "# Loading model to device.\n",
        "m_4.to(device)"
      ],
      "metadata": {
        "colab": {
          "base_uri": "https://localhost:8080/"
        },
        "id": "r_lfcO8JlqcW",
        "outputId": "d89ddd03-4eff-43ea-a425-3ade5e478cb4"
      },
      "execution_count": null,
      "outputs": [
        {
          "output_type": "execute_result",
          "data": {
            "text/plain": [
              "ResNet(\n",
              "  (conv1): Conv2d(3, 64, kernel_size=(7, 7), stride=(2, 2), padding=(3, 3), bias=False)\n",
              "  (bn1): BatchNorm2d(64, eps=1e-05, momentum=0.1, affine=True, track_running_stats=True)\n",
              "  (relu): ReLU(inplace=True)\n",
              "  (maxpool): MaxPool2d(kernel_size=3, stride=2, padding=1, dilation=1, ceil_mode=False)\n",
              "  (layer1): Sequential(\n",
              "    (0): BasicBlock(\n",
              "      (conv1): Conv2d(64, 64, kernel_size=(3, 3), stride=(1, 1), padding=(1, 1), bias=False)\n",
              "      (bn1): BatchNorm2d(64, eps=1e-05, momentum=0.1, affine=True, track_running_stats=True)\n",
              "      (relu): ReLU(inplace=True)\n",
              "      (conv2): Conv2d(64, 64, kernel_size=(3, 3), stride=(1, 1), padding=(1, 1), bias=False)\n",
              "      (bn2): BatchNorm2d(64, eps=1e-05, momentum=0.1, affine=True, track_running_stats=True)\n",
              "    )\n",
              "    (1): BasicBlock(\n",
              "      (conv1): Conv2d(64, 64, kernel_size=(3, 3), stride=(1, 1), padding=(1, 1), bias=False)\n",
              "      (bn1): BatchNorm2d(64, eps=1e-05, momentum=0.1, affine=True, track_running_stats=True)\n",
              "      (relu): ReLU(inplace=True)\n",
              "      (conv2): Conv2d(64, 64, kernel_size=(3, 3), stride=(1, 1), padding=(1, 1), bias=False)\n",
              "      (bn2): BatchNorm2d(64, eps=1e-05, momentum=0.1, affine=True, track_running_stats=True)\n",
              "    )\n",
              "  )\n",
              "  (layer2): Sequential(\n",
              "    (0): BasicBlock(\n",
              "      (conv1): Conv2d(64, 128, kernel_size=(3, 3), stride=(2, 2), padding=(1, 1), bias=False)\n",
              "      (bn1): BatchNorm2d(128, eps=1e-05, momentum=0.1, affine=True, track_running_stats=True)\n",
              "      (relu): ReLU(inplace=True)\n",
              "      (conv2): Conv2d(128, 128, kernel_size=(3, 3), stride=(1, 1), padding=(1, 1), bias=False)\n",
              "      (bn2): BatchNorm2d(128, eps=1e-05, momentum=0.1, affine=True, track_running_stats=True)\n",
              "      (downsample): Sequential(\n",
              "        (0): Conv2d(64, 128, kernel_size=(1, 1), stride=(2, 2), bias=False)\n",
              "        (1): BatchNorm2d(128, eps=1e-05, momentum=0.1, affine=True, track_running_stats=True)\n",
              "      )\n",
              "    )\n",
              "    (1): BasicBlock(\n",
              "      (conv1): Conv2d(128, 128, kernel_size=(3, 3), stride=(1, 1), padding=(1, 1), bias=False)\n",
              "      (bn1): BatchNorm2d(128, eps=1e-05, momentum=0.1, affine=True, track_running_stats=True)\n",
              "      (relu): ReLU(inplace=True)\n",
              "      (conv2): Conv2d(128, 128, kernel_size=(3, 3), stride=(1, 1), padding=(1, 1), bias=False)\n",
              "      (bn2): BatchNorm2d(128, eps=1e-05, momentum=0.1, affine=True, track_running_stats=True)\n",
              "    )\n",
              "  )\n",
              "  (layer3): Sequential(\n",
              "    (0): BasicBlock(\n",
              "      (conv1): Conv2d(128, 256, kernel_size=(3, 3), stride=(2, 2), padding=(1, 1), bias=False)\n",
              "      (bn1): BatchNorm2d(256, eps=1e-05, momentum=0.1, affine=True, track_running_stats=True)\n",
              "      (relu): ReLU(inplace=True)\n",
              "      (conv2): Conv2d(256, 256, kernel_size=(3, 3), stride=(1, 1), padding=(1, 1), bias=False)\n",
              "      (bn2): BatchNorm2d(256, eps=1e-05, momentum=0.1, affine=True, track_running_stats=True)\n",
              "      (downsample): Sequential(\n",
              "        (0): Conv2d(128, 256, kernel_size=(1, 1), stride=(2, 2), bias=False)\n",
              "        (1): BatchNorm2d(256, eps=1e-05, momentum=0.1, affine=True, track_running_stats=True)\n",
              "      )\n",
              "    )\n",
              "    (1): BasicBlock(\n",
              "      (conv1): Conv2d(256, 256, kernel_size=(3, 3), stride=(1, 1), padding=(1, 1), bias=False)\n",
              "      (bn1): BatchNorm2d(256, eps=1e-05, momentum=0.1, affine=True, track_running_stats=True)\n",
              "      (relu): ReLU(inplace=True)\n",
              "      (conv2): Conv2d(256, 256, kernel_size=(3, 3), stride=(1, 1), padding=(1, 1), bias=False)\n",
              "      (bn2): BatchNorm2d(256, eps=1e-05, momentum=0.1, affine=True, track_running_stats=True)\n",
              "    )\n",
              "  )\n",
              "  (layer4): Sequential(\n",
              "    (0): BasicBlock(\n",
              "      (conv1): Conv2d(256, 512, kernel_size=(3, 3), stride=(2, 2), padding=(1, 1), bias=False)\n",
              "      (bn1): BatchNorm2d(512, eps=1e-05, momentum=0.1, affine=True, track_running_stats=True)\n",
              "      (relu): ReLU(inplace=True)\n",
              "      (conv2): Conv2d(512, 512, kernel_size=(3, 3), stride=(1, 1), padding=(1, 1), bias=False)\n",
              "      (bn2): BatchNorm2d(512, eps=1e-05, momentum=0.1, affine=True, track_running_stats=True)\n",
              "      (downsample): Sequential(\n",
              "        (0): Conv2d(256, 512, kernel_size=(1, 1), stride=(2, 2), bias=False)\n",
              "        (1): BatchNorm2d(512, eps=1e-05, momentum=0.1, affine=True, track_running_stats=True)\n",
              "      )\n",
              "    )\n",
              "    (1): BasicBlock(\n",
              "      (conv1): Conv2d(512, 512, kernel_size=(3, 3), stride=(1, 1), padding=(1, 1), bias=False)\n",
              "      (bn1): BatchNorm2d(512, eps=1e-05, momentum=0.1, affine=True, track_running_stats=True)\n",
              "      (relu): ReLU(inplace=True)\n",
              "      (conv2): Conv2d(512, 512, kernel_size=(3, 3), stride=(1, 1), padding=(1, 1), bias=False)\n",
              "      (bn2): BatchNorm2d(512, eps=1e-05, momentum=0.1, affine=True, track_running_stats=True)\n",
              "    )\n",
              "  )\n",
              "  (avgpool): AdaptiveAvgPool2d(output_size=(1, 1))\n",
              "  (fc): Linear(in_features=512, out_features=1000, bias=True)\n",
              ")"
            ]
          },
          "metadata": {},
          "execution_count": 20
        }
      ]
    },
    {
      "cell_type": "markdown",
      "source": [
        "The model is trained using the same training procedure used for all other models."
      ],
      "metadata": {
        "id": "QIUj9V-SsrQe"
      }
    },
    {
      "cell_type": "code",
      "source": [
        "# Epochs.\n",
        "EPOCHS = 25\n",
        "\n",
        "# Initial learning rate.\n",
        "LR = 6e-5\n",
        "\n",
        "# Weight decay.\n",
        "WD = 1e-5\n",
        "\n",
        "# Loss function.\n",
        "loss_fn = nn.CrossEntropyLoss()\n",
        "\n",
        "# Optimizer.\n",
        "optimizer = torch.optim.AdamW(m_4.parameters(), lr = LR, weight_decay = WD)\n",
        "\n",
        "# Scheduler.\n",
        "scheduler = torch.optim.lr_scheduler.CosineAnnealingLR(optimizer, EPOCHS)"
      ],
      "metadata": {
        "id": "us5r4CkGluUW"
      },
      "execution_count": null,
      "outputs": []
    },
    {
      "cell_type": "code",
      "source": [
        "# Training.\n",
        "history = train(m_4, optimizer, scheduler, loss_fn, train_loader, val_loader, EPOCHS, device)\n",
        "\n",
        "# Creating a checkpoint.\n",
        "checkpoint = {\n",
        "  \"model\": m_4.state_dict(),\n",
        "  \"optimizer\": optimizer.state_dict(),\n",
        "  \"scheduler\": scheduler.state_dict()\n",
        "}\n",
        "\n",
        "# Saving the model.\n",
        "torch.save(checkpoint, \"checkpoint4.pt\")\n",
        "\n",
        "# Saving history.\n",
        "with open(\"m_4_history.pkl\", \"wb\") as f:\n",
        "  pickle.dump(history, f)"
      ],
      "metadata": {
        "colab": {
          "base_uri": "https://localhost:8080/"
        },
        "id": "7a2Uz1mNlx-e",
        "outputId": "0c78e752-f801-49ce-e7bc-b2b2f9988bf2"
      },
      "execution_count": null,
      "outputs": [
        {
          "output_type": "stream",
          "name": "stdout",
          "text": [
            "Epoch  1/25:\n"
          ]
        },
        {
          "output_type": "stream",
          "name": "stderr",
          "text": [
            "Training: 100%|██████████| 1250/1250 [02:12<00:00,  9.45it/s]\n",
            "Validation: 100%|██████████| 313/313 [00:20<00:00, 15.26it/s]\n"
          ]
        },
        {
          "output_type": "stream",
          "name": "stdout",
          "text": [
            "train_loss: 1.7029, train_accuracy: 0.4316, val_loss: 1.2856, val_accuracy: 0.5347, lr: 6.0000e-05\n",
            "\n",
            "Epoch  2/25:\n"
          ]
        },
        {
          "output_type": "stream",
          "name": "stderr",
          "text": [
            "Training: 100%|██████████| 1250/1250 [02:06<00:00,  9.90it/s]\n",
            "Validation: 100%|██████████| 313/313 [00:20<00:00, 15.19it/s]\n"
          ]
        },
        {
          "output_type": "stream",
          "name": "stdout",
          "text": [
            "train_loss: 1.1560, train_accuracy: 0.5877, val_loss: 1.1000, val_accuracy: 0.6051, lr: 5.9763e-05\n",
            "\n",
            "Epoch  3/25:\n"
          ]
        },
        {
          "output_type": "stream",
          "name": "stderr",
          "text": [
            "Training: 100%|██████████| 1250/1250 [02:05<00:00,  9.98it/s]\n",
            "Validation: 100%|██████████| 313/313 [00:23<00:00, 13.55it/s]\n"
          ]
        },
        {
          "output_type": "stream",
          "name": "stdout",
          "text": [
            "train_loss: 0.9575, train_accuracy: 0.6609, val_loss: 0.9275, val_accuracy: 0.6746, lr: 5.9057e-05\n",
            "\n",
            "Epoch  4/25:\n"
          ]
        },
        {
          "output_type": "stream",
          "name": "stderr",
          "text": [
            "Training: 100%|██████████| 1250/1250 [02:04<00:00, 10.04it/s]\n",
            "Validation: 100%|██████████| 313/313 [00:20<00:00, 15.47it/s]\n"
          ]
        },
        {
          "output_type": "stream",
          "name": "stdout",
          "text": [
            "train_loss: 0.8337, train_accuracy: 0.7075, val_loss: 0.8515, val_accuracy: 0.7041, lr: 5.7893e-05\n",
            "\n",
            "Epoch  5/25:\n"
          ]
        },
        {
          "output_type": "stream",
          "name": "stderr",
          "text": [
            "Training: 100%|██████████| 1250/1250 [02:06<00:00,  9.90it/s]\n",
            "Validation: 100%|██████████| 313/313 [00:21<00:00, 14.88it/s]\n"
          ]
        },
        {
          "output_type": "stream",
          "name": "stdout",
          "text": [
            "train_loss: 0.7347, train_accuracy: 0.7440, val_loss: 0.7346, val_accuracy: 0.7446, lr: 5.6289e-05\n",
            "\n",
            "Epoch  6/25:\n"
          ]
        },
        {
          "output_type": "stream",
          "name": "stderr",
          "text": [
            "Training: 100%|██████████| 1250/1250 [02:05<00:00,  9.95it/s]\n",
            "Validation: 100%|██████████| 313/313 [00:21<00:00, 14.32it/s]\n"
          ]
        },
        {
          "output_type": "stream",
          "name": "stdout",
          "text": [
            "train_loss: 0.6619, train_accuracy: 0.7701, val_loss: 0.7150, val_accuracy: 0.7569, lr: 5.4271e-05\n",
            "\n",
            "Epoch  7/25:\n"
          ]
        },
        {
          "output_type": "stream",
          "name": "stderr",
          "text": [
            "Training: 100%|██████████| 1250/1250 [02:06<00:00,  9.85it/s]\n",
            "Validation: 100%|██████████| 313/313 [00:21<00:00, 14.90it/s]\n"
          ]
        },
        {
          "output_type": "stream",
          "name": "stdout",
          "text": [
            "train_loss: 0.6100, train_accuracy: 0.7879, val_loss: 0.6422, val_accuracy: 0.7813, lr: 5.1869e-05\n",
            "\n",
            "Epoch  8/25:\n"
          ]
        },
        {
          "output_type": "stream",
          "name": "stderr",
          "text": [
            "Training: 100%|██████████| 1250/1250 [02:06<00:00,  9.87it/s]\n",
            "Validation: 100%|██████████| 313/313 [00:20<00:00, 14.92it/s]\n"
          ]
        },
        {
          "output_type": "stream",
          "name": "stdout",
          "text": [
            "train_loss: 0.5594, train_accuracy: 0.8070, val_loss: 0.6199, val_accuracy: 0.7877, lr: 4.9123e-05\n",
            "\n",
            "Epoch  9/25:\n"
          ]
        },
        {
          "output_type": "stream",
          "name": "stderr",
          "text": [
            "Training: 100%|██████████| 1250/1250 [02:07<00:00,  9.84it/s]\n",
            "Validation: 100%|██████████| 313/313 [00:20<00:00, 15.14it/s]\n"
          ]
        },
        {
          "output_type": "stream",
          "name": "stdout",
          "text": [
            "train_loss: 0.5222, train_accuracy: 0.8189, val_loss: 0.5733, val_accuracy: 0.8062, lr: 4.6075e-05\n",
            "\n",
            "Epoch 10/25:\n"
          ]
        },
        {
          "output_type": "stream",
          "name": "stderr",
          "text": [
            "Training: 100%|██████████| 1250/1250 [02:04<00:00, 10.02it/s]\n",
            "Validation: 100%|██████████| 313/313 [00:20<00:00, 15.36it/s]\n"
          ]
        },
        {
          "output_type": "stream",
          "name": "stdout",
          "text": [
            "train_loss: 0.4903, train_accuracy: 0.8304, val_loss: 0.5667, val_accuracy: 0.8036, lr: 4.2773e-05\n",
            "\n",
            "Epoch 11/25:\n"
          ]
        },
        {
          "output_type": "stream",
          "name": "stderr",
          "text": [
            "Training: 100%|██████████| 1250/1250 [02:05<00:00,  9.94it/s]\n",
            "Validation: 100%|██████████| 313/313 [00:20<00:00, 15.19it/s]\n"
          ]
        },
        {
          "output_type": "stream",
          "name": "stdout",
          "text": [
            "train_loss: 0.4535, train_accuracy: 0.8446, val_loss: 0.5141, val_accuracy: 0.8220, lr: 3.9271e-05\n",
            "\n",
            "Epoch 12/25:\n"
          ]
        },
        {
          "output_type": "stream",
          "name": "stderr",
          "text": [
            "Training: 100%|██████████| 1250/1250 [02:04<00:00, 10.02it/s]\n",
            "Validation: 100%|██████████| 313/313 [00:20<00:00, 15.48it/s]\n"
          ]
        },
        {
          "output_type": "stream",
          "name": "stdout",
          "text": [
            "train_loss: 0.4243, train_accuracy: 0.8532, val_loss: 0.5124, val_accuracy: 0.8276, lr: 3.5621e-05\n",
            "\n",
            "Epoch 13/25:\n"
          ]
        },
        {
          "output_type": "stream",
          "name": "stderr",
          "text": [
            "Training: 100%|██████████| 1250/1250 [02:05<00:00,  9.95it/s]\n",
            "Validation: 100%|██████████| 313/313 [00:20<00:00, 15.44it/s]\n"
          ]
        },
        {
          "output_type": "stream",
          "name": "stdout",
          "text": [
            "train_loss: 0.3945, train_accuracy: 0.8645, val_loss: 0.4849, val_accuracy: 0.8360, lr: 3.1884e-05\n",
            "\n",
            "Epoch 14/25:\n"
          ]
        },
        {
          "output_type": "stream",
          "name": "stderr",
          "text": [
            "Training: 100%|██████████| 1250/1250 [02:04<00:00, 10.08it/s]\n",
            "Validation: 100%|██████████| 313/313 [00:22<00:00, 13.89it/s]\n"
          ]
        },
        {
          "output_type": "stream",
          "name": "stdout",
          "text": [
            "train_loss: 0.3730, train_accuracy: 0.8711, val_loss: 0.4713, val_accuracy: 0.8410, lr: 2.8116e-05\n",
            "\n",
            "Epoch 15/25:\n"
          ]
        },
        {
          "output_type": "stream",
          "name": "stderr",
          "text": [
            "Training: 100%|██████████| 1250/1250 [02:04<00:00, 10.05it/s]\n",
            "Validation: 100%|██████████| 313/313 [00:20<00:00, 15.45it/s]\n"
          ]
        },
        {
          "output_type": "stream",
          "name": "stdout",
          "text": [
            "train_loss: 0.3440, train_accuracy: 0.8810, val_loss: 0.4633, val_accuracy: 0.8412, lr: 2.4379e-05\n",
            "\n",
            "Epoch 16/25:\n"
          ]
        },
        {
          "output_type": "stream",
          "name": "stderr",
          "text": [
            "Training: 100%|██████████| 1250/1250 [02:05<00:00,  9.97it/s]\n",
            "Validation: 100%|██████████| 313/313 [00:20<00:00, 15.33it/s]\n"
          ]
        },
        {
          "output_type": "stream",
          "name": "stdout",
          "text": [
            "train_loss: 0.3225, train_accuracy: 0.8901, val_loss: 0.4303, val_accuracy: 0.8560, lr: 2.0729e-05\n",
            "\n",
            "Epoch 17/25:\n"
          ]
        },
        {
          "output_type": "stream",
          "name": "stderr",
          "text": [
            "Training: 100%|██████████| 1250/1250 [02:04<00:00, 10.06it/s]\n",
            "Validation: 100%|██████████| 313/313 [00:20<00:00, 15.37it/s]\n"
          ]
        },
        {
          "output_type": "stream",
          "name": "stdout",
          "text": [
            "train_loss: 0.3008, train_accuracy: 0.8976, val_loss: 0.4270, val_accuracy: 0.8513, lr: 1.7227e-05\n",
            "\n",
            "Epoch 18/25:\n"
          ]
        },
        {
          "output_type": "stream",
          "name": "stderr",
          "text": [
            "Training: 100%|██████████| 1250/1250 [02:05<00:00,  9.96it/s]\n",
            "Validation: 100%|██████████| 313/313 [00:20<00:00, 15.29it/s]\n"
          ]
        },
        {
          "output_type": "stream",
          "name": "stdout",
          "text": [
            "train_loss: 0.2870, train_accuracy: 0.9002, val_loss: 0.4249, val_accuracy: 0.8566, lr: 1.3925e-05\n",
            "\n",
            "Epoch 19/25:\n"
          ]
        },
        {
          "output_type": "stream",
          "name": "stderr",
          "text": [
            "Training: 100%|██████████| 1250/1250 [02:04<00:00, 10.06it/s]\n",
            "Validation: 100%|██████████| 313/313 [00:20<00:00, 15.39it/s]\n"
          ]
        },
        {
          "output_type": "stream",
          "name": "stdout",
          "text": [
            "train_loss: 0.2683, train_accuracy: 0.9090, val_loss: 0.4175, val_accuracy: 0.8552, lr: 1.0877e-05\n",
            "\n",
            "Epoch 20/25:\n"
          ]
        },
        {
          "output_type": "stream",
          "name": "stderr",
          "text": [
            "Training: 100%|██████████| 1250/1250 [02:05<00:00,  9.97it/s]\n",
            "Validation: 100%|██████████| 313/313 [00:20<00:00, 15.57it/s]\n"
          ]
        },
        {
          "output_type": "stream",
          "name": "stdout",
          "text": [
            "train_loss: 0.2569, train_accuracy: 0.9116, val_loss: 0.4041, val_accuracy: 0.8637, lr: 8.1309e-06\n",
            "\n",
            "Epoch 21/25:\n"
          ]
        },
        {
          "output_type": "stream",
          "name": "stderr",
          "text": [
            "Training: 100%|██████████| 1250/1250 [02:04<00:00, 10.07it/s]\n",
            "Validation: 100%|██████████| 313/313 [00:22<00:00, 14.04it/s]\n"
          ]
        },
        {
          "output_type": "stream",
          "name": "stdout",
          "text": [
            "train_loss: 0.2475, train_accuracy: 0.9168, val_loss: 0.4130, val_accuracy: 0.8608, lr: 5.7295e-06\n",
            "\n",
            "Epoch 22/25:\n"
          ]
        },
        {
          "output_type": "stream",
          "name": "stderr",
          "text": [
            "Training: 100%|██████████| 1250/1250 [02:03<00:00, 10.09it/s]\n",
            "Validation: 100%|██████████| 313/313 [00:20<00:00, 15.24it/s]\n"
          ]
        },
        {
          "output_type": "stream",
          "name": "stdout",
          "text": [
            "train_loss: 0.2348, train_accuracy: 0.9215, val_loss: 0.4017, val_accuracy: 0.8611, lr: 3.7108e-06\n",
            "\n",
            "Epoch 23/25:\n"
          ]
        },
        {
          "output_type": "stream",
          "name": "stderr",
          "text": [
            "Training: 100%|██████████| 1250/1250 [02:05<00:00,  9.95it/s]\n",
            "Validation: 100%|██████████| 313/313 [00:20<00:00, 15.52it/s]\n"
          ]
        },
        {
          "output_type": "stream",
          "name": "stdout",
          "text": [
            "train_loss: 0.2289, train_accuracy: 0.9232, val_loss: 0.4034, val_accuracy: 0.8645, lr: 2.1067e-06\n",
            "\n",
            "Epoch 24/25:\n"
          ]
        },
        {
          "output_type": "stream",
          "name": "stderr",
          "text": [
            "Training: 100%|██████████| 1250/1250 [02:04<00:00, 10.08it/s]\n",
            "Validation: 100%|██████████| 313/313 [00:20<00:00, 15.57it/s]\n"
          ]
        },
        {
          "output_type": "stream",
          "name": "stdout",
          "text": [
            "train_loss: 0.2227, train_accuracy: 0.9247, val_loss: 0.3964, val_accuracy: 0.8686, lr: 9.4251e-07\n",
            "\n",
            "Epoch 25/25:\n"
          ]
        },
        {
          "output_type": "stream",
          "name": "stderr",
          "text": [
            "Training: 100%|██████████| 1250/1250 [02:05<00:00, 10.00it/s]\n",
            "Validation: 100%|██████████| 313/313 [00:19<00:00, 15.70it/s]\n"
          ]
        },
        {
          "output_type": "stream",
          "name": "stdout",
          "text": [
            "\n",
            "train_loss: 0.2221, train_accuracy: 0.9247, val_loss: 0.3975, val_accuracy: 0.8678, lr: 2.3656e-07\n"
          ]
        }
      ]
    },
    {
      "cell_type": "markdown",
      "source": [
        "## Models Testing"
      ],
      "metadata": {
        "id": "I6gNoTUjPqvL"
      }
    },
    {
      "cell_type": "markdown",
      "source": [
        "In this section, all the models are tested using the test set of CIFAR-10. To do so, the `test` function has been defined."
      ],
      "metadata": {
        "id": "R4HG9fTbF4Fq"
      }
    },
    {
      "cell_type": "code",
      "source": [
        "# Tests a model.\n",
        "def test(model, test_loader):\n",
        "  \n",
        "  # Testing.\n",
        "  model.eval()\n",
        "\n",
        "  # Predictions and ground truth.\n",
        "  y_pred = []\n",
        "  y_true = []\n",
        "\n",
        "  with torch.no_grad():\n",
        "\n",
        "    # Iterating over mini-batches.\n",
        "    for batch in tqdm(test_loader, desc = \"Testing\", position = 0):\n",
        "\n",
        "      # Moving x and y to GPU.\n",
        "      x = batch[0].to(device)\n",
        "      y = batch[1].to(device)\n",
        "\n",
        "      # Predictions.\n",
        "      yhat = model(x)\n",
        "\n",
        "      # Updating variables.\n",
        "      y_pred.extend(torch.argmax(yhat, 1).tolist())\n",
        "      y_true.extend(y.tolist())\n",
        "\n",
        "  # Returning pred and true.\n",
        "  return y_pred, y_true"
      ],
      "metadata": {
        "id": "5rZ1c0YXrwtR"
      },
      "execution_count": null,
      "outputs": []
    },
    {
      "cell_type": "markdown",
      "source": [
        "For every possible model, the predicted labels are computed. Moreover, the test accuracy of each model is saved into a `.npy` file, so as to use such value to evaluate the model's performances against all other models. Lastly, the classification report is computed and printed.\n",
        "\n",
        "All models achieve almost the same performances (precision, recall, F1-score, and accuracy). However, ResNet-18's results are slightly lower than the results obtained by all other models."
      ],
      "metadata": {
        "id": "CnE4dlJCGN_G"
      }
    },
    {
      "cell_type": "markdown",
      "source": [
        "### Lightweight MHSA model ($m_1$)"
      ],
      "metadata": {
        "id": "ClULEfjlPu56"
      }
    },
    {
      "cell_type": "code",
      "source": [
        "# Testing the model.\n",
        "y_pred, y_true = test(m_1, test_loader)\n",
        "\n",
        "# Computing and saving accuracy.\n",
        "np.save(\"m_1_accuracy.npy\", sum(1 for pred, true in zip(y_pred, y_true) if pred == true) / len(y_true))"
      ],
      "metadata": {
        "id": "gRr29r0ASG8b",
        "colab": {
          "base_uri": "https://localhost:8080/"
        },
        "outputId": "1e9dbf20-0b62-42f6-c4ca-ff3fd37fc2c2"
      },
      "execution_count": null,
      "outputs": [
        {
          "output_type": "stream",
          "name": "stderr",
          "text": [
            "Testing: 100%|██████████| 313/313 [00:36<00:00,  8.61it/s]\n"
          ]
        }
      ]
    },
    {
      "cell_type": "code",
      "source": [
        "# Classification report.\n",
        "print(classification_report(y_true, y_pred))"
      ],
      "metadata": {
        "id": "g3cCodaVUdpy",
        "colab": {
          "base_uri": "https://localhost:8080/"
        },
        "outputId": "48dbfb99-f31b-4ed0-e88b-6092c58e2a5d"
      },
      "execution_count": null,
      "outputs": [
        {
          "output_type": "stream",
          "name": "stdout",
          "text": [
            "              precision    recall  f1-score   support\n",
            "\n",
            "           0       0.89      0.91      0.90      1000\n",
            "           1       0.95      0.95      0.95      1000\n",
            "           2       0.85      0.85      0.85      1000\n",
            "           3       0.78      0.77      0.77      1000\n",
            "           4       0.85      0.89      0.87      1000\n",
            "           5       0.83      0.80      0.82      1000\n",
            "           6       0.92      0.92      0.92      1000\n",
            "           7       0.94      0.92      0.93      1000\n",
            "           8       0.94      0.94      0.94      1000\n",
            "           9       0.93      0.94      0.93      1000\n",
            "\n",
            "    accuracy                           0.89     10000\n",
            "   macro avg       0.89      0.89      0.89     10000\n",
            "weighted avg       0.89      0.89      0.89     10000\n",
            "\n"
          ]
        }
      ]
    },
    {
      "cell_type": "markdown",
      "source": [
        "### Standard MHSA model ($m_2$)"
      ],
      "metadata": {
        "id": "Fkjn8hY6P0tX"
      }
    },
    {
      "cell_type": "code",
      "source": [
        "# Testing the model.\n",
        "y_pred, y_true = test(m_2, test_loader)\n",
        "\n",
        "# Computing and saving accuracy.\n",
        "np.save(\"m_2_accuracy.npy\", sum(1 for pred, true in zip(y_pred, y_true) if pred == true) / len(y_true))"
      ],
      "metadata": {
        "id": "PbS-9WWnD59a",
        "colab": {
          "base_uri": "https://localhost:8080/"
        },
        "outputId": "5389093a-1bc3-4302-d2aa-bd2649ad0bc2"
      },
      "execution_count": null,
      "outputs": [
        {
          "output_type": "stream",
          "name": "stderr",
          "text": [
            "Testing: 100%|██████████| 313/313 [01:13<00:00,  4.26it/s]\n"
          ]
        }
      ]
    },
    {
      "cell_type": "code",
      "source": [
        "# Classification report.\n",
        "print(classification_report(y_true, y_pred))"
      ],
      "metadata": {
        "id": "kmsQqiWhD_eH",
        "colab": {
          "base_uri": "https://localhost:8080/"
        },
        "outputId": "1fa6adf3-ee83-4e3b-d8b5-d9621f261b45"
      },
      "execution_count": null,
      "outputs": [
        {
          "output_type": "stream",
          "name": "stdout",
          "text": [
            "              precision    recall  f1-score   support\n",
            "\n",
            "           0       0.90      0.90      0.90      1000\n",
            "           1       0.96      0.94      0.95      1000\n",
            "           2       0.90      0.82      0.86      1000\n",
            "           3       0.75      0.78      0.77      1000\n",
            "           4       0.88      0.89      0.88      1000\n",
            "           5       0.83      0.81      0.82      1000\n",
            "           6       0.90      0.93      0.92      1000\n",
            "           7       0.93      0.91      0.92      1000\n",
            "           8       0.93      0.95      0.94      1000\n",
            "           9       0.91      0.95      0.93      1000\n",
            "\n",
            "    accuracy                           0.89     10000\n",
            "   macro avg       0.89      0.89      0.89     10000\n",
            "weighted avg       0.89      0.89      0.89     10000\n",
            "\n"
          ]
        }
      ]
    },
    {
      "cell_type": "markdown",
      "source": [
        "### No attention model ($m_3$) "
      ],
      "metadata": {
        "id": "Xen_6qHLP4NB"
      }
    },
    {
      "cell_type": "code",
      "source": [
        "# Testing the model.\n",
        "y_pred, y_true = test(m_3, test_loader)\n",
        "\n",
        "# Computing and saving accuracy.\n",
        "np.save(\"m_3_accuracy.npy\", sum(1 for pred, true in zip(y_pred, y_true) if pred == true) / len(y_true))"
      ],
      "metadata": {
        "id": "pz98i9pyFnk0",
        "colab": {
          "base_uri": "https://localhost:8080/"
        },
        "outputId": "ef04db35-c0c4-46a2-9731-70b20e7be1f2"
      },
      "execution_count": null,
      "outputs": [
        {
          "output_type": "stream",
          "name": "stderr",
          "text": [
            "Testing: 100%|██████████| 313/313 [00:28<00:00, 11.04it/s]\n"
          ]
        }
      ]
    },
    {
      "cell_type": "code",
      "source": [
        "# Classification report.\n",
        "print(classification_report(y_true, y_pred))"
      ],
      "metadata": {
        "id": "UHQV3I6gFp2I",
        "colab": {
          "base_uri": "https://localhost:8080/"
        },
        "outputId": "f01c0699-30a5-41f7-ee70-7c4804b99e6c"
      },
      "execution_count": null,
      "outputs": [
        {
          "output_type": "stream",
          "name": "stdout",
          "text": [
            "              precision    recall  f1-score   support\n",
            "\n",
            "           0       0.90      0.90      0.90      1000\n",
            "           1       0.95      0.96      0.95      1000\n",
            "           2       0.87      0.86      0.87      1000\n",
            "           3       0.75      0.78      0.77      1000\n",
            "           4       0.88      0.89      0.88      1000\n",
            "           5       0.85      0.80      0.82      1000\n",
            "           6       0.92      0.91      0.92      1000\n",
            "           7       0.92      0.92      0.92      1000\n",
            "           8       0.92      0.95      0.94      1000\n",
            "           9       0.94      0.94      0.94      1000\n",
            "\n",
            "    accuracy                           0.89     10000\n",
            "   macro avg       0.89      0.89      0.89     10000\n",
            "weighted avg       0.89      0.89      0.89     10000\n",
            "\n"
          ]
        }
      ]
    },
    {
      "cell_type": "markdown",
      "source": [
        "### ResNet-18 ($m_4$)"
      ],
      "metadata": {
        "id": "YcLP1vBnmayl"
      }
    },
    {
      "cell_type": "code",
      "source": [
        "# Testing the model.\n",
        "y_pred, y_true = test(m_4, test_loader)\n",
        "\n",
        "# Computing and saving accuracy.\n",
        "np.save(\"m_4_accuracy.npy\", sum(1 for pred, true in zip(y_pred, y_true) if pred == true) / len(y_true))"
      ],
      "metadata": {
        "colab": {
          "base_uri": "https://localhost:8080/"
        },
        "id": "CMdwUtgmmcrd",
        "outputId": "f0dee11e-cf3a-483d-82be-dea5cde90823"
      },
      "execution_count": null,
      "outputs": [
        {
          "output_type": "stream",
          "name": "stderr",
          "text": [
            "Testing: 100%|██████████| 313/313 [00:18<00:00, 17.35it/s]\n"
          ]
        }
      ]
    },
    {
      "cell_type": "code",
      "source": [
        "# Classification report.\n",
        "print(classification_report(y_true, y_pred))"
      ],
      "metadata": {
        "colab": {
          "base_uri": "https://localhost:8080/"
        },
        "id": "cSqT3JOjmeiU",
        "outputId": "03a14a99-c771-4e76-b1a8-2a23c55f7a97"
      },
      "execution_count": null,
      "outputs": [
        {
          "output_type": "stream",
          "name": "stdout",
          "text": [
            "              precision    recall  f1-score   support\n",
            "\n",
            "           0       0.86      0.91      0.89      1000\n",
            "           1       0.95      0.95      0.95      1000\n",
            "           2       0.82      0.84      0.83      1000\n",
            "           3       0.74      0.77      0.76      1000\n",
            "           4       0.88      0.86      0.87      1000\n",
            "           5       0.83      0.79      0.81      1000\n",
            "           6       0.92      0.90      0.91      1000\n",
            "           7       0.92      0.89      0.91      1000\n",
            "           8       0.92      0.94      0.93      1000\n",
            "           9       0.92      0.93      0.93      1000\n",
            "\n",
            "    accuracy                           0.88     10000\n",
            "   macro avg       0.88      0.88      0.88     10000\n",
            "weighted avg       0.88      0.88      0.88     10000\n",
            "\n"
          ]
        }
      ]
    },
    {
      "cell_type": "markdown",
      "source": [
        "## Results"
      ],
      "metadata": {
        "id": "d5MU-6pmrYiq"
      }
    },
    {
      "cell_type": "markdown",
      "source": [
        "Once the performances of all models have been evaluated, the computed results are analysed by studying validation accuracy/loss trends during the training phase, and by comparing test accuracy vs. number of FLOPs."
      ],
      "metadata": {
        "id": "X9dn3oiuIzAf"
      }
    },
    {
      "cell_type": "code",
      "source": [
        "# Training histories.\n",
        "histories = {}\n",
        "\n",
        "# Test accuracies.\n",
        "test_acc = {}\n",
        "\n",
        "# Names.\n",
        "m_names = [\"m_1\", \"m_2\", \"m_3\", \"m_4\"]\n",
        "\n",
        "# Reading histories and test accuracies.\n",
        "for name in m_names:\n",
        "  with open(f\"{name}_history.pkl\", \"rb\") as f: \n",
        "    histories[name] = pickle.load(f)\n",
        "  test_acc[name] = float(np.load(f\"{name}_accuracy.npy\"))\n",
        "\n",
        "# FLOPs. These values are taken from the cells above.\n",
        "flops = {\n",
        "    \"m_1\": 1.31e9,\n",
        "    \"m_2\": 3.56e9,\n",
        "    \"m_3\": 0.95e9,\n",
        "    \"m_4\": 1.83e9\n",
        "}\n",
        "\n",
        "# Texts.\n",
        "texts = {\n",
        "    \"m_1\": \"CMT w/ lightweight attn\",\n",
        "    \"m_2\": \"CMT w/ standard attn\",\n",
        "    \"m_3\": \"CMT w/o attn\",\n",
        "    \"m_4\": \"ResNet-18\"\n",
        "}"
      ],
      "metadata": {
        "id": "8Mgw9t9dtsEc"
      },
      "execution_count": null,
      "outputs": []
    },
    {
      "cell_type": "markdown",
      "source": [
        "First, for each model, the validation accuracy and loss are plotted. In particular, one can notice how all CMT models perform better than ResNet-18 for the first epochs, while the ResNet model is able to converge to (almost) the same results of CMT only in the last few epochs."
      ],
      "metadata": {
        "id": "H_1mqEhoJ3-c"
      }
    },
    {
      "cell_type": "code",
      "source": [
        "# Creating the figure and axes.\n",
        "fig, (ax1, ax2) = plt.subplots(1, 2, figsize = (14, 4))\n",
        "\n",
        "# Iterating over models.\n",
        "for name in m_names:\n",
        "\n",
        "  # Computing the x axis array.\n",
        "  x = np.linspace(1, len(histories[name][\"val_loss\"]), len(histories[name][\"val_loss\"]), dtype = int)\n",
        "\n",
        "  # Plotting.\n",
        "  ax1.plot(x, histories[name][\"val_loss\"], label = r\"${}$\".format(name))\n",
        "  ax2.plot(x, histories[name][\"val_accuracy\"], label = r\"${}$\".format(name))\n",
        "\n",
        "ax1.set_ylabel(\"Validation loss\")\n",
        "ax1.set_xlabel(\"Epoch\")\n",
        "ax1.set_xticks(x)\n",
        "ax1.legend()\n",
        "\n",
        "ax2.set_ylabel(\"Validation accuracy\")\n",
        "ax2.set_xlabel(\"Epoch\")\n",
        "ax2.set_xticks(x)\n",
        "ax2.legend()\n",
        "\n",
        "plt.show()"
      ],
      "metadata": {
        "id": "0CFLAgAvPK_5",
        "colab": {
          "base_uri": "https://localhost:8080/",
          "height": 279
        },
        "outputId": "dc5e82ee-992c-4c3e-e931-ace2d13970db"
      },
      "execution_count": null,
      "outputs": [
        {
          "output_type": "display_data",
          "data": {
            "text/plain": [
              "<Figure size 1008x288 with 2 Axes>"
            ],
            "image/png": "[encoded data removed]"
          },
          "metadata": {
            "needs_background": "light"
          }
        }
      ]
    },
    {
      "cell_type": "markdown",
      "source": [
        "Lastly, the following plot shows how CMT without attention is the best performing model and the model that implies the least number of FLOPs. Moreover, it is also possible to notice how $m_1$ (i.e. CMT with lightweight attention) achieves the same results of $m_2$ (i.e. CMT with standard attention). As already mentioned, ResNet-18 is the worst performing model in terms of accuracy."
      ],
      "metadata": {
        "id": "rMRnJ8N9LCc3"
      }
    },
    {
      "cell_type": "code",
      "source": [
        "# Creating the figure and axes.\n",
        "fig, ax = plt.subplots(1, 1, figsize = (6.15, 4))\n",
        "\n",
        "# Plotting test accuracy vs. FLOPs.\n",
        "ax.plot([flops[\"m_3\"], flops[\"m_1\"], flops[\"m_2\"]], [test_acc[\"m_3\"], test_acc[\"m_1\"], test_acc[\"m_2\"]], \"--\", marker = \"x\")\n",
        "ax.plot(flops[\"m_4\"], test_acc[\"m_4\"], \"--\", marker = \"+\")\n",
        "\n",
        "# Plotting texts.\n",
        "ax.text(flops[\"m_1\"] + 0.05e9, test_acc[\"m_1\"] - 0.0007, texts[\"m_1\"], ha = \"center\", va = \"center\")\n",
        "ax.text(flops[\"m_2\"] - 0.4e9,  test_acc[\"m_2\"] + 0.0007, texts[\"m_2\"], ha = \"center\", va = \"center\")\n",
        "ax.text(flops[\"m_3\"] + 0.35e9, test_acc[\"m_3\"],          texts[\"m_3\"], ha = \"center\", va = \"center\")\n",
        "ax.text(flops[\"m_4\"],          test_acc[\"m_4\"] + 0.0007, texts[\"m_4\"], ha = \"center\", va = \"center\")\n",
        "\n",
        "ax.set_ylabel(\"Test accuracy\")\n",
        "ax.set_xlabel(\"FLOPs\")\n",
        "\n",
        "plt.show()"
      ],
      "metadata": {
        "id": "o9aL0XMlPRGN",
        "colab": {
          "base_uri": "https://localhost:8080/",
          "height": 279
        },
        "outputId": "754d5f25-32a9-4f20-8b0c-2acb071a2364"
      },
      "execution_count": null,
      "outputs": [
        {
          "output_type": "display_data",
          "data": {
            "text/plain": [
              "<Figure size 442.8x288 with 1 Axes>"
            ],
            "image/png": "[encoded data removed]"
          },
          "metadata": {
            "needs_background": "light"
          }
        }
      ]
    },
    {
      "cell_type": "markdown",
      "source": [
        "This study suggests that, for the specific problem at hand, a standard CNN (namely, CMT without attention) is able to outperform all other CMT models that use the attention mechanism. However, results may vary when considering other problems/training settings. Unfortunately, due to the lack of computational resources, it was not possible to compare the characteristics of such models on different problems.\n",
        "\n",
        "Moreover, the authors of CMT explicitely state how the CIFAR-10 images are upsampled from $32 \\times 32$ to $224 \\times 224$ images. Thus, the aforementioned performances could be due to such transformation. Future works could try to modify the CMT architecture to be able to deal with $32 \\times 32$ signals.\n",
        "\n",
        "Lastly, it is also possible to notice how ResNet-18 is outperformed by both CMT without attention and CMT with lightweight attention. This could be due to the specific setting used to train the models. Indeed, the original ResNet paper<sup>[[2]](#references)</sup> specifies a different training context. However, to be able to properly compare performances of all the aforementioned models, this notebook uses the same training procedure for all architectures."
      ],
      "metadata": {
        "id": "rI5urTFUM9uk"
      }
    },
    {
      "cell_type": "markdown",
      "source": [
        "## References <a name=\"references\"></a>"
      ],
      "metadata": {
        "id": "PHqUD8h6Gzb8"
      }
    },
    {
      "cell_type": "markdown",
      "source": [
        "1. Jianyuan Guo, Kai Han, Han Wu, Chang Xu, Yehui Tang, Chunjing Xu and Yunhe Wang. CMT: Convolutional Neural Networks Meet Vision Transformers, 2021. [https://arxiv.org/abs/2107.06263](https://arxiv.org/abs/2107.06263).\n",
        "\n",
        "2. Kaiming He, Xiangyu Zhang, Shaoqing Ren, Jian Sun. Deep Residual Learning for Image Recognition, 2015. [https://arxiv.org/abs/1512.03385](https://arxiv.org/abs/1512.03385)."
      ],
      "metadata": {
        "id": "mVKK69jfHAuM"
      }
    }
  ]
}