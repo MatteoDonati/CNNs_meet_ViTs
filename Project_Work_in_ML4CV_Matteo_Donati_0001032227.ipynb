{
  "nbformat": 4,
  "nbformat_minor": 0,
  "metadata": {
    "colab": {
      "provenance": [],
      "collapsed_sections": [
        "BFVvggVfZuN1",
        "rk5IqtHwZyfV",
        "axkF_Bd1F_eM",
        "Z3tA4hXcRwt6",
        "GBo9AEepRzjQ",
        "Fkjn8hY6P0tX",
        "Xen_6qHLP4NB",
        "PHqUD8h6Gzb8"
      ]
    },
    "kernelspec": {
      "name": "python3",
      "display_name": "Python 3"
    },
    "language_info": {
      "name": "python"
    },
    "gpuClass": "standard",
    "accelerator": "GPU",
    "widgets": {
      "application/vnd.jupyter.widget-state+json": {
        "b0a6e5863ea046dcac7f0adc73bfd687": {
          "model_module": "@jupyter-widgets/controls",
          "model_name": "HBoxModel",
          "model_module_version": "1.5.0",
          "state": {
            "_dom_classes": [],
            "_model_module": "@jupyter-widgets/controls",
            "_model_module_version": "1.5.0",
            "_model_name": "HBoxModel",
            "_view_count": null,
            "_view_module": "@jupyter-widgets/controls",
            "_view_module_version": "1.5.0",
            "_view_name": "HBoxView",
            "box_style": "",
            "children": [
              "IPY_MODEL_89020b46996c4d78b5a6dcbf3dc6a708",
              "IPY_MODEL_d18f14d3d20240918cec2a19f822a885",
              "IPY_MODEL_bde27abe62c44454a9e30eaf83be9324"
            ],
            "layout": "IPY_MODEL_333f4bd97002446fb8a5f18cffc05cfc"
          }
        },
        "89020b46996c4d78b5a6dcbf3dc6a708": {
          "model_module": "@jupyter-widgets/controls",
          "model_name": "HTMLModel",
          "model_module_version": "1.5.0",
          "state": {
            "_dom_classes": [],
            "_model_module": "@jupyter-widgets/controls",
            "_model_module_version": "1.5.0",
            "_model_name": "HTMLModel",
            "_view_count": null,
            "_view_module": "@jupyter-widgets/controls",
            "_view_module_version": "1.5.0",
            "_view_name": "HTMLView",
            "description": "",
            "description_tooltip": null,
            "layout": "IPY_MODEL_2a0db44276e64297be671ba6d59733cc",
            "placeholder": "​",
            "style": "IPY_MODEL_9ad2eb32cc16436abc7791dfdebeb008",
            "value": "100%"
          }
        },
        "d18f14d3d20240918cec2a19f822a885": {
          "model_module": "@jupyter-widgets/controls",
          "model_name": "FloatProgressModel",
          "model_module_version": "1.5.0",
          "state": {
            "_dom_classes": [],
            "_model_module": "@jupyter-widgets/controls",
            "_model_module_version": "1.5.0",
            "_model_name": "FloatProgressModel",
            "_view_count": null,
            "_view_module": "@jupyter-widgets/controls",
            "_view_module_version": "1.5.0",
            "_view_name": "ProgressView",
            "bar_style": "success",
            "description": "",
            "description_tooltip": null,
            "layout": "IPY_MODEL_c90f03afbbc742d58fc9e5c3c06b8534",
            "max": 170498071,
            "min": 0,
            "orientation": "horizontal",
            "style": "IPY_MODEL_f657c1151b734be7b49f114a3938ef99",
            "value": 170498071
          }
        },
        "bde27abe62c44454a9e30eaf83be9324": {
          "model_module": "@jupyter-widgets/controls",
          "model_name": "HTMLModel",
          "model_module_version": "1.5.0",
          "state": {
            "_dom_classes": [],
            "_model_module": "@jupyter-widgets/controls",
            "_model_module_version": "1.5.0",
            "_model_name": "HTMLModel",
            "_view_count": null,
            "_view_module": "@jupyter-widgets/controls",
            "_view_module_version": "1.5.0",
            "_view_name": "HTMLView",
            "description": "",
            "description_tooltip": null,
            "layout": "IPY_MODEL_eeeb43aedb104c99814c4e713006d1d8",
            "placeholder": "​",
            "style": "IPY_MODEL_950bea697e774d6aae214eea0685d011",
            "value": " 170498071/170498071 [00:12&lt;00:00, 11063561.17it/s]"
          }
        },
        "333f4bd97002446fb8a5f18cffc05cfc": {
          "model_module": "@jupyter-widgets/base",
          "model_name": "LayoutModel",
          "model_module_version": "1.2.0",
          "state": {
            "_model_module": "@jupyter-widgets/base",
            "_model_module_version": "1.2.0",
            "_model_name": "LayoutModel",
            "_view_count": null,
            "_view_module": "@jupyter-widgets/base",
            "_view_module_version": "1.2.0",
            "_view_name": "LayoutView",
            "align_content": null,
            "align_items": null,
            "align_self": null,
            "border": null,
            "bottom": null,
            "display": null,
            "flex": null,
            "flex_flow": null,
            "grid_area": null,
            "grid_auto_columns": null,
            "grid_auto_flow": null,
            "grid_auto_rows": null,
            "grid_column": null,
            "grid_gap": null,
            "grid_row": null,
            "grid_template_areas": null,
            "grid_template_columns": null,
            "grid_template_rows": null,
            "height": null,
            "justify_content": null,
            "justify_items": null,
            "left": null,
            "margin": null,
            "max_height": null,
            "max_width": null,
            "min_height": null,
            "min_width": null,
            "object_fit": null,
            "object_position": null,
            "order": null,
            "overflow": null,
            "overflow_x": null,
            "overflow_y": null,
            "padding": null,
            "right": null,
            "top": null,
            "visibility": null,
            "width": null
          }
        },
        "2a0db44276e64297be671ba6d59733cc": {
          "model_module": "@jupyter-widgets/base",
          "model_name": "LayoutModel",
          "model_module_version": "1.2.0",
          "state": {
            "_model_module": "@jupyter-widgets/base",
            "_model_module_version": "1.2.0",
            "_model_name": "LayoutModel",
            "_view_count": null,
            "_view_module": "@jupyter-widgets/base",
            "_view_module_version": "1.2.0",
            "_view_name": "LayoutView",
            "align_content": null,
            "align_items": null,
            "align_self": null,
            "border": null,
            "bottom": null,
            "display": null,
            "flex": null,
            "flex_flow": null,
            "grid_area": null,
            "grid_auto_columns": null,
            "grid_auto_flow": null,
            "grid_auto_rows": null,
            "grid_column": null,
            "grid_gap": null,
            "grid_row": null,
            "grid_template_areas": null,
            "grid_template_columns": null,
            "grid_template_rows": null,
            "height": null,
            "justify_content": null,
            "justify_items": null,
            "left": null,
            "margin": null,
            "max_height": null,
            "max_width": null,
            "min_height": null,
            "min_width": null,
            "object_fit": null,
            "object_position": null,
            "order": null,
            "overflow": null,
            "overflow_x": null,
            "overflow_y": null,
            "padding": null,
            "right": null,
            "top": null,
            "visibility": null,
            "width": null
          }
        },
        "9ad2eb32cc16436abc7791dfdebeb008": {
          "model_module": "@jupyter-widgets/controls",
          "model_name": "DescriptionStyleModel",
          "model_module_version": "1.5.0",
          "state": {
            "_model_module": "@jupyter-widgets/controls",
            "_model_module_version": "1.5.0",
            "_model_name": "DescriptionStyleModel",
            "_view_count": null,
            "_view_module": "@jupyter-widgets/base",
            "_view_module_version": "1.2.0",
            "_view_name": "StyleView",
            "description_width": ""
          }
        },
        "c90f03afbbc742d58fc9e5c3c06b8534": {
          "model_module": "@jupyter-widgets/base",
          "model_name": "LayoutModel",
          "model_module_version": "1.2.0",
          "state": {
            "_model_module": "@jupyter-widgets/base",
            "_model_module_version": "1.2.0",
            "_model_name": "LayoutModel",
            "_view_count": null,
            "_view_module": "@jupyter-widgets/base",
            "_view_module_version": "1.2.0",
            "_view_name": "LayoutView",
            "align_content": null,
            "align_items": null,
            "align_self": null,
            "border": null,
            "bottom": null,
            "display": null,
            "flex": null,
            "flex_flow": null,
            "grid_area": null,
            "grid_auto_columns": null,
            "grid_auto_flow": null,
            "grid_auto_rows": null,
            "grid_column": null,
            "grid_gap": null,
            "grid_row": null,
            "grid_template_areas": null,
            "grid_template_columns": null,
            "grid_template_rows": null,
            "height": null,
            "justify_content": null,
            "justify_items": null,
            "left": null,
            "margin": null,
            "max_height": null,
            "max_width": null,
            "min_height": null,
            "min_width": null,
            "object_fit": null,
            "object_position": null,
            "order": null,
            "overflow": null,
            "overflow_x": null,
            "overflow_y": null,
            "padding": null,
            "right": null,
            "top": null,
            "visibility": null,
            "width": null
          }
        },
        "f657c1151b734be7b49f114a3938ef99": {
          "model_module": "@jupyter-widgets/controls",
          "model_name": "ProgressStyleModel",
          "model_module_version": "1.5.0",
          "state": {
            "_model_module": "@jupyter-widgets/controls",
            "_model_module_version": "1.5.0",
            "_model_name": "ProgressStyleModel",
            "_view_count": null,
            "_view_module": "@jupyter-widgets/base",
            "_view_module_version": "1.2.0",
            "_view_name": "StyleView",
            "bar_color": null,
            "description_width": ""
          }
        },
        "eeeb43aedb104c99814c4e713006d1d8": {
          "model_module": "@jupyter-widgets/base",
          "model_name": "LayoutModel",
          "model_module_version": "1.2.0",
          "state": {
            "_model_module": "@jupyter-widgets/base",
            "_model_module_version": "1.2.0",
            "_model_name": "LayoutModel",
            "_view_count": null,
            "_view_module": "@jupyter-widgets/base",
            "_view_module_version": "1.2.0",
            "_view_name": "LayoutView",
            "align_content": null,
            "align_items": null,
            "align_self": null,
            "border": null,
            "bottom": null,
            "display": null,
            "flex": null,
            "flex_flow": null,
            "grid_area": null,
            "grid_auto_columns": null,
            "grid_auto_flow": null,
            "grid_auto_rows": null,
            "grid_column": null,
            "grid_gap": null,
            "grid_row": null,
            "grid_template_areas": null,
            "grid_template_columns": null,
            "grid_template_rows": null,
            "height": null,
            "justify_content": null,
            "justify_items": null,
            "left": null,
            "margin": null,
            "max_height": null,
            "max_width": null,
            "min_height": null,
            "min_width": null,
            "object_fit": null,
            "object_position": null,
            "order": null,
            "overflow": null,
            "overflow_x": null,
            "overflow_y": null,
            "padding": null,
            "right": null,
            "top": null,
            "visibility": null,
            "width": null
          }
        },
        "950bea697e774d6aae214eea0685d011": {
          "model_module": "@jupyter-widgets/controls",
          "model_name": "DescriptionStyleModel",
          "model_module_version": "1.5.0",
          "state": {
            "_model_module": "@jupyter-widgets/controls",
            "_model_module_version": "1.5.0",
            "_model_name": "DescriptionStyleModel",
            "_view_count": null,
            "_view_module": "@jupyter-widgets/base",
            "_view_module_version": "1.2.0",
            "_view_name": "StyleView",
            "description_width": ""
          }
        }
      }
    }
  },
  "cells": [
    {
      "cell_type": "markdown",
      "source": [
        "<center>\n",
        "    <h1> Machine Learning for Computer Vision</h1>\n",
        "    <h2> Project Work </h2>\n",
        "</center>\n",
        "\n",
        "<br>\n",
        "\n",
        "**Student**: Matteo Donati <br>\n",
        "**Student ID**: 0001032227 <br>\n",
        "**E-mail**: <a href=\"mailto:matteo.donati10@studio.unibo.it\">matteo.donati10@studio.unibo.it</a>\n",
        "\n",
        "<br>"
      ],
      "metadata": {
        "id": "hgXhyNHqFtSo"
      }
    },
    {
      "cell_type": "markdown",
      "source": [
        "This is an unofficial implementation of the paper by Guo et al., (2021)<sup>[[1]](#references)</sup>."
      ],
      "metadata": {
        "id": "mXVx3Q1PGpAb"
      }
    },
    {
      "cell_type": "markdown",
      "source": [
        "## Libraries"
      ],
      "metadata": {
        "id": "BFVvggVfZuN1"
      }
    },
    {
      "cell_type": "code",
      "source": [
        "import numpy as np\n",
        "import random\n",
        "import torch\n",
        "import torch.nn as nn\n",
        "from torchvision import datasets\n",
        "from torchvision import transforms as T\n",
        "import multiprocessing as mp\n",
        "from matplotlib import pyplot as plt\n",
        "from tqdm import tqdm\n",
        "from sklearn.metrics import classification_report"
      ],
      "metadata": {
        "id": "SA3HZYkVZrxV"
      },
      "execution_count": 1,
      "outputs": []
    },
    {
      "cell_type": "code",
      "source": [
        "def set_reproducibility(seed):\n",
        "  random.seed(seed)\n",
        "  np.random.seed(seed)\n",
        "  torch.manual_seed(seed)\n",
        "\n",
        "set_reproducibility(0)"
      ],
      "metadata": {
        "id": "Gx8K3KIcgJMI"
      },
      "execution_count": 2,
      "outputs": []
    },
    {
      "cell_type": "markdown",
      "source": [
        "## Data Loading and Preprocessing"
      ],
      "metadata": {
        "id": "rk5IqtHwZyfV"
      }
    },
    {
      "cell_type": "code",
      "source": [
        "# Retrieves the CIFAR10 dataset.\n",
        "def get_cifar10(train_transform = None, test_transform = None):\n",
        "\n",
        "  # Downloading the training set.\n",
        "  train_dataset =  datasets.CIFAR10(\n",
        "    root = \"CIFAR10\",\n",
        "    train = True,\n",
        "    transform = train_transform,\n",
        "    download = True\n",
        "  )\n",
        "\n",
        "  # Downloading the test set.\n",
        "  test_dataset = datasets.CIFAR10(\n",
        "    root = \"CIFAR10\",\n",
        "    train = False,\n",
        "    transform = test_transform,\n",
        "    download = True\n",
        "  )\n",
        "\n",
        "  # Returning the two sets.\n",
        "  return train_dataset, test_dataset\n",
        "\n",
        "# Fuction that creates train, validation and test data loaders.\n",
        "def create_data_loaders(train_transform, \n",
        "                        test_transform, \n",
        "                        img_size = 224, \n",
        "                        split = (0.8, 0.2), \n",
        "                        batch_size = 32, \n",
        "                        num_workers = 1):\n",
        "\n",
        "  # Retrieving CIFAR10.\n",
        "  train_dataset, test_dataset = get_cifar10(train_transform, test_transform)\n",
        "\n",
        "  # Splitting train_dataset to create a validation set.\n",
        "  train_dataset, val_dataset = torch.utils.data.random_split(train_dataset, \n",
        "                                                             (int(len(train_dataset) * split[0]), \n",
        "                                                              int(len(train_dataset) * split[1])))\n",
        "\n",
        "  # Train data loader.\n",
        "  train_loader = torch.utils.data.DataLoader(\n",
        "    train_dataset,\n",
        "    batch_size = batch_size,\n",
        "    shuffle = True,\n",
        "    num_workers = num_workers,\n",
        "    pin_memory = True,\n",
        "    drop_last = True,\n",
        "    sampler = None\n",
        "  )\n",
        "\n",
        "  # Validation data loader.\n",
        "  val_loader = torch.utils.data.DataLoader(\n",
        "    val_dataset,\n",
        "    batch_size = batch_size,\n",
        "    shuffle = False,\n",
        "    num_workers = num_workers,\n",
        "    pin_memory = True,\n",
        "    drop_last = False,\n",
        "    sampler = None\n",
        "  )\n",
        "\n",
        "  # Test data loader.\n",
        "  test_loader = torch.utils.data.DataLoader(\n",
        "    test_dataset,\n",
        "    batch_size = batch_size,\n",
        "    shuffle = False,\n",
        "    num_workers = num_workers,\n",
        "    pin_memory = True,\n",
        "    drop_last = False,\n",
        "    sampler = None\n",
        "  )\n",
        "\n",
        "  # Returning the three data loaders.\n",
        "  return train_loader, val_loader, test_loader"
      ],
      "metadata": {
        "id": "sTkFIuugZxtD"
      },
      "execution_count": 3,
      "outputs": []
    },
    {
      "cell_type": "code",
      "source": [
        "# Training transformations.\n",
        "train_transform = T.Compose([\n",
        "    T.RandomCrop(32, padding = 4),\n",
        "    T.RandomHorizontalFlip(),\n",
        "    T.RandomRotation(10),\n",
        "    T.Resize(224),\n",
        "    T.ToTensor(),\n",
        "    T.Normalize(mean = [0.491, 0.482, 0.447], std = [0.247, 0.243, 0.262])\n",
        "])\n",
        "\n",
        "# Test transformations.\n",
        "test_transform = T.Compose([\n",
        "    T.Resize(224),\n",
        "    T.ToTensor(),\n",
        "    T.Normalize(mean = [0.491, 0.482, 0.447], std = [0.247, 0.243, 0.262])\n",
        "])\n",
        "\n",
        "# Creating data loaders.\n",
        "train_loader, val_loader, test_loader = create_data_loaders(\n",
        "    train_transform,\n",
        "    test_transform,\n",
        "    img_size = 224,\n",
        "    batch_size = 32,\n",
        "    num_workers = mp.cpu_count()\n",
        ")"
      ],
      "metadata": {
        "id": "2-yP8OHGhPuE",
        "colab": {
          "base_uri": "https://localhost:8080/",
          "height": 0,
          "referenced_widgets": [
            "b0a6e5863ea046dcac7f0adc73bfd687",
            "89020b46996c4d78b5a6dcbf3dc6a708",
            "d18f14d3d20240918cec2a19f822a885",
            "bde27abe62c44454a9e30eaf83be9324",
            "333f4bd97002446fb8a5f18cffc05cfc",
            "2a0db44276e64297be671ba6d59733cc",
            "9ad2eb32cc16436abc7791dfdebeb008",
            "c90f03afbbc742d58fc9e5c3c06b8534",
            "f657c1151b734be7b49f114a3938ef99",
            "eeeb43aedb104c99814c4e713006d1d8",
            "950bea697e774d6aae214eea0685d011"
          ]
        },
        "outputId": "f0522170-6b35-4bac-af99-0eb6d769bc8a"
      },
      "execution_count": 4,
      "outputs": [
        {
          "output_type": "stream",
          "name": "stdout",
          "text": [
            "Downloading https://www.cs.toronto.edu/~kriz/cifar-10-python.tar.gz to CIFAR10/cifar-10-python.tar.gz\n"
          ]
        },
        {
          "output_type": "display_data",
          "data": {
            "text/plain": [
              "  0%|          | 0/170498071 [00:00<?, ?it/s]"
            ],
            "application/vnd.jupyter.widget-view+json": {
              "version_major": 2,
              "version_minor": 0,
              "model_id": "b0a6e5863ea046dcac7f0adc73bfd687"
            }
          },
          "metadata": {}
        },
        {
          "output_type": "stream",
          "name": "stdout",
          "text": [
            "Extracting CIFAR10/cifar-10-python.tar.gz to CIFAR10\n",
            "Files already downloaded and verified\n"
          ]
        }
      ]
    },
    {
      "cell_type": "markdown",
      "source": [
        "## Models Definition and Training"
      ],
      "metadata": {
        "id": "bpKz7V32su2f"
      }
    },
    {
      "cell_type": "markdown",
      "source": [
        "### Utilities"
      ],
      "metadata": {
        "id": "axkF_Bd1F_eM"
      }
    },
    {
      "cell_type": "code",
      "source": [
        "# Choosing between GPU and CPU.\n",
        "device = torch.device(\"cuda\" if torch.cuda.is_available() else \"cpu\")"
      ],
      "metadata": {
        "id": "oaT-QCAapgdk"
      },
      "execution_count": 5,
      "outputs": []
    },
    {
      "cell_type": "code",
      "source": [
        "# Stem module of the CMT architecture.\n",
        "class Stem(nn.Module):\n",
        "    \n",
        "  # Constructor. Requires number of input and output channels.\n",
        "  def __init__(self, in_channels, out_channels):\n",
        "\n",
        "    super().__init__()\n",
        "\n",
        "    # Conv 3 x 3, stride 2.\n",
        "    self.conv1 = nn.Conv2d(in_channels, out_channels, kernel_size = 3, stride = 2, padding = 1)\n",
        "    self.bn1 = nn.BatchNorm2d(out_channels)\n",
        "\n",
        "    # Conv 3 x 3. \n",
        "    self.conv2 = nn.Conv2d(out_channels, out_channels, kernel_size = 3, stride = 1, padding = 1)\n",
        "    self.bn2 = nn.BatchNorm2d(out_channels)\n",
        "\n",
        "    # Conv 3 x 3.\n",
        "    self.conv3 = nn.Conv2d(out_channels, out_channels, kernel_size = 3, stride = 1, padding = 1)\n",
        "    self.bn3 = nn.BatchNorm2d(out_channels)\n",
        "\n",
        "    # GELU activation.\n",
        "    self.gelu = nn.GELU()\n",
        "\n",
        "  # Forward pass.\n",
        "  def forward(self, x):\n",
        "    x = self.conv1(x)\n",
        "    x = self.gelu(x)\n",
        "    x = self.bn1(x)\n",
        "    x = self.conv2(x)\n",
        "    x = self.gelu(x)\n",
        "    x = self.bn2(x)\n",
        "    x = self.conv3(x)\n",
        "    x = self.gelu(x)\n",
        "    y = self.bn3(x)\n",
        "    return y"
      ],
      "metadata": {
        "id": "bAsbc7UBsoy3"
      },
      "execution_count": 6,
      "outputs": []
    },
    {
      "cell_type": "code",
      "source": [
        "# Patch embedding module of the CMT architecture.\n",
        "class PatchEmbedding(nn.Module):\n",
        "\n",
        "  # Constructor. Requires number of input and output channels.\n",
        "  def __init__(self, in_channels, out_channels):\n",
        "\n",
        "    super().__init__()\n",
        "\n",
        "    # Conv 2 x 2, stride 2.\n",
        "    self.conv = nn.Conv2d(in_channels, out_channels, kernel_size = 2, stride = 2, padding = 0)\n",
        "\n",
        "  # Forward pass.\n",
        "  def forward(self, x):\n",
        "    x = self.conv(x)\n",
        "    _, c, h, w = x.size()\n",
        "    y = torch.nn.functional.layer_norm(x, (c, h, w))\n",
        "    return y"
      ],
      "metadata": {
        "id": "7BVXE1Jw0HoY"
      },
      "execution_count": 7,
      "outputs": []
    },
    {
      "cell_type": "code",
      "source": [
        "# Local Perception Unit: LPU(X) = DWConv(X) + X.\n",
        "class LPU(nn.Module):\n",
        "\n",
        "  # Constructor.\n",
        "  def __init__(self, in_channels, out_channels):\n",
        "\n",
        "    super().__init__()\n",
        "\n",
        "    # Depthwise convolution.\n",
        "    self.dwconv = nn.Conv2d(in_channels, out_channels, kernel_size = 3, stride = 1, padding = 1, groups = in_channels)\n",
        "\n",
        "  # Forward pass.\n",
        "  def forward(self, x):\n",
        "    y = self.dwconv(x) + x\n",
        "    return y"
      ],
      "metadata": {
        "id": "OFDPglv5iNZ1"
      },
      "execution_count": 8,
      "outputs": []
    },
    {
      "cell_type": "code",
      "source": [
        "# Lightweight Multi-Head-Self-Attention.\n",
        "class LMHSA(nn.Module):\n",
        "    \n",
        "  # Constructor.\n",
        "  def __init__(self, input_size, channels, d_k, d_v, stride, heads):\n",
        "\n",
        "    super().__init__()\n",
        "\n",
        "    # Depthwise convolutions.\n",
        "    self.dwconv = nn.Conv2d(channels, channels, kernel_size = stride, stride = stride, groups = channels)\n",
        "\n",
        "    # Projection matrices.\n",
        "    self.fc_q = nn.Linear(channels, heads * d_k)\n",
        "    self.fc_k = nn.Linear(channels, heads * d_k)\n",
        "    self.fc_v = nn.Linear(channels, heads * d_v)\n",
        "    self.fc_o = nn.Linear(heads * d_k, channels)\n",
        "\n",
        "    self.channels = channels\n",
        "    self.d_k = d_k\n",
        "    self.d_v = d_v\n",
        "    self.stride = stride\n",
        "    self.heads = heads\n",
        "\n",
        "    # Relative position bias to each self-attention module.\n",
        "    self.B = nn.Parameter(torch.randn(1, self.heads, input_size ** 2, (input_size // stride) ** 2), requires_grad = True)\n",
        "    \n",
        "  # Forward pass.\n",
        "  def forward(self, x):\n",
        "\n",
        "    # Extracting shape from input signal.\n",
        "    b, c, h, w = x.shape\n",
        "\n",
        "    # Reshaping and permuting x. Final shape is (b, h * w, c).\n",
        "    x_reshape = x.view(b, c, h * w).permute(0, 2, 1)\n",
        "\n",
        "    # Layer norm.\n",
        "    x_reshape = torch.nn.functional.layer_norm(x_reshape, (b, h * w, c))\n",
        "\n",
        "    # Getting queries by applying the fc_q linear projection.\n",
        "    q = self.fc_q(x_reshape)\n",
        "\n",
        "    # Reshaping and permuting the queries. Final shape is (b, heads, n = h * w, d_k). \n",
        "    q = q.view(b, h * w, self.heads, self.d_k).permute(0, 2, 1, 3).contiguous()\n",
        "\n",
        "    # Applying depthwise conv to x.\n",
        "    k = self.dwconv(x)\n",
        "\n",
        "    # Extracting shape of keys.\n",
        "    k_b, k_c, k_h, k_w = k.shape\n",
        "\n",
        "    # Reshaping and permuting keys. Final shape is (k_b, k_h * k_w, k_c).\n",
        "    k = k.view(k_b, k_c, k_h * k_w).permute(0, 2, 1).contiguous()\n",
        "\n",
        "    # Projecting through fc_k.\n",
        "    k = self.fc_k(k)\n",
        "\n",
        "    # Reshaping and permuting the keys. Final shape is (k_b, heads, k_h * k_w, d_k).\n",
        "    k = k.view(k_b, k_h * k_w, self.heads, self.d_k).permute(0, 2, 1, 3).contiguous()\n",
        "\n",
        "    # Applying depthwise conv to x.\n",
        "    v = self.dwconv(x)\n",
        "\n",
        "    # Extracting shape of values.\n",
        "    v_b, v_c, v_h, v_w = v.shape\n",
        "\n",
        "    # Reshaping and permuting values. Final shape is (v_b, v_h * v_w, v_c).\n",
        "    v = v.view(v_b, v_c, v_h * v_w).permute(0, 2, 1).contiguous()\n",
        "\n",
        "    # Projecting through fc_v.\n",
        "    v = self.fc_v(v)\n",
        "\n",
        "    # Reshaping and permuting the keys. Final shape is (v_b, heads, v_h * v_w, d_v).\n",
        "    v = v.view(v_b, v_h * v_w, self.heads, self.d_v).permute(0, 2, 1, 3).contiguous()\n",
        "\n",
        "    # Computing softmax((Q K') / sqrt(d_k) + B). Final shape is (b, heads, n = h * w, k_h * k_w).\n",
        "    attention = torch.einsum(\"... i d, ... j d -> ... i j\", q, k) * (self.d_k ** -0.5)\n",
        "    attention = attention + self.B\n",
        "    attention = torch.softmax(attention, dim = -1)\n",
        "\n",
        "    # Applying attention scores to values by taking the dot product.\n",
        "    tmp = torch.matmul(attention, v).permute(0, 2, 1, 3)\n",
        "\n",
        "    # Permuting the result. Final shape is (b, n = h * w, heads, d_v).\n",
        "    tmp = tmp.contiguous().view(b, h * w, self.heads * self.d_v)\n",
        "\n",
        "    # Projecting using fc_o and reshaping. Final shape is (b, c, h, w).\n",
        "    tmp = self.fc_o(tmp).view(b, self.channels, h, w)\n",
        "\n",
        "    # Returning tmp + x (skip connection).\n",
        "    return tmp + x"
      ],
      "metadata": {
        "id": "mwVBiJHhlUY0"
      },
      "execution_count": 9,
      "outputs": []
    },
    {
      "cell_type": "code",
      "source": [
        "# Standard Multi-Head-Self-Attention.\n",
        "class MHSA(nn.Module):\n",
        "    \n",
        "  # Constructor.\n",
        "  def __init__(self, input_size, channels, d_k, d_v, stride, heads):\n",
        "\n",
        "    super().__init__()\n",
        "\n",
        "    # Projection matrices.\n",
        "    self.fc_q = nn.Linear(channels, heads * d_k)\n",
        "    self.fc_k = nn.Linear(channels, heads * d_k)\n",
        "    self.fc_v = nn.Linear(channels, heads * d_v)\n",
        "    self.fc_o = nn.Linear(heads * d_k, channels)\n",
        "\n",
        "    self.channels = channels\n",
        "    self.d_k = d_k\n",
        "    self.d_v = d_v\n",
        "    self.stride = stride\n",
        "    self.heads = heads\n",
        "    \n",
        "  # Forward pass.\n",
        "  def forward(self, x):\n",
        "\n",
        "    # Extracting shape from input signal.\n",
        "    b, c, h, w = x.shape\n",
        "\n",
        "    # Reshaping and permuting x. Final shape is (b, h * w, c).\n",
        "    x_reshape = x.view(b, c, h * w).permute(0, 2, 1)\n",
        "\n",
        "    # Layer norm.\n",
        "    x_reshape = torch.nn.functional.layer_norm(x_reshape, (b, h * w, c))\n",
        "\n",
        "    # Getting queries by applying the fc_q linear projection.\n",
        "    q = self.fc_q(x_reshape)\n",
        "\n",
        "    # Reshaping and permuting the queries. Final shape is (b, heads, n = h * w, d_k). \n",
        "    q = q.view(b, h * w, self.heads, self.d_k).permute(0, 2, 1, 3).contiguous()\n",
        "\n",
        "    # Projecting through fc_k.\n",
        "    k = self.fc_k(x_reshape)\n",
        "\n",
        "    # Reshaping and permuting the keys. Final shape is (b, heads, h * w, d_k).\n",
        "    k = k.view(b, h * w, self.heads, self.d_k).permute(0, 2, 1, 3).contiguous()\n",
        "\n",
        "    # Projecting through fc_v.\n",
        "    v = self.fc_v(x_reshape)\n",
        "\n",
        "    # Reshaping and permuting the keys. Final shape is (b, heads, h * w, d_v).\n",
        "    v = v.view(b, h * w, self.heads, self.d_v).permute(0, 2, 1, 3).contiguous()\n",
        "\n",
        "    # Computing softmax((Q K) / sqrt(d_k)).\n",
        "    attention = torch.einsum(\"... i d, ... j d -> ... i j\", q, k) * (self.d_k ** -0.5)\n",
        "    attention = torch.softmax(attention, dim = -1)\n",
        "\n",
        "    # Applying attention scores to values by taking the dot product.\n",
        "    tmp = torch.matmul(attention, v).permute(0, 2, 1, 3)\n",
        "\n",
        "    # Permuting the result. Final shape is (b, n = h * w, heads, d_v).\n",
        "    tmp = tmp.contiguous().view(b, h * w, self.heads * self.d_v)\n",
        "\n",
        "    # Projecting using fc_o and reshaping. Final shape is (b, c, h, w).\n",
        "    tmp = self.fc_o(tmp).view(b, self.channels, h, w)\n",
        "\n",
        "    # Returning tmp + x (skip connection).\n",
        "    return tmp + x"
      ],
      "metadata": {
        "id": "Hdl8rdu8lb-A"
      },
      "execution_count": 10,
      "outputs": []
    },
    {
      "cell_type": "code",
      "source": [
        "# Inverted Residual Feed-forward Network: IRFFN(X) = Conv(F(Conv(X))), F(X) = DWConv(X) + X.\n",
        "class IRFFN(nn.Module):\n",
        "\n",
        "  # Constructor.\n",
        "  def __init__(self, in_channels, R):\n",
        "\n",
        "    super().__init__()\n",
        "\n",
        "    # Number of channels after expansion.\n",
        "    out_channels = int(in_channels * R)\n",
        "\n",
        "    # Conv 1 x 1.\n",
        "    self.conv1 = nn.Conv2d(in_channels, out_channels, kernel_size = 1)\n",
        "    self.bn1 = nn.BatchNorm2d(out_channels)\n",
        "\n",
        "    # Depthwise convolution.\n",
        "    self.dwconv = nn.Conv2d(out_channels, out_channels, kernel_size = 3, stride = 1, padding = 1, groups = out_channels)\n",
        "    self.bn2 = nn.BatchNorm2d(out_channels)\n",
        "\n",
        "    # Conv 1 x 1.\n",
        "    self.conv2 = nn.Conv2d(out_channels, in_channels, kernel_size = 1)\n",
        "    self.bn3 = nn.BatchNorm2d(in_channels)\n",
        "\n",
        "    # GELU activation.\n",
        "    self.gelu = nn.GELU()\n",
        "\n",
        "  # Forward pass.\n",
        "  def forward(self, x):\n",
        "    tmp = self.conv1(x)\n",
        "    tmp = self.bn1(tmp)\n",
        "    tmp = self.gelu(tmp)\n",
        "    tmp = self.dwconv(tmp)\n",
        "    tmp = self.bn2(tmp)\n",
        "    tmp = self.gelu(tmp)\n",
        "    tmp = self.conv2(tmp)\n",
        "    tmp = self.bn3(tmp)\n",
        "    y = x + tmp\n",
        "    return y"
      ],
      "metadata": {
        "id": "WQRfI_lQlYoa"
      },
      "execution_count": 11,
      "outputs": []
    },
    {
      "cell_type": "code",
      "source": [
        "# CMT block of the CMT architecture.\n",
        "class CMTBlock(nn.Module):\n",
        "\n",
        "  # Constructor. By default it loads the CMT-Ti configuration.\n",
        "  def __init__(self, img_size, k, d_k, d_v, num_heads, R = 3.6, in_channels = 46, attention_type = \"light\"):\n",
        "\n",
        "    super().__init__()\n",
        "\n",
        "    # Local Perception Unit.\n",
        "    self.lpu = LPU(in_channels, in_channels)\n",
        "\n",
        "    # Lightweight MHSA.\n",
        "    if attention_type == \"light\":\n",
        "      self.mhsa = LMHSA(img_size, in_channels, d_k, d_v, k, num_heads)\n",
        "    \n",
        "    # Lightweight MHSA.\n",
        "    elif attention_type == \"standard\":\n",
        "      self.mhsa = MHSA(img_size, in_channels, d_k, d_v, k, num_heads)\n",
        "    \n",
        "    # No attention.\n",
        "    else:\n",
        "      self.mhsa = None\n",
        "\n",
        "    # Inverted Residual FFN.\n",
        "    self.irffn = IRFFN(in_channels, R)\n",
        "\n",
        "  # Forward pass.\n",
        "  def forward(self, x):\n",
        "    x = self.lpu(x)\n",
        "    if self.mhsa != None: x = self.mhsa(x)\n",
        "    y = self.irffn(x)\n",
        "    return y"
      ],
      "metadata": {
        "id": "sGf0VE9hhtVh"
      },
      "execution_count": 12,
      "outputs": []
    },
    {
      "cell_type": "code",
      "source": [
        "# CMT architecture.\n",
        "class CMT(nn.Module):\n",
        "\n",
        "  # Constructor. By default it loads the CMT-Ti configuration.\n",
        "  def __init__(self,\n",
        "    in_channels = 3,\n",
        "    stem_channels = 16,\n",
        "    cmt_channels = [46, 92, 184, 368],\n",
        "    patch_channels = [46, 92, 184, 368],\n",
        "    block_layers = [2, 2, 10, 2],\n",
        "    R = 3.6,\n",
        "    img_size = 224,\n",
        "    num_class = 10,\n",
        "    attention_type = \"light\"\n",
        "  ):\n",
        "\n",
        "    super(CMT, self).__init__()\n",
        "\n",
        "    # Stem layer\n",
        "    self.stem = Stem(in_channels, stem_channels)\n",
        "\n",
        "    # Patch Aggregation Layer\n",
        "    self.pe1 = PatchEmbedding(stem_channels, patch_channels[0])\n",
        "    self.pe2 = PatchEmbedding(patch_channels[0], patch_channels[1])\n",
        "    self.pe3 = PatchEmbedding(patch_channels[1], patch_channels[2])\n",
        "    self.pe4 = PatchEmbedding(patch_channels[2], patch_channels[3])\n",
        "\n",
        "    # Stage 1 CMT blocks.\n",
        "    stage1 = [CMTBlock(img_size = img_size // 4, \n",
        "                       k = 8, \n",
        "                       d_k = cmt_channels[0], \n",
        "                       d_v = cmt_channels[0], \n",
        "                       num_heads = 1, \n",
        "                       R = R, \n",
        "                       in_channels = patch_channels[0],\n",
        "                       attention_type = attention_type) for _ in range(block_layers[0])]\n",
        "    self.stage1 = nn.Sequential(*stage1)\n",
        "\n",
        "    # Stage 2 CMT blocks.\n",
        "    stage2 = [CMTBlock(img_size = img_size // 8,\n",
        "                       k = 4,\n",
        "                       d_k = cmt_channels[1] // 2,\n",
        "                       d_v = cmt_channels[1] // 2,\n",
        "                       num_heads = 2,\n",
        "                       R = R,\n",
        "                       in_channels = patch_channels[1],\n",
        "                       attention_type = attention_type) for _ in range(block_layers[1])]\n",
        "    self.stage2 = nn.Sequential(*stage2)\n",
        "\n",
        "    # Stage 3 CMT blocks.\n",
        "    stage3 = [CMTBlock(img_size = img_size // 16,\n",
        "                       k = 2,\n",
        "                       d_k = cmt_channels[2] // 4,\n",
        "                       d_v = cmt_channels[2] // 4,\n",
        "                       num_heads = 4,\n",
        "                       R = R,\n",
        "                       in_channels = patch_channels[2],\n",
        "                       attention_type = attention_type) for _ in range(block_layers[2])]\n",
        "    self.stage3 = nn.Sequential(*stage3)\n",
        "\n",
        "    # Stage 4 CMT blocks.\n",
        "    stage4 = [CMTBlock(img_size = img_size // 32,\n",
        "                       k = 1,\n",
        "                       d_k = cmt_channels[3] // 8,\n",
        "                       d_v = cmt_channels[3] // 8,\n",
        "                       num_heads = 8,\n",
        "                       R = R,\n",
        "                       in_channels = patch_channels[3],\n",
        "                       attention_type = attention_type) for _ in range(block_layers[3])]\n",
        "    self.stage4 = nn.Sequential(*stage4)\n",
        "\n",
        "    # Global average pooling.\n",
        "    self.avg_pool = nn.AdaptiveAvgPool2d(1)\n",
        "\n",
        "    # Projection layer.\n",
        "    self.projection = nn.Sequential(\n",
        "      nn.Conv2d(cmt_channels[3], 1280, kernel_size = 1),\n",
        "      nn.ReLU(inplace = True),\n",
        "    )\n",
        "\n",
        "    # Classifier.\n",
        "    self.classifier = nn.Linear(1280, num_class)\n",
        "\n",
        "  # Forward pass.\n",
        "  def forward(self, x):\n",
        "    x = self.stem(x)\n",
        "    x = self.pe1(x)\n",
        "    x = self.stage1(x)\n",
        "    x = self.pe2(x)\n",
        "    x = self.stage2(x)\n",
        "    x = self.pe3(x)\n",
        "    x = self.stage3(x)\n",
        "    x = self.pe4(x)\n",
        "    x = self.stage4(x)\n",
        "    x = self.avg_pool(x)\n",
        "    x = self.projection(x)\n",
        "    x = torch.flatten(x, 1)\n",
        "    y = self.classifier(x)\n",
        "    return y"
      ],
      "metadata": {
        "id": "yJrsQh-9nZYH"
      },
      "execution_count": 13,
      "outputs": []
    },
    {
      "cell_type": "code",
      "source": [
        "# Trains the model.\n",
        "def train(model, optimizer, scheduler, loss_fn, train_loader, val_loader, epochs, device = \"cuda\", history = None):\n",
        "\n",
        "  # Metrics.\n",
        "  if history == None: \n",
        "    history = {\"train_loss\": [], \"train_accuracy\": [], \"val_loss\": [], \"val_accuracy\": [], \"lr\": []}\n",
        "\n",
        "  # Iterating over epochs.\n",
        "  for epoch in range(epochs):\n",
        "\n",
        "    print(\"Epoch %2d/%2d:\" % (epoch + 1, epochs))\n",
        "\n",
        "    # Training.\n",
        "    model.train()\n",
        "\n",
        "    # Metrics\n",
        "    train_loss = 0.0\n",
        "    num_train_correct = 0\n",
        "    num_train_examples = 0\n",
        "\n",
        "    # Iterating over mini-batches.\n",
        "    for batch in tqdm(train_loader, desc = \"Training\", position = 0):\n",
        "\n",
        "      # Gradient reset.\n",
        "      optimizer.zero_grad()\n",
        "\n",
        "      # Moving x and y to GPU.\n",
        "      x = batch[0].to(device)\n",
        "      y = batch[1].to(device)\n",
        "\n",
        "      # Predictions.\n",
        "      yhat = model(x)\n",
        "\n",
        "      # Loss.\n",
        "      loss = loss_fn(yhat, y)\n",
        "\n",
        "      # Computing the gradient.\n",
        "      loss.backward()\n",
        "\n",
        "      # Updating the parameters.\n",
        "      optimizer.step()\n",
        "\n",
        "      # Updating the metrics.\n",
        "      train_loss += loss.item() * x.shape[0]\n",
        "      num_train_correct += (torch.argmax(yhat, 1) == y).sum().item()\n",
        "      num_train_examples += x.shape[0]\n",
        "\n",
        "    # Computing the epoch's metrics.\n",
        "    train_accuracy = num_train_correct / num_train_examples\n",
        "    train_loss = train_loss / len(train_loader.dataset)\n",
        "\n",
        "    # Saving learning rate.\n",
        "    lr = scheduler.get_last_lr()[0]\n",
        "\n",
        "    # Updating the learning rate.\n",
        "    scheduler.step()\n",
        "\n",
        "    # Validation.\n",
        "    model.eval()\n",
        "\n",
        "    # Metrics.\n",
        "    val_loss = 0.0\n",
        "    num_val_correct = 0\n",
        "    num_val_examples = 0\n",
        "\n",
        "    with torch.no_grad():\n",
        "\n",
        "      # Iterating over mini-batches.\n",
        "      for batch in tqdm(val_loader, desc = \"Validation\", position = 0):\n",
        "\n",
        "        # Moving x and y to GPU.\n",
        "        x = batch[0].to(device)\n",
        "        y = batch[1].to(device)\n",
        "\n",
        "        # Predictions.\n",
        "        yhat = model(x)\n",
        "\n",
        "        # Loss.\n",
        "        loss = loss_fn(yhat, y)\n",
        "\n",
        "        # Updating the metrics.\n",
        "        val_loss += loss.item() * x.shape[0]\n",
        "        num_val_correct += (torch.argmax(yhat, 1) == y).sum().item()\n",
        "        num_val_examples += y.shape[0]\n",
        "\n",
        "      # Computing the epoch's metrics.\n",
        "      val_accuracy = num_val_correct / num_val_examples\n",
        "      val_loss = val_loss / len(val_loader.dataset)\n",
        "\n",
        "    print(\"{}train_loss: {:.4f}, train_accuracy: {:.4f}, val_loss: {:.4f}, val_accuracy: {:.4f}, lr: {:.4e}{}\".format(\"\\n\" if epoch == epochs - 1 else \"\",\n",
        "                                                                                                                      train_loss, \n",
        "                                                                                                                      train_accuracy, \n",
        "                                                                                                                      val_loss, \n",
        "                                                                                                                      val_accuracy,\n",
        "                                                                                                                      lr,\n",
        "                                                                                                                      \"\\n\" if epoch != epochs - 1 else \"\"))\n",
        "\n",
        "    # Appending the epoch's metrics to history lists.\n",
        "    history[\"train_loss\"].append(train_loss)\n",
        "    history[\"val_loss\"].append(val_loss)\n",
        "    history[\"train_accuracy\"].append(train_accuracy)\n",
        "    history[\"val_accuracy\"].append(val_accuracy)\n",
        "    history[\"lr\"].append(lr)\n",
        "\n",
        "  # Returning history.\n",
        "  return history"
      ],
      "metadata": {
        "id": "EE9m-lzNr66m"
      },
      "execution_count": 14,
      "outputs": []
    },
    {
      "cell_type": "code",
      "source": [
        "# Plots losses and accuracies.\n",
        "def plot_training(history):\n",
        "\n",
        "  # Computing the x axis array.\n",
        "  x = np.linspace(1, len(history[\"train_loss\"]), len(history[\"train_loss\"]), dtype = int)\n",
        "\n",
        "  # Creating the figure and axes.\n",
        "  fig, (ax1, ax2) = plt.subplots(1, 2, figsize = (14, 4))\n",
        "\n",
        "  # Plotting losses.\n",
        "  ax1.plot(x, history[\"train_loss\"])\n",
        "  ax1.plot(x, history[\"val_loss\"])\n",
        "\n",
        "  ax1.set_ylabel(\"Loss\")\n",
        "  ax1.set_xlabel(\"Epoch\")\n",
        "  ax1.set_xticks(x)\n",
        "  ax1.legend([\"Training\", \"Testing\"])\n",
        "\n",
        "  # Plotting accuracies.\n",
        "  ax2.plot(x, history[\"train_accuracy\"])\n",
        "  ax2.plot(x, history[\"val_accuracy\"])\n",
        "\n",
        "  ax2.set_ylabel(\"Accuracy\")\n",
        "  ax2.set_xlabel(\"Epoch\")\n",
        "  ax2.set_xticks(x)\n",
        "  ax2.legend([\"Training\", \"Testing\"])\n",
        "\n",
        "  plt.show()"
      ],
      "metadata": {
        "id": "Yk-QbzFQW69V"
      },
      "execution_count": 15,
      "outputs": []
    },
    {
      "cell_type": "code",
      "source": [
        "# Tests a model.\n",
        "def test(model, test_loader):\n",
        "  \n",
        "  # Tetsing.\n",
        "  model.eval()\n",
        "\n",
        "  # Predictions and ground truth.\n",
        "  y_pred = []\n",
        "  y_true = []\n",
        "\n",
        "  with torch.no_grad():\n",
        "\n",
        "    # Iterating over mini-batches.\n",
        "    for batch in tqdm(test_loader, desc = \"Testing\", position = 0):\n",
        "\n",
        "      # Moving x and y to GPU.\n",
        "      x = batch[0].to(device)\n",
        "      y = batch[1].to(device)\n",
        "\n",
        "      # Predictions.\n",
        "      yhat = model(x)\n",
        "\n",
        "      # Updating variables.\n",
        "      y_pred.extend(torch.argmax(yhat, 1).tolist())\n",
        "      y_true.extend(y.tolist())\n",
        "\n",
        "  # Returning pred and true.\n",
        "  return y_pred, y_true"
      ],
      "metadata": {
        "id": "Venh9VZaGkjN"
      },
      "execution_count": 16,
      "outputs": []
    },
    {
      "cell_type": "code",
      "source": [
        "# Loads a checkpoint.\n",
        "def load_checkpoint(path, model, optimizer, scheduler):\n",
        "\n",
        "  # Loading checkpoint.\n",
        "  checkpoint = torch.load(path)\n",
        "  model.load_state_dict(checkpoint[\"model\"])\n",
        "  optimizer.load_state_dict(checkpoint[\"optimizer\"])\n",
        "  scheduler.load_state_dict(checkpoint[\"scheduler\"])\n",
        "\n",
        "  # Returning checkpoint entries.\n",
        "  return model, optimizer, scheduler, checkpoint[\"history\"]"
      ],
      "metadata": {
        "id": "m303-E_FSBZO"
      },
      "execution_count": 17,
      "outputs": []
    },
    {
      "cell_type": "markdown",
      "source": [
        "### Lightweight MHSA model ($m_1$)"
      ],
      "metadata": {
        "id": "34JWWDLFPwJi"
      }
    },
    {
      "cell_type": "code",
      "source": [
        "# Defining the model that uses LMHSA.\n",
        "m_1 = CMT(\n",
        "  in_channels = 3,\n",
        "  stem_channels = 16,\n",
        "  cmt_channels = [46, 92, 184, 368],\n",
        "  patch_channels = [46, 92, 184, 368],\n",
        "  block_layers = [2, 2, 10, 2],\n",
        "  R = 3.6,\n",
        "  img_size = 224,\n",
        "  num_class = 10,\n",
        "  attention_type = \"light\")\n",
        "\n",
        "# Printing number of parameters.\n",
        "print(f\"m_1 has {sum(p.numel() for p in m_1.parameters())} parameters.\")"
      ],
      "metadata": {
        "id": "STqrfOj30eTH",
        "colab": {
          "base_uri": "https://localhost:8080/"
        },
        "outputId": "6f8a6708-1cb7-4eac-e070-6a8b20003628"
      },
      "execution_count": 18,
      "outputs": [
        {
          "output_type": "stream",
          "name": "stdout",
          "text": [
            "m_1 has 9014696 parameters.\n"
          ]
        }
      ]
    },
    {
      "cell_type": "code",
      "source": [
        "# Loading model to device.\n",
        "m_1.to(device)"
      ],
      "metadata": {
        "id": "5JqbvDNn1caw",
        "colab": {
          "base_uri": "https://localhost:8080/"
        },
        "outputId": "6d5da6c6-5a75-4de9-cb84-37317a0f72d5"
      },
      "execution_count": 19,
      "outputs": [
        {
          "output_type": "execute_result",
          "data": {
            "text/plain": [
              "CMT(\n",
              "  (stem): Stem(\n",
              "    (conv1): Conv2d(3, 16, kernel_size=(3, 3), stride=(2, 2), padding=(1, 1))\n",
              "    (bn1): BatchNorm2d(16, eps=1e-05, momentum=0.1, affine=True, track_running_stats=True)\n",
              "    (conv2): Conv2d(16, 16, kernel_size=(3, 3), stride=(1, 1), padding=(1, 1))\n",
              "    (bn2): BatchNorm2d(16, eps=1e-05, momentum=0.1, affine=True, track_running_stats=True)\n",
              "    (conv3): Conv2d(16, 16, kernel_size=(3, 3), stride=(1, 1), padding=(1, 1))\n",
              "    (bn3): BatchNorm2d(16, eps=1e-05, momentum=0.1, affine=True, track_running_stats=True)\n",
              "    (gelu): GELU(approximate='none')\n",
              "  )\n",
              "  (pe1): PatchEmbedding(\n",
              "    (conv): Conv2d(16, 46, kernel_size=(2, 2), stride=(2, 2))\n",
              "  )\n",
              "  (pe2): PatchEmbedding(\n",
              "    (conv): Conv2d(46, 92, kernel_size=(2, 2), stride=(2, 2))\n",
              "  )\n",
              "  (pe3): PatchEmbedding(\n",
              "    (conv): Conv2d(92, 184, kernel_size=(2, 2), stride=(2, 2))\n",
              "  )\n",
              "  (pe4): PatchEmbedding(\n",
              "    (conv): Conv2d(184, 368, kernel_size=(2, 2), stride=(2, 2))\n",
              "  )\n",
              "  (stage1): Sequential(\n",
              "    (0): CMTBlock(\n",
              "      (lpu): LPU(\n",
              "        (dwconv): Conv2d(46, 46, kernel_size=(3, 3), stride=(1, 1), padding=(1, 1), groups=46)\n",
              "      )\n",
              "      (mhsa): LMHSA(\n",
              "        (dwconv): Conv2d(46, 46, kernel_size=(8, 8), stride=(8, 8), groups=46)\n",
              "        (fc_q): Linear(in_features=46, out_features=46, bias=True)\n",
              "        (fc_k): Linear(in_features=46, out_features=46, bias=True)\n",
              "        (fc_v): Linear(in_features=46, out_features=46, bias=True)\n",
              "        (fc_o): Linear(in_features=46, out_features=46, bias=True)\n",
              "      )\n",
              "      (irffn): IRFFN(\n",
              "        (conv1): Conv2d(46, 165, kernel_size=(1, 1), stride=(1, 1))\n",
              "        (bn1): BatchNorm2d(165, eps=1e-05, momentum=0.1, affine=True, track_running_stats=True)\n",
              "        (dwconv): Conv2d(165, 165, kernel_size=(3, 3), stride=(1, 1), padding=(1, 1), groups=165)\n",
              "        (bn2): BatchNorm2d(165, eps=1e-05, momentum=0.1, affine=True, track_running_stats=True)\n",
              "        (conv2): Conv2d(165, 46, kernel_size=(1, 1), stride=(1, 1))\n",
              "        (bn3): BatchNorm2d(46, eps=1e-05, momentum=0.1, affine=True, track_running_stats=True)\n",
              "        (gelu): GELU(approximate='none')\n",
              "      )\n",
              "    )\n",
              "    (1): CMTBlock(\n",
              "      (lpu): LPU(\n",
              "        (dwconv): Conv2d(46, 46, kernel_size=(3, 3), stride=(1, 1), padding=(1, 1), groups=46)\n",
              "      )\n",
              "      (mhsa): LMHSA(\n",
              "        (dwconv): Conv2d(46, 46, kernel_size=(8, 8), stride=(8, 8), groups=46)\n",
              "        (fc_q): Linear(in_features=46, out_features=46, bias=True)\n",
              "        (fc_k): Linear(in_features=46, out_features=46, bias=True)\n",
              "        (fc_v): Linear(in_features=46, out_features=46, bias=True)\n",
              "        (fc_o): Linear(in_features=46, out_features=46, bias=True)\n",
              "      )\n",
              "      (irffn): IRFFN(\n",
              "        (conv1): Conv2d(46, 165, kernel_size=(1, 1), stride=(1, 1))\n",
              "        (bn1): BatchNorm2d(165, eps=1e-05, momentum=0.1, affine=True, track_running_stats=True)\n",
              "        (dwconv): Conv2d(165, 165, kernel_size=(3, 3), stride=(1, 1), padding=(1, 1), groups=165)\n",
              "        (bn2): BatchNorm2d(165, eps=1e-05, momentum=0.1, affine=True, track_running_stats=True)\n",
              "        (conv2): Conv2d(165, 46, kernel_size=(1, 1), stride=(1, 1))\n",
              "        (bn3): BatchNorm2d(46, eps=1e-05, momentum=0.1, affine=True, track_running_stats=True)\n",
              "        (gelu): GELU(approximate='none')\n",
              "      )\n",
              "    )\n",
              "  )\n",
              "  (stage2): Sequential(\n",
              "    (0): CMTBlock(\n",
              "      (lpu): LPU(\n",
              "        (dwconv): Conv2d(92, 92, kernel_size=(3, 3), stride=(1, 1), padding=(1, 1), groups=92)\n",
              "      )\n",
              "      (mhsa): LMHSA(\n",
              "        (dwconv): Conv2d(92, 92, kernel_size=(4, 4), stride=(4, 4), groups=92)\n",
              "        (fc_q): Linear(in_features=92, out_features=92, bias=True)\n",
              "        (fc_k): Linear(in_features=92, out_features=92, bias=True)\n",
              "        (fc_v): Linear(in_features=92, out_features=92, bias=True)\n",
              "        (fc_o): Linear(in_features=92, out_features=92, bias=True)\n",
              "      )\n",
              "      (irffn): IRFFN(\n",
              "        (conv1): Conv2d(92, 331, kernel_size=(1, 1), stride=(1, 1))\n",
              "        (bn1): BatchNorm2d(331, eps=1e-05, momentum=0.1, affine=True, track_running_stats=True)\n",
              "        (dwconv): Conv2d(331, 331, kernel_size=(3, 3), stride=(1, 1), padding=(1, 1), groups=331)\n",
              "        (bn2): BatchNorm2d(331, eps=1e-05, momentum=0.1, affine=True, track_running_stats=True)\n",
              "        (conv2): Conv2d(331, 92, kernel_size=(1, 1), stride=(1, 1))\n",
              "        (bn3): BatchNorm2d(92, eps=1e-05, momentum=0.1, affine=True, track_running_stats=True)\n",
              "        (gelu): GELU(approximate='none')\n",
              "      )\n",
              "    )\n",
              "    (1): CMTBlock(\n",
              "      (lpu): LPU(\n",
              "        (dwconv): Conv2d(92, 92, kernel_size=(3, 3), stride=(1, 1), padding=(1, 1), groups=92)\n",
              "      )\n",
              "      (mhsa): LMHSA(\n",
              "        (dwconv): Conv2d(92, 92, kernel_size=(4, 4), stride=(4, 4), groups=92)\n",
              "        (fc_q): Linear(in_features=92, out_features=92, bias=True)\n",
              "        (fc_k): Linear(in_features=92, out_features=92, bias=True)\n",
              "        (fc_v): Linear(in_features=92, out_features=92, bias=True)\n",
              "        (fc_o): Linear(in_features=92, out_features=92, bias=True)\n",
              "      )\n",
              "      (irffn): IRFFN(\n",
              "        (conv1): Conv2d(92, 331, kernel_size=(1, 1), stride=(1, 1))\n",
              "        (bn1): BatchNorm2d(331, eps=1e-05, momentum=0.1, affine=True, track_running_stats=True)\n",
              "        (dwconv): Conv2d(331, 331, kernel_size=(3, 3), stride=(1, 1), padding=(1, 1), groups=331)\n",
              "        (bn2): BatchNorm2d(331, eps=1e-05, momentum=0.1, affine=True, track_running_stats=True)\n",
              "        (conv2): Conv2d(331, 92, kernel_size=(1, 1), stride=(1, 1))\n",
              "        (bn3): BatchNorm2d(92, eps=1e-05, momentum=0.1, affine=True, track_running_stats=True)\n",
              "        (gelu): GELU(approximate='none')\n",
              "      )\n",
              "    )\n",
              "  )\n",
              "  (stage3): Sequential(\n",
              "    (0): CMTBlock(\n",
              "      (lpu): LPU(\n",
              "        (dwconv): Conv2d(184, 184, kernel_size=(3, 3), stride=(1, 1), padding=(1, 1), groups=184)\n",
              "      )\n",
              "      (mhsa): LMHSA(\n",
              "        (dwconv): Conv2d(184, 184, kernel_size=(2, 2), stride=(2, 2), groups=184)\n",
              "        (fc_q): Linear(in_features=184, out_features=184, bias=True)\n",
              "        (fc_k): Linear(in_features=184, out_features=184, bias=True)\n",
              "        (fc_v): Linear(in_features=184, out_features=184, bias=True)\n",
              "        (fc_o): Linear(in_features=184, out_features=184, bias=True)\n",
              "      )\n",
              "      (irffn): IRFFN(\n",
              "        (conv1): Conv2d(184, 662, kernel_size=(1, 1), stride=(1, 1))\n",
              "        (bn1): BatchNorm2d(662, eps=1e-05, momentum=0.1, affine=True, track_running_stats=True)\n",
              "        (dwconv): Conv2d(662, 662, kernel_size=(3, 3), stride=(1, 1), padding=(1, 1), groups=662)\n",
              "        (bn2): BatchNorm2d(662, eps=1e-05, momentum=0.1, affine=True, track_running_stats=True)\n",
              "        (conv2): Conv2d(662, 184, kernel_size=(1, 1), stride=(1, 1))\n",
              "        (bn3): BatchNorm2d(184, eps=1e-05, momentum=0.1, affine=True, track_running_stats=True)\n",
              "        (gelu): GELU(approximate='none')\n",
              "      )\n",
              "    )\n",
              "    (1): CMTBlock(\n",
              "      (lpu): LPU(\n",
              "        (dwconv): Conv2d(184, 184, kernel_size=(3, 3), stride=(1, 1), padding=(1, 1), groups=184)\n",
              "      )\n",
              "      (mhsa): LMHSA(\n",
              "        (dwconv): Conv2d(184, 184, kernel_size=(2, 2), stride=(2, 2), groups=184)\n",
              "        (fc_q): Linear(in_features=184, out_features=184, bias=True)\n",
              "        (fc_k): Linear(in_features=184, out_features=184, bias=True)\n",
              "        (fc_v): Linear(in_features=184, out_features=184, bias=True)\n",
              "        (fc_o): Linear(in_features=184, out_features=184, bias=True)\n",
              "      )\n",
              "      (irffn): IRFFN(\n",
              "        (conv1): Conv2d(184, 662, kernel_size=(1, 1), stride=(1, 1))\n",
              "        (bn1): BatchNorm2d(662, eps=1e-05, momentum=0.1, affine=True, track_running_stats=True)\n",
              "        (dwconv): Conv2d(662, 662, kernel_size=(3, 3), stride=(1, 1), padding=(1, 1), groups=662)\n",
              "        (bn2): BatchNorm2d(662, eps=1e-05, momentum=0.1, affine=True, track_running_stats=True)\n",
              "        (conv2): Conv2d(662, 184, kernel_size=(1, 1), stride=(1, 1))\n",
              "        (bn3): BatchNorm2d(184, eps=1e-05, momentum=0.1, affine=True, track_running_stats=True)\n",
              "        (gelu): GELU(approximate='none')\n",
              "      )\n",
              "    )\n",
              "    (2): CMTBlock(\n",
              "      (lpu): LPU(\n",
              "        (dwconv): Conv2d(184, 184, kernel_size=(3, 3), stride=(1, 1), padding=(1, 1), groups=184)\n",
              "      )\n",
              "      (mhsa): LMHSA(\n",
              "        (dwconv): Conv2d(184, 184, kernel_size=(2, 2), stride=(2, 2), groups=184)\n",
              "        (fc_q): Linear(in_features=184, out_features=184, bias=True)\n",
              "        (fc_k): Linear(in_features=184, out_features=184, bias=True)\n",
              "        (fc_v): Linear(in_features=184, out_features=184, bias=True)\n",
              "        (fc_o): Linear(in_features=184, out_features=184, bias=True)\n",
              "      )\n",
              "      (irffn): IRFFN(\n",
              "        (conv1): Conv2d(184, 662, kernel_size=(1, 1), stride=(1, 1))\n",
              "        (bn1): BatchNorm2d(662, eps=1e-05, momentum=0.1, affine=True, track_running_stats=True)\n",
              "        (dwconv): Conv2d(662, 662, kernel_size=(3, 3), stride=(1, 1), padding=(1, 1), groups=662)\n",
              "        (bn2): BatchNorm2d(662, eps=1e-05, momentum=0.1, affine=True, track_running_stats=True)\n",
              "        (conv2): Conv2d(662, 184, kernel_size=(1, 1), stride=(1, 1))\n",
              "        (bn3): BatchNorm2d(184, eps=1e-05, momentum=0.1, affine=True, track_running_stats=True)\n",
              "        (gelu): GELU(approximate='none')\n",
              "      )\n",
              "    )\n",
              "    (3): CMTBlock(\n",
              "      (lpu): LPU(\n",
              "        (dwconv): Conv2d(184, 184, kernel_size=(3, 3), stride=(1, 1), padding=(1, 1), groups=184)\n",
              "      )\n",
              "      (mhsa): LMHSA(\n",
              "        (dwconv): Conv2d(184, 184, kernel_size=(2, 2), stride=(2, 2), groups=184)\n",
              "        (fc_q): Linear(in_features=184, out_features=184, bias=True)\n",
              "        (fc_k): Linear(in_features=184, out_features=184, bias=True)\n",
              "        (fc_v): Linear(in_features=184, out_features=184, bias=True)\n",
              "        (fc_o): Linear(in_features=184, out_features=184, bias=True)\n",
              "      )\n",
              "      (irffn): IRFFN(\n",
              "        (conv1): Conv2d(184, 662, kernel_size=(1, 1), stride=(1, 1))\n",
              "        (bn1): BatchNorm2d(662, eps=1e-05, momentum=0.1, affine=True, track_running_stats=True)\n",
              "        (dwconv): Conv2d(662, 662, kernel_size=(3, 3), stride=(1, 1), padding=(1, 1), groups=662)\n",
              "        (bn2): BatchNorm2d(662, eps=1e-05, momentum=0.1, affine=True, track_running_stats=True)\n",
              "        (conv2): Conv2d(662, 184, kernel_size=(1, 1), stride=(1, 1))\n",
              "        (bn3): BatchNorm2d(184, eps=1e-05, momentum=0.1, affine=True, track_running_stats=True)\n",
              "        (gelu): GELU(approximate='none')\n",
              "      )\n",
              "    )\n",
              "    (4): CMTBlock(\n",
              "      (lpu): LPU(\n",
              "        (dwconv): Conv2d(184, 184, kernel_size=(3, 3), stride=(1, 1), padding=(1, 1), groups=184)\n",
              "      )\n",
              "      (mhsa): LMHSA(\n",
              "        (dwconv): Conv2d(184, 184, kernel_size=(2, 2), stride=(2, 2), groups=184)\n",
              "        (fc_q): Linear(in_features=184, out_features=184, bias=True)\n",
              "        (fc_k): Linear(in_features=184, out_features=184, bias=True)\n",
              "        (fc_v): Linear(in_features=184, out_features=184, bias=True)\n",
              "        (fc_o): Linear(in_features=184, out_features=184, bias=True)\n",
              "      )\n",
              "      (irffn): IRFFN(\n",
              "        (conv1): Conv2d(184, 662, kernel_size=(1, 1), stride=(1, 1))\n",
              "        (bn1): BatchNorm2d(662, eps=1e-05, momentum=0.1, affine=True, track_running_stats=True)\n",
              "        (dwconv): Conv2d(662, 662, kernel_size=(3, 3), stride=(1, 1), padding=(1, 1), groups=662)\n",
              "        (bn2): BatchNorm2d(662, eps=1e-05, momentum=0.1, affine=True, track_running_stats=True)\n",
              "        (conv2): Conv2d(662, 184, kernel_size=(1, 1), stride=(1, 1))\n",
              "        (bn3): BatchNorm2d(184, eps=1e-05, momentum=0.1, affine=True, track_running_stats=True)\n",
              "        (gelu): GELU(approximate='none')\n",
              "      )\n",
              "    )\n",
              "    (5): CMTBlock(\n",
              "      (lpu): LPU(\n",
              "        (dwconv): Conv2d(184, 184, kernel_size=(3, 3), stride=(1, 1), padding=(1, 1), groups=184)\n",
              "      )\n",
              "      (mhsa): LMHSA(\n",
              "        (dwconv): Conv2d(184, 184, kernel_size=(2, 2), stride=(2, 2), groups=184)\n",
              "        (fc_q): Linear(in_features=184, out_features=184, bias=True)\n",
              "        (fc_k): Linear(in_features=184, out_features=184, bias=True)\n",
              "        (fc_v): Linear(in_features=184, out_features=184, bias=True)\n",
              "        (fc_o): Linear(in_features=184, out_features=184, bias=True)\n",
              "      )\n",
              "      (irffn): IRFFN(\n",
              "        (conv1): Conv2d(184, 662, kernel_size=(1, 1), stride=(1, 1))\n",
              "        (bn1): BatchNorm2d(662, eps=1e-05, momentum=0.1, affine=True, track_running_stats=True)\n",
              "        (dwconv): Conv2d(662, 662, kernel_size=(3, 3), stride=(1, 1), padding=(1, 1), groups=662)\n",
              "        (bn2): BatchNorm2d(662, eps=1e-05, momentum=0.1, affine=True, track_running_stats=True)\n",
              "        (conv2): Conv2d(662, 184, kernel_size=(1, 1), stride=(1, 1))\n",
              "        (bn3): BatchNorm2d(184, eps=1e-05, momentum=0.1, affine=True, track_running_stats=True)\n",
              "        (gelu): GELU(approximate='none')\n",
              "      )\n",
              "    )\n",
              "    (6): CMTBlock(\n",
              "      (lpu): LPU(\n",
              "        (dwconv): Conv2d(184, 184, kernel_size=(3, 3), stride=(1, 1), padding=(1, 1), groups=184)\n",
              "      )\n",
              "      (mhsa): LMHSA(\n",
              "        (dwconv): Conv2d(184, 184, kernel_size=(2, 2), stride=(2, 2), groups=184)\n",
              "        (fc_q): Linear(in_features=184, out_features=184, bias=True)\n",
              "        (fc_k): Linear(in_features=184, out_features=184, bias=True)\n",
              "        (fc_v): Linear(in_features=184, out_features=184, bias=True)\n",
              "        (fc_o): Linear(in_features=184, out_features=184, bias=True)\n",
              "      )\n",
              "      (irffn): IRFFN(\n",
              "        (conv1): Conv2d(184, 662, kernel_size=(1, 1), stride=(1, 1))\n",
              "        (bn1): BatchNorm2d(662, eps=1e-05, momentum=0.1, affine=True, track_running_stats=True)\n",
              "        (dwconv): Conv2d(662, 662, kernel_size=(3, 3), stride=(1, 1), padding=(1, 1), groups=662)\n",
              "        (bn2): BatchNorm2d(662, eps=1e-05, momentum=0.1, affine=True, track_running_stats=True)\n",
              "        (conv2): Conv2d(662, 184, kernel_size=(1, 1), stride=(1, 1))\n",
              "        (bn3): BatchNorm2d(184, eps=1e-05, momentum=0.1, affine=True, track_running_stats=True)\n",
              "        (gelu): GELU(approximate='none')\n",
              "      )\n",
              "    )\n",
              "    (7): CMTBlock(\n",
              "      (lpu): LPU(\n",
              "        (dwconv): Conv2d(184, 184, kernel_size=(3, 3), stride=(1, 1), padding=(1, 1), groups=184)\n",
              "      )\n",
              "      (mhsa): LMHSA(\n",
              "        (dwconv): Conv2d(184, 184, kernel_size=(2, 2), stride=(2, 2), groups=184)\n",
              "        (fc_q): Linear(in_features=184, out_features=184, bias=True)\n",
              "        (fc_k): Linear(in_features=184, out_features=184, bias=True)\n",
              "        (fc_v): Linear(in_features=184, out_features=184, bias=True)\n",
              "        (fc_o): Linear(in_features=184, out_features=184, bias=True)\n",
              "      )\n",
              "      (irffn): IRFFN(\n",
              "        (conv1): Conv2d(184, 662, kernel_size=(1, 1), stride=(1, 1))\n",
              "        (bn1): BatchNorm2d(662, eps=1e-05, momentum=0.1, affine=True, track_running_stats=True)\n",
              "        (dwconv): Conv2d(662, 662, kernel_size=(3, 3), stride=(1, 1), padding=(1, 1), groups=662)\n",
              "        (bn2): BatchNorm2d(662, eps=1e-05, momentum=0.1, affine=True, track_running_stats=True)\n",
              "        (conv2): Conv2d(662, 184, kernel_size=(1, 1), stride=(1, 1))\n",
              "        (bn3): BatchNorm2d(184, eps=1e-05, momentum=0.1, affine=True, track_running_stats=True)\n",
              "        (gelu): GELU(approximate='none')\n",
              "      )\n",
              "    )\n",
              "    (8): CMTBlock(\n",
              "      (lpu): LPU(\n",
              "        (dwconv): Conv2d(184, 184, kernel_size=(3, 3), stride=(1, 1), padding=(1, 1), groups=184)\n",
              "      )\n",
              "      (mhsa): LMHSA(\n",
              "        (dwconv): Conv2d(184, 184, kernel_size=(2, 2), stride=(2, 2), groups=184)\n",
              "        (fc_q): Linear(in_features=184, out_features=184, bias=True)\n",
              "        (fc_k): Linear(in_features=184, out_features=184, bias=True)\n",
              "        (fc_v): Linear(in_features=184, out_features=184, bias=True)\n",
              "        (fc_o): Linear(in_features=184, out_features=184, bias=True)\n",
              "      )\n",
              "      (irffn): IRFFN(\n",
              "        (conv1): Conv2d(184, 662, kernel_size=(1, 1), stride=(1, 1))\n",
              "        (bn1): BatchNorm2d(662, eps=1e-05, momentum=0.1, affine=True, track_running_stats=True)\n",
              "        (dwconv): Conv2d(662, 662, kernel_size=(3, 3), stride=(1, 1), padding=(1, 1), groups=662)\n",
              "        (bn2): BatchNorm2d(662, eps=1e-05, momentum=0.1, affine=True, track_running_stats=True)\n",
              "        (conv2): Conv2d(662, 184, kernel_size=(1, 1), stride=(1, 1))\n",
              "        (bn3): BatchNorm2d(184, eps=1e-05, momentum=0.1, affine=True, track_running_stats=True)\n",
              "        (gelu): GELU(approximate='none')\n",
              "      )\n",
              "    )\n",
              "    (9): CMTBlock(\n",
              "      (lpu): LPU(\n",
              "        (dwconv): Conv2d(184, 184, kernel_size=(3, 3), stride=(1, 1), padding=(1, 1), groups=184)\n",
              "      )\n",
              "      (mhsa): LMHSA(\n",
              "        (dwconv): Conv2d(184, 184, kernel_size=(2, 2), stride=(2, 2), groups=184)\n",
              "        (fc_q): Linear(in_features=184, out_features=184, bias=True)\n",
              "        (fc_k): Linear(in_features=184, out_features=184, bias=True)\n",
              "        (fc_v): Linear(in_features=184, out_features=184, bias=True)\n",
              "        (fc_o): Linear(in_features=184, out_features=184, bias=True)\n",
              "      )\n",
              "      (irffn): IRFFN(\n",
              "        (conv1): Conv2d(184, 662, kernel_size=(1, 1), stride=(1, 1))\n",
              "        (bn1): BatchNorm2d(662, eps=1e-05, momentum=0.1, affine=True, track_running_stats=True)\n",
              "        (dwconv): Conv2d(662, 662, kernel_size=(3, 3), stride=(1, 1), padding=(1, 1), groups=662)\n",
              "        (bn2): BatchNorm2d(662, eps=1e-05, momentum=0.1, affine=True, track_running_stats=True)\n",
              "        (conv2): Conv2d(662, 184, kernel_size=(1, 1), stride=(1, 1))\n",
              "        (bn3): BatchNorm2d(184, eps=1e-05, momentum=0.1, affine=True, track_running_stats=True)\n",
              "        (gelu): GELU(approximate='none')\n",
              "      )\n",
              "    )\n",
              "  )\n",
              "  (stage4): Sequential(\n",
              "    (0): CMTBlock(\n",
              "      (lpu): LPU(\n",
              "        (dwconv): Conv2d(368, 368, kernel_size=(3, 3), stride=(1, 1), padding=(1, 1), groups=368)\n",
              "      )\n",
              "      (mhsa): LMHSA(\n",
              "        (dwconv): Conv2d(368, 368, kernel_size=(1, 1), stride=(1, 1), groups=368)\n",
              "        (fc_q): Linear(in_features=368, out_features=368, bias=True)\n",
              "        (fc_k): Linear(in_features=368, out_features=368, bias=True)\n",
              "        (fc_v): Linear(in_features=368, out_features=368, bias=True)\n",
              "        (fc_o): Linear(in_features=368, out_features=368, bias=True)\n",
              "      )\n",
              "      (irffn): IRFFN(\n",
              "        (conv1): Conv2d(368, 1324, kernel_size=(1, 1), stride=(1, 1))\n",
              "        (bn1): BatchNorm2d(1324, eps=1e-05, momentum=0.1, affine=True, track_running_stats=True)\n",
              "        (dwconv): Conv2d(1324, 1324, kernel_size=(3, 3), stride=(1, 1), padding=(1, 1), groups=1324)\n",
              "        (bn2): BatchNorm2d(1324, eps=1e-05, momentum=0.1, affine=True, track_running_stats=True)\n",
              "        (conv2): Conv2d(1324, 368, kernel_size=(1, 1), stride=(1, 1))\n",
              "        (bn3): BatchNorm2d(368, eps=1e-05, momentum=0.1, affine=True, track_running_stats=True)\n",
              "        (gelu): GELU(approximate='none')\n",
              "      )\n",
              "    )\n",
              "    (1): CMTBlock(\n",
              "      (lpu): LPU(\n",
              "        (dwconv): Conv2d(368, 368, kernel_size=(3, 3), stride=(1, 1), padding=(1, 1), groups=368)\n",
              "      )\n",
              "      (mhsa): LMHSA(\n",
              "        (dwconv): Conv2d(368, 368, kernel_size=(1, 1), stride=(1, 1), groups=368)\n",
              "        (fc_q): Linear(in_features=368, out_features=368, bias=True)\n",
              "        (fc_k): Linear(in_features=368, out_features=368, bias=True)\n",
              "        (fc_v): Linear(in_features=368, out_features=368, bias=True)\n",
              "        (fc_o): Linear(in_features=368, out_features=368, bias=True)\n",
              "      )\n",
              "      (irffn): IRFFN(\n",
              "        (conv1): Conv2d(368, 1324, kernel_size=(1, 1), stride=(1, 1))\n",
              "        (bn1): BatchNorm2d(1324, eps=1e-05, momentum=0.1, affine=True, track_running_stats=True)\n",
              "        (dwconv): Conv2d(1324, 1324, kernel_size=(3, 3), stride=(1, 1), padding=(1, 1), groups=1324)\n",
              "        (bn2): BatchNorm2d(1324, eps=1e-05, momentum=0.1, affine=True, track_running_stats=True)\n",
              "        (conv2): Conv2d(1324, 368, kernel_size=(1, 1), stride=(1, 1))\n",
              "        (bn3): BatchNorm2d(368, eps=1e-05, momentum=0.1, affine=True, track_running_stats=True)\n",
              "        (gelu): GELU(approximate='none')\n",
              "      )\n",
              "    )\n",
              "  )\n",
              "  (avg_pool): AdaptiveAvgPool2d(output_size=1)\n",
              "  (projection): Sequential(\n",
              "    (0): Conv2d(368, 1280, kernel_size=(1, 1), stride=(1, 1))\n",
              "    (1): ReLU(inplace=True)\n",
              "  )\n",
              "  (classifier): Linear(in_features=1280, out_features=10, bias=True)\n",
              ")"
            ]
          },
          "metadata": {},
          "execution_count": 19
        }
      ]
    },
    {
      "cell_type": "code",
      "source": [
        "# Epochs.\n",
        "EPOCHS = 25\n",
        "\n",
        "# Initial learning rate.\n",
        "LR = 6e-5\n",
        "\n",
        "# Weight decay.\n",
        "WD = 1e-5\n",
        "\n",
        "# Loss function.\n",
        "loss_fn = nn.CrossEntropyLoss()\n",
        "\n",
        "# Optimizer.\n",
        "optimizer = torch.optim.AdamW(m_1.parameters(), lr = LR, weight_decay = WD)\n",
        "\n",
        "# Scheduler.\n",
        "scheduler = torch.optim.lr_scheduler.CosineAnnealingLR(optimizer, EPOCHS)"
      ],
      "metadata": {
        "id": "30WHWDVvx5Th"
      },
      "execution_count": 20,
      "outputs": []
    },
    {
      "cell_type": "code",
      "source": [
        "# Training.\n",
        "history = train(m_1, optimizer, scheduler, loss_fn, train_loader, val_loader, EPOCHS, device)\n",
        "\n",
        "# Creating a checkpoint.\n",
        "checkpoint = {\n",
        "  \"history\": history,\n",
        "  \"model\": m_1.state_dict(),\n",
        "  \"optimizer\": optimizer.state_dict(),\n",
        "  \"scheduler\": scheduler.state_dict()\n",
        "}\n",
        "\n",
        "# Saving the model.\n",
        "torch.save(checkpoint, \"checkpoint1.pt\")"
      ],
      "metadata": {
        "id": "nIOi_J2Ot4Oh",
        "colab": {
          "base_uri": "https://localhost:8080/"
        },
        "outputId": "9217b84b-147e-42ce-ac6a-6cc716ec6f4c"
      },
      "execution_count": 21,
      "outputs": [
        {
          "output_type": "stream",
          "name": "stdout",
          "text": [
            "Epoch  1/25:\n"
          ]
        },
        {
          "output_type": "stream",
          "name": "stderr",
          "text": [
            "Training: 100%|██████████| 1250/1250 [08:40<00:00,  2.40it/s]\n",
            "Validation: 100%|██████████| 313/313 [00:36<00:00,  8.67it/s]\n"
          ]
        },
        {
          "output_type": "stream",
          "name": "stdout",
          "text": [
            "train_loss: 1.4419, train_accuracy: 0.4693, val_loss: 1.1494, val_accuracy: 0.5843, lr: 6.0000e-05\n",
            "\n",
            "Epoch  2/25:\n"
          ]
        },
        {
          "output_type": "stream",
          "name": "stderr",
          "text": [
            "Training: 100%|██████████| 1250/1250 [08:39<00:00,  2.41it/s]\n",
            "Validation: 100%|██████████| 313/313 [00:36<00:00,  8.65it/s]\n"
          ]
        },
        {
          "output_type": "stream",
          "name": "stdout",
          "text": [
            "train_loss: 1.0438, train_accuracy: 0.6272, val_loss: 0.9299, val_accuracy: 0.6743, lr: 5.9763e-05\n",
            "\n",
            "Epoch  3/25:\n"
          ]
        },
        {
          "output_type": "stream",
          "name": "stderr",
          "text": [
            "Training: 100%|██████████| 1250/1250 [08:38<00:00,  2.41it/s]\n",
            "Validation: 100%|██████████| 313/313 [00:36<00:00,  8.64it/s]\n"
          ]
        },
        {
          "output_type": "stream",
          "name": "stdout",
          "text": [
            "train_loss: 0.8683, train_accuracy: 0.6926, val_loss: 0.8188, val_accuracy: 0.7166, lr: 5.9057e-05\n",
            "\n",
            "Epoch  4/25:\n"
          ]
        },
        {
          "output_type": "stream",
          "name": "stderr",
          "text": [
            "Training: 100%|██████████| 1250/1250 [08:38<00:00,  2.41it/s]\n",
            "Validation: 100%|██████████| 313/313 [00:36<00:00,  8.66it/s]\n"
          ]
        },
        {
          "output_type": "stream",
          "name": "stdout",
          "text": [
            "train_loss: 0.7362, train_accuracy: 0.7399, val_loss: 0.6910, val_accuracy: 0.7509, lr: 5.7893e-05\n",
            "\n",
            "Epoch  5/25:\n"
          ]
        },
        {
          "output_type": "stream",
          "name": "stderr",
          "text": [
            "Training: 100%|██████████| 1250/1250 [08:39<00:00,  2.41it/s]\n",
            "Validation: 100%|██████████| 313/313 [00:36<00:00,  8.67it/s]\n"
          ]
        },
        {
          "output_type": "stream",
          "name": "stdout",
          "text": [
            "train_loss: 0.6461, train_accuracy: 0.7729, val_loss: 0.6498, val_accuracy: 0.7783, lr: 5.6289e-05\n",
            "\n",
            "Epoch  6/25:\n"
          ]
        },
        {
          "output_type": "stream",
          "name": "stderr",
          "text": [
            "Training: 100%|██████████| 1250/1250 [08:38<00:00,  2.41it/s]\n",
            "Validation: 100%|██████████| 313/313 [00:36<00:00,  8.67it/s]\n"
          ]
        },
        {
          "output_type": "stream",
          "name": "stdout",
          "text": [
            "train_loss: 0.5720, train_accuracy: 0.8007, val_loss: 0.5892, val_accuracy: 0.7938, lr: 5.4271e-05\n",
            "\n",
            "Epoch  7/25:\n"
          ]
        },
        {
          "output_type": "stream",
          "name": "stderr",
          "text": [
            "Training: 100%|██████████| 1250/1250 [08:39<00:00,  2.41it/s]\n",
            "Validation: 100%|██████████| 313/313 [00:36<00:00,  8.63it/s]\n"
          ]
        },
        {
          "output_type": "stream",
          "name": "stdout",
          "text": [
            "train_loss: 0.5209, train_accuracy: 0.8195, val_loss: 0.5647, val_accuracy: 0.8024, lr: 5.1869e-05\n",
            "\n",
            "Epoch  8/25:\n"
          ]
        },
        {
          "output_type": "stream",
          "name": "stderr",
          "text": [
            "Training: 100%|██████████| 1250/1250 [08:39<00:00,  2.41it/s]\n",
            "Validation: 100%|██████████| 313/313 [00:36<00:00,  8.63it/s]\n"
          ]
        },
        {
          "output_type": "stream",
          "name": "stdout",
          "text": [
            "train_loss: 0.4774, train_accuracy: 0.8351, val_loss: 0.5312, val_accuracy: 0.8157, lr: 4.9123e-05\n",
            "\n",
            "Epoch  9/25:\n"
          ]
        },
        {
          "output_type": "stream",
          "name": "stderr",
          "text": [
            "Training: 100%|██████████| 1250/1250 [08:39<00:00,  2.41it/s]\n",
            "Validation: 100%|██████████| 313/313 [00:36<00:00,  8.64it/s]\n"
          ]
        },
        {
          "output_type": "stream",
          "name": "stdout",
          "text": [
            "train_loss: 0.4326, train_accuracy: 0.8493, val_loss: 0.5117, val_accuracy: 0.8228, lr: 4.6075e-05\n",
            "\n",
            "Epoch 10/25:\n"
          ]
        },
        {
          "output_type": "stream",
          "name": "stderr",
          "text": [
            "Training: 100%|██████████| 1250/1250 [08:38<00:00,  2.41it/s]\n",
            "Validation: 100%|██████████| 313/313 [00:36<00:00,  8.68it/s]\n"
          ]
        },
        {
          "output_type": "stream",
          "name": "stdout",
          "text": [
            "train_loss: 0.4019, train_accuracy: 0.8584, val_loss: 0.4925, val_accuracy: 0.8333, lr: 4.2773e-05\n",
            "\n",
            "Epoch 11/25:\n"
          ]
        },
        {
          "output_type": "stream",
          "name": "stderr",
          "text": [
            "Training: 100%|██████████| 1250/1250 [08:38<00:00,  2.41it/s]\n",
            "Validation: 100%|██████████| 313/313 [00:36<00:00,  8.67it/s]\n"
          ]
        },
        {
          "output_type": "stream",
          "name": "stdout",
          "text": [
            "train_loss: 0.3702, train_accuracy: 0.8712, val_loss: 0.4606, val_accuracy: 0.8375, lr: 3.9271e-05\n",
            "\n",
            "Epoch 12/25:\n"
          ]
        },
        {
          "output_type": "stream",
          "name": "stderr",
          "text": [
            "Training: 100%|██████████| 1250/1250 [08:37<00:00,  2.41it/s]\n",
            "Validation: 100%|██████████| 313/313 [00:36<00:00,  8.68it/s]\n"
          ]
        },
        {
          "output_type": "stream",
          "name": "stdout",
          "text": [
            "train_loss: 0.3387, train_accuracy: 0.8825, val_loss: 0.4659, val_accuracy: 0.8401, lr: 3.5621e-05\n",
            "\n",
            "Epoch 13/25:\n"
          ]
        },
        {
          "output_type": "stream",
          "name": "stderr",
          "text": [
            "Training: 100%|██████████| 1250/1250 [08:38<00:00,  2.41it/s]\n",
            "Validation: 100%|██████████| 313/313 [00:36<00:00,  8.67it/s]\n"
          ]
        },
        {
          "output_type": "stream",
          "name": "stdout",
          "text": [
            "train_loss: 0.3109, train_accuracy: 0.8916, val_loss: 0.4557, val_accuracy: 0.8450, lr: 3.1884e-05\n",
            "\n",
            "Epoch 14/25:\n"
          ]
        },
        {
          "output_type": "stream",
          "name": "stderr",
          "text": [
            "Training: 100%|██████████| 1250/1250 [08:37<00:00,  2.41it/s]\n",
            "Validation: 100%|██████████| 313/313 [00:36<00:00,  8.68it/s]\n"
          ]
        },
        {
          "output_type": "stream",
          "name": "stdout",
          "text": [
            "train_loss: 0.2853, train_accuracy: 0.8992, val_loss: 0.4529, val_accuracy: 0.8478, lr: 2.8116e-05\n",
            "\n",
            "Epoch 15/25:\n"
          ]
        },
        {
          "output_type": "stream",
          "name": "stderr",
          "text": [
            "Training: 100%|██████████| 1250/1250 [08:37<00:00,  2.41it/s]\n",
            "Validation: 100%|██████████| 313/313 [00:36<00:00,  8.67it/s]\n"
          ]
        },
        {
          "output_type": "stream",
          "name": "stdout",
          "text": [
            "train_loss: 0.2636, train_accuracy: 0.9081, val_loss: 0.4407, val_accuracy: 0.8553, lr: 2.4379e-05\n",
            "\n",
            "Epoch 16/25:\n"
          ]
        },
        {
          "output_type": "stream",
          "name": "stderr",
          "text": [
            "Training: 100%|██████████| 1250/1250 [08:38<00:00,  2.41it/s]\n",
            "Validation: 100%|██████████| 313/313 [00:36<00:00,  8.67it/s]\n"
          ]
        },
        {
          "output_type": "stream",
          "name": "stdout",
          "text": [
            "train_loss: 0.2443, train_accuracy: 0.9149, val_loss: 0.4151, val_accuracy: 0.8627, lr: 2.0729e-05\n",
            "\n",
            "Epoch 17/25:\n"
          ]
        },
        {
          "output_type": "stream",
          "name": "stderr",
          "text": [
            "Training: 100%|██████████| 1250/1250 [08:37<00:00,  2.41it/s]\n",
            "Validation: 100%|██████████| 313/313 [00:36<00:00,  8.67it/s]\n"
          ]
        },
        {
          "output_type": "stream",
          "name": "stdout",
          "text": [
            "train_loss: 0.2251, train_accuracy: 0.9211, val_loss: 0.4174, val_accuracy: 0.8619, lr: 1.7227e-05\n",
            "\n",
            "Epoch 18/25:\n"
          ]
        },
        {
          "output_type": "stream",
          "name": "stderr",
          "text": [
            "Training: 100%|██████████| 1250/1250 [08:38<00:00,  2.41it/s]\n",
            "Validation: 100%|██████████| 313/313 [00:36<00:00,  8.68it/s]\n"
          ]
        },
        {
          "output_type": "stream",
          "name": "stdout",
          "text": [
            "train_loss: 0.2098, train_accuracy: 0.9258, val_loss: 0.4249, val_accuracy: 0.8623, lr: 1.3925e-05\n",
            "\n",
            "Epoch 19/25:\n"
          ]
        },
        {
          "output_type": "stream",
          "name": "stderr",
          "text": [
            "Training: 100%|██████████| 1250/1250 [08:38<00:00,  2.41it/s]\n",
            "Validation: 100%|██████████| 313/313 [00:35<00:00,  8.70it/s]\n"
          ]
        },
        {
          "output_type": "stream",
          "name": "stdout",
          "text": [
            "train_loss: 0.1927, train_accuracy: 0.9326, val_loss: 0.4107, val_accuracy: 0.8699, lr: 1.0877e-05\n",
            "\n",
            "Epoch 20/25:\n"
          ]
        },
        {
          "output_type": "stream",
          "name": "stderr",
          "text": [
            "Training: 100%|██████████| 1250/1250 [08:38<00:00,  2.41it/s]\n",
            "Validation: 100%|██████████| 313/313 [00:36<00:00,  8.68it/s]\n"
          ]
        },
        {
          "output_type": "stream",
          "name": "stdout",
          "text": [
            "train_loss: 0.1849, train_accuracy: 0.9358, val_loss: 0.4029, val_accuracy: 0.8702, lr: 8.1309e-06\n",
            "\n",
            "Epoch 21/25:\n"
          ]
        },
        {
          "output_type": "stream",
          "name": "stderr",
          "text": [
            "Training: 100%|██████████| 1250/1250 [08:38<00:00,  2.41it/s]\n",
            "Validation: 100%|██████████| 313/313 [00:36<00:00,  8.68it/s]\n"
          ]
        },
        {
          "output_type": "stream",
          "name": "stdout",
          "text": [
            "train_loss: 0.1721, train_accuracy: 0.9399, val_loss: 0.4005, val_accuracy: 0.8723, lr: 5.7295e-06\n",
            "\n",
            "Epoch 22/25:\n"
          ]
        },
        {
          "output_type": "stream",
          "name": "stderr",
          "text": [
            "Training: 100%|██████████| 1250/1250 [08:37<00:00,  2.41it/s]\n",
            "Validation: 100%|██████████| 313/313 [00:36<00:00,  8.67it/s]\n"
          ]
        },
        {
          "output_type": "stream",
          "name": "stdout",
          "text": [
            "train_loss: 0.1648, train_accuracy: 0.9428, val_loss: 0.3990, val_accuracy: 0.8715, lr: 3.7108e-06\n",
            "\n",
            "Epoch 23/25:\n"
          ]
        },
        {
          "output_type": "stream",
          "name": "stderr",
          "text": [
            "Training: 100%|██████████| 1250/1250 [08:37<00:00,  2.41it/s]\n",
            "Validation: 100%|██████████| 313/313 [00:35<00:00,  8.70it/s]\n"
          ]
        },
        {
          "output_type": "stream",
          "name": "stdout",
          "text": [
            "train_loss: 0.1621, train_accuracy: 0.9444, val_loss: 0.3982, val_accuracy: 0.8705, lr: 2.1067e-06\n",
            "\n",
            "Epoch 24/25:\n"
          ]
        },
        {
          "output_type": "stream",
          "name": "stderr",
          "text": [
            "Training: 100%|██████████| 1250/1250 [08:37<00:00,  2.42it/s]\n",
            "Validation: 100%|██████████| 313/313 [00:36<00:00,  8.65it/s]\n"
          ]
        },
        {
          "output_type": "stream",
          "name": "stdout",
          "text": [
            "train_loss: 0.1569, train_accuracy: 0.9467, val_loss: 0.3990, val_accuracy: 0.8723, lr: 9.4251e-07\n",
            "\n",
            "Epoch 25/25:\n"
          ]
        },
        {
          "output_type": "stream",
          "name": "stderr",
          "text": [
            "Training: 100%|██████████| 1250/1250 [08:37<00:00,  2.41it/s]\n",
            "Validation: 100%|██████████| 313/313 [00:36<00:00,  8.67it/s]\n"
          ]
        },
        {
          "output_type": "stream",
          "name": "stdout",
          "text": [
            "\n",
            "train_loss: 0.1552, train_accuracy: 0.9464, val_loss: 0.3920, val_accuracy: 0.8744, lr: 2.3656e-07\n"
          ]
        }
      ]
    },
    {
      "cell_type": "code",
      "source": [
        "# Plotting losses and accuracies.\n",
        "plot_training(history)"
      ],
      "metadata": {
        "id": "3jbK0PuuXlFx",
        "colab": {
          "base_uri": "https://localhost:8080/",
          "height": 279
        },
        "outputId": "dd6d51fa-7c2f-4da2-f1eb-eef81f063d70"
      },
      "execution_count": 22,
      "outputs": [
        {
          "output_type": "display_data",
          "data": {
            "text/plain": [
              "<Figure size 1008x288 with 2 Axes>"
            ],
            "image/png": "[encoded data removed]"
          },
          "metadata": {
            "needs_background": "light"
          }
        }
      ]
    },
    {
      "cell_type": "markdown",
      "source": [
        "### Standard MHSA model ($m_2$)"
      ],
      "metadata": {
        "id": "Z3tA4hXcRwt6"
      }
    },
    {
      "cell_type": "code",
      "source": [
        "# Defining the model that uses standard MHSA.\n",
        "m_2 = CMT(\n",
        "  in_channels = 3,\n",
        "  stem_channels = 16,\n",
        "  cmt_channels = [46, 92, 184, 368],\n",
        "  patch_channels = [46, 92, 184, 368],\n",
        "  block_layers = [2, 2, 10, 2],\n",
        "  R = 3.6,\n",
        "  img_size = 224,\n",
        "  num_class = 10,\n",
        "  attention_type = \"standard\")\n",
        "\n",
        "# Printing number of parameters.\n",
        "print(f\"m_2 has {sum(p.numel() for p in m_2.parameters())} parameters.\")"
      ],
      "metadata": {
        "id": "us44rHYmDawu"
      },
      "execution_count": null,
      "outputs": []
    },
    {
      "cell_type": "code",
      "source": [
        "# Loading model to device.\n",
        "m_2.to(device)"
      ],
      "metadata": {
        "id": "jcLwrTCwDkT1"
      },
      "execution_count": null,
      "outputs": []
    },
    {
      "cell_type": "code",
      "source": [
        "# Epochs.\n",
        "EPOCHS = 25\n",
        "\n",
        "# Initial learning rate.\n",
        "LR = 6e-5\n",
        "\n",
        "# Weight decay.\n",
        "WD = 1e-5\n",
        "\n",
        "# Loss function.\n",
        "loss_fn = nn.CrossEntropyLoss()\n",
        "\n",
        "# Optimizer.\n",
        "optimizer = torch.optim.AdamW(m_2.parameters(), lr = LR, weight_decay = WD)\n",
        "\n",
        "# Scheduler.\n",
        "scheduler = torch.optim.lr_scheduler.CosineAnnealingLR(optimizer, EPOCHS)"
      ],
      "metadata": {
        "id": "BbK1Lme4DoTR"
      },
      "execution_count": null,
      "outputs": []
    },
    {
      "cell_type": "code",
      "source": [
        "# Training.\n",
        "history = train(m_2, optimizer, scheduler, loss_fn, train_loader, val_loader, EPOCHS, device)\n",
        "\n",
        "# Creating a checkpoint.\n",
        "checkpoint = {\n",
        "  \"history\": history,\n",
        "  \"model\": m_2.state_dict(),\n",
        "  \"optimizer\": optimizer.state_dict(),\n",
        "  \"scheduler\": scheduler.state_dict()\n",
        "}\n",
        "\n",
        "# Saving the model.\n",
        "torch.save(checkpoint, \"checkpoint2.pt\")"
      ],
      "metadata": {
        "id": "PqQui1oRDr8U"
      },
      "execution_count": null,
      "outputs": []
    },
    {
      "cell_type": "code",
      "source": [
        "# Plotting losses and accuracies.\n",
        "plot_training(history)"
      ],
      "metadata": {
        "id": "v2aPYVotD2_i"
      },
      "execution_count": null,
      "outputs": []
    },
    {
      "cell_type": "markdown",
      "source": [
        "### No attention model ($m_3$)"
      ],
      "metadata": {
        "id": "GBo9AEepRzjQ"
      }
    },
    {
      "cell_type": "code",
      "source": [
        "# Defining the model that does not use attention.\n",
        "m_3 = CMT(\n",
        "  in_channels = 3,\n",
        "  stem_channels = 16,\n",
        "  cmt_channels = [46, 92, 184, 368],\n",
        "  patch_channels = [46, 92, 184, 368],\n",
        "  block_layers = [2, 2, 10, 2],\n",
        "  R = 3.6,\n",
        "  img_size = 224,\n",
        "  num_class = 10,\n",
        "  attention_type = None)\n",
        "\n",
        "# Printing number of parameters.\n",
        "print(f\"m_3 has {sum(p.numel() for p in m_3.parameters())} parameters.\")"
      ],
      "metadata": {
        "id": "wX__-lC4FNRL"
      },
      "execution_count": null,
      "outputs": []
    },
    {
      "cell_type": "code",
      "source": [
        "# Loading model to device.\n",
        "m_3.to(device)"
      ],
      "metadata": {
        "id": "zCWwDnRHFbOt"
      },
      "execution_count": null,
      "outputs": []
    },
    {
      "cell_type": "code",
      "source": [
        "# Epochs.\n",
        "EPOCHS = 25\n",
        "\n",
        "# Initial learning rate.\n",
        "LR = 6e-5\n",
        "\n",
        "# Weight decay.\n",
        "WD = 1e-5\n",
        "\n",
        "# Loss function.\n",
        "loss_fn = nn.CrossEntropyLoss()\n",
        "\n",
        "# Optimizer.\n",
        "optimizer = torch.optim.AdamW(m_3.parameters(), lr = LR, weight_decay = WD)\n",
        "\n",
        "# Scheduler.\n",
        "scheduler = torch.optim.lr_scheduler.CosineAnnealingLR(optimizer, EPOCHS)"
      ],
      "metadata": {
        "id": "4Y69ErWnFdzR"
      },
      "execution_count": null,
      "outputs": []
    },
    {
      "cell_type": "code",
      "source": [
        "# Training.\n",
        "history = train(m_3, optimizer, scheduler, loss_fn, train_loader, val_loader, EPOCHS, device)\n",
        "\n",
        "# Creating a checkpoint.\n",
        "checkpoint = {\n",
        "  \"history\": history,\n",
        "  \"model\": m_3.state_dict(),\n",
        "  \"optimizer\": optimizer.state_dict(),\n",
        "  \"scheduler\": scheduler.state_dict()\n",
        "}\n",
        "\n",
        "# Saving the model.\n",
        "torch.save(checkpoint, \"checkpoint3.pt\")"
      ],
      "metadata": {
        "id": "GH9RWNLSFgHq"
      },
      "execution_count": null,
      "outputs": []
    },
    {
      "cell_type": "code",
      "source": [
        "# Plotting losses and accuracies.\n",
        "plot_training(history)"
      ],
      "metadata": {
        "id": "CiMNjy4xFliI"
      },
      "execution_count": null,
      "outputs": []
    },
    {
      "cell_type": "markdown",
      "source": [
        "## Models Testing"
      ],
      "metadata": {
        "id": "I6gNoTUjPqvL"
      }
    },
    {
      "cell_type": "markdown",
      "source": [
        "### Lightweight MHSA model ($m_1$)"
      ],
      "metadata": {
        "id": "ClULEfjlPu56"
      }
    },
    {
      "cell_type": "code",
      "source": [
        "# Testing the model.\n",
        "y_pred, y_true = test(m_1, test_loader)"
      ],
      "metadata": {
        "id": "gRr29r0ASG8b",
        "colab": {
          "base_uri": "https://localhost:8080/"
        },
        "outputId": "ded7ef90-8c71-4d89-c12c-e7b9963c8c8d"
      },
      "execution_count": 23,
      "outputs": [
        {
          "output_type": "stream",
          "name": "stderr",
          "text": [
            "Testing: 100%|██████████| 313/313 [00:35<00:00,  8.71it/s]\n"
          ]
        }
      ]
    },
    {
      "cell_type": "code",
      "source": [
        "# Classification report.\n",
        "print(classification_report(y_true, y_pred))"
      ],
      "metadata": {
        "id": "g3cCodaVUdpy",
        "colab": {
          "base_uri": "https://localhost:8080/"
        },
        "outputId": "e1e1b549-f4a9-4d92-eda7-93c482746c93"
      },
      "execution_count": 24,
      "outputs": [
        {
          "output_type": "stream",
          "name": "stdout",
          "text": [
            "              precision    recall  f1-score   support\n",
            "\n",
            "           0       0.90      0.90      0.90      1000\n",
            "           1       0.96      0.94      0.95      1000\n",
            "           2       0.86      0.84      0.85      1000\n",
            "           3       0.76      0.77      0.76      1000\n",
            "           4       0.86      0.89      0.88      1000\n",
            "           5       0.82      0.82      0.82      1000\n",
            "           6       0.92      0.92      0.92      1000\n",
            "           7       0.95      0.91      0.93      1000\n",
            "           8       0.93      0.94      0.94      1000\n",
            "           9       0.93      0.93      0.93      1000\n",
            "\n",
            "    accuracy                           0.89     10000\n",
            "   macro avg       0.89      0.89      0.89     10000\n",
            "weighted avg       0.89      0.89      0.89     10000\n",
            "\n"
          ]
        }
      ]
    },
    {
      "cell_type": "markdown",
      "source": [
        "### Standard MHSA model ($m_2$)"
      ],
      "metadata": {
        "id": "Fkjn8hY6P0tX"
      }
    },
    {
      "cell_type": "code",
      "source": [
        "# Testing the model.\n",
        "y_pred, y_true = test(m_2, test_loader)"
      ],
      "metadata": {
        "id": "PbS-9WWnD59a"
      },
      "execution_count": null,
      "outputs": []
    },
    {
      "cell_type": "code",
      "source": [
        "# Classification report.\n",
        "print(classification_report(y_true, y_pred))"
      ],
      "metadata": {
        "id": "kmsQqiWhD_eH"
      },
      "execution_count": null,
      "outputs": []
    },
    {
      "cell_type": "markdown",
      "source": [
        "### No attention model ($m_3$) "
      ],
      "metadata": {
        "id": "Xen_6qHLP4NB"
      }
    },
    {
      "cell_type": "code",
      "source": [
        "# Testing the model.\n",
        "y_pred, y_true = test(m_3, test_loader)"
      ],
      "metadata": {
        "id": "pz98i9pyFnk0"
      },
      "execution_count": null,
      "outputs": []
    },
    {
      "cell_type": "code",
      "source": [
        "# Classification report.\n",
        "print(classification_report(y_true, y_pred))"
      ],
      "metadata": {
        "id": "UHQV3I6gFp2I"
      },
      "execution_count": null,
      "outputs": []
    },
    {
      "cell_type": "markdown",
      "source": [
        "## References <a name=\"references\"></a>"
      ],
      "metadata": {
        "id": "PHqUD8h6Gzb8"
      }
    },
    {
      "cell_type": "markdown",
      "source": [
        "1. Jianyuan Guo, Kai Han, Han Wu, Chang Xu, Yehui Tang, Chunjing Xu and Yunhe Wang. CMT: Convolutional Neural Networks Meet Vision Transformers, 2021. [https://arxiv.org/abs/2107.06263](https://arxiv.org/abs/2107.06263)."
      ],
      "metadata": {
        "id": "mVKK69jfHAuM"
      }
    }
  ]
}