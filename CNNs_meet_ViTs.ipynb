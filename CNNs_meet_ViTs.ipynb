{
  "nbformat": 4,
  "nbformat_minor": 0,
  "metadata": {
    "colab": {
      "provenance": [],
      "collapsed_sections": [
        "BFVvggVfZuN1",
        "rk5IqtHwZyfV",
        "bpKz7V32su2f",
        "axkF_Bd1F_eM",
        "34JWWDLFPwJi",
        "Z3tA4hXcRwt6",
        "GBo9AEepRzjQ",
        "I_el6fkXlEEm",
        "I6gNoTUjPqvL",
        "ClULEfjlPu56",
        "Fkjn8hY6P0tX",
        "Xen_6qHLP4NB",
        "YcLP1vBnmayl",
        "d5MU-6pmrYiq",
        "PHqUD8h6Gzb8"
      ]
    },
    "kernelspec": {
      "name": "python3",
      "display_name": "Python 3"
    },
    "language_info": {
      "name": "python"
    },
    "gpuClass": "standard",
    "accelerator": "GPU"
  },
  "cells": [
    {
      "cell_type": "markdown",
      "source": [
        "<center>\n",
        "    <h1> Machine Learning for Computer Vision</h1>\n",
        "    <h2> Project Work </h2>\n",
        "    <a href=\"mailto:matteo.donati10@studio.unibo.it\">Matteo Donati</a> (ID: 0001032227)\n",
        "</center>\n",
        "\n",
        "<br>"
      ],
      "metadata": {
        "id": "hgXhyNHqFtSo"
      }
    },
    {
      "cell_type": "markdown",
      "source": [
        "The paper by Guo et al. (2021)<sup>[[1]](#references)</sup> proposes the novel CMT architecture for visual recognition. This architecture tries to bring the advantage of transformers to capture long-range dependencies, and of CNNs to extract local information. Indeed, the authors of such paper state that the main problems of transformer-based models, when compared to CNNs, are related to: \n",
        "\n",
        "- the creation of image patches. This practice ignores the fundamental difference between sequence-based NLP tasks and image-based vision tasks, resulting in a non-optimal extraction of local information;\n",
        "\n",
        "- the fact that transformers do not exploit multi-scale and low resolution features due to the fixed patch size. This fact could pose a big challenge to dense prediction tasks such as detection and segmentation.\n",
        "\n",
        "Regarding the different versions of CMT, the authors proposes four different architectures that are obtained using a specific compound scaling strategy, starting from the CMT-S version. This strategy is defined considering a depth $\\alpha^{\\phi}$, a width $\\beta^{\\phi}$ and input resolution $\\gamma^{\\phi}$ in such a way that $\\alpha \\cdot \\beta^{1.5} \\cdot \\gamma^{2} \\approx 2.5$ where $\\alpha \\geq 1, \\beta \\geq 1, \\gamma \\geq 1$. For the  In particular, the following table shows all the possible CMT versions:\n",
        "\n",
        "<br>\n",
        "\n",
        "<center>\n",
        "  <table>\n",
        "    <tr>\n",
        "      <td>Version</td>\n",
        "      <td><center>Input resolution</center></td>\n",
        "      <td><center># Parameters</center></td>\n",
        "      <td><center># FLOPs</center></td>\n",
        "    </tr>\n",
        "    <tr>\n",
        "      <td>CMT-Ti</td>\n",
        "      <td><center>160 &times 160</center></td>\n",
        "      <td><center>9.49M</center></td>\n",
        "      <td><center>0.64B</center></td>\n",
        "    </tr>\n",
        "    <tr>\n",
        "      <td>CMT-XS</td>\n",
        "      <td><center>192 &times 192</center></td>\n",
        "      <td><center>15.24M</center></td>\n",
        "      <td><center>1.54B</center></td>\n",
        "    </tr>\n",
        "    <tr>\n",
        "      <td>CMT-S</td>\n",
        "      <td><center>224 &times 224</center></td>\n",
        "      <td><center>25.14M</center></td>\n",
        "      <td><center>4.04B</center></td>\n",
        "    </tr>\n",
        "    <tr>\n",
        "      <td>CMT-B</td>\n",
        "      <td><center>256 &times 256</center></td>\n",
        "      <td><center>45.72M</center></td>\n",
        "      <td><center>9.33B</center></td>\n",
        "    </tr>\n",
        "  </table>\n",
        "  Table 1: CMT versions\n",
        "</center>\n",
        "\n",
        "<br>\n",
        "\n",
        "Each version of CMT is composed of:\n",
        "\n",
        "- a stem block, used for fine-grained feature extraction and to reduce the dimensionality of the input image;\n",
        "\n",
        "- multiple stacks of CMT blocks that apply lightweight multi-head self-attention by first enhancing local information by means of depthwise convolutions. In particular, there exist one stack of CMT blocks for each possible stage (i.e. scale). In order to produce the hierarchical representation, a patch embedding layer consisting of a convolution and a layer normalization is applied before each stage;\n",
        "\n",
        "- a global average pooling layer, a projection layer and a classification head.\n",
        "\n",
        "This notebook proposes a non-official implementation of the CMT-Ti architecture and studies the capabilities of such architecture by modifying the lightweight attention mechanism used by CMT. Lastly, it compares the computed results with the ones obtained by training, from scratch, a similar network in terms of total number of parameters (namely, ResNet-18)."
      ],
      "metadata": {
        "id": "mXVx3Q1PGpAb"
      }
    },
    {
      "cell_type": "markdown",
      "source": [
        "## Libraries"
      ],
      "metadata": {
        "id": "BFVvggVfZuN1"
      }
    },
    {
      "cell_type": "markdown",
      "source": [
        "The following cells install and import all useful libraries. In particular, the FLOPs count is implemented using the [Flop Counter for PyTorch Models](https://github.com/facebookresearch/fvcore/blob/main/docs/flop_count.md) by Meta Research."
      ],
      "metadata": {
        "id": "7U-Oj3474wyv"
      }
    },
    {
      "cell_type": "code",
      "source": [
        "!pip install -U \"git+https://github.com/facebookresearch/fvcore\""
      ],
      "metadata": {
        "id": "3_nDIeMzeLdV",
        "colab": {
          "base_uri": "https://localhost:8080/"
        },
        "outputId": "4bea5832-a6cf-4438-c7dd-a0d56e15e742"
      },
      "execution_count": 1,
      "outputs": [
        {
          "output_type": "stream",
          "name": "stdout",
          "text": [
            "Looking in indexes: https://pypi.org/simple, https://us-python.pkg.dev/colab-wheels/public/simple/\n",
            "Collecting git+https://github.com/facebookresearch/fvcore\n",
            "  Cloning https://github.com/facebookresearch/fvcore to /tmp/pip-req-build-i3xov6f2\n",
            "  Running command git clone --filter=blob:none --quiet https://github.com/facebookresearch/fvcore /tmp/pip-req-build-i3xov6f2\n",
            "  Resolved https://github.com/facebookresearch/fvcore to commit fd5043ff8b2e6790f5bd7c9632695c68986cc658\n",
            "  Preparing metadata (setup.py) ... \u001b[?25l\u001b[?25hdone\n",
            "Requirement already satisfied: numpy in /usr/local/lib/python3.8/dist-packages (from fvcore==0.1.5) (1.21.6)\n",
            "Collecting yacs>=0.1.6\n",
            "  Downloading yacs-0.1.8-py3-none-any.whl (14 kB)\n",
            "Requirement already satisfied: pyyaml>=5.1 in /usr/local/lib/python3.8/dist-packages (from fvcore==0.1.5) (6.0)\n",
            "Requirement already satisfied: tqdm in /usr/local/lib/python3.8/dist-packages (from fvcore==0.1.5) (4.64.1)\n",
            "Requirement already satisfied: termcolor>=1.1 in /usr/local/lib/python3.8/dist-packages (from fvcore==0.1.5) (2.2.0)\n",
            "Requirement already satisfied: Pillow in /usr/local/lib/python3.8/dist-packages (from fvcore==0.1.5) (7.1.2)\n",
            "Requirement already satisfied: tabulate in /usr/local/lib/python3.8/dist-packages (from fvcore==0.1.5) (0.8.10)\n",
            "Collecting iopath>=0.1.7\n",
            "  Downloading iopath-0.1.10.tar.gz (42 kB)\n",
            "\u001b[2K     \u001b[90m━━━━━━━━━━━━━━━━━━━━━━━━━━━━━━━━━━━━━━━━\u001b[0m \u001b[32m42.2/42.2 KB\u001b[0m \u001b[31m6.1 MB/s\u001b[0m eta \u001b[36m0:00:00\u001b[0m\n",
            "\u001b[?25h  Preparing metadata (setup.py) ... \u001b[?25l\u001b[?25hdone\n",
            "Requirement already satisfied: typing_extensions in /usr/local/lib/python3.8/dist-packages (from iopath>=0.1.7->fvcore==0.1.5) (4.4.0)\n",
            "Collecting portalocker\n",
            "  Downloading portalocker-2.7.0-py2.py3-none-any.whl (15 kB)\n",
            "Building wheels for collected packages: fvcore, iopath\n",
            "  Building wheel for fvcore (setup.py) ... \u001b[?25l\u001b[?25hdone\n",
            "  Created wheel for fvcore: filename=fvcore-0.1.5-py3-none-any.whl size=65314 sha256=97716e7d9bf4a3de781d3fdb877d58a1555c21ad96f1486e143da3bf004a53c5\n",
            "  Stored in directory: /tmp/pip-ephem-wheel-cache-sqxkpr7i/wheels/51/52/07/e1a7fde1786c36d1e4ca408afe8979cfffa255c078f3725d45\n",
            "  Building wheel for iopath (setup.py) ... \u001b[?25l\u001b[?25hdone\n",
            "  Created wheel for iopath: filename=iopath-0.1.10-py3-none-any.whl size=31547 sha256=cd20983202376ea2597a884531a3410bf49427ae6b11c807b4ab65ebe50449fc\n",
            "  Stored in directory: /root/.cache/pip/wheels/89/3e/24/0f349c0b2eeb6965903035f3b00dbb5c9bea437b4a2f18d82c\n",
            "Successfully built fvcore iopath\n",
            "Installing collected packages: yacs, portalocker, iopath, fvcore\n",
            "Successfully installed fvcore-0.1.5 iopath-0.1.10 portalocker-2.7.0 yacs-0.1.8\n"
          ]
        }
      ]
    },
    {
      "cell_type": "code",
      "source": [
        "import numpy as np\n",
        "import random\n",
        "import torch\n",
        "import torch.nn as nn\n",
        "import torchvision\n",
        "from torchvision import datasets\n",
        "from torchvision import transforms as T\n",
        "import multiprocessing as mp\n",
        "from matplotlib import pyplot as plt\n",
        "from fvcore.nn import FlopCountAnalysis, flop_count_str\n",
        "import pickle\n",
        "from tqdm import tqdm\n",
        "from sklearn.metrics import classification_report\n",
        "from mpl_toolkits.axes_grid1.inset_locator import inset_axes\n",
        "from mpl_toolkits.axes_grid1.inset_locator import mark_inset"
      ],
      "metadata": {
        "id": "SA3HZYkVZrxV"
      },
      "execution_count": 2,
      "outputs": []
    },
    {
      "cell_type": "markdown",
      "source": [
        "The `set_producibility` sets the a specific random seed so as to obtain reproducible results. Each model has been trained by first setting the random seed to `0`."
      ],
      "metadata": {
        "id": "3_OsW2Bk5VYH"
      }
    },
    {
      "cell_type": "code",
      "source": [
        "def set_reproducibility(seed):\n",
        "  random.seed(seed)\n",
        "  np.random.seed(seed)\n",
        "  torch.manual_seed(seed)\n",
        "\n",
        "set_reproducibility(0)"
      ],
      "metadata": {
        "id": "Gx8K3KIcgJMI"
      },
      "execution_count": 3,
      "outputs": []
    },
    {
      "cell_type": "markdown",
      "source": [
        "## Data Loading and Preprocessing"
      ],
      "metadata": {
        "id": "rk5IqtHwZyfV"
      }
    },
    {
      "cell_type": "markdown",
      "source": [
        "The following `get_cifar10` and `create_data_loaders` functions download the CIFAR-10 dataset and create proper `DataLoader` objects that can be used to train and test the different models."
      ],
      "metadata": {
        "id": "uyFnThEk-r33"
      }
    },
    {
      "cell_type": "code",
      "source": [
        "# Retrieves the CIFAR10 dataset.\n",
        "def get_cifar10(train_transform = None, test_transform = None):\n",
        "\n",
        "  # Downloading the training set.\n",
        "  train_dataset =  datasets.CIFAR10(\n",
        "    root = \"CIFAR10\",\n",
        "    train = True,\n",
        "    transform = train_transform,\n",
        "    download = True\n",
        "  )\n",
        "\n",
        "  # Downloading the test set.\n",
        "  test_dataset = datasets.CIFAR10(\n",
        "    root = \"CIFAR10\",\n",
        "    train = False,\n",
        "    transform = test_transform,\n",
        "    download = True\n",
        "  )\n",
        "\n",
        "  # Returning the two sets.\n",
        "  return train_dataset, test_dataset\n",
        "\n",
        "# Fuction that creates train, validation and test data loaders.\n",
        "def create_data_loaders(train_transform, \n",
        "                        test_transform, \n",
        "                        img_size = 224, \n",
        "                        split = (0.8, 0.2), \n",
        "                        batch_size = 32, \n",
        "                        num_workers = 1):\n",
        "\n",
        "  # Retrieving CIFAR10.\n",
        "  train_dataset, test_dataset = get_cifar10(train_transform, test_transform)\n",
        "\n",
        "  # Splitting train_dataset to create a validation set.\n",
        "  train_dataset, val_dataset = torch.utils.data.random_split(train_dataset, \n",
        "                                                             (int(len(train_dataset) * split[0]), \n",
        "                                                              int(len(train_dataset) * split[1])))\n",
        "\n",
        "  # Train data loader.\n",
        "  train_loader = torch.utils.data.DataLoader(\n",
        "    train_dataset,\n",
        "    batch_size = batch_size,\n",
        "    shuffle = True,\n",
        "    num_workers = num_workers,\n",
        "    pin_memory = True,\n",
        "    drop_last = True,\n",
        "    sampler = None\n",
        "  )\n",
        "\n",
        "  # Validation data loader.\n",
        "  val_loader = torch.utils.data.DataLoader(\n",
        "    val_dataset,\n",
        "    batch_size = batch_size,\n",
        "    shuffle = False,\n",
        "    num_workers = num_workers,\n",
        "    pin_memory = True,\n",
        "    drop_last = False,\n",
        "    sampler = None\n",
        "  )\n",
        "\n",
        "  # Test data loader.\n",
        "  test_loader = torch.utils.data.DataLoader(\n",
        "    test_dataset,\n",
        "    batch_size = batch_size,\n",
        "    shuffle = False,\n",
        "    num_workers = num_workers,\n",
        "    pin_memory = True,\n",
        "    drop_last = False,\n",
        "    sampler = None\n",
        "  )\n",
        "\n",
        "  # Returning the three data loaders.\n",
        "  return train_loader, val_loader, test_loader"
      ],
      "metadata": {
        "id": "sTkFIuugZxtD"
      },
      "execution_count": null,
      "outputs": []
    },
    {
      "cell_type": "markdown",
      "source": [
        "The training `DataLoader` object include different transformations that are used to augment the training dataset. In particular, the set of transformations include random crops, random flips and random rotations. Each split of the original dataset has been divided using a batch size of $32$.\n",
        "\n",
        "In order to use both CMT-Ti ($160 \\times 160$ input resolution) and ResNet-18 ($224 \\times 224$ input resolution) with $32 \\times 32$ images, all CIFAR-10 images have been transformed into $224 \\times 224$ images using bilinear interpolation. The original paper states that CIFAR-10 images have been upsampled to the input resolution of the CMT architecture, but does not specify how to upsample them.\n",
        "\n",
        "Lastly, the channels of all images are normalized using `[0.491, 0.482, 0.447]` and `[0.247, 0.243, 0.262]` ([Correct Normalization Values for CIFAR-10](https://github.com/kuangliu/pytorch-cifar/issues/19)) as means and standard deviations of the three channels."
      ],
      "metadata": {
        "id": "UvJjDBAu_IjX"
      }
    },
    {
      "cell_type": "code",
      "source": [
        "# Training transformations.\n",
        "train_transform = T.Compose([\n",
        "    T.RandomCrop(32, padding = 4),\n",
        "    T.RandomHorizontalFlip(),\n",
        "    T.RandomRotation(10),\n",
        "    T.Resize(224),\n",
        "    T.ToTensor(),\n",
        "    T.Normalize(mean = [0.491, 0.482, 0.447], std = [0.247, 0.243, 0.262])\n",
        "])\n",
        "\n",
        "# Test transformations.\n",
        "test_transform = T.Compose([\n",
        "    T.Resize(224),\n",
        "    T.ToTensor(),\n",
        "    T.Normalize(mean = [0.491, 0.482, 0.447], std = [0.247, 0.243, 0.262])\n",
        "])\n",
        "\n",
        "# Creating data loaders.\n",
        "train_loader, val_loader, test_loader = create_data_loaders(\n",
        "    train_transform,\n",
        "    test_transform,\n",
        "    img_size = 224,\n",
        "    batch_size = 32,\n",
        "    num_workers = mp.cpu_count()\n",
        ")"
      ],
      "metadata": {
        "id": "2-yP8OHGhPuE",
        "colab": {
          "base_uri": "https://localhost:8080/",
          "referenced_widgets": [
            "253664b2bd1a496ab97c2d67cf395c54",
            "ab58c6cf16cb4078897fd06587a4f8ef",
            "2cd0a00c77f04146bef21f700d220496",
            "abeeb6ebc4eb4ab083ef7bdde6376c11",
            "2edbe51b69b64a949871fae39b1d9441",
            "55564fde976d4dac908e02a321706264",
            "f5bb6080dbe141d4b9a28a70d7cf1e43",
            "58acd7959a9c4cb793c769007bf8b762",
            "6047430681af4f6e800a0990f9c2781b",
            "37122792141e4db7820f2c10a9c8ef43",
            "102ac422e59f446e8888a51d10a36023"
          ]
        },
        "outputId": "4e992265-c7e3-4958-e496-54327bec0fd2"
      },
      "execution_count": null,
      "outputs": [
        {
          "output_type": "stream",
          "name": "stdout",
          "text": [
            "Downloading https://www.cs.toronto.edu/~kriz/cifar-10-python.tar.gz to CIFAR10/cifar-10-python.tar.gz\n"
          ]
        },
        {
          "output_type": "display_data",
          "data": {
            "text/plain": [
              "  0%|          | 0/170498071 [00:00<?, ?it/s]"
            ],
            "application/vnd.jupyter.widget-view+json": {
              "version_major": 2,
              "version_minor": 0,
              "model_id": "253664b2bd1a496ab97c2d67cf395c54"
            }
          },
          "metadata": {}
        },
        {
          "output_type": "stream",
          "name": "stdout",
          "text": [
            "Extracting CIFAR10/cifar-10-python.tar.gz to CIFAR10\n",
            "Files already downloaded and verified\n"
          ]
        }
      ]
    },
    {
      "cell_type": "markdown",
      "source": [
        "## Models Definition and Training"
      ],
      "metadata": {
        "id": "bpKz7V32su2f"
      }
    },
    {
      "cell_type": "markdown",
      "source": [
        "This section includes all utility classes and functions used to define and train the CMT and ResNet-18 models. In particular, the four models have been named as follows:\n",
        "\n",
        "<br>\n",
        "\n",
        "<center>\n",
        "  <table>\n",
        "    <tr>\n",
        "      <td><center>Name</center></td>\n",
        "      <td><center>Architecture</center></td>\n",
        "      <td>Characteristics</td>\n",
        "    </tr>\n",
        "    <tr>\n",
        "      <td><center><i>m</i><sub>1</sub></center></td>\n",
        "      <td><center>CMT</center></td>\n",
        "      <td>CMT-Ti with lightweight multi-head self-attention</td>\n",
        "    </tr>\n",
        "    <tr>\n",
        "      <td><center><i>m</i><sub>2</sub></center></td>\n",
        "      <td><center>CMT</center></td>\n",
        "      <td>CMT-Ti with standard multi-head self-attention</td>\n",
        "    </tr>\n",
        "    <tr>\n",
        "      <td><center><i>m</i><sub>3</sub></center></td>\n",
        "      <td><center>CMT</center></td>\n",
        "      <td>CMT-Ti without multi-head self-attention</td>\n",
        "    </tr>\n",
        "    <tr>\n",
        "      <td><center><i>m</i><sub>4</sub></center></td>\n",
        "      <td><center>ResNet</center></td>\n",
        "      <td>ResNet-18</td>\n",
        "    </tr>\n",
        "  </table>\n",
        "  Table 2: Models\n",
        "</center>\n",
        "\n",
        "<br>\n",
        "\n",
        "The design of the original CMT architecture is the following:\n",
        "\n",
        "<center>\n",
        "  <br>\n",
        "  <a href=\"https://ibb.co/4mxVkns\"><img src=\"https://i.ibb.co/znw4dT8/CMT.png\" alt=\"CMT\" border=\"0\"></a><br>\n",
        "  Figure 1: CMT-S\n",
        "  <br>\n",
        "</center>\n",
        "\n",
        "Differently from what is shown in figure 1, CMT-Ti has a different number of CMT blocks for each stage.\n",
        "\n",
        "Before training each model, the number of parameters and FLOPs are computed and printed. Regarding training, the four models are trained using the same training procedure. This procedure is defined by the following hyperparameters:\n",
        "\n",
        "- a number of epochs equal to $25$;\n",
        "- the cross-entropy loss function;\n",
        "- the AdamW optimizer with weight decay of $1e$$-5$;\n",
        "- an initial learning rate of $6e$$-5$;\n",
        "- a cosine annealing learning rate schedule."
      ],
      "metadata": {
        "id": "2I1_xOUN0zXH"
      }
    },
    {
      "cell_type": "markdown",
      "source": [
        "### Utilities"
      ],
      "metadata": {
        "id": "axkF_Bd1F_eM"
      }
    },
    {
      "cell_type": "code",
      "source": [
        "# Choosing between GPU and CPU.\n",
        "device = torch.device(\"cuda\" if torch.cuda.is_available() else \"cpu\")"
      ],
      "metadata": {
        "id": "oaT-QCAapgdk"
      },
      "execution_count": null,
      "outputs": []
    },
    {
      "cell_type": "markdown",
      "source": [
        "The stem block of CMT performs fine-grained feature extraction on the generic input image. In particular, this block is composed of:\n",
        "\n",
        "- a $3 \\times 3$ convolutional layer with $16$ kernels and stride $2$, followed by GELU activation and batch-normalization;\n",
        "\n",
        "- two $3 \\times 3$ convolutional layers with $16$ kernels, both followed by GELU activation and batch-normalization."
      ],
      "metadata": {
        "id": "-qZ4-HEz5BSr"
      }
    },
    {
      "cell_type": "code",
      "source": [
        "# Stem module of the CMT architecture.\n",
        "class Stem(nn.Module):\n",
        "    \n",
        "  # Constructor.\n",
        "  def __init__(self, in_channels, out_channels):\n",
        "\n",
        "    super().__init__()\n",
        "\n",
        "    # Conv 3 x 3, stride 2.\n",
        "    self.conv1 = nn.Conv2d(in_channels, out_channels, kernel_size = 3, stride = 2, padding = 1)\n",
        "    self.bn1 = nn.BatchNorm2d(out_channels)\n",
        "\n",
        "    # Conv 3 x 3. \n",
        "    self.conv2 = nn.Conv2d(out_channels, out_channels, kernel_size = 3, stride = 1, padding = 1)\n",
        "    self.bn2 = nn.BatchNorm2d(out_channels)\n",
        "\n",
        "    # Conv 3 x 3.\n",
        "    self.conv3 = nn.Conv2d(out_channels, out_channels, kernel_size = 3, stride = 1, padding = 1)\n",
        "    self.bn3 = nn.BatchNorm2d(out_channels)\n",
        "\n",
        "    # GELU activation.\n",
        "    self.gelu = nn.GELU()\n",
        "\n",
        "  # Forward pass.\n",
        "  def forward(self, x):\n",
        "    x = self.conv1(x)\n",
        "    x = self.gelu(x)\n",
        "    x = self.bn1(x)\n",
        "    x = self.conv2(x)\n",
        "    x = self.gelu(x)\n",
        "    x = self.bn2(x)\n",
        "    x = self.conv3(x)\n",
        "    x = self.gelu(x)\n",
        "    y = self.bn3(x)\n",
        "    return y"
      ],
      "metadata": {
        "id": "bAsbc7UBsoy3"
      },
      "execution_count": null,
      "outputs": []
    },
    {
      "cell_type": "markdown",
      "source": [
        "The patch embedding layer of CMT is able to produce hierarchical representations (namely, feature maps at different scales) by means of:\n",
        "\n",
        "- a $2 \\times 2$ convolutional layer that uses a number of kernels $C_{out} \\in \\{46, 92, 184, 368\\}$, depending on the stage at which is applied, and stride $2$;\n",
        "\n",
        "- layer normalization."
      ],
      "metadata": {
        "id": "FCU5eHCJybpx"
      }
    },
    {
      "cell_type": "code",
      "source": [
        "# Patch embedding module of the CMT architecture.\n",
        "class PatchEmbedding(nn.Module):\n",
        "\n",
        "  # Constructor.\n",
        "  def __init__(self, in_channels, out_channels):\n",
        "\n",
        "    super().__init__()\n",
        "\n",
        "    # Conv 2 x 2, stride 2.\n",
        "    self.conv = nn.Conv2d(in_channels, out_channels, kernel_size = 2, stride = 2, padding = 0)\n",
        "\n",
        "  # Forward pass.\n",
        "  def forward(self, x):\n",
        "    x = self.conv(x)\n",
        "    _, c, h, w = x.size()\n",
        "    y = torch.nn.functional.layer_norm(x, (c, h, w))\n",
        "    return y"
      ],
      "metadata": {
        "id": "7BVXE1Jw0HoY"
      },
      "execution_count": null,
      "outputs": []
    },
    {
      "cell_type": "markdown",
      "source": [
        "As stated by the authors of the original paper, vision transformers ignore the local relation and the structure information inside each patch. The main goal of the local perception unit ($\\text{LPU}$) is to extract local information from the input signal. This block is implemented as\n",
        "\n",
        "\\begin{equation}\n",
        "  \\text{LPU}(\\mathbf{X}) = \\text{DWConv}(\\mathbf{X}) + \\mathbf{X}\n",
        "\\end{equation}\n",
        "\n",
        "where $\\text{DWConv}(\\cdot)$ denotes depthwise convolution (i.e. grouped convolution). In particular, depthwise convolution is implemented by a $3 \\times 3$ convolutional layer that uses a number of kernels $C_{out} \\in \\{46, 92, 184, 368\\}$, depending on the stage at which is applied, and $G = C_{in}$."
      ],
      "metadata": {
        "id": "kmLbFqaJ0gAD"
      }
    },
    {
      "cell_type": "code",
      "source": [
        "# Local Perception Unit: LPU(X) = DWConv(X) + X.\n",
        "class LPU(nn.Module):\n",
        "\n",
        "  # Constructor.\n",
        "  def __init__(self, in_channels, out_channels):\n",
        "\n",
        "    super().__init__()\n",
        "\n",
        "    # Depthwise convolution.\n",
        "    self.dwconv = nn.Conv2d(in_channels, out_channels, kernel_size = 3, stride = 1, padding = 1, groups = in_channels)\n",
        "\n",
        "  # Forward pass.\n",
        "  def forward(self, x):\n",
        "    y = self.dwconv(x) + x\n",
        "    return y"
      ],
      "metadata": {
        "id": "OFDPglv5iNZ1"
      },
      "execution_count": null,
      "outputs": []
    },
    {
      "cell_type": "markdown",
      "source": [
        "Given an input tensor $\\mathbf{X} \\in \\mathbb{R}^{n \\times d}$ where $n = H \\times W$, the standard self-attention module computes the queries $\\mathbf{Q} \\in \\mathbb{R}^{n \\times d_k}$, the keys $\\mathbf{K} \\in \\mathbb{R}^{n \\times d_k}$ and the values $\\mathbf{V} \\in \\mathbb{R}^{n \\times d_v}$ using three different dense layers ($W^Q$, $W^K$, $W^V$) so as to produce three different linear projections of $\\mathbf{X}$. The output of the self-attention module is computed as:\n",
        "\n",
        "\\begin{equation}\n",
        "  \\text{Attention}(\\mathbf{Q}, \\mathbf{K}, \\mathbf{V}) = \\text{Softmax} \\left( \\frac{\\mathbf{Q} \\mathbf{K}^T}{\\sqrt{d_k}} \\right) \\mathbf{V}\n",
        "\\end{equation}\n",
        "\n",
        "Moreover, the multi-head self-attention module ($\\text{MHSA}$) is defined by $h$ different heads, where each head $head_i$ applies the self-attention operation described above. The output of the multi-head self-attention module is computed as:\n",
        "\n",
        "\\begin{equation}\n",
        "  \\text{MultiHead}(\\mathbf{Q}, \\mathbf{K}, \\mathbf{V}) = \\text{Concat}(head_1, \\dots, head_h) W^O\n",
        "\\end{equation}\n",
        "\n",
        "where $W^O$ is implemented through a final dense layer."
      ],
      "metadata": {
        "id": "fpBdSfvw3HMe"
      }
    },
    {
      "cell_type": "code",
      "source": [
        "# Standard Multi-Head-Self-Attention.\n",
        "class MHSA(nn.Module):\n",
        "    \n",
        "  # Constructor.\n",
        "  def __init__(self, d, d_k, d_v, heads):\n",
        "\n",
        "    super().__init__()\n",
        "\n",
        "    # Projection matrices.\n",
        "    self.fc_q = nn.Linear(d, heads * d_k)\n",
        "    self.fc_k = nn.Linear(d, heads * d_k)\n",
        "    self.fc_v = nn.Linear(d, heads * d_v)\n",
        "    self.fc_o = nn.Linear(heads * d_k, d)\n",
        "\n",
        "    self.d = d\n",
        "    self.d_k = d_k\n",
        "    self.d_v = d_v\n",
        "    self.heads = heads\n",
        "    \n",
        "  # Forward pass.\n",
        "  def forward(self, x):\n",
        "\n",
        "    # Extracting shape from input signal.\n",
        "    b, c, h, w = x.shape\n",
        "\n",
        "    # Layer normalization.\n",
        "    x_norm = nn.functional.layer_norm(x, [c, h, w])\n",
        "\n",
        "    # Reshaping and permuting x. Final shape is (b, h * w, c).\n",
        "    x_reshape = x_norm.view(b, c, h * w).permute(0, 2, 1)\n",
        "\n",
        "    # Getting queries by applying the fc_q linear projection.\n",
        "    q = self.fc_q(x_reshape)\n",
        "\n",
        "    # Reshaping and permuting the queries. Final shape is (b, heads, n = h * w, d_k). \n",
        "    q = q.view(b, h * w, self.heads, self.d_k).permute(0, 2, 1, 3).contiguous()\n",
        "\n",
        "    # Projecting through fc_k.\n",
        "    k = self.fc_k(x_reshape)\n",
        "\n",
        "    # Reshaping and permuting the keys. Final shape is (b, heads, h * w, d_k).\n",
        "    k = k.view(b, h * w, self.heads, self.d_k).permute(0, 2, 1, 3).contiguous()\n",
        "\n",
        "    # Projecting through fc_v.\n",
        "    v = self.fc_v(x_reshape)\n",
        "\n",
        "    # Reshaping and permuting the keys. Final shape is (b, heads, h * w, d_v).\n",
        "    v = v.view(b, h * w, self.heads, self.d_v).permute(0, 2, 1, 3).contiguous()\n",
        "\n",
        "    # Computing softmax((Q K^T) / sqrt(d_k)).\n",
        "    attention = torch.einsum(\"... i d, ... j d -> ... i j\", q, k) * (self.d_k ** -0.5)\n",
        "    attention = torch.softmax(attention, dim = -1)\n",
        "\n",
        "    # Applying attention scores to values by taking the dot product.\n",
        "    tmp = torch.matmul(attention, v).permute(0, 2, 1, 3)\n",
        "\n",
        "    # Permuting the result. Final shape is (b, n = h * w, heads, d_v).\n",
        "    tmp = tmp.contiguous().view(b, h * w, self.heads * self.d_v)\n",
        "\n",
        "    # Projecting using fc_o and reshaping. Final shape is (b, c, h, w).\n",
        "    tmp = self.fc_o(tmp).view(b, self.d, h, w)\n",
        "\n",
        "    # Returning tmp + x (skip connection).\n",
        "    return tmp + x"
      ],
      "metadata": {
        "id": "Hdl8rdu8lb-A"
      },
      "execution_count": null,
      "outputs": []
    },
    {
      "cell_type": "markdown",
      "source": [
        "To reduce the computational complexity of the standard multi-head self-attention module, the lightweight version of the self-attention operation is defined as follows:\n",
        "\n",
        "\\begin{equation}\n",
        "  \\text{LightAttention}(\\mathbf{Q}, \\mathbf{K}, \\mathbf{V}) = \\text{Softmax} \\left( \\frac{\\mathbf{Q} \\mathbf{K}'^T}{\\sqrt{d_k}} + \\mathbf{B} \\right) \\mathbf{V'}\n",
        "\\end{equation}\n",
        "\n",
        "where $K' \\in \\mathbb{R}^{\\frac{n}{k^2} \\times d_k}$ and $V' \\in \\mathbb{R}^{\\frac{n}{k^2} \\times d_v}$ are computed from $K$ and $V$ by means of $k \\times k$ depthwise convolutions with stride $k$. This allows one to reduce the spatial resolution of keys and values before applying the self-attention operation. In addition to this, a relative position bias $\\mathbf{B} \\in \\mathbb{R}^{n \\times \\frac{n}{k^2}}$ is added to each lightweight self-attention module. \n",
        "\n",
        "Lastly, as in the case of $\\text{MHSA}$, the lightweight multi-head self-attention module ($\\text{LMHSA}$) is defined by $h$ different heads, whose outputs are concatenated and passed through a final dense layer."
      ],
      "metadata": {
        "id": "VXck0fK83IAU"
      }
    },
    {
      "cell_type": "code",
      "source": [
        "# Lightweight Multi-Head-Self-Attention.\n",
        "class LMHSA(nn.Module):\n",
        "    \n",
        "  # Constructor.\n",
        "  def __init__(self, input_size, d, d_k, d_v, stride, heads):\n",
        "\n",
        "    super().__init__()\n",
        "\n",
        "    # Depthwise convolutions.\n",
        "    self.dwconv = nn.Conv2d(d, d, kernel_size = stride, stride = stride, groups = d)\n",
        "\n",
        "    # Projection matrices.\n",
        "    self.fc_q = nn.Linear(d, heads * d_k)\n",
        "    self.fc_k = nn.Linear(d, heads * d_k)\n",
        "    self.fc_v = nn.Linear(d, heads * d_v)\n",
        "    self.fc_o = nn.Linear(heads * d_k, d)\n",
        "\n",
        "    self.d = d\n",
        "    self.d_k = d_k\n",
        "    self.d_v = d_v\n",
        "    self.heads = heads\n",
        "\n",
        "    # Relative position bias to each self-attention module. Shape is n x n/k^2, where n = h * w.\n",
        "    self.B = nn.Parameter(torch.randn(1, self.heads, input_size ** 2, (input_size // stride) ** 2), requires_grad = True)\n",
        "    \n",
        "  # Forward pass.\n",
        "  def forward(self, x):\n",
        "\n",
        "    # Extracting shape from input signal.\n",
        "    b, c, h, w = x.shape\n",
        "\n",
        "    # Layer normalization.\n",
        "    x_norm = nn.functional.layer_norm(x, [c, h, w])\n",
        "\n",
        "    # Reshaping and permuting x. Final shape is (b, h * w, c).\n",
        "    x_reshape = x_norm.view(b, c, h * w).permute(0, 2, 1)\n",
        "\n",
        "    # Getting queries by applying the fc_q linear projection.\n",
        "    q = self.fc_q(x_reshape)\n",
        "\n",
        "    # Reshaping and permuting the queries. Final shape is (b, heads, n = h * w, d_k). \n",
        "    q = q.view(b, h * w, self.heads, self.d_k).permute(0, 2, 1, 3).contiguous()\n",
        "\n",
        "    # Applying depthwise conv to x.\n",
        "    k = self.dwconv(x)\n",
        "\n",
        "    # Extracting shape of keys.\n",
        "    k_b, k_c, k_h, k_w = k.shape\n",
        "\n",
        "    # Reshaping and permuting keys. Final shape is (k_b, k_h * k_w, k_c).\n",
        "    k = k.view(k_b, k_c, k_h * k_w).permute(0, 2, 1).contiguous()\n",
        "\n",
        "    # Projecting through fc_k.\n",
        "    k = self.fc_k(k)\n",
        "\n",
        "    # Reshaping and permuting the keys. Final shape is (k_b, heads, k_h * k_w, d_k).\n",
        "    k = k.view(k_b, k_h * k_w, self.heads, self.d_k).permute(0, 2, 1, 3).contiguous()\n",
        "\n",
        "    # Applying depthwise conv to x.\n",
        "    v = self.dwconv(x)\n",
        "\n",
        "    # Extracting shape of values.\n",
        "    v_b, v_c, v_h, v_w = v.shape\n",
        "\n",
        "    # Reshaping and permuting values. Final shape is (v_b, v_h * v_w, v_c).\n",
        "    v = v.view(v_b, v_c, v_h * v_w).permute(0, 2, 1).contiguous()\n",
        "\n",
        "    # Projecting through fc_v.\n",
        "    v = self.fc_v(v)\n",
        "\n",
        "    # Reshaping and permuting the keys. Final shape is (v_b, heads, v_h * v_w, d_v).\n",
        "    v = v.view(v_b, v_h * v_w, self.heads, self.d_v).permute(0, 2, 1, 3).contiguous()\n",
        "\n",
        "    # Computing softmax((Q K'^T) / sqrt(d_k) + B).\n",
        "    attention = torch.einsum(\"... i d, ... j d -> ... i j\", q, k) * (self.d_k ** -0.5)\n",
        "    attention = attention + self.B\n",
        "    attention = torch.softmax(attention, dim = -1)\n",
        "\n",
        "    # Applying attention scores to values by taking the dot product.\n",
        "    tmp = torch.matmul(attention, v).permute(0, 2, 1, 3)\n",
        "\n",
        "    # Permuting the result. Final shape is (b, n = h * w, heads, d_v).\n",
        "    tmp = tmp.contiguous().view(b, h * w, self.heads * self.d_v)\n",
        "\n",
        "    # Projecting using fc_o and reshaping. Final shape is (b, c, h, w).\n",
        "    tmp = self.fc_o(tmp).view(b, self.d, h, w)\n",
        "\n",
        "    # Returning tmp + x (skip connection).\n",
        "    return tmp + x"
      ],
      "metadata": {
        "id": "mwVBiJHhlUY0"
      },
      "execution_count": null,
      "outputs": []
    },
    {
      "cell_type": "markdown",
      "source": [
        "The inverted residual feed-forward network ($\\text{IRFFN}$) of CMT appears similar to an inverted residual block. This block consists of an expansion layer, a depthwise convolutional layer, and a compression layer:\n",
        "\n",
        "\\begin{align}\n",
        "  \\text{IRFFN}(\\mathbf{X}) &= \\text{Conv}(\\mathcal{F}(\\text{Conv}(\\mathbf{X}))), \\\\\n",
        "  \\mathcal{F}(\\mathbf{X}) &= \\text{DWConv}(\\mathbf{X}) + \\mathbf{X}\n",
        "\\end{align}\n",
        "\n",
        "where the activation layer is omitted. In particular, this block uses a reduction factor $R = 3.6$. Moreover:\n",
        "\n",
        "- the exapension layer uses $1 \\times 1$ convolutional layers with a number of kernels $C_{out} = C_{in} \\cdot R$;\n",
        "\n",
        "- the depthwise convolutional layer uses $3 \\times 3$ kernels, with $C_{out} = C_{in}$, and $G = C_{in}$;\n",
        "\n",
        "- the reduction layer uses $1 \\times 1$ convolutional layers with a number of kernels $C_{out} = C_{in} \\cdot \\frac{1}{R}$.\n",
        "\n",
        "Lastly, each layer is followed by GELU activation and batch-normalization."
      ],
      "metadata": {
        "id": "AY_MMg3l3XtN"
      }
    },
    {
      "cell_type": "code",
      "source": [
        "# Inverted Residual Feed-forward Network: IRFFN(X) = Conv(F(Conv(X))), F(X) = DWConv(X) + X.\n",
        "class IRFFN(nn.Module):\n",
        "\n",
        "  # Constructor.\n",
        "  def __init__(self, in_channels, R):\n",
        "\n",
        "    super().__init__()\n",
        "\n",
        "    # Number of channels after expansion.\n",
        "    out_channels = int(in_channels * R)\n",
        "\n",
        "    # Conv 1 x 1.\n",
        "    self.conv1 = nn.Conv2d(in_channels, out_channels, kernel_size = 1)\n",
        "    self.bn1 = nn.BatchNorm2d(out_channels)\n",
        "\n",
        "    # Depthwise convolution.\n",
        "    self.dwconv = nn.Conv2d(out_channels, out_channels, kernel_size = 3, stride = 1, padding = 1, groups = out_channels)\n",
        "    self.bn2 = nn.BatchNorm2d(out_channels)\n",
        "\n",
        "    # Conv 1 x 1.\n",
        "    self.conv2 = nn.Conv2d(out_channels, in_channels, kernel_size = 1)\n",
        "    self.bn3 = nn.BatchNorm2d(in_channels)\n",
        "\n",
        "    # GELU activation.\n",
        "    self.gelu = nn.GELU()\n",
        "\n",
        "  # Forward pass.\n",
        "  def forward(self, x):\n",
        "    b, c, h, w = x.shape\n",
        "    tmp = nn.functional.layer_norm(x, [c, h, w])\n",
        "    tmp = self.conv1(tmp)\n",
        "    tmp = self.bn1(tmp)\n",
        "    tmp = self.gelu(tmp)\n",
        "    tmp = self.dwconv(tmp)\n",
        "    tmp = self.bn2(tmp)\n",
        "    tmp = self.gelu(tmp)\n",
        "    tmp = self.conv2(tmp)\n",
        "    tmp = self.bn3(tmp)\n",
        "    y = x + tmp\n",
        "    return y"
      ],
      "metadata": {
        "id": "WQRfI_lQlYoa"
      },
      "execution_count": null,
      "outputs": []
    },
    {
      "cell_type": "markdown",
      "source": [
        "The CMT block is a composition of the $\\text{LPU}$, $\\text{(L)MHSA}$ and $\\text{IRFFN}$ layers:\n",
        "\n",
        "\\begin{align}\n",
        "  \\mathbf{Y}_i &= \\text{LPU}(\\mathbf{X}_{i - 1}), \\\\\n",
        "  \\mathbf{Z}_i &= \\text{(L)MHSA}(\\text{LN}(\\mathbf{Y}_i)) + \\mathbf{Y}_i, \\\\\n",
        "  \\mathbf{X}_i &= \\text{IRFFN}(\\text{LN}(\\mathbf{Z}_i)) + \\mathbf{Z}_i\n",
        "\\end{align}\n",
        "\n",
        "where $\\mathbf{Y}_i$ and $\\mathbf{Z}_i$ represent the output features of the $\\text{LPU}$ and $\\text{(L)MHSA}$ module for the $i$-th block, respectively, and $\\text{LN}$ represents layer normalization.\n",
        "\n",
        "In this implementation, the `CMTBlock` class is defined in such a way to consider either lightweight multi-head self-attention, standard lightweight multi-head self-attention, or no attention at all."
      ],
      "metadata": {
        "id": "84sIPbODCDkM"
      }
    },
    {
      "cell_type": "code",
      "source": [
        "# CMT block of the CMT architecture.\n",
        "class CMTBlock(nn.Module):\n",
        "\n",
        "  # Constructor.\n",
        "  def __init__(self, input_size, k, d_k, d_v, heads, R, channels, attention_type):\n",
        "\n",
        "    super().__init__()\n",
        "\n",
        "    # Local Perception Unit.\n",
        "    self.lpu = LPU(channels, channels)\n",
        "\n",
        "    # Lightweight MHSA.\n",
        "    if attention_type == \"light\":\n",
        "      self.mhsa = LMHSA(input_size, channels, d_k, d_v, k, heads)\n",
        "    \n",
        "    # Standard MHSA.\n",
        "    elif attention_type == \"standard\":\n",
        "      self.mhsa = MHSA(channels, d_k, d_v, heads)\n",
        "    \n",
        "    # No attention.\n",
        "    else:\n",
        "      self.mhsa = None\n",
        "\n",
        "    # Inverted Residual FFN.\n",
        "    self.irffn = IRFFN(channels, R)\n",
        "\n",
        "  # Forward pass.\n",
        "  def forward(self, x):\n",
        "    x = self.lpu(x)\n",
        "    if self.mhsa != None: \n",
        "      x = self.mhsa(x)\n",
        "    y = self.irffn(x)\n",
        "    return y"
      ],
      "metadata": {
        "id": "sGf0VE9hhtVh"
      },
      "execution_count": null,
      "outputs": []
    },
    {
      "cell_type": "markdown",
      "source": [
        "The CMT network is implemented by means of the following `CMT` class. This class creates and composes the stem, the patch embedding, and CMT blocks, while also adding the global average pooling, the projection, and the final classification head. In particular:\n",
        "\n",
        "- the projection layer is a $1 \\times 1$ convolutional layer that uses $C_{out} = 1280$ kernels.\n",
        "\n",
        "- the final classifier is a fully connected layer with $10$ output neurons."
      ],
      "metadata": {
        "id": "ueJbT4h82VLF"
      }
    },
    {
      "cell_type": "code",
      "source": [
        "# CMT architecture.\n",
        "class CMT(nn.Module):\n",
        "\n",
        "  # Constructor.\n",
        "  def __init__(self, in_channels, stem_channels, channels, block_layers, k, heads, R, input_size, classes, attention_type):\n",
        "\n",
        "    super(CMT, self).__init__()\n",
        "\n",
        "    # Stem layer\n",
        "    self.stem = Stem(in_channels, stem_channels)\n",
        "\n",
        "    # Patch Aggregation Layer\n",
        "    self.pe1 = PatchEmbedding(stem_channels, channels[0])\n",
        "    self.pe2 = PatchEmbedding(channels[0], channels[1])\n",
        "    self.pe3 = PatchEmbedding(channels[1], channels[2])\n",
        "    self.pe4 = PatchEmbedding(channels[2], channels[3])\n",
        "\n",
        "    # Stages.\n",
        "    stage1 = [CMTBlock(input_size // 4, k[0], channels[0], channels[0], heads[0], R, channels[0], attention_type) for _ in range(block_layers[0])]\n",
        "    stage2 = [CMTBlock(input_size // 8, k[1], channels[1] // 2, channels[1] // 2, heads[1], R, channels[1], attention_type) for _ in range(block_layers[1])]\n",
        "    stage3 = [CMTBlock(input_size // 16, k[2], channels[2] // 4, channels[2] // 4, heads[2], R, channels[2], attention_type) for _ in range(block_layers[2])]\n",
        "    stage4 = [CMTBlock(input_size // 32, k[3], channels[3] // 8, channels[3] // 8, heads[3], R, channels[3], attention_type) for _ in range(block_layers[3])]\n",
        "\n",
        "    self.stage1 = nn.Sequential(*stage1)\n",
        "    self.stage2 = nn.Sequential(*stage2)\n",
        "    self.stage3 = nn.Sequential(*stage3)\n",
        "    self.stage4 = nn.Sequential(*stage4)\n",
        "\n",
        "    # Global average pooling.\n",
        "    self.avg_pool = nn.AdaptiveAvgPool2d(1)\n",
        "\n",
        "    # Projection layer.\n",
        "    self.projection = nn.Sequential(\n",
        "      nn.Conv2d(channels[3], 1280, kernel_size = 1),\n",
        "      nn.ReLU(inplace = True),\n",
        "    )\n",
        "\n",
        "    # Classifier.\n",
        "    self.classifier = nn.Linear(1280, classes)\n",
        "\n",
        "  # Forward pass.\n",
        "  def forward(self, x):\n",
        "    x = self.stem(x)\n",
        "    x = self.pe1(x)\n",
        "    x = self.stage1(x)\n",
        "    x = self.pe2(x)\n",
        "    x = self.stage2(x)\n",
        "    x = self.pe3(x)\n",
        "    x = self.stage3(x)\n",
        "    x = self.pe4(x)\n",
        "    x = self.stage4(x)\n",
        "    x = self.avg_pool(x)\n",
        "    x = self.projection(x)\n",
        "    x = torch.flatten(x, 1)\n",
        "    y = self.classifier(x)\n",
        "    return y"
      ],
      "metadata": {
        "id": "yJrsQh-9nZYH"
      },
      "execution_count": null,
      "outputs": []
    },
    {
      "cell_type": "markdown",
      "source": [
        "Lastly, the `train` function is defined. This function trains a given model and returns back the training history of such model."
      ],
      "metadata": {
        "id": "JWtIitY_6dFZ"
      }
    },
    {
      "cell_type": "code",
      "source": [
        "# Trains the model.\n",
        "def train(model, optimizer, scheduler, loss_fn, train_loader, val_loader, epochs, device = \"cuda\", history = None):\n",
        "\n",
        "  # Metrics.\n",
        "  if history == None: \n",
        "    history = {\"train_loss\": [], \"train_accuracy\": [], \"val_loss\": [], \"val_accuracy\": [], \"lr\": []}\n",
        "\n",
        "  # Iterating over epochs.\n",
        "  for epoch in range(epochs):\n",
        "\n",
        "    print(\"Epoch %2d/%2d:\" % (epoch + 1, epochs))\n",
        "\n",
        "    # Training.\n",
        "    model.train()\n",
        "\n",
        "    # Metrics\n",
        "    train_loss = 0.0\n",
        "    num_train_correct = 0\n",
        "    num_train_examples = 0\n",
        "\n",
        "    # Iterating over mini-batches.\n",
        "    for batch in tqdm(train_loader, desc = \"Training\", position = 0):\n",
        "\n",
        "      # Gradient reset.\n",
        "      optimizer.zero_grad()\n",
        "\n",
        "      # Moving x and y to GPU.\n",
        "      x = batch[0].to(device)\n",
        "      y = batch[1].to(device)\n",
        "\n",
        "      # Predictions.\n",
        "      yhat = model(x)\n",
        "\n",
        "      # Loss.\n",
        "      loss = loss_fn(yhat, y)\n",
        "\n",
        "      # Computing the gradient.\n",
        "      loss.backward()\n",
        "\n",
        "      # Updating the parameters.\n",
        "      optimizer.step()\n",
        "\n",
        "      # Updating the metrics.\n",
        "      train_loss += loss.item() * x.shape[0]\n",
        "      num_train_correct += (torch.argmax(yhat, 1) == y).sum().item()\n",
        "      num_train_examples += x.shape[0]\n",
        "\n",
        "    # Computing the epoch's metrics.\n",
        "    train_accuracy = num_train_correct / num_train_examples\n",
        "    train_loss = train_loss / len(train_loader.dataset)\n",
        "\n",
        "    # Saving learning rate.\n",
        "    lr = scheduler.get_last_lr()[0]\n",
        "\n",
        "    # Updating the learning rate.\n",
        "    scheduler.step()\n",
        "\n",
        "    # Validation.\n",
        "    model.eval()\n",
        "\n",
        "    # Metrics.\n",
        "    val_loss = 0.0\n",
        "    num_val_correct = 0\n",
        "    num_val_examples = 0\n",
        "\n",
        "    with torch.no_grad():\n",
        "\n",
        "      # Iterating over mini-batches.\n",
        "      for batch in tqdm(val_loader, desc = \"Validation\", position = 0):\n",
        "\n",
        "        # Moving x and y to GPU.\n",
        "        x = batch[0].to(device)\n",
        "        y = batch[1].to(device)\n",
        "\n",
        "        # Predictions.\n",
        "        yhat = model(x)\n",
        "\n",
        "        # Loss.\n",
        "        loss = loss_fn(yhat, y)\n",
        "\n",
        "        # Updating the metrics.\n",
        "        val_loss += loss.item() * x.shape[0]\n",
        "        num_val_correct += (torch.argmax(yhat, 1) == y).sum().item()\n",
        "        num_val_examples += y.shape[0]\n",
        "\n",
        "      # Computing the epoch's metrics.\n",
        "      val_accuracy = num_val_correct / num_val_examples\n",
        "      val_loss = val_loss / len(val_loader.dataset)\n",
        "\n",
        "    print(\"{}train_loss: {:.4f}, train_accuracy: {:.4f}, val_loss: {:.4f}, val_accuracy: {:.4f}, lr: {:.4e}{}\".format(\"\\n\" if epoch == epochs - 1 else \"\",\n",
        "                                                                                                                      train_loss, \n",
        "                                                                                                                      train_accuracy, \n",
        "                                                                                                                      val_loss, \n",
        "                                                                                                                      val_accuracy,\n",
        "                                                                                                                      lr,\n",
        "                                                                                                                      \"\\n\" if epoch != epochs - 1 else \"\"))\n",
        "\n",
        "    # Appending the epoch's metrics to history lists.\n",
        "    history[\"train_loss\"].append(train_loss)\n",
        "    history[\"val_loss\"].append(val_loss)\n",
        "    history[\"train_accuracy\"].append(train_accuracy)\n",
        "    history[\"val_accuracy\"].append(val_accuracy)\n",
        "    history[\"lr\"].append(lr)\n",
        "\n",
        "  # Returning history.\n",
        "  return history"
      ],
      "metadata": {
        "id": "EE9m-lzNr66m"
      },
      "execution_count": null,
      "outputs": []
    },
    {
      "cell_type": "code",
      "source": [
        "# Loads a checkpoint.\n",
        "def load_checkpoint(path, model, optimizer, scheduler):\n",
        "\n",
        "  # Loading checkpoint.\n",
        "  checkpoint = torch.load(path)\n",
        "  model.load_state_dict(checkpoint[\"model\"])\n",
        "  optimizer.load_state_dict(checkpoint[\"optimizer\"])\n",
        "  scheduler.load_state_dict(checkpoint[\"scheduler\"])\n",
        "\n",
        "  # Returning checkpoint entries.\n",
        "  return model, optimizer, scheduler"
      ],
      "metadata": {
        "id": "m303-E_FSBZO"
      },
      "execution_count": null,
      "outputs": []
    },
    {
      "cell_type": "markdown",
      "source": [
        "### Lightweight MHSA model ($m_1$)"
      ],
      "metadata": {
        "id": "34JWWDLFPwJi"
      }
    },
    {
      "cell_type": "markdown",
      "source": [
        "The $m_1$ models is defined by the following parameters:\n",
        "\n",
        "- `in_channels`, the number of input channels;\n",
        "- `stem_channels`, the number of channels used by the `Stem` module;\n",
        "- `channels`, the number of channels used by `PatchEmbedding` and `LPU` modules;\n",
        "- `block_layers`, the number of CMT blocks for each stage;\n",
        "- `k`, the size and stride of the depthwise convolutaional layer used by the `LMHSA` module;\n",
        "- `heads`, the number of heads used by the `LMHSA` module;\n",
        "- `R`, the reduction ratio used by the `IRFFN` module;\n",
        "- `input_size`, the resolution of the input image;\n",
        "- `classes`, the total number of classes;\n",
        "- `attention_type`, the type of attention mechanism to use."
      ],
      "metadata": {
        "id": "-LuS4LrPWILd"
      }
    },
    {
      "cell_type": "code",
      "source": [
        "# Defining the model that uses LMHSA.\n",
        "m_1 = CMT(\n",
        "  in_channels = 3,\n",
        "  stem_channels = 16,\n",
        "  channels = [46, 92, 184, 368],\n",
        "  block_layers = [2, 2, 10, 2],\n",
        "  k = [8, 4, 2, 1],\n",
        "  heads = [1, 2, 4, 8],\n",
        "  R = 3.6,\n",
        "  input_size = 224,\n",
        "  classes = 10,\n",
        "  attention_type = \"light\")\n",
        "\n",
        "# Printing number of parameters.\n",
        "print(f\"m_1 has {sum(p.numel() for p in m_1.parameters())} parameters.\")"
      ],
      "metadata": {
        "id": "STqrfOj30eTH",
        "colab": {
          "base_uri": "https://localhost:8080/"
        },
        "outputId": "fb5c7709-556a-4851-a77e-9bee14debd6e"
      },
      "execution_count": null,
      "outputs": [
        {
          "output_type": "stream",
          "name": "stdout",
          "text": [
            "m_1 has 9014696 parameters.\n"
          ]
        }
      ]
    },
    {
      "cell_type": "markdown",
      "source": [
        "The number of parameters and FLOPs of $m_1$ are different from the ones shown in table 1. This is due to $m_1$ being trained on input images of resolution $224 \\times 224$ instead of $160 \\times 160$, and to the number of neurons used in the final classifier. In particular, in the case of $m_1$ the number of parameters is equal to $9.01\\text{M}$ and the number of FLOPs is equal to $1.31\\text{B}$."
      ],
      "metadata": {
        "id": "zo3xsokpbQ_r"
      }
    },
    {
      "cell_type": "code",
      "source": [
        "# Computing number of FLOPs.\n",
        "flops = FlopCountAnalysis(m_1, (torch.randn((1, 3, 224, 224)),))\n",
        "\n",
        "# Printing number of FLOPs per layer.\n",
        "print(flop_count_str(flops))"
      ],
      "metadata": {
        "colab": {
          "base_uri": "https://localhost:8080/"
        },
        "id": "wXF8d1A9iTsC",
        "outputId": "fe8a3b03-fb8b-4e87-bba9-7786551ea878"
      },
      "execution_count": null,
      "outputs": [
        {
          "output_type": "stream",
          "name": "stdout",
          "text": [
            "CMT(\n",
            "  #params: 9.01M, #flops: 1.31G\n",
            "  (stem): Stem(\n",
            "    #params: 5.18K, #flops: 66.23M\n",
            "    (conv1): Conv2d(\n",
            "      3, 16, kernel_size=(3, 3), stride=(2, 2), padding=(1, 1)\n",
            "      #params: 0.45K, #flops: 5.42M\n",
            "    )\n",
            "    (bn1): BatchNorm2d(\n",
            "      16, eps=1e-05, momentum=0.1, affine=True, track_running_stats=True\n",
            "      #params: 32, #flops: 1M\n",
            "    )\n",
            "    (conv2): Conv2d(\n",
            "      16, 16, kernel_size=(3, 3), stride=(1, 1), padding=(1, 1)\n",
            "      #params: 2.32K, #flops: 28.9M\n",
            "    )\n",
            "    (bn2): BatchNorm2d(\n",
            "      16, eps=1e-05, momentum=0.1, affine=True, track_running_stats=True\n",
            "      #params: 32, #flops: 1M\n",
            "    )\n",
            "    (conv3): Conv2d(\n",
            "      16, 16, kernel_size=(3, 3), stride=(1, 1), padding=(1, 1)\n",
            "      #params: 2.32K, #flops: 28.9M\n",
            "    )\n",
            "    (bn3): BatchNorm2d(\n",
            "      16, eps=1e-05, momentum=0.1, affine=True, track_running_stats=True\n",
            "      #params: 32, #flops: 1M\n",
            "    )\n",
            "    (gelu): GELU(approximate='none')\n",
            "  )\n",
            "  (pe1): PatchEmbedding(\n",
            "    #params: 2.99K, #flops: 9.81M\n",
            "    (conv): Conv2d(\n",
            "      16, 46, kernel_size=(2, 2), stride=(2, 2)\n",
            "      #params: 2.99K, #flops: 9.23M\n",
            "    )\n",
            "  )\n",
            "  (pe2): PatchEmbedding(\n",
            "    #params: 17.02K, #flops: 13.56M\n",
            "    (conv): Conv2d(\n",
            "      46, 92, kernel_size=(2, 2), stride=(2, 2)\n",
            "      #params: 17.02K, #flops: 13.27M\n",
            "    )\n",
            "  )\n",
            "  (pe3): PatchEmbedding(\n",
            "    #params: 67.9K, #flops: 13.42M\n",
            "    (conv): Conv2d(\n",
            "      92, 184, kernel_size=(2, 2), stride=(2, 2)\n",
            "      #params: 67.9K, #flops: 13.27M\n",
            "    )\n",
            "  )\n",
            "  (pe4): PatchEmbedding(\n",
            "    #params: 0.27M, #flops: 13.34M\n",
            "    (conv): Conv2d(\n",
            "      184, 368, kernel_size=(2, 2), stride=(2, 2)\n",
            "      #params: 0.27M, #flops: 13.27M\n",
            "    )\n",
            "  )\n",
            "  (stage1): Sequential(\n",
            "    #params: 0.37M, #flops: 0.18G\n",
            "    (0): CMTBlock(\n",
            "      #params: 0.18M, #flops: 88.52M\n",
            "      (lpu): LPU(\n",
            "        #params: 0.46K, #flops: 1.3M\n",
            "        (dwconv): Conv2d(\n",
            "          46, 46, kernel_size=(3, 3), stride=(1, 1), padding=(1, 1), groups=46\n",
            "          #params: 0.46K, #flops: 1.3M\n",
            "        )\n",
            "      )\n",
            "      (mhsa): LMHSA(\n",
            "        #params: 0.17M, #flops: 28.48M\n",
            "        (dwconv): Conv2d(\n",
            "          46, 46, kernel_size=(8, 8), stride=(8, 8), groups=46\n",
            "          #params: 2.99K, #flops: 0.29M\n",
            "        )\n",
            "        (fc_q): Linear(\n",
            "          in_features=46, out_features=46, bias=True\n",
            "          #params: 2.16K, #flops: 6.64M\n",
            "        )\n",
            "        (fc_k): Linear(\n",
            "          in_features=46, out_features=46, bias=True\n",
            "          #params: 2.16K, #flops: 0.1M\n",
            "        )\n",
            "        (fc_v): Linear(\n",
            "          in_features=46, out_features=46, bias=True\n",
            "          #params: 2.16K, #flops: 0.1M\n",
            "        )\n",
            "        (fc_o): Linear(\n",
            "          in_features=46, out_features=46, bias=True\n",
            "          #params: 2.16K, #flops: 6.64M\n",
            "        )\n",
            "      )\n",
            "      (irffn): IRFFN(\n",
            "        #params: 17.79K, #flops: 58.73M\n",
            "        (conv1): Conv2d(\n",
            "          46, 165, kernel_size=(1, 1), stride=(1, 1)\n",
            "          #params: 7.75K, #flops: 23.8M\n",
            "        )\n",
            "        (bn1): BatchNorm2d(\n",
            "          165, eps=1e-05, momentum=0.1, affine=True, track_running_stats=True\n",
            "          #params: 0.33K, #flops: 2.59M\n",
            "        )\n",
            "        (dwconv): Conv2d(\n",
            "          165, 165, kernel_size=(3, 3), stride=(1, 1), padding=(1, 1), groups=165\n",
            "          #params: 1.65K, #flops: 4.66M\n",
            "        )\n",
            "        (bn2): BatchNorm2d(\n",
            "          165, eps=1e-05, momentum=0.1, affine=True, track_running_stats=True\n",
            "          #params: 0.33K, #flops: 2.59M\n",
            "        )\n",
            "        (conv2): Conv2d(\n",
            "          165, 46, kernel_size=(1, 1), stride=(1, 1)\n",
            "          #params: 7.64K, #flops: 23.8M\n",
            "        )\n",
            "        (bn3): BatchNorm2d(\n",
            "          46, eps=1e-05, momentum=0.1, affine=True, track_running_stats=True\n",
            "          #params: 92, #flops: 0.72M\n",
            "        )\n",
            "        (gelu): GELU(approximate='none')\n",
            "      )\n",
            "    )\n",
            "    (1): CMTBlock(\n",
            "      #params: 0.18M, #flops: 88.52M\n",
            "      (lpu): LPU(\n",
            "        #params: 0.46K, #flops: 1.3M\n",
            "        (dwconv): Conv2d(\n",
            "          46, 46, kernel_size=(3, 3), stride=(1, 1), padding=(1, 1), groups=46\n",
            "          #params: 0.46K, #flops: 1.3M\n",
            "        )\n",
            "      )\n",
            "      (mhsa): LMHSA(\n",
            "        #params: 0.17M, #flops: 28.48M\n",
            "        (dwconv): Conv2d(\n",
            "          46, 46, kernel_size=(8, 8), stride=(8, 8), groups=46\n",
            "          #params: 2.99K, #flops: 0.29M\n",
            "        )\n",
            "        (fc_q): Linear(\n",
            "          in_features=46, out_features=46, bias=True\n",
            "          #params: 2.16K, #flops: 6.64M\n",
            "        )\n",
            "        (fc_k): Linear(\n",
            "          in_features=46, out_features=46, bias=True\n",
            "          #params: 2.16K, #flops: 0.1M\n",
            "        )\n",
            "        (fc_v): Linear(\n",
            "          in_features=46, out_features=46, bias=True\n",
            "          #params: 2.16K, #flops: 0.1M\n",
            "        )\n",
            "        (fc_o): Linear(\n",
            "          in_features=46, out_features=46, bias=True\n",
            "          #params: 2.16K, #flops: 6.64M\n",
            "        )\n",
            "      )\n",
            "      (irffn): IRFFN(\n",
            "        #params: 17.79K, #flops: 58.73M\n",
            "        (conv1): Conv2d(\n",
            "          46, 165, kernel_size=(1, 1), stride=(1, 1)\n",
            "          #params: 7.75K, #flops: 23.8M\n",
            "        )\n",
            "        (bn1): BatchNorm2d(\n",
            "          165, eps=1e-05, momentum=0.1, affine=True, track_running_stats=True\n",
            "          #params: 0.33K, #flops: 2.59M\n",
            "        )\n",
            "        (dwconv): Conv2d(\n",
            "          165, 165, kernel_size=(3, 3), stride=(1, 1), padding=(1, 1), groups=165\n",
            "          #params: 1.65K, #flops: 4.66M\n",
            "        )\n",
            "        (bn2): BatchNorm2d(\n",
            "          165, eps=1e-05, momentum=0.1, affine=True, track_running_stats=True\n",
            "          #params: 0.33K, #flops: 2.59M\n",
            "        )\n",
            "        (conv2): Conv2d(\n",
            "          165, 46, kernel_size=(1, 1), stride=(1, 1)\n",
            "          #params: 7.64K, #flops: 23.8M\n",
            "        )\n",
            "        (bn3): BatchNorm2d(\n",
            "          46, eps=1e-05, momentum=0.1, affine=True, track_running_stats=True\n",
            "          #params: 92, #flops: 0.72M\n",
            "        )\n",
            "        (gelu): GELU(approximate='none')\n",
            "      )\n",
            "    )\n",
            "  )\n",
            "  (stage2): Sequential(\n",
            "    #params: 0.36M, #flops: 0.15G\n",
            "    (0): CMTBlock(\n",
            "      #params: 0.18M, #flops: 75.58M\n",
            "      (lpu): LPU(\n",
            "        #params: 0.92K, #flops: 0.65M\n",
            "        (dwconv): Conv2d(\n",
            "          92, 92, kernel_size=(3, 3), stride=(1, 1), padding=(1, 1), groups=92\n",
            "          #params: 0.92K, #flops: 0.65M\n",
            "        )\n",
            "      )\n",
            "      (mhsa): LMHSA(\n",
            "        #params: 0.11M, #flops: 21.6M\n",
            "        (dwconv): Conv2d(\n",
            "          92, 92, kernel_size=(4, 4), stride=(4, 4), groups=92\n",
            "          #params: 1.56K, #flops: 0.14M\n",
            "        )\n",
            "        (fc_q): Linear(\n",
            "          in_features=92, out_features=92, bias=True\n",
            "          #params: 8.56K, #flops: 6.64M\n",
            "        )\n",
            "        (fc_k): Linear(\n",
            "          in_features=92, out_features=92, bias=True\n",
            "          #params: 8.56K, #flops: 0.41M\n",
            "        )\n",
            "        (fc_v): Linear(\n",
            "          in_features=92, out_features=92, bias=True\n",
            "          #params: 8.56K, #flops: 0.41M\n",
            "        )\n",
            "        (fc_o): Linear(\n",
            "          in_features=92, out_features=92, bias=True\n",
            "          #params: 8.56K, #flops: 6.64M\n",
            "        )\n",
            "      )\n",
            "      (irffn): IRFFN(\n",
            "        #params: 66.14K, #flops: 53.33M\n",
            "        (conv1): Conv2d(\n",
            "          92, 331, kernel_size=(1, 1), stride=(1, 1)\n",
            "          #params: 30.78K, #flops: 23.87M\n",
            "        )\n",
            "        (bn1): BatchNorm2d(\n",
            "          331, eps=1e-05, momentum=0.1, affine=True, track_running_stats=True\n",
            "          #params: 0.66K, #flops: 1.3M\n",
            "        )\n",
            "        (dwconv): Conv2d(\n",
            "          331, 331, kernel_size=(3, 3), stride=(1, 1), padding=(1, 1), groups=331\n",
            "          #params: 3.31K, #flops: 2.34M\n",
            "        )\n",
            "        (bn2): BatchNorm2d(\n",
            "          331, eps=1e-05, momentum=0.1, affine=True, track_running_stats=True\n",
            "          #params: 0.66K, #flops: 1.3M\n",
            "        )\n",
            "        (conv2): Conv2d(\n",
            "          331, 92, kernel_size=(1, 1), stride=(1, 1)\n",
            "          #params: 30.54K, #flops: 23.87M\n",
            "        )\n",
            "        (bn3): BatchNorm2d(\n",
            "          92, eps=1e-05, momentum=0.1, affine=True, track_running_stats=True\n",
            "          #params: 0.18K, #flops: 0.36M\n",
            "        )\n",
            "        (gelu): GELU(approximate='none')\n",
            "      )\n",
            "    )\n",
            "    (1): CMTBlock(\n",
            "      #params: 0.18M, #flops: 75.58M\n",
            "      (lpu): LPU(\n",
            "        #params: 0.92K, #flops: 0.65M\n",
            "        (dwconv): Conv2d(\n",
            "          92, 92, kernel_size=(3, 3), stride=(1, 1), padding=(1, 1), groups=92\n",
            "          #params: 0.92K, #flops: 0.65M\n",
            "        )\n",
            "      )\n",
            "      (mhsa): LMHSA(\n",
            "        #params: 0.11M, #flops: 21.6M\n",
            "        (dwconv): Conv2d(\n",
            "          92, 92, kernel_size=(4, 4), stride=(4, 4), groups=92\n",
            "          #params: 1.56K, #flops: 0.14M\n",
            "        )\n",
            "        (fc_q): Linear(\n",
            "          in_features=92, out_features=92, bias=True\n",
            "          #params: 8.56K, #flops: 6.64M\n",
            "        )\n",
            "        (fc_k): Linear(\n",
            "          in_features=92, out_features=92, bias=True\n",
            "          #params: 8.56K, #flops: 0.41M\n",
            "        )\n",
            "        (fc_v): Linear(\n",
            "          in_features=92, out_features=92, bias=True\n",
            "          #params: 8.56K, #flops: 0.41M\n",
            "        )\n",
            "        (fc_o): Linear(\n",
            "          in_features=92, out_features=92, bias=True\n",
            "          #params: 8.56K, #flops: 6.64M\n",
            "        )\n",
            "      )\n",
            "      (irffn): IRFFN(\n",
            "        #params: 66.14K, #flops: 53.33M\n",
            "        (conv1): Conv2d(\n",
            "          92, 331, kernel_size=(1, 1), stride=(1, 1)\n",
            "          #params: 30.78K, #flops: 23.87M\n",
            "        )\n",
            "        (bn1): BatchNorm2d(\n",
            "          331, eps=1e-05, momentum=0.1, affine=True, track_running_stats=True\n",
            "          #params: 0.66K, #flops: 1.3M\n",
            "        )\n",
            "        (dwconv): Conv2d(\n",
            "          331, 331, kernel_size=(3, 3), stride=(1, 1), padding=(1, 1), groups=331\n",
            "          #params: 3.31K, #flops: 2.34M\n",
            "        )\n",
            "        (bn2): BatchNorm2d(\n",
            "          331, eps=1e-05, momentum=0.1, affine=True, track_running_stats=True\n",
            "          #params: 0.66K, #flops: 1.3M\n",
            "        )\n",
            "        (conv2): Conv2d(\n",
            "          331, 92, kernel_size=(1, 1), stride=(1, 1)\n",
            "          #params: 30.54K, #flops: 23.87M\n",
            "        )\n",
            "        (bn3): BatchNorm2d(\n",
            "          92, eps=1e-05, momentum=0.1, affine=True, track_running_stats=True\n",
            "          #params: 0.18K, #flops: 0.36M\n",
            "        )\n",
            "        (gelu): GELU(approximate='none')\n",
            "      )\n",
            "    )\n",
            "  )\n",
            "  (stage3): Sequential(\n",
            "    #params: 4.31M, #flops: 0.71G\n",
            "    (0): CMTBlock(\n",
            "      #params: 0.43M, #flops: 71.2M\n",
            "      (lpu): LPU(\n",
            "        #params: 1.84K, #flops: 0.32M\n",
            "        (dwconv): Conv2d(\n",
            "          184, 184, kernel_size=(3, 3), stride=(1, 1), padding=(1, 1), groups=184\n",
            "          #params: 1.84K, #flops: 0.32M\n",
            "        )\n",
            "      )\n",
            "      (mhsa): LMHSA(\n",
            "        #params: 0.18M, #flops: 20.34M\n",
            "        (dwconv): Conv2d(\n",
            "          184, 184, kernel_size=(2, 2), stride=(2, 2), groups=184\n",
            "          #params: 0.92K, #flops: 72.13K\n",
            "        )\n",
            "        (fc_q): Linear(\n",
            "          in_features=184, out_features=184, bias=True\n",
            "          #params: 34.04K, #flops: 6.64M\n",
            "        )\n",
            "        (fc_k): Linear(\n",
            "          in_features=184, out_features=184, bias=True\n",
            "          #params: 34.04K, #flops: 1.66M\n",
            "        )\n",
            "        (fc_v): Linear(\n",
            "          in_features=184, out_features=184, bias=True\n",
            "          #params: 34.04K, #flops: 1.66M\n",
            "        )\n",
            "        (fc_o): Linear(\n",
            "          in_features=184, out_features=184, bias=True\n",
            "          #params: 34.04K, #flops: 6.64M\n",
            "        )\n",
            "      )\n",
            "      (irffn): IRFFN(\n",
            "        #params: 0.25M, #flops: 50.54M\n",
            "        (conv1): Conv2d(\n",
            "          184, 662, kernel_size=(1, 1), stride=(1, 1)\n",
            "          #params: 0.12M, #flops: 23.87M\n",
            "        )\n",
            "        (bn1): BatchNorm2d(\n",
            "          662, eps=1e-05, momentum=0.1, affine=True, track_running_stats=True\n",
            "          #params: 1.32K, #flops: 0.65M\n",
            "        )\n",
            "        (dwconv): Conv2d(\n",
            "          662, 662, kernel_size=(3, 3), stride=(1, 1), padding=(1, 1), groups=662\n",
            "          #params: 6.62K, #flops: 1.17M\n",
            "        )\n",
            "        (bn2): BatchNorm2d(\n",
            "          662, eps=1e-05, momentum=0.1, affine=True, track_running_stats=True\n",
            "          #params: 1.32K, #flops: 0.65M\n",
            "        )\n",
            "        (conv2): Conv2d(\n",
            "          662, 184, kernel_size=(1, 1), stride=(1, 1)\n",
            "          #params: 0.12M, #flops: 23.87M\n",
            "        )\n",
            "        (bn3): BatchNorm2d(\n",
            "          184, eps=1e-05, momentum=0.1, affine=True, track_running_stats=True\n",
            "          #params: 0.37K, #flops: 0.18M\n",
            "        )\n",
            "        (gelu): GELU(approximate='none')\n",
            "      )\n",
            "    )\n",
            "    (1): CMTBlock(\n",
            "      #params: 0.43M, #flops: 71.2M\n",
            "      (lpu): LPU(\n",
            "        #params: 1.84K, #flops: 0.32M\n",
            "        (dwconv): Conv2d(\n",
            "          184, 184, kernel_size=(3, 3), stride=(1, 1), padding=(1, 1), groups=184\n",
            "          #params: 1.84K, #flops: 0.32M\n",
            "        )\n",
            "      )\n",
            "      (mhsa): LMHSA(\n",
            "        #params: 0.18M, #flops: 20.34M\n",
            "        (dwconv): Conv2d(\n",
            "          184, 184, kernel_size=(2, 2), stride=(2, 2), groups=184\n",
            "          #params: 0.92K, #flops: 72.13K\n",
            "        )\n",
            "        (fc_q): Linear(\n",
            "          in_features=184, out_features=184, bias=True\n",
            "          #params: 34.04K, #flops: 6.64M\n",
            "        )\n",
            "        (fc_k): Linear(\n",
            "          in_features=184, out_features=184, bias=True\n",
            "          #params: 34.04K, #flops: 1.66M\n",
            "        )\n",
            "        (fc_v): Linear(\n",
            "          in_features=184, out_features=184, bias=True\n",
            "          #params: 34.04K, #flops: 1.66M\n",
            "        )\n",
            "        (fc_o): Linear(\n",
            "          in_features=184, out_features=184, bias=True\n",
            "          #params: 34.04K, #flops: 6.64M\n",
            "        )\n",
            "      )\n",
            "      (irffn): IRFFN(\n",
            "        #params: 0.25M, #flops: 50.54M\n",
            "        (conv1): Conv2d(\n",
            "          184, 662, kernel_size=(1, 1), stride=(1, 1)\n",
            "          #params: 0.12M, #flops: 23.87M\n",
            "        )\n",
            "        (bn1): BatchNorm2d(\n",
            "          662, eps=1e-05, momentum=0.1, affine=True, track_running_stats=True\n",
            "          #params: 1.32K, #flops: 0.65M\n",
            "        )\n",
            "        (dwconv): Conv2d(\n",
            "          662, 662, kernel_size=(3, 3), stride=(1, 1), padding=(1, 1), groups=662\n",
            "          #params: 6.62K, #flops: 1.17M\n",
            "        )\n",
            "        (bn2): BatchNorm2d(\n",
            "          662, eps=1e-05, momentum=0.1, affine=True, track_running_stats=True\n",
            "          #params: 1.32K, #flops: 0.65M\n",
            "        )\n",
            "        (conv2): Conv2d(\n",
            "          662, 184, kernel_size=(1, 1), stride=(1, 1)\n",
            "          #params: 0.12M, #flops: 23.87M\n",
            "        )\n",
            "        (bn3): BatchNorm2d(\n",
            "          184, eps=1e-05, momentum=0.1, affine=True, track_running_stats=True\n",
            "          #params: 0.37K, #flops: 0.18M\n",
            "        )\n",
            "        (gelu): GELU(approximate='none')\n",
            "      )\n",
            "    )\n",
            "    (2): CMTBlock(\n",
            "      #params: 0.43M, #flops: 71.2M\n",
            "      (lpu): LPU(\n",
            "        #params: 1.84K, #flops: 0.32M\n",
            "        (dwconv): Conv2d(\n",
            "          184, 184, kernel_size=(3, 3), stride=(1, 1), padding=(1, 1), groups=184\n",
            "          #params: 1.84K, #flops: 0.32M\n",
            "        )\n",
            "      )\n",
            "      (mhsa): LMHSA(\n",
            "        #params: 0.18M, #flops: 20.34M\n",
            "        (dwconv): Conv2d(\n",
            "          184, 184, kernel_size=(2, 2), stride=(2, 2), groups=184\n",
            "          #params: 0.92K, #flops: 72.13K\n",
            "        )\n",
            "        (fc_q): Linear(\n",
            "          in_features=184, out_features=184, bias=True\n",
            "          #params: 34.04K, #flops: 6.64M\n",
            "        )\n",
            "        (fc_k): Linear(\n",
            "          in_features=184, out_features=184, bias=True\n",
            "          #params: 34.04K, #flops: 1.66M\n",
            "        )\n",
            "        (fc_v): Linear(\n",
            "          in_features=184, out_features=184, bias=True\n",
            "          #params: 34.04K, #flops: 1.66M\n",
            "        )\n",
            "        (fc_o): Linear(\n",
            "          in_features=184, out_features=184, bias=True\n",
            "          #params: 34.04K, #flops: 6.64M\n",
            "        )\n",
            "      )\n",
            "      (irffn): IRFFN(\n",
            "        #params: 0.25M, #flops: 50.54M\n",
            "        (conv1): Conv2d(\n",
            "          184, 662, kernel_size=(1, 1), stride=(1, 1)\n",
            "          #params: 0.12M, #flops: 23.87M\n",
            "        )\n",
            "        (bn1): BatchNorm2d(\n",
            "          662, eps=1e-05, momentum=0.1, affine=True, track_running_stats=True\n",
            "          #params: 1.32K, #flops: 0.65M\n",
            "        )\n",
            "        (dwconv): Conv2d(\n",
            "          662, 662, kernel_size=(3, 3), stride=(1, 1), padding=(1, 1), groups=662\n",
            "          #params: 6.62K, #flops: 1.17M\n",
            "        )\n",
            "        (bn2): BatchNorm2d(\n",
            "          662, eps=1e-05, momentum=0.1, affine=True, track_running_stats=True\n",
            "          #params: 1.32K, #flops: 0.65M\n",
            "        )\n",
            "        (conv2): Conv2d(\n",
            "          662, 184, kernel_size=(1, 1), stride=(1, 1)\n",
            "          #params: 0.12M, #flops: 23.87M\n",
            "        )\n",
            "        (bn3): BatchNorm2d(\n",
            "          184, eps=1e-05, momentum=0.1, affine=True, track_running_stats=True\n",
            "          #params: 0.37K, #flops: 0.18M\n",
            "        )\n",
            "        (gelu): GELU(approximate='none')\n",
            "      )\n",
            "    )\n",
            "    (3): CMTBlock(\n",
            "      #params: 0.43M, #flops: 71.2M\n",
            "      (lpu): LPU(\n",
            "        #params: 1.84K, #flops: 0.32M\n",
            "        (dwconv): Conv2d(\n",
            "          184, 184, kernel_size=(3, 3), stride=(1, 1), padding=(1, 1), groups=184\n",
            "          #params: 1.84K, #flops: 0.32M\n",
            "        )\n",
            "      )\n",
            "      (mhsa): LMHSA(\n",
            "        #params: 0.18M, #flops: 20.34M\n",
            "        (dwconv): Conv2d(\n",
            "          184, 184, kernel_size=(2, 2), stride=(2, 2), groups=184\n",
            "          #params: 0.92K, #flops: 72.13K\n",
            "        )\n",
            "        (fc_q): Linear(\n",
            "          in_features=184, out_features=184, bias=True\n",
            "          #params: 34.04K, #flops: 6.64M\n",
            "        )\n",
            "        (fc_k): Linear(\n",
            "          in_features=184, out_features=184, bias=True\n",
            "          #params: 34.04K, #flops: 1.66M\n",
            "        )\n",
            "        (fc_v): Linear(\n",
            "          in_features=184, out_features=184, bias=True\n",
            "          #params: 34.04K, #flops: 1.66M\n",
            "        )\n",
            "        (fc_o): Linear(\n",
            "          in_features=184, out_features=184, bias=True\n",
            "          #params: 34.04K, #flops: 6.64M\n",
            "        )\n",
            "      )\n",
            "      (irffn): IRFFN(\n",
            "        #params: 0.25M, #flops: 50.54M\n",
            "        (conv1): Conv2d(\n",
            "          184, 662, kernel_size=(1, 1), stride=(1, 1)\n",
            "          #params: 0.12M, #flops: 23.87M\n",
            "        )\n",
            "        (bn1): BatchNorm2d(\n",
            "          662, eps=1e-05, momentum=0.1, affine=True, track_running_stats=True\n",
            "          #params: 1.32K, #flops: 0.65M\n",
            "        )\n",
            "        (dwconv): Conv2d(\n",
            "          662, 662, kernel_size=(3, 3), stride=(1, 1), padding=(1, 1), groups=662\n",
            "          #params: 6.62K, #flops: 1.17M\n",
            "        )\n",
            "        (bn2): BatchNorm2d(\n",
            "          662, eps=1e-05, momentum=0.1, affine=True, track_running_stats=True\n",
            "          #params: 1.32K, #flops: 0.65M\n",
            "        )\n",
            "        (conv2): Conv2d(\n",
            "          662, 184, kernel_size=(1, 1), stride=(1, 1)\n",
            "          #params: 0.12M, #flops: 23.87M\n",
            "        )\n",
            "        (bn3): BatchNorm2d(\n",
            "          184, eps=1e-05, momentum=0.1, affine=True, track_running_stats=True\n",
            "          #params: 0.37K, #flops: 0.18M\n",
            "        )\n",
            "        (gelu): GELU(approximate='none')\n",
            "      )\n",
            "    )\n",
            "    (4): CMTBlock(\n",
            "      #params: 0.43M, #flops: 71.2M\n",
            "      (lpu): LPU(\n",
            "        #params: 1.84K, #flops: 0.32M\n",
            "        (dwconv): Conv2d(\n",
            "          184, 184, kernel_size=(3, 3), stride=(1, 1), padding=(1, 1), groups=184\n",
            "          #params: 1.84K, #flops: 0.32M\n",
            "        )\n",
            "      )\n",
            "      (mhsa): LMHSA(\n",
            "        #params: 0.18M, #flops: 20.34M\n",
            "        (dwconv): Conv2d(\n",
            "          184, 184, kernel_size=(2, 2), stride=(2, 2), groups=184\n",
            "          #params: 0.92K, #flops: 72.13K\n",
            "        )\n",
            "        (fc_q): Linear(\n",
            "          in_features=184, out_features=184, bias=True\n",
            "          #params: 34.04K, #flops: 6.64M\n",
            "        )\n",
            "        (fc_k): Linear(\n",
            "          in_features=184, out_features=184, bias=True\n",
            "          #params: 34.04K, #flops: 1.66M\n",
            "        )\n",
            "        (fc_v): Linear(\n",
            "          in_features=184, out_features=184, bias=True\n",
            "          #params: 34.04K, #flops: 1.66M\n",
            "        )\n",
            "        (fc_o): Linear(\n",
            "          in_features=184, out_features=184, bias=True\n",
            "          #params: 34.04K, #flops: 6.64M\n",
            "        )\n",
            "      )\n",
            "      (irffn): IRFFN(\n",
            "        #params: 0.25M, #flops: 50.54M\n",
            "        (conv1): Conv2d(\n",
            "          184, 662, kernel_size=(1, 1), stride=(1, 1)\n",
            "          #params: 0.12M, #flops: 23.87M\n",
            "        )\n",
            "        (bn1): BatchNorm2d(\n",
            "          662, eps=1e-05, momentum=0.1, affine=True, track_running_stats=True\n",
            "          #params: 1.32K, #flops: 0.65M\n",
            "        )\n",
            "        (dwconv): Conv2d(\n",
            "          662, 662, kernel_size=(3, 3), stride=(1, 1), padding=(1, 1), groups=662\n",
            "          #params: 6.62K, #flops: 1.17M\n",
            "        )\n",
            "        (bn2): BatchNorm2d(\n",
            "          662, eps=1e-05, momentum=0.1, affine=True, track_running_stats=True\n",
            "          #params: 1.32K, #flops: 0.65M\n",
            "        )\n",
            "        (conv2): Conv2d(\n",
            "          662, 184, kernel_size=(1, 1), stride=(1, 1)\n",
            "          #params: 0.12M, #flops: 23.87M\n",
            "        )\n",
            "        (bn3): BatchNorm2d(\n",
            "          184, eps=1e-05, momentum=0.1, affine=True, track_running_stats=True\n",
            "          #params: 0.37K, #flops: 0.18M\n",
            "        )\n",
            "        (gelu): GELU(approximate='none')\n",
            "      )\n",
            "    )\n",
            "    (5): CMTBlock(\n",
            "      #params: 0.43M, #flops: 71.2M\n",
            "      (lpu): LPU(\n",
            "        #params: 1.84K, #flops: 0.32M\n",
            "        (dwconv): Conv2d(\n",
            "          184, 184, kernel_size=(3, 3), stride=(1, 1), padding=(1, 1), groups=184\n",
            "          #params: 1.84K, #flops: 0.32M\n",
            "        )\n",
            "      )\n",
            "      (mhsa): LMHSA(\n",
            "        #params: 0.18M, #flops: 20.34M\n",
            "        (dwconv): Conv2d(\n",
            "          184, 184, kernel_size=(2, 2), stride=(2, 2), groups=184\n",
            "          #params: 0.92K, #flops: 72.13K\n",
            "        )\n",
            "        (fc_q): Linear(\n",
            "          in_features=184, out_features=184, bias=True\n",
            "          #params: 34.04K, #flops: 6.64M\n",
            "        )\n",
            "        (fc_k): Linear(\n",
            "          in_features=184, out_features=184, bias=True\n",
            "          #params: 34.04K, #flops: 1.66M\n",
            "        )\n",
            "        (fc_v): Linear(\n",
            "          in_features=184, out_features=184, bias=True\n",
            "          #params: 34.04K, #flops: 1.66M\n",
            "        )\n",
            "        (fc_o): Linear(\n",
            "          in_features=184, out_features=184, bias=True\n",
            "          #params: 34.04K, #flops: 6.64M\n",
            "        )\n",
            "      )\n",
            "      (irffn): IRFFN(\n",
            "        #params: 0.25M, #flops: 50.54M\n",
            "        (conv1): Conv2d(\n",
            "          184, 662, kernel_size=(1, 1), stride=(1, 1)\n",
            "          #params: 0.12M, #flops: 23.87M\n",
            "        )\n",
            "        (bn1): BatchNorm2d(\n",
            "          662, eps=1e-05, momentum=0.1, affine=True, track_running_stats=True\n",
            "          #params: 1.32K, #flops: 0.65M\n",
            "        )\n",
            "        (dwconv): Conv2d(\n",
            "          662, 662, kernel_size=(3, 3), stride=(1, 1), padding=(1, 1), groups=662\n",
            "          #params: 6.62K, #flops: 1.17M\n",
            "        )\n",
            "        (bn2): BatchNorm2d(\n",
            "          662, eps=1e-05, momentum=0.1, affine=True, track_running_stats=True\n",
            "          #params: 1.32K, #flops: 0.65M\n",
            "        )\n",
            "        (conv2): Conv2d(\n",
            "          662, 184, kernel_size=(1, 1), stride=(1, 1)\n",
            "          #params: 0.12M, #flops: 23.87M\n",
            "        )\n",
            "        (bn3): BatchNorm2d(\n",
            "          184, eps=1e-05, momentum=0.1, affine=True, track_running_stats=True\n",
            "          #params: 0.37K, #flops: 0.18M\n",
            "        )\n",
            "        (gelu): GELU(approximate='none')\n",
            "      )\n",
            "    )\n",
            "    (6): CMTBlock(\n",
            "      #params: 0.43M, #flops: 71.2M\n",
            "      (lpu): LPU(\n",
            "        #params: 1.84K, #flops: 0.32M\n",
            "        (dwconv): Conv2d(\n",
            "          184, 184, kernel_size=(3, 3), stride=(1, 1), padding=(1, 1), groups=184\n",
            "          #params: 1.84K, #flops: 0.32M\n",
            "        )\n",
            "      )\n",
            "      (mhsa): LMHSA(\n",
            "        #params: 0.18M, #flops: 20.34M\n",
            "        (dwconv): Conv2d(\n",
            "          184, 184, kernel_size=(2, 2), stride=(2, 2), groups=184\n",
            "          #params: 0.92K, #flops: 72.13K\n",
            "        )\n",
            "        (fc_q): Linear(\n",
            "          in_features=184, out_features=184, bias=True\n",
            "          #params: 34.04K, #flops: 6.64M\n",
            "        )\n",
            "        (fc_k): Linear(\n",
            "          in_features=184, out_features=184, bias=True\n",
            "          #params: 34.04K, #flops: 1.66M\n",
            "        )\n",
            "        (fc_v): Linear(\n",
            "          in_features=184, out_features=184, bias=True\n",
            "          #params: 34.04K, #flops: 1.66M\n",
            "        )\n",
            "        (fc_o): Linear(\n",
            "          in_features=184, out_features=184, bias=True\n",
            "          #params: 34.04K, #flops: 6.64M\n",
            "        )\n",
            "      )\n",
            "      (irffn): IRFFN(\n",
            "        #params: 0.25M, #flops: 50.54M\n",
            "        (conv1): Conv2d(\n",
            "          184, 662, kernel_size=(1, 1), stride=(1, 1)\n",
            "          #params: 0.12M, #flops: 23.87M\n",
            "        )\n",
            "        (bn1): BatchNorm2d(\n",
            "          662, eps=1e-05, momentum=0.1, affine=True, track_running_stats=True\n",
            "          #params: 1.32K, #flops: 0.65M\n",
            "        )\n",
            "        (dwconv): Conv2d(\n",
            "          662, 662, kernel_size=(3, 3), stride=(1, 1), padding=(1, 1), groups=662\n",
            "          #params: 6.62K, #flops: 1.17M\n",
            "        )\n",
            "        (bn2): BatchNorm2d(\n",
            "          662, eps=1e-05, momentum=0.1, affine=True, track_running_stats=True\n",
            "          #params: 1.32K, #flops: 0.65M\n",
            "        )\n",
            "        (conv2): Conv2d(\n",
            "          662, 184, kernel_size=(1, 1), stride=(1, 1)\n",
            "          #params: 0.12M, #flops: 23.87M\n",
            "        )\n",
            "        (bn3): BatchNorm2d(\n",
            "          184, eps=1e-05, momentum=0.1, affine=True, track_running_stats=True\n",
            "          #params: 0.37K, #flops: 0.18M\n",
            "        )\n",
            "        (gelu): GELU(approximate='none')\n",
            "      )\n",
            "    )\n",
            "    (7): CMTBlock(\n",
            "      #params: 0.43M, #flops: 71.2M\n",
            "      (lpu): LPU(\n",
            "        #params: 1.84K, #flops: 0.32M\n",
            "        (dwconv): Conv2d(\n",
            "          184, 184, kernel_size=(3, 3), stride=(1, 1), padding=(1, 1), groups=184\n",
            "          #params: 1.84K, #flops: 0.32M\n",
            "        )\n",
            "      )\n",
            "      (mhsa): LMHSA(\n",
            "        #params: 0.18M, #flops: 20.34M\n",
            "        (dwconv): Conv2d(\n",
            "          184, 184, kernel_size=(2, 2), stride=(2, 2), groups=184\n",
            "          #params: 0.92K, #flops: 72.13K\n",
            "        )\n",
            "        (fc_q): Linear(\n",
            "          in_features=184, out_features=184, bias=True\n",
            "          #params: 34.04K, #flops: 6.64M\n",
            "        )\n",
            "        (fc_k): Linear(\n",
            "          in_features=184, out_features=184, bias=True\n",
            "          #params: 34.04K, #flops: 1.66M\n",
            "        )\n",
            "        (fc_v): Linear(\n",
            "          in_features=184, out_features=184, bias=True\n",
            "          #params: 34.04K, #flops: 1.66M\n",
            "        )\n",
            "        (fc_o): Linear(\n",
            "          in_features=184, out_features=184, bias=True\n",
            "          #params: 34.04K, #flops: 6.64M\n",
            "        )\n",
            "      )\n",
            "      (irffn): IRFFN(\n",
            "        #params: 0.25M, #flops: 50.54M\n",
            "        (conv1): Conv2d(\n",
            "          184, 662, kernel_size=(1, 1), stride=(1, 1)\n",
            "          #params: 0.12M, #flops: 23.87M\n",
            "        )\n",
            "        (bn1): BatchNorm2d(\n",
            "          662, eps=1e-05, momentum=0.1, affine=True, track_running_stats=True\n",
            "          #params: 1.32K, #flops: 0.65M\n",
            "        )\n",
            "        (dwconv): Conv2d(\n",
            "          662, 662, kernel_size=(3, 3), stride=(1, 1), padding=(1, 1), groups=662\n",
            "          #params: 6.62K, #flops: 1.17M\n",
            "        )\n",
            "        (bn2): BatchNorm2d(\n",
            "          662, eps=1e-05, momentum=0.1, affine=True, track_running_stats=True\n",
            "          #params: 1.32K, #flops: 0.65M\n",
            "        )\n",
            "        (conv2): Conv2d(\n",
            "          662, 184, kernel_size=(1, 1), stride=(1, 1)\n",
            "          #params: 0.12M, #flops: 23.87M\n",
            "        )\n",
            "        (bn3): BatchNorm2d(\n",
            "          184, eps=1e-05, momentum=0.1, affine=True, track_running_stats=True\n",
            "          #params: 0.37K, #flops: 0.18M\n",
            "        )\n",
            "        (gelu): GELU(approximate='none')\n",
            "      )\n",
            "    )\n",
            "    (8): CMTBlock(\n",
            "      #params: 0.43M, #flops: 71.2M\n",
            "      (lpu): LPU(\n",
            "        #params: 1.84K, #flops: 0.32M\n",
            "        (dwconv): Conv2d(\n",
            "          184, 184, kernel_size=(3, 3), stride=(1, 1), padding=(1, 1), groups=184\n",
            "          #params: 1.84K, #flops: 0.32M\n",
            "        )\n",
            "      )\n",
            "      (mhsa): LMHSA(\n",
            "        #params: 0.18M, #flops: 20.34M\n",
            "        (dwconv): Conv2d(\n",
            "          184, 184, kernel_size=(2, 2), stride=(2, 2), groups=184\n",
            "          #params: 0.92K, #flops: 72.13K\n",
            "        )\n",
            "        (fc_q): Linear(\n",
            "          in_features=184, out_features=184, bias=True\n",
            "          #params: 34.04K, #flops: 6.64M\n",
            "        )\n",
            "        (fc_k): Linear(\n",
            "          in_features=184, out_features=184, bias=True\n",
            "          #params: 34.04K, #flops: 1.66M\n",
            "        )\n",
            "        (fc_v): Linear(\n",
            "          in_features=184, out_features=184, bias=True\n",
            "          #params: 34.04K, #flops: 1.66M\n",
            "        )\n",
            "        (fc_o): Linear(\n",
            "          in_features=184, out_features=184, bias=True\n",
            "          #params: 34.04K, #flops: 6.64M\n",
            "        )\n",
            "      )\n",
            "      (irffn): IRFFN(\n",
            "        #params: 0.25M, #flops: 50.54M\n",
            "        (conv1): Conv2d(\n",
            "          184, 662, kernel_size=(1, 1), stride=(1, 1)\n",
            "          #params: 0.12M, #flops: 23.87M\n",
            "        )\n",
            "        (bn1): BatchNorm2d(\n",
            "          662, eps=1e-05, momentum=0.1, affine=True, track_running_stats=True\n",
            "          #params: 1.32K, #flops: 0.65M\n",
            "        )\n",
            "        (dwconv): Conv2d(\n",
            "          662, 662, kernel_size=(3, 3), stride=(1, 1), padding=(1, 1), groups=662\n",
            "          #params: 6.62K, #flops: 1.17M\n",
            "        )\n",
            "        (bn2): BatchNorm2d(\n",
            "          662, eps=1e-05, momentum=0.1, affine=True, track_running_stats=True\n",
            "          #params: 1.32K, #flops: 0.65M\n",
            "        )\n",
            "        (conv2): Conv2d(\n",
            "          662, 184, kernel_size=(1, 1), stride=(1, 1)\n",
            "          #params: 0.12M, #flops: 23.87M\n",
            "        )\n",
            "        (bn3): BatchNorm2d(\n",
            "          184, eps=1e-05, momentum=0.1, affine=True, track_running_stats=True\n",
            "          #params: 0.37K, #flops: 0.18M\n",
            "        )\n",
            "        (gelu): GELU(approximate='none')\n",
            "      )\n",
            "    )\n",
            "    (9): CMTBlock(\n",
            "      #params: 0.43M, #flops: 71.2M\n",
            "      (lpu): LPU(\n",
            "        #params: 1.84K, #flops: 0.32M\n",
            "        (dwconv): Conv2d(\n",
            "          184, 184, kernel_size=(3, 3), stride=(1, 1), padding=(1, 1), groups=184\n",
            "          #params: 1.84K, #flops: 0.32M\n",
            "        )\n",
            "      )\n",
            "      (mhsa): LMHSA(\n",
            "        #params: 0.18M, #flops: 20.34M\n",
            "        (dwconv): Conv2d(\n",
            "          184, 184, kernel_size=(2, 2), stride=(2, 2), groups=184\n",
            "          #params: 0.92K, #flops: 72.13K\n",
            "        )\n",
            "        (fc_q): Linear(\n",
            "          in_features=184, out_features=184, bias=True\n",
            "          #params: 34.04K, #flops: 6.64M\n",
            "        )\n",
            "        (fc_k): Linear(\n",
            "          in_features=184, out_features=184, bias=True\n",
            "          #params: 34.04K, #flops: 1.66M\n",
            "        )\n",
            "        (fc_v): Linear(\n",
            "          in_features=184, out_features=184, bias=True\n",
            "          #params: 34.04K, #flops: 1.66M\n",
            "        )\n",
            "        (fc_o): Linear(\n",
            "          in_features=184, out_features=184, bias=True\n",
            "          #params: 34.04K, #flops: 6.64M\n",
            "        )\n",
            "      )\n",
            "      (irffn): IRFFN(\n",
            "        #params: 0.25M, #flops: 50.54M\n",
            "        (conv1): Conv2d(\n",
            "          184, 662, kernel_size=(1, 1), stride=(1, 1)\n",
            "          #params: 0.12M, #flops: 23.87M\n",
            "        )\n",
            "        (bn1): BatchNorm2d(\n",
            "          662, eps=1e-05, momentum=0.1, affine=True, track_running_stats=True\n",
            "          #params: 1.32K, #flops: 0.65M\n",
            "        )\n",
            "        (dwconv): Conv2d(\n",
            "          662, 662, kernel_size=(3, 3), stride=(1, 1), padding=(1, 1), groups=662\n",
            "          #params: 6.62K, #flops: 1.17M\n",
            "        )\n",
            "        (bn2): BatchNorm2d(\n",
            "          662, eps=1e-05, momentum=0.1, affine=True, track_running_stats=True\n",
            "          #params: 1.32K, #flops: 0.65M\n",
            "        )\n",
            "        (conv2): Conv2d(\n",
            "          662, 184, kernel_size=(1, 1), stride=(1, 1)\n",
            "          #params: 0.12M, #flops: 23.87M\n",
            "        )\n",
            "        (bn3): BatchNorm2d(\n",
            "          184, eps=1e-05, momentum=0.1, affine=True, track_running_stats=True\n",
            "          #params: 0.37K, #flops: 0.18M\n",
            "        )\n",
            "        (gelu): GELU(approximate='none')\n",
            "      )\n",
            "    )\n",
            "  )\n",
            "  (stage4): Sequential(\n",
            "    #params: 3.12M, #flops: 0.16G\n",
            "    (0): CMTBlock(\n",
            "      #params: 1.56M, #flops: 77.72M\n",
            "      (lpu): LPU(\n",
            "        #params: 3.68K, #flops: 0.16M\n",
            "        (dwconv): Conv2d(\n",
            "          368, 368, kernel_size=(3, 3), stride=(1, 1), padding=(1, 1), groups=368\n",
            "          #params: 3.68K, #flops: 0.16M\n",
            "        )\n",
            "      )\n",
            "      (mhsa): LMHSA(\n",
            "        #params: 0.56M, #flops: 28.42M\n",
            "        (dwconv): Conv2d(\n",
            "          368, 368, kernel_size=(1, 1), stride=(1, 1), groups=368\n",
            "          #params: 0.74K, #flops: 36.06K\n",
            "        )\n",
            "        (fc_q): Linear(\n",
            "          in_features=368, out_features=368, bias=True\n",
            "          #params: 0.14M, #flops: 6.64M\n",
            "        )\n",
            "        (fc_k): Linear(\n",
            "          in_features=368, out_features=368, bias=True\n",
            "          #params: 0.14M, #flops: 6.64M\n",
            "        )\n",
            "        (fc_v): Linear(\n",
            "          in_features=368, out_features=368, bias=True\n",
            "          #params: 0.14M, #flops: 6.64M\n",
            "        )\n",
            "        (fc_o): Linear(\n",
            "          in_features=368, out_features=368, bias=True\n",
            "          #params: 0.14M, #flops: 6.64M\n",
            "        )\n",
            "      )\n",
            "      (irffn): IRFFN(\n",
            "        #params: 1M, #flops: 49.14M\n",
            "        (conv1): Conv2d(\n",
            "          368, 1324, kernel_size=(1, 1), stride=(1, 1)\n",
            "          #params: 0.49M, #flops: 23.87M\n",
            "        )\n",
            "        (bn1): BatchNorm2d(\n",
            "          1324, eps=1e-05, momentum=0.1, affine=True, track_running_stats=True\n",
            "          #params: 2.65K, #flops: 0.32M\n",
            "        )\n",
            "        (dwconv): Conv2d(\n",
            "          1324, 1324, kernel_size=(3, 3), stride=(1, 1), padding=(1, 1), groups=1324\n",
            "          #params: 13.24K, #flops: 0.58M\n",
            "        )\n",
            "        (bn2): BatchNorm2d(\n",
            "          1324, eps=1e-05, momentum=0.1, affine=True, track_running_stats=True\n",
            "          #params: 2.65K, #flops: 0.32M\n",
            "        )\n",
            "        (conv2): Conv2d(\n",
            "          1324, 368, kernel_size=(1, 1), stride=(1, 1)\n",
            "          #params: 0.49M, #flops: 23.87M\n",
            "        )\n",
            "        (bn3): BatchNorm2d(\n",
            "          368, eps=1e-05, momentum=0.1, affine=True, track_running_stats=True\n",
            "          #params: 0.74K, #flops: 90.16K\n",
            "        )\n",
            "        (gelu): GELU(approximate='none')\n",
            "      )\n",
            "    )\n",
            "    (1): CMTBlock(\n",
            "      #params: 1.56M, #flops: 77.72M\n",
            "      (lpu): LPU(\n",
            "        #params: 3.68K, #flops: 0.16M\n",
            "        (dwconv): Conv2d(\n",
            "          368, 368, kernel_size=(3, 3), stride=(1, 1), padding=(1, 1), groups=368\n",
            "          #params: 3.68K, #flops: 0.16M\n",
            "        )\n",
            "      )\n",
            "      (mhsa): LMHSA(\n",
            "        #params: 0.56M, #flops: 28.42M\n",
            "        (dwconv): Conv2d(\n",
            "          368, 368, kernel_size=(1, 1), stride=(1, 1), groups=368\n",
            "          #params: 0.74K, #flops: 36.06K\n",
            "        )\n",
            "        (fc_q): Linear(\n",
            "          in_features=368, out_features=368, bias=True\n",
            "          #params: 0.14M, #flops: 6.64M\n",
            "        )\n",
            "        (fc_k): Linear(\n",
            "          in_features=368, out_features=368, bias=True\n",
            "          #params: 0.14M, #flops: 6.64M\n",
            "        )\n",
            "        (fc_v): Linear(\n",
            "          in_features=368, out_features=368, bias=True\n",
            "          #params: 0.14M, #flops: 6.64M\n",
            "        )\n",
            "        (fc_o): Linear(\n",
            "          in_features=368, out_features=368, bias=True\n",
            "          #params: 0.14M, #flops: 6.64M\n",
            "        )\n",
            "      )\n",
            "      (irffn): IRFFN(\n",
            "        #params: 1M, #flops: 49.14M\n",
            "        (conv1): Conv2d(\n",
            "          368, 1324, kernel_size=(1, 1), stride=(1, 1)\n",
            "          #params: 0.49M, #flops: 23.87M\n",
            "        )\n",
            "        (bn1): BatchNorm2d(\n",
            "          1324, eps=1e-05, momentum=0.1, affine=True, track_running_stats=True\n",
            "          #params: 2.65K, #flops: 0.32M\n",
            "        )\n",
            "        (dwconv): Conv2d(\n",
            "          1324, 1324, kernel_size=(3, 3), stride=(1, 1), padding=(1, 1), groups=1324\n",
            "          #params: 13.24K, #flops: 0.58M\n",
            "        )\n",
            "        (bn2): BatchNorm2d(\n",
            "          1324, eps=1e-05, momentum=0.1, affine=True, track_running_stats=True\n",
            "          #params: 2.65K, #flops: 0.32M\n",
            "        )\n",
            "        (conv2): Conv2d(\n",
            "          1324, 368, kernel_size=(1, 1), stride=(1, 1)\n",
            "          #params: 0.49M, #flops: 23.87M\n",
            "        )\n",
            "        (bn3): BatchNorm2d(\n",
            "          368, eps=1e-05, momentum=0.1, affine=True, track_running_stats=True\n",
            "          #params: 0.74K, #flops: 90.16K\n",
            "        )\n",
            "        (gelu): GELU(approximate='none')\n",
            "      )\n",
            "    )\n",
            "  )\n",
            "  (avg_pool): AdaptiveAvgPool2d(\n",
            "    output_size=1\n",
            "    #params: 0, #flops: 18.03K\n",
            "  )\n",
            "  (projection): Sequential(\n",
            "    #params: 0.47M, #flops: 0.47M\n",
            "    (0): Conv2d(\n",
            "      368, 1280, kernel_size=(1, 1), stride=(1, 1)\n",
            "      #params: 0.47M, #flops: 0.47M\n",
            "    )\n",
            "    (1): ReLU(inplace=True)\n",
            "  )\n",
            "  (classifier): Linear(\n",
            "    in_features=1280, out_features=10, bias=True\n",
            "    #params: 12.81K, #flops: 12.8K\n",
            "  )\n",
            ")\n"
          ]
        }
      ]
    },
    {
      "cell_type": "code",
      "source": [
        "# Loading model to device.\n",
        "m_1.to(device)"
      ],
      "metadata": {
        "id": "5JqbvDNn1caw",
        "colab": {
          "base_uri": "https://localhost:8080/"
        },
        "outputId": "317efeab-f6b6-430f-9c65-4241b7e2bc3b"
      },
      "execution_count": null,
      "outputs": [
        {
          "output_type": "execute_result",
          "data": {
            "text/plain": [
              "CMT(\n",
              "  (stem): Stem(\n",
              "    (conv1): Conv2d(3, 16, kernel_size=(3, 3), stride=(2, 2), padding=(1, 1))\n",
              "    (bn1): BatchNorm2d(16, eps=1e-05, momentum=0.1, affine=True, track_running_stats=True)\n",
              "    (conv2): Conv2d(16, 16, kernel_size=(3, 3), stride=(1, 1), padding=(1, 1))\n",
              "    (bn2): BatchNorm2d(16, eps=1e-05, momentum=0.1, affine=True, track_running_stats=True)\n",
              "    (conv3): Conv2d(16, 16, kernel_size=(3, 3), stride=(1, 1), padding=(1, 1))\n",
              "    (bn3): BatchNorm2d(16, eps=1e-05, momentum=0.1, affine=True, track_running_stats=True)\n",
              "    (gelu): GELU(approximate='none')\n",
              "  )\n",
              "  (pe1): PatchEmbedding(\n",
              "    (conv): Conv2d(16, 46, kernel_size=(2, 2), stride=(2, 2))\n",
              "  )\n",
              "  (pe2): PatchEmbedding(\n",
              "    (conv): Conv2d(46, 92, kernel_size=(2, 2), stride=(2, 2))\n",
              "  )\n",
              "  (pe3): PatchEmbedding(\n",
              "    (conv): Conv2d(92, 184, kernel_size=(2, 2), stride=(2, 2))\n",
              "  )\n",
              "  (pe4): PatchEmbedding(\n",
              "    (conv): Conv2d(184, 368, kernel_size=(2, 2), stride=(2, 2))\n",
              "  )\n",
              "  (stage1): Sequential(\n",
              "    (0): CMTBlock(\n",
              "      (lpu): LPU(\n",
              "        (dwconv): Conv2d(46, 46, kernel_size=(3, 3), stride=(1, 1), padding=(1, 1), groups=46)\n",
              "      )\n",
              "      (mhsa): LMHSA(\n",
              "        (dwconv): Conv2d(46, 46, kernel_size=(8, 8), stride=(8, 8), groups=46)\n",
              "        (fc_q): Linear(in_features=46, out_features=46, bias=True)\n",
              "        (fc_k): Linear(in_features=46, out_features=46, bias=True)\n",
              "        (fc_v): Linear(in_features=46, out_features=46, bias=True)\n",
              "        (fc_o): Linear(in_features=46, out_features=46, bias=True)\n",
              "      )\n",
              "      (irffn): IRFFN(\n",
              "        (conv1): Conv2d(46, 165, kernel_size=(1, 1), stride=(1, 1))\n",
              "        (bn1): BatchNorm2d(165, eps=1e-05, momentum=0.1, affine=True, track_running_stats=True)\n",
              "        (dwconv): Conv2d(165, 165, kernel_size=(3, 3), stride=(1, 1), padding=(1, 1), groups=165)\n",
              "        (bn2): BatchNorm2d(165, eps=1e-05, momentum=0.1, affine=True, track_running_stats=True)\n",
              "        (conv2): Conv2d(165, 46, kernel_size=(1, 1), stride=(1, 1))\n",
              "        (bn3): BatchNorm2d(46, eps=1e-05, momentum=0.1, affine=True, track_running_stats=True)\n",
              "        (gelu): GELU(approximate='none')\n",
              "      )\n",
              "    )\n",
              "    (1): CMTBlock(\n",
              "      (lpu): LPU(\n",
              "        (dwconv): Conv2d(46, 46, kernel_size=(3, 3), stride=(1, 1), padding=(1, 1), groups=46)\n",
              "      )\n",
              "      (mhsa): LMHSA(\n",
              "        (dwconv): Conv2d(46, 46, kernel_size=(8, 8), stride=(8, 8), groups=46)\n",
              "        (fc_q): Linear(in_features=46, out_features=46, bias=True)\n",
              "        (fc_k): Linear(in_features=46, out_features=46, bias=True)\n",
              "        (fc_v): Linear(in_features=46, out_features=46, bias=True)\n",
              "        (fc_o): Linear(in_features=46, out_features=46, bias=True)\n",
              "      )\n",
              "      (irffn): IRFFN(\n",
              "        (conv1): Conv2d(46, 165, kernel_size=(1, 1), stride=(1, 1))\n",
              "        (bn1): BatchNorm2d(165, eps=1e-05, momentum=0.1, affine=True, track_running_stats=True)\n",
              "        (dwconv): Conv2d(165, 165, kernel_size=(3, 3), stride=(1, 1), padding=(1, 1), groups=165)\n",
              "        (bn2): BatchNorm2d(165, eps=1e-05, momentum=0.1, affine=True, track_running_stats=True)\n",
              "        (conv2): Conv2d(165, 46, kernel_size=(1, 1), stride=(1, 1))\n",
              "        (bn3): BatchNorm2d(46, eps=1e-05, momentum=0.1, affine=True, track_running_stats=True)\n",
              "        (gelu): GELU(approximate='none')\n",
              "      )\n",
              "    )\n",
              "  )\n",
              "  (stage2): Sequential(\n",
              "    (0): CMTBlock(\n",
              "      (lpu): LPU(\n",
              "        (dwconv): Conv2d(92, 92, kernel_size=(3, 3), stride=(1, 1), padding=(1, 1), groups=92)\n",
              "      )\n",
              "      (mhsa): LMHSA(\n",
              "        (dwconv): Conv2d(92, 92, kernel_size=(4, 4), stride=(4, 4), groups=92)\n",
              "        (fc_q): Linear(in_features=92, out_features=92, bias=True)\n",
              "        (fc_k): Linear(in_features=92, out_features=92, bias=True)\n",
              "        (fc_v): Linear(in_features=92, out_features=92, bias=True)\n",
              "        (fc_o): Linear(in_features=92, out_features=92, bias=True)\n",
              "      )\n",
              "      (irffn): IRFFN(\n",
              "        (conv1): Conv2d(92, 331, kernel_size=(1, 1), stride=(1, 1))\n",
              "        (bn1): BatchNorm2d(331, eps=1e-05, momentum=0.1, affine=True, track_running_stats=True)\n",
              "        (dwconv): Conv2d(331, 331, kernel_size=(3, 3), stride=(1, 1), padding=(1, 1), groups=331)\n",
              "        (bn2): BatchNorm2d(331, eps=1e-05, momentum=0.1, affine=True, track_running_stats=True)\n",
              "        (conv2): Conv2d(331, 92, kernel_size=(1, 1), stride=(1, 1))\n",
              "        (bn3): BatchNorm2d(92, eps=1e-05, momentum=0.1, affine=True, track_running_stats=True)\n",
              "        (gelu): GELU(approximate='none')\n",
              "      )\n",
              "    )\n",
              "    (1): CMTBlock(\n",
              "      (lpu): LPU(\n",
              "        (dwconv): Conv2d(92, 92, kernel_size=(3, 3), stride=(1, 1), padding=(1, 1), groups=92)\n",
              "      )\n",
              "      (mhsa): LMHSA(\n",
              "        (dwconv): Conv2d(92, 92, kernel_size=(4, 4), stride=(4, 4), groups=92)\n",
              "        (fc_q): Linear(in_features=92, out_features=92, bias=True)\n",
              "        (fc_k): Linear(in_features=92, out_features=92, bias=True)\n",
              "        (fc_v): Linear(in_features=92, out_features=92, bias=True)\n",
              "        (fc_o): Linear(in_features=92, out_features=92, bias=True)\n",
              "      )\n",
              "      (irffn): IRFFN(\n",
              "        (conv1): Conv2d(92, 331, kernel_size=(1, 1), stride=(1, 1))\n",
              "        (bn1): BatchNorm2d(331, eps=1e-05, momentum=0.1, affine=True, track_running_stats=True)\n",
              "        (dwconv): Conv2d(331, 331, kernel_size=(3, 3), stride=(1, 1), padding=(1, 1), groups=331)\n",
              "        (bn2): BatchNorm2d(331, eps=1e-05, momentum=0.1, affine=True, track_running_stats=True)\n",
              "        (conv2): Conv2d(331, 92, kernel_size=(1, 1), stride=(1, 1))\n",
              "        (bn3): BatchNorm2d(92, eps=1e-05, momentum=0.1, affine=True, track_running_stats=True)\n",
              "        (gelu): GELU(approximate='none')\n",
              "      )\n",
              "    )\n",
              "  )\n",
              "  (stage3): Sequential(\n",
              "    (0): CMTBlock(\n",
              "      (lpu): LPU(\n",
              "        (dwconv): Conv2d(184, 184, kernel_size=(3, 3), stride=(1, 1), padding=(1, 1), groups=184)\n",
              "      )\n",
              "      (mhsa): LMHSA(\n",
              "        (dwconv): Conv2d(184, 184, kernel_size=(2, 2), stride=(2, 2), groups=184)\n",
              "        (fc_q): Linear(in_features=184, out_features=184, bias=True)\n",
              "        (fc_k): Linear(in_features=184, out_features=184, bias=True)\n",
              "        (fc_v): Linear(in_features=184, out_features=184, bias=True)\n",
              "        (fc_o): Linear(in_features=184, out_features=184, bias=True)\n",
              "      )\n",
              "      (irffn): IRFFN(\n",
              "        (conv1): Conv2d(184, 662, kernel_size=(1, 1), stride=(1, 1))\n",
              "        (bn1): BatchNorm2d(662, eps=1e-05, momentum=0.1, affine=True, track_running_stats=True)\n",
              "        (dwconv): Conv2d(662, 662, kernel_size=(3, 3), stride=(1, 1), padding=(1, 1), groups=662)\n",
              "        (bn2): BatchNorm2d(662, eps=1e-05, momentum=0.1, affine=True, track_running_stats=True)\n",
              "        (conv2): Conv2d(662, 184, kernel_size=(1, 1), stride=(1, 1))\n",
              "        (bn3): BatchNorm2d(184, eps=1e-05, momentum=0.1, affine=True, track_running_stats=True)\n",
              "        (gelu): GELU(approximate='none')\n",
              "      )\n",
              "    )\n",
              "    (1): CMTBlock(\n",
              "      (lpu): LPU(\n",
              "        (dwconv): Conv2d(184, 184, kernel_size=(3, 3), stride=(1, 1), padding=(1, 1), groups=184)\n",
              "      )\n",
              "      (mhsa): LMHSA(\n",
              "        (dwconv): Conv2d(184, 184, kernel_size=(2, 2), stride=(2, 2), groups=184)\n",
              "        (fc_q): Linear(in_features=184, out_features=184, bias=True)\n",
              "        (fc_k): Linear(in_features=184, out_features=184, bias=True)\n",
              "        (fc_v): Linear(in_features=184, out_features=184, bias=True)\n",
              "        (fc_o): Linear(in_features=184, out_features=184, bias=True)\n",
              "      )\n",
              "      (irffn): IRFFN(\n",
              "        (conv1): Conv2d(184, 662, kernel_size=(1, 1), stride=(1, 1))\n",
              "        (bn1): BatchNorm2d(662, eps=1e-05, momentum=0.1, affine=True, track_running_stats=True)\n",
              "        (dwconv): Conv2d(662, 662, kernel_size=(3, 3), stride=(1, 1), padding=(1, 1), groups=662)\n",
              "        (bn2): BatchNorm2d(662, eps=1e-05, momentum=0.1, affine=True, track_running_stats=True)\n",
              "        (conv2): Conv2d(662, 184, kernel_size=(1, 1), stride=(1, 1))\n",
              "        (bn3): BatchNorm2d(184, eps=1e-05, momentum=0.1, affine=True, track_running_stats=True)\n",
              "        (gelu): GELU(approximate='none')\n",
              "      )\n",
              "    )\n",
              "    (2): CMTBlock(\n",
              "      (lpu): LPU(\n",
              "        (dwconv): Conv2d(184, 184, kernel_size=(3, 3), stride=(1, 1), padding=(1, 1), groups=184)\n",
              "      )\n",
              "      (mhsa): LMHSA(\n",
              "        (dwconv): Conv2d(184, 184, kernel_size=(2, 2), stride=(2, 2), groups=184)\n",
              "        (fc_q): Linear(in_features=184, out_features=184, bias=True)\n",
              "        (fc_k): Linear(in_features=184, out_features=184, bias=True)\n",
              "        (fc_v): Linear(in_features=184, out_features=184, bias=True)\n",
              "        (fc_o): Linear(in_features=184, out_features=184, bias=True)\n",
              "      )\n",
              "      (irffn): IRFFN(\n",
              "        (conv1): Conv2d(184, 662, kernel_size=(1, 1), stride=(1, 1))\n",
              "        (bn1): BatchNorm2d(662, eps=1e-05, momentum=0.1, affine=True, track_running_stats=True)\n",
              "        (dwconv): Conv2d(662, 662, kernel_size=(3, 3), stride=(1, 1), padding=(1, 1), groups=662)\n",
              "        (bn2): BatchNorm2d(662, eps=1e-05, momentum=0.1, affine=True, track_running_stats=True)\n",
              "        (conv2): Conv2d(662, 184, kernel_size=(1, 1), stride=(1, 1))\n",
              "        (bn3): BatchNorm2d(184, eps=1e-05, momentum=0.1, affine=True, track_running_stats=True)\n",
              "        (gelu): GELU(approximate='none')\n",
              "      )\n",
              "    )\n",
              "    (3): CMTBlock(\n",
              "      (lpu): LPU(\n",
              "        (dwconv): Conv2d(184, 184, kernel_size=(3, 3), stride=(1, 1), padding=(1, 1), groups=184)\n",
              "      )\n",
              "      (mhsa): LMHSA(\n",
              "        (dwconv): Conv2d(184, 184, kernel_size=(2, 2), stride=(2, 2), groups=184)\n",
              "        (fc_q): Linear(in_features=184, out_features=184, bias=True)\n",
              "        (fc_k): Linear(in_features=184, out_features=184, bias=True)\n",
              "        (fc_v): Linear(in_features=184, out_features=184, bias=True)\n",
              "        (fc_o): Linear(in_features=184, out_features=184, bias=True)\n",
              "      )\n",
              "      (irffn): IRFFN(\n",
              "        (conv1): Conv2d(184, 662, kernel_size=(1, 1), stride=(1, 1))\n",
              "        (bn1): BatchNorm2d(662, eps=1e-05, momentum=0.1, affine=True, track_running_stats=True)\n",
              "        (dwconv): Conv2d(662, 662, kernel_size=(3, 3), stride=(1, 1), padding=(1, 1), groups=662)\n",
              "        (bn2): BatchNorm2d(662, eps=1e-05, momentum=0.1, affine=True, track_running_stats=True)\n",
              "        (conv2): Conv2d(662, 184, kernel_size=(1, 1), stride=(1, 1))\n",
              "        (bn3): BatchNorm2d(184, eps=1e-05, momentum=0.1, affine=True, track_running_stats=True)\n",
              "        (gelu): GELU(approximate='none')\n",
              "      )\n",
              "    )\n",
              "    (4): CMTBlock(\n",
              "      (lpu): LPU(\n",
              "        (dwconv): Conv2d(184, 184, kernel_size=(3, 3), stride=(1, 1), padding=(1, 1), groups=184)\n",
              "      )\n",
              "      (mhsa): LMHSA(\n",
              "        (dwconv): Conv2d(184, 184, kernel_size=(2, 2), stride=(2, 2), groups=184)\n",
              "        (fc_q): Linear(in_features=184, out_features=184, bias=True)\n",
              "        (fc_k): Linear(in_features=184, out_features=184, bias=True)\n",
              "        (fc_v): Linear(in_features=184, out_features=184, bias=True)\n",
              "        (fc_o): Linear(in_features=184, out_features=184, bias=True)\n",
              "      )\n",
              "      (irffn): IRFFN(\n",
              "        (conv1): Conv2d(184, 662, kernel_size=(1, 1), stride=(1, 1))\n",
              "        (bn1): BatchNorm2d(662, eps=1e-05, momentum=0.1, affine=True, track_running_stats=True)\n",
              "        (dwconv): Conv2d(662, 662, kernel_size=(3, 3), stride=(1, 1), padding=(1, 1), groups=662)\n",
              "        (bn2): BatchNorm2d(662, eps=1e-05, momentum=0.1, affine=True, track_running_stats=True)\n",
              "        (conv2): Conv2d(662, 184, kernel_size=(1, 1), stride=(1, 1))\n",
              "        (bn3): BatchNorm2d(184, eps=1e-05, momentum=0.1, affine=True, track_running_stats=True)\n",
              "        (gelu): GELU(approximate='none')\n",
              "      )\n",
              "    )\n",
              "    (5): CMTBlock(\n",
              "      (lpu): LPU(\n",
              "        (dwconv): Conv2d(184, 184, kernel_size=(3, 3), stride=(1, 1), padding=(1, 1), groups=184)\n",
              "      )\n",
              "      (mhsa): LMHSA(\n",
              "        (dwconv): Conv2d(184, 184, kernel_size=(2, 2), stride=(2, 2), groups=184)\n",
              "        (fc_q): Linear(in_features=184, out_features=184, bias=True)\n",
              "        (fc_k): Linear(in_features=184, out_features=184, bias=True)\n",
              "        (fc_v): Linear(in_features=184, out_features=184, bias=True)\n",
              "        (fc_o): Linear(in_features=184, out_features=184, bias=True)\n",
              "      )\n",
              "      (irffn): IRFFN(\n",
              "        (conv1): Conv2d(184, 662, kernel_size=(1, 1), stride=(1, 1))\n",
              "        (bn1): BatchNorm2d(662, eps=1e-05, momentum=0.1, affine=True, track_running_stats=True)\n",
              "        (dwconv): Conv2d(662, 662, kernel_size=(3, 3), stride=(1, 1), padding=(1, 1), groups=662)\n",
              "        (bn2): BatchNorm2d(662, eps=1e-05, momentum=0.1, affine=True, track_running_stats=True)\n",
              "        (conv2): Conv2d(662, 184, kernel_size=(1, 1), stride=(1, 1))\n",
              "        (bn3): BatchNorm2d(184, eps=1e-05, momentum=0.1, affine=True, track_running_stats=True)\n",
              "        (gelu): GELU(approximate='none')\n",
              "      )\n",
              "    )\n",
              "    (6): CMTBlock(\n",
              "      (lpu): LPU(\n",
              "        (dwconv): Conv2d(184, 184, kernel_size=(3, 3), stride=(1, 1), padding=(1, 1), groups=184)\n",
              "      )\n",
              "      (mhsa): LMHSA(\n",
              "        (dwconv): Conv2d(184, 184, kernel_size=(2, 2), stride=(2, 2), groups=184)\n",
              "        (fc_q): Linear(in_features=184, out_features=184, bias=True)\n",
              "        (fc_k): Linear(in_features=184, out_features=184, bias=True)\n",
              "        (fc_v): Linear(in_features=184, out_features=184, bias=True)\n",
              "        (fc_o): Linear(in_features=184, out_features=184, bias=True)\n",
              "      )\n",
              "      (irffn): IRFFN(\n",
              "        (conv1): Conv2d(184, 662, kernel_size=(1, 1), stride=(1, 1))\n",
              "        (bn1): BatchNorm2d(662, eps=1e-05, momentum=0.1, affine=True, track_running_stats=True)\n",
              "        (dwconv): Conv2d(662, 662, kernel_size=(3, 3), stride=(1, 1), padding=(1, 1), groups=662)\n",
              "        (bn2): BatchNorm2d(662, eps=1e-05, momentum=0.1, affine=True, track_running_stats=True)\n",
              "        (conv2): Conv2d(662, 184, kernel_size=(1, 1), stride=(1, 1))\n",
              "        (bn3): BatchNorm2d(184, eps=1e-05, momentum=0.1, affine=True, track_running_stats=True)\n",
              "        (gelu): GELU(approximate='none')\n",
              "      )\n",
              "    )\n",
              "    (7): CMTBlock(\n",
              "      (lpu): LPU(\n",
              "        (dwconv): Conv2d(184, 184, kernel_size=(3, 3), stride=(1, 1), padding=(1, 1), groups=184)\n",
              "      )\n",
              "      (mhsa): LMHSA(\n",
              "        (dwconv): Conv2d(184, 184, kernel_size=(2, 2), stride=(2, 2), groups=184)\n",
              "        (fc_q): Linear(in_features=184, out_features=184, bias=True)\n",
              "        (fc_k): Linear(in_features=184, out_features=184, bias=True)\n",
              "        (fc_v): Linear(in_features=184, out_features=184, bias=True)\n",
              "        (fc_o): Linear(in_features=184, out_features=184, bias=True)\n",
              "      )\n",
              "      (irffn): IRFFN(\n",
              "        (conv1): Conv2d(184, 662, kernel_size=(1, 1), stride=(1, 1))\n",
              "        (bn1): BatchNorm2d(662, eps=1e-05, momentum=0.1, affine=True, track_running_stats=True)\n",
              "        (dwconv): Conv2d(662, 662, kernel_size=(3, 3), stride=(1, 1), padding=(1, 1), groups=662)\n",
              "        (bn2): BatchNorm2d(662, eps=1e-05, momentum=0.1, affine=True, track_running_stats=True)\n",
              "        (conv2): Conv2d(662, 184, kernel_size=(1, 1), stride=(1, 1))\n",
              "        (bn3): BatchNorm2d(184, eps=1e-05, momentum=0.1, affine=True, track_running_stats=True)\n",
              "        (gelu): GELU(approximate='none')\n",
              "      )\n",
              "    )\n",
              "    (8): CMTBlock(\n",
              "      (lpu): LPU(\n",
              "        (dwconv): Conv2d(184, 184, kernel_size=(3, 3), stride=(1, 1), padding=(1, 1), groups=184)\n",
              "      )\n",
              "      (mhsa): LMHSA(\n",
              "        (dwconv): Conv2d(184, 184, kernel_size=(2, 2), stride=(2, 2), groups=184)\n",
              "        (fc_q): Linear(in_features=184, out_features=184, bias=True)\n",
              "        (fc_k): Linear(in_features=184, out_features=184, bias=True)\n",
              "        (fc_v): Linear(in_features=184, out_features=184, bias=True)\n",
              "        (fc_o): Linear(in_features=184, out_features=184, bias=True)\n",
              "      )\n",
              "      (irffn): IRFFN(\n",
              "        (conv1): Conv2d(184, 662, kernel_size=(1, 1), stride=(1, 1))\n",
              "        (bn1): BatchNorm2d(662, eps=1e-05, momentum=0.1, affine=True, track_running_stats=True)\n",
              "        (dwconv): Conv2d(662, 662, kernel_size=(3, 3), stride=(1, 1), padding=(1, 1), groups=662)\n",
              "        (bn2): BatchNorm2d(662, eps=1e-05, momentum=0.1, affine=True, track_running_stats=True)\n",
              "        (conv2): Conv2d(662, 184, kernel_size=(1, 1), stride=(1, 1))\n",
              "        (bn3): BatchNorm2d(184, eps=1e-05, momentum=0.1, affine=True, track_running_stats=True)\n",
              "        (gelu): GELU(approximate='none')\n",
              "      )\n",
              "    )\n",
              "    (9): CMTBlock(\n",
              "      (lpu): LPU(\n",
              "        (dwconv): Conv2d(184, 184, kernel_size=(3, 3), stride=(1, 1), padding=(1, 1), groups=184)\n",
              "      )\n",
              "      (mhsa): LMHSA(\n",
              "        (dwconv): Conv2d(184, 184, kernel_size=(2, 2), stride=(2, 2), groups=184)\n",
              "        (fc_q): Linear(in_features=184, out_features=184, bias=True)\n",
              "        (fc_k): Linear(in_features=184, out_features=184, bias=True)\n",
              "        (fc_v): Linear(in_features=184, out_features=184, bias=True)\n",
              "        (fc_o): Linear(in_features=184, out_features=184, bias=True)\n",
              "      )\n",
              "      (irffn): IRFFN(\n",
              "        (conv1): Conv2d(184, 662, kernel_size=(1, 1), stride=(1, 1))\n",
              "        (bn1): BatchNorm2d(662, eps=1e-05, momentum=0.1, affine=True, track_running_stats=True)\n",
              "        (dwconv): Conv2d(662, 662, kernel_size=(3, 3), stride=(1, 1), padding=(1, 1), groups=662)\n",
              "        (bn2): BatchNorm2d(662, eps=1e-05, momentum=0.1, affine=True, track_running_stats=True)\n",
              "        (conv2): Conv2d(662, 184, kernel_size=(1, 1), stride=(1, 1))\n",
              "        (bn3): BatchNorm2d(184, eps=1e-05, momentum=0.1, affine=True, track_running_stats=True)\n",
              "        (gelu): GELU(approximate='none')\n",
              "      )\n",
              "    )\n",
              "  )\n",
              "  (stage4): Sequential(\n",
              "    (0): CMTBlock(\n",
              "      (lpu): LPU(\n",
              "        (dwconv): Conv2d(368, 368, kernel_size=(3, 3), stride=(1, 1), padding=(1, 1), groups=368)\n",
              "      )\n",
              "      (mhsa): LMHSA(\n",
              "        (dwconv): Conv2d(368, 368, kernel_size=(1, 1), stride=(1, 1), groups=368)\n",
              "        (fc_q): Linear(in_features=368, out_features=368, bias=True)\n",
              "        (fc_k): Linear(in_features=368, out_features=368, bias=True)\n",
              "        (fc_v): Linear(in_features=368, out_features=368, bias=True)\n",
              "        (fc_o): Linear(in_features=368, out_features=368, bias=True)\n",
              "      )\n",
              "      (irffn): IRFFN(\n",
              "        (conv1): Conv2d(368, 1324, kernel_size=(1, 1), stride=(1, 1))\n",
              "        (bn1): BatchNorm2d(1324, eps=1e-05, momentum=0.1, affine=True, track_running_stats=True)\n",
              "        (dwconv): Conv2d(1324, 1324, kernel_size=(3, 3), stride=(1, 1), padding=(1, 1), groups=1324)\n",
              "        (bn2): BatchNorm2d(1324, eps=1e-05, momentum=0.1, affine=True, track_running_stats=True)\n",
              "        (conv2): Conv2d(1324, 368, kernel_size=(1, 1), stride=(1, 1))\n",
              "        (bn3): BatchNorm2d(368, eps=1e-05, momentum=0.1, affine=True, track_running_stats=True)\n",
              "        (gelu): GELU(approximate='none')\n",
              "      )\n",
              "    )\n",
              "    (1): CMTBlock(\n",
              "      (lpu): LPU(\n",
              "        (dwconv): Conv2d(368, 368, kernel_size=(3, 3), stride=(1, 1), padding=(1, 1), groups=368)\n",
              "      )\n",
              "      (mhsa): LMHSA(\n",
              "        (dwconv): Conv2d(368, 368, kernel_size=(1, 1), stride=(1, 1), groups=368)\n",
              "        (fc_q): Linear(in_features=368, out_features=368, bias=True)\n",
              "        (fc_k): Linear(in_features=368, out_features=368, bias=True)\n",
              "        (fc_v): Linear(in_features=368, out_features=368, bias=True)\n",
              "        (fc_o): Linear(in_features=368, out_features=368, bias=True)\n",
              "      )\n",
              "      (irffn): IRFFN(\n",
              "        (conv1): Conv2d(368, 1324, kernel_size=(1, 1), stride=(1, 1))\n",
              "        (bn1): BatchNorm2d(1324, eps=1e-05, momentum=0.1, affine=True, track_running_stats=True)\n",
              "        (dwconv): Conv2d(1324, 1324, kernel_size=(3, 3), stride=(1, 1), padding=(1, 1), groups=1324)\n",
              "        (bn2): BatchNorm2d(1324, eps=1e-05, momentum=0.1, affine=True, track_running_stats=True)\n",
              "        (conv2): Conv2d(1324, 368, kernel_size=(1, 1), stride=(1, 1))\n",
              "        (bn3): BatchNorm2d(368, eps=1e-05, momentum=0.1, affine=True, track_running_stats=True)\n",
              "        (gelu): GELU(approximate='none')\n",
              "      )\n",
              "    )\n",
              "  )\n",
              "  (avg_pool): AdaptiveAvgPool2d(output_size=1)\n",
              "  (projection): Sequential(\n",
              "    (0): Conv2d(368, 1280, kernel_size=(1, 1), stride=(1, 1))\n",
              "    (1): ReLU(inplace=True)\n",
              "  )\n",
              "  (classifier): Linear(in_features=1280, out_features=10, bias=True)\n",
              ")"
            ]
          },
          "metadata": {},
          "execution_count": 19
        }
      ]
    },
    {
      "cell_type": "markdown",
      "source": [
        "The training procedure is defined by the following parameters and objects:\n",
        "\n",
        "- `EPOCHS`, the total number of epochs;\n",
        "- `LR`, the initial learning rate;\n",
        "- `WD`, the amount of weight decay to apply;\n",
        "- `loss_fn`, the loss function to use;\n",
        "- `optimizer`, the optimizer to use;\n",
        "- `scheduler`, the scheduler to use."
      ],
      "metadata": {
        "id": "BWFnVVWWbtom"
      }
    },
    {
      "cell_type": "code",
      "source": [
        "# Epochs.\n",
        "EPOCHS = 25\n",
        "\n",
        "# Initial learning rate.\n",
        "LR = 6e-5\n",
        "\n",
        "# Weight decay.\n",
        "WD = 1e-5\n",
        "\n",
        "# Loss function.\n",
        "loss_fn = nn.CrossEntropyLoss()\n",
        "\n",
        "# Optimizer.\n",
        "optimizer = torch.optim.AdamW(m_1.parameters(), lr = LR, weight_decay = WD)\n",
        "\n",
        "# Scheduler.\n",
        "scheduler = torch.optim.lr_scheduler.CosineAnnealingLR(optimizer, EPOCHS)"
      ],
      "metadata": {
        "id": "30WHWDVvx5Th"
      },
      "execution_count": null,
      "outputs": []
    },
    {
      "cell_type": "markdown",
      "source": [
        "The network is trained and validated on, respectively, the training and validation sets."
      ],
      "metadata": {
        "id": "k82vCjd1cQ0B"
      }
    },
    {
      "cell_type": "code",
      "source": [
        "# Training.\n",
        "history = train(m_1, optimizer, scheduler, loss_fn, train_loader, val_loader, EPOCHS, device)\n",
        "\n",
        "# Creating a checkpoint.\n",
        "checkpoint = {\n",
        "  \"model\": m_1.state_dict(),\n",
        "  \"optimizer\": optimizer.state_dict(),\n",
        "  \"scheduler\": scheduler.state_dict()\n",
        "}\n",
        "\n",
        "# Saving the model.\n",
        "torch.save(checkpoint, \"checkpoint1.pt\")\n",
        "\n",
        "# Saving history.\n",
        "with open(\"m_1_history.pkl\", \"wb\") as f:\n",
        "  pickle.dump(history, f)"
      ],
      "metadata": {
        "id": "nIOi_J2Ot4Oh",
        "colab": {
          "base_uri": "https://localhost:8080/"
        },
        "outputId": "ee72d918-b299-4e65-9530-edeb050fe3d3"
      },
      "execution_count": null,
      "outputs": [
        {
          "metadata": {
            "tags": null
          },
          "name": "stdout",
          "output_type": "stream",
          "text": [
            "Epoch  1/25:\n"
          ]
        },
        {
          "metadata": {
            "tags": null
          },
          "name": "stderr",
          "output_type": "stream",
          "text": [
            "Training: 100%|██████████| 1250/1250 [06:19<00:00,  3.30it/s]\n",
            "Validation: 100%|██████████| 313/313 [00:25<00:00, 12.06it/s]\n"
          ]
        },
        {
          "metadata": {
            "tags": null
          },
          "name": "stdout",
          "output_type": "stream",
          "text": [
            "train_loss: 1.4512, train_accuracy: 0.4673, val_loss: 1.1642, val_accuracy: 0.5790, lr: 6.0000e-05\n",
            "\n",
            "Epoch  2/25:\n"
          ]
        },
        {
          "metadata": {
            "tags": null
          },
          "name": "stderr",
          "output_type": "stream",
          "text": [
            "Training: 100%|██████████| 1250/1250 [06:16<00:00,  3.32it/s]\n",
            "Validation: 100%|██████████| 313/313 [00:26<00:00, 12.03it/s]\n"
          ]
        },
        {
          "metadata": {
            "tags": null
          },
          "name": "stdout",
          "output_type": "stream",
          "text": [
            "train_loss: 1.0418, train_accuracy: 0.6303, val_loss: 0.9360, val_accuracy: 0.6702, lr: 5.9763e-05\n",
            "\n",
            "Epoch  3/25:\n"
          ]
        },
        {
          "metadata": {
            "tags": null
          },
          "name": "stderr",
          "output_type": "stream",
          "text": [
            "Training: 100%|██████████| 1250/1250 [06:14<00:00,  3.34it/s]\n",
            "Validation: 100%|██████████| 313/313 [00:26<00:00, 11.97it/s]\n"
          ]
        },
        {
          "metadata": {
            "tags": null
          },
          "name": "stdout",
          "output_type": "stream",
          "text": [
            "train_loss: 0.8665, train_accuracy: 0.6919, val_loss: 0.7979, val_accuracy: 0.7219, lr: 5.9057e-05\n",
            "\n",
            "Epoch  4/25:\n"
          ]
        },
        {
          "metadata": {
            "tags": null
          },
          "name": "stderr",
          "output_type": "stream",
          "text": [
            "Training: 100%|██████████| 1250/1250 [06:15<00:00,  3.33it/s]\n",
            "Validation: 100%|██████████| 313/313 [00:26<00:00, 11.73it/s]\n"
          ]
        },
        {
          "metadata": {
            "tags": null
          },
          "name": "stdout",
          "output_type": "stream",
          "text": [
            "train_loss: 0.7398, train_accuracy: 0.7423, val_loss: 0.7032, val_accuracy: 0.7525, lr: 5.7893e-05\n",
            "\n",
            "Epoch  5/25:\n"
          ]
        },
        {
          "metadata": {
            "tags": null
          },
          "name": "stderr",
          "output_type": "stream",
          "text": [
            "Training: 100%|██████████| 1250/1250 [06:14<00:00,  3.34it/s]\n",
            "Validation: 100%|██████████| 313/313 [00:26<00:00, 12.00it/s]\n"
          ]
        },
        {
          "metadata": {
            "tags": null
          },
          "name": "stdout",
          "output_type": "stream",
          "text": [
            "train_loss: 0.6426, train_accuracy: 0.7765, val_loss: 0.6381, val_accuracy: 0.7776, lr: 5.6289e-05\n",
            "\n",
            "Epoch  6/25:\n"
          ]
        },
        {
          "metadata": {
            "tags": null
          },
          "name": "stderr",
          "output_type": "stream",
          "text": [
            "Training: 100%|██████████| 1250/1250 [06:14<00:00,  3.34it/s]\n",
            "Validation: 100%|██████████| 313/313 [00:26<00:00, 12.01it/s]\n"
          ]
        },
        {
          "metadata": {
            "tags": null
          },
          "name": "stdout",
          "output_type": "stream",
          "text": [
            "train_loss: 0.5785, train_accuracy: 0.7993, val_loss: 0.6013, val_accuracy: 0.7906, lr: 5.4271e-05\n",
            "\n",
            "Epoch  7/25:\n"
          ]
        },
        {
          "metadata": {
            "tags": null
          },
          "name": "stderr",
          "output_type": "stream",
          "text": [
            "Training: 100%|██████████| 1250/1250 [06:14<00:00,  3.34it/s]\n",
            "Validation: 100%|██████████| 313/313 [00:26<00:00, 12.03it/s]\n"
          ]
        },
        {
          "metadata": {
            "tags": null
          },
          "name": "stdout",
          "output_type": "stream",
          "text": [
            "train_loss: 0.5231, train_accuracy: 0.8183, val_loss: 0.5711, val_accuracy: 0.8000, lr: 5.1869e-05\n",
            "\n",
            "Epoch  8/25:\n"
          ]
        },
        {
          "metadata": {
            "tags": null
          },
          "name": "stderr",
          "output_type": "stream",
          "text": [
            "Training: 100%|██████████| 1250/1250 [06:14<00:00,  3.34it/s]\n",
            "Validation: 100%|██████████| 313/313 [00:26<00:00, 12.01it/s]\n"
          ]
        },
        {
          "metadata": {
            "tags": null
          },
          "name": "stdout",
          "output_type": "stream",
          "text": [
            "train_loss: 0.4741, train_accuracy: 0.8334, val_loss: 0.5381, val_accuracy: 0.8169, lr: 4.9123e-05\n",
            "\n",
            "Epoch  9/25:\n"
          ]
        },
        {
          "metadata": {
            "tags": null
          },
          "name": "stderr",
          "output_type": "stream",
          "text": [
            "Training: 100%|██████████| 1250/1250 [06:14<00:00,  3.34it/s]\n",
            "Validation: 100%|██████████| 313/313 [00:25<00:00, 12.04it/s]\n"
          ]
        },
        {
          "metadata": {
            "tags": null
          },
          "name": "stdout",
          "output_type": "stream",
          "text": [
            "train_loss: 0.4431, train_accuracy: 0.8456, val_loss: 0.5078, val_accuracy: 0.8265, lr: 4.6075e-05\n",
            "\n",
            "Epoch 10/25:\n"
          ]
        },
        {
          "metadata": {
            "tags": null
          },
          "name": "stderr",
          "output_type": "stream",
          "text": [
            "Training: 100%|██████████| 1250/1250 [06:14<00:00,  3.34it/s]\n",
            "Validation: 100%|██████████| 313/313 [00:25<00:00, 12.07it/s]\n"
          ]
        },
        {
          "metadata": {
            "tags": null
          },
          "name": "stdout",
          "output_type": "stream",
          "text": [
            "train_loss: 0.3961, train_accuracy: 0.8601, val_loss: 0.4856, val_accuracy: 0.8346, lr: 4.2773e-05\n",
            "\n",
            "Epoch 11/25:\n"
          ]
        },
        {
          "metadata": {
            "tags": null
          },
          "name": "stderr",
          "output_type": "stream",
          "text": [
            "Training: 100%|██████████| 1250/1250 [06:14<00:00,  3.34it/s]\n",
            "Validation: 100%|██████████| 313/313 [00:25<00:00, 12.08it/s]\n"
          ]
        },
        {
          "metadata": {
            "tags": null
          },
          "name": "stdout",
          "output_type": "stream",
          "text": [
            "train_loss: 0.3661, train_accuracy: 0.8714, val_loss: 0.4723, val_accuracy: 0.8354, lr: 3.9271e-05\n",
            "\n",
            "Epoch 12/25:\n"
          ]
        },
        {
          "metadata": {
            "tags": null
          },
          "name": "stderr",
          "output_type": "stream",
          "text": [
            "Training: 100%|██████████| 1250/1250 [06:13<00:00,  3.35it/s]\n",
            "Validation: 100%|██████████| 313/313 [00:26<00:00, 12.02it/s]\n"
          ]
        },
        {
          "metadata": {
            "tags": null
          },
          "name": "stdout",
          "output_type": "stream",
          "text": [
            "train_loss: 0.3374, train_accuracy: 0.8826, val_loss: 0.4460, val_accuracy: 0.8486, lr: 3.5621e-05\n",
            "\n",
            "Epoch 13/25:\n"
          ]
        },
        {
          "metadata": {
            "tags": null
          },
          "name": "stderr",
          "output_type": "stream",
          "text": [
            "Training: 100%|██████████| 1250/1250 [06:14<00:00,  3.34it/s]\n",
            "Validation: 100%|██████████| 313/313 [00:25<00:00, 12.15it/s]\n"
          ]
        },
        {
          "metadata": {
            "tags": null
          },
          "name": "stdout",
          "output_type": "stream",
          "text": [
            "train_loss: 0.3097, train_accuracy: 0.8931, val_loss: 0.4414, val_accuracy: 0.8515, lr: 3.1884e-05\n",
            "\n",
            "Epoch 14/25:\n"
          ]
        },
        {
          "metadata": {
            "tags": null
          },
          "name": "stderr",
          "output_type": "stream",
          "text": [
            "Training: 100%|██████████| 1250/1250 [06:13<00:00,  3.35it/s]\n",
            "Validation: 100%|██████████| 313/313 [00:25<00:00, 12.14it/s]\n"
          ]
        },
        {
          "metadata": {
            "tags": null
          },
          "name": "stdout",
          "output_type": "stream",
          "text": [
            "train_loss: 0.2896, train_accuracy: 0.8979, val_loss: 0.4472, val_accuracy: 0.8483, lr: 2.8116e-05\n",
            "\n",
            "Epoch 15/25:\n"
          ]
        },
        {
          "metadata": {
            "tags": null
          },
          "name": "stderr",
          "output_type": "stream",
          "text": [
            "Training: 100%|██████████| 1250/1250 [06:12<00:00,  3.35it/s]\n",
            "Validation: 100%|██████████| 313/313 [00:25<00:00, 12.10it/s]\n"
          ]
        },
        {
          "metadata": {
            "tags": null
          },
          "name": "stdout",
          "output_type": "stream",
          "text": [
            "train_loss: 0.2628, train_accuracy: 0.9083, val_loss: 0.4235, val_accuracy: 0.8562, lr: 2.4379e-05\n",
            "\n",
            "Epoch 16/25:\n"
          ]
        },
        {
          "metadata": {
            "tags": null
          },
          "name": "stderr",
          "output_type": "stream",
          "text": [
            "Training: 100%|██████████| 1250/1250 [06:13<00:00,  3.34it/s]\n",
            "Validation: 100%|██████████| 313/313 [00:26<00:00, 11.97it/s]\n"
          ]
        },
        {
          "metadata": {
            "tags": null
          },
          "name": "stdout",
          "output_type": "stream",
          "text": [
            "train_loss: 0.2408, train_accuracy: 0.9160, val_loss: 0.4306, val_accuracy: 0.8605, lr: 2.0729e-05\n",
            "\n",
            "Epoch 17/25:\n"
          ]
        },
        {
          "metadata": {
            "tags": null
          },
          "name": "stderr",
          "output_type": "stream",
          "text": [
            "Training: 100%|██████████| 1250/1250 [06:14<00:00,  3.34it/s]\n",
            "Validation: 100%|██████████| 313/313 [00:26<00:00, 12.00it/s]\n"
          ]
        },
        {
          "metadata": {
            "tags": null
          },
          "name": "stdout",
          "output_type": "stream",
          "text": [
            "train_loss: 0.2243, train_accuracy: 0.9222, val_loss: 0.4263, val_accuracy: 0.8626, lr: 1.7227e-05\n",
            "\n",
            "Epoch 18/25:\n"
          ]
        },
        {
          "metadata": {
            "tags": null
          },
          "name": "stderr",
          "output_type": "stream",
          "text": [
            "Training: 100%|██████████| 1250/1250 [06:14<00:00,  3.33it/s]\n",
            "Validation: 100%|██████████| 313/313 [00:25<00:00, 12.05it/s]\n"
          ]
        },
        {
          "metadata": {
            "tags": null
          },
          "name": "stdout",
          "output_type": "stream",
          "text": [
            "train_loss: 0.2124, train_accuracy: 0.9263, val_loss: 0.4176, val_accuracy: 0.8628, lr: 1.3925e-05\n",
            "\n",
            "Epoch 19/25:\n"
          ]
        },
        {
          "metadata": {
            "tags": null
          },
          "name": "stderr",
          "output_type": "stream",
          "text": [
            "Training: 100%|██████████| 1250/1250 [06:14<00:00,  3.34it/s]\n",
            "Validation: 100%|██████████| 313/313 [00:26<00:00, 12.02it/s]\n"
          ]
        },
        {
          "metadata": {
            "tags": null
          },
          "name": "stdout",
          "output_type": "stream",
          "text": [
            "train_loss: 0.1936, train_accuracy: 0.9323, val_loss: 0.4166, val_accuracy: 0.8649, lr: 1.0877e-05\n",
            "\n",
            "Epoch 20/25:\n"
          ]
        },
        {
          "metadata": {
            "tags": null
          },
          "name": "stderr",
          "output_type": "stream",
          "text": [
            "Training: 100%|██████████| 1250/1250 [06:14<00:00,  3.34it/s]\n",
            "Validation: 100%|██████████| 313/313 [00:25<00:00, 12.08it/s]\n"
          ]
        },
        {
          "metadata": {
            "tags": null
          },
          "name": "stdout",
          "output_type": "stream",
          "text": [
            "train_loss: 0.1852, train_accuracy: 0.9371, val_loss: 0.4057, val_accuracy: 0.8652, lr: 8.1309e-06\n",
            "\n",
            "Epoch 21/25:\n"
          ]
        },
        {
          "metadata": {
            "tags": null
          },
          "name": "stderr",
          "output_type": "stream",
          "text": [
            "Training: 100%|██████████| 1250/1250 [06:14<00:00,  3.34it/s]\n",
            "Validation: 100%|██████████| 313/313 [00:26<00:00, 11.94it/s]\n"
          ]
        },
        {
          "metadata": {
            "tags": null
          },
          "name": "stdout",
          "output_type": "stream",
          "text": [
            "train_loss: 0.1740, train_accuracy: 0.9396, val_loss: 0.3964, val_accuracy: 0.8707, lr: 5.7295e-06\n",
            "\n",
            "Epoch 22/25:\n"
          ]
        },
        {
          "output_type": "stream",
          "name": "stderr",
          "text": [
            "Training: 100%|██████████| 1250/1250 [06:14<00:00,  3.34it/s]\n",
            "Validation: 100%|██████████| 313/313 [00:26<00:00, 12.02it/s]\n"
          ]
        },
        {
          "output_type": "stream",
          "name": "stdout",
          "text": [
            "train_loss: 0.1651, train_accuracy: 0.9422, val_loss: 0.3935, val_accuracy: 0.8725, lr: 3.7108e-06\n",
            "\n",
            "Epoch 23/25:\n"
          ]
        },
        {
          "output_type": "stream",
          "name": "stderr",
          "text": [
            "Training: 100%|██████████| 1250/1250 [06:14<00:00,  3.34it/s]\n",
            "Validation: 100%|██████████| 313/313 [00:26<00:00, 11.92it/s]\n"
          ]
        },
        {
          "output_type": "stream",
          "name": "stdout",
          "text": [
            "train_loss: 0.1597, train_accuracy: 0.9448, val_loss: 0.4058, val_accuracy: 0.8700, lr: 2.1067e-06\n",
            "\n",
            "Epoch 24/25:\n"
          ]
        },
        {
          "output_type": "stream",
          "name": "stderr",
          "text": [
            "Training: 100%|██████████| 1250/1250 [06:14<00:00,  3.34it/s]\n",
            "Validation: 100%|██████████| 313/313 [00:26<00:00, 11.99it/s]\n"
          ]
        },
        {
          "output_type": "stream",
          "name": "stdout",
          "text": [
            "train_loss: 0.1593, train_accuracy: 0.9463, val_loss: 0.3871, val_accuracy: 0.8720, lr: 9.4251e-07\n",
            "\n",
            "Epoch 25/25:\n"
          ]
        },
        {
          "output_type": "stream",
          "name": "stderr",
          "text": [
            "Training: 100%|██████████| 1250/1250 [06:14<00:00,  3.34it/s]\n",
            "Validation: 100%|██████████| 313/313 [00:26<00:00, 11.92it/s]\n"
          ]
        },
        {
          "output_type": "stream",
          "name": "stdout",
          "text": [
            "\n",
            "train_loss: 0.1568, train_accuracy: 0.9460, val_loss: 0.3903, val_accuracy: 0.8772, lr: 2.3656e-07\n"
          ]
        }
      ]
    },
    {
      "cell_type": "markdown",
      "source": [
        "### Standard MHSA model ($m_2$)"
      ],
      "metadata": {
        "id": "Z3tA4hXcRwt6"
      }
    },
    {
      "cell_type": "markdown",
      "source": [
        "Differently from $m_1$, the $m_2$ model implements CMT-Ti but uses standard multi-head self-attention (namely, the `MHSA` module) instead of the lightweight version."
      ],
      "metadata": {
        "id": "09UIt7dbcjEa"
      }
    },
    {
      "cell_type": "code",
      "source": [
        "# Defining the model that uses standard MHSA.\n",
        "m_2 = CMT(\n",
        "  in_channels = 3,\n",
        "  stem_channels = 16,\n",
        "  channels = [46, 92, 184, 368],\n",
        "  block_layers = [2, 2, 10, 2],\n",
        "  k = [8, 4, 2, 1],\n",
        "  heads = [1, 2, 4, 8],\n",
        "  R = 3.6,\n",
        "  input_size = 224,\n",
        "  classes = 10,\n",
        "  attention_type = \"standard\")\n",
        "\n",
        "# Printing number of parameters.\n",
        "print(f\"m_2 has {sum(p.numel() for p in m_2.parameters())} parameters.\")"
      ],
      "metadata": {
        "id": "us44rHYmDawu",
        "colab": {
          "base_uri": "https://localhost:8080/"
        },
        "outputId": "ca7f910d-f19e-4b58-da2d-64761da8bd92"
      },
      "execution_count": null,
      "outputs": [
        {
          "output_type": "stream",
          "name": "stdout",
          "text": [
            "m_2 has 8111348 parameters.\n"
          ]
        }
      ]
    },
    {
      "cell_type": "markdown",
      "source": [
        "By looking at the results printed by the following cell, it is possible to notice how this model implies a number of FLOPs that is almost three times as big as the number of FLOPs used by $m_1$, mainly due to the complexity of the `MHSA` module. In particular, $m_2$ has $8.11\\text{M}$ parameters and $3.56\\text{B}$ FLOPs."
      ],
      "metadata": {
        "id": "xX_2G2Ewqbef"
      }
    },
    {
      "cell_type": "code",
      "source": [
        "# Computing number of FLOPs.\n",
        "flops = FlopCountAnalysis(m_2, (torch.randn((1, 3, 224, 224)),))\n",
        "\n",
        "# Printing number of FLOPs per layer.\n",
        "print(flop_count_str(flops))"
      ],
      "metadata": {
        "colab": {
          "base_uri": "https://localhost:8080/"
        },
        "id": "lt6nY16oe2tn",
        "outputId": "6d2666f4-4f16-4806-9dd1-c211d0f7c80f"
      },
      "execution_count": null,
      "outputs": [
        {
          "output_type": "stream",
          "name": "stdout",
          "text": [
            "CMT(\n",
            "  #params: 8.11M, #flops: 3.56G\n",
            "  (stem): Stem(\n",
            "    #params: 5.18K, #flops: 66.23M\n",
            "    (conv1): Conv2d(\n",
            "      3, 16, kernel_size=(3, 3), stride=(2, 2), padding=(1, 1)\n",
            "      #params: 0.45K, #flops: 5.42M\n",
            "    )\n",
            "    (bn1): BatchNorm2d(\n",
            "      16, eps=1e-05, momentum=0.1, affine=True, track_running_stats=True\n",
            "      #params: 32, #flops: 1M\n",
            "    )\n",
            "    (conv2): Conv2d(\n",
            "      16, 16, kernel_size=(3, 3), stride=(1, 1), padding=(1, 1)\n",
            "      #params: 2.32K, #flops: 28.9M\n",
            "    )\n",
            "    (bn2): BatchNorm2d(\n",
            "      16, eps=1e-05, momentum=0.1, affine=True, track_running_stats=True\n",
            "      #params: 32, #flops: 1M\n",
            "    )\n",
            "    (conv3): Conv2d(\n",
            "      16, 16, kernel_size=(3, 3), stride=(1, 1), padding=(1, 1)\n",
            "      #params: 2.32K, #flops: 28.9M\n",
            "    )\n",
            "    (bn3): BatchNorm2d(\n",
            "      16, eps=1e-05, momentum=0.1, affine=True, track_running_stats=True\n",
            "      #params: 32, #flops: 1M\n",
            "    )\n",
            "    (gelu): GELU(approximate='none')\n",
            "  )\n",
            "  (pe1): PatchEmbedding(\n",
            "    #params: 2.99K, #flops: 9.81M\n",
            "    (conv): Conv2d(\n",
            "      16, 46, kernel_size=(2, 2), stride=(2, 2)\n",
            "      #params: 2.99K, #flops: 9.23M\n",
            "    )\n",
            "  )\n",
            "  (pe2): PatchEmbedding(\n",
            "    #params: 17.02K, #flops: 13.56M\n",
            "    (conv): Conv2d(\n",
            "      46, 92, kernel_size=(2, 2), stride=(2, 2)\n",
            "      #params: 17.02K, #flops: 13.27M\n",
            "    )\n",
            "  )\n",
            "  (pe3): PatchEmbedding(\n",
            "    #params: 67.9K, #flops: 13.42M\n",
            "    (conv): Conv2d(\n",
            "      92, 184, kernel_size=(2, 2), stride=(2, 2)\n",
            "      #params: 67.9K, #flops: 13.27M\n",
            "    )\n",
            "  )\n",
            "  (pe4): PatchEmbedding(\n",
            "    #params: 0.27M, #flops: 13.34M\n",
            "    (conv): Conv2d(\n",
            "      184, 368, kernel_size=(2, 2), stride=(2, 2)\n",
            "      #params: 0.27M, #flops: 13.27M\n",
            "    )\n",
            "  )\n",
            "  (stage1): Sequential(\n",
            "    #params: 53.8K, #flops: 1.98G\n",
            "    (0): CMTBlock(\n",
            "      #params: 26.9K, #flops: 0.99G\n",
            "      (lpu): LPU(\n",
            "        #params: 0.46K, #flops: 1.3M\n",
            "        (dwconv): Conv2d(\n",
            "          46, 46, kernel_size=(3, 3), stride=(1, 1), padding=(1, 1), groups=46\n",
            "          #params: 0.46K, #flops: 1.3M\n",
            "        )\n",
            "      )\n",
            "      (mhsa): MHSA(\n",
            "        #params: 8.65K, #flops: 0.93G\n",
            "        (fc_q): Linear(\n",
            "          in_features=46, out_features=46, bias=True\n",
            "          #params: 2.16K, #flops: 6.64M\n",
            "        )\n",
            "        (fc_k): Linear(\n",
            "          in_features=46, out_features=46, bias=True\n",
            "          #params: 2.16K, #flops: 6.64M\n",
            "        )\n",
            "        (fc_v): Linear(\n",
            "          in_features=46, out_features=46, bias=True\n",
            "          #params: 2.16K, #flops: 6.64M\n",
            "        )\n",
            "        (fc_o): Linear(\n",
            "          in_features=46, out_features=46, bias=True\n",
            "          #params: 2.16K, #flops: 6.64M\n",
            "        )\n",
            "      )\n",
            "      (irffn): IRFFN(\n",
            "        #params: 17.79K, #flops: 58.73M\n",
            "        (conv1): Conv2d(\n",
            "          46, 165, kernel_size=(1, 1), stride=(1, 1)\n",
            "          #params: 7.75K, #flops: 23.8M\n",
            "        )\n",
            "        (bn1): BatchNorm2d(\n",
            "          165, eps=1e-05, momentum=0.1, affine=True, track_running_stats=True\n",
            "          #params: 0.33K, #flops: 2.59M\n",
            "        )\n",
            "        (dwconv): Conv2d(\n",
            "          165, 165, kernel_size=(3, 3), stride=(1, 1), padding=(1, 1), groups=165\n",
            "          #params: 1.65K, #flops: 4.66M\n",
            "        )\n",
            "        (bn2): BatchNorm2d(\n",
            "          165, eps=1e-05, momentum=0.1, affine=True, track_running_stats=True\n",
            "          #params: 0.33K, #flops: 2.59M\n",
            "        )\n",
            "        (conv2): Conv2d(\n",
            "          165, 46, kernel_size=(1, 1), stride=(1, 1)\n",
            "          #params: 7.64K, #flops: 23.8M\n",
            "        )\n",
            "        (bn3): BatchNorm2d(\n",
            "          46, eps=1e-05, momentum=0.1, affine=True, track_running_stats=True\n",
            "          #params: 92, #flops: 0.72M\n",
            "        )\n",
            "        (gelu): GELU(approximate='none')\n",
            "      )\n",
            "    )\n",
            "    (1): CMTBlock(\n",
            "      #params: 26.9K, #flops: 0.99G\n",
            "      (lpu): LPU(\n",
            "        #params: 0.46K, #flops: 1.3M\n",
            "        (dwconv): Conv2d(\n",
            "          46, 46, kernel_size=(3, 3), stride=(1, 1), padding=(1, 1), groups=46\n",
            "          #params: 0.46K, #flops: 1.3M\n",
            "        )\n",
            "      )\n",
            "      (mhsa): MHSA(\n",
            "        #params: 8.65K, #flops: 0.93G\n",
            "        (fc_q): Linear(\n",
            "          in_features=46, out_features=46, bias=True\n",
            "          #params: 2.16K, #flops: 6.64M\n",
            "        )\n",
            "        (fc_k): Linear(\n",
            "          in_features=46, out_features=46, bias=True\n",
            "          #params: 2.16K, #flops: 6.64M\n",
            "        )\n",
            "        (fc_v): Linear(\n",
            "          in_features=46, out_features=46, bias=True\n",
            "          #params: 2.16K, #flops: 6.64M\n",
            "        )\n",
            "        (fc_o): Linear(\n",
            "          in_features=46, out_features=46, bias=True\n",
            "          #params: 2.16K, #flops: 6.64M\n",
            "        )\n",
            "      )\n",
            "      (irffn): IRFFN(\n",
            "        #params: 17.79K, #flops: 58.73M\n",
            "        (conv1): Conv2d(\n",
            "          46, 165, kernel_size=(1, 1), stride=(1, 1)\n",
            "          #params: 7.75K, #flops: 23.8M\n",
            "        )\n",
            "        (bn1): BatchNorm2d(\n",
            "          165, eps=1e-05, momentum=0.1, affine=True, track_running_stats=True\n",
            "          #params: 0.33K, #flops: 2.59M\n",
            "        )\n",
            "        (dwconv): Conv2d(\n",
            "          165, 165, kernel_size=(3, 3), stride=(1, 1), padding=(1, 1), groups=165\n",
            "          #params: 1.65K, #flops: 4.66M\n",
            "        )\n",
            "        (bn2): BatchNorm2d(\n",
            "          165, eps=1e-05, momentum=0.1, affine=True, track_running_stats=True\n",
            "          #params: 0.33K, #flops: 2.59M\n",
            "        )\n",
            "        (conv2): Conv2d(\n",
            "          165, 46, kernel_size=(1, 1), stride=(1, 1)\n",
            "          #params: 7.64K, #flops: 23.8M\n",
            "        )\n",
            "        (bn3): BatchNorm2d(\n",
            "          46, eps=1e-05, momentum=0.1, affine=True, track_running_stats=True\n",
            "          #params: 92, #flops: 0.72M\n",
            "        )\n",
            "        (gelu): GELU(approximate='none')\n",
            "      )\n",
            "    )\n",
            "  )\n",
            "  (stage2): Sequential(\n",
            "    #params: 0.2M, #flops: 0.39G\n",
            "    (0): CMTBlock(\n",
            "      #params: 0.1M, #flops: 0.19G\n",
            "      (lpu): LPU(\n",
            "        #params: 0.92K, #flops: 0.65M\n",
            "        (dwconv): Conv2d(\n",
            "          92, 92, kernel_size=(3, 3), stride=(1, 1), padding=(1, 1), groups=92\n",
            "          #params: 0.92K, #flops: 0.65M\n",
            "        )\n",
            "      )\n",
            "      (mhsa): MHSA(\n",
            "        #params: 34.22K, #flops: 0.14G\n",
            "        (fc_q): Linear(\n",
            "          in_features=92, out_features=92, bias=True\n",
            "          #params: 8.56K, #flops: 6.64M\n",
            "        )\n",
            "        (fc_k): Linear(\n",
            "          in_features=92, out_features=92, bias=True\n",
            "          #params: 8.56K, #flops: 6.64M\n",
            "        )\n",
            "        (fc_v): Linear(\n",
            "          in_features=92, out_features=92, bias=True\n",
            "          #params: 8.56K, #flops: 6.64M\n",
            "        )\n",
            "        (fc_o): Linear(\n",
            "          in_features=92, out_features=92, bias=True\n",
            "          #params: 8.56K, #flops: 6.64M\n",
            "        )\n",
            "      )\n",
            "      (irffn): IRFFN(\n",
            "        #params: 66.14K, #flops: 53.33M\n",
            "        (conv1): Conv2d(\n",
            "          92, 331, kernel_size=(1, 1), stride=(1, 1)\n",
            "          #params: 30.78K, #flops: 23.87M\n",
            "        )\n",
            "        (bn1): BatchNorm2d(\n",
            "          331, eps=1e-05, momentum=0.1, affine=True, track_running_stats=True\n",
            "          #params: 0.66K, #flops: 1.3M\n",
            "        )\n",
            "        (dwconv): Conv2d(\n",
            "          331, 331, kernel_size=(3, 3), stride=(1, 1), padding=(1, 1), groups=331\n",
            "          #params: 3.31K, #flops: 2.34M\n",
            "        )\n",
            "        (bn2): BatchNorm2d(\n",
            "          331, eps=1e-05, momentum=0.1, affine=True, track_running_stats=True\n",
            "          #params: 0.66K, #flops: 1.3M\n",
            "        )\n",
            "        (conv2): Conv2d(\n",
            "          331, 92, kernel_size=(1, 1), stride=(1, 1)\n",
            "          #params: 30.54K, #flops: 23.87M\n",
            "        )\n",
            "        (bn3): BatchNorm2d(\n",
            "          92, eps=1e-05, momentum=0.1, affine=True, track_running_stats=True\n",
            "          #params: 0.18K, #flops: 0.36M\n",
            "        )\n",
            "        (gelu): GELU(approximate='none')\n",
            "      )\n",
            "    )\n",
            "    (1): CMTBlock(\n",
            "      #params: 0.1M, #flops: 0.19G\n",
            "      (lpu): LPU(\n",
            "        #params: 0.92K, #flops: 0.65M\n",
            "        (dwconv): Conv2d(\n",
            "          92, 92, kernel_size=(3, 3), stride=(1, 1), padding=(1, 1), groups=92\n",
            "          #params: 0.92K, #flops: 0.65M\n",
            "        )\n",
            "      )\n",
            "      (mhsa): MHSA(\n",
            "        #params: 34.22K, #flops: 0.14G\n",
            "        (fc_q): Linear(\n",
            "          in_features=92, out_features=92, bias=True\n",
            "          #params: 8.56K, #flops: 6.64M\n",
            "        )\n",
            "        (fc_k): Linear(\n",
            "          in_features=92, out_features=92, bias=True\n",
            "          #params: 8.56K, #flops: 6.64M\n",
            "        )\n",
            "        (fc_v): Linear(\n",
            "          in_features=92, out_features=92, bias=True\n",
            "          #params: 8.56K, #flops: 6.64M\n",
            "        )\n",
            "        (fc_o): Linear(\n",
            "          in_features=92, out_features=92, bias=True\n",
            "          #params: 8.56K, #flops: 6.64M\n",
            "        )\n",
            "      )\n",
            "      (irffn): IRFFN(\n",
            "        #params: 66.14K, #flops: 53.33M\n",
            "        (conv1): Conv2d(\n",
            "          92, 331, kernel_size=(1, 1), stride=(1, 1)\n",
            "          #params: 30.78K, #flops: 23.87M\n",
            "        )\n",
            "        (bn1): BatchNorm2d(\n",
            "          331, eps=1e-05, momentum=0.1, affine=True, track_running_stats=True\n",
            "          #params: 0.66K, #flops: 1.3M\n",
            "        )\n",
            "        (dwconv): Conv2d(\n",
            "          331, 331, kernel_size=(3, 3), stride=(1, 1), padding=(1, 1), groups=331\n",
            "          #params: 3.31K, #flops: 2.34M\n",
            "        )\n",
            "        (bn2): BatchNorm2d(\n",
            "          331, eps=1e-05, momentum=0.1, affine=True, track_running_stats=True\n",
            "          #params: 0.66K, #flops: 1.3M\n",
            "        )\n",
            "        (conv2): Conv2d(\n",
            "          331, 92, kernel_size=(1, 1), stride=(1, 1)\n",
            "          #params: 30.54K, #flops: 23.87M\n",
            "        )\n",
            "        (bn3): BatchNorm2d(\n",
            "          92, eps=1e-05, momentum=0.1, affine=True, track_running_stats=True\n",
            "          #params: 0.18K, #flops: 0.36M\n",
            "        )\n",
            "        (gelu): GELU(approximate='none')\n",
            "      )\n",
            "    )\n",
            "  )\n",
            "  (stage3): Sequential(\n",
            "    #params: 3.92M, #flops: 0.92G\n",
            "    (0): CMTBlock(\n",
            "      #params: 0.39M, #flops: 91.69M\n",
            "      (lpu): LPU(\n",
            "        #params: 1.84K, #flops: 0.32M\n",
            "        (dwconv): Conv2d(\n",
            "          184, 184, kernel_size=(3, 3), stride=(1, 1), padding=(1, 1), groups=184\n",
            "          #params: 1.84K, #flops: 0.32M\n",
            "        )\n",
            "      )\n",
            "      (mhsa): MHSA(\n",
            "        #params: 0.14M, #flops: 40.83M\n",
            "        (fc_q): Linear(\n",
            "          in_features=184, out_features=184, bias=True\n",
            "          #params: 34.04K, #flops: 6.64M\n",
            "        )\n",
            "        (fc_k): Linear(\n",
            "          in_features=184, out_features=184, bias=True\n",
            "          #params: 34.04K, #flops: 6.64M\n",
            "        )\n",
            "        (fc_v): Linear(\n",
            "          in_features=184, out_features=184, bias=True\n",
            "          #params: 34.04K, #flops: 6.64M\n",
            "        )\n",
            "        (fc_o): Linear(\n",
            "          in_features=184, out_features=184, bias=True\n",
            "          #params: 34.04K, #flops: 6.64M\n",
            "        )\n",
            "      )\n",
            "      (irffn): IRFFN(\n",
            "        #params: 0.25M, #flops: 50.54M\n",
            "        (conv1): Conv2d(\n",
            "          184, 662, kernel_size=(1, 1), stride=(1, 1)\n",
            "          #params: 0.12M, #flops: 23.87M\n",
            "        )\n",
            "        (bn1): BatchNorm2d(\n",
            "          662, eps=1e-05, momentum=0.1, affine=True, track_running_stats=True\n",
            "          #params: 1.32K, #flops: 0.65M\n",
            "        )\n",
            "        (dwconv): Conv2d(\n",
            "          662, 662, kernel_size=(3, 3), stride=(1, 1), padding=(1, 1), groups=662\n",
            "          #params: 6.62K, #flops: 1.17M\n",
            "        )\n",
            "        (bn2): BatchNorm2d(\n",
            "          662, eps=1e-05, momentum=0.1, affine=True, track_running_stats=True\n",
            "          #params: 1.32K, #flops: 0.65M\n",
            "        )\n",
            "        (conv2): Conv2d(\n",
            "          662, 184, kernel_size=(1, 1), stride=(1, 1)\n",
            "          #params: 0.12M, #flops: 23.87M\n",
            "        )\n",
            "        (bn3): BatchNorm2d(\n",
            "          184, eps=1e-05, momentum=0.1, affine=True, track_running_stats=True\n",
            "          #params: 0.37K, #flops: 0.18M\n",
            "        )\n",
            "        (gelu): GELU(approximate='none')\n",
            "      )\n",
            "    )\n",
            "    (1): CMTBlock(\n",
            "      #params: 0.39M, #flops: 91.69M\n",
            "      (lpu): LPU(\n",
            "        #params: 1.84K, #flops: 0.32M\n",
            "        (dwconv): Conv2d(\n",
            "          184, 184, kernel_size=(3, 3), stride=(1, 1), padding=(1, 1), groups=184\n",
            "          #params: 1.84K, #flops: 0.32M\n",
            "        )\n",
            "      )\n",
            "      (mhsa): MHSA(\n",
            "        #params: 0.14M, #flops: 40.83M\n",
            "        (fc_q): Linear(\n",
            "          in_features=184, out_features=184, bias=True\n",
            "          #params: 34.04K, #flops: 6.64M\n",
            "        )\n",
            "        (fc_k): Linear(\n",
            "          in_features=184, out_features=184, bias=True\n",
            "          #params: 34.04K, #flops: 6.64M\n",
            "        )\n",
            "        (fc_v): Linear(\n",
            "          in_features=184, out_features=184, bias=True\n",
            "          #params: 34.04K, #flops: 6.64M\n",
            "        )\n",
            "        (fc_o): Linear(\n",
            "          in_features=184, out_features=184, bias=True\n",
            "          #params: 34.04K, #flops: 6.64M\n",
            "        )\n",
            "      )\n",
            "      (irffn): IRFFN(\n",
            "        #params: 0.25M, #flops: 50.54M\n",
            "        (conv1): Conv2d(\n",
            "          184, 662, kernel_size=(1, 1), stride=(1, 1)\n",
            "          #params: 0.12M, #flops: 23.87M\n",
            "        )\n",
            "        (bn1): BatchNorm2d(\n",
            "          662, eps=1e-05, momentum=0.1, affine=True, track_running_stats=True\n",
            "          #params: 1.32K, #flops: 0.65M\n",
            "        )\n",
            "        (dwconv): Conv2d(\n",
            "          662, 662, kernel_size=(3, 3), stride=(1, 1), padding=(1, 1), groups=662\n",
            "          #params: 6.62K, #flops: 1.17M\n",
            "        )\n",
            "        (bn2): BatchNorm2d(\n",
            "          662, eps=1e-05, momentum=0.1, affine=True, track_running_stats=True\n",
            "          #params: 1.32K, #flops: 0.65M\n",
            "        )\n",
            "        (conv2): Conv2d(\n",
            "          662, 184, kernel_size=(1, 1), stride=(1, 1)\n",
            "          #params: 0.12M, #flops: 23.87M\n",
            "        )\n",
            "        (bn3): BatchNorm2d(\n",
            "          184, eps=1e-05, momentum=0.1, affine=True, track_running_stats=True\n",
            "          #params: 0.37K, #flops: 0.18M\n",
            "        )\n",
            "        (gelu): GELU(approximate='none')\n",
            "      )\n",
            "    )\n",
            "    (2): CMTBlock(\n",
            "      #params: 0.39M, #flops: 91.69M\n",
            "      (lpu): LPU(\n",
            "        #params: 1.84K, #flops: 0.32M\n",
            "        (dwconv): Conv2d(\n",
            "          184, 184, kernel_size=(3, 3), stride=(1, 1), padding=(1, 1), groups=184\n",
            "          #params: 1.84K, #flops: 0.32M\n",
            "        )\n",
            "      )\n",
            "      (mhsa): MHSA(\n",
            "        #params: 0.14M, #flops: 40.83M\n",
            "        (fc_q): Linear(\n",
            "          in_features=184, out_features=184, bias=True\n",
            "          #params: 34.04K, #flops: 6.64M\n",
            "        )\n",
            "        (fc_k): Linear(\n",
            "          in_features=184, out_features=184, bias=True\n",
            "          #params: 34.04K, #flops: 6.64M\n",
            "        )\n",
            "        (fc_v): Linear(\n",
            "          in_features=184, out_features=184, bias=True\n",
            "          #params: 34.04K, #flops: 6.64M\n",
            "        )\n",
            "        (fc_o): Linear(\n",
            "          in_features=184, out_features=184, bias=True\n",
            "          #params: 34.04K, #flops: 6.64M\n",
            "        )\n",
            "      )\n",
            "      (irffn): IRFFN(\n",
            "        #params: 0.25M, #flops: 50.54M\n",
            "        (conv1): Conv2d(\n",
            "          184, 662, kernel_size=(1, 1), stride=(1, 1)\n",
            "          #params: 0.12M, #flops: 23.87M\n",
            "        )\n",
            "        (bn1): BatchNorm2d(\n",
            "          662, eps=1e-05, momentum=0.1, affine=True, track_running_stats=True\n",
            "          #params: 1.32K, #flops: 0.65M\n",
            "        )\n",
            "        (dwconv): Conv2d(\n",
            "          662, 662, kernel_size=(3, 3), stride=(1, 1), padding=(1, 1), groups=662\n",
            "          #params: 6.62K, #flops: 1.17M\n",
            "        )\n",
            "        (bn2): BatchNorm2d(\n",
            "          662, eps=1e-05, momentum=0.1, affine=True, track_running_stats=True\n",
            "          #params: 1.32K, #flops: 0.65M\n",
            "        )\n",
            "        (conv2): Conv2d(\n",
            "          662, 184, kernel_size=(1, 1), stride=(1, 1)\n",
            "          #params: 0.12M, #flops: 23.87M\n",
            "        )\n",
            "        (bn3): BatchNorm2d(\n",
            "          184, eps=1e-05, momentum=0.1, affine=True, track_running_stats=True\n",
            "          #params: 0.37K, #flops: 0.18M\n",
            "        )\n",
            "        (gelu): GELU(approximate='none')\n",
            "      )\n",
            "    )\n",
            "    (3): CMTBlock(\n",
            "      #params: 0.39M, #flops: 91.69M\n",
            "      (lpu): LPU(\n",
            "        #params: 1.84K, #flops: 0.32M\n",
            "        (dwconv): Conv2d(\n",
            "          184, 184, kernel_size=(3, 3), stride=(1, 1), padding=(1, 1), groups=184\n",
            "          #params: 1.84K, #flops: 0.32M\n",
            "        )\n",
            "      )\n",
            "      (mhsa): MHSA(\n",
            "        #params: 0.14M, #flops: 40.83M\n",
            "        (fc_q): Linear(\n",
            "          in_features=184, out_features=184, bias=True\n",
            "          #params: 34.04K, #flops: 6.64M\n",
            "        )\n",
            "        (fc_k): Linear(\n",
            "          in_features=184, out_features=184, bias=True\n",
            "          #params: 34.04K, #flops: 6.64M\n",
            "        )\n",
            "        (fc_v): Linear(\n",
            "          in_features=184, out_features=184, bias=True\n",
            "          #params: 34.04K, #flops: 6.64M\n",
            "        )\n",
            "        (fc_o): Linear(\n",
            "          in_features=184, out_features=184, bias=True\n",
            "          #params: 34.04K, #flops: 6.64M\n",
            "        )\n",
            "      )\n",
            "      (irffn): IRFFN(\n",
            "        #params: 0.25M, #flops: 50.54M\n",
            "        (conv1): Conv2d(\n",
            "          184, 662, kernel_size=(1, 1), stride=(1, 1)\n",
            "          #params: 0.12M, #flops: 23.87M\n",
            "        )\n",
            "        (bn1): BatchNorm2d(\n",
            "          662, eps=1e-05, momentum=0.1, affine=True, track_running_stats=True\n",
            "          #params: 1.32K, #flops: 0.65M\n",
            "        )\n",
            "        (dwconv): Conv2d(\n",
            "          662, 662, kernel_size=(3, 3), stride=(1, 1), padding=(1, 1), groups=662\n",
            "          #params: 6.62K, #flops: 1.17M\n",
            "        )\n",
            "        (bn2): BatchNorm2d(\n",
            "          662, eps=1e-05, momentum=0.1, affine=True, track_running_stats=True\n",
            "          #params: 1.32K, #flops: 0.65M\n",
            "        )\n",
            "        (conv2): Conv2d(\n",
            "          662, 184, kernel_size=(1, 1), stride=(1, 1)\n",
            "          #params: 0.12M, #flops: 23.87M\n",
            "        )\n",
            "        (bn3): BatchNorm2d(\n",
            "          184, eps=1e-05, momentum=0.1, affine=True, track_running_stats=True\n",
            "          #params: 0.37K, #flops: 0.18M\n",
            "        )\n",
            "        (gelu): GELU(approximate='none')\n",
            "      )\n",
            "    )\n",
            "    (4): CMTBlock(\n",
            "      #params: 0.39M, #flops: 91.69M\n",
            "      (lpu): LPU(\n",
            "        #params: 1.84K, #flops: 0.32M\n",
            "        (dwconv): Conv2d(\n",
            "          184, 184, kernel_size=(3, 3), stride=(1, 1), padding=(1, 1), groups=184\n",
            "          #params: 1.84K, #flops: 0.32M\n",
            "        )\n",
            "      )\n",
            "      (mhsa): MHSA(\n",
            "        #params: 0.14M, #flops: 40.83M\n",
            "        (fc_q): Linear(\n",
            "          in_features=184, out_features=184, bias=True\n",
            "          #params: 34.04K, #flops: 6.64M\n",
            "        )\n",
            "        (fc_k): Linear(\n",
            "          in_features=184, out_features=184, bias=True\n",
            "          #params: 34.04K, #flops: 6.64M\n",
            "        )\n",
            "        (fc_v): Linear(\n",
            "          in_features=184, out_features=184, bias=True\n",
            "          #params: 34.04K, #flops: 6.64M\n",
            "        )\n",
            "        (fc_o): Linear(\n",
            "          in_features=184, out_features=184, bias=True\n",
            "          #params: 34.04K, #flops: 6.64M\n",
            "        )\n",
            "      )\n",
            "      (irffn): IRFFN(\n",
            "        #params: 0.25M, #flops: 50.54M\n",
            "        (conv1): Conv2d(\n",
            "          184, 662, kernel_size=(1, 1), stride=(1, 1)\n",
            "          #params: 0.12M, #flops: 23.87M\n",
            "        )\n",
            "        (bn1): BatchNorm2d(\n",
            "          662, eps=1e-05, momentum=0.1, affine=True, track_running_stats=True\n",
            "          #params: 1.32K, #flops: 0.65M\n",
            "        )\n",
            "        (dwconv): Conv2d(\n",
            "          662, 662, kernel_size=(3, 3), stride=(1, 1), padding=(1, 1), groups=662\n",
            "          #params: 6.62K, #flops: 1.17M\n",
            "        )\n",
            "        (bn2): BatchNorm2d(\n",
            "          662, eps=1e-05, momentum=0.1, affine=True, track_running_stats=True\n",
            "          #params: 1.32K, #flops: 0.65M\n",
            "        )\n",
            "        (conv2): Conv2d(\n",
            "          662, 184, kernel_size=(1, 1), stride=(1, 1)\n",
            "          #params: 0.12M, #flops: 23.87M\n",
            "        )\n",
            "        (bn3): BatchNorm2d(\n",
            "          184, eps=1e-05, momentum=0.1, affine=True, track_running_stats=True\n",
            "          #params: 0.37K, #flops: 0.18M\n",
            "        )\n",
            "        (gelu): GELU(approximate='none')\n",
            "      )\n",
            "    )\n",
            "    (5): CMTBlock(\n",
            "      #params: 0.39M, #flops: 91.69M\n",
            "      (lpu): LPU(\n",
            "        #params: 1.84K, #flops: 0.32M\n",
            "        (dwconv): Conv2d(\n",
            "          184, 184, kernel_size=(3, 3), stride=(1, 1), padding=(1, 1), groups=184\n",
            "          #params: 1.84K, #flops: 0.32M\n",
            "        )\n",
            "      )\n",
            "      (mhsa): MHSA(\n",
            "        #params: 0.14M, #flops: 40.83M\n",
            "        (fc_q): Linear(\n",
            "          in_features=184, out_features=184, bias=True\n",
            "          #params: 34.04K, #flops: 6.64M\n",
            "        )\n",
            "        (fc_k): Linear(\n",
            "          in_features=184, out_features=184, bias=True\n",
            "          #params: 34.04K, #flops: 6.64M\n",
            "        )\n",
            "        (fc_v): Linear(\n",
            "          in_features=184, out_features=184, bias=True\n",
            "          #params: 34.04K, #flops: 6.64M\n",
            "        )\n",
            "        (fc_o): Linear(\n",
            "          in_features=184, out_features=184, bias=True\n",
            "          #params: 34.04K, #flops: 6.64M\n",
            "        )\n",
            "      )\n",
            "      (irffn): IRFFN(\n",
            "        #params: 0.25M, #flops: 50.54M\n",
            "        (conv1): Conv2d(\n",
            "          184, 662, kernel_size=(1, 1), stride=(1, 1)\n",
            "          #params: 0.12M, #flops: 23.87M\n",
            "        )\n",
            "        (bn1): BatchNorm2d(\n",
            "          662, eps=1e-05, momentum=0.1, affine=True, track_running_stats=True\n",
            "          #params: 1.32K, #flops: 0.65M\n",
            "        )\n",
            "        (dwconv): Conv2d(\n",
            "          662, 662, kernel_size=(3, 3), stride=(1, 1), padding=(1, 1), groups=662\n",
            "          #params: 6.62K, #flops: 1.17M\n",
            "        )\n",
            "        (bn2): BatchNorm2d(\n",
            "          662, eps=1e-05, momentum=0.1, affine=True, track_running_stats=True\n",
            "          #params: 1.32K, #flops: 0.65M\n",
            "        )\n",
            "        (conv2): Conv2d(\n",
            "          662, 184, kernel_size=(1, 1), stride=(1, 1)\n",
            "          #params: 0.12M, #flops: 23.87M\n",
            "        )\n",
            "        (bn3): BatchNorm2d(\n",
            "          184, eps=1e-05, momentum=0.1, affine=True, track_running_stats=True\n",
            "          #params: 0.37K, #flops: 0.18M\n",
            "        )\n",
            "        (gelu): GELU(approximate='none')\n",
            "      )\n",
            "    )\n",
            "    (6): CMTBlock(\n",
            "      #params: 0.39M, #flops: 91.69M\n",
            "      (lpu): LPU(\n",
            "        #params: 1.84K, #flops: 0.32M\n",
            "        (dwconv): Conv2d(\n",
            "          184, 184, kernel_size=(3, 3), stride=(1, 1), padding=(1, 1), groups=184\n",
            "          #params: 1.84K, #flops: 0.32M\n",
            "        )\n",
            "      )\n",
            "      (mhsa): MHSA(\n",
            "        #params: 0.14M, #flops: 40.83M\n",
            "        (fc_q): Linear(\n",
            "          in_features=184, out_features=184, bias=True\n",
            "          #params: 34.04K, #flops: 6.64M\n",
            "        )\n",
            "        (fc_k): Linear(\n",
            "          in_features=184, out_features=184, bias=True\n",
            "          #params: 34.04K, #flops: 6.64M\n",
            "        )\n",
            "        (fc_v): Linear(\n",
            "          in_features=184, out_features=184, bias=True\n",
            "          #params: 34.04K, #flops: 6.64M\n",
            "        )\n",
            "        (fc_o): Linear(\n",
            "          in_features=184, out_features=184, bias=True\n",
            "          #params: 34.04K, #flops: 6.64M\n",
            "        )\n",
            "      )\n",
            "      (irffn): IRFFN(\n",
            "        #params: 0.25M, #flops: 50.54M\n",
            "        (conv1): Conv2d(\n",
            "          184, 662, kernel_size=(1, 1), stride=(1, 1)\n",
            "          #params: 0.12M, #flops: 23.87M\n",
            "        )\n",
            "        (bn1): BatchNorm2d(\n",
            "          662, eps=1e-05, momentum=0.1, affine=True, track_running_stats=True\n",
            "          #params: 1.32K, #flops: 0.65M\n",
            "        )\n",
            "        (dwconv): Conv2d(\n",
            "          662, 662, kernel_size=(3, 3), stride=(1, 1), padding=(1, 1), groups=662\n",
            "          #params: 6.62K, #flops: 1.17M\n",
            "        )\n",
            "        (bn2): BatchNorm2d(\n",
            "          662, eps=1e-05, momentum=0.1, affine=True, track_running_stats=True\n",
            "          #params: 1.32K, #flops: 0.65M\n",
            "        )\n",
            "        (conv2): Conv2d(\n",
            "          662, 184, kernel_size=(1, 1), stride=(1, 1)\n",
            "          #params: 0.12M, #flops: 23.87M\n",
            "        )\n",
            "        (bn3): BatchNorm2d(\n",
            "          184, eps=1e-05, momentum=0.1, affine=True, track_running_stats=True\n",
            "          #params: 0.37K, #flops: 0.18M\n",
            "        )\n",
            "        (gelu): GELU(approximate='none')\n",
            "      )\n",
            "    )\n",
            "    (7): CMTBlock(\n",
            "      #params: 0.39M, #flops: 91.69M\n",
            "      (lpu): LPU(\n",
            "        #params: 1.84K, #flops: 0.32M\n",
            "        (dwconv): Conv2d(\n",
            "          184, 184, kernel_size=(3, 3), stride=(1, 1), padding=(1, 1), groups=184\n",
            "          #params: 1.84K, #flops: 0.32M\n",
            "        )\n",
            "      )\n",
            "      (mhsa): MHSA(\n",
            "        #params: 0.14M, #flops: 40.83M\n",
            "        (fc_q): Linear(\n",
            "          in_features=184, out_features=184, bias=True\n",
            "          #params: 34.04K, #flops: 6.64M\n",
            "        )\n",
            "        (fc_k): Linear(\n",
            "          in_features=184, out_features=184, bias=True\n",
            "          #params: 34.04K, #flops: 6.64M\n",
            "        )\n",
            "        (fc_v): Linear(\n",
            "          in_features=184, out_features=184, bias=True\n",
            "          #params: 34.04K, #flops: 6.64M\n",
            "        )\n",
            "        (fc_o): Linear(\n",
            "          in_features=184, out_features=184, bias=True\n",
            "          #params: 34.04K, #flops: 6.64M\n",
            "        )\n",
            "      )\n",
            "      (irffn): IRFFN(\n",
            "        #params: 0.25M, #flops: 50.54M\n",
            "        (conv1): Conv2d(\n",
            "          184, 662, kernel_size=(1, 1), stride=(1, 1)\n",
            "          #params: 0.12M, #flops: 23.87M\n",
            "        )\n",
            "        (bn1): BatchNorm2d(\n",
            "          662, eps=1e-05, momentum=0.1, affine=True, track_running_stats=True\n",
            "          #params: 1.32K, #flops: 0.65M\n",
            "        )\n",
            "        (dwconv): Conv2d(\n",
            "          662, 662, kernel_size=(3, 3), stride=(1, 1), padding=(1, 1), groups=662\n",
            "          #params: 6.62K, #flops: 1.17M\n",
            "        )\n",
            "        (bn2): BatchNorm2d(\n",
            "          662, eps=1e-05, momentum=0.1, affine=True, track_running_stats=True\n",
            "          #params: 1.32K, #flops: 0.65M\n",
            "        )\n",
            "        (conv2): Conv2d(\n",
            "          662, 184, kernel_size=(1, 1), stride=(1, 1)\n",
            "          #params: 0.12M, #flops: 23.87M\n",
            "        )\n",
            "        (bn3): BatchNorm2d(\n",
            "          184, eps=1e-05, momentum=0.1, affine=True, track_running_stats=True\n",
            "          #params: 0.37K, #flops: 0.18M\n",
            "        )\n",
            "        (gelu): GELU(approximate='none')\n",
            "      )\n",
            "    )\n",
            "    (8): CMTBlock(\n",
            "      #params: 0.39M, #flops: 91.69M\n",
            "      (lpu): LPU(\n",
            "        #params: 1.84K, #flops: 0.32M\n",
            "        (dwconv): Conv2d(\n",
            "          184, 184, kernel_size=(3, 3), stride=(1, 1), padding=(1, 1), groups=184\n",
            "          #params: 1.84K, #flops: 0.32M\n",
            "        )\n",
            "      )\n",
            "      (mhsa): MHSA(\n",
            "        #params: 0.14M, #flops: 40.83M\n",
            "        (fc_q): Linear(\n",
            "          in_features=184, out_features=184, bias=True\n",
            "          #params: 34.04K, #flops: 6.64M\n",
            "        )\n",
            "        (fc_k): Linear(\n",
            "          in_features=184, out_features=184, bias=True\n",
            "          #params: 34.04K, #flops: 6.64M\n",
            "        )\n",
            "        (fc_v): Linear(\n",
            "          in_features=184, out_features=184, bias=True\n",
            "          #params: 34.04K, #flops: 6.64M\n",
            "        )\n",
            "        (fc_o): Linear(\n",
            "          in_features=184, out_features=184, bias=True\n",
            "          #params: 34.04K, #flops: 6.64M\n",
            "        )\n",
            "      )\n",
            "      (irffn): IRFFN(\n",
            "        #params: 0.25M, #flops: 50.54M\n",
            "        (conv1): Conv2d(\n",
            "          184, 662, kernel_size=(1, 1), stride=(1, 1)\n",
            "          #params: 0.12M, #flops: 23.87M\n",
            "        )\n",
            "        (bn1): BatchNorm2d(\n",
            "          662, eps=1e-05, momentum=0.1, affine=True, track_running_stats=True\n",
            "          #params: 1.32K, #flops: 0.65M\n",
            "        )\n",
            "        (dwconv): Conv2d(\n",
            "          662, 662, kernel_size=(3, 3), stride=(1, 1), padding=(1, 1), groups=662\n",
            "          #params: 6.62K, #flops: 1.17M\n",
            "        )\n",
            "        (bn2): BatchNorm2d(\n",
            "          662, eps=1e-05, momentum=0.1, affine=True, track_running_stats=True\n",
            "          #params: 1.32K, #flops: 0.65M\n",
            "        )\n",
            "        (conv2): Conv2d(\n",
            "          662, 184, kernel_size=(1, 1), stride=(1, 1)\n",
            "          #params: 0.12M, #flops: 23.87M\n",
            "        )\n",
            "        (bn3): BatchNorm2d(\n",
            "          184, eps=1e-05, momentum=0.1, affine=True, track_running_stats=True\n",
            "          #params: 0.37K, #flops: 0.18M\n",
            "        )\n",
            "        (gelu): GELU(approximate='none')\n",
            "      )\n",
            "    )\n",
            "    (9): CMTBlock(\n",
            "      #params: 0.39M, #flops: 91.69M\n",
            "      (lpu): LPU(\n",
            "        #params: 1.84K, #flops: 0.32M\n",
            "        (dwconv): Conv2d(\n",
            "          184, 184, kernel_size=(3, 3), stride=(1, 1), padding=(1, 1), groups=184\n",
            "          #params: 1.84K, #flops: 0.32M\n",
            "        )\n",
            "      )\n",
            "      (mhsa): MHSA(\n",
            "        #params: 0.14M, #flops: 40.83M\n",
            "        (fc_q): Linear(\n",
            "          in_features=184, out_features=184, bias=True\n",
            "          #params: 34.04K, #flops: 6.64M\n",
            "        )\n",
            "        (fc_k): Linear(\n",
            "          in_features=184, out_features=184, bias=True\n",
            "          #params: 34.04K, #flops: 6.64M\n",
            "        )\n",
            "        (fc_v): Linear(\n",
            "          in_features=184, out_features=184, bias=True\n",
            "          #params: 34.04K, #flops: 6.64M\n",
            "        )\n",
            "        (fc_o): Linear(\n",
            "          in_features=184, out_features=184, bias=True\n",
            "          #params: 34.04K, #flops: 6.64M\n",
            "        )\n",
            "      )\n",
            "      (irffn): IRFFN(\n",
            "        #params: 0.25M, #flops: 50.54M\n",
            "        (conv1): Conv2d(\n",
            "          184, 662, kernel_size=(1, 1), stride=(1, 1)\n",
            "          #params: 0.12M, #flops: 23.87M\n",
            "        )\n",
            "        (bn1): BatchNorm2d(\n",
            "          662, eps=1e-05, momentum=0.1, affine=True, track_running_stats=True\n",
            "          #params: 1.32K, #flops: 0.65M\n",
            "        )\n",
            "        (dwconv): Conv2d(\n",
            "          662, 662, kernel_size=(3, 3), stride=(1, 1), padding=(1, 1), groups=662\n",
            "          #params: 6.62K, #flops: 1.17M\n",
            "        )\n",
            "        (bn2): BatchNorm2d(\n",
            "          662, eps=1e-05, momentum=0.1, affine=True, track_running_stats=True\n",
            "          #params: 1.32K, #flops: 0.65M\n",
            "        )\n",
            "        (conv2): Conv2d(\n",
            "          662, 184, kernel_size=(1, 1), stride=(1, 1)\n",
            "          #params: 0.12M, #flops: 23.87M\n",
            "        )\n",
            "        (bn3): BatchNorm2d(\n",
            "          184, eps=1e-05, momentum=0.1, affine=True, track_running_stats=True\n",
            "          #params: 0.37K, #flops: 0.18M\n",
            "        )\n",
            "        (gelu): GELU(approximate='none')\n",
            "      )\n",
            "    )\n",
            "  )\n",
            "  (stage4): Sequential(\n",
            "    #params: 3.08M, #flops: 0.16G\n",
            "    (0): CMTBlock(\n",
            "      #params: 1.54M, #flops: 77.69M\n",
            "      (lpu): LPU(\n",
            "        #params: 3.68K, #flops: 0.16M\n",
            "        (dwconv): Conv2d(\n",
            "          368, 368, kernel_size=(3, 3), stride=(1, 1), padding=(1, 1), groups=368\n",
            "          #params: 3.68K, #flops: 0.16M\n",
            "        )\n",
            "      )\n",
            "      (mhsa): MHSA(\n",
            "        #params: 0.54M, #flops: 28.38M\n",
            "        (fc_q): Linear(\n",
            "          in_features=368, out_features=368, bias=True\n",
            "          #params: 0.14M, #flops: 6.64M\n",
            "        )\n",
            "        (fc_k): Linear(\n",
            "          in_features=368, out_features=368, bias=True\n",
            "          #params: 0.14M, #flops: 6.64M\n",
            "        )\n",
            "        (fc_v): Linear(\n",
            "          in_features=368, out_features=368, bias=True\n",
            "          #params: 0.14M, #flops: 6.64M\n",
            "        )\n",
            "        (fc_o): Linear(\n",
            "          in_features=368, out_features=368, bias=True\n",
            "          #params: 0.14M, #flops: 6.64M\n",
            "        )\n",
            "      )\n",
            "      (irffn): IRFFN(\n",
            "        #params: 1M, #flops: 49.14M\n",
            "        (conv1): Conv2d(\n",
            "          368, 1324, kernel_size=(1, 1), stride=(1, 1)\n",
            "          #params: 0.49M, #flops: 23.87M\n",
            "        )\n",
            "        (bn1): BatchNorm2d(\n",
            "          1324, eps=1e-05, momentum=0.1, affine=True, track_running_stats=True\n",
            "          #params: 2.65K, #flops: 0.32M\n",
            "        )\n",
            "        (dwconv): Conv2d(\n",
            "          1324, 1324, kernel_size=(3, 3), stride=(1, 1), padding=(1, 1), groups=1324\n",
            "          #params: 13.24K, #flops: 0.58M\n",
            "        )\n",
            "        (bn2): BatchNorm2d(\n",
            "          1324, eps=1e-05, momentum=0.1, affine=True, track_running_stats=True\n",
            "          #params: 2.65K, #flops: 0.32M\n",
            "        )\n",
            "        (conv2): Conv2d(\n",
            "          1324, 368, kernel_size=(1, 1), stride=(1, 1)\n",
            "          #params: 0.49M, #flops: 23.87M\n",
            "        )\n",
            "        (bn3): BatchNorm2d(\n",
            "          368, eps=1e-05, momentum=0.1, affine=True, track_running_stats=True\n",
            "          #params: 0.74K, #flops: 90.16K\n",
            "        )\n",
            "        (gelu): GELU(approximate='none')\n",
            "      )\n",
            "    )\n",
            "    (1): CMTBlock(\n",
            "      #params: 1.54M, #flops: 77.69M\n",
            "      (lpu): LPU(\n",
            "        #params: 3.68K, #flops: 0.16M\n",
            "        (dwconv): Conv2d(\n",
            "          368, 368, kernel_size=(3, 3), stride=(1, 1), padding=(1, 1), groups=368\n",
            "          #params: 3.68K, #flops: 0.16M\n",
            "        )\n",
            "      )\n",
            "      (mhsa): MHSA(\n",
            "        #params: 0.54M, #flops: 28.38M\n",
            "        (fc_q): Linear(\n",
            "          in_features=368, out_features=368, bias=True\n",
            "          #params: 0.14M, #flops: 6.64M\n",
            "        )\n",
            "        (fc_k): Linear(\n",
            "          in_features=368, out_features=368, bias=True\n",
            "          #params: 0.14M, #flops: 6.64M\n",
            "        )\n",
            "        (fc_v): Linear(\n",
            "          in_features=368, out_features=368, bias=True\n",
            "          #params: 0.14M, #flops: 6.64M\n",
            "        )\n",
            "        (fc_o): Linear(\n",
            "          in_features=368, out_features=368, bias=True\n",
            "          #params: 0.14M, #flops: 6.64M\n",
            "        )\n",
            "      )\n",
            "      (irffn): IRFFN(\n",
            "        #params: 1M, #flops: 49.14M\n",
            "        (conv1): Conv2d(\n",
            "          368, 1324, kernel_size=(1, 1), stride=(1, 1)\n",
            "          #params: 0.49M, #flops: 23.87M\n",
            "        )\n",
            "        (bn1): BatchNorm2d(\n",
            "          1324, eps=1e-05, momentum=0.1, affine=True, track_running_stats=True\n",
            "          #params: 2.65K, #flops: 0.32M\n",
            "        )\n",
            "        (dwconv): Conv2d(\n",
            "          1324, 1324, kernel_size=(3, 3), stride=(1, 1), padding=(1, 1), groups=1324\n",
            "          #params: 13.24K, #flops: 0.58M\n",
            "        )\n",
            "        (bn2): BatchNorm2d(\n",
            "          1324, eps=1e-05, momentum=0.1, affine=True, track_running_stats=True\n",
            "          #params: 2.65K, #flops: 0.32M\n",
            "        )\n",
            "        (conv2): Conv2d(\n",
            "          1324, 368, kernel_size=(1, 1), stride=(1, 1)\n",
            "          #params: 0.49M, #flops: 23.87M\n",
            "        )\n",
            "        (bn3): BatchNorm2d(\n",
            "          368, eps=1e-05, momentum=0.1, affine=True, track_running_stats=True\n",
            "          #params: 0.74K, #flops: 90.16K\n",
            "        )\n",
            "        (gelu): GELU(approximate='none')\n",
            "      )\n",
            "    )\n",
            "  )\n",
            "  (avg_pool): AdaptiveAvgPool2d(\n",
            "    output_size=1\n",
            "    #params: 0, #flops: 18.03K\n",
            "  )\n",
            "  (projection): Sequential(\n",
            "    #params: 0.47M, #flops: 0.47M\n",
            "    (0): Conv2d(\n",
            "      368, 1280, kernel_size=(1, 1), stride=(1, 1)\n",
            "      #params: 0.47M, #flops: 0.47M\n",
            "    )\n",
            "    (1): ReLU(inplace=True)\n",
            "  )\n",
            "  (classifier): Linear(\n",
            "    in_features=1280, out_features=10, bias=True\n",
            "    #params: 12.81K, #flops: 12.8K\n",
            "  )\n",
            ")\n"
          ]
        }
      ]
    },
    {
      "cell_type": "code",
      "source": [
        "# Loading model to device.\n",
        "m_2.to(device)"
      ],
      "metadata": {
        "id": "jcLwrTCwDkT1",
        "colab": {
          "base_uri": "https://localhost:8080/"
        },
        "outputId": "2dce5849-a0df-48fe-ee89-b2047db4eae7"
      },
      "execution_count": null,
      "outputs": [
        {
          "output_type": "execute_result",
          "data": {
            "text/plain": [
              "CMT(\n",
              "  (stem): Stem(\n",
              "    (conv1): Conv2d(3, 16, kernel_size=(3, 3), stride=(2, 2), padding=(1, 1))\n",
              "    (bn1): BatchNorm2d(16, eps=1e-05, momentum=0.1, affine=True, track_running_stats=True)\n",
              "    (conv2): Conv2d(16, 16, kernel_size=(3, 3), stride=(1, 1), padding=(1, 1))\n",
              "    (bn2): BatchNorm2d(16, eps=1e-05, momentum=0.1, affine=True, track_running_stats=True)\n",
              "    (conv3): Conv2d(16, 16, kernel_size=(3, 3), stride=(1, 1), padding=(1, 1))\n",
              "    (bn3): BatchNorm2d(16, eps=1e-05, momentum=0.1, affine=True, track_running_stats=True)\n",
              "    (gelu): GELU(approximate='none')\n",
              "  )\n",
              "  (pe1): PatchEmbedding(\n",
              "    (conv): Conv2d(16, 46, kernel_size=(2, 2), stride=(2, 2))\n",
              "  )\n",
              "  (pe2): PatchEmbedding(\n",
              "    (conv): Conv2d(46, 92, kernel_size=(2, 2), stride=(2, 2))\n",
              "  )\n",
              "  (pe3): PatchEmbedding(\n",
              "    (conv): Conv2d(92, 184, kernel_size=(2, 2), stride=(2, 2))\n",
              "  )\n",
              "  (pe4): PatchEmbedding(\n",
              "    (conv): Conv2d(184, 368, kernel_size=(2, 2), stride=(2, 2))\n",
              "  )\n",
              "  (stage1): Sequential(\n",
              "    (0): CMTBlock(\n",
              "      (lpu): LPU(\n",
              "        (dwconv): Conv2d(46, 46, kernel_size=(3, 3), stride=(1, 1), padding=(1, 1), groups=46)\n",
              "      )\n",
              "      (mhsa): MHSA(\n",
              "        (fc_q): Linear(in_features=46, out_features=46, bias=True)\n",
              "        (fc_k): Linear(in_features=46, out_features=46, bias=True)\n",
              "        (fc_v): Linear(in_features=46, out_features=46, bias=True)\n",
              "        (fc_o): Linear(in_features=46, out_features=46, bias=True)\n",
              "      )\n",
              "      (irffn): IRFFN(\n",
              "        (conv1): Conv2d(46, 165, kernel_size=(1, 1), stride=(1, 1))\n",
              "        (bn1): BatchNorm2d(165, eps=1e-05, momentum=0.1, affine=True, track_running_stats=True)\n",
              "        (dwconv): Conv2d(165, 165, kernel_size=(3, 3), stride=(1, 1), padding=(1, 1), groups=165)\n",
              "        (bn2): BatchNorm2d(165, eps=1e-05, momentum=0.1, affine=True, track_running_stats=True)\n",
              "        (conv2): Conv2d(165, 46, kernel_size=(1, 1), stride=(1, 1))\n",
              "        (bn3): BatchNorm2d(46, eps=1e-05, momentum=0.1, affine=True, track_running_stats=True)\n",
              "        (gelu): GELU(approximate='none')\n",
              "      )\n",
              "    )\n",
              "    (1): CMTBlock(\n",
              "      (lpu): LPU(\n",
              "        (dwconv): Conv2d(46, 46, kernel_size=(3, 3), stride=(1, 1), padding=(1, 1), groups=46)\n",
              "      )\n",
              "      (mhsa): MHSA(\n",
              "        (fc_q): Linear(in_features=46, out_features=46, bias=True)\n",
              "        (fc_k): Linear(in_features=46, out_features=46, bias=True)\n",
              "        (fc_v): Linear(in_features=46, out_features=46, bias=True)\n",
              "        (fc_o): Linear(in_features=46, out_features=46, bias=True)\n",
              "      )\n",
              "      (irffn): IRFFN(\n",
              "        (conv1): Conv2d(46, 165, kernel_size=(1, 1), stride=(1, 1))\n",
              "        (bn1): BatchNorm2d(165, eps=1e-05, momentum=0.1, affine=True, track_running_stats=True)\n",
              "        (dwconv): Conv2d(165, 165, kernel_size=(3, 3), stride=(1, 1), padding=(1, 1), groups=165)\n",
              "        (bn2): BatchNorm2d(165, eps=1e-05, momentum=0.1, affine=True, track_running_stats=True)\n",
              "        (conv2): Conv2d(165, 46, kernel_size=(1, 1), stride=(1, 1))\n",
              "        (bn3): BatchNorm2d(46, eps=1e-05, momentum=0.1, affine=True, track_running_stats=True)\n",
              "        (gelu): GELU(approximate='none')\n",
              "      )\n",
              "    )\n",
              "  )\n",
              "  (stage2): Sequential(\n",
              "    (0): CMTBlock(\n",
              "      (lpu): LPU(\n",
              "        (dwconv): Conv2d(92, 92, kernel_size=(3, 3), stride=(1, 1), padding=(1, 1), groups=92)\n",
              "      )\n",
              "      (mhsa): MHSA(\n",
              "        (fc_q): Linear(in_features=92, out_features=92, bias=True)\n",
              "        (fc_k): Linear(in_features=92, out_features=92, bias=True)\n",
              "        (fc_v): Linear(in_features=92, out_features=92, bias=True)\n",
              "        (fc_o): Linear(in_features=92, out_features=92, bias=True)\n",
              "      )\n",
              "      (irffn): IRFFN(\n",
              "        (conv1): Conv2d(92, 331, kernel_size=(1, 1), stride=(1, 1))\n",
              "        (bn1): BatchNorm2d(331, eps=1e-05, momentum=0.1, affine=True, track_running_stats=True)\n",
              "        (dwconv): Conv2d(331, 331, kernel_size=(3, 3), stride=(1, 1), padding=(1, 1), groups=331)\n",
              "        (bn2): BatchNorm2d(331, eps=1e-05, momentum=0.1, affine=True, track_running_stats=True)\n",
              "        (conv2): Conv2d(331, 92, kernel_size=(1, 1), stride=(1, 1))\n",
              "        (bn3): BatchNorm2d(92, eps=1e-05, momentum=0.1, affine=True, track_running_stats=True)\n",
              "        (gelu): GELU(approximate='none')\n",
              "      )\n",
              "    )\n",
              "    (1): CMTBlock(\n",
              "      (lpu): LPU(\n",
              "        (dwconv): Conv2d(92, 92, kernel_size=(3, 3), stride=(1, 1), padding=(1, 1), groups=92)\n",
              "      )\n",
              "      (mhsa): MHSA(\n",
              "        (fc_q): Linear(in_features=92, out_features=92, bias=True)\n",
              "        (fc_k): Linear(in_features=92, out_features=92, bias=True)\n",
              "        (fc_v): Linear(in_features=92, out_features=92, bias=True)\n",
              "        (fc_o): Linear(in_features=92, out_features=92, bias=True)\n",
              "      )\n",
              "      (irffn): IRFFN(\n",
              "        (conv1): Conv2d(92, 331, kernel_size=(1, 1), stride=(1, 1))\n",
              "        (bn1): BatchNorm2d(331, eps=1e-05, momentum=0.1, affine=True, track_running_stats=True)\n",
              "        (dwconv): Conv2d(331, 331, kernel_size=(3, 3), stride=(1, 1), padding=(1, 1), groups=331)\n",
              "        (bn2): BatchNorm2d(331, eps=1e-05, momentum=0.1, affine=True, track_running_stats=True)\n",
              "        (conv2): Conv2d(331, 92, kernel_size=(1, 1), stride=(1, 1))\n",
              "        (bn3): BatchNorm2d(92, eps=1e-05, momentum=0.1, affine=True, track_running_stats=True)\n",
              "        (gelu): GELU(approximate='none')\n",
              "      )\n",
              "    )\n",
              "  )\n",
              "  (stage3): Sequential(\n",
              "    (0): CMTBlock(\n",
              "      (lpu): LPU(\n",
              "        (dwconv): Conv2d(184, 184, kernel_size=(3, 3), stride=(1, 1), padding=(1, 1), groups=184)\n",
              "      )\n",
              "      (mhsa): MHSA(\n",
              "        (fc_q): Linear(in_features=184, out_features=184, bias=True)\n",
              "        (fc_k): Linear(in_features=184, out_features=184, bias=True)\n",
              "        (fc_v): Linear(in_features=184, out_features=184, bias=True)\n",
              "        (fc_o): Linear(in_features=184, out_features=184, bias=True)\n",
              "      )\n",
              "      (irffn): IRFFN(\n",
              "        (conv1): Conv2d(184, 662, kernel_size=(1, 1), stride=(1, 1))\n",
              "        (bn1): BatchNorm2d(662, eps=1e-05, momentum=0.1, affine=True, track_running_stats=True)\n",
              "        (dwconv): Conv2d(662, 662, kernel_size=(3, 3), stride=(1, 1), padding=(1, 1), groups=662)\n",
              "        (bn2): BatchNorm2d(662, eps=1e-05, momentum=0.1, affine=True, track_running_stats=True)\n",
              "        (conv2): Conv2d(662, 184, kernel_size=(1, 1), stride=(1, 1))\n",
              "        (bn3): BatchNorm2d(184, eps=1e-05, momentum=0.1, affine=True, track_running_stats=True)\n",
              "        (gelu): GELU(approximate='none')\n",
              "      )\n",
              "    )\n",
              "    (1): CMTBlock(\n",
              "      (lpu): LPU(\n",
              "        (dwconv): Conv2d(184, 184, kernel_size=(3, 3), stride=(1, 1), padding=(1, 1), groups=184)\n",
              "      )\n",
              "      (mhsa): MHSA(\n",
              "        (fc_q): Linear(in_features=184, out_features=184, bias=True)\n",
              "        (fc_k): Linear(in_features=184, out_features=184, bias=True)\n",
              "        (fc_v): Linear(in_features=184, out_features=184, bias=True)\n",
              "        (fc_o): Linear(in_features=184, out_features=184, bias=True)\n",
              "      )\n",
              "      (irffn): IRFFN(\n",
              "        (conv1): Conv2d(184, 662, kernel_size=(1, 1), stride=(1, 1))\n",
              "        (bn1): BatchNorm2d(662, eps=1e-05, momentum=0.1, affine=True, track_running_stats=True)\n",
              "        (dwconv): Conv2d(662, 662, kernel_size=(3, 3), stride=(1, 1), padding=(1, 1), groups=662)\n",
              "        (bn2): BatchNorm2d(662, eps=1e-05, momentum=0.1, affine=True, track_running_stats=True)\n",
              "        (conv2): Conv2d(662, 184, kernel_size=(1, 1), stride=(1, 1))\n",
              "        (bn3): BatchNorm2d(184, eps=1e-05, momentum=0.1, affine=True, track_running_stats=True)\n",
              "        (gelu): GELU(approximate='none')\n",
              "      )\n",
              "    )\n",
              "    (2): CMTBlock(\n",
              "      (lpu): LPU(\n",
              "        (dwconv): Conv2d(184, 184, kernel_size=(3, 3), stride=(1, 1), padding=(1, 1), groups=184)\n",
              "      )\n",
              "      (mhsa): MHSA(\n",
              "        (fc_q): Linear(in_features=184, out_features=184, bias=True)\n",
              "        (fc_k): Linear(in_features=184, out_features=184, bias=True)\n",
              "        (fc_v): Linear(in_features=184, out_features=184, bias=True)\n",
              "        (fc_o): Linear(in_features=184, out_features=184, bias=True)\n",
              "      )\n",
              "      (irffn): IRFFN(\n",
              "        (conv1): Conv2d(184, 662, kernel_size=(1, 1), stride=(1, 1))\n",
              "        (bn1): BatchNorm2d(662, eps=1e-05, momentum=0.1, affine=True, track_running_stats=True)\n",
              "        (dwconv): Conv2d(662, 662, kernel_size=(3, 3), stride=(1, 1), padding=(1, 1), groups=662)\n",
              "        (bn2): BatchNorm2d(662, eps=1e-05, momentum=0.1, affine=True, track_running_stats=True)\n",
              "        (conv2): Conv2d(662, 184, kernel_size=(1, 1), stride=(1, 1))\n",
              "        (bn3): BatchNorm2d(184, eps=1e-05, momentum=0.1, affine=True, track_running_stats=True)\n",
              "        (gelu): GELU(approximate='none')\n",
              "      )\n",
              "    )\n",
              "    (3): CMTBlock(\n",
              "      (lpu): LPU(\n",
              "        (dwconv): Conv2d(184, 184, kernel_size=(3, 3), stride=(1, 1), padding=(1, 1), groups=184)\n",
              "      )\n",
              "      (mhsa): MHSA(\n",
              "        (fc_q): Linear(in_features=184, out_features=184, bias=True)\n",
              "        (fc_k): Linear(in_features=184, out_features=184, bias=True)\n",
              "        (fc_v): Linear(in_features=184, out_features=184, bias=True)\n",
              "        (fc_o): Linear(in_features=184, out_features=184, bias=True)\n",
              "      )\n",
              "      (irffn): IRFFN(\n",
              "        (conv1): Conv2d(184, 662, kernel_size=(1, 1), stride=(1, 1))\n",
              "        (bn1): BatchNorm2d(662, eps=1e-05, momentum=0.1, affine=True, track_running_stats=True)\n",
              "        (dwconv): Conv2d(662, 662, kernel_size=(3, 3), stride=(1, 1), padding=(1, 1), groups=662)\n",
              "        (bn2): BatchNorm2d(662, eps=1e-05, momentum=0.1, affine=True, track_running_stats=True)\n",
              "        (conv2): Conv2d(662, 184, kernel_size=(1, 1), stride=(1, 1))\n",
              "        (bn3): BatchNorm2d(184, eps=1e-05, momentum=0.1, affine=True, track_running_stats=True)\n",
              "        (gelu): GELU(approximate='none')\n",
              "      )\n",
              "    )\n",
              "    (4): CMTBlock(\n",
              "      (lpu): LPU(\n",
              "        (dwconv): Conv2d(184, 184, kernel_size=(3, 3), stride=(1, 1), padding=(1, 1), groups=184)\n",
              "      )\n",
              "      (mhsa): MHSA(\n",
              "        (fc_q): Linear(in_features=184, out_features=184, bias=True)\n",
              "        (fc_k): Linear(in_features=184, out_features=184, bias=True)\n",
              "        (fc_v): Linear(in_features=184, out_features=184, bias=True)\n",
              "        (fc_o): Linear(in_features=184, out_features=184, bias=True)\n",
              "      )\n",
              "      (irffn): IRFFN(\n",
              "        (conv1): Conv2d(184, 662, kernel_size=(1, 1), stride=(1, 1))\n",
              "        (bn1): BatchNorm2d(662, eps=1e-05, momentum=0.1, affine=True, track_running_stats=True)\n",
              "        (dwconv): Conv2d(662, 662, kernel_size=(3, 3), stride=(1, 1), padding=(1, 1), groups=662)\n",
              "        (bn2): BatchNorm2d(662, eps=1e-05, momentum=0.1, affine=True, track_running_stats=True)\n",
              "        (conv2): Conv2d(662, 184, kernel_size=(1, 1), stride=(1, 1))\n",
              "        (bn3): BatchNorm2d(184, eps=1e-05, momentum=0.1, affine=True, track_running_stats=True)\n",
              "        (gelu): GELU(approximate='none')\n",
              "      )\n",
              "    )\n",
              "    (5): CMTBlock(\n",
              "      (lpu): LPU(\n",
              "        (dwconv): Conv2d(184, 184, kernel_size=(3, 3), stride=(1, 1), padding=(1, 1), groups=184)\n",
              "      )\n",
              "      (mhsa): MHSA(\n",
              "        (fc_q): Linear(in_features=184, out_features=184, bias=True)\n",
              "        (fc_k): Linear(in_features=184, out_features=184, bias=True)\n",
              "        (fc_v): Linear(in_features=184, out_features=184, bias=True)\n",
              "        (fc_o): Linear(in_features=184, out_features=184, bias=True)\n",
              "      )\n",
              "      (irffn): IRFFN(\n",
              "        (conv1): Conv2d(184, 662, kernel_size=(1, 1), stride=(1, 1))\n",
              "        (bn1): BatchNorm2d(662, eps=1e-05, momentum=0.1, affine=True, track_running_stats=True)\n",
              "        (dwconv): Conv2d(662, 662, kernel_size=(3, 3), stride=(1, 1), padding=(1, 1), groups=662)\n",
              "        (bn2): BatchNorm2d(662, eps=1e-05, momentum=0.1, affine=True, track_running_stats=True)\n",
              "        (conv2): Conv2d(662, 184, kernel_size=(1, 1), stride=(1, 1))\n",
              "        (bn3): BatchNorm2d(184, eps=1e-05, momentum=0.1, affine=True, track_running_stats=True)\n",
              "        (gelu): GELU(approximate='none')\n",
              "      )\n",
              "    )\n",
              "    (6): CMTBlock(\n",
              "      (lpu): LPU(\n",
              "        (dwconv): Conv2d(184, 184, kernel_size=(3, 3), stride=(1, 1), padding=(1, 1), groups=184)\n",
              "      )\n",
              "      (mhsa): MHSA(\n",
              "        (fc_q): Linear(in_features=184, out_features=184, bias=True)\n",
              "        (fc_k): Linear(in_features=184, out_features=184, bias=True)\n",
              "        (fc_v): Linear(in_features=184, out_features=184, bias=True)\n",
              "        (fc_o): Linear(in_features=184, out_features=184, bias=True)\n",
              "      )\n",
              "      (irffn): IRFFN(\n",
              "        (conv1): Conv2d(184, 662, kernel_size=(1, 1), stride=(1, 1))\n",
              "        (bn1): BatchNorm2d(662, eps=1e-05, momentum=0.1, affine=True, track_running_stats=True)\n",
              "        (dwconv): Conv2d(662, 662, kernel_size=(3, 3), stride=(1, 1), padding=(1, 1), groups=662)\n",
              "        (bn2): BatchNorm2d(662, eps=1e-05, momentum=0.1, affine=True, track_running_stats=True)\n",
              "        (conv2): Conv2d(662, 184, kernel_size=(1, 1), stride=(1, 1))\n",
              "        (bn3): BatchNorm2d(184, eps=1e-05, momentum=0.1, affine=True, track_running_stats=True)\n",
              "        (gelu): GELU(approximate='none')\n",
              "      )\n",
              "    )\n",
              "    (7): CMTBlock(\n",
              "      (lpu): LPU(\n",
              "        (dwconv): Conv2d(184, 184, kernel_size=(3, 3), stride=(1, 1), padding=(1, 1), groups=184)\n",
              "      )\n",
              "      (mhsa): MHSA(\n",
              "        (fc_q): Linear(in_features=184, out_features=184, bias=True)\n",
              "        (fc_k): Linear(in_features=184, out_features=184, bias=True)\n",
              "        (fc_v): Linear(in_features=184, out_features=184, bias=True)\n",
              "        (fc_o): Linear(in_features=184, out_features=184, bias=True)\n",
              "      )\n",
              "      (irffn): IRFFN(\n",
              "        (conv1): Conv2d(184, 662, kernel_size=(1, 1), stride=(1, 1))\n",
              "        (bn1): BatchNorm2d(662, eps=1e-05, momentum=0.1, affine=True, track_running_stats=True)\n",
              "        (dwconv): Conv2d(662, 662, kernel_size=(3, 3), stride=(1, 1), padding=(1, 1), groups=662)\n",
              "        (bn2): BatchNorm2d(662, eps=1e-05, momentum=0.1, affine=True, track_running_stats=True)\n",
              "        (conv2): Conv2d(662, 184, kernel_size=(1, 1), stride=(1, 1))\n",
              "        (bn3): BatchNorm2d(184, eps=1e-05, momentum=0.1, affine=True, track_running_stats=True)\n",
              "        (gelu): GELU(approximate='none')\n",
              "      )\n",
              "    )\n",
              "    (8): CMTBlock(\n",
              "      (lpu): LPU(\n",
              "        (dwconv): Conv2d(184, 184, kernel_size=(3, 3), stride=(1, 1), padding=(1, 1), groups=184)\n",
              "      )\n",
              "      (mhsa): MHSA(\n",
              "        (fc_q): Linear(in_features=184, out_features=184, bias=True)\n",
              "        (fc_k): Linear(in_features=184, out_features=184, bias=True)\n",
              "        (fc_v): Linear(in_features=184, out_features=184, bias=True)\n",
              "        (fc_o): Linear(in_features=184, out_features=184, bias=True)\n",
              "      )\n",
              "      (irffn): IRFFN(\n",
              "        (conv1): Conv2d(184, 662, kernel_size=(1, 1), stride=(1, 1))\n",
              "        (bn1): BatchNorm2d(662, eps=1e-05, momentum=0.1, affine=True, track_running_stats=True)\n",
              "        (dwconv): Conv2d(662, 662, kernel_size=(3, 3), stride=(1, 1), padding=(1, 1), groups=662)\n",
              "        (bn2): BatchNorm2d(662, eps=1e-05, momentum=0.1, affine=True, track_running_stats=True)\n",
              "        (conv2): Conv2d(662, 184, kernel_size=(1, 1), stride=(1, 1))\n",
              "        (bn3): BatchNorm2d(184, eps=1e-05, momentum=0.1, affine=True, track_running_stats=True)\n",
              "        (gelu): GELU(approximate='none')\n",
              "      )\n",
              "    )\n",
              "    (9): CMTBlock(\n",
              "      (lpu): LPU(\n",
              "        (dwconv): Conv2d(184, 184, kernel_size=(3, 3), stride=(1, 1), padding=(1, 1), groups=184)\n",
              "      )\n",
              "      (mhsa): MHSA(\n",
              "        (fc_q): Linear(in_features=184, out_features=184, bias=True)\n",
              "        (fc_k): Linear(in_features=184, out_features=184, bias=True)\n",
              "        (fc_v): Linear(in_features=184, out_features=184, bias=True)\n",
              "        (fc_o): Linear(in_features=184, out_features=184, bias=True)\n",
              "      )\n",
              "      (irffn): IRFFN(\n",
              "        (conv1): Conv2d(184, 662, kernel_size=(1, 1), stride=(1, 1))\n",
              "        (bn1): BatchNorm2d(662, eps=1e-05, momentum=0.1, affine=True, track_running_stats=True)\n",
              "        (dwconv): Conv2d(662, 662, kernel_size=(3, 3), stride=(1, 1), padding=(1, 1), groups=662)\n",
              "        (bn2): BatchNorm2d(662, eps=1e-05, momentum=0.1, affine=True, track_running_stats=True)\n",
              "        (conv2): Conv2d(662, 184, kernel_size=(1, 1), stride=(1, 1))\n",
              "        (bn3): BatchNorm2d(184, eps=1e-05, momentum=0.1, affine=True, track_running_stats=True)\n",
              "        (gelu): GELU(approximate='none')\n",
              "      )\n",
              "    )\n",
              "  )\n",
              "  (stage4): Sequential(\n",
              "    (0): CMTBlock(\n",
              "      (lpu): LPU(\n",
              "        (dwconv): Conv2d(368, 368, kernel_size=(3, 3), stride=(1, 1), padding=(1, 1), groups=368)\n",
              "      )\n",
              "      (mhsa): MHSA(\n",
              "        (fc_q): Linear(in_features=368, out_features=368, bias=True)\n",
              "        (fc_k): Linear(in_features=368, out_features=368, bias=True)\n",
              "        (fc_v): Linear(in_features=368, out_features=368, bias=True)\n",
              "        (fc_o): Linear(in_features=368, out_features=368, bias=True)\n",
              "      )\n",
              "      (irffn): IRFFN(\n",
              "        (conv1): Conv2d(368, 1324, kernel_size=(1, 1), stride=(1, 1))\n",
              "        (bn1): BatchNorm2d(1324, eps=1e-05, momentum=0.1, affine=True, track_running_stats=True)\n",
              "        (dwconv): Conv2d(1324, 1324, kernel_size=(3, 3), stride=(1, 1), padding=(1, 1), groups=1324)\n",
              "        (bn2): BatchNorm2d(1324, eps=1e-05, momentum=0.1, affine=True, track_running_stats=True)\n",
              "        (conv2): Conv2d(1324, 368, kernel_size=(1, 1), stride=(1, 1))\n",
              "        (bn3): BatchNorm2d(368, eps=1e-05, momentum=0.1, affine=True, track_running_stats=True)\n",
              "        (gelu): GELU(approximate='none')\n",
              "      )\n",
              "    )\n",
              "    (1): CMTBlock(\n",
              "      (lpu): LPU(\n",
              "        (dwconv): Conv2d(368, 368, kernel_size=(3, 3), stride=(1, 1), padding=(1, 1), groups=368)\n",
              "      )\n",
              "      (mhsa): MHSA(\n",
              "        (fc_q): Linear(in_features=368, out_features=368, bias=True)\n",
              "        (fc_k): Linear(in_features=368, out_features=368, bias=True)\n",
              "        (fc_v): Linear(in_features=368, out_features=368, bias=True)\n",
              "        (fc_o): Linear(in_features=368, out_features=368, bias=True)\n",
              "      )\n",
              "      (irffn): IRFFN(\n",
              "        (conv1): Conv2d(368, 1324, kernel_size=(1, 1), stride=(1, 1))\n",
              "        (bn1): BatchNorm2d(1324, eps=1e-05, momentum=0.1, affine=True, track_running_stats=True)\n",
              "        (dwconv): Conv2d(1324, 1324, kernel_size=(3, 3), stride=(1, 1), padding=(1, 1), groups=1324)\n",
              "        (bn2): BatchNorm2d(1324, eps=1e-05, momentum=0.1, affine=True, track_running_stats=True)\n",
              "        (conv2): Conv2d(1324, 368, kernel_size=(1, 1), stride=(1, 1))\n",
              "        (bn3): BatchNorm2d(368, eps=1e-05, momentum=0.1, affine=True, track_running_stats=True)\n",
              "        (gelu): GELU(approximate='none')\n",
              "      )\n",
              "    )\n",
              "  )\n",
              "  (avg_pool): AdaptiveAvgPool2d(output_size=1)\n",
              "  (projection): Sequential(\n",
              "    (0): Conv2d(368, 1280, kernel_size=(1, 1), stride=(1, 1))\n",
              "    (1): ReLU(inplace=True)\n",
              "  )\n",
              "  (classifier): Linear(in_features=1280, out_features=10, bias=True)\n",
              ")"
            ]
          },
          "metadata": {},
          "execution_count": 19
        }
      ]
    },
    {
      "cell_type": "markdown",
      "source": [
        "The model is trained using the same training procedure used for all other models."
      ],
      "metadata": {
        "id": "aoo_8cR8rZme"
      }
    },
    {
      "cell_type": "code",
      "source": [
        "# Epochs.\n",
        "EPOCHS = 25\n",
        "\n",
        "# Initial learning rate.\n",
        "LR = 6e-5\n",
        "\n",
        "# Weight decay.\n",
        "WD = 1e-5\n",
        "\n",
        "# Loss function.\n",
        "loss_fn = nn.CrossEntropyLoss()\n",
        "\n",
        "# Optimizer.\n",
        "optimizer = torch.optim.AdamW(m_2.parameters(), lr = LR, weight_decay = WD)\n",
        "\n",
        "# Scheduler.\n",
        "scheduler = torch.optim.lr_scheduler.CosineAnnealingLR(optimizer, EPOCHS)"
      ],
      "metadata": {
        "id": "BbK1Lme4DoTR"
      },
      "execution_count": null,
      "outputs": []
    },
    {
      "cell_type": "code",
      "source": [
        "# Training.\n",
        "history = train(m_2, optimizer, scheduler, loss_fn, train_loader, val_loader, EPOCHS, device)\n",
        "\n",
        "# Creating a checkpoint.\n",
        "checkpoint = {\n",
        "  \"model\": m_2.state_dict(),\n",
        "  \"optimizer\": optimizer.state_dict(),\n",
        "  \"scheduler\": scheduler.state_dict()\n",
        "}\n",
        "\n",
        "# Saving the model.\n",
        "torch.save(checkpoint, \"checkpoint2.pt\")\n",
        "\n",
        "# Saving history.\n",
        "with open(\"m_2_history.pkl\", \"wb\") as f:\n",
        "  pickle.dump(history, f)"
      ],
      "metadata": {
        "id": "PqQui1oRDr8U",
        "colab": {
          "base_uri": "https://localhost:8080/"
        },
        "outputId": "bb1c4d90-2b09-4125-c8a4-20972680eb70"
      },
      "execution_count": null,
      "outputs": [
        {
          "metadata": {
            "tags": null
          },
          "name": "stdout",
          "output_type": "stream",
          "text": [
            "Epoch  1/25:\n"
          ]
        },
        {
          "metadata": {
            "tags": null
          },
          "name": "stderr",
          "output_type": "stream",
          "text": [
            "Training: 100%|██████████| 1250/1250 [12:45<00:00,  1.63it/s]\n",
            "Validation: 100%|██████████| 313/313 [01:03<00:00,  4.96it/s]\n"
          ]
        },
        {
          "metadata": {
            "tags": null
          },
          "name": "stdout",
          "output_type": "stream",
          "text": [
            "train_loss: 1.4734, train_accuracy: 0.4545, val_loss: 1.1938, val_accuracy: 0.5609, lr: 6.0000e-05\n",
            "\n",
            "Epoch  2/25:\n"
          ]
        },
        {
          "metadata": {
            "tags": null
          },
          "name": "stderr",
          "output_type": "stream",
          "text": [
            "Training: 100%|██████████| 1250/1250 [12:38<00:00,  1.65it/s]\n",
            "Validation: 100%|██████████| 313/313 [01:03<00:00,  4.97it/s]\n"
          ]
        },
        {
          "metadata": {
            "tags": null
          },
          "name": "stdout",
          "output_type": "stream",
          "text": [
            "train_loss: 1.0371, train_accuracy: 0.6306, val_loss: 0.9094, val_accuracy: 0.6766, lr: 5.9763e-05\n",
            "\n",
            "Epoch  3/25:\n"
          ]
        },
        {
          "metadata": {
            "tags": null
          },
          "name": "stderr",
          "output_type": "stream",
          "text": [
            "Training: 100%|██████████| 1250/1250 [12:39<00:00,  1.65it/s]\n",
            "Validation: 100%|██████████| 313/313 [01:03<00:00,  4.94it/s]\n"
          ]
        },
        {
          "metadata": {
            "tags": null
          },
          "name": "stdout",
          "output_type": "stream",
          "text": [
            "train_loss: 0.8415, train_accuracy: 0.7038, val_loss: 0.7803, val_accuracy: 0.7226, lr: 5.9057e-05\n",
            "\n",
            "Epoch  4/25:\n"
          ]
        },
        {
          "metadata": {
            "tags": null
          },
          "name": "stderr",
          "output_type": "stream",
          "text": [
            "Training: 100%|██████████| 1250/1250 [12:38<00:00,  1.65it/s]\n",
            "Validation: 100%|██████████| 313/313 [01:03<00:00,  4.94it/s]\n"
          ]
        },
        {
          "metadata": {
            "tags": null
          },
          "name": "stdout",
          "output_type": "stream",
          "text": [
            "train_loss: 0.7142, train_accuracy: 0.7509, val_loss: 0.6898, val_accuracy: 0.7614, lr: 5.7893e-05\n",
            "\n",
            "Epoch  5/25:\n"
          ]
        },
        {
          "metadata": {
            "tags": null
          },
          "name": "stderr",
          "output_type": "stream",
          "text": [
            "Training: 100%|██████████| 1250/1250 [12:40<00:00,  1.64it/s]\n",
            "Validation: 100%|██████████| 313/313 [01:02<00:00,  4.97it/s]\n"
          ]
        },
        {
          "metadata": {
            "tags": null
          },
          "name": "stdout",
          "output_type": "stream",
          "text": [
            "train_loss: 0.6143, train_accuracy: 0.7844, val_loss: 0.6218, val_accuracy: 0.7879, lr: 5.6289e-05\n",
            "\n",
            "Epoch  6/25:\n"
          ]
        },
        {
          "metadata": {
            "tags": null
          },
          "name": "stderr",
          "output_type": "stream",
          "text": [
            "Training: 100%|██████████| 1250/1250 [12:37<00:00,  1.65it/s]\n",
            "Validation: 100%|██████████| 313/313 [01:03<00:00,  4.95it/s]\n"
          ]
        },
        {
          "metadata": {
            "tags": null
          },
          "name": "stdout",
          "output_type": "stream",
          "text": [
            "train_loss: 0.5552, train_accuracy: 0.8078, val_loss: 0.5701, val_accuracy: 0.8020, lr: 5.4271e-05\n",
            "\n",
            "Epoch  7/25:\n"
          ]
        },
        {
          "metadata": {
            "tags": null
          },
          "name": "stderr",
          "output_type": "stream",
          "text": [
            "Training: 100%|██████████| 1250/1250 [12:37<00:00,  1.65it/s]\n",
            "Validation: 100%|██████████| 313/313 [01:03<00:00,  4.96it/s]\n"
          ]
        },
        {
          "metadata": {
            "tags": null
          },
          "name": "stdout",
          "output_type": "stream",
          "text": [
            "train_loss: 0.4994, train_accuracy: 0.8265, val_loss: 0.5356, val_accuracy: 0.8170, lr: 5.1869e-05\n",
            "\n",
            "Epoch  8/25:\n"
          ]
        },
        {
          "metadata": {
            "tags": null
          },
          "name": "stderr",
          "output_type": "stream",
          "text": [
            "Training: 100%|██████████| 1250/1250 [12:38<00:00,  1.65it/s]\n",
            "Validation: 100%|██████████| 313/313 [01:03<00:00,  4.96it/s]\n"
          ]
        },
        {
          "metadata": {
            "tags": null
          },
          "name": "stdout",
          "output_type": "stream",
          "text": [
            "train_loss: 0.4538, train_accuracy: 0.8428, val_loss: 0.5250, val_accuracy: 0.8200, lr: 4.9123e-05\n",
            "\n",
            "Epoch  9/25:\n"
          ]
        },
        {
          "metadata": {
            "tags": null
          },
          "name": "stderr",
          "output_type": "stream",
          "text": [
            "Training: 100%|██████████| 1250/1250 [12:37<00:00,  1.65it/s]\n",
            "Validation: 100%|██████████| 313/313 [01:03<00:00,  4.95it/s]\n"
          ]
        },
        {
          "metadata": {
            "tags": null
          },
          "name": "stdout",
          "output_type": "stream",
          "text": [
            "train_loss: 0.4155, train_accuracy: 0.8557, val_loss: 0.4880, val_accuracy: 0.8276, lr: 4.6075e-05\n",
            "\n",
            "Epoch 10/25:\n"
          ]
        },
        {
          "metadata": {
            "tags": null
          },
          "name": "stderr",
          "output_type": "stream",
          "text": [
            "Training: 100%|██████████| 1250/1250 [12:37<00:00,  1.65it/s]\n",
            "Validation: 100%|██████████| 313/313 [01:02<00:00,  4.97it/s]\n"
          ]
        },
        {
          "metadata": {
            "tags": null
          },
          "name": "stdout",
          "output_type": "stream",
          "text": [
            "train_loss: 0.3739, train_accuracy: 0.8689, val_loss: 0.4968, val_accuracy: 0.8331, lr: 4.2773e-05\n",
            "\n",
            "Epoch 11/25:\n"
          ]
        },
        {
          "metadata": {
            "tags": null
          },
          "name": "stderr",
          "output_type": "stream",
          "text": [
            "Training: 100%|██████████| 1250/1250 [12:37<00:00,  1.65it/s]\n",
            "Validation: 100%|██████████| 313/313 [01:03<00:00,  4.96it/s]\n"
          ]
        },
        {
          "metadata": {
            "tags": null
          },
          "name": "stdout",
          "output_type": "stream",
          "text": [
            "train_loss: 0.3461, train_accuracy: 0.8784, val_loss: 0.4964, val_accuracy: 0.8354, lr: 3.9271e-05\n",
            "\n",
            "Epoch 12/25:\n"
          ]
        },
        {
          "metadata": {
            "tags": null
          },
          "name": "stderr",
          "output_type": "stream",
          "text": [
            "Training: 100%|██████████| 1250/1250 [12:38<00:00,  1.65it/s]\n",
            "Validation: 100%|██████████| 313/313 [01:03<00:00,  4.94it/s]\n"
          ]
        },
        {
          "metadata": {
            "tags": null
          },
          "name": "stdout",
          "output_type": "stream",
          "text": [
            "train_loss: 0.3155, train_accuracy: 0.8887, val_loss: 0.4585, val_accuracy: 0.8451, lr: 3.5621e-05\n",
            "\n",
            "Epoch 13/25:\n"
          ]
        },
        {
          "metadata": {
            "tags": null
          },
          "name": "stderr",
          "output_type": "stream",
          "text": [
            "Training: 100%|██████████| 1250/1250 [12:38<00:00,  1.65it/s]\n",
            "Validation: 100%|██████████| 313/313 [01:03<00:00,  4.94it/s]\n"
          ]
        },
        {
          "metadata": {
            "tags": null
          },
          "name": "stdout",
          "output_type": "stream",
          "text": [
            "train_loss: 0.2925, train_accuracy: 0.8976, val_loss: 0.4329, val_accuracy: 0.8581, lr: 3.1884e-05\n",
            "\n",
            "Epoch 14/25:\n"
          ]
        },
        {
          "metadata": {
            "tags": null
          },
          "name": "stderr",
          "output_type": "stream",
          "text": [
            "Training: 100%|██████████| 1250/1250 [12:37<00:00,  1.65it/s]\n",
            "Validation: 100%|██████████| 313/313 [01:03<00:00,  4.95it/s]\n"
          ]
        },
        {
          "metadata": {
            "tags": null
          },
          "name": "stdout",
          "output_type": "stream",
          "text": [
            "train_loss: 0.2615, train_accuracy: 0.9084, val_loss: 0.4363, val_accuracy: 0.8553, lr: 2.8116e-05\n",
            "\n",
            "Epoch 15/25:\n"
          ]
        },
        {
          "metadata": {
            "tags": null
          },
          "name": "stderr",
          "output_type": "stream",
          "text": [
            "Training: 100%|██████████| 1250/1250 [12:37<00:00,  1.65it/s]\n",
            "Validation: 100%|██████████| 313/313 [01:03<00:00,  4.96it/s]\n"
          ]
        },
        {
          "metadata": {
            "tags": null
          },
          "name": "stdout",
          "output_type": "stream",
          "text": [
            "train_loss: 0.2436, train_accuracy: 0.9160, val_loss: 0.4464, val_accuracy: 0.8562, lr: 2.4379e-05\n",
            "\n",
            "Epoch 16/25:\n"
          ]
        },
        {
          "metadata": {
            "tags": null
          },
          "name": "stderr",
          "output_type": "stream",
          "text": [
            "Training: 100%|██████████| 1250/1250 [12:37<00:00,  1.65it/s]\n",
            "Validation: 100%|██████████| 313/313 [01:03<00:00,  4.95it/s]\n"
          ]
        },
        {
          "metadata": {
            "tags": null
          },
          "name": "stdout",
          "output_type": "stream",
          "text": [
            "train_loss: 0.2210, train_accuracy: 0.9234, val_loss: 0.4250, val_accuracy: 0.8607, lr: 2.0729e-05\n",
            "\n",
            "Epoch 17/25:\n"
          ]
        },
        {
          "metadata": {
            "tags": null
          },
          "name": "stderr",
          "output_type": "stream",
          "text": [
            "Training: 100%|██████████| 1250/1250 [12:38<00:00,  1.65it/s]\n",
            "Validation: 100%|██████████| 313/313 [01:03<00:00,  4.93it/s]\n"
          ]
        },
        {
          "metadata": {
            "tags": null
          },
          "name": "stdout",
          "output_type": "stream",
          "text": [
            "train_loss: 0.2030, train_accuracy: 0.9292, val_loss: 0.4195, val_accuracy: 0.8667, lr: 1.7227e-05\n",
            "\n",
            "Epoch 18/25:\n"
          ]
        },
        {
          "metadata": {
            "tags": null
          },
          "name": "stderr",
          "output_type": "stream",
          "text": [
            "Training: 100%|██████████| 1250/1250 [12:39<00:00,  1.65it/s]\n",
            "Validation: 100%|██████████| 313/313 [01:03<00:00,  4.96it/s]\n"
          ]
        },
        {
          "metadata": {
            "tags": null
          },
          "name": "stdout",
          "output_type": "stream",
          "text": [
            "train_loss: 0.1888, train_accuracy: 0.9334, val_loss: 0.4097, val_accuracy: 0.8685, lr: 1.3925e-05\n",
            "\n",
            "Epoch 19/25:\n"
          ]
        },
        {
          "output_type": "stream",
          "name": "stderr",
          "text": [
            "Training: 100%|██████████| 1250/1250 [12:38<00:00,  1.65it/s]\n",
            "Validation: 100%|██████████| 313/313 [01:03<00:00,  4.95it/s]\n"
          ]
        },
        {
          "output_type": "stream",
          "name": "stdout",
          "text": [
            "train_loss: 0.1706, train_accuracy: 0.9410, val_loss: 0.3988, val_accuracy: 0.8721, lr: 1.0877e-05\n",
            "\n",
            "Epoch 20/25:\n"
          ]
        },
        {
          "output_type": "stream",
          "name": "stderr",
          "text": [
            "Training: 100%|██████████| 1250/1250 [12:38<00:00,  1.65it/s]\n",
            "Validation: 100%|██████████| 313/313 [01:03<00:00,  4.94it/s]\n"
          ]
        },
        {
          "output_type": "stream",
          "name": "stdout",
          "text": [
            "train_loss: 0.1618, train_accuracy: 0.9444, val_loss: 0.4026, val_accuracy: 0.8745, lr: 8.1309e-06\n",
            "\n",
            "Epoch 21/25:\n"
          ]
        },
        {
          "output_type": "stream",
          "name": "stderr",
          "text": [
            "Training: 100%|██████████| 1250/1250 [12:38<00:00,  1.65it/s]\n",
            "Validation: 100%|██████████| 313/313 [01:03<00:00,  4.95it/s]\n"
          ]
        },
        {
          "output_type": "stream",
          "name": "stdout",
          "text": [
            "train_loss: 0.1525, train_accuracy: 0.9481, val_loss: 0.4006, val_accuracy: 0.8731, lr: 5.7295e-06\n",
            "\n",
            "Epoch 22/25:\n"
          ]
        },
        {
          "output_type": "stream",
          "name": "stderr",
          "text": [
            "Training: 100%|██████████| 1250/1250 [12:38<00:00,  1.65it/s]\n",
            "Validation: 100%|██████████| 313/313 [01:03<00:00,  4.94it/s]\n"
          ]
        },
        {
          "output_type": "stream",
          "name": "stdout",
          "text": [
            "train_loss: 0.1460, train_accuracy: 0.9494, val_loss: 0.4019, val_accuracy: 0.8747, lr: 3.7108e-06\n",
            "\n",
            "Epoch 23/25:\n"
          ]
        },
        {
          "output_type": "stream",
          "name": "stderr",
          "text": [
            "Training: 100%|██████████| 1250/1250 [12:37<00:00,  1.65it/s]\n",
            "Validation: 100%|██████████| 313/313 [01:03<00:00,  4.93it/s]\n"
          ]
        },
        {
          "output_type": "stream",
          "name": "stdout",
          "text": [
            "train_loss: 0.1383, train_accuracy: 0.9530, val_loss: 0.4025, val_accuracy: 0.8723, lr: 2.1067e-06\n",
            "\n",
            "Epoch 24/25:\n"
          ]
        },
        {
          "output_type": "stream",
          "name": "stderr",
          "text": [
            "Training: 100%|██████████| 1250/1250 [12:38<00:00,  1.65it/s]\n",
            "Validation: 100%|██████████| 313/313 [01:03<00:00,  4.94it/s]\n"
          ]
        },
        {
          "output_type": "stream",
          "name": "stdout",
          "text": [
            "train_loss: 0.1373, train_accuracy: 0.9526, val_loss: 0.3941, val_accuracy: 0.8744, lr: 9.4251e-07\n",
            "\n",
            "Epoch 25/25:\n"
          ]
        },
        {
          "output_type": "stream",
          "name": "stderr",
          "text": [
            "Training: 100%|██████████| 1250/1250 [12:37<00:00,  1.65it/s]\n",
            "Validation: 100%|██████████| 313/313 [01:03<00:00,  4.97it/s]\n"
          ]
        },
        {
          "output_type": "stream",
          "name": "stdout",
          "text": [
            "\n",
            "train_loss: 0.1358, train_accuracy: 0.9535, val_loss: 0.3922, val_accuracy: 0.8746, lr: 2.3656e-07\n"
          ]
        }
      ]
    },
    {
      "cell_type": "markdown",
      "source": [
        "### No attention model ($m_3$)"
      ],
      "metadata": {
        "id": "GBo9AEepRzjQ"
      }
    },
    {
      "cell_type": "markdown",
      "source": [
        "Differently from $m_1$ and $m_2$, the $m_3$ model implements CMT-Ti but does not use attention at all."
      ],
      "metadata": {
        "id": "4EASAE47ruon"
      }
    },
    {
      "cell_type": "code",
      "source": [
        "# Defining the model that does not use attention.\n",
        "m_3 = CMT(\n",
        "  in_channels = 3,\n",
        "  stem_channels = 16,\n",
        "  channels = [46, 92, 184, 368],\n",
        "  block_layers = [2, 2, 10, 2],\n",
        "  k = [8, 4, 2, 1],\n",
        "  heads = [1, 2, 4, 8],\n",
        "  R = 3.6,\n",
        "  input_size = 224,\n",
        "  classes = 10,\n",
        "  attention_type = None)\n",
        "\n",
        "# Printing number of parameters.\n",
        "print(f\"m_3 has {sum(p.numel() for p in m_3.parameters())} parameters.\")"
      ],
      "metadata": {
        "id": "wX__-lC4FNRL",
        "colab": {
          "base_uri": "https://localhost:8080/"
        },
        "outputId": "d96a3b71-7480-419f-edc1-3bd2131d91aa"
      },
      "execution_count": null,
      "outputs": [
        {
          "output_type": "stream",
          "name": "stdout",
          "text": [
            "m_3 has 5577668 parameters.\n"
          ]
        }
      ]
    },
    {
      "cell_type": "markdown",
      "source": [
        "By looking at the results printed by the following cell, it is possible to notice how this model implies a number of FLOPs that is slightly lower than the number of FLOPs used by $m_1$, but also a number of parameters that is almost half the number of paramters of $m_1$. This last difference is due to the lack of attention blocks. In particular, $m_3$ has $5.58\\text{M}$ parameters and $0.95\\text{B}$ FLOPs."
      ],
      "metadata": {
        "id": "2P3jk883r8x6"
      }
    },
    {
      "cell_type": "code",
      "source": [
        "# Computing number of FLOPs.\n",
        "flops = FlopCountAnalysis(m_3, (torch.randn((1, 3, 224, 224)),))\n",
        "\n",
        "# Printing number of FLOPs per layer.\n",
        "print(flop_count_str(flops))"
      ],
      "metadata": {
        "colab": {
          "base_uri": "https://localhost:8080/"
        },
        "id": "PMf71I1NihOo",
        "outputId": "60bc45e6-3c66-4862-9df7-15e141f2ad09"
      },
      "execution_count": null,
      "outputs": [
        {
          "output_type": "stream",
          "name": "stdout",
          "text": [
            "CMT(\n",
            "  #params: 5.58M, #flops: 0.95G\n",
            "  (stem): Stem(\n",
            "    #params: 5.18K, #flops: 66.23M\n",
            "    (conv1): Conv2d(\n",
            "      3, 16, kernel_size=(3, 3), stride=(2, 2), padding=(1, 1)\n",
            "      #params: 0.45K, #flops: 5.42M\n",
            "    )\n",
            "    (bn1): BatchNorm2d(\n",
            "      16, eps=1e-05, momentum=0.1, affine=True, track_running_stats=True\n",
            "      #params: 32, #flops: 1M\n",
            "    )\n",
            "    (conv2): Conv2d(\n",
            "      16, 16, kernel_size=(3, 3), stride=(1, 1), padding=(1, 1)\n",
            "      #params: 2.32K, #flops: 28.9M\n",
            "    )\n",
            "    (bn2): BatchNorm2d(\n",
            "      16, eps=1e-05, momentum=0.1, affine=True, track_running_stats=True\n",
            "      #params: 32, #flops: 1M\n",
            "    )\n",
            "    (conv3): Conv2d(\n",
            "      16, 16, kernel_size=(3, 3), stride=(1, 1), padding=(1, 1)\n",
            "      #params: 2.32K, #flops: 28.9M\n",
            "    )\n",
            "    (bn3): BatchNorm2d(\n",
            "      16, eps=1e-05, momentum=0.1, affine=True, track_running_stats=True\n",
            "      #params: 32, #flops: 1M\n",
            "    )\n",
            "    (gelu): GELU(approximate='none')\n",
            "  )\n",
            "  (pe1): PatchEmbedding(\n",
            "    #params: 2.99K, #flops: 9.81M\n",
            "    (conv): Conv2d(\n",
            "      16, 46, kernel_size=(2, 2), stride=(2, 2)\n",
            "      #params: 2.99K, #flops: 9.23M\n",
            "    )\n",
            "  )\n",
            "  (pe2): PatchEmbedding(\n",
            "    #params: 17.02K, #flops: 13.56M\n",
            "    (conv): Conv2d(\n",
            "      46, 92, kernel_size=(2, 2), stride=(2, 2)\n",
            "      #params: 17.02K, #flops: 13.27M\n",
            "    )\n",
            "  )\n",
            "  (pe3): PatchEmbedding(\n",
            "    #params: 67.9K, #flops: 13.42M\n",
            "    (conv): Conv2d(\n",
            "      92, 184, kernel_size=(2, 2), stride=(2, 2)\n",
            "      #params: 67.9K, #flops: 13.27M\n",
            "    )\n",
            "  )\n",
            "  (pe4): PatchEmbedding(\n",
            "    #params: 0.27M, #flops: 13.34M\n",
            "    (conv): Conv2d(\n",
            "      184, 368, kernel_size=(2, 2), stride=(2, 2)\n",
            "      #params: 0.27M, #flops: 13.27M\n",
            "    )\n",
            "  )\n",
            "  (stage1): Sequential(\n",
            "    #params: 36.51K, #flops: 0.12G\n",
            "    (0): CMTBlock(\n",
            "      #params: 18.25K, #flops: 60.03M\n",
            "      (lpu): LPU(\n",
            "        #params: 0.46K, #flops: 1.3M\n",
            "        (dwconv): Conv2d(\n",
            "          46, 46, kernel_size=(3, 3), stride=(1, 1), padding=(1, 1), groups=46\n",
            "          #params: 0.46K, #flops: 1.3M\n",
            "        )\n",
            "      )\n",
            "      (irffn): IRFFN(\n",
            "        #params: 17.79K, #flops: 58.73M\n",
            "        (conv1): Conv2d(\n",
            "          46, 165, kernel_size=(1, 1), stride=(1, 1)\n",
            "          #params: 7.75K, #flops: 23.8M\n",
            "        )\n",
            "        (bn1): BatchNorm2d(\n",
            "          165, eps=1e-05, momentum=0.1, affine=True, track_running_stats=True\n",
            "          #params: 0.33K, #flops: 2.59M\n",
            "        )\n",
            "        (dwconv): Conv2d(\n",
            "          165, 165, kernel_size=(3, 3), stride=(1, 1), padding=(1, 1), groups=165\n",
            "          #params: 1.65K, #flops: 4.66M\n",
            "        )\n",
            "        (bn2): BatchNorm2d(\n",
            "          165, eps=1e-05, momentum=0.1, affine=True, track_running_stats=True\n",
            "          #params: 0.33K, #flops: 2.59M\n",
            "        )\n",
            "        (conv2): Conv2d(\n",
            "          165, 46, kernel_size=(1, 1), stride=(1, 1)\n",
            "          #params: 7.64K, #flops: 23.8M\n",
            "        )\n",
            "        (bn3): BatchNorm2d(\n",
            "          46, eps=1e-05, momentum=0.1, affine=True, track_running_stats=True\n",
            "          #params: 92, #flops: 0.72M\n",
            "        )\n",
            "        (gelu): GELU(approximate='none')\n",
            "      )\n",
            "    )\n",
            "    (1): CMTBlock(\n",
            "      #params: 18.25K, #flops: 60.03M\n",
            "      (lpu): LPU(\n",
            "        #params: 0.46K, #flops: 1.3M\n",
            "        (dwconv): Conv2d(\n",
            "          46, 46, kernel_size=(3, 3), stride=(1, 1), padding=(1, 1), groups=46\n",
            "          #params: 0.46K, #flops: 1.3M\n",
            "        )\n",
            "      )\n",
            "      (irffn): IRFFN(\n",
            "        #params: 17.79K, #flops: 58.73M\n",
            "        (conv1): Conv2d(\n",
            "          46, 165, kernel_size=(1, 1), stride=(1, 1)\n",
            "          #params: 7.75K, #flops: 23.8M\n",
            "        )\n",
            "        (bn1): BatchNorm2d(\n",
            "          165, eps=1e-05, momentum=0.1, affine=True, track_running_stats=True\n",
            "          #params: 0.33K, #flops: 2.59M\n",
            "        )\n",
            "        (dwconv): Conv2d(\n",
            "          165, 165, kernel_size=(3, 3), stride=(1, 1), padding=(1, 1), groups=165\n",
            "          #params: 1.65K, #flops: 4.66M\n",
            "        )\n",
            "        (bn2): BatchNorm2d(\n",
            "          165, eps=1e-05, momentum=0.1, affine=True, track_running_stats=True\n",
            "          #params: 0.33K, #flops: 2.59M\n",
            "        )\n",
            "        (conv2): Conv2d(\n",
            "          165, 46, kernel_size=(1, 1), stride=(1, 1)\n",
            "          #params: 7.64K, #flops: 23.8M\n",
            "        )\n",
            "        (bn3): BatchNorm2d(\n",
            "          46, eps=1e-05, momentum=0.1, affine=True, track_running_stats=True\n",
            "          #params: 92, #flops: 0.72M\n",
            "        )\n",
            "        (gelu): GELU(approximate='none')\n",
            "      )\n",
            "    )\n",
            "  )\n",
            "  (stage2): Sequential(\n",
            "    #params: 0.13M, #flops: 0.11G\n",
            "    (0): CMTBlock(\n",
            "      #params: 67.06K, #flops: 53.98M\n",
            "      (lpu): LPU(\n",
            "        #params: 0.92K, #flops: 0.65M\n",
            "        (dwconv): Conv2d(\n",
            "          92, 92, kernel_size=(3, 3), stride=(1, 1), padding=(1, 1), groups=92\n",
            "          #params: 0.92K, #flops: 0.65M\n",
            "        )\n",
            "      )\n",
            "      (irffn): IRFFN(\n",
            "        #params: 66.14K, #flops: 53.33M\n",
            "        (conv1): Conv2d(\n",
            "          92, 331, kernel_size=(1, 1), stride=(1, 1)\n",
            "          #params: 30.78K, #flops: 23.87M\n",
            "        )\n",
            "        (bn1): BatchNorm2d(\n",
            "          331, eps=1e-05, momentum=0.1, affine=True, track_running_stats=True\n",
            "          #params: 0.66K, #flops: 1.3M\n",
            "        )\n",
            "        (dwconv): Conv2d(\n",
            "          331, 331, kernel_size=(3, 3), stride=(1, 1), padding=(1, 1), groups=331\n",
            "          #params: 3.31K, #flops: 2.34M\n",
            "        )\n",
            "        (bn2): BatchNorm2d(\n",
            "          331, eps=1e-05, momentum=0.1, affine=True, track_running_stats=True\n",
            "          #params: 0.66K, #flops: 1.3M\n",
            "        )\n",
            "        (conv2): Conv2d(\n",
            "          331, 92, kernel_size=(1, 1), stride=(1, 1)\n",
            "          #params: 30.54K, #flops: 23.87M\n",
            "        )\n",
            "        (bn3): BatchNorm2d(\n",
            "          92, eps=1e-05, momentum=0.1, affine=True, track_running_stats=True\n",
            "          #params: 0.18K, #flops: 0.36M\n",
            "        )\n",
            "        (gelu): GELU(approximate='none')\n",
            "      )\n",
            "    )\n",
            "    (1): CMTBlock(\n",
            "      #params: 67.06K, #flops: 53.98M\n",
            "      (lpu): LPU(\n",
            "        #params: 0.92K, #flops: 0.65M\n",
            "        (dwconv): Conv2d(\n",
            "          92, 92, kernel_size=(3, 3), stride=(1, 1), padding=(1, 1), groups=92\n",
            "          #params: 0.92K, #flops: 0.65M\n",
            "        )\n",
            "      )\n",
            "      (irffn): IRFFN(\n",
            "        #params: 66.14K, #flops: 53.33M\n",
            "        (conv1): Conv2d(\n",
            "          92, 331, kernel_size=(1, 1), stride=(1, 1)\n",
            "          #params: 30.78K, #flops: 23.87M\n",
            "        )\n",
            "        (bn1): BatchNorm2d(\n",
            "          331, eps=1e-05, momentum=0.1, affine=True, track_running_stats=True\n",
            "          #params: 0.66K, #flops: 1.3M\n",
            "        )\n",
            "        (dwconv): Conv2d(\n",
            "          331, 331, kernel_size=(3, 3), stride=(1, 1), padding=(1, 1), groups=331\n",
            "          #params: 3.31K, #flops: 2.34M\n",
            "        )\n",
            "        (bn2): BatchNorm2d(\n",
            "          331, eps=1e-05, momentum=0.1, affine=True, track_running_stats=True\n",
            "          #params: 0.66K, #flops: 1.3M\n",
            "        )\n",
            "        (conv2): Conv2d(\n",
            "          331, 92, kernel_size=(1, 1), stride=(1, 1)\n",
            "          #params: 30.54K, #flops: 23.87M\n",
            "        )\n",
            "        (bn3): BatchNorm2d(\n",
            "          92, eps=1e-05, momentum=0.1, affine=True, track_running_stats=True\n",
            "          #params: 0.18K, #flops: 0.36M\n",
            "        )\n",
            "        (gelu): GELU(approximate='none')\n",
            "      )\n",
            "    )\n",
            "  )\n",
            "  (stage3): Sequential(\n",
            "    #params: 2.56M, #flops: 0.51G\n",
            "    (0): CMTBlock(\n",
            "      #params: 0.26M, #flops: 50.86M\n",
            "      (lpu): LPU(\n",
            "        #params: 1.84K, #flops: 0.32M\n",
            "        (dwconv): Conv2d(\n",
            "          184, 184, kernel_size=(3, 3), stride=(1, 1), padding=(1, 1), groups=184\n",
            "          #params: 1.84K, #flops: 0.32M\n",
            "        )\n",
            "      )\n",
            "      (irffn): IRFFN(\n",
            "        #params: 0.25M, #flops: 50.54M\n",
            "        (conv1): Conv2d(\n",
            "          184, 662, kernel_size=(1, 1), stride=(1, 1)\n",
            "          #params: 0.12M, #flops: 23.87M\n",
            "        )\n",
            "        (bn1): BatchNorm2d(\n",
            "          662, eps=1e-05, momentum=0.1, affine=True, track_running_stats=True\n",
            "          #params: 1.32K, #flops: 0.65M\n",
            "        )\n",
            "        (dwconv): Conv2d(\n",
            "          662, 662, kernel_size=(3, 3), stride=(1, 1), padding=(1, 1), groups=662\n",
            "          #params: 6.62K, #flops: 1.17M\n",
            "        )\n",
            "        (bn2): BatchNorm2d(\n",
            "          662, eps=1e-05, momentum=0.1, affine=True, track_running_stats=True\n",
            "          #params: 1.32K, #flops: 0.65M\n",
            "        )\n",
            "        (conv2): Conv2d(\n",
            "          662, 184, kernel_size=(1, 1), stride=(1, 1)\n",
            "          #params: 0.12M, #flops: 23.87M\n",
            "        )\n",
            "        (bn3): BatchNorm2d(\n",
            "          184, eps=1e-05, momentum=0.1, affine=True, track_running_stats=True\n",
            "          #params: 0.37K, #flops: 0.18M\n",
            "        )\n",
            "        (gelu): GELU(approximate='none')\n",
            "      )\n",
            "    )\n",
            "    (1): CMTBlock(\n",
            "      #params: 0.26M, #flops: 50.86M\n",
            "      (lpu): LPU(\n",
            "        #params: 1.84K, #flops: 0.32M\n",
            "        (dwconv): Conv2d(\n",
            "          184, 184, kernel_size=(3, 3), stride=(1, 1), padding=(1, 1), groups=184\n",
            "          #params: 1.84K, #flops: 0.32M\n",
            "        )\n",
            "      )\n",
            "      (irffn): IRFFN(\n",
            "        #params: 0.25M, #flops: 50.54M\n",
            "        (conv1): Conv2d(\n",
            "          184, 662, kernel_size=(1, 1), stride=(1, 1)\n",
            "          #params: 0.12M, #flops: 23.87M\n",
            "        )\n",
            "        (bn1): BatchNorm2d(\n",
            "          662, eps=1e-05, momentum=0.1, affine=True, track_running_stats=True\n",
            "          #params: 1.32K, #flops: 0.65M\n",
            "        )\n",
            "        (dwconv): Conv2d(\n",
            "          662, 662, kernel_size=(3, 3), stride=(1, 1), padding=(1, 1), groups=662\n",
            "          #params: 6.62K, #flops: 1.17M\n",
            "        )\n",
            "        (bn2): BatchNorm2d(\n",
            "          662, eps=1e-05, momentum=0.1, affine=True, track_running_stats=True\n",
            "          #params: 1.32K, #flops: 0.65M\n",
            "        )\n",
            "        (conv2): Conv2d(\n",
            "          662, 184, kernel_size=(1, 1), stride=(1, 1)\n",
            "          #params: 0.12M, #flops: 23.87M\n",
            "        )\n",
            "        (bn3): BatchNorm2d(\n",
            "          184, eps=1e-05, momentum=0.1, affine=True, track_running_stats=True\n",
            "          #params: 0.37K, #flops: 0.18M\n",
            "        )\n",
            "        (gelu): GELU(approximate='none')\n",
            "      )\n",
            "    )\n",
            "    (2): CMTBlock(\n",
            "      #params: 0.26M, #flops: 50.86M\n",
            "      (lpu): LPU(\n",
            "        #params: 1.84K, #flops: 0.32M\n",
            "        (dwconv): Conv2d(\n",
            "          184, 184, kernel_size=(3, 3), stride=(1, 1), padding=(1, 1), groups=184\n",
            "          #params: 1.84K, #flops: 0.32M\n",
            "        )\n",
            "      )\n",
            "      (irffn): IRFFN(\n",
            "        #params: 0.25M, #flops: 50.54M\n",
            "        (conv1): Conv2d(\n",
            "          184, 662, kernel_size=(1, 1), stride=(1, 1)\n",
            "          #params: 0.12M, #flops: 23.87M\n",
            "        )\n",
            "        (bn1): BatchNorm2d(\n",
            "          662, eps=1e-05, momentum=0.1, affine=True, track_running_stats=True\n",
            "          #params: 1.32K, #flops: 0.65M\n",
            "        )\n",
            "        (dwconv): Conv2d(\n",
            "          662, 662, kernel_size=(3, 3), stride=(1, 1), padding=(1, 1), groups=662\n",
            "          #params: 6.62K, #flops: 1.17M\n",
            "        )\n",
            "        (bn2): BatchNorm2d(\n",
            "          662, eps=1e-05, momentum=0.1, affine=True, track_running_stats=True\n",
            "          #params: 1.32K, #flops: 0.65M\n",
            "        )\n",
            "        (conv2): Conv2d(\n",
            "          662, 184, kernel_size=(1, 1), stride=(1, 1)\n",
            "          #params: 0.12M, #flops: 23.87M\n",
            "        )\n",
            "        (bn3): BatchNorm2d(\n",
            "          184, eps=1e-05, momentum=0.1, affine=True, track_running_stats=True\n",
            "          #params: 0.37K, #flops: 0.18M\n",
            "        )\n",
            "        (gelu): GELU(approximate='none')\n",
            "      )\n",
            "    )\n",
            "    (3): CMTBlock(\n",
            "      #params: 0.26M, #flops: 50.86M\n",
            "      (lpu): LPU(\n",
            "        #params: 1.84K, #flops: 0.32M\n",
            "        (dwconv): Conv2d(\n",
            "          184, 184, kernel_size=(3, 3), stride=(1, 1), padding=(1, 1), groups=184\n",
            "          #params: 1.84K, #flops: 0.32M\n",
            "        )\n",
            "      )\n",
            "      (irffn): IRFFN(\n",
            "        #params: 0.25M, #flops: 50.54M\n",
            "        (conv1): Conv2d(\n",
            "          184, 662, kernel_size=(1, 1), stride=(1, 1)\n",
            "          #params: 0.12M, #flops: 23.87M\n",
            "        )\n",
            "        (bn1): BatchNorm2d(\n",
            "          662, eps=1e-05, momentum=0.1, affine=True, track_running_stats=True\n",
            "          #params: 1.32K, #flops: 0.65M\n",
            "        )\n",
            "        (dwconv): Conv2d(\n",
            "          662, 662, kernel_size=(3, 3), stride=(1, 1), padding=(1, 1), groups=662\n",
            "          #params: 6.62K, #flops: 1.17M\n",
            "        )\n",
            "        (bn2): BatchNorm2d(\n",
            "          662, eps=1e-05, momentum=0.1, affine=True, track_running_stats=True\n",
            "          #params: 1.32K, #flops: 0.65M\n",
            "        )\n",
            "        (conv2): Conv2d(\n",
            "          662, 184, kernel_size=(1, 1), stride=(1, 1)\n",
            "          #params: 0.12M, #flops: 23.87M\n",
            "        )\n",
            "        (bn3): BatchNorm2d(\n",
            "          184, eps=1e-05, momentum=0.1, affine=True, track_running_stats=True\n",
            "          #params: 0.37K, #flops: 0.18M\n",
            "        )\n",
            "        (gelu): GELU(approximate='none')\n",
            "      )\n",
            "    )\n",
            "    (4): CMTBlock(\n",
            "      #params: 0.26M, #flops: 50.86M\n",
            "      (lpu): LPU(\n",
            "        #params: 1.84K, #flops: 0.32M\n",
            "        (dwconv): Conv2d(\n",
            "          184, 184, kernel_size=(3, 3), stride=(1, 1), padding=(1, 1), groups=184\n",
            "          #params: 1.84K, #flops: 0.32M\n",
            "        )\n",
            "      )\n",
            "      (irffn): IRFFN(\n",
            "        #params: 0.25M, #flops: 50.54M\n",
            "        (conv1): Conv2d(\n",
            "          184, 662, kernel_size=(1, 1), stride=(1, 1)\n",
            "          #params: 0.12M, #flops: 23.87M\n",
            "        )\n",
            "        (bn1): BatchNorm2d(\n",
            "          662, eps=1e-05, momentum=0.1, affine=True, track_running_stats=True\n",
            "          #params: 1.32K, #flops: 0.65M\n",
            "        )\n",
            "        (dwconv): Conv2d(\n",
            "          662, 662, kernel_size=(3, 3), stride=(1, 1), padding=(1, 1), groups=662\n",
            "          #params: 6.62K, #flops: 1.17M\n",
            "        )\n",
            "        (bn2): BatchNorm2d(\n",
            "          662, eps=1e-05, momentum=0.1, affine=True, track_running_stats=True\n",
            "          #params: 1.32K, #flops: 0.65M\n",
            "        )\n",
            "        (conv2): Conv2d(\n",
            "          662, 184, kernel_size=(1, 1), stride=(1, 1)\n",
            "          #params: 0.12M, #flops: 23.87M\n",
            "        )\n",
            "        (bn3): BatchNorm2d(\n",
            "          184, eps=1e-05, momentum=0.1, affine=True, track_running_stats=True\n",
            "          #params: 0.37K, #flops: 0.18M\n",
            "        )\n",
            "        (gelu): GELU(approximate='none')\n",
            "      )\n",
            "    )\n",
            "    (5): CMTBlock(\n",
            "      #params: 0.26M, #flops: 50.86M\n",
            "      (lpu): LPU(\n",
            "        #params: 1.84K, #flops: 0.32M\n",
            "        (dwconv): Conv2d(\n",
            "          184, 184, kernel_size=(3, 3), stride=(1, 1), padding=(1, 1), groups=184\n",
            "          #params: 1.84K, #flops: 0.32M\n",
            "        )\n",
            "      )\n",
            "      (irffn): IRFFN(\n",
            "        #params: 0.25M, #flops: 50.54M\n",
            "        (conv1): Conv2d(\n",
            "          184, 662, kernel_size=(1, 1), stride=(1, 1)\n",
            "          #params: 0.12M, #flops: 23.87M\n",
            "        )\n",
            "        (bn1): BatchNorm2d(\n",
            "          662, eps=1e-05, momentum=0.1, affine=True, track_running_stats=True\n",
            "          #params: 1.32K, #flops: 0.65M\n",
            "        )\n",
            "        (dwconv): Conv2d(\n",
            "          662, 662, kernel_size=(3, 3), stride=(1, 1), padding=(1, 1), groups=662\n",
            "          #params: 6.62K, #flops: 1.17M\n",
            "        )\n",
            "        (bn2): BatchNorm2d(\n",
            "          662, eps=1e-05, momentum=0.1, affine=True, track_running_stats=True\n",
            "          #params: 1.32K, #flops: 0.65M\n",
            "        )\n",
            "        (conv2): Conv2d(\n",
            "          662, 184, kernel_size=(1, 1), stride=(1, 1)\n",
            "          #params: 0.12M, #flops: 23.87M\n",
            "        )\n",
            "        (bn3): BatchNorm2d(\n",
            "          184, eps=1e-05, momentum=0.1, affine=True, track_running_stats=True\n",
            "          #params: 0.37K, #flops: 0.18M\n",
            "        )\n",
            "        (gelu): GELU(approximate='none')\n",
            "      )\n",
            "    )\n",
            "    (6): CMTBlock(\n",
            "      #params: 0.26M, #flops: 50.86M\n",
            "      (lpu): LPU(\n",
            "        #params: 1.84K, #flops: 0.32M\n",
            "        (dwconv): Conv2d(\n",
            "          184, 184, kernel_size=(3, 3), stride=(1, 1), padding=(1, 1), groups=184\n",
            "          #params: 1.84K, #flops: 0.32M\n",
            "        )\n",
            "      )\n",
            "      (irffn): IRFFN(\n",
            "        #params: 0.25M, #flops: 50.54M\n",
            "        (conv1): Conv2d(\n",
            "          184, 662, kernel_size=(1, 1), stride=(1, 1)\n",
            "          #params: 0.12M, #flops: 23.87M\n",
            "        )\n",
            "        (bn1): BatchNorm2d(\n",
            "          662, eps=1e-05, momentum=0.1, affine=True, track_running_stats=True\n",
            "          #params: 1.32K, #flops: 0.65M\n",
            "        )\n",
            "        (dwconv): Conv2d(\n",
            "          662, 662, kernel_size=(3, 3), stride=(1, 1), padding=(1, 1), groups=662\n",
            "          #params: 6.62K, #flops: 1.17M\n",
            "        )\n",
            "        (bn2): BatchNorm2d(\n",
            "          662, eps=1e-05, momentum=0.1, affine=True, track_running_stats=True\n",
            "          #params: 1.32K, #flops: 0.65M\n",
            "        )\n",
            "        (conv2): Conv2d(\n",
            "          662, 184, kernel_size=(1, 1), stride=(1, 1)\n",
            "          #params: 0.12M, #flops: 23.87M\n",
            "        )\n",
            "        (bn3): BatchNorm2d(\n",
            "          184, eps=1e-05, momentum=0.1, affine=True, track_running_stats=True\n",
            "          #params: 0.37K, #flops: 0.18M\n",
            "        )\n",
            "        (gelu): GELU(approximate='none')\n",
            "      )\n",
            "    )\n",
            "    (7): CMTBlock(\n",
            "      #params: 0.26M, #flops: 50.86M\n",
            "      (lpu): LPU(\n",
            "        #params: 1.84K, #flops: 0.32M\n",
            "        (dwconv): Conv2d(\n",
            "          184, 184, kernel_size=(3, 3), stride=(1, 1), padding=(1, 1), groups=184\n",
            "          #params: 1.84K, #flops: 0.32M\n",
            "        )\n",
            "      )\n",
            "      (irffn): IRFFN(\n",
            "        #params: 0.25M, #flops: 50.54M\n",
            "        (conv1): Conv2d(\n",
            "          184, 662, kernel_size=(1, 1), stride=(1, 1)\n",
            "          #params: 0.12M, #flops: 23.87M\n",
            "        )\n",
            "        (bn1): BatchNorm2d(\n",
            "          662, eps=1e-05, momentum=0.1, affine=True, track_running_stats=True\n",
            "          #params: 1.32K, #flops: 0.65M\n",
            "        )\n",
            "        (dwconv): Conv2d(\n",
            "          662, 662, kernel_size=(3, 3), stride=(1, 1), padding=(1, 1), groups=662\n",
            "          #params: 6.62K, #flops: 1.17M\n",
            "        )\n",
            "        (bn2): BatchNorm2d(\n",
            "          662, eps=1e-05, momentum=0.1, affine=True, track_running_stats=True\n",
            "          #params: 1.32K, #flops: 0.65M\n",
            "        )\n",
            "        (conv2): Conv2d(\n",
            "          662, 184, kernel_size=(1, 1), stride=(1, 1)\n",
            "          #params: 0.12M, #flops: 23.87M\n",
            "        )\n",
            "        (bn3): BatchNorm2d(\n",
            "          184, eps=1e-05, momentum=0.1, affine=True, track_running_stats=True\n",
            "          #params: 0.37K, #flops: 0.18M\n",
            "        )\n",
            "        (gelu): GELU(approximate='none')\n",
            "      )\n",
            "    )\n",
            "    (8): CMTBlock(\n",
            "      #params: 0.26M, #flops: 50.86M\n",
            "      (lpu): LPU(\n",
            "        #params: 1.84K, #flops: 0.32M\n",
            "        (dwconv): Conv2d(\n",
            "          184, 184, kernel_size=(3, 3), stride=(1, 1), padding=(1, 1), groups=184\n",
            "          #params: 1.84K, #flops: 0.32M\n",
            "        )\n",
            "      )\n",
            "      (irffn): IRFFN(\n",
            "        #params: 0.25M, #flops: 50.54M\n",
            "        (conv1): Conv2d(\n",
            "          184, 662, kernel_size=(1, 1), stride=(1, 1)\n",
            "          #params: 0.12M, #flops: 23.87M\n",
            "        )\n",
            "        (bn1): BatchNorm2d(\n",
            "          662, eps=1e-05, momentum=0.1, affine=True, track_running_stats=True\n",
            "          #params: 1.32K, #flops: 0.65M\n",
            "        )\n",
            "        (dwconv): Conv2d(\n",
            "          662, 662, kernel_size=(3, 3), stride=(1, 1), padding=(1, 1), groups=662\n",
            "          #params: 6.62K, #flops: 1.17M\n",
            "        )\n",
            "        (bn2): BatchNorm2d(\n",
            "          662, eps=1e-05, momentum=0.1, affine=True, track_running_stats=True\n",
            "          #params: 1.32K, #flops: 0.65M\n",
            "        )\n",
            "        (conv2): Conv2d(\n",
            "          662, 184, kernel_size=(1, 1), stride=(1, 1)\n",
            "          #params: 0.12M, #flops: 23.87M\n",
            "        )\n",
            "        (bn3): BatchNorm2d(\n",
            "          184, eps=1e-05, momentum=0.1, affine=True, track_running_stats=True\n",
            "          #params: 0.37K, #flops: 0.18M\n",
            "        )\n",
            "        (gelu): GELU(approximate='none')\n",
            "      )\n",
            "    )\n",
            "    (9): CMTBlock(\n",
            "      #params: 0.26M, #flops: 50.86M\n",
            "      (lpu): LPU(\n",
            "        #params: 1.84K, #flops: 0.32M\n",
            "        (dwconv): Conv2d(\n",
            "          184, 184, kernel_size=(3, 3), stride=(1, 1), padding=(1, 1), groups=184\n",
            "          #params: 1.84K, #flops: 0.32M\n",
            "        )\n",
            "      )\n",
            "      (irffn): IRFFN(\n",
            "        #params: 0.25M, #flops: 50.54M\n",
            "        (conv1): Conv2d(\n",
            "          184, 662, kernel_size=(1, 1), stride=(1, 1)\n",
            "          #params: 0.12M, #flops: 23.87M\n",
            "        )\n",
            "        (bn1): BatchNorm2d(\n",
            "          662, eps=1e-05, momentum=0.1, affine=True, track_running_stats=True\n",
            "          #params: 1.32K, #flops: 0.65M\n",
            "        )\n",
            "        (dwconv): Conv2d(\n",
            "          662, 662, kernel_size=(3, 3), stride=(1, 1), padding=(1, 1), groups=662\n",
            "          #params: 6.62K, #flops: 1.17M\n",
            "        )\n",
            "        (bn2): BatchNorm2d(\n",
            "          662, eps=1e-05, momentum=0.1, affine=True, track_running_stats=True\n",
            "          #params: 1.32K, #flops: 0.65M\n",
            "        )\n",
            "        (conv2): Conv2d(\n",
            "          662, 184, kernel_size=(1, 1), stride=(1, 1)\n",
            "          #params: 0.12M, #flops: 23.87M\n",
            "        )\n",
            "        (bn3): BatchNorm2d(\n",
            "          184, eps=1e-05, momentum=0.1, affine=True, track_running_stats=True\n",
            "          #params: 0.37K, #flops: 0.18M\n",
            "        )\n",
            "        (gelu): GELU(approximate='none')\n",
            "      )\n",
            "    )\n",
            "  )\n",
            "  (stage4): Sequential(\n",
            "    #params: 2M, #flops: 98.61M\n",
            "    (0): CMTBlock(\n",
            "      #params: 1M, #flops: 49.31M\n",
            "      (lpu): LPU(\n",
            "        #params: 3.68K, #flops: 0.16M\n",
            "        (dwconv): Conv2d(\n",
            "          368, 368, kernel_size=(3, 3), stride=(1, 1), padding=(1, 1), groups=368\n",
            "          #params: 3.68K, #flops: 0.16M\n",
            "        )\n",
            "      )\n",
            "      (irffn): IRFFN(\n",
            "        #params: 1M, #flops: 49.14M\n",
            "        (conv1): Conv2d(\n",
            "          368, 1324, kernel_size=(1, 1), stride=(1, 1)\n",
            "          #params: 0.49M, #flops: 23.87M\n",
            "        )\n",
            "        (bn1): BatchNorm2d(\n",
            "          1324, eps=1e-05, momentum=0.1, affine=True, track_running_stats=True\n",
            "          #params: 2.65K, #flops: 0.32M\n",
            "        )\n",
            "        (dwconv): Conv2d(\n",
            "          1324, 1324, kernel_size=(3, 3), stride=(1, 1), padding=(1, 1), groups=1324\n",
            "          #params: 13.24K, #flops: 0.58M\n",
            "        )\n",
            "        (bn2): BatchNorm2d(\n",
            "          1324, eps=1e-05, momentum=0.1, affine=True, track_running_stats=True\n",
            "          #params: 2.65K, #flops: 0.32M\n",
            "        )\n",
            "        (conv2): Conv2d(\n",
            "          1324, 368, kernel_size=(1, 1), stride=(1, 1)\n",
            "          #params: 0.49M, #flops: 23.87M\n",
            "        )\n",
            "        (bn3): BatchNorm2d(\n",
            "          368, eps=1e-05, momentum=0.1, affine=True, track_running_stats=True\n",
            "          #params: 0.74K, #flops: 90.16K\n",
            "        )\n",
            "        (gelu): GELU(approximate='none')\n",
            "      )\n",
            "    )\n",
            "    (1): CMTBlock(\n",
            "      #params: 1M, #flops: 49.31M\n",
            "      (lpu): LPU(\n",
            "        #params: 3.68K, #flops: 0.16M\n",
            "        (dwconv): Conv2d(\n",
            "          368, 368, kernel_size=(3, 3), stride=(1, 1), padding=(1, 1), groups=368\n",
            "          #params: 3.68K, #flops: 0.16M\n",
            "        )\n",
            "      )\n",
            "      (irffn): IRFFN(\n",
            "        #params: 1M, #flops: 49.14M\n",
            "        (conv1): Conv2d(\n",
            "          368, 1324, kernel_size=(1, 1), stride=(1, 1)\n",
            "          #params: 0.49M, #flops: 23.87M\n",
            "        )\n",
            "        (bn1): BatchNorm2d(\n",
            "          1324, eps=1e-05, momentum=0.1, affine=True, track_running_stats=True\n",
            "          #params: 2.65K, #flops: 0.32M\n",
            "        )\n",
            "        (dwconv): Conv2d(\n",
            "          1324, 1324, kernel_size=(3, 3), stride=(1, 1), padding=(1, 1), groups=1324\n",
            "          #params: 13.24K, #flops: 0.58M\n",
            "        )\n",
            "        (bn2): BatchNorm2d(\n",
            "          1324, eps=1e-05, momentum=0.1, affine=True, track_running_stats=True\n",
            "          #params: 2.65K, #flops: 0.32M\n",
            "        )\n",
            "        (conv2): Conv2d(\n",
            "          1324, 368, kernel_size=(1, 1), stride=(1, 1)\n",
            "          #params: 0.49M, #flops: 23.87M\n",
            "        )\n",
            "        (bn3): BatchNorm2d(\n",
            "          368, eps=1e-05, momentum=0.1, affine=True, track_running_stats=True\n",
            "          #params: 0.74K, #flops: 90.16K\n",
            "        )\n",
            "        (gelu): GELU(approximate='none')\n",
            "      )\n",
            "    )\n",
            "  )\n",
            "  (avg_pool): AdaptiveAvgPool2d(\n",
            "    output_size=1\n",
            "    #params: 0, #flops: 18.03K\n",
            "  )\n",
            "  (projection): Sequential(\n",
            "    #params: 0.47M, #flops: 0.47M\n",
            "    (0): Conv2d(\n",
            "      368, 1280, kernel_size=(1, 1), stride=(1, 1)\n",
            "      #params: 0.47M, #flops: 0.47M\n",
            "    )\n",
            "    (1): ReLU(inplace=True)\n",
            "  )\n",
            "  (classifier): Linear(\n",
            "    in_features=1280, out_features=10, bias=True\n",
            "    #params: 12.81K, #flops: 12.8K\n",
            "  )\n",
            ")\n"
          ]
        }
      ]
    },
    {
      "cell_type": "code",
      "source": [
        "# Loading model to device.\n",
        "m_3.to(device)"
      ],
      "metadata": {
        "id": "zCWwDnRHFbOt",
        "colab": {
          "base_uri": "https://localhost:8080/"
        },
        "outputId": "f4f6cd34-9de6-426f-b962-b148f71e2d46"
      },
      "execution_count": null,
      "outputs": [
        {
          "output_type": "execute_result",
          "data": {
            "text/plain": [
              "CMT(\n",
              "  (stem): Stem(\n",
              "    (conv1): Conv2d(3, 16, kernel_size=(3, 3), stride=(2, 2), padding=(1, 1))\n",
              "    (bn1): BatchNorm2d(16, eps=1e-05, momentum=0.1, affine=True, track_running_stats=True)\n",
              "    (conv2): Conv2d(16, 16, kernel_size=(3, 3), stride=(1, 1), padding=(1, 1))\n",
              "    (bn2): BatchNorm2d(16, eps=1e-05, momentum=0.1, affine=True, track_running_stats=True)\n",
              "    (conv3): Conv2d(16, 16, kernel_size=(3, 3), stride=(1, 1), padding=(1, 1))\n",
              "    (bn3): BatchNorm2d(16, eps=1e-05, momentum=0.1, affine=True, track_running_stats=True)\n",
              "    (gelu): GELU(approximate='none')\n",
              "  )\n",
              "  (pe1): PatchEmbedding(\n",
              "    (conv): Conv2d(16, 46, kernel_size=(2, 2), stride=(2, 2))\n",
              "  )\n",
              "  (pe2): PatchEmbedding(\n",
              "    (conv): Conv2d(46, 92, kernel_size=(2, 2), stride=(2, 2))\n",
              "  )\n",
              "  (pe3): PatchEmbedding(\n",
              "    (conv): Conv2d(92, 184, kernel_size=(2, 2), stride=(2, 2))\n",
              "  )\n",
              "  (pe4): PatchEmbedding(\n",
              "    (conv): Conv2d(184, 368, kernel_size=(2, 2), stride=(2, 2))\n",
              "  )\n",
              "  (stage1): Sequential(\n",
              "    (0): CMTBlock(\n",
              "      (lpu): LPU(\n",
              "        (dwconv): Conv2d(46, 46, kernel_size=(3, 3), stride=(1, 1), padding=(1, 1), groups=46)\n",
              "      )\n",
              "      (irffn): IRFFN(\n",
              "        (conv1): Conv2d(46, 165, kernel_size=(1, 1), stride=(1, 1))\n",
              "        (bn1): BatchNorm2d(165, eps=1e-05, momentum=0.1, affine=True, track_running_stats=True)\n",
              "        (dwconv): Conv2d(165, 165, kernel_size=(3, 3), stride=(1, 1), padding=(1, 1), groups=165)\n",
              "        (bn2): BatchNorm2d(165, eps=1e-05, momentum=0.1, affine=True, track_running_stats=True)\n",
              "        (conv2): Conv2d(165, 46, kernel_size=(1, 1), stride=(1, 1))\n",
              "        (bn3): BatchNorm2d(46, eps=1e-05, momentum=0.1, affine=True, track_running_stats=True)\n",
              "        (gelu): GELU(approximate='none')\n",
              "      )\n",
              "    )\n",
              "    (1): CMTBlock(\n",
              "      (lpu): LPU(\n",
              "        (dwconv): Conv2d(46, 46, kernel_size=(3, 3), stride=(1, 1), padding=(1, 1), groups=46)\n",
              "      )\n",
              "      (irffn): IRFFN(\n",
              "        (conv1): Conv2d(46, 165, kernel_size=(1, 1), stride=(1, 1))\n",
              "        (bn1): BatchNorm2d(165, eps=1e-05, momentum=0.1, affine=True, track_running_stats=True)\n",
              "        (dwconv): Conv2d(165, 165, kernel_size=(3, 3), stride=(1, 1), padding=(1, 1), groups=165)\n",
              "        (bn2): BatchNorm2d(165, eps=1e-05, momentum=0.1, affine=True, track_running_stats=True)\n",
              "        (conv2): Conv2d(165, 46, kernel_size=(1, 1), stride=(1, 1))\n",
              "        (bn3): BatchNorm2d(46, eps=1e-05, momentum=0.1, affine=True, track_running_stats=True)\n",
              "        (gelu): GELU(approximate='none')\n",
              "      )\n",
              "    )\n",
              "  )\n",
              "  (stage2): Sequential(\n",
              "    (0): CMTBlock(\n",
              "      (lpu): LPU(\n",
              "        (dwconv): Conv2d(92, 92, kernel_size=(3, 3), stride=(1, 1), padding=(1, 1), groups=92)\n",
              "      )\n",
              "      (irffn): IRFFN(\n",
              "        (conv1): Conv2d(92, 331, kernel_size=(1, 1), stride=(1, 1))\n",
              "        (bn1): BatchNorm2d(331, eps=1e-05, momentum=0.1, affine=True, track_running_stats=True)\n",
              "        (dwconv): Conv2d(331, 331, kernel_size=(3, 3), stride=(1, 1), padding=(1, 1), groups=331)\n",
              "        (bn2): BatchNorm2d(331, eps=1e-05, momentum=0.1, affine=True, track_running_stats=True)\n",
              "        (conv2): Conv2d(331, 92, kernel_size=(1, 1), stride=(1, 1))\n",
              "        (bn3): BatchNorm2d(92, eps=1e-05, momentum=0.1, affine=True, track_running_stats=True)\n",
              "        (gelu): GELU(approximate='none')\n",
              "      )\n",
              "    )\n",
              "    (1): CMTBlock(\n",
              "      (lpu): LPU(\n",
              "        (dwconv): Conv2d(92, 92, kernel_size=(3, 3), stride=(1, 1), padding=(1, 1), groups=92)\n",
              "      )\n",
              "      (irffn): IRFFN(\n",
              "        (conv1): Conv2d(92, 331, kernel_size=(1, 1), stride=(1, 1))\n",
              "        (bn1): BatchNorm2d(331, eps=1e-05, momentum=0.1, affine=True, track_running_stats=True)\n",
              "        (dwconv): Conv2d(331, 331, kernel_size=(3, 3), stride=(1, 1), padding=(1, 1), groups=331)\n",
              "        (bn2): BatchNorm2d(331, eps=1e-05, momentum=0.1, affine=True, track_running_stats=True)\n",
              "        (conv2): Conv2d(331, 92, kernel_size=(1, 1), stride=(1, 1))\n",
              "        (bn3): BatchNorm2d(92, eps=1e-05, momentum=0.1, affine=True, track_running_stats=True)\n",
              "        (gelu): GELU(approximate='none')\n",
              "      )\n",
              "    )\n",
              "  )\n",
              "  (stage3): Sequential(\n",
              "    (0): CMTBlock(\n",
              "      (lpu): LPU(\n",
              "        (dwconv): Conv2d(184, 184, kernel_size=(3, 3), stride=(1, 1), padding=(1, 1), groups=184)\n",
              "      )\n",
              "      (irffn): IRFFN(\n",
              "        (conv1): Conv2d(184, 662, kernel_size=(1, 1), stride=(1, 1))\n",
              "        (bn1): BatchNorm2d(662, eps=1e-05, momentum=0.1, affine=True, track_running_stats=True)\n",
              "        (dwconv): Conv2d(662, 662, kernel_size=(3, 3), stride=(1, 1), padding=(1, 1), groups=662)\n",
              "        (bn2): BatchNorm2d(662, eps=1e-05, momentum=0.1, affine=True, track_running_stats=True)\n",
              "        (conv2): Conv2d(662, 184, kernel_size=(1, 1), stride=(1, 1))\n",
              "        (bn3): BatchNorm2d(184, eps=1e-05, momentum=0.1, affine=True, track_running_stats=True)\n",
              "        (gelu): GELU(approximate='none')\n",
              "      )\n",
              "    )\n",
              "    (1): CMTBlock(\n",
              "      (lpu): LPU(\n",
              "        (dwconv): Conv2d(184, 184, kernel_size=(3, 3), stride=(1, 1), padding=(1, 1), groups=184)\n",
              "      )\n",
              "      (irffn): IRFFN(\n",
              "        (conv1): Conv2d(184, 662, kernel_size=(1, 1), stride=(1, 1))\n",
              "        (bn1): BatchNorm2d(662, eps=1e-05, momentum=0.1, affine=True, track_running_stats=True)\n",
              "        (dwconv): Conv2d(662, 662, kernel_size=(3, 3), stride=(1, 1), padding=(1, 1), groups=662)\n",
              "        (bn2): BatchNorm2d(662, eps=1e-05, momentum=0.1, affine=True, track_running_stats=True)\n",
              "        (conv2): Conv2d(662, 184, kernel_size=(1, 1), stride=(1, 1))\n",
              "        (bn3): BatchNorm2d(184, eps=1e-05, momentum=0.1, affine=True, track_running_stats=True)\n",
              "        (gelu): GELU(approximate='none')\n",
              "      )\n",
              "    )\n",
              "    (2): CMTBlock(\n",
              "      (lpu): LPU(\n",
              "        (dwconv): Conv2d(184, 184, kernel_size=(3, 3), stride=(1, 1), padding=(1, 1), groups=184)\n",
              "      )\n",
              "      (irffn): IRFFN(\n",
              "        (conv1): Conv2d(184, 662, kernel_size=(1, 1), stride=(1, 1))\n",
              "        (bn1): BatchNorm2d(662, eps=1e-05, momentum=0.1, affine=True, track_running_stats=True)\n",
              "        (dwconv): Conv2d(662, 662, kernel_size=(3, 3), stride=(1, 1), padding=(1, 1), groups=662)\n",
              "        (bn2): BatchNorm2d(662, eps=1e-05, momentum=0.1, affine=True, track_running_stats=True)\n",
              "        (conv2): Conv2d(662, 184, kernel_size=(1, 1), stride=(1, 1))\n",
              "        (bn3): BatchNorm2d(184, eps=1e-05, momentum=0.1, affine=True, track_running_stats=True)\n",
              "        (gelu): GELU(approximate='none')\n",
              "      )\n",
              "    )\n",
              "    (3): CMTBlock(\n",
              "      (lpu): LPU(\n",
              "        (dwconv): Conv2d(184, 184, kernel_size=(3, 3), stride=(1, 1), padding=(1, 1), groups=184)\n",
              "      )\n",
              "      (irffn): IRFFN(\n",
              "        (conv1): Conv2d(184, 662, kernel_size=(1, 1), stride=(1, 1))\n",
              "        (bn1): BatchNorm2d(662, eps=1e-05, momentum=0.1, affine=True, track_running_stats=True)\n",
              "        (dwconv): Conv2d(662, 662, kernel_size=(3, 3), stride=(1, 1), padding=(1, 1), groups=662)\n",
              "        (bn2): BatchNorm2d(662, eps=1e-05, momentum=0.1, affine=True, track_running_stats=True)\n",
              "        (conv2): Conv2d(662, 184, kernel_size=(1, 1), stride=(1, 1))\n",
              "        (bn3): BatchNorm2d(184, eps=1e-05, momentum=0.1, affine=True, track_running_stats=True)\n",
              "        (gelu): GELU(approximate='none')\n",
              "      )\n",
              "    )\n",
              "    (4): CMTBlock(\n",
              "      (lpu): LPU(\n",
              "        (dwconv): Conv2d(184, 184, kernel_size=(3, 3), stride=(1, 1), padding=(1, 1), groups=184)\n",
              "      )\n",
              "      (irffn): IRFFN(\n",
              "        (conv1): Conv2d(184, 662, kernel_size=(1, 1), stride=(1, 1))\n",
              "        (bn1): BatchNorm2d(662, eps=1e-05, momentum=0.1, affine=True, track_running_stats=True)\n",
              "        (dwconv): Conv2d(662, 662, kernel_size=(3, 3), stride=(1, 1), padding=(1, 1), groups=662)\n",
              "        (bn2): BatchNorm2d(662, eps=1e-05, momentum=0.1, affine=True, track_running_stats=True)\n",
              "        (conv2): Conv2d(662, 184, kernel_size=(1, 1), stride=(1, 1))\n",
              "        (bn3): BatchNorm2d(184, eps=1e-05, momentum=0.1, affine=True, track_running_stats=True)\n",
              "        (gelu): GELU(approximate='none')\n",
              "      )\n",
              "    )\n",
              "    (5): CMTBlock(\n",
              "      (lpu): LPU(\n",
              "        (dwconv): Conv2d(184, 184, kernel_size=(3, 3), stride=(1, 1), padding=(1, 1), groups=184)\n",
              "      )\n",
              "      (irffn): IRFFN(\n",
              "        (conv1): Conv2d(184, 662, kernel_size=(1, 1), stride=(1, 1))\n",
              "        (bn1): BatchNorm2d(662, eps=1e-05, momentum=0.1, affine=True, track_running_stats=True)\n",
              "        (dwconv): Conv2d(662, 662, kernel_size=(3, 3), stride=(1, 1), padding=(1, 1), groups=662)\n",
              "        (bn2): BatchNorm2d(662, eps=1e-05, momentum=0.1, affine=True, track_running_stats=True)\n",
              "        (conv2): Conv2d(662, 184, kernel_size=(1, 1), stride=(1, 1))\n",
              "        (bn3): BatchNorm2d(184, eps=1e-05, momentum=0.1, affine=True, track_running_stats=True)\n",
              "        (gelu): GELU(approximate='none')\n",
              "      )\n",
              "    )\n",
              "    (6): CMTBlock(\n",
              "      (lpu): LPU(\n",
              "        (dwconv): Conv2d(184, 184, kernel_size=(3, 3), stride=(1, 1), padding=(1, 1), groups=184)\n",
              "      )\n",
              "      (irffn): IRFFN(\n",
              "        (conv1): Conv2d(184, 662, kernel_size=(1, 1), stride=(1, 1))\n",
              "        (bn1): BatchNorm2d(662, eps=1e-05, momentum=0.1, affine=True, track_running_stats=True)\n",
              "        (dwconv): Conv2d(662, 662, kernel_size=(3, 3), stride=(1, 1), padding=(1, 1), groups=662)\n",
              "        (bn2): BatchNorm2d(662, eps=1e-05, momentum=0.1, affine=True, track_running_stats=True)\n",
              "        (conv2): Conv2d(662, 184, kernel_size=(1, 1), stride=(1, 1))\n",
              "        (bn3): BatchNorm2d(184, eps=1e-05, momentum=0.1, affine=True, track_running_stats=True)\n",
              "        (gelu): GELU(approximate='none')\n",
              "      )\n",
              "    )\n",
              "    (7): CMTBlock(\n",
              "      (lpu): LPU(\n",
              "        (dwconv): Conv2d(184, 184, kernel_size=(3, 3), stride=(1, 1), padding=(1, 1), groups=184)\n",
              "      )\n",
              "      (irffn): IRFFN(\n",
              "        (conv1): Conv2d(184, 662, kernel_size=(1, 1), stride=(1, 1))\n",
              "        (bn1): BatchNorm2d(662, eps=1e-05, momentum=0.1, affine=True, track_running_stats=True)\n",
              "        (dwconv): Conv2d(662, 662, kernel_size=(3, 3), stride=(1, 1), padding=(1, 1), groups=662)\n",
              "        (bn2): BatchNorm2d(662, eps=1e-05, momentum=0.1, affine=True, track_running_stats=True)\n",
              "        (conv2): Conv2d(662, 184, kernel_size=(1, 1), stride=(1, 1))\n",
              "        (bn3): BatchNorm2d(184, eps=1e-05, momentum=0.1, affine=True, track_running_stats=True)\n",
              "        (gelu): GELU(approximate='none')\n",
              "      )\n",
              "    )\n",
              "    (8): CMTBlock(\n",
              "      (lpu): LPU(\n",
              "        (dwconv): Conv2d(184, 184, kernel_size=(3, 3), stride=(1, 1), padding=(1, 1), groups=184)\n",
              "      )\n",
              "      (irffn): IRFFN(\n",
              "        (conv1): Conv2d(184, 662, kernel_size=(1, 1), stride=(1, 1))\n",
              "        (bn1): BatchNorm2d(662, eps=1e-05, momentum=0.1, affine=True, track_running_stats=True)\n",
              "        (dwconv): Conv2d(662, 662, kernel_size=(3, 3), stride=(1, 1), padding=(1, 1), groups=662)\n",
              "        (bn2): BatchNorm2d(662, eps=1e-05, momentum=0.1, affine=True, track_running_stats=True)\n",
              "        (conv2): Conv2d(662, 184, kernel_size=(1, 1), stride=(1, 1))\n",
              "        (bn3): BatchNorm2d(184, eps=1e-05, momentum=0.1, affine=True, track_running_stats=True)\n",
              "        (gelu): GELU(approximate='none')\n",
              "      )\n",
              "    )\n",
              "    (9): CMTBlock(\n",
              "      (lpu): LPU(\n",
              "        (dwconv): Conv2d(184, 184, kernel_size=(3, 3), stride=(1, 1), padding=(1, 1), groups=184)\n",
              "      )\n",
              "      (irffn): IRFFN(\n",
              "        (conv1): Conv2d(184, 662, kernel_size=(1, 1), stride=(1, 1))\n",
              "        (bn1): BatchNorm2d(662, eps=1e-05, momentum=0.1, affine=True, track_running_stats=True)\n",
              "        (dwconv): Conv2d(662, 662, kernel_size=(3, 3), stride=(1, 1), padding=(1, 1), groups=662)\n",
              "        (bn2): BatchNorm2d(662, eps=1e-05, momentum=0.1, affine=True, track_running_stats=True)\n",
              "        (conv2): Conv2d(662, 184, kernel_size=(1, 1), stride=(1, 1))\n",
              "        (bn3): BatchNorm2d(184, eps=1e-05, momentum=0.1, affine=True, track_running_stats=True)\n",
              "        (gelu): GELU(approximate='none')\n",
              "      )\n",
              "    )\n",
              "  )\n",
              "  (stage4): Sequential(\n",
              "    (0): CMTBlock(\n",
              "      (lpu): LPU(\n",
              "        (dwconv): Conv2d(368, 368, kernel_size=(3, 3), stride=(1, 1), padding=(1, 1), groups=368)\n",
              "      )\n",
              "      (irffn): IRFFN(\n",
              "        (conv1): Conv2d(368, 1324, kernel_size=(1, 1), stride=(1, 1))\n",
              "        (bn1): BatchNorm2d(1324, eps=1e-05, momentum=0.1, affine=True, track_running_stats=True)\n",
              "        (dwconv): Conv2d(1324, 1324, kernel_size=(3, 3), stride=(1, 1), padding=(1, 1), groups=1324)\n",
              "        (bn2): BatchNorm2d(1324, eps=1e-05, momentum=0.1, affine=True, track_running_stats=True)\n",
              "        (conv2): Conv2d(1324, 368, kernel_size=(1, 1), stride=(1, 1))\n",
              "        (bn3): BatchNorm2d(368, eps=1e-05, momentum=0.1, affine=True, track_running_stats=True)\n",
              "        (gelu): GELU(approximate='none')\n",
              "      )\n",
              "    )\n",
              "    (1): CMTBlock(\n",
              "      (lpu): LPU(\n",
              "        (dwconv): Conv2d(368, 368, kernel_size=(3, 3), stride=(1, 1), padding=(1, 1), groups=368)\n",
              "      )\n",
              "      (irffn): IRFFN(\n",
              "        (conv1): Conv2d(368, 1324, kernel_size=(1, 1), stride=(1, 1))\n",
              "        (bn1): BatchNorm2d(1324, eps=1e-05, momentum=0.1, affine=True, track_running_stats=True)\n",
              "        (dwconv): Conv2d(1324, 1324, kernel_size=(3, 3), stride=(1, 1), padding=(1, 1), groups=1324)\n",
              "        (bn2): BatchNorm2d(1324, eps=1e-05, momentum=0.1, affine=True, track_running_stats=True)\n",
              "        (conv2): Conv2d(1324, 368, kernel_size=(1, 1), stride=(1, 1))\n",
              "        (bn3): BatchNorm2d(368, eps=1e-05, momentum=0.1, affine=True, track_running_stats=True)\n",
              "        (gelu): GELU(approximate='none')\n",
              "      )\n",
              "    )\n",
              "  )\n",
              "  (avg_pool): AdaptiveAvgPool2d(output_size=1)\n",
              "  (projection): Sequential(\n",
              "    (0): Conv2d(368, 1280, kernel_size=(1, 1), stride=(1, 1))\n",
              "    (1): ReLU(inplace=True)\n",
              "  )\n",
              "  (classifier): Linear(in_features=1280, out_features=10, bias=True)\n",
              ")"
            ]
          },
          "metadata": {},
          "execution_count": 19
        }
      ]
    },
    {
      "cell_type": "markdown",
      "source": [
        "The model is trained using the same training procedure used for all other models."
      ],
      "metadata": {
        "id": "PPAjUQt4si4S"
      }
    },
    {
      "cell_type": "code",
      "source": [
        "# Epochs.\n",
        "EPOCHS = 25\n",
        "\n",
        "# Initial learning rate.\n",
        "LR = 6e-5\n",
        "\n",
        "# Weight decay.\n",
        "WD = 1e-5\n",
        "\n",
        "# Loss function.\n",
        "loss_fn = nn.CrossEntropyLoss()\n",
        "\n",
        "# Optimizer.\n",
        "optimizer = torch.optim.AdamW(m_3.parameters(), lr = LR, weight_decay = WD)\n",
        "\n",
        "# Scheduler.\n",
        "scheduler = torch.optim.lr_scheduler.CosineAnnealingLR(optimizer, EPOCHS)"
      ],
      "metadata": {
        "id": "4Y69ErWnFdzR"
      },
      "execution_count": null,
      "outputs": []
    },
    {
      "cell_type": "code",
      "source": [
        "# Training.\n",
        "history = train(m_3, optimizer, scheduler, loss_fn, train_loader, val_loader, EPOCHS, device)\n",
        "\n",
        "# Creating a checkpoint.\n",
        "checkpoint = {\n",
        "  \"model\": m_3.state_dict(),\n",
        "  \"optimizer\": optimizer.state_dict(),\n",
        "  \"scheduler\": scheduler.state_dict()\n",
        "}\n",
        "\n",
        "# Saving the model.\n",
        "torch.save(checkpoint, \"checkpoint3.pt\")\n",
        "\n",
        "# Saving history.\n",
        "with open(\"m_3_history.pkl\", \"wb\") as f:\n",
        "  pickle.dump(history, f)"
      ],
      "metadata": {
        "id": "GH9RWNLSFgHq",
        "colab": {
          "base_uri": "https://localhost:8080/"
        },
        "outputId": "eb879d00-3035-4a8d-e5a5-433a2cdd84c0"
      },
      "execution_count": null,
      "outputs": [
        {
          "output_type": "stream",
          "name": "stdout",
          "text": [
            "Epoch  1/25:\n"
          ]
        },
        {
          "output_type": "stream",
          "name": "stderr",
          "text": [
            "Training: 100%|██████████| 1250/1250 [04:41<00:00,  4.44it/s]\n",
            "Validation: 100%|██████████| 313/313 [00:20<00:00, 15.02it/s]\n"
          ]
        },
        {
          "output_type": "stream",
          "name": "stdout",
          "text": [
            "train_loss: 1.4472, train_accuracy: 0.4692, val_loss: 1.1693, val_accuracy: 0.5817, lr: 6.0000e-05\n",
            "\n",
            "Epoch  2/25:\n"
          ]
        },
        {
          "output_type": "stream",
          "name": "stderr",
          "text": [
            "Training: 100%|██████████| 1250/1250 [04:33<00:00,  4.57it/s]\n",
            "Validation: 100%|██████████| 313/313 [00:20<00:00, 15.04it/s]\n"
          ]
        },
        {
          "output_type": "stream",
          "name": "stdout",
          "text": [
            "train_loss: 1.0369, train_accuracy: 0.6287, val_loss: 0.9095, val_accuracy: 0.6795, lr: 5.9763e-05\n",
            "\n",
            "Epoch  3/25:\n"
          ]
        },
        {
          "output_type": "stream",
          "name": "stderr",
          "text": [
            "Training: 100%|██████████| 1250/1250 [04:34<00:00,  4.56it/s]\n",
            "Validation: 100%|██████████| 313/313 [00:20<00:00, 14.98it/s]\n"
          ]
        },
        {
          "output_type": "stream",
          "name": "stdout",
          "text": [
            "train_loss: 0.8502, train_accuracy: 0.7008, val_loss: 0.8026, val_accuracy: 0.7187, lr: 5.9057e-05\n",
            "\n",
            "Epoch  4/25:\n"
          ]
        },
        {
          "output_type": "stream",
          "name": "stderr",
          "text": [
            "Training: 100%|██████████| 1250/1250 [04:33<00:00,  4.57it/s]\n",
            "Validation: 100%|██████████| 313/313 [00:20<00:00, 15.04it/s]\n"
          ]
        },
        {
          "output_type": "stream",
          "name": "stdout",
          "text": [
            "train_loss: 0.7221, train_accuracy: 0.7478, val_loss: 0.6798, val_accuracy: 0.7655, lr: 5.7893e-05\n",
            "\n",
            "Epoch  5/25:\n"
          ]
        },
        {
          "output_type": "stream",
          "name": "stderr",
          "text": [
            "Training: 100%|██████████| 1250/1250 [04:34<00:00,  4.56it/s]\n",
            "Validation: 100%|██████████| 313/313 [00:20<00:00, 15.09it/s]\n"
          ]
        },
        {
          "output_type": "stream",
          "name": "stdout",
          "text": [
            "train_loss: 0.6295, train_accuracy: 0.7813, val_loss: 0.6344, val_accuracy: 0.7787, lr: 5.6289e-05\n",
            "\n",
            "Epoch  6/25:\n"
          ]
        },
        {
          "output_type": "stream",
          "name": "stderr",
          "text": [
            "Training: 100%|██████████| 1250/1250 [04:33<00:00,  4.56it/s]\n",
            "Validation: 100%|██████████| 313/313 [00:20<00:00, 15.04it/s]\n"
          ]
        },
        {
          "output_type": "stream",
          "name": "stdout",
          "text": [
            "train_loss: 0.5633, train_accuracy: 0.8048, val_loss: 0.5893, val_accuracy: 0.7951, lr: 5.4271e-05\n",
            "\n",
            "Epoch  7/25:\n"
          ]
        },
        {
          "output_type": "stream",
          "name": "stderr",
          "text": [
            "Training: 100%|██████████| 1250/1250 [04:33<00:00,  4.57it/s]\n",
            "Validation: 100%|██████████| 313/313 [00:20<00:00, 15.10it/s]\n"
          ]
        },
        {
          "output_type": "stream",
          "name": "stdout",
          "text": [
            "train_loss: 0.5034, train_accuracy: 0.8243, val_loss: 0.5577, val_accuracy: 0.8095, lr: 5.1869e-05\n",
            "\n",
            "Epoch  8/25:\n"
          ]
        },
        {
          "output_type": "stream",
          "name": "stderr",
          "text": [
            "Training: 100%|██████████| 1250/1250 [04:33<00:00,  4.57it/s]\n",
            "Validation: 100%|██████████| 313/313 [00:20<00:00, 15.04it/s]\n"
          ]
        },
        {
          "output_type": "stream",
          "name": "stdout",
          "text": [
            "train_loss: 0.4565, train_accuracy: 0.8413, val_loss: 0.5250, val_accuracy: 0.8183, lr: 4.9123e-05\n",
            "\n",
            "Epoch  9/25:\n"
          ]
        },
        {
          "output_type": "stream",
          "name": "stderr",
          "text": [
            "Training: 100%|██████████| 1250/1250 [04:33<00:00,  4.56it/s]\n",
            "Validation: 100%|██████████| 313/313 [00:20<00:00, 15.09it/s]\n"
          ]
        },
        {
          "output_type": "stream",
          "name": "stdout",
          "text": [
            "train_loss: 0.4212, train_accuracy: 0.8530, val_loss: 0.4932, val_accuracy: 0.8313, lr: 4.6075e-05\n",
            "\n",
            "Epoch 10/25:\n"
          ]
        },
        {
          "output_type": "stream",
          "name": "stderr",
          "text": [
            "Training: 100%|██████████| 1250/1250 [04:33<00:00,  4.56it/s]\n",
            "Validation: 100%|██████████| 313/313 [00:20<00:00, 15.07it/s]\n"
          ]
        },
        {
          "output_type": "stream",
          "name": "stdout",
          "text": [
            "train_loss: 0.3790, train_accuracy: 0.8667, val_loss: 0.4669, val_accuracy: 0.8395, lr: 4.2773e-05\n",
            "\n",
            "Epoch 11/25:\n"
          ]
        },
        {
          "output_type": "stream",
          "name": "stderr",
          "text": [
            "Training: 100%|██████████| 1250/1250 [04:33<00:00,  4.56it/s]\n",
            "Validation: 100%|██████████| 313/313 [00:20<00:00, 15.02it/s]\n"
          ]
        },
        {
          "output_type": "stream",
          "name": "stdout",
          "text": [
            "train_loss: 0.3500, train_accuracy: 0.8768, val_loss: 0.4722, val_accuracy: 0.8379, lr: 3.9271e-05\n",
            "\n",
            "Epoch 12/25:\n"
          ]
        },
        {
          "output_type": "stream",
          "name": "stderr",
          "text": [
            "Training: 100%|██████████| 1250/1250 [04:35<00:00,  4.53it/s]\n",
            "Validation: 100%|██████████| 313/313 [00:20<00:00, 14.95it/s]\n"
          ]
        },
        {
          "output_type": "stream",
          "name": "stdout",
          "text": [
            "train_loss: 0.3206, train_accuracy: 0.8897, val_loss: 0.4422, val_accuracy: 0.8520, lr: 3.5621e-05\n",
            "\n",
            "Epoch 13/25:\n"
          ]
        },
        {
          "output_type": "stream",
          "name": "stderr",
          "text": [
            "Training: 100%|██████████| 1250/1250 [04:34<00:00,  4.56it/s]\n",
            "Validation: 100%|██████████| 313/313 [00:20<00:00, 15.01it/s]\n"
          ]
        },
        {
          "output_type": "stream",
          "name": "stdout",
          "text": [
            "train_loss: 0.2982, train_accuracy: 0.8964, val_loss: 0.4398, val_accuracy: 0.8516, lr: 3.1884e-05\n",
            "\n",
            "Epoch 14/25:\n"
          ]
        },
        {
          "output_type": "stream",
          "name": "stderr",
          "text": [
            "Training: 100%|██████████| 1250/1250 [04:33<00:00,  4.57it/s]\n",
            "Validation: 100%|██████████| 313/313 [00:21<00:00, 14.89it/s]\n"
          ]
        },
        {
          "output_type": "stream",
          "name": "stdout",
          "text": [
            "train_loss: 0.2688, train_accuracy: 0.9062, val_loss: 0.4301, val_accuracy: 0.8581, lr: 2.8116e-05\n",
            "\n",
            "Epoch 15/25:\n"
          ]
        },
        {
          "output_type": "stream",
          "name": "stderr",
          "text": [
            "Training: 100%|██████████| 1250/1250 [04:35<00:00,  4.54it/s]\n",
            "Validation: 100%|██████████| 313/313 [00:30<00:00, 10.12it/s]\n"
          ]
        },
        {
          "output_type": "stream",
          "name": "stdout",
          "text": [
            "train_loss: 0.2486, train_accuracy: 0.9121, val_loss: 0.4311, val_accuracy: 0.8583, lr: 2.4379e-05\n",
            "\n",
            "Epoch 16/25:\n"
          ]
        },
        {
          "output_type": "stream",
          "name": "stderr",
          "text": [
            "Training: 100%|██████████| 1250/1250 [04:38<00:00,  4.48it/s]\n",
            "Validation: 100%|██████████| 313/313 [00:26<00:00, 11.89it/s]\n"
          ]
        },
        {
          "output_type": "stream",
          "name": "stdout",
          "text": [
            "train_loss: 0.2313, train_accuracy: 0.9185, val_loss: 0.4025, val_accuracy: 0.8694, lr: 2.0729e-05\n",
            "\n",
            "Epoch 17/25:\n"
          ]
        },
        {
          "output_type": "stream",
          "name": "stderr",
          "text": [
            "Training: 100%|██████████| 1250/1250 [04:42<00:00,  4.43it/s]\n",
            "Validation: 100%|██████████| 313/313 [00:29<00:00, 10.76it/s]\n"
          ]
        },
        {
          "output_type": "stream",
          "name": "stdout",
          "text": [
            "train_loss: 0.2071, train_accuracy: 0.9266, val_loss: 0.4096, val_accuracy: 0.8668, lr: 1.7227e-05\n",
            "\n",
            "Epoch 18/25:\n"
          ]
        },
        {
          "output_type": "stream",
          "name": "stderr",
          "text": [
            "Training: 100%|██████████| 1250/1250 [04:45<00:00,  4.38it/s]\n",
            "Validation: 100%|██████████| 313/313 [00:21<00:00, 14.68it/s]\n"
          ]
        },
        {
          "output_type": "stream",
          "name": "stdout",
          "text": [
            "train_loss: 0.1937, train_accuracy: 0.9332, val_loss: 0.4137, val_accuracy: 0.8664, lr: 1.3925e-05\n",
            "\n",
            "Epoch 19/25:\n"
          ]
        },
        {
          "output_type": "stream",
          "name": "stderr",
          "text": [
            "Training: 100%|██████████| 1250/1250 [04:40<00:00,  4.46it/s]\n",
            "Validation: 100%|██████████| 313/313 [00:25<00:00, 12.31it/s]\n"
          ]
        },
        {
          "output_type": "stream",
          "name": "stdout",
          "text": [
            "train_loss: 0.1781, train_accuracy: 0.9394, val_loss: 0.3944, val_accuracy: 0.8756, lr: 1.0877e-05\n",
            "\n",
            "Epoch 20/25:\n"
          ]
        },
        {
          "output_type": "stream",
          "name": "stderr",
          "text": [
            "Training: 100%|██████████| 1250/1250 [04:34<00:00,  4.55it/s]\n",
            "Validation: 100%|██████████| 313/313 [00:21<00:00, 14.68it/s]\n"
          ]
        },
        {
          "output_type": "stream",
          "name": "stdout",
          "text": [
            "train_loss: 0.1688, train_accuracy: 0.9411, val_loss: 0.3970, val_accuracy: 0.8722, lr: 8.1309e-06\n",
            "\n",
            "Epoch 21/25:\n"
          ]
        },
        {
          "output_type": "stream",
          "name": "stderr",
          "text": [
            "Training: 100%|██████████| 1250/1250 [04:34<00:00,  4.56it/s]\n",
            "Validation: 100%|██████████| 313/313 [00:20<00:00, 15.03it/s]\n"
          ]
        },
        {
          "output_type": "stream",
          "name": "stdout",
          "text": [
            "train_loss: 0.1608, train_accuracy: 0.9446, val_loss: 0.4030, val_accuracy: 0.8734, lr: 5.7295e-06\n",
            "\n",
            "Epoch 22/25:\n"
          ]
        },
        {
          "output_type": "stream",
          "name": "stderr",
          "text": [
            "Training: 100%|██████████| 1250/1250 [04:34<00:00,  4.56it/s]\n",
            "Validation: 100%|██████████| 313/313 [00:22<00:00, 14.13it/s]\n"
          ]
        },
        {
          "output_type": "stream",
          "name": "stdout",
          "text": [
            "train_loss: 0.1517, train_accuracy: 0.9472, val_loss: 0.3962, val_accuracy: 0.8754, lr: 3.7108e-06\n",
            "\n",
            "Epoch 23/25:\n"
          ]
        },
        {
          "output_type": "stream",
          "name": "stderr",
          "text": [
            "Training: 100%|██████████| 1250/1250 [04:33<00:00,  4.57it/s]\n",
            "Validation: 100%|██████████| 313/313 [00:21<00:00, 14.84it/s]\n"
          ]
        },
        {
          "output_type": "stream",
          "name": "stdout",
          "text": [
            "train_loss: 0.1499, train_accuracy: 0.9484, val_loss: 0.3963, val_accuracy: 0.8749, lr: 2.1067e-06\n",
            "\n",
            "Epoch 24/25:\n"
          ]
        },
        {
          "output_type": "stream",
          "name": "stderr",
          "text": [
            "Training: 100%|██████████| 1250/1250 [04:34<00:00,  4.56it/s]\n",
            "Validation: 100%|██████████| 313/313 [00:21<00:00, 14.72it/s]\n"
          ]
        },
        {
          "output_type": "stream",
          "name": "stdout",
          "text": [
            "train_loss: 0.1439, train_accuracy: 0.9506, val_loss: 0.3942, val_accuracy: 0.8765, lr: 9.4251e-07\n",
            "\n",
            "Epoch 25/25:\n"
          ]
        },
        {
          "output_type": "stream",
          "name": "stderr",
          "text": [
            "Training: 100%|██████████| 1250/1250 [04:34<00:00,  4.56it/s]\n",
            "Validation: 100%|██████████| 313/313 [00:21<00:00, 14.80it/s]\n"
          ]
        },
        {
          "output_type": "stream",
          "name": "stdout",
          "text": [
            "\n",
            "train_loss: 0.1374, train_accuracy: 0.9526, val_loss: 0.3905, val_accuracy: 0.8776, lr: 2.3656e-07\n"
          ]
        }
      ]
    },
    {
      "cell_type": "markdown",
      "source": [
        "### ResNet-18 ($m_4$)"
      ],
      "metadata": {
        "id": "I_el6fkXlEEm"
      }
    },
    {
      "cell_type": "markdown",
      "source": [
        "The final $m_4$ model is ResNet-18. This model is directly downloaded from the PyTorch Hub, setting the `weights` attribute to `None` so as to train the network starting from scrath."
      ],
      "metadata": {
        "id": "FRJ7-egdsupo"
      }
    },
    {
      "cell_type": "code",
      "source": [
        "# Downloading ResNet-18.\n",
        "m_4 = torch.hub.load(\"pytorch/vision:v0.10.0\", \"resnet18\", weights = None)"
      ],
      "metadata": {
        "colab": {
          "base_uri": "https://localhost:8080/"
        },
        "id": "0sifqTLNlG_t",
        "outputId": "37ae79b5-342a-4eb6-d1bf-d24990b9efec"
      },
      "execution_count": null,
      "outputs": [
        {
          "output_type": "stream",
          "name": "stderr",
          "text": [
            "Downloading: \"https://github.com/pytorch/vision/zipball/v0.10.0\" to /root/.cache/torch/hub/v0.10.0.zip\n"
          ]
        }
      ]
    },
    {
      "cell_type": "code",
      "source": [
        "# Printing number of parameters.\n",
        "print(f\"m_4 has {sum(p.numel() for p in m_4.parameters())} parameters.\")"
      ],
      "metadata": {
        "colab": {
          "base_uri": "https://localhost:8080/"
        },
        "id": "jRdYOV78kSEa",
        "outputId": "58553920-8a1e-445e-e57f-e25649d0c3cd"
      },
      "execution_count": null,
      "outputs": [
        {
          "output_type": "stream",
          "name": "stdout",
          "text": [
            "m_4 has 11689512 parameters.\n"
          ]
        }
      ]
    },
    {
      "cell_type": "markdown",
      "source": [
        "From the results computed by the following cell, it is possible to notice how the total number of parameters is slightly bigger than the number of parameters of $m_1$. However, the number of FLOPs of ResNet-18 is approximately $1.5$ times higher than the number of FLOPs of $m_1$. In particular, this network shows a number of parameters equals to $11.69\\text{M}$, and a number of FLOPs equals to $1.83\\text{B}$."
      ],
      "metadata": {
        "id": "RPONYZGJtS-W"
      }
    },
    {
      "cell_type": "code",
      "source": [
        "# Computing number of FLOPs.\n",
        "flops = FlopCountAnalysis(m_4, (torch.randn((1, 3, 224, 224)),))\n",
        "\n",
        "# Printing number of FLOPs per layer.\n",
        "print(flop_count_str(flops))"
      ],
      "metadata": {
        "colab": {
          "base_uri": "https://localhost:8080/"
        },
        "id": "Pi2bpM-Gkxau",
        "outputId": "e69528b7-785c-4bcd-c3c6-9e642ac16abe"
      },
      "execution_count": null,
      "outputs": [
        {
          "output_type": "stream",
          "name": "stdout",
          "text": [
            "ResNet(\n",
            "  #params: 11.69M, #flops: 1.83G\n",
            "  (conv1): Conv2d(\n",
            "    3, 64, kernel_size=(7, 7), stride=(2, 2), padding=(3, 3), bias=False\n",
            "    #params: 9.41K, #flops: 0.12G\n",
            "  )\n",
            "  (bn1): BatchNorm2d(\n",
            "    64, eps=1e-05, momentum=0.1, affine=True, track_running_stats=True\n",
            "    #params: 0.13K, #flops: 4.01M\n",
            "  )\n",
            "  (relu): ReLU(inplace=True)\n",
            "  (maxpool): MaxPool2d(kernel_size=3, stride=2, padding=1, dilation=1, ceil_mode=False)\n",
            "  (layer1): Sequential(\n",
            "    #params: 0.15M, #flops: 0.47G\n",
            "    (0): BasicBlock(\n",
            "      #params: 73.98K, #flops: 0.23G\n",
            "      (conv1): Conv2d(\n",
            "        64, 64, kernel_size=(3, 3), stride=(1, 1), padding=(1, 1), bias=False\n",
            "        #params: 36.86K, #flops: 0.12G\n",
            "      )\n",
            "      (bn1): BatchNorm2d(\n",
            "        64, eps=1e-05, momentum=0.1, affine=True, track_running_stats=True\n",
            "        #params: 0.13K, #flops: 1M\n",
            "      )\n",
            "      (relu): ReLU(inplace=True)\n",
            "      (conv2): Conv2d(\n",
            "        64, 64, kernel_size=(3, 3), stride=(1, 1), padding=(1, 1), bias=False\n",
            "        #params: 36.86K, #flops: 0.12G\n",
            "      )\n",
            "      (bn2): BatchNorm2d(\n",
            "        64, eps=1e-05, momentum=0.1, affine=True, track_running_stats=True\n",
            "        #params: 0.13K, #flops: 1M\n",
            "      )\n",
            "    )\n",
            "    (1): BasicBlock(\n",
            "      #params: 73.98K, #flops: 0.23G\n",
            "      (conv1): Conv2d(\n",
            "        64, 64, kernel_size=(3, 3), stride=(1, 1), padding=(1, 1), bias=False\n",
            "        #params: 36.86K, #flops: 0.12G\n",
            "      )\n",
            "      (bn1): BatchNorm2d(\n",
            "        64, eps=1e-05, momentum=0.1, affine=True, track_running_stats=True\n",
            "        #params: 0.13K, #flops: 1M\n",
            "      )\n",
            "      (relu): ReLU(inplace=True)\n",
            "      (conv2): Conv2d(\n",
            "        64, 64, kernel_size=(3, 3), stride=(1, 1), padding=(1, 1), bias=False\n",
            "        #params: 36.86K, #flops: 0.12G\n",
            "      )\n",
            "      (bn2): BatchNorm2d(\n",
            "        64, eps=1e-05, momentum=0.1, affine=True, track_running_stats=True\n",
            "        #params: 0.13K, #flops: 1M\n",
            "      )\n",
            "    )\n",
            "  )\n",
            "  (layer2): Sequential(\n",
            "    #params: 0.53M, #flops: 0.41G\n",
            "    (0): BasicBlock(\n",
            "      #params: 0.23M, #flops: 0.18G\n",
            "      (conv1): Conv2d(\n",
            "        64, 128, kernel_size=(3, 3), stride=(2, 2), padding=(1, 1), bias=False\n",
            "        #params: 73.73K, #flops: 57.8M\n",
            "      )\n",
            "      (bn1): BatchNorm2d(\n",
            "        128, eps=1e-05, momentum=0.1, affine=True, track_running_stats=True\n",
            "        #params: 0.26K, #flops: 0.5M\n",
            "      )\n",
            "      (relu): ReLU(inplace=True)\n",
            "      (conv2): Conv2d(\n",
            "        128, 128, kernel_size=(3, 3), stride=(1, 1), padding=(1, 1), bias=False\n",
            "        #params: 0.15M, #flops: 0.12G\n",
            "      )\n",
            "      (bn2): BatchNorm2d(\n",
            "        128, eps=1e-05, momentum=0.1, affine=True, track_running_stats=True\n",
            "        #params: 0.26K, #flops: 0.5M\n",
            "      )\n",
            "      (downsample): Sequential(\n",
            "        #params: 8.45K, #flops: 6.92M\n",
            "        (0): Conv2d(\n",
            "          64, 128, kernel_size=(1, 1), stride=(2, 2), bias=False\n",
            "          #params: 8.19K, #flops: 6.42M\n",
            "        )\n",
            "        (1): BatchNorm2d(\n",
            "          128, eps=1e-05, momentum=0.1, affine=True, track_running_stats=True\n",
            "          #params: 0.26K, #flops: 0.5M\n",
            "        )\n",
            "      )\n",
            "    )\n",
            "    (1): BasicBlock(\n",
            "      #params: 0.3M, #flops: 0.23G\n",
            "      (conv1): Conv2d(\n",
            "        128, 128, kernel_size=(3, 3), stride=(1, 1), padding=(1, 1), bias=False\n",
            "        #params: 0.15M, #flops: 0.12G\n",
            "      )\n",
            "      (bn1): BatchNorm2d(\n",
            "        128, eps=1e-05, momentum=0.1, affine=True, track_running_stats=True\n",
            "        #params: 0.26K, #flops: 0.5M\n",
            "      )\n",
            "      (relu): ReLU(inplace=True)\n",
            "      (conv2): Conv2d(\n",
            "        128, 128, kernel_size=(3, 3), stride=(1, 1), padding=(1, 1), bias=False\n",
            "        #params: 0.15M, #flops: 0.12G\n",
            "      )\n",
            "      (bn2): BatchNorm2d(\n",
            "        128, eps=1e-05, momentum=0.1, affine=True, track_running_stats=True\n",
            "        #params: 0.26K, #flops: 0.5M\n",
            "      )\n",
            "    )\n",
            "  )\n",
            "  (layer3): Sequential(\n",
            "    #params: 2.1M, #flops: 0.41G\n",
            "    (0): BasicBlock(\n",
            "      #params: 0.92M, #flops: 0.18G\n",
            "      (conv1): Conv2d(\n",
            "        128, 256, kernel_size=(3, 3), stride=(2, 2), padding=(1, 1), bias=False\n",
            "        #params: 0.29M, #flops: 57.8M\n",
            "      )\n",
            "      (bn1): BatchNorm2d(\n",
            "        256, eps=1e-05, momentum=0.1, affine=True, track_running_stats=True\n",
            "        #params: 0.51K, #flops: 0.25M\n",
            "      )\n",
            "      (relu): ReLU(inplace=True)\n",
            "      (conv2): Conv2d(\n",
            "        256, 256, kernel_size=(3, 3), stride=(1, 1), padding=(1, 1), bias=False\n",
            "        #params: 0.59M, #flops: 0.12G\n",
            "      )\n",
            "      (bn2): BatchNorm2d(\n",
            "        256, eps=1e-05, momentum=0.1, affine=True, track_running_stats=True\n",
            "        #params: 0.51K, #flops: 0.25M\n",
            "      )\n",
            "      (downsample): Sequential(\n",
            "        #params: 33.28K, #flops: 6.67M\n",
            "        (0): Conv2d(\n",
            "          128, 256, kernel_size=(1, 1), stride=(2, 2), bias=False\n",
            "          #params: 32.77K, #flops: 6.42M\n",
            "        )\n",
            "        (1): BatchNorm2d(\n",
            "          256, eps=1e-05, momentum=0.1, affine=True, track_running_stats=True\n",
            "          #params: 0.51K, #flops: 0.25M\n",
            "        )\n",
            "      )\n",
            "    )\n",
            "    (1): BasicBlock(\n",
            "      #params: 1.18M, #flops: 0.23G\n",
            "      (conv1): Conv2d(\n",
            "        256, 256, kernel_size=(3, 3), stride=(1, 1), padding=(1, 1), bias=False\n",
            "        #params: 0.59M, #flops: 0.12G\n",
            "      )\n",
            "      (bn1): BatchNorm2d(\n",
            "        256, eps=1e-05, momentum=0.1, affine=True, track_running_stats=True\n",
            "        #params: 0.51K, #flops: 0.25M\n",
            "      )\n",
            "      (relu): ReLU(inplace=True)\n",
            "      (conv2): Conv2d(\n",
            "        256, 256, kernel_size=(3, 3), stride=(1, 1), padding=(1, 1), bias=False\n",
            "        #params: 0.59M, #flops: 0.12G\n",
            "      )\n",
            "      (bn2): BatchNorm2d(\n",
            "        256, eps=1e-05, momentum=0.1, affine=True, track_running_stats=True\n",
            "        #params: 0.51K, #flops: 0.25M\n",
            "      )\n",
            "    )\n",
            "  )\n",
            "  (layer4): Sequential(\n",
            "    #params: 8.39M, #flops: 0.41G\n",
            "    (0): BasicBlock(\n",
            "      #params: 3.67M, #flops: 0.18G\n",
            "      (conv1): Conv2d(\n",
            "        256, 512, kernel_size=(3, 3), stride=(2, 2), padding=(1, 1), bias=False\n",
            "        #params: 1.18M, #flops: 57.8M\n",
            "      )\n",
            "      (bn1): BatchNorm2d(\n",
            "        512, eps=1e-05, momentum=0.1, affine=True, track_running_stats=True\n",
            "        #params: 1.02K, #flops: 0.13M\n",
            "      )\n",
            "      (relu): ReLU(inplace=True)\n",
            "      (conv2): Conv2d(\n",
            "        512, 512, kernel_size=(3, 3), stride=(1, 1), padding=(1, 1), bias=False\n",
            "        #params: 2.36M, #flops: 0.12G\n",
            "      )\n",
            "      (bn2): BatchNorm2d(\n",
            "        512, eps=1e-05, momentum=0.1, affine=True, track_running_stats=True\n",
            "        #params: 1.02K, #flops: 0.13M\n",
            "      )\n",
            "      (downsample): Sequential(\n",
            "        #params: 0.13M, #flops: 6.55M\n",
            "        (0): Conv2d(\n",
            "          256, 512, kernel_size=(1, 1), stride=(2, 2), bias=False\n",
            "          #params: 0.13M, #flops: 6.42M\n",
            "        )\n",
            "        (1): BatchNorm2d(\n",
            "          512, eps=1e-05, momentum=0.1, affine=True, track_running_stats=True\n",
            "          #params: 1.02K, #flops: 0.13M\n",
            "        )\n",
            "      )\n",
            "    )\n",
            "    (1): BasicBlock(\n",
            "      #params: 4.72M, #flops: 0.23G\n",
            "      (conv1): Conv2d(\n",
            "        512, 512, kernel_size=(3, 3), stride=(1, 1), padding=(1, 1), bias=False\n",
            "        #params: 2.36M, #flops: 0.12G\n",
            "      )\n",
            "      (bn1): BatchNorm2d(\n",
            "        512, eps=1e-05, momentum=0.1, affine=True, track_running_stats=True\n",
            "        #params: 1.02K, #flops: 0.13M\n",
            "      )\n",
            "      (relu): ReLU(inplace=True)\n",
            "      (conv2): Conv2d(\n",
            "        512, 512, kernel_size=(3, 3), stride=(1, 1), padding=(1, 1), bias=False\n",
            "        #params: 2.36M, #flops: 0.12G\n",
            "      )\n",
            "      (bn2): BatchNorm2d(\n",
            "        512, eps=1e-05, momentum=0.1, affine=True, track_running_stats=True\n",
            "        #params: 1.02K, #flops: 0.13M\n",
            "      )\n",
            "    )\n",
            "  )\n",
            "  (avgpool): AdaptiveAvgPool2d(\n",
            "    output_size=(1, 1)\n",
            "    #params: 0, #flops: 25.09K\n",
            "  )\n",
            "  (fc): Linear(\n",
            "    in_features=512, out_features=1000, bias=True\n",
            "    #params: 0.51M, #flops: 0.51M\n",
            "  )\n",
            ")\n"
          ]
        }
      ]
    },
    {
      "cell_type": "code",
      "source": [
        "# Loading model to device.\n",
        "m_4.to(device)"
      ],
      "metadata": {
        "colab": {
          "base_uri": "https://localhost:8080/"
        },
        "id": "r_lfcO8JlqcW",
        "outputId": "d89ddd03-4eff-43ea-a425-3ade5e478cb4"
      },
      "execution_count": null,
      "outputs": [
        {
          "output_type": "execute_result",
          "data": {
            "text/plain": [
              "ResNet(\n",
              "  (conv1): Conv2d(3, 64, kernel_size=(7, 7), stride=(2, 2), padding=(3, 3), bias=False)\n",
              "  (bn1): BatchNorm2d(64, eps=1e-05, momentum=0.1, affine=True, track_running_stats=True)\n",
              "  (relu): ReLU(inplace=True)\n",
              "  (maxpool): MaxPool2d(kernel_size=3, stride=2, padding=1, dilation=1, ceil_mode=False)\n",
              "  (layer1): Sequential(\n",
              "    (0): BasicBlock(\n",
              "      (conv1): Conv2d(64, 64, kernel_size=(3, 3), stride=(1, 1), padding=(1, 1), bias=False)\n",
              "      (bn1): BatchNorm2d(64, eps=1e-05, momentum=0.1, affine=True, track_running_stats=True)\n",
              "      (relu): ReLU(inplace=True)\n",
              "      (conv2): Conv2d(64, 64, kernel_size=(3, 3), stride=(1, 1), padding=(1, 1), bias=False)\n",
              "      (bn2): BatchNorm2d(64, eps=1e-05, momentum=0.1, affine=True, track_running_stats=True)\n",
              "    )\n",
              "    (1): BasicBlock(\n",
              "      (conv1): Conv2d(64, 64, kernel_size=(3, 3), stride=(1, 1), padding=(1, 1), bias=False)\n",
              "      (bn1): BatchNorm2d(64, eps=1e-05, momentum=0.1, affine=True, track_running_stats=True)\n",
              "      (relu): ReLU(inplace=True)\n",
              "      (conv2): Conv2d(64, 64, kernel_size=(3, 3), stride=(1, 1), padding=(1, 1), bias=False)\n",
              "      (bn2): BatchNorm2d(64, eps=1e-05, momentum=0.1, affine=True, track_running_stats=True)\n",
              "    )\n",
              "  )\n",
              "  (layer2): Sequential(\n",
              "    (0): BasicBlock(\n",
              "      (conv1): Conv2d(64, 128, kernel_size=(3, 3), stride=(2, 2), padding=(1, 1), bias=False)\n",
              "      (bn1): BatchNorm2d(128, eps=1e-05, momentum=0.1, affine=True, track_running_stats=True)\n",
              "      (relu): ReLU(inplace=True)\n",
              "      (conv2): Conv2d(128, 128, kernel_size=(3, 3), stride=(1, 1), padding=(1, 1), bias=False)\n",
              "      (bn2): BatchNorm2d(128, eps=1e-05, momentum=0.1, affine=True, track_running_stats=True)\n",
              "      (downsample): Sequential(\n",
              "        (0): Conv2d(64, 128, kernel_size=(1, 1), stride=(2, 2), bias=False)\n",
              "        (1): BatchNorm2d(128, eps=1e-05, momentum=0.1, affine=True, track_running_stats=True)\n",
              "      )\n",
              "    )\n",
              "    (1): BasicBlock(\n",
              "      (conv1): Conv2d(128, 128, kernel_size=(3, 3), stride=(1, 1), padding=(1, 1), bias=False)\n",
              "      (bn1): BatchNorm2d(128, eps=1e-05, momentum=0.1, affine=True, track_running_stats=True)\n",
              "      (relu): ReLU(inplace=True)\n",
              "      (conv2): Conv2d(128, 128, kernel_size=(3, 3), stride=(1, 1), padding=(1, 1), bias=False)\n",
              "      (bn2): BatchNorm2d(128, eps=1e-05, momentum=0.1, affine=True, track_running_stats=True)\n",
              "    )\n",
              "  )\n",
              "  (layer3): Sequential(\n",
              "    (0): BasicBlock(\n",
              "      (conv1): Conv2d(128, 256, kernel_size=(3, 3), stride=(2, 2), padding=(1, 1), bias=False)\n",
              "      (bn1): BatchNorm2d(256, eps=1e-05, momentum=0.1, affine=True, track_running_stats=True)\n",
              "      (relu): ReLU(inplace=True)\n",
              "      (conv2): Conv2d(256, 256, kernel_size=(3, 3), stride=(1, 1), padding=(1, 1), bias=False)\n",
              "      (bn2): BatchNorm2d(256, eps=1e-05, momentum=0.1, affine=True, track_running_stats=True)\n",
              "      (downsample): Sequential(\n",
              "        (0): Conv2d(128, 256, kernel_size=(1, 1), stride=(2, 2), bias=False)\n",
              "        (1): BatchNorm2d(256, eps=1e-05, momentum=0.1, affine=True, track_running_stats=True)\n",
              "      )\n",
              "    )\n",
              "    (1): BasicBlock(\n",
              "      (conv1): Conv2d(256, 256, kernel_size=(3, 3), stride=(1, 1), padding=(1, 1), bias=False)\n",
              "      (bn1): BatchNorm2d(256, eps=1e-05, momentum=0.1, affine=True, track_running_stats=True)\n",
              "      (relu): ReLU(inplace=True)\n",
              "      (conv2): Conv2d(256, 256, kernel_size=(3, 3), stride=(1, 1), padding=(1, 1), bias=False)\n",
              "      (bn2): BatchNorm2d(256, eps=1e-05, momentum=0.1, affine=True, track_running_stats=True)\n",
              "    )\n",
              "  )\n",
              "  (layer4): Sequential(\n",
              "    (0): BasicBlock(\n",
              "      (conv1): Conv2d(256, 512, kernel_size=(3, 3), stride=(2, 2), padding=(1, 1), bias=False)\n",
              "      (bn1): BatchNorm2d(512, eps=1e-05, momentum=0.1, affine=True, track_running_stats=True)\n",
              "      (relu): ReLU(inplace=True)\n",
              "      (conv2): Conv2d(512, 512, kernel_size=(3, 3), stride=(1, 1), padding=(1, 1), bias=False)\n",
              "      (bn2): BatchNorm2d(512, eps=1e-05, momentum=0.1, affine=True, track_running_stats=True)\n",
              "      (downsample): Sequential(\n",
              "        (0): Conv2d(256, 512, kernel_size=(1, 1), stride=(2, 2), bias=False)\n",
              "        (1): BatchNorm2d(512, eps=1e-05, momentum=0.1, affine=True, track_running_stats=True)\n",
              "      )\n",
              "    )\n",
              "    (1): BasicBlock(\n",
              "      (conv1): Conv2d(512, 512, kernel_size=(3, 3), stride=(1, 1), padding=(1, 1), bias=False)\n",
              "      (bn1): BatchNorm2d(512, eps=1e-05, momentum=0.1, affine=True, track_running_stats=True)\n",
              "      (relu): ReLU(inplace=True)\n",
              "      (conv2): Conv2d(512, 512, kernel_size=(3, 3), stride=(1, 1), padding=(1, 1), bias=False)\n",
              "      (bn2): BatchNorm2d(512, eps=1e-05, momentum=0.1, affine=True, track_running_stats=True)\n",
              "    )\n",
              "  )\n",
              "  (avgpool): AdaptiveAvgPool2d(output_size=(1, 1))\n",
              "  (fc): Linear(in_features=512, out_features=1000, bias=True)\n",
              ")"
            ]
          },
          "metadata": {},
          "execution_count": 20
        }
      ]
    },
    {
      "cell_type": "markdown",
      "source": [
        "The model is trained using the same training procedure used for all other models."
      ],
      "metadata": {
        "id": "QIUj9V-SsrQe"
      }
    },
    {
      "cell_type": "code",
      "source": [
        "# Epochs.\n",
        "EPOCHS = 25\n",
        "\n",
        "# Initial learning rate.\n",
        "LR = 6e-5\n",
        "\n",
        "# Weight decay.\n",
        "WD = 1e-5\n",
        "\n",
        "# Loss function.\n",
        "loss_fn = nn.CrossEntropyLoss()\n",
        "\n",
        "# Optimizer.\n",
        "optimizer = torch.optim.AdamW(m_4.parameters(), lr = LR, weight_decay = WD)\n",
        "\n",
        "# Scheduler.\n",
        "scheduler = torch.optim.lr_scheduler.CosineAnnealingLR(optimizer, EPOCHS)"
      ],
      "metadata": {
        "id": "us5r4CkGluUW"
      },
      "execution_count": null,
      "outputs": []
    },
    {
      "cell_type": "code",
      "source": [
        "# Training.\n",
        "history = train(m_4, optimizer, scheduler, loss_fn, train_loader, val_loader, EPOCHS, device)\n",
        "\n",
        "# Creating a checkpoint.\n",
        "checkpoint = {\n",
        "  \"model\": m_4.state_dict(),\n",
        "  \"optimizer\": optimizer.state_dict(),\n",
        "  \"scheduler\": scheduler.state_dict()\n",
        "}\n",
        "\n",
        "# Saving the model.\n",
        "torch.save(checkpoint, \"checkpoint4.pt\")\n",
        "\n",
        "# Saving history.\n",
        "with open(\"m_4_history.pkl\", \"wb\") as f:\n",
        "  pickle.dump(history, f)"
      ],
      "metadata": {
        "colab": {
          "base_uri": "https://localhost:8080/"
        },
        "id": "7a2Uz1mNlx-e",
        "outputId": "0c78e752-f801-49ce-e7bc-b2b2f9988bf2"
      },
      "execution_count": null,
      "outputs": [
        {
          "output_type": "stream",
          "name": "stdout",
          "text": [
            "Epoch  1/25:\n"
          ]
        },
        {
          "output_type": "stream",
          "name": "stderr",
          "text": [
            "Training: 100%|██████████| 1250/1250 [02:12<00:00,  9.45it/s]\n",
            "Validation: 100%|██████████| 313/313 [00:20<00:00, 15.26it/s]\n"
          ]
        },
        {
          "output_type": "stream",
          "name": "stdout",
          "text": [
            "train_loss: 1.7029, train_accuracy: 0.4316, val_loss: 1.2856, val_accuracy: 0.5347, lr: 6.0000e-05\n",
            "\n",
            "Epoch  2/25:\n"
          ]
        },
        {
          "output_type": "stream",
          "name": "stderr",
          "text": [
            "Training: 100%|██████████| 1250/1250 [02:06<00:00,  9.90it/s]\n",
            "Validation: 100%|██████████| 313/313 [00:20<00:00, 15.19it/s]\n"
          ]
        },
        {
          "output_type": "stream",
          "name": "stdout",
          "text": [
            "train_loss: 1.1560, train_accuracy: 0.5877, val_loss: 1.1000, val_accuracy: 0.6051, lr: 5.9763e-05\n",
            "\n",
            "Epoch  3/25:\n"
          ]
        },
        {
          "output_type": "stream",
          "name": "stderr",
          "text": [
            "Training: 100%|██████████| 1250/1250 [02:05<00:00,  9.98it/s]\n",
            "Validation: 100%|██████████| 313/313 [00:23<00:00, 13.55it/s]\n"
          ]
        },
        {
          "output_type": "stream",
          "name": "stdout",
          "text": [
            "train_loss: 0.9575, train_accuracy: 0.6609, val_loss: 0.9275, val_accuracy: 0.6746, lr: 5.9057e-05\n",
            "\n",
            "Epoch  4/25:\n"
          ]
        },
        {
          "output_type": "stream",
          "name": "stderr",
          "text": [
            "Training: 100%|██████████| 1250/1250 [02:04<00:00, 10.04it/s]\n",
            "Validation: 100%|██████████| 313/313 [00:20<00:00, 15.47it/s]\n"
          ]
        },
        {
          "output_type": "stream",
          "name": "stdout",
          "text": [
            "train_loss: 0.8337, train_accuracy: 0.7075, val_loss: 0.8515, val_accuracy: 0.7041, lr: 5.7893e-05\n",
            "\n",
            "Epoch  5/25:\n"
          ]
        },
        {
          "output_type": "stream",
          "name": "stderr",
          "text": [
            "Training: 100%|██████████| 1250/1250 [02:06<00:00,  9.90it/s]\n",
            "Validation: 100%|██████████| 313/313 [00:21<00:00, 14.88it/s]\n"
          ]
        },
        {
          "output_type": "stream",
          "name": "stdout",
          "text": [
            "train_loss: 0.7347, train_accuracy: 0.7440, val_loss: 0.7346, val_accuracy: 0.7446, lr: 5.6289e-05\n",
            "\n",
            "Epoch  6/25:\n"
          ]
        },
        {
          "output_type": "stream",
          "name": "stderr",
          "text": [
            "Training: 100%|██████████| 1250/1250 [02:05<00:00,  9.95it/s]\n",
            "Validation: 100%|██████████| 313/313 [00:21<00:00, 14.32it/s]\n"
          ]
        },
        {
          "output_type": "stream",
          "name": "stdout",
          "text": [
            "train_loss: 0.6619, train_accuracy: 0.7701, val_loss: 0.7150, val_accuracy: 0.7569, lr: 5.4271e-05\n",
            "\n",
            "Epoch  7/25:\n"
          ]
        },
        {
          "output_type": "stream",
          "name": "stderr",
          "text": [
            "Training: 100%|██████████| 1250/1250 [02:06<00:00,  9.85it/s]\n",
            "Validation: 100%|██████████| 313/313 [00:21<00:00, 14.90it/s]\n"
          ]
        },
        {
          "output_type": "stream",
          "name": "stdout",
          "text": [
            "train_loss: 0.6100, train_accuracy: 0.7879, val_loss: 0.6422, val_accuracy: 0.7813, lr: 5.1869e-05\n",
            "\n",
            "Epoch  8/25:\n"
          ]
        },
        {
          "output_type": "stream",
          "name": "stderr",
          "text": [
            "Training: 100%|██████████| 1250/1250 [02:06<00:00,  9.87it/s]\n",
            "Validation: 100%|██████████| 313/313 [00:20<00:00, 14.92it/s]\n"
          ]
        },
        {
          "output_type": "stream",
          "name": "stdout",
          "text": [
            "train_loss: 0.5594, train_accuracy: 0.8070, val_loss: 0.6199, val_accuracy: 0.7877, lr: 4.9123e-05\n",
            "\n",
            "Epoch  9/25:\n"
          ]
        },
        {
          "output_type": "stream",
          "name": "stderr",
          "text": [
            "Training: 100%|██████████| 1250/1250 [02:07<00:00,  9.84it/s]\n",
            "Validation: 100%|██████████| 313/313 [00:20<00:00, 15.14it/s]\n"
          ]
        },
        {
          "output_type": "stream",
          "name": "stdout",
          "text": [
            "train_loss: 0.5222, train_accuracy: 0.8189, val_loss: 0.5733, val_accuracy: 0.8062, lr: 4.6075e-05\n",
            "\n",
            "Epoch 10/25:\n"
          ]
        },
        {
          "output_type": "stream",
          "name": "stderr",
          "text": [
            "Training: 100%|██████████| 1250/1250 [02:04<00:00, 10.02it/s]\n",
            "Validation: 100%|██████████| 313/313 [00:20<00:00, 15.36it/s]\n"
          ]
        },
        {
          "output_type": "stream",
          "name": "stdout",
          "text": [
            "train_loss: 0.4903, train_accuracy: 0.8304, val_loss: 0.5667, val_accuracy: 0.8036, lr: 4.2773e-05\n",
            "\n",
            "Epoch 11/25:\n"
          ]
        },
        {
          "output_type": "stream",
          "name": "stderr",
          "text": [
            "Training: 100%|██████████| 1250/1250 [02:05<00:00,  9.94it/s]\n",
            "Validation: 100%|██████████| 313/313 [00:20<00:00, 15.19it/s]\n"
          ]
        },
        {
          "output_type": "stream",
          "name": "stdout",
          "text": [
            "train_loss: 0.4535, train_accuracy: 0.8446, val_loss: 0.5141, val_accuracy: 0.8220, lr: 3.9271e-05\n",
            "\n",
            "Epoch 12/25:\n"
          ]
        },
        {
          "output_type": "stream",
          "name": "stderr",
          "text": [
            "Training: 100%|██████████| 1250/1250 [02:04<00:00, 10.02it/s]\n",
            "Validation: 100%|██████████| 313/313 [00:20<00:00, 15.48it/s]\n"
          ]
        },
        {
          "output_type": "stream",
          "name": "stdout",
          "text": [
            "train_loss: 0.4243, train_accuracy: 0.8532, val_loss: 0.5124, val_accuracy: 0.8276, lr: 3.5621e-05\n",
            "\n",
            "Epoch 13/25:\n"
          ]
        },
        {
          "output_type": "stream",
          "name": "stderr",
          "text": [
            "Training: 100%|██████████| 1250/1250 [02:05<00:00,  9.95it/s]\n",
            "Validation: 100%|██████████| 313/313 [00:20<00:00, 15.44it/s]\n"
          ]
        },
        {
          "output_type": "stream",
          "name": "stdout",
          "text": [
            "train_loss: 0.3945, train_accuracy: 0.8645, val_loss: 0.4849, val_accuracy: 0.8360, lr: 3.1884e-05\n",
            "\n",
            "Epoch 14/25:\n"
          ]
        },
        {
          "output_type": "stream",
          "name": "stderr",
          "text": [
            "Training: 100%|██████████| 1250/1250 [02:04<00:00, 10.08it/s]\n",
            "Validation: 100%|██████████| 313/313 [00:22<00:00, 13.89it/s]\n"
          ]
        },
        {
          "output_type": "stream",
          "name": "stdout",
          "text": [
            "train_loss: 0.3730, train_accuracy: 0.8711, val_loss: 0.4713, val_accuracy: 0.8410, lr: 2.8116e-05\n",
            "\n",
            "Epoch 15/25:\n"
          ]
        },
        {
          "output_type": "stream",
          "name": "stderr",
          "text": [
            "Training: 100%|██████████| 1250/1250 [02:04<00:00, 10.05it/s]\n",
            "Validation: 100%|██████████| 313/313 [00:20<00:00, 15.45it/s]\n"
          ]
        },
        {
          "output_type": "stream",
          "name": "stdout",
          "text": [
            "train_loss: 0.3440, train_accuracy: 0.8810, val_loss: 0.4633, val_accuracy: 0.8412, lr: 2.4379e-05\n",
            "\n",
            "Epoch 16/25:\n"
          ]
        },
        {
          "output_type": "stream",
          "name": "stderr",
          "text": [
            "Training: 100%|██████████| 1250/1250 [02:05<00:00,  9.97it/s]\n",
            "Validation: 100%|██████████| 313/313 [00:20<00:00, 15.33it/s]\n"
          ]
        },
        {
          "output_type": "stream",
          "name": "stdout",
          "text": [
            "train_loss: 0.3225, train_accuracy: 0.8901, val_loss: 0.4303, val_accuracy: 0.8560, lr: 2.0729e-05\n",
            "\n",
            "Epoch 17/25:\n"
          ]
        },
        {
          "output_type": "stream",
          "name": "stderr",
          "text": [
            "Training: 100%|██████████| 1250/1250 [02:04<00:00, 10.06it/s]\n",
            "Validation: 100%|██████████| 313/313 [00:20<00:00, 15.37it/s]\n"
          ]
        },
        {
          "output_type": "stream",
          "name": "stdout",
          "text": [
            "train_loss: 0.3008, train_accuracy: 0.8976, val_loss: 0.4270, val_accuracy: 0.8513, lr: 1.7227e-05\n",
            "\n",
            "Epoch 18/25:\n"
          ]
        },
        {
          "output_type": "stream",
          "name": "stderr",
          "text": [
            "Training: 100%|██████████| 1250/1250 [02:05<00:00,  9.96it/s]\n",
            "Validation: 100%|██████████| 313/313 [00:20<00:00, 15.29it/s]\n"
          ]
        },
        {
          "output_type": "stream",
          "name": "stdout",
          "text": [
            "train_loss: 0.2870, train_accuracy: 0.9002, val_loss: 0.4249, val_accuracy: 0.8566, lr: 1.3925e-05\n",
            "\n",
            "Epoch 19/25:\n"
          ]
        },
        {
          "output_type": "stream",
          "name": "stderr",
          "text": [
            "Training: 100%|██████████| 1250/1250 [02:04<00:00, 10.06it/s]\n",
            "Validation: 100%|██████████| 313/313 [00:20<00:00, 15.39it/s]\n"
          ]
        },
        {
          "output_type": "stream",
          "name": "stdout",
          "text": [
            "train_loss: 0.2683, train_accuracy: 0.9090, val_loss: 0.4175, val_accuracy: 0.8552, lr: 1.0877e-05\n",
            "\n",
            "Epoch 20/25:\n"
          ]
        },
        {
          "output_type": "stream",
          "name": "stderr",
          "text": [
            "Training: 100%|██████████| 1250/1250 [02:05<00:00,  9.97it/s]\n",
            "Validation: 100%|██████████| 313/313 [00:20<00:00, 15.57it/s]\n"
          ]
        },
        {
          "output_type": "stream",
          "name": "stdout",
          "text": [
            "train_loss: 0.2569, train_accuracy: 0.9116, val_loss: 0.4041, val_accuracy: 0.8637, lr: 8.1309e-06\n",
            "\n",
            "Epoch 21/25:\n"
          ]
        },
        {
          "output_type": "stream",
          "name": "stderr",
          "text": [
            "Training: 100%|██████████| 1250/1250 [02:04<00:00, 10.07it/s]\n",
            "Validation: 100%|██████████| 313/313 [00:22<00:00, 14.04it/s]\n"
          ]
        },
        {
          "output_type": "stream",
          "name": "stdout",
          "text": [
            "train_loss: 0.2475, train_accuracy: 0.9168, val_loss: 0.4130, val_accuracy: 0.8608, lr: 5.7295e-06\n",
            "\n",
            "Epoch 22/25:\n"
          ]
        },
        {
          "output_type": "stream",
          "name": "stderr",
          "text": [
            "Training: 100%|██████████| 1250/1250 [02:03<00:00, 10.09it/s]\n",
            "Validation: 100%|██████████| 313/313 [00:20<00:00, 15.24it/s]\n"
          ]
        },
        {
          "output_type": "stream",
          "name": "stdout",
          "text": [
            "train_loss: 0.2348, train_accuracy: 0.9215, val_loss: 0.4017, val_accuracy: 0.8611, lr: 3.7108e-06\n",
            "\n",
            "Epoch 23/25:\n"
          ]
        },
        {
          "output_type": "stream",
          "name": "stderr",
          "text": [
            "Training: 100%|██████████| 1250/1250 [02:05<00:00,  9.95it/s]\n",
            "Validation: 100%|██████████| 313/313 [00:20<00:00, 15.52it/s]\n"
          ]
        },
        {
          "output_type": "stream",
          "name": "stdout",
          "text": [
            "train_loss: 0.2289, train_accuracy: 0.9232, val_loss: 0.4034, val_accuracy: 0.8645, lr: 2.1067e-06\n",
            "\n",
            "Epoch 24/25:\n"
          ]
        },
        {
          "output_type": "stream",
          "name": "stderr",
          "text": [
            "Training: 100%|██████████| 1250/1250 [02:04<00:00, 10.08it/s]\n",
            "Validation: 100%|██████████| 313/313 [00:20<00:00, 15.57it/s]\n"
          ]
        },
        {
          "output_type": "stream",
          "name": "stdout",
          "text": [
            "train_loss: 0.2227, train_accuracy: 0.9247, val_loss: 0.3964, val_accuracy: 0.8686, lr: 9.4251e-07\n",
            "\n",
            "Epoch 25/25:\n"
          ]
        },
        {
          "output_type": "stream",
          "name": "stderr",
          "text": [
            "Training: 100%|██████████| 1250/1250 [02:05<00:00, 10.00it/s]\n",
            "Validation: 100%|██████████| 313/313 [00:19<00:00, 15.70it/s]\n"
          ]
        },
        {
          "output_type": "stream",
          "name": "stdout",
          "text": [
            "\n",
            "train_loss: 0.2221, train_accuracy: 0.9247, val_loss: 0.3975, val_accuracy: 0.8678, lr: 2.3656e-07\n"
          ]
        }
      ]
    },
    {
      "cell_type": "markdown",
      "source": [
        "## Models Testing"
      ],
      "metadata": {
        "id": "I6gNoTUjPqvL"
      }
    },
    {
      "cell_type": "markdown",
      "source": [
        "In this section, all the models are tested using the test set of CIFAR-10. To do so, the `test` function has been defined."
      ],
      "metadata": {
        "id": "R4HG9fTbF4Fq"
      }
    },
    {
      "cell_type": "code",
      "source": [
        "# Tests a model.\n",
        "def test(model, test_loader):\n",
        "  \n",
        "  # Testing.\n",
        "  model.eval()\n",
        "\n",
        "  # Predictions and ground truth.\n",
        "  y_pred = []\n",
        "  y_true = []\n",
        "\n",
        "  with torch.no_grad():\n",
        "\n",
        "    # Iterating over mini-batches.\n",
        "    for batch in tqdm(test_loader, desc = \"Testing\", position = 0):\n",
        "\n",
        "      # Moving x and y to GPU.\n",
        "      x = batch[0].to(device)\n",
        "      y = batch[1].to(device)\n",
        "\n",
        "      # Predictions.\n",
        "      yhat = model(x)\n",
        "\n",
        "      # Updating variables.\n",
        "      y_pred.extend(torch.argmax(yhat, 1).tolist())\n",
        "      y_true.extend(y.tolist())\n",
        "\n",
        "  # Returning pred and true.\n",
        "  return y_pred, y_true"
      ],
      "metadata": {
        "id": "5rZ1c0YXrwtR"
      },
      "execution_count": null,
      "outputs": []
    },
    {
      "cell_type": "markdown",
      "source": [
        "For every possible model, the predicted labels are computed. Moreover, the test accuracy of each model is saved into a `.npy` file, so as to use such value to evaluate the model's performances against all other models. Lastly, the classification report is computed and printed.\n",
        "\n",
        "All models achieve almost the same performances (precision, recall, F1-score, and accuracy). However, ResNet-18's results are slightly lower than the results obtained by all other models."
      ],
      "metadata": {
        "id": "CnE4dlJCGN_G"
      }
    },
    {
      "cell_type": "markdown",
      "source": [
        "### Lightweight MHSA model ($m_1$)"
      ],
      "metadata": {
        "id": "ClULEfjlPu56"
      }
    },
    {
      "cell_type": "code",
      "source": [
        "# Testing the model.\n",
        "y_pred, y_true = test(m_1, test_loader)\n",
        "\n",
        "# Computing and saving accuracy.\n",
        "np.save(\"m_1_accuracy.npy\", sum(1 for pred, true in zip(y_pred, y_true) if pred == true) / len(y_true))"
      ],
      "metadata": {
        "id": "gRr29r0ASG8b",
        "colab": {
          "base_uri": "https://localhost:8080/"
        },
        "outputId": "2c906473-82b2-4ffd-89c7-c77dc2a6959a"
      },
      "execution_count": null,
      "outputs": [
        {
          "output_type": "stream",
          "name": "stderr",
          "text": [
            "Testing: 100%|██████████| 313/313 [00:25<00:00, 12.31it/s]\n"
          ]
        }
      ]
    },
    {
      "cell_type": "code",
      "source": [
        "# Classification report.\n",
        "print(classification_report(y_true, y_pred))"
      ],
      "metadata": {
        "id": "g3cCodaVUdpy",
        "colab": {
          "base_uri": "https://localhost:8080/"
        },
        "outputId": "95331151-f772-4e0c-c673-0e7f10088aba"
      },
      "execution_count": null,
      "outputs": [
        {
          "output_type": "stream",
          "name": "stdout",
          "text": [
            "              precision    recall  f1-score   support\n",
            "\n",
            "           0       0.89      0.91      0.90      1000\n",
            "           1       0.95      0.95      0.95      1000\n",
            "           2       0.88      0.85      0.86      1000\n",
            "           3       0.77      0.78      0.77      1000\n",
            "           4       0.87      0.90      0.88      1000\n",
            "           5       0.84      0.80      0.82      1000\n",
            "           6       0.92      0.93      0.92      1000\n",
            "           7       0.93      0.92      0.92      1000\n",
            "           8       0.94      0.94      0.94      1000\n",
            "           9       0.93      0.94      0.94      1000\n",
            "\n",
            "    accuracy                           0.89     10000\n",
            "   macro avg       0.89      0.89      0.89     10000\n",
            "weighted avg       0.89      0.89      0.89     10000\n",
            "\n"
          ]
        }
      ]
    },
    {
      "cell_type": "markdown",
      "source": [
        "### Standard MHSA model ($m_2$)"
      ],
      "metadata": {
        "id": "Fkjn8hY6P0tX"
      }
    },
    {
      "cell_type": "code",
      "source": [
        "# Testing the model.\n",
        "y_pred, y_true = test(m_2, test_loader)\n",
        "\n",
        "# Computing and saving accuracy.\n",
        "np.save(\"m_2_accuracy.npy\", sum(1 for pred, true in zip(y_pred, y_true) if pred == true) / len(y_true))"
      ],
      "metadata": {
        "id": "PbS-9WWnD59a",
        "colab": {
          "base_uri": "https://localhost:8080/"
        },
        "outputId": "4ed68052-1940-4af8-8053-d8b7908dad5e"
      },
      "execution_count": null,
      "outputs": [
        {
          "output_type": "stream",
          "name": "stderr",
          "text": [
            "Testing: 100%|██████████| 313/313 [01:03<00:00,  4.94it/s]\n"
          ]
        }
      ]
    },
    {
      "cell_type": "code",
      "source": [
        "# Classification report.\n",
        "print(classification_report(y_true, y_pred))"
      ],
      "metadata": {
        "id": "kmsQqiWhD_eH",
        "colab": {
          "base_uri": "https://localhost:8080/"
        },
        "outputId": "3ac12f1d-0cd6-4721-d275-880222e1c07d"
      },
      "execution_count": null,
      "outputs": [
        {
          "output_type": "stream",
          "name": "stdout",
          "text": [
            "              precision    recall  f1-score   support\n",
            "\n",
            "           0       0.89      0.90      0.89      1000\n",
            "           1       0.95      0.94      0.95      1000\n",
            "           2       0.89      0.81      0.85      1000\n",
            "           3       0.76      0.75      0.75      1000\n",
            "           4       0.86      0.89      0.88      1000\n",
            "           5       0.82      0.82      0.82      1000\n",
            "           6       0.91      0.92      0.91      1000\n",
            "           7       0.93      0.92      0.92      1000\n",
            "           8       0.93      0.94      0.93      1000\n",
            "           9       0.90      0.95      0.93      1000\n",
            "\n",
            "    accuracy                           0.88     10000\n",
            "   macro avg       0.88      0.88      0.88     10000\n",
            "weighted avg       0.88      0.88      0.88     10000\n",
            "\n"
          ]
        }
      ]
    },
    {
      "cell_type": "markdown",
      "source": [
        "### No attention model ($m_3$) "
      ],
      "metadata": {
        "id": "Xen_6qHLP4NB"
      }
    },
    {
      "cell_type": "code",
      "source": [
        "# Testing the model.\n",
        "y_pred, y_true = test(m_3, test_loader)\n",
        "\n",
        "# Computing and saving accuracy.\n",
        "np.save(\"m_3_accuracy.npy\", sum(1 for pred, true in zip(y_pred, y_true) if pred == true) / len(y_true))"
      ],
      "metadata": {
        "id": "pz98i9pyFnk0",
        "colab": {
          "base_uri": "https://localhost:8080/"
        },
        "outputId": "86ae27ed-058d-4be6-8096-75f5c753c7a2"
      },
      "execution_count": null,
      "outputs": [
        {
          "output_type": "stream",
          "name": "stderr",
          "text": [
            "Testing: 100%|██████████| 313/313 [00:19<00:00, 15.74it/s]\n"
          ]
        }
      ]
    },
    {
      "cell_type": "code",
      "source": [
        "# Classification report.\n",
        "print(classification_report(y_true, y_pred))"
      ],
      "metadata": {
        "id": "UHQV3I6gFp2I",
        "colab": {
          "base_uri": "https://localhost:8080/"
        },
        "outputId": "3e0d0884-0837-44a8-db9f-d4fb6547acab"
      },
      "execution_count": null,
      "outputs": [
        {
          "output_type": "stream",
          "name": "stdout",
          "text": [
            "              precision    recall  f1-score   support\n",
            "\n",
            "           0       0.90      0.90      0.90      1000\n",
            "           1       0.95      0.95      0.95      1000\n",
            "           2       0.85      0.87      0.86      1000\n",
            "           3       0.78      0.77      0.77      1000\n",
            "           4       0.88      0.88      0.88      1000\n",
            "           5       0.84      0.82      0.83      1000\n",
            "           6       0.92      0.92      0.92      1000\n",
            "           7       0.92      0.92      0.92      1000\n",
            "           8       0.93      0.95      0.94      1000\n",
            "           9       0.94      0.94      0.94      1000\n",
            "\n",
            "    accuracy                           0.89     10000\n",
            "   macro avg       0.89      0.89      0.89     10000\n",
            "weighted avg       0.89      0.89      0.89     10000\n",
            "\n"
          ]
        }
      ]
    },
    {
      "cell_type": "markdown",
      "source": [
        "### ResNet-18 ($m_4$)"
      ],
      "metadata": {
        "id": "YcLP1vBnmayl"
      }
    },
    {
      "cell_type": "code",
      "source": [
        "# Testing the model.\n",
        "y_pred, y_true = test(m_4, test_loader)\n",
        "\n",
        "# Computing and saving accuracy.\n",
        "np.save(\"m_4_accuracy.npy\", sum(1 for pred, true in zip(y_pred, y_true) if pred == true) / len(y_true))"
      ],
      "metadata": {
        "colab": {
          "base_uri": "https://localhost:8080/"
        },
        "id": "CMdwUtgmmcrd",
        "outputId": "f0dee11e-cf3a-483d-82be-dea5cde90823"
      },
      "execution_count": null,
      "outputs": [
        {
          "output_type": "stream",
          "name": "stderr",
          "text": [
            "Testing: 100%|██████████| 313/313 [00:18<00:00, 17.35it/s]\n"
          ]
        }
      ]
    },
    {
      "cell_type": "code",
      "source": [
        "# Classification report.\n",
        "print(classification_report(y_true, y_pred))"
      ],
      "metadata": {
        "colab": {
          "base_uri": "https://localhost:8080/"
        },
        "id": "cSqT3JOjmeiU",
        "outputId": "03a14a99-c771-4e76-b1a8-2a23c55f7a97"
      },
      "execution_count": null,
      "outputs": [
        {
          "output_type": "stream",
          "name": "stdout",
          "text": [
            "              precision    recall  f1-score   support\n",
            "\n",
            "           0       0.86      0.91      0.89      1000\n",
            "           1       0.95      0.95      0.95      1000\n",
            "           2       0.82      0.84      0.83      1000\n",
            "           3       0.74      0.77      0.76      1000\n",
            "           4       0.88      0.86      0.87      1000\n",
            "           5       0.83      0.79      0.81      1000\n",
            "           6       0.92      0.90      0.91      1000\n",
            "           7       0.92      0.89      0.91      1000\n",
            "           8       0.92      0.94      0.93      1000\n",
            "           9       0.92      0.93      0.93      1000\n",
            "\n",
            "    accuracy                           0.88     10000\n",
            "   macro avg       0.88      0.88      0.88     10000\n",
            "weighted avg       0.88      0.88      0.88     10000\n",
            "\n"
          ]
        }
      ]
    },
    {
      "cell_type": "markdown",
      "source": [
        "## Results"
      ],
      "metadata": {
        "id": "d5MU-6pmrYiq"
      }
    },
    {
      "cell_type": "markdown",
      "source": [
        "Once the performances of all models have been evaluated, the computed results are analysed by studying validation accuracy/loss trends during the training phase, and by comparing test accuracy vs. number of FLOPs."
      ],
      "metadata": {
        "id": "X9dn3oiuIzAf"
      }
    },
    {
      "cell_type": "code",
      "source": [
        "# Training histories.\n",
        "histories = {}\n",
        "\n",
        "# Test accuracies.\n",
        "test_acc = {}\n",
        "\n",
        "# Names.\n",
        "m_names = [\"m_1\", \"m_2\", \"m_3\", \"m_4\"]\n",
        "\n",
        "# Reading histories and test accuracies.\n",
        "for name in m_names:\n",
        "  with open(f\"{name}_history.pkl\", \"rb\") as f: \n",
        "    histories[name] = pickle.load(f)\n",
        "  test_acc[name] = float(np.load(f\"{name}_accuracy.npy\"))\n",
        "\n",
        "# FLOPs. These values are taken from the cells above.\n",
        "flops = {\n",
        "    \"m_1\": 1.31e9,\n",
        "    \"m_2\": 3.56e9,\n",
        "    \"m_3\": 0.95e9,\n",
        "    \"m_4\": 1.83e9\n",
        "}\n",
        "\n",
        "# Texts.\n",
        "texts = {\n",
        "    \"m_1\": \"CMT w/ lightweight attn\",\n",
        "    \"m_2\": \"CMT w/ standard attn\",\n",
        "    \"m_3\": \"CMT w/o attn\",\n",
        "    \"m_4\": \"ResNet-18\"\n",
        "}"
      ],
      "metadata": {
        "id": "8Mgw9t9dtsEc"
      },
      "execution_count": 4,
      "outputs": []
    },
    {
      "cell_type": "markdown",
      "source": [
        "First, for each model, the validation accuracy and loss are plotted. In particular, one can notice how all CMT models perform better than ResNet-18 for the first epochs, while the ResNet model is able to converge to (almost) the same results of CMT only in the last few epochs."
      ],
      "metadata": {
        "id": "H_1mqEhoJ3-c"
      }
    },
    {
      "cell_type": "code",
      "source": [
        "# Creating the figure and axes.\n",
        "fig, (ax1, ax2) = plt.subplots(1, 2, figsize = (14, 4))\n",
        "\n",
        "# Inset plots.\n",
        "ax1_ins = inset_axes(ax1, 0.75, 1, loc = \"upper left\", bbox_to_anchor = (0.4, 0.85), bbox_transform=ax1.transAxes)\n",
        "ax2_ins = inset_axes(ax2, 0.75, 1, loc = \"upper left\", bbox_to_anchor = (1.6, 0.55), bbox_transform=ax1.transAxes)\n",
        "\n",
        "# Iterating over models.\n",
        "for name in m_names:\n",
        "\n",
        "  # Computing the x axis array.\n",
        "  x = np.linspace(1, len(histories[name][\"val_loss\"]), len(histories[name][\"val_loss\"]), dtype = int)\n",
        "\n",
        "  # Plotting.\n",
        "  ax1.plot(x, histories[name][\"val_loss\"], label = r\"${}$\".format(name))\n",
        "  ax2.plot(x, histories[name][\"val_accuracy\"], label = r\"${}$\".format(name))\n",
        "  ax1_ins.plot(x, histories[name][\"val_loss\"])\n",
        "  ax2_ins.plot(x, histories[name][\"val_accuracy\"])\n",
        "\n",
        "x1_min, x1_max, y1_min, y1_max = 24, 25.1, 0.375, 0.41\n",
        "x2_min, x2_max, y2_min, y2_max = 24, 25.1, 0.855, 0.89\n",
        "\n",
        "ax1_ins.set_xlim(x1_min, x1_max)\n",
        "ax1_ins.set_ylim(y1_min, y1_max)\n",
        "ax2_ins.set_xlim(x2_min, x2_max)\n",
        "ax2_ins.set_ylim(y2_min, y2_max)\n",
        "\n",
        "mark_inset(ax1, ax1_ins, loc1 = 1, loc2 = 3)\n",
        "mark_inset(ax2, ax2_ins, loc1 = 2, loc2 = 4)\n",
        "\n",
        "ax1.set_ylabel(\"Validation loss\")\n",
        "ax1.set_xlabel(\"Epoch\")\n",
        "ax1.set_xticks(x)\n",
        "ax1.legend()\n",
        "\n",
        "ax2.set_ylabel(\"Validation accuracy\")\n",
        "ax2.set_xlabel(\"Epoch\")\n",
        "ax2.set_xticks(x)\n",
        "ax2.legend()\n",
        "\n",
        "plt.show()"
      ],
      "metadata": {
        "id": "0CFLAgAvPK_5",
        "colab": {
          "base_uri": "https://localhost:8080/",
          "height": 279
        },
        "outputId": "2e61f03b-57c8-43c4-abb3-2f69c2e511cf"
      },
      "execution_count": 5,
      "outputs": [
        {
          "output_type": "display_data",
          "data": {
            "text/plain": [
              "<Figure size 1008x288 with 4 Axes>"
            ],
            "image/png": "[encoded data removed]"
          },
          "metadata": {
            "needs_background": "light"
          }
        }
      ]
    },
    {
      "cell_type": "markdown",
      "source": [
        "Lastly, the following plot shows how $m_1$ (i.e. CMT-Ti with lightweight attention) and $m_3$ (i.e. CMT-Ti with no attention) are the best performing models. Moreover, it is also possible to notice how $m_2$ (i.e. CMT-Ti with standard attention) performs slightly worse than all other CMT models. As already mentioned, ResNet-18 is the worst performing model in terms of accuracy."
      ],
      "metadata": {
        "id": "rMRnJ8N9LCc3"
      }
    },
    {
      "cell_type": "code",
      "source": [
        "# Creating the figure and axes.\n",
        "fig, ax = plt.subplots(1, 1, figsize = (6.15, 4))\n",
        "\n",
        "# Plotting test accuracy vs. FLOPs.\n",
        "ax.plot([flops[\"m_3\"], flops[\"m_1\"], flops[\"m_2\"]], [test_acc[\"m_3\"], test_acc[\"m_1\"], test_acc[\"m_2\"]], \"--\", marker = \"x\")\n",
        "ax.plot(flops[\"m_4\"], test_acc[\"m_4\"], \"--\", marker = \"+\")\n",
        "\n",
        "# Plotting texts.\n",
        "ax.text(flops[\"m_1\"] + 0.60e9, test_acc[\"m_1\"],          texts[\"m_1\"], ha = \"center\", va = \"center\")\n",
        "ax.text(flops[\"m_2\"] - 0.40e9, test_acc[\"m_2\"] - 0.0007, texts[\"m_2\"], ha = \"center\", va = \"center\")\n",
        "ax.text(flops[\"m_3\"] + 0.20e9, test_acc[\"m_3\"] - 0.0007, texts[\"m_3\"], ha = \"center\", va = \"center\")\n",
        "ax.text(flops[\"m_4\"],          test_acc[\"m_4\"] + 0.0007, texts[\"m_4\"], ha = \"center\", va = \"center\")\n",
        "\n",
        "ax.set_ylabel(\"Test accuracy\")\n",
        "ax.set_xlabel(\"FLOPs\")\n",
        "\n",
        "plt.show()"
      ],
      "metadata": {
        "id": "o9aL0XMlPRGN",
        "colab": {
          "base_uri": "https://localhost:8080/",
          "height": 283
        },
        "outputId": "e570a898-9a9b-487a-c21b-3e5dd97048a0"
      },
      "execution_count": 6,
      "outputs": [
        {
          "output_type": "display_data",
          "data": {
            "text/plain": [
              "<Figure size 442.8x288 with 1 Axes>"
            ],
            "image/png": "[encoded data removed]"
          },
          "metadata": {
            "needs_background": "light"
          }
        }
      ]
    },
    {
      "cell_type": "markdown",
      "source": [
        "This study suggests that, for the specific problem at hand, a CMT-Ti without attention is able to reach the same results of attention-based models, while also requiring a smaller number of FLOPs. However, results may vary when considering other problems/training settings. Unfortunately, due to the lack of computational resources, it was not possible to compare the characteristics of such models on different problems.\n",
        "\n",
        "Moreover, the authors of CMT explicitely state how the CIFAR-10 images are upsampled from $32 \\times 32$ to $224 \\times 224$ images. Thus, the aforementioned performances could be due to such transformation. Future improvements of this work could try to modify the CMT architecture to be able to deal with $32 \\times 32$ signals.\n",
        "\n",
        "Despite the ability of computing long-range dependencies, standard multi-head self-attention did not perform as well as lightweight multi-head self-attention. Again, this could be due to the upsampled input resolution.\n",
        "\n",
        "Lastly, it is also possible to notice how ResNet-18 is outperformed by all other models. This could be due to the specific setting used to train the models. Indeed, the original ResNet paper<sup>[[2]](#references)</sup> specifies a different training recipe. However, to be able to properly compare performances of all the aforementioned models, this notebook uses the same training procedure for all architectures."
      ],
      "metadata": {
        "id": "rI5urTFUM9uk"
      }
    },
    {
      "cell_type": "markdown",
      "source": [
        "## References <a name=\"references\"></a>"
      ],
      "metadata": {
        "id": "PHqUD8h6Gzb8"
      }
    },
    {
      "cell_type": "markdown",
      "source": [
        "1. Jianyuan Guo, Kai Han, Han Wu, Chang Xu, Yehui Tang, Chunjing Xu and Yunhe Wang. CMT: Convolutional Neural Networks Meet Vision Transformers, 2021. [https://arxiv.org/abs/2107.06263](https://arxiv.org/abs/2107.06263).\n",
        "\n",
        "2. Kaiming He, Xiangyu Zhang, Shaoqing Ren, Jian Sun. Deep Residual Learning for Image Recognition, 2015. [https://arxiv.org/abs/1512.03385](https://arxiv.org/abs/1512.03385)."
      ],
      "metadata": {
        "id": "mVKK69jfHAuM"
      }
    }
  ]
}